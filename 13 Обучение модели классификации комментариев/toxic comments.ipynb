{
 "cells": [
  {
   "cell_type": "markdown",
   "metadata": {
    "toc": true
   },
   "source": [
    "<h1>Содержание<span class=\"tocSkip\"></span></h1>\n",
    "<div class=\"toc\"><ul class=\"toc-item\"><li><span><a href=\"#Подготовка\" data-toc-modified-id=\"Подготовка-1\"><span class=\"toc-item-num\">1&nbsp;&nbsp;</span>Подготовка</a></span></li><li><span><a href=\"#Обучение\" data-toc-modified-id=\"Обучение-2\"><span class=\"toc-item-num\">2&nbsp;&nbsp;</span>Обучение</a></span></li><li><span><a href=\"#Выводы\" data-toc-modified-id=\"Выводы-3\"><span class=\"toc-item-num\">3&nbsp;&nbsp;</span>Выводы</a></span></li><li><span><a href=\"#Чек-лист-проверки\" data-toc-modified-id=\"Чек-лист-проверки-4\"><span class=\"toc-item-num\">4&nbsp;&nbsp;</span>Чек-лист проверки</a></span></li></ul></div>"
   ]
  },
  {
   "cell_type": "markdown",
   "metadata": {},
   "source": [
    "# Проект для «Викишоп»"
   ]
  },
  {
   "cell_type": "markdown",
   "metadata": {},
   "source": [
    "Интернет-магазин «Викишоп» запускает новый сервис. Теперь пользователи могут редактировать и дополнять описания товаров, как в вики-сообществах. То есть клиенты предлагают свои правки и комментируют изменения других. Магазину нужен инструмент, который будет искать токсичные комментарии и отправлять их на модерацию. \n",
    "\n",
    "Обучите модель классифицировать комментарии на позитивные и негативные. В вашем распоряжении набор данных с разметкой о токсичности правок.\n",
    "\n",
    "Постройте модель со значением метрики качества *F1* не меньше 0.75. \n",
    "\n",
    "**Инструкция по выполнению проекта**\n",
    "\n",
    "1. Загрузите и подготовьте данные.\n",
    "2. Обучите разные модели. \n",
    "3. Сделайте выводы.\n",
    "\n",
    "Для выполнения проекта применять *BERT* необязательно, но вы можете попробовать.\n",
    "\n",
    "**Описание данных**\n",
    "\n",
    "Данные находятся в файле `toxic_comments.csv`. Столбец *text* в нём содержит текст комментария, а *toxic* — целевой признак."
   ]
  },
  {
   "cell_type": "markdown",
   "metadata": {},
   "source": [
    "## Подготовка"
   ]
  },
  {
   "cell_type": "code",
   "execution_count": 1,
   "metadata": {},
   "outputs": [
    {
     "name": "stderr",
     "output_type": "stream",
     "text": [
      "[nltk_data] Downloading package wordnet to /home/jovyan/nltk_data...\n",
      "[nltk_data]   Package wordnet is already up-to-date!\n",
      "[nltk_data] Downloading package stopwords to /home/jovyan/nltk_data...\n",
      "[nltk_data]   Package stopwords is already up-to-date!\n"
     ]
    }
   ],
   "source": [
    "import numpy as np\n",
    "import pandas as pd\n",
    "import re\n",
    "\n",
    "import nltk\n",
    "from nltk.stem.wordnet import WordNetLemmatizer\n",
    "from nltk.corpus import stopwords\n",
    "nltk.download('wordnet')\n",
    "nltk.download('stopwords')\n",
    "\n",
    "\n",
    "from pymystem3 import Mystem\n",
    "\n",
    "import imblearn\n",
    "from imblearn.over_sampling import SMOTE\n",
    "\n",
    "\n",
    "from sklearn.model_selection import train_test_split, GridSearchCV\n",
    "from sklearn.feature_extraction.text import TfidfVectorizer\n",
    "from sklearn.metrics import f1_score\n",
    "from sklearn.linear_model import LogisticRegression\n",
    "from sklearn.pipeline import Pipeline\n",
    "\n",
    "from catboost import CatBoostClassifier\n",
    "from lightgbm import LGBMClassifier"
   ]
  },
  {
   "cell_type": "code",
   "execution_count": 2,
   "metadata": {},
   "outputs": [],
   "source": [
    "data = pd.read_csv('/datasets/toxic_comments.csv', index_col=0)"
   ]
  },
  {
   "cell_type": "code",
   "execution_count": 3,
   "metadata": {},
   "outputs": [
    {
     "data": {
      "text/html": [
       "<div>\n",
       "<style scoped>\n",
       "    .dataframe tbody tr th:only-of-type {\n",
       "        vertical-align: middle;\n",
       "    }\n",
       "\n",
       "    .dataframe tbody tr th {\n",
       "        vertical-align: top;\n",
       "    }\n",
       "\n",
       "    .dataframe thead th {\n",
       "        text-align: right;\n",
       "    }\n",
       "</style>\n",
       "<table border=\"1\" class=\"dataframe\">\n",
       "  <thead>\n",
       "    <tr style=\"text-align: right;\">\n",
       "      <th></th>\n",
       "      <th>text</th>\n",
       "      <th>toxic</th>\n",
       "    </tr>\n",
       "  </thead>\n",
       "  <tbody>\n",
       "    <tr>\n",
       "      <th>0</th>\n",
       "      <td>Explanation\\nWhy the edits made under my usern...</td>\n",
       "      <td>0</td>\n",
       "    </tr>\n",
       "    <tr>\n",
       "      <th>1</th>\n",
       "      <td>D'aww! He matches this background colour I'm s...</td>\n",
       "      <td>0</td>\n",
       "    </tr>\n",
       "    <tr>\n",
       "      <th>2</th>\n",
       "      <td>Hey man, I'm really not trying to edit war. It...</td>\n",
       "      <td>0</td>\n",
       "    </tr>\n",
       "    <tr>\n",
       "      <th>3</th>\n",
       "      <td>\"\\nMore\\nI can't make any real suggestions on ...</td>\n",
       "      <td>0</td>\n",
       "    </tr>\n",
       "    <tr>\n",
       "      <th>4</th>\n",
       "      <td>You, sir, are my hero. Any chance you remember...</td>\n",
       "      <td>0</td>\n",
       "    </tr>\n",
       "  </tbody>\n",
       "</table>\n",
       "</div>"
      ],
      "text/plain": [
       "                                                text  toxic\n",
       "0  Explanation\\nWhy the edits made under my usern...      0\n",
       "1  D'aww! He matches this background colour I'm s...      0\n",
       "2  Hey man, I'm really not trying to edit war. It...      0\n",
       "3  \"\\nMore\\nI can't make any real suggestions on ...      0\n",
       "4  You, sir, are my hero. Any chance you remember...      0"
      ]
     },
     "execution_count": 3,
     "metadata": {},
     "output_type": "execute_result"
    }
   ],
   "source": [
    "data.head()"
   ]
  },
  {
   "cell_type": "code",
   "execution_count": 4,
   "metadata": {},
   "outputs": [
    {
     "name": "stdout",
     "output_type": "stream",
     "text": [
      "<class 'pandas.core.frame.DataFrame'>\n",
      "Int64Index: 159292 entries, 0 to 159450\n",
      "Data columns (total 2 columns):\n",
      " #   Column  Non-Null Count   Dtype \n",
      "---  ------  --------------   ----- \n",
      " 0   text    159292 non-null  object\n",
      " 1   toxic   159292 non-null  int64 \n",
      "dtypes: int64(1), object(1)\n",
      "memory usage: 3.6+ MB\n"
     ]
    }
   ],
   "source": [
    "data.info()"
   ]
  },
  {
   "cell_type": "code",
   "execution_count": 5,
   "metadata": {},
   "outputs": [
    {
     "data": {
      "text/plain": [
       "0    0.898388\n",
       "1    0.101612\n",
       "Name: toxic, dtype: float64"
      ]
     },
     "execution_count": 5,
     "metadata": {},
     "output_type": "execute_result"
    }
   ],
   "source": [
    "data['toxic'].value_counts(normalize=True)"
   ]
  },
  {
   "cell_type": "code",
   "execution_count": 6,
   "metadata": {},
   "outputs": [
    {
     "name": "stdout",
     "output_type": "stream",
     "text": [
      "0    Explanation\\nWhy the edits made under my usern...\n",
      "1    D'aww! He matches this background colour I'm s...\n",
      "2    Hey man, I'm really not trying to edit war. It...\n",
      "3    \"\\nMore\\nI can't make any real suggestions on ...\n",
      "4    You, sir, are my hero. Any chance you remember...\n",
      "Name: text, dtype: object\n"
     ]
    }
   ],
   "source": [
    "print(data['text'].head())"
   ]
  },
  {
   "cell_type": "code",
   "execution_count": 7,
   "metadata": {},
   "outputs": [
    {
     "data": {
      "text/plain": [
       "array([\"Explanation\\nWhy the edits made under my username Hardcore Metallica Fan were reverted? They weren't vandalisms, just closure on some GAs after I voted at New York Dolls FAC. And please don't remove the template from the talk page since I'm retired now.89.205.38.27\",\n",
       "       \"D'aww! He matches this background colour I'm seemingly stuck with. Thanks.  (talk) 21:51, January 11, 2016 (UTC)\",\n",
       "       \"Hey man, I'm really not trying to edit war. It's just that this guy is constantly removing relevant information and talking to me through edits instead of my talk page. He seems to care more about the formatting than the actual info.\"],\n",
       "      dtype=object)"
      ]
     },
     "execution_count": 7,
     "metadata": {},
     "output_type": "execute_result"
    }
   ],
   "source": [
    "data['text'].head(3).values"
   ]
  },
  {
   "cell_type": "markdown",
   "metadata": {},
   "source": [
    "- Комментарии на английском языке\n",
    "- В данных нет пропусков.\n",
    "- Присутствует дисбаланс классов.\n",
    "- Присутствует спец. символы, даты и прочие цифры\n",
    "\n",
    "**Очистку и лемматизацию мы будем применять ко всему дата-сету.** Мы может это сделать, поскольку наша функция просто будет изменять признак, без обучения."
   ]
  },
  {
   "cell_type": "code",
   "execution_count": 8,
   "metadata": {},
   "outputs": [],
   "source": [
    "lmtzr = WordNetLemmatizer()\n",
    "\n",
    "def clear_text(text):\n",
    "    text = text.lower()\n",
    "    text = text.replace('\\'', '')\n",
    "    text = ' '.join(re.sub(r'[^a-z]', ' ', text).split()) \n",
    "    return text\n",
    "\n",
    "def lemmatize(text):\n",
    "    text = [lmtzr.lemmatize(word, 'v') for word in text.split()]\n",
    "    return ' '.join(text)"
   ]
  },
  {
   "cell_type": "code",
   "execution_count": 9,
   "metadata": {},
   "outputs": [
    {
     "data": {
      "text/plain": [
       "'explanation why the edit make under my username hardcore metallica fan be revert they werent vandalisms just closure on some gas after i vote at new york dolls fac and please dont remove the template from the talk page since im retire now'"
      ]
     },
     "execution_count": 9,
     "metadata": {},
     "output_type": "execute_result"
    }
   ],
   "source": [
    "lemmatize(clear_text(data['text'].values[0]))"
   ]
  },
  {
   "cell_type": "code",
   "execution_count": 10,
   "metadata": {},
   "outputs": [],
   "source": [
    "data['clear_text'] = data['text'].apply(clear_text) "
   ]
  },
  {
   "cell_type": "code",
   "execution_count": 11,
   "metadata": {},
   "outputs": [],
   "source": [
    "data['lemmatized'] = data['clear_text'].apply(lemmatize)"
   ]
  },
  {
   "cell_type": "markdown",
   "metadata": {},
   "source": [
    "Избавимся от дисбаланса классов на обучающей выборке"
   ]
  },
  {
   "cell_type": "code",
   "execution_count": 12,
   "metadata": {},
   "outputs": [
    {
     "data": {
      "text/html": [
       "<div>\n",
       "<style scoped>\n",
       "    .dataframe tbody tr th:only-of-type {\n",
       "        vertical-align: middle;\n",
       "    }\n",
       "\n",
       "    .dataframe tbody tr th {\n",
       "        vertical-align: top;\n",
       "    }\n",
       "\n",
       "    .dataframe thead th {\n",
       "        text-align: right;\n",
       "    }\n",
       "</style>\n",
       "<table border=\"1\" class=\"dataframe\">\n",
       "  <thead>\n",
       "    <tr style=\"text-align: right;\">\n",
       "      <th></th>\n",
       "      <th>text</th>\n",
       "      <th>toxic</th>\n",
       "      <th>clear_text</th>\n",
       "      <th>lemmatized</th>\n",
       "    </tr>\n",
       "  </thead>\n",
       "  <tbody>\n",
       "    <tr>\n",
       "      <th>0</th>\n",
       "      <td>Explanation\\nWhy the edits made under my usern...</td>\n",
       "      <td>0</td>\n",
       "      <td>explanation why the edits made under my userna...</td>\n",
       "      <td>explanation why the edit make under my usernam...</td>\n",
       "    </tr>\n",
       "    <tr>\n",
       "      <th>1</th>\n",
       "      <td>D'aww! He matches this background colour I'm s...</td>\n",
       "      <td>0</td>\n",
       "      <td>daww he matches this background colour im seem...</td>\n",
       "      <td>daww he match this background colour im seemin...</td>\n",
       "    </tr>\n",
       "    <tr>\n",
       "      <th>2</th>\n",
       "      <td>Hey man, I'm really not trying to edit war. It...</td>\n",
       "      <td>0</td>\n",
       "      <td>hey man im really not trying to edit war its j...</td>\n",
       "      <td>hey man im really not try to edit war its just...</td>\n",
       "    </tr>\n",
       "    <tr>\n",
       "      <th>3</th>\n",
       "      <td>\"\\nMore\\nI can't make any real suggestions on ...</td>\n",
       "      <td>0</td>\n",
       "      <td>more i cant make any real suggestions on impro...</td>\n",
       "      <td>more i cant make any real suggestions on impro...</td>\n",
       "    </tr>\n",
       "    <tr>\n",
       "      <th>4</th>\n",
       "      <td>You, sir, are my hero. Any chance you remember...</td>\n",
       "      <td>0</td>\n",
       "      <td>you sir are my hero any chance you remember wh...</td>\n",
       "      <td>you sir be my hero any chance you remember wha...</td>\n",
       "    </tr>\n",
       "  </tbody>\n",
       "</table>\n",
       "</div>"
      ],
      "text/plain": [
       "                                                text  toxic  \\\n",
       "0  Explanation\\nWhy the edits made under my usern...      0   \n",
       "1  D'aww! He matches this background colour I'm s...      0   \n",
       "2  Hey man, I'm really not trying to edit war. It...      0   \n",
       "3  \"\\nMore\\nI can't make any real suggestions on ...      0   \n",
       "4  You, sir, are my hero. Any chance you remember...      0   \n",
       "\n",
       "                                          clear_text  \\\n",
       "0  explanation why the edits made under my userna...   \n",
       "1  daww he matches this background colour im seem...   \n",
       "2  hey man im really not trying to edit war its j...   \n",
       "3  more i cant make any real suggestions on impro...   \n",
       "4  you sir are my hero any chance you remember wh...   \n",
       "\n",
       "                                          lemmatized  \n",
       "0  explanation why the edit make under my usernam...  \n",
       "1  daww he match this background colour im seemin...  \n",
       "2  hey man im really not try to edit war its just...  \n",
       "3  more i cant make any real suggestions on impro...  \n",
       "4  you sir be my hero any chance you remember wha...  "
      ]
     },
     "execution_count": 12,
     "metadata": {},
     "output_type": "execute_result"
    }
   ],
   "source": [
    "data.head()"
   ]
  },
  {
   "cell_type": "code",
   "execution_count": 13,
   "metadata": {},
   "outputs": [
    {
     "data": {
      "text/plain": [
       "'your vandalism to the matt shirvington article have be revert please dont do it again or you will be ban'"
      ]
     },
     "execution_count": 13,
     "metadata": {},
     "output_type": "execute_result"
    }
   ],
   "source": [
    "data['lemmatized'].values[7]"
   ]
  },
  {
   "cell_type": "code",
   "execution_count": 14,
   "metadata": {},
   "outputs": [
    {
     "data": {
      "text/plain": [
       "'your vandalism to the matt shirvington article has been reverted please dont do it again or you will be banned'"
      ]
     },
     "execution_count": 14,
     "metadata": {},
     "output_type": "execute_result"
    }
   ],
   "source": [
    "data['clear_text'].values[7]"
   ]
  },
  {
   "cell_type": "code",
   "execution_count": 15,
   "metadata": {},
   "outputs": [],
   "source": [
    "x_train, x_test, y_train, y_test = train_test_split(data['lemmatized'],\n",
    "                                                    data['toxic'],\n",
    "                                                    random_state=1,\n",
    "                                                    test_size=.2,\n",
    "                                                    stratify=data['toxic'])"
   ]
  },
  {
   "cell_type": "markdown",
   "metadata": {},
   "source": [
    "Мы провели очистку текста, подготовили для создания \"мешка\". От идее использовать SMOTE для балансировки классов методом апсемплинга решено отказаться, поскольку время обучения и так достаточно большное"
   ]
  },
  {
   "cell_type": "markdown",
   "metadata": {},
   "source": [
    "## Обучение"
   ]
  },
  {
   "cell_type": "markdown",
   "metadata": {},
   "source": [
    "Мы будем использовть кросс-валидациюю, поэтому нельзя применять векторизацию сразу ко всему тренировочному дата-сету. Для этого используем пайплайн, чтобы на каждом фолде обучать tf-idf-vectorizer заново"
   ]
  },
  {
   "cell_type": "code",
   "execution_count": 18,
   "metadata": {},
   "outputs": [],
   "source": [
    "stop_words = stopwords.words('english')"
   ]
  },
  {
   "cell_type": "code",
   "execution_count": 19,
   "metadata": {},
   "outputs": [
    {
     "data": {
      "text/plain": [
       "9.841344371679229"
      ]
     },
     "execution_count": 19,
     "metadata": {},
     "output_type": "execute_result"
    }
   ],
   "source": [
    "positive_weight = 1 / data['toxic'].value_counts(normalize=True)[1]\n",
    "positive_weight"
   ]
  },
  {
   "cell_type": "code",
   "execution_count": 20,
   "metadata": {},
   "outputs": [],
   "source": [
    "catboost_pipeline = Pipeline([\n",
    "            ('tf-idf',  TfidfVectorizer(max_df=0.9, min_df=25,\n",
    "                        max_features=7500,\n",
    "                        stop_words=stop_words)),\n",
    "            ('catboost', CatBoostClassifier(random_state=1,\n",
    "                         n_estimators=1000,\n",
    "                         verbose=200,\n",
    "                         scale_pos_weight=positive_weight,\n",
    "                         eval_metric='F1'))\n",
    "])\n",
    "\n",
    "params = {'catboost__max_depth': [4, 6],\n",
    "          'catboost__learning_rate': [0.1, 0.2]}"
   ]
  },
  {
   "cell_type": "code",
   "execution_count": 21,
   "metadata": {},
   "outputs": [
    {
     "name": "stdout",
     "output_type": "stream",
     "text": [
      "Fitting 3 folds for each of 4 candidates, totalling 12 fits\n",
      "0:\tlearn: 0.4860100\ttotal: 851ms\tremaining: 14m 10s\n",
      "200:\tlearn: 0.8805521\ttotal: 1m 58s\tremaining: 7m 52s\n",
      "400:\tlearn: 0.9100053\ttotal: 3m 53s\tremaining: 5m 48s\n",
      "600:\tlearn: 0.9255997\ttotal: 5m 46s\tremaining: 3m 50s\n",
      "800:\tlearn: 0.9369971\ttotal: 7m 39s\tremaining: 1m 54s\n",
      "999:\tlearn: 0.9464519\ttotal: 9m 30s\tremaining: 0us\n",
      "[CV 1/3] END catboost__learning_rate=0.1, catboost__max_depth=4;, score=0.730 total time= 9.7min\n",
      "0:\tlearn: 0.7350429\ttotal: 733ms\tremaining: 12m 12s\n",
      "200:\tlearn: 0.8778297\ttotal: 2m\tremaining: 7m 59s\n",
      "400:\tlearn: 0.9082347\ttotal: 3m 55s\tremaining: 5m 51s\n",
      "600:\tlearn: 0.9263125\ttotal: 5m 49s\tremaining: 3m 51s\n",
      "800:\tlearn: 0.9390583\ttotal: 7m 44s\tremaining: 1m 55s\n",
      "999:\tlearn: 0.9494889\ttotal: 9m 36s\tremaining: 0us\n",
      "[CV 2/3] END catboost__learning_rate=0.1, catboost__max_depth=4;, score=0.729 total time= 9.8min\n",
      "0:\tlearn: 0.7323163\ttotal: 747ms\tremaining: 12m 26s\n",
      "200:\tlearn: 0.8800253\ttotal: 2m 1s\tremaining: 8m 2s\n",
      "400:\tlearn: 0.9096743\ttotal: 3m 56s\tremaining: 5m 53s\n",
      "600:\tlearn: 0.9264589\ttotal: 5m 51s\tremaining: 3m 53s\n",
      "800:\tlearn: 0.9396083\ttotal: 7m 45s\tremaining: 1m 55s\n",
      "999:\tlearn: 0.9494458\ttotal: 9m 38s\tremaining: 0us\n",
      "[CV 3/3] END catboost__learning_rate=0.1, catboost__max_depth=4;, score=0.737 total time= 9.8min\n",
      "0:\tlearn: 0.5158201\ttotal: 1.75s\tremaining: 29m 12s\n",
      "200:\tlearn: 0.8958412\ttotal: 3m 49s\tremaining: 15m 12s\n",
      "400:\tlearn: 0.9277517\ttotal: 7m 29s\tremaining: 11m 11s\n",
      "600:\tlearn: 0.9466551\ttotal: 11m 17s\tremaining: 7m 29s\n",
      "800:\tlearn: 0.9631172\ttotal: 15m 7s\tremaining: 3m 45s\n",
      "999:\tlearn: 0.9740718\ttotal: 18m 55s\tremaining: 0us\n",
      "[CV 1/3] END catboost__learning_rate=0.1, catboost__max_depth=6;, score=0.743 total time=19.1min\n",
      "0:\tlearn: 0.7399480\ttotal: 1.58s\tremaining: 26m 18s\n",
      "200:\tlearn: 0.8941187\ttotal: 4m 1s\tremaining: 16m\n",
      "400:\tlearn: 0.9260835\ttotal: 7m 55s\tremaining: 11m 50s\n",
      "600:\tlearn: 0.9473909\ttotal: 11m 47s\tremaining: 7m 49s\n",
      "800:\tlearn: 0.9627110\ttotal: 15m 29s\tremaining: 3m 51s\n",
      "999:\tlearn: 0.9740539\ttotal: 19m 5s\tremaining: 0us\n",
      "[CV 2/3] END catboost__learning_rate=0.1, catboost__max_depth=6;, score=0.743 total time=19.2min\n",
      "0:\tlearn: 0.7344007\ttotal: 1.58s\tremaining: 26m 16s\n",
      "200:\tlearn: 0.8960610\ttotal: 3m 46s\tremaining: 14m 59s\n",
      "400:\tlearn: 0.9269325\ttotal: 7m 25s\tremaining: 11m 4s\n",
      "600:\tlearn: 0.9464465\ttotal: 11m 2s\tremaining: 7m 19s\n",
      "800:\tlearn: 0.9628560\ttotal: 14m 37s\tremaining: 3m 38s\n",
      "999:\tlearn: 0.9741723\ttotal: 18m 12s\tremaining: 0us\n",
      "[CV 3/3] END catboost__learning_rate=0.1, catboost__max_depth=6;, score=0.744 total time=18.4min\n",
      "0:\tlearn: 0.4860100\ttotal: 817ms\tremaining: 13m 36s\n",
      "200:\tlearn: 0.9092173\ttotal: 1m 59s\tremaining: 7m 55s\n",
      "400:\tlearn: 0.9364647\ttotal: 3m 58s\tremaining: 5m 55s\n",
      "600:\tlearn: 0.9572743\ttotal: 5m 56s\tremaining: 3m 56s\n",
      "800:\tlearn: 0.9726657\ttotal: 7m 54s\tremaining: 1m 57s\n",
      "999:\tlearn: 0.9791444\ttotal: 9m 53s\tremaining: 0us\n",
      "[CV 1/3] END catboost__learning_rate=0.2, catboost__max_depth=4;, score=0.747 total time=10.0min\n",
      "0:\tlearn: 0.7350429\ttotal: 861ms\tremaining: 14m 19s\n",
      "200:\tlearn: 0.9089161\ttotal: 2m 7s\tremaining: 8m 28s\n",
      "400:\tlearn: 0.9385534\ttotal: 4m 10s\tremaining: 6m 14s\n",
      "600:\tlearn: 0.9575357\ttotal: 6m 14s\tremaining: 4m 8s\n",
      "800:\tlearn: 0.9712290\ttotal: 8m 27s\tremaining: 2m 6s\n",
      "999:\tlearn: 0.9789567\ttotal: 10m 41s\tremaining: 0us\n",
      "[CV 2/3] END catboost__learning_rate=0.2, catboost__max_depth=4;, score=0.742 total time=10.9min\n",
      "0:\tlearn: 0.7323163\ttotal: 1.09s\tremaining: 18m 5s\n",
      "200:\tlearn: 0.9071673\ttotal: 2m 27s\tremaining: 9m 45s\n",
      "400:\tlearn: 0.9378620\ttotal: 4m 46s\tremaining: 7m 8s\n",
      "600:\tlearn: 0.9581084\ttotal: 7m 8s\tremaining: 4m 44s\n",
      "800:\tlearn: 0.9721127\ttotal: 9m 23s\tremaining: 2m 20s\n",
      "999:\tlearn: 0.9792169\ttotal: 11m 36s\tremaining: 0us\n",
      "[CV 3/3] END catboost__learning_rate=0.2, catboost__max_depth=4;, score=0.741 total time=11.8min\n",
      "0:\tlearn: 0.5158201\ttotal: 1.91s\tremaining: 31m 46s\n",
      "200:\tlearn: 0.9266512\ttotal: 4m 30s\tremaining: 17m 54s\n",
      "400:\tlearn: 0.9603058\ttotal: 8m 45s\tremaining: 13m 4s\n",
      "600:\tlearn: 0.9782759\ttotal: 12m 57s\tremaining: 8m 36s\n",
      "800:\tlearn: 0.9834001\ttotal: 17m 8s\tremaining: 4m 15s\n",
      "999:\tlearn: 0.9859310\ttotal: 21m 20s\tremaining: 0us\n",
      "[CV 1/3] END catboost__learning_rate=0.2, catboost__max_depth=6;, score=0.752 total time=21.5min\n",
      "0:\tlearn: 0.7399480\ttotal: 1.81s\tremaining: 30m 9s\n",
      "200:\tlearn: 0.9250013\ttotal: 4m 23s\tremaining: 17m 26s\n",
      "400:\tlearn: 0.9613482\ttotal: 8m 37s\tremaining: 12m 53s\n",
      "600:\tlearn: 0.9789047\ttotal: 12m 49s\tremaining: 8m 30s\n",
      "800:\tlearn: 0.9836066\ttotal: 17m 2s\tremaining: 4m 13s\n",
      "999:\tlearn: 0.9858236\ttotal: 21m 7s\tremaining: 0us\n",
      "[CV 2/3] END catboost__learning_rate=0.2, catboost__max_depth=6;, score=0.755 total time=21.3min\n",
      "0:\tlearn: 0.7344007\ttotal: 1.57s\tremaining: 26m 14s\n",
      "200:\tlearn: 0.9256632\ttotal: 4m 14s\tremaining: 16m 50s\n",
      "400:\tlearn: 0.9604855\ttotal: 8m 26s\tremaining: 12m 37s\n",
      "600:\tlearn: 0.9792383\ttotal: 12m 27s\tremaining: 8m 16s\n",
      "800:\tlearn: 0.9836525\ttotal: 16m 24s\tremaining: 4m 4s\n",
      "999:\tlearn: 0.9856453\ttotal: 20m 14s\tremaining: 0us\n",
      "[CV 3/3] END catboost__learning_rate=0.2, catboost__max_depth=6;, score=0.753 total time=20.4min\n",
      "0:\tlearn: 0.7346784\ttotal: 2.31s\tremaining: 38m 26s\n",
      "200:\tlearn: 0.9159790\ttotal: 5m 45s\tremaining: 22m 51s\n",
      "400:\tlearn: 0.9453124\ttotal: 11m 14s\tremaining: 16m 47s\n",
      "600:\tlearn: 0.9669612\ttotal: 16m 38s\tremaining: 11m 2s\n",
      "800:\tlearn: 0.9775436\ttotal: 22m\tremaining: 5m 28s\n",
      "999:\tlearn: 0.9817331\ttotal: 27m 24s\tremaining: 0us\n",
      "CPU times: user 3h 27min 36s, sys: 1min 5s, total: 3h 28min 42s\n",
      "Wall time: 3h 29min 23s\n"
     ]
    },
    {
     "data": {
      "text/html": [
       "<style>#sk-container-id-1 {color: black;background-color: white;}#sk-container-id-1 pre{padding: 0;}#sk-container-id-1 div.sk-toggleable {background-color: white;}#sk-container-id-1 label.sk-toggleable__label {cursor: pointer;display: block;width: 100%;margin-bottom: 0;padding: 0.3em;box-sizing: border-box;text-align: center;}#sk-container-id-1 label.sk-toggleable__label-arrow:before {content: \"▸\";float: left;margin-right: 0.25em;color: #696969;}#sk-container-id-1 label.sk-toggleable__label-arrow:hover:before {color: black;}#sk-container-id-1 div.sk-estimator:hover label.sk-toggleable__label-arrow:before {color: black;}#sk-container-id-1 div.sk-toggleable__content {max-height: 0;max-width: 0;overflow: hidden;text-align: left;background-color: #f0f8ff;}#sk-container-id-1 div.sk-toggleable__content pre {margin: 0.2em;color: black;border-radius: 0.25em;background-color: #f0f8ff;}#sk-container-id-1 input.sk-toggleable__control:checked~div.sk-toggleable__content {max-height: 200px;max-width: 100%;overflow: auto;}#sk-container-id-1 input.sk-toggleable__control:checked~label.sk-toggleable__label-arrow:before {content: \"▾\";}#sk-container-id-1 div.sk-estimator input.sk-toggleable__control:checked~label.sk-toggleable__label {background-color: #d4ebff;}#sk-container-id-1 div.sk-label input.sk-toggleable__control:checked~label.sk-toggleable__label {background-color: #d4ebff;}#sk-container-id-1 input.sk-hidden--visually {border: 0;clip: rect(1px 1px 1px 1px);clip: rect(1px, 1px, 1px, 1px);height: 1px;margin: -1px;overflow: hidden;padding: 0;position: absolute;width: 1px;}#sk-container-id-1 div.sk-estimator {font-family: monospace;background-color: #f0f8ff;border: 1px dotted black;border-radius: 0.25em;box-sizing: border-box;margin-bottom: 0.5em;}#sk-container-id-1 div.sk-estimator:hover {background-color: #d4ebff;}#sk-container-id-1 div.sk-parallel-item::after {content: \"\";width: 100%;border-bottom: 1px solid gray;flex-grow: 1;}#sk-container-id-1 div.sk-label:hover label.sk-toggleable__label {background-color: #d4ebff;}#sk-container-id-1 div.sk-serial::before {content: \"\";position: absolute;border-left: 1px solid gray;box-sizing: border-box;top: 0;bottom: 0;left: 50%;z-index: 0;}#sk-container-id-1 div.sk-serial {display: flex;flex-direction: column;align-items: center;background-color: white;padding-right: 0.2em;padding-left: 0.2em;position: relative;}#sk-container-id-1 div.sk-item {position: relative;z-index: 1;}#sk-container-id-1 div.sk-parallel {display: flex;align-items: stretch;justify-content: center;background-color: white;position: relative;}#sk-container-id-1 div.sk-item::before, #sk-container-id-1 div.sk-parallel-item::before {content: \"\";position: absolute;border-left: 1px solid gray;box-sizing: border-box;top: 0;bottom: 0;left: 50%;z-index: -1;}#sk-container-id-1 div.sk-parallel-item {display: flex;flex-direction: column;z-index: 1;position: relative;background-color: white;}#sk-container-id-1 div.sk-parallel-item:first-child::after {align-self: flex-end;width: 50%;}#sk-container-id-1 div.sk-parallel-item:last-child::after {align-self: flex-start;width: 50%;}#sk-container-id-1 div.sk-parallel-item:only-child::after {width: 0;}#sk-container-id-1 div.sk-dashed-wrapped {border: 1px dashed gray;margin: 0 0.4em 0.5em 0.4em;box-sizing: border-box;padding-bottom: 0.4em;background-color: white;}#sk-container-id-1 div.sk-label label {font-family: monospace;font-weight: bold;display: inline-block;line-height: 1.2em;}#sk-container-id-1 div.sk-label-container {text-align: center;}#sk-container-id-1 div.sk-container {/* jupyter's `normalize.less` sets `[hidden] { display: none; }` but bootstrap.min.css set `[hidden] { display: none !important; }` so we also need the `!important` here to be able to override the default hidden behavior on the sphinx rendered scikit-learn.org. See: https://github.com/scikit-learn/scikit-learn/issues/21755 */display: inline-block !important;position: relative;}#sk-container-id-1 div.sk-text-repr-fallback {display: none;}</style><div id=\"sk-container-id-1\" class=\"sk-top-container\"><div class=\"sk-text-repr-fallback\"><pre>GridSearchCV(cv=3,\n",
       "             estimator=Pipeline(steps=[(&#x27;tf-idf&#x27;,\n",
       "                                        TfidfVectorizer(max_df=0.9,\n",
       "                                                        max_features=7500,\n",
       "                                                        min_df=25,\n",
       "                                                        stop_words=[&#x27;i&#x27;, &#x27;me&#x27;,\n",
       "                                                                    &#x27;my&#x27;,\n",
       "                                                                    &#x27;myself&#x27;,\n",
       "                                                                    &#x27;we&#x27;, &#x27;our&#x27;,\n",
       "                                                                    &#x27;ours&#x27;,\n",
       "                                                                    &#x27;ourselves&#x27;,\n",
       "                                                                    &#x27;you&#x27;,\n",
       "                                                                    &quot;you&#x27;re&quot;,\n",
       "                                                                    &quot;you&#x27;ve&quot;,\n",
       "                                                                    &quot;you&#x27;ll&quot;,\n",
       "                                                                    &quot;you&#x27;d&quot;,\n",
       "                                                                    &#x27;your&#x27;,\n",
       "                                                                    &#x27;yours&#x27;,\n",
       "                                                                    &#x27;yourself&#x27;,\n",
       "                                                                    &#x27;yourselves&#x27;,\n",
       "                                                                    &#x27;he&#x27;, &#x27;him&#x27;,\n",
       "                                                                    &#x27;his&#x27;,\n",
       "                                                                    &#x27;himself&#x27;,\n",
       "                                                                    &#x27;she&#x27;,\n",
       "                                                                    &quot;she&#x27;s&quot;,\n",
       "                                                                    &#x27;her&#x27;,\n",
       "                                                                    &#x27;hers&#x27;,\n",
       "                                                                    &#x27;herself&#x27;,\n",
       "                                                                    &#x27;it&#x27;,\n",
       "                                                                    &quot;it&#x27;s&quot;,\n",
       "                                                                    &#x27;its&#x27;,\n",
       "                                                                    &#x27;itself&#x27;, ...])),\n",
       "                                       (&#x27;catboost&#x27;,\n",
       "                                        &lt;catboost.core.CatBoostClassifier object at 0x7f8f0afa24f0&gt;)]),\n",
       "             n_jobs=-1,\n",
       "             param_grid={&#x27;catboost__learning_rate&#x27;: [0.1, 0.2],\n",
       "                         &#x27;catboost__max_depth&#x27;: [4, 6]},\n",
       "             scoring=&#x27;f1&#x27;, verbose=3)</pre><b>In a Jupyter environment, please rerun this cell to show the HTML representation or trust the notebook. <br />On GitHub, the HTML representation is unable to render, please try loading this page with nbviewer.org.</b></div><div class=\"sk-container\" hidden><div class=\"sk-item sk-dashed-wrapped\"><div class=\"sk-label-container\"><div class=\"sk-label sk-toggleable\"><input class=\"sk-toggleable__control sk-hidden--visually\" id=\"sk-estimator-id-1\" type=\"checkbox\" ><label for=\"sk-estimator-id-1\" class=\"sk-toggleable__label sk-toggleable__label-arrow\">GridSearchCV</label><div class=\"sk-toggleable__content\"><pre>GridSearchCV(cv=3,\n",
       "             estimator=Pipeline(steps=[(&#x27;tf-idf&#x27;,\n",
       "                                        TfidfVectorizer(max_df=0.9,\n",
       "                                                        max_features=7500,\n",
       "                                                        min_df=25,\n",
       "                                                        stop_words=[&#x27;i&#x27;, &#x27;me&#x27;,\n",
       "                                                                    &#x27;my&#x27;,\n",
       "                                                                    &#x27;myself&#x27;,\n",
       "                                                                    &#x27;we&#x27;, &#x27;our&#x27;,\n",
       "                                                                    &#x27;ours&#x27;,\n",
       "                                                                    &#x27;ourselves&#x27;,\n",
       "                                                                    &#x27;you&#x27;,\n",
       "                                                                    &quot;you&#x27;re&quot;,\n",
       "                                                                    &quot;you&#x27;ve&quot;,\n",
       "                                                                    &quot;you&#x27;ll&quot;,\n",
       "                                                                    &quot;you&#x27;d&quot;,\n",
       "                                                                    &#x27;your&#x27;,\n",
       "                                                                    &#x27;yours&#x27;,\n",
       "                                                                    &#x27;yourself&#x27;,\n",
       "                                                                    &#x27;yourselves&#x27;,\n",
       "                                                                    &#x27;he&#x27;, &#x27;him&#x27;,\n",
       "                                                                    &#x27;his&#x27;,\n",
       "                                                                    &#x27;himself&#x27;,\n",
       "                                                                    &#x27;she&#x27;,\n",
       "                                                                    &quot;she&#x27;s&quot;,\n",
       "                                                                    &#x27;her&#x27;,\n",
       "                                                                    &#x27;hers&#x27;,\n",
       "                                                                    &#x27;herself&#x27;,\n",
       "                                                                    &#x27;it&#x27;,\n",
       "                                                                    &quot;it&#x27;s&quot;,\n",
       "                                                                    &#x27;its&#x27;,\n",
       "                                                                    &#x27;itself&#x27;, ...])),\n",
       "                                       (&#x27;catboost&#x27;,\n",
       "                                        &lt;catboost.core.CatBoostClassifier object at 0x7f8f0afa24f0&gt;)]),\n",
       "             n_jobs=-1,\n",
       "             param_grid={&#x27;catboost__learning_rate&#x27;: [0.1, 0.2],\n",
       "                         &#x27;catboost__max_depth&#x27;: [4, 6]},\n",
       "             scoring=&#x27;f1&#x27;, verbose=3)</pre></div></div></div><div class=\"sk-parallel\"><div class=\"sk-parallel-item\"><div class=\"sk-item\"><div class=\"sk-label-container\"><div class=\"sk-label sk-toggleable\"><input class=\"sk-toggleable__control sk-hidden--visually\" id=\"sk-estimator-id-2\" type=\"checkbox\" ><label for=\"sk-estimator-id-2\" class=\"sk-toggleable__label sk-toggleable__label-arrow\">estimator: Pipeline</label><div class=\"sk-toggleable__content\"><pre>Pipeline(steps=[(&#x27;tf-idf&#x27;,\n",
       "                 TfidfVectorizer(max_df=0.9, max_features=7500, min_df=25,\n",
       "                                 stop_words=[&#x27;i&#x27;, &#x27;me&#x27;, &#x27;my&#x27;, &#x27;myself&#x27;, &#x27;we&#x27;,\n",
       "                                             &#x27;our&#x27;, &#x27;ours&#x27;, &#x27;ourselves&#x27;, &#x27;you&#x27;,\n",
       "                                             &quot;you&#x27;re&quot;, &quot;you&#x27;ve&quot;, &quot;you&#x27;ll&quot;,\n",
       "                                             &quot;you&#x27;d&quot;, &#x27;your&#x27;, &#x27;yours&#x27;,\n",
       "                                             &#x27;yourself&#x27;, &#x27;yourselves&#x27;, &#x27;he&#x27;,\n",
       "                                             &#x27;him&#x27;, &#x27;his&#x27;, &#x27;himself&#x27;, &#x27;she&#x27;,\n",
       "                                             &quot;she&#x27;s&quot;, &#x27;her&#x27;, &#x27;hers&#x27;, &#x27;herself&#x27;,\n",
       "                                             &#x27;it&#x27;, &quot;it&#x27;s&quot;, &#x27;its&#x27;, &#x27;itself&#x27;, ...])),\n",
       "                (&#x27;catboost&#x27;,\n",
       "                 &lt;catboost.core.CatBoostClassifier object at 0x7f8f0afa24f0&gt;)])</pre></div></div></div><div class=\"sk-serial\"><div class=\"sk-item\"><div class=\"sk-serial\"><div class=\"sk-item\"><div class=\"sk-estimator sk-toggleable\"><input class=\"sk-toggleable__control sk-hidden--visually\" id=\"sk-estimator-id-3\" type=\"checkbox\" ><label for=\"sk-estimator-id-3\" class=\"sk-toggleable__label sk-toggleable__label-arrow\">TfidfVectorizer</label><div class=\"sk-toggleable__content\"><pre>TfidfVectorizer(max_df=0.9, max_features=7500, min_df=25,\n",
       "                stop_words=[&#x27;i&#x27;, &#x27;me&#x27;, &#x27;my&#x27;, &#x27;myself&#x27;, &#x27;we&#x27;, &#x27;our&#x27;, &#x27;ours&#x27;,\n",
       "                            &#x27;ourselves&#x27;, &#x27;you&#x27;, &quot;you&#x27;re&quot;, &quot;you&#x27;ve&quot;, &quot;you&#x27;ll&quot;,\n",
       "                            &quot;you&#x27;d&quot;, &#x27;your&#x27;, &#x27;yours&#x27;, &#x27;yourself&#x27;, &#x27;yourselves&#x27;,\n",
       "                            &#x27;he&#x27;, &#x27;him&#x27;, &#x27;his&#x27;, &#x27;himself&#x27;, &#x27;she&#x27;, &quot;she&#x27;s&quot;,\n",
       "                            &#x27;her&#x27;, &#x27;hers&#x27;, &#x27;herself&#x27;, &#x27;it&#x27;, &quot;it&#x27;s&quot;, &#x27;its&#x27;,\n",
       "                            &#x27;itself&#x27;, ...])</pre></div></div></div><div class=\"sk-item\"><div class=\"sk-estimator sk-toggleable\"><input class=\"sk-toggleable__control sk-hidden--visually\" id=\"sk-estimator-id-4\" type=\"checkbox\" ><label for=\"sk-estimator-id-4\" class=\"sk-toggleable__label sk-toggleable__label-arrow\">CatBoostClassifier</label><div class=\"sk-toggleable__content\"><pre>&lt;catboost.core.CatBoostClassifier object at 0x7f8f0afa24f0&gt;</pre></div></div></div></div></div></div></div></div></div></div></div></div>"
      ],
      "text/plain": [
       "GridSearchCV(cv=3,\n",
       "             estimator=Pipeline(steps=[('tf-idf',\n",
       "                                        TfidfVectorizer(max_df=0.9,\n",
       "                                                        max_features=7500,\n",
       "                                                        min_df=25,\n",
       "                                                        stop_words=['i', 'me',\n",
       "                                                                    'my',\n",
       "                                                                    'myself',\n",
       "                                                                    'we', 'our',\n",
       "                                                                    'ours',\n",
       "                                                                    'ourselves',\n",
       "                                                                    'you',\n",
       "                                                                    \"you're\",\n",
       "                                                                    \"you've\",\n",
       "                                                                    \"you'll\",\n",
       "                                                                    \"you'd\",\n",
       "                                                                    'your',\n",
       "                                                                    'yours',\n",
       "                                                                    'yourself',\n",
       "                                                                    'yourselves',\n",
       "                                                                    'he', 'him',\n",
       "                                                                    'his',\n",
       "                                                                    'himself',\n",
       "                                                                    'she',\n",
       "                                                                    \"she's\",\n",
       "                                                                    'her',\n",
       "                                                                    'hers',\n",
       "                                                                    'herself',\n",
       "                                                                    'it',\n",
       "                                                                    \"it's\",\n",
       "                                                                    'its',\n",
       "                                                                    'itself', ...])),\n",
       "                                       ('catboost',\n",
       "                                        <catboost.core.CatBoostClassifier object at 0x7f8f0afa24f0>)]),\n",
       "             n_jobs=-1,\n",
       "             param_grid={'catboost__learning_rate': [0.1, 0.2],\n",
       "                         'catboost__max_depth': [4, 6]},\n",
       "             scoring='f1', verbose=3)"
      ]
     },
     "execution_count": 21,
     "metadata": {},
     "output_type": "execute_result"
    }
   ],
   "source": [
    "%%time\n",
    "\n",
    "grid = GridSearchCV(catboost_pipeline,\n",
    "                    param_grid=params,\n",
    "                    cv=3,\n",
    "                    scoring='f1',\n",
    "                    n_jobs=-1,\n",
    "                    verbose=3)\n",
    "\n",
    "grid.fit(x_train, y_train)"
   ]
  },
  {
   "cell_type": "code",
   "execution_count": 25,
   "metadata": {},
   "outputs": [
    {
     "data": {
      "text/plain": [
       "0.7535932903748134"
      ]
     },
     "execution_count": 25,
     "metadata": {},
     "output_type": "execute_result"
    }
   ],
   "source": [
    "grid.best_score_"
   ]
  },
  {
   "cell_type": "markdown",
   "metadata": {},
   "source": [
    "Логистическая регрессия обучается побыстрее, так что можем поэкспериментировать с параметрами непосредственно векторизации"
   ]
  },
  {
   "cell_type": "code",
   "execution_count": 37,
   "metadata": {},
   "outputs": [],
   "source": [
    "lr_pipeline = Pipeline([\n",
    "            ('tf_idf',  TfidfVectorizer(stop_words=stop_words)),\n",
    "            ('log_regr', LogisticRegression(random_state=1, max_iter=500))\n",
    "])\n",
    "\n",
    "params = {'tf_idf__max_df': [0.8, 0.9],\n",
    "          'tf_idf__min_df': [25, 50, 75],\n",
    "          'tf_idf__max_features': [8000, 12000]}"
   ]
  },
  {
   "cell_type": "code",
   "execution_count": 38,
   "metadata": {},
   "outputs": [
    {
     "name": "stdout",
     "output_type": "stream",
     "text": [
      "Fitting 3 folds for each of 12 candidates, totalling 36 fits\n",
      "[CV 1/3] END tf_idf__max_df=0.8, tf_idf__max_features=8000, tf_idf__min_df=25;, score=0.733 total time=   6.7s\n",
      "[CV 2/3] END tf_idf__max_df=0.8, tf_idf__max_features=8000, tf_idf__min_df=25;, score=0.736 total time=   6.4s\n",
      "[CV 3/3] END tf_idf__max_df=0.8, tf_idf__max_features=8000, tf_idf__min_df=25;, score=0.730 total time=   6.2s\n",
      "[CV 1/3] END tf_idf__max_df=0.8, tf_idf__max_features=8000, tf_idf__min_df=50;, score=0.728 total time=   6.2s\n",
      "[CV 2/3] END tf_idf__max_df=0.8, tf_idf__max_features=8000, tf_idf__min_df=50;, score=0.733 total time=   6.3s\n",
      "[CV 3/3] END tf_idf__max_df=0.8, tf_idf__max_features=8000, tf_idf__min_df=50;, score=0.725 total time=   6.1s\n",
      "[CV 1/3] END tf_idf__max_df=0.8, tf_idf__max_features=8000, tf_idf__min_df=75;, score=0.725 total time=   6.3s\n",
      "[CV 2/3] END tf_idf__max_df=0.8, tf_idf__max_features=8000, tf_idf__min_df=75;, score=0.727 total time=   6.3s\n",
      "[CV 3/3] END tf_idf__max_df=0.8, tf_idf__max_features=8000, tf_idf__min_df=75;, score=0.717 total time=   5.8s\n",
      "[CV 1/3] END tf_idf__max_df=0.8, tf_idf__max_features=12000, tf_idf__min_df=25;, score=0.733 total time=   6.5s\n",
      "[CV 2/3] END tf_idf__max_df=0.8, tf_idf__max_features=12000, tf_idf__min_df=25;, score=0.736 total time=   6.8s\n",
      "[CV 3/3] END tf_idf__max_df=0.8, tf_idf__max_features=12000, tf_idf__min_df=25;, score=0.730 total time=   6.4s\n",
      "[CV 1/3] END tf_idf__max_df=0.8, tf_idf__max_features=12000, tf_idf__min_df=50;, score=0.728 total time=   6.1s\n",
      "[CV 2/3] END tf_idf__max_df=0.8, tf_idf__max_features=12000, tf_idf__min_df=50;, score=0.733 total time=   5.9s\n",
      "[CV 3/3] END tf_idf__max_df=0.8, tf_idf__max_features=12000, tf_idf__min_df=50;, score=0.725 total time=   6.1s\n",
      "[CV 1/3] END tf_idf__max_df=0.8, tf_idf__max_features=12000, tf_idf__min_df=75;, score=0.725 total time=   5.9s\n",
      "[CV 2/3] END tf_idf__max_df=0.8, tf_idf__max_features=12000, tf_idf__min_df=75;, score=0.727 total time=   6.4s\n",
      "[CV 3/3] END tf_idf__max_df=0.8, tf_idf__max_features=12000, tf_idf__min_df=75;, score=0.717 total time=   5.9s\n",
      "[CV 1/3] END tf_idf__max_df=0.9, tf_idf__max_features=8000, tf_idf__min_df=25;, score=0.733 total time=   6.6s\n",
      "[CV 2/3] END tf_idf__max_df=0.9, tf_idf__max_features=8000, tf_idf__min_df=25;, score=0.736 total time=   6.8s\n",
      "[CV 3/3] END tf_idf__max_df=0.9, tf_idf__max_features=8000, tf_idf__min_df=25;, score=0.730 total time=   6.4s\n",
      "[CV 1/3] END tf_idf__max_df=0.9, tf_idf__max_features=8000, tf_idf__min_df=50;, score=0.728 total time=   6.0s\n",
      "[CV 2/3] END tf_idf__max_df=0.9, tf_idf__max_features=8000, tf_idf__min_df=50;, score=0.733 total time=   6.2s\n",
      "[CV 3/3] END tf_idf__max_df=0.9, tf_idf__max_features=8000, tf_idf__min_df=50;, score=0.725 total time=   6.4s\n",
      "[CV 1/3] END tf_idf__max_df=0.9, tf_idf__max_features=8000, tf_idf__min_df=75;, score=0.725 total time=   5.8s\n",
      "[CV 2/3] END tf_idf__max_df=0.9, tf_idf__max_features=8000, tf_idf__min_df=75;, score=0.727 total time=   6.3s\n",
      "[CV 3/3] END tf_idf__max_df=0.9, tf_idf__max_features=8000, tf_idf__min_df=75;, score=0.717 total time=   5.9s\n",
      "[CV 1/3] END tf_idf__max_df=0.9, tf_idf__max_features=12000, tf_idf__min_df=25;, score=0.733 total time=   6.5s\n",
      "[CV 2/3] END tf_idf__max_df=0.9, tf_idf__max_features=12000, tf_idf__min_df=25;, score=0.736 total time=   6.7s\n",
      "[CV 3/3] END tf_idf__max_df=0.9, tf_idf__max_features=12000, tf_idf__min_df=25;, score=0.730 total time=   6.1s\n",
      "[CV 1/3] END tf_idf__max_df=0.9, tf_idf__max_features=12000, tf_idf__min_df=50;, score=0.728 total time=   6.0s\n",
      "[CV 2/3] END tf_idf__max_df=0.9, tf_idf__max_features=12000, tf_idf__min_df=50;, score=0.733 total time=   6.1s\n",
      "[CV 3/3] END tf_idf__max_df=0.9, tf_idf__max_features=12000, tf_idf__min_df=50;, score=0.725 total time=   5.8s\n",
      "[CV 1/3] END tf_idf__max_df=0.9, tf_idf__max_features=12000, tf_idf__min_df=75;, score=0.725 total time=   6.3s\n",
      "[CV 2/3] END tf_idf__max_df=0.9, tf_idf__max_features=12000, tf_idf__min_df=75;, score=0.727 total time=   6.0s\n",
      "[CV 3/3] END tf_idf__max_df=0.9, tf_idf__max_features=12000, tf_idf__min_df=75;, score=0.717 total time=   6.2s\n",
      "CPU times: user 3min 49s, sys: 2.07 s, total: 3min 51s\n",
      "Wall time: 3min 51s\n"
     ]
    },
    {
     "data": {
      "text/html": [
       "<style>#sk-container-id-3 {color: black;background-color: white;}#sk-container-id-3 pre{padding: 0;}#sk-container-id-3 div.sk-toggleable {background-color: white;}#sk-container-id-3 label.sk-toggleable__label {cursor: pointer;display: block;width: 100%;margin-bottom: 0;padding: 0.3em;box-sizing: border-box;text-align: center;}#sk-container-id-3 label.sk-toggleable__label-arrow:before {content: \"▸\";float: left;margin-right: 0.25em;color: #696969;}#sk-container-id-3 label.sk-toggleable__label-arrow:hover:before {color: black;}#sk-container-id-3 div.sk-estimator:hover label.sk-toggleable__label-arrow:before {color: black;}#sk-container-id-3 div.sk-toggleable__content {max-height: 0;max-width: 0;overflow: hidden;text-align: left;background-color: #f0f8ff;}#sk-container-id-3 div.sk-toggleable__content pre {margin: 0.2em;color: black;border-radius: 0.25em;background-color: #f0f8ff;}#sk-container-id-3 input.sk-toggleable__control:checked~div.sk-toggleable__content {max-height: 200px;max-width: 100%;overflow: auto;}#sk-container-id-3 input.sk-toggleable__control:checked~label.sk-toggleable__label-arrow:before {content: \"▾\";}#sk-container-id-3 div.sk-estimator input.sk-toggleable__control:checked~label.sk-toggleable__label {background-color: #d4ebff;}#sk-container-id-3 div.sk-label input.sk-toggleable__control:checked~label.sk-toggleable__label {background-color: #d4ebff;}#sk-container-id-3 input.sk-hidden--visually {border: 0;clip: rect(1px 1px 1px 1px);clip: rect(1px, 1px, 1px, 1px);height: 1px;margin: -1px;overflow: hidden;padding: 0;position: absolute;width: 1px;}#sk-container-id-3 div.sk-estimator {font-family: monospace;background-color: #f0f8ff;border: 1px dotted black;border-radius: 0.25em;box-sizing: border-box;margin-bottom: 0.5em;}#sk-container-id-3 div.sk-estimator:hover {background-color: #d4ebff;}#sk-container-id-3 div.sk-parallel-item::after {content: \"\";width: 100%;border-bottom: 1px solid gray;flex-grow: 1;}#sk-container-id-3 div.sk-label:hover label.sk-toggleable__label {background-color: #d4ebff;}#sk-container-id-3 div.sk-serial::before {content: \"\";position: absolute;border-left: 1px solid gray;box-sizing: border-box;top: 0;bottom: 0;left: 50%;z-index: 0;}#sk-container-id-3 div.sk-serial {display: flex;flex-direction: column;align-items: center;background-color: white;padding-right: 0.2em;padding-left: 0.2em;position: relative;}#sk-container-id-3 div.sk-item {position: relative;z-index: 1;}#sk-container-id-3 div.sk-parallel {display: flex;align-items: stretch;justify-content: center;background-color: white;position: relative;}#sk-container-id-3 div.sk-item::before, #sk-container-id-3 div.sk-parallel-item::before {content: \"\";position: absolute;border-left: 1px solid gray;box-sizing: border-box;top: 0;bottom: 0;left: 50%;z-index: -1;}#sk-container-id-3 div.sk-parallel-item {display: flex;flex-direction: column;z-index: 1;position: relative;background-color: white;}#sk-container-id-3 div.sk-parallel-item:first-child::after {align-self: flex-end;width: 50%;}#sk-container-id-3 div.sk-parallel-item:last-child::after {align-self: flex-start;width: 50%;}#sk-container-id-3 div.sk-parallel-item:only-child::after {width: 0;}#sk-container-id-3 div.sk-dashed-wrapped {border: 1px dashed gray;margin: 0 0.4em 0.5em 0.4em;box-sizing: border-box;padding-bottom: 0.4em;background-color: white;}#sk-container-id-3 div.sk-label label {font-family: monospace;font-weight: bold;display: inline-block;line-height: 1.2em;}#sk-container-id-3 div.sk-label-container {text-align: center;}#sk-container-id-3 div.sk-container {/* jupyter's `normalize.less` sets `[hidden] { display: none; }` but bootstrap.min.css set `[hidden] { display: none !important; }` so we also need the `!important` here to be able to override the default hidden behavior on the sphinx rendered scikit-learn.org. See: https://github.com/scikit-learn/scikit-learn/issues/21755 */display: inline-block !important;position: relative;}#sk-container-id-3 div.sk-text-repr-fallback {display: none;}</style><div id=\"sk-container-id-3\" class=\"sk-top-container\"><div class=\"sk-text-repr-fallback\"><pre>GridSearchCV(cv=3,\n",
       "             estimator=Pipeline(steps=[(&#x27;tf_idf&#x27;,\n",
       "                                        TfidfVectorizer(stop_words=[&#x27;i&#x27;, &#x27;me&#x27;,\n",
       "                                                                    &#x27;my&#x27;,\n",
       "                                                                    &#x27;myself&#x27;,\n",
       "                                                                    &#x27;we&#x27;, &#x27;our&#x27;,\n",
       "                                                                    &#x27;ours&#x27;,\n",
       "                                                                    &#x27;ourselves&#x27;,\n",
       "                                                                    &#x27;you&#x27;,\n",
       "                                                                    &quot;you&#x27;re&quot;,\n",
       "                                                                    &quot;you&#x27;ve&quot;,\n",
       "                                                                    &quot;you&#x27;ll&quot;,\n",
       "                                                                    &quot;you&#x27;d&quot;,\n",
       "                                                                    &#x27;your&#x27;,\n",
       "                                                                    &#x27;yours&#x27;,\n",
       "                                                                    &#x27;yourself&#x27;,\n",
       "                                                                    &#x27;yourselves&#x27;,\n",
       "                                                                    &#x27;he&#x27;, &#x27;him&#x27;,\n",
       "                                                                    &#x27;his&#x27;,\n",
       "                                                                    &#x27;himself&#x27;,\n",
       "                                                                    &#x27;she&#x27;,\n",
       "                                                                    &quot;she&#x27;s&quot;,\n",
       "                                                                    &#x27;her&#x27;,\n",
       "                                                                    &#x27;hers&#x27;,\n",
       "                                                                    &#x27;herself&#x27;,\n",
       "                                                                    &#x27;it&#x27;,\n",
       "                                                                    &quot;it&#x27;s&quot;,\n",
       "                                                                    &#x27;its&#x27;,\n",
       "                                                                    &#x27;itself&#x27;, ...])),\n",
       "                                       (&#x27;log_regr&#x27;,\n",
       "                                        LogisticRegression(max_iter=500,\n",
       "                                                           random_state=1))]),\n",
       "             n_jobs=-1,\n",
       "             param_grid={&#x27;tf_idf__max_df&#x27;: [0.8, 0.9],\n",
       "                         &#x27;tf_idf__max_features&#x27;: [8000, 12000],\n",
       "                         &#x27;tf_idf__min_df&#x27;: [25, 50, 75]},\n",
       "             scoring=&#x27;f1&#x27;, verbose=3)</pre><b>In a Jupyter environment, please rerun this cell to show the HTML representation or trust the notebook. <br />On GitHub, the HTML representation is unable to render, please try loading this page with nbviewer.org.</b></div><div class=\"sk-container\" hidden><div class=\"sk-item sk-dashed-wrapped\"><div class=\"sk-label-container\"><div class=\"sk-label sk-toggleable\"><input class=\"sk-toggleable__control sk-hidden--visually\" id=\"sk-estimator-id-9\" type=\"checkbox\" ><label for=\"sk-estimator-id-9\" class=\"sk-toggleable__label sk-toggleable__label-arrow\">GridSearchCV</label><div class=\"sk-toggleable__content\"><pre>GridSearchCV(cv=3,\n",
       "             estimator=Pipeline(steps=[(&#x27;tf_idf&#x27;,\n",
       "                                        TfidfVectorizer(stop_words=[&#x27;i&#x27;, &#x27;me&#x27;,\n",
       "                                                                    &#x27;my&#x27;,\n",
       "                                                                    &#x27;myself&#x27;,\n",
       "                                                                    &#x27;we&#x27;, &#x27;our&#x27;,\n",
       "                                                                    &#x27;ours&#x27;,\n",
       "                                                                    &#x27;ourselves&#x27;,\n",
       "                                                                    &#x27;you&#x27;,\n",
       "                                                                    &quot;you&#x27;re&quot;,\n",
       "                                                                    &quot;you&#x27;ve&quot;,\n",
       "                                                                    &quot;you&#x27;ll&quot;,\n",
       "                                                                    &quot;you&#x27;d&quot;,\n",
       "                                                                    &#x27;your&#x27;,\n",
       "                                                                    &#x27;yours&#x27;,\n",
       "                                                                    &#x27;yourself&#x27;,\n",
       "                                                                    &#x27;yourselves&#x27;,\n",
       "                                                                    &#x27;he&#x27;, &#x27;him&#x27;,\n",
       "                                                                    &#x27;his&#x27;,\n",
       "                                                                    &#x27;himself&#x27;,\n",
       "                                                                    &#x27;she&#x27;,\n",
       "                                                                    &quot;she&#x27;s&quot;,\n",
       "                                                                    &#x27;her&#x27;,\n",
       "                                                                    &#x27;hers&#x27;,\n",
       "                                                                    &#x27;herself&#x27;,\n",
       "                                                                    &#x27;it&#x27;,\n",
       "                                                                    &quot;it&#x27;s&quot;,\n",
       "                                                                    &#x27;its&#x27;,\n",
       "                                                                    &#x27;itself&#x27;, ...])),\n",
       "                                       (&#x27;log_regr&#x27;,\n",
       "                                        LogisticRegression(max_iter=500,\n",
       "                                                           random_state=1))]),\n",
       "             n_jobs=-1,\n",
       "             param_grid={&#x27;tf_idf__max_df&#x27;: [0.8, 0.9],\n",
       "                         &#x27;tf_idf__max_features&#x27;: [8000, 12000],\n",
       "                         &#x27;tf_idf__min_df&#x27;: [25, 50, 75]},\n",
       "             scoring=&#x27;f1&#x27;, verbose=3)</pre></div></div></div><div class=\"sk-parallel\"><div class=\"sk-parallel-item\"><div class=\"sk-item\"><div class=\"sk-label-container\"><div class=\"sk-label sk-toggleable\"><input class=\"sk-toggleable__control sk-hidden--visually\" id=\"sk-estimator-id-10\" type=\"checkbox\" ><label for=\"sk-estimator-id-10\" class=\"sk-toggleable__label sk-toggleable__label-arrow\">estimator: Pipeline</label><div class=\"sk-toggleable__content\"><pre>Pipeline(steps=[(&#x27;tf_idf&#x27;,\n",
       "                 TfidfVectorizer(stop_words=[&#x27;i&#x27;, &#x27;me&#x27;, &#x27;my&#x27;, &#x27;myself&#x27;, &#x27;we&#x27;,\n",
       "                                             &#x27;our&#x27;, &#x27;ours&#x27;, &#x27;ourselves&#x27;, &#x27;you&#x27;,\n",
       "                                             &quot;you&#x27;re&quot;, &quot;you&#x27;ve&quot;, &quot;you&#x27;ll&quot;,\n",
       "                                             &quot;you&#x27;d&quot;, &#x27;your&#x27;, &#x27;yours&#x27;,\n",
       "                                             &#x27;yourself&#x27;, &#x27;yourselves&#x27;, &#x27;he&#x27;,\n",
       "                                             &#x27;him&#x27;, &#x27;his&#x27;, &#x27;himself&#x27;, &#x27;she&#x27;,\n",
       "                                             &quot;she&#x27;s&quot;, &#x27;her&#x27;, &#x27;hers&#x27;, &#x27;herself&#x27;,\n",
       "                                             &#x27;it&#x27;, &quot;it&#x27;s&quot;, &#x27;its&#x27;, &#x27;itself&#x27;, ...])),\n",
       "                (&#x27;log_regr&#x27;, LogisticRegression(max_iter=500, random_state=1))])</pre></div></div></div><div class=\"sk-serial\"><div class=\"sk-item\"><div class=\"sk-serial\"><div class=\"sk-item\"><div class=\"sk-estimator sk-toggleable\"><input class=\"sk-toggleable__control sk-hidden--visually\" id=\"sk-estimator-id-11\" type=\"checkbox\" ><label for=\"sk-estimator-id-11\" class=\"sk-toggleable__label sk-toggleable__label-arrow\">TfidfVectorizer</label><div class=\"sk-toggleable__content\"><pre>TfidfVectorizer(stop_words=[&#x27;i&#x27;, &#x27;me&#x27;, &#x27;my&#x27;, &#x27;myself&#x27;, &#x27;we&#x27;, &#x27;our&#x27;, &#x27;ours&#x27;,\n",
       "                            &#x27;ourselves&#x27;, &#x27;you&#x27;, &quot;you&#x27;re&quot;, &quot;you&#x27;ve&quot;, &quot;you&#x27;ll&quot;,\n",
       "                            &quot;you&#x27;d&quot;, &#x27;your&#x27;, &#x27;yours&#x27;, &#x27;yourself&#x27;, &#x27;yourselves&#x27;,\n",
       "                            &#x27;he&#x27;, &#x27;him&#x27;, &#x27;his&#x27;, &#x27;himself&#x27;, &#x27;she&#x27;, &quot;she&#x27;s&quot;,\n",
       "                            &#x27;her&#x27;, &#x27;hers&#x27;, &#x27;herself&#x27;, &#x27;it&#x27;, &quot;it&#x27;s&quot;, &#x27;its&#x27;,\n",
       "                            &#x27;itself&#x27;, ...])</pre></div></div></div><div class=\"sk-item\"><div class=\"sk-estimator sk-toggleable\"><input class=\"sk-toggleable__control sk-hidden--visually\" id=\"sk-estimator-id-12\" type=\"checkbox\" ><label for=\"sk-estimator-id-12\" class=\"sk-toggleable__label sk-toggleable__label-arrow\">LogisticRegression</label><div class=\"sk-toggleable__content\"><pre>LogisticRegression(max_iter=500, random_state=1)</pre></div></div></div></div></div></div></div></div></div></div></div></div>"
      ],
      "text/plain": [
       "GridSearchCV(cv=3,\n",
       "             estimator=Pipeline(steps=[('tf_idf',\n",
       "                                        TfidfVectorizer(stop_words=['i', 'me',\n",
       "                                                                    'my',\n",
       "                                                                    'myself',\n",
       "                                                                    'we', 'our',\n",
       "                                                                    'ours',\n",
       "                                                                    'ourselves',\n",
       "                                                                    'you',\n",
       "                                                                    \"you're\",\n",
       "                                                                    \"you've\",\n",
       "                                                                    \"you'll\",\n",
       "                                                                    \"you'd\",\n",
       "                                                                    'your',\n",
       "                                                                    'yours',\n",
       "                                                                    'yourself',\n",
       "                                                                    'yourselves',\n",
       "                                                                    'he', 'him',\n",
       "                                                                    'his',\n",
       "                                                                    'himself',\n",
       "                                                                    'she',\n",
       "                                                                    \"she's\",\n",
       "                                                                    'her',\n",
       "                                                                    'hers',\n",
       "                                                                    'herself',\n",
       "                                                                    'it',\n",
       "                                                                    \"it's\",\n",
       "                                                                    'its',\n",
       "                                                                    'itself', ...])),\n",
       "                                       ('log_regr',\n",
       "                                        LogisticRegression(max_iter=500,\n",
       "                                                           random_state=1))]),\n",
       "             n_jobs=-1,\n",
       "             param_grid={'tf_idf__max_df': [0.8, 0.9],\n",
       "                         'tf_idf__max_features': [8000, 12000],\n",
       "                         'tf_idf__min_df': [25, 50, 75]},\n",
       "             scoring='f1', verbose=3)"
      ]
     },
     "execution_count": 38,
     "metadata": {},
     "output_type": "execute_result"
    }
   ],
   "source": [
    "%%time\n",
    "\n",
    "grid_lr = GridSearchCV(lr_pipeline,\n",
    "                    param_grid=params,\n",
    "                    cv=3,\n",
    "                    scoring='f1',\n",
    "                    n_jobs=-1,\n",
    "                    verbose=3)\n",
    "\n",
    "grid_lr.fit(x_train, y_train)"
   ]
  },
  {
   "cell_type": "code",
   "execution_count": 39,
   "metadata": {},
   "outputs": [
    {
     "data": {
      "text/plain": [
       "0.7329460917137145"
      ]
     },
     "execution_count": 39,
     "metadata": {},
     "output_type": "execute_result"
    }
   ],
   "source": [
    "grid_lr.best_score_"
   ]
  },
  {
   "cell_type": "markdown",
   "metadata": {},
   "source": [
    "Модель Catboost на кросс-валидации показала лучшее качество, хотя и обучалась гораздо дольше. Проверим на тестовой выборке."
   ]
  },
  {
   "cell_type": "code",
   "execution_count": 40,
   "metadata": {},
   "outputs": [
    {
     "data": {
      "text/plain": [
       "0.7500348140927446"
      ]
     },
     "execution_count": 40,
     "metadata": {},
     "output_type": "execute_result"
    }
   ],
   "source": [
    "f1_score(y_test, grid.predict(x_test))"
   ]
  },
  {
   "cell_type": "markdown",
   "metadata": {},
   "source": [
    "## Выводы"
   ]
  },
  {
   "cell_type": "markdown",
   "metadata": {},
   "source": [
    "Мы произвели очистку текста с его последующей лемматизацией.\n",
    "\n",
    "Был создан мешок слов с помощью Tf-idf.\n",
    "\n",
    "Был создан пайплайн для кросс-валидации и подбора гиперпараметров.\n",
    "\n",
    "Требуемая метрика F1 в 0.75 была достигнута"
   ]
  },
  {
   "cell_type": "code",
   "execution_count": null,
   "metadata": {},
   "outputs": [],
   "source": []
  },
  {
   "cell_type": "code",
   "execution_count": null,
   "metadata": {},
   "outputs": [],
   "source": []
  }
 ],
 "metadata": {
  "ExecuteTimeLog": [
   {
    "duration": 405,
    "start_time": "2023-05-16T09:12:03.078Z"
   },
   {
    "duration": 2381,
    "start_time": "2023-05-16T09:12:47.618Z"
   },
   {
    "duration": 15,
    "start_time": "2023-05-16T09:12:56.385Z"
   },
   {
    "duration": 797,
    "start_time": "2023-05-16T09:13:16.498Z"
   },
   {
    "duration": 7,
    "start_time": "2023-05-16T09:13:18.848Z"
   },
   {
    "duration": 7,
    "start_time": "2023-05-16T09:13:20.536Z"
   },
   {
    "duration": 831,
    "start_time": "2023-05-16T09:13:52.179Z"
   },
   {
    "duration": 7,
    "start_time": "2023-05-16T09:13:53.012Z"
   },
   {
    "duration": 15,
    "start_time": "2023-05-16T09:14:11.946Z"
   },
   {
    "duration": 26,
    "start_time": "2023-05-16T09:14:16.893Z"
   },
   {
    "duration": 7,
    "start_time": "2023-05-16T09:14:34.790Z"
   },
   {
    "duration": 391,
    "start_time": "2023-05-16T11:28:36.347Z"
   },
   {
    "duration": 3256,
    "start_time": "2023-05-16T11:28:36.740Z"
   },
   {
    "duration": 14,
    "start_time": "2023-05-16T11:28:41.826Z"
   },
   {
    "duration": 30,
    "start_time": "2023-05-16T11:28:42.210Z"
   },
   {
    "duration": 4,
    "start_time": "2023-05-16T11:28:49.544Z"
   },
   {
    "duration": 42,
    "start_time": "2023-05-16T11:28:56.919Z"
   },
   {
    "duration": 10,
    "start_time": "2023-05-16T11:29:05.818Z"
   },
   {
    "duration": 5,
    "start_time": "2023-05-16T11:29:20.102Z"
   },
   {
    "duration": 4,
    "start_time": "2023-05-16T11:29:26.874Z"
   },
   {
    "duration": 6,
    "start_time": "2023-05-16T11:30:09.658Z"
   },
   {
    "duration": 1793,
    "start_time": "2023-05-16T11:30:12.254Z"
   },
   {
    "duration": 5,
    "start_time": "2023-05-16T11:30:20.258Z"
   },
   {
    "duration": 93,
    "start_time": "2023-05-16T11:30:49.898Z"
   },
   {
    "duration": 4,
    "start_time": "2023-05-16T11:30:52.155Z"
   },
   {
    "duration": 6,
    "start_time": "2023-05-16T11:30:55.885Z"
   },
   {
    "duration": 453,
    "start_time": "2023-05-17T08:25:00.795Z"
   },
   {
    "duration": 4980,
    "start_time": "2023-05-17T08:25:01.251Z"
   },
   {
    "duration": 17,
    "start_time": "2023-05-17T08:25:06.233Z"
   },
   {
    "duration": 38,
    "start_time": "2023-05-17T08:25:06.252Z"
   },
   {
    "duration": 25,
    "start_time": "2023-05-17T08:25:06.295Z"
   },
   {
    "duration": 4,
    "start_time": "2023-05-17T08:25:06.322Z"
   },
   {
    "duration": 14,
    "start_time": "2023-05-17T08:25:06.328Z"
   },
   {
    "duration": 14,
    "start_time": "2023-05-17T08:33:36.280Z"
   },
   {
    "duration": 59,
    "start_time": "2023-05-17T08:34:27.780Z"
   },
   {
    "duration": 3,
    "start_time": "2023-05-17T08:34:36.306Z"
   },
   {
    "duration": 3,
    "start_time": "2023-05-17T08:36:33.534Z"
   },
   {
    "duration": 3,
    "start_time": "2023-05-17T08:36:51.377Z"
   },
   {
    "duration": 9,
    "start_time": "2023-05-17T08:37:09.904Z"
   },
   {
    "duration": 811,
    "start_time": "2023-05-17T08:37:26.905Z"
   },
   {
    "duration": 6,
    "start_time": "2023-05-17T08:37:44.482Z"
   },
   {
    "duration": 3,
    "start_time": "2023-05-17T08:39:04.984Z"
   },
   {
    "duration": 4,
    "start_time": "2023-05-17T08:39:24.157Z"
   },
   {
    "duration": 3,
    "start_time": "2023-05-17T08:39:29.880Z"
   },
   {
    "duration": 5,
    "start_time": "2023-05-17T08:39:30.189Z"
   },
   {
    "duration": 4,
    "start_time": "2023-05-17T08:39:46.551Z"
   },
   {
    "duration": 7,
    "start_time": "2023-05-17T08:39:46.798Z"
   },
   {
    "duration": 4,
    "start_time": "2023-05-17T08:41:59.108Z"
   },
   {
    "duration": 9,
    "start_time": "2023-05-17T08:41:59.956Z"
   },
   {
    "duration": 3,
    "start_time": "2023-05-17T08:43:05.295Z"
   },
   {
    "duration": 13,
    "start_time": "2023-05-17T08:43:06.213Z"
   },
   {
    "duration": 3,
    "start_time": "2023-05-17T08:43:12.688Z"
   },
   {
    "duration": 3,
    "start_time": "2023-05-17T08:43:17.317Z"
   },
   {
    "duration": 5,
    "start_time": "2023-05-17T08:43:17.613Z"
   },
   {
    "duration": 4,
    "start_time": "2023-05-17T08:43:27.685Z"
   },
   {
    "duration": 5,
    "start_time": "2023-05-17T08:43:28.089Z"
   },
   {
    "duration": 3,
    "start_time": "2023-05-17T08:43:57.386Z"
   },
   {
    "duration": 4,
    "start_time": "2023-05-17T08:43:57.790Z"
   },
   {
    "duration": 3,
    "start_time": "2023-05-17T08:44:01.800Z"
   },
   {
    "duration": 5,
    "start_time": "2023-05-17T08:44:02.191Z"
   },
   {
    "duration": 4,
    "start_time": "2023-05-17T08:44:25.594Z"
   },
   {
    "duration": 22,
    "start_time": "2023-05-17T08:44:26.658Z"
   },
   {
    "duration": 5,
    "start_time": "2023-05-17T08:44:31.633Z"
   },
   {
    "duration": 5,
    "start_time": "2023-05-17T08:44:32.041Z"
   },
   {
    "duration": 4,
    "start_time": "2023-05-17T08:44:44.017Z"
   },
   {
    "duration": 5,
    "start_time": "2023-05-17T08:44:44.409Z"
   },
   {
    "duration": 4,
    "start_time": "2023-05-17T08:44:50.502Z"
   },
   {
    "duration": 6,
    "start_time": "2023-05-17T08:44:50.792Z"
   },
   {
    "duration": 3,
    "start_time": "2023-05-17T08:45:01.817Z"
   },
   {
    "duration": 4,
    "start_time": "2023-05-17T08:45:02.114Z"
   },
   {
    "duration": 3,
    "start_time": "2023-05-17T08:45:17.299Z"
   },
   {
    "duration": 6,
    "start_time": "2023-05-17T08:45:17.649Z"
   },
   {
    "duration": 3,
    "start_time": "2023-05-17T08:45:32.396Z"
   },
   {
    "duration": 7,
    "start_time": "2023-05-17T08:45:32.802Z"
   },
   {
    "duration": 3,
    "start_time": "2023-05-17T08:45:36.827Z"
   },
   {
    "duration": 4,
    "start_time": "2023-05-17T08:45:37.192Z"
   },
   {
    "duration": 12,
    "start_time": "2023-05-17T08:45:50.755Z"
   },
   {
    "duration": 6,
    "start_time": "2023-05-17T08:45:51.451Z"
   },
   {
    "duration": 4,
    "start_time": "2023-05-17T08:46:02.393Z"
   },
   {
    "duration": 5,
    "start_time": "2023-05-17T08:46:02.741Z"
   },
   {
    "duration": 3,
    "start_time": "2023-05-17T08:46:05.324Z"
   },
   {
    "duration": 5,
    "start_time": "2023-05-17T08:46:05.908Z"
   },
   {
    "duration": 3,
    "start_time": "2023-05-17T08:47:21.500Z"
   },
   {
    "duration": 6,
    "start_time": "2023-05-17T08:47:21.799Z"
   },
   {
    "duration": 5,
    "start_time": "2023-05-17T08:48:24.242Z"
   },
   {
    "duration": 21,
    "start_time": "2023-05-17T08:48:24.753Z"
   },
   {
    "duration": 4,
    "start_time": "2023-05-17T08:48:28.594Z"
   },
   {
    "duration": 9,
    "start_time": "2023-05-17T08:48:29.062Z"
   },
   {
    "duration": 4,
    "start_time": "2023-05-17T08:48:45.745Z"
   },
   {
    "duration": 124,
    "start_time": "2023-05-17T08:48:46.182Z"
   },
   {
    "duration": 8,
    "start_time": "2023-05-17T08:49:46.500Z"
   },
   {
    "duration": 2037,
    "start_time": "2023-05-17T08:50:13.357Z"
   },
   {
    "duration": 63,
    "start_time": "2023-05-17T08:50:35.846Z"
   },
   {
    "duration": 3,
    "start_time": "2023-05-17T08:50:43.476Z"
   },
   {
    "duration": 16,
    "start_time": "2023-05-17T08:50:49.118Z"
   },
   {
    "duration": 4,
    "start_time": "2023-05-17T08:51:14.145Z"
   },
   {
    "duration": 246,
    "start_time": "2023-05-17T08:51:40.097Z"
   },
   {
    "duration": 3,
    "start_time": "2023-05-17T08:52:06.145Z"
   },
   {
    "duration": 11,
    "start_time": "2023-05-17T08:52:11.913Z"
   },
   {
    "duration": 6,
    "start_time": "2023-05-17T08:52:28.394Z"
   },
   {
    "duration": 4,
    "start_time": "2023-05-17T08:52:44.660Z"
   },
   {
    "duration": 3,
    "start_time": "2023-05-17T08:52:47.878Z"
   },
   {
    "duration": 6,
    "start_time": "2023-05-17T08:52:49.210Z"
   },
   {
    "duration": 3,
    "start_time": "2023-05-17T08:53:04.620Z"
   },
   {
    "duration": 102491,
    "start_time": "2023-05-17T08:53:53.278Z"
   },
   {
    "duration": 19,
    "start_time": "2023-05-17T08:55:43.866Z"
   },
   {
    "duration": 4,
    "start_time": "2023-05-17T08:56:13.307Z"
   },
   {
    "duration": 3,
    "start_time": "2023-05-17T08:57:25.733Z"
   },
   {
    "duration": 11,
    "start_time": "2023-05-17T08:58:56.992Z"
   },
   {
    "duration": 68,
    "start_time": "2023-05-17T08:59:02.529Z"
   },
   {
    "duration": 5,
    "start_time": "2023-05-17T08:59:11.705Z"
   },
   {
    "duration": 6,
    "start_time": "2023-05-17T08:59:17.786Z"
   },
   {
    "duration": 101,
    "start_time": "2023-05-17T08:59:51.724Z"
   },
   {
    "duration": 4,
    "start_time": "2023-05-17T09:00:13.020Z"
   },
   {
    "duration": 21,
    "start_time": "2023-05-17T09:00:50.293Z"
   },
   {
    "duration": 8,
    "start_time": "2023-05-17T09:00:53.421Z"
   },
   {
    "duration": 845,
    "start_time": "2023-05-17T09:01:07.094Z"
   },
   {
    "duration": 138,
    "start_time": "2023-05-17T09:01:14.270Z"
   },
   {
    "duration": 184,
    "start_time": "2023-05-17T09:01:26.799Z"
   },
   {
    "duration": 391,
    "start_time": "2023-05-17T09:01:38.480Z"
   },
   {
    "duration": 9,
    "start_time": "2023-05-17T09:01:57.853Z"
   },
   {
    "duration": 10,
    "start_time": "2023-05-17T09:02:03.104Z"
   },
   {
    "duration": 9,
    "start_time": "2023-05-17T09:02:12.280Z"
   },
   {
    "duration": 5,
    "start_time": "2023-05-17T09:07:11.940Z"
   },
   {
    "duration": 8101,
    "start_time": "2023-05-17T09:07:42.212Z"
   },
   {
    "duration": 9392,
    "start_time": "2023-05-17T09:08:55.400Z"
   },
   {
    "duration": 7,
    "start_time": "2023-05-17T09:09:39.362Z"
   },
   {
    "duration": 4,
    "start_time": "2023-05-17T09:10:49.821Z"
   },
   {
    "duration": 447,
    "start_time": "2023-05-17T09:11:18.710Z"
   },
   {
    "duration": 8393,
    "start_time": "2023-05-17T09:13:34.595Z"
   },
   {
    "duration": 226,
    "start_time": "2023-05-17T09:14:09.133Z"
   },
   {
    "duration": 8830,
    "start_time": "2023-05-17T09:14:17.924Z"
   },
   {
    "duration": 0,
    "start_time": "2023-05-17T09:14:26.756Z"
   },
   {
    "duration": 9811,
    "start_time": "2023-05-17T09:14:37.053Z"
   },
   {
    "duration": 14,
    "start_time": "2023-05-17T09:14:46.866Z"
   },
   {
    "duration": 6,
    "start_time": "2023-05-17T09:14:50.673Z"
   },
   {
    "duration": 9407,
    "start_time": "2023-05-17T09:15:47.400Z"
   },
   {
    "duration": 8575,
    "start_time": "2023-05-17T09:17:07.074Z"
   },
   {
    "duration": 6,
    "start_time": "2023-05-17T09:17:15.651Z"
   },
   {
    "duration": 5,
    "start_time": "2023-05-17T09:17:17.698Z"
   },
   {
    "duration": 5,
    "start_time": "2023-05-17T09:17:19.644Z"
   },
   {
    "duration": 8295,
    "start_time": "2023-05-17T09:17:26.788Z"
   },
   {
    "duration": 9,
    "start_time": "2023-05-17T09:17:35.085Z"
   },
   {
    "duration": 15,
    "start_time": "2023-05-17T09:17:43.395Z"
   },
   {
    "duration": 11,
    "start_time": "2023-05-17T09:17:45.884Z"
   },
   {
    "duration": 22,
    "start_time": "2023-05-17T09:17:49.148Z"
   },
   {
    "duration": 6,
    "start_time": "2023-05-17T09:17:55.116Z"
   },
   {
    "duration": 8717,
    "start_time": "2023-05-17T09:18:00.429Z"
   },
   {
    "duration": 7,
    "start_time": "2023-05-17T09:18:10.109Z"
   },
   {
    "duration": 23,
    "start_time": "2023-05-17T09:18:15.181Z"
   },
   {
    "duration": 8713,
    "start_time": "2023-05-17T09:18:58.446Z"
   },
   {
    "duration": 42,
    "start_time": "2023-05-17T09:19:07.162Z"
   },
   {
    "duration": 39,
    "start_time": "2023-05-17T09:19:07.206Z"
   },
   {
    "duration": 19,
    "start_time": "2023-05-17T09:19:20.280Z"
   },
   {
    "duration": 8333,
    "start_time": "2023-05-17T09:19:24.519Z"
   },
   {
    "duration": 25,
    "start_time": "2023-05-17T09:19:32.857Z"
   },
   {
    "duration": 9,
    "start_time": "2023-05-17T09:19:32.884Z"
   },
   {
    "duration": 13,
    "start_time": "2023-05-17T09:19:38.088Z"
   },
   {
    "duration": 19,
    "start_time": "2023-05-17T09:21:11.852Z"
   },
   {
    "duration": 798,
    "start_time": "2023-05-17T09:21:27.774Z"
   },
   {
    "duration": 10003,
    "start_time": "2023-05-17T09:21:39.293Z"
   },
   {
    "duration": 32,
    "start_time": "2023-05-17T09:21:49.298Z"
   },
   {
    "duration": 17,
    "start_time": "2023-05-17T09:22:12.230Z"
   },
   {
    "duration": 2281,
    "start_time": "2023-05-17T09:22:40.401Z"
   },
   {
    "duration": 2028,
    "start_time": "2023-05-17T09:22:42.684Z"
   },
   {
    "duration": 3668,
    "start_time": "2023-05-17T09:22:44.714Z"
   },
   {
    "duration": 19,
    "start_time": "2023-05-17T09:22:48.383Z"
   },
   {
    "duration": 36,
    "start_time": "2023-05-17T09:22:48.404Z"
   },
   {
    "duration": 30,
    "start_time": "2023-05-17T09:22:48.442Z"
   },
   {
    "duration": 5,
    "start_time": "2023-05-17T09:22:48.474Z"
   },
   {
    "duration": 14,
    "start_time": "2023-05-17T09:22:48.480Z"
   },
   {
    "duration": 28,
    "start_time": "2023-05-17T09:22:48.496Z"
   },
   {
    "duration": 399,
    "start_time": "2023-05-17T09:22:48.526Z"
   },
   {
    "duration": 0,
    "start_time": "2023-05-17T09:22:48.927Z"
   },
   {
    "duration": 0,
    "start_time": "2023-05-17T09:22:48.928Z"
   },
   {
    "duration": 0,
    "start_time": "2023-05-17T09:22:48.930Z"
   },
   {
    "duration": 0,
    "start_time": "2023-05-17T09:22:48.932Z"
   },
   {
    "duration": 0,
    "start_time": "2023-05-17T09:22:48.934Z"
   },
   {
    "duration": 109945,
    "start_time": "2023-05-17T09:23:27.131Z"
   },
   {
    "duration": 5,
    "start_time": "2023-05-17T09:25:55.256Z"
   },
   {
    "duration": 103,
    "start_time": "2023-05-17T09:25:55.615Z"
   },
   {
    "duration": 4,
    "start_time": "2023-05-17T09:25:55.919Z"
   },
   {
    "duration": 12,
    "start_time": "2023-05-17T09:25:56.567Z"
   },
   {
    "duration": 20,
    "start_time": "2023-05-17T09:25:57.675Z"
   },
   {
    "duration": 18,
    "start_time": "2023-05-17T09:26:21.970Z"
   },
   {
    "duration": 16,
    "start_time": "2023-05-17T09:26:59.662Z"
   },
   {
    "duration": 5,
    "start_time": "2023-05-17T09:27:07.786Z"
   },
   {
    "duration": 6,
    "start_time": "2023-05-17T09:27:48.547Z"
   },
   {
    "duration": 2256,
    "start_time": "2023-05-17T09:29:10.733Z"
   },
   {
    "duration": 1253,
    "start_time": "2023-05-17T09:29:14.799Z"
   },
   {
    "duration": 884,
    "start_time": "2023-05-17T09:29:17.933Z"
   },
   {
    "duration": 14,
    "start_time": "2023-05-17T09:29:18.819Z"
   },
   {
    "duration": 38,
    "start_time": "2023-05-17T09:29:19.376Z"
   },
   {
    "duration": 8,
    "start_time": "2023-05-17T09:29:19.782Z"
   },
   {
    "duration": 5,
    "start_time": "2023-05-17T09:29:20.502Z"
   },
   {
    "duration": 5,
    "start_time": "2023-05-17T09:29:22.198Z"
   },
   {
    "duration": 7,
    "start_time": "2023-05-17T09:29:22.764Z"
   },
   {
    "duration": 115271,
    "start_time": "2023-05-17T09:29:23.066Z"
   },
   {
    "duration": 3,
    "start_time": "2023-05-17T09:31:18.340Z"
   },
   {
    "duration": 104,
    "start_time": "2023-05-17T09:31:18.345Z"
   },
   {
    "duration": 19,
    "start_time": "2023-05-17T09:31:18.452Z"
   },
   {
    "duration": 13,
    "start_time": "2023-05-17T09:31:18.473Z"
   },
   {
    "duration": 133,
    "start_time": "2023-05-17T09:31:32.300Z"
   },
   {
    "duration": 6,
    "start_time": "2023-05-17T09:32:17.013Z"
   },
   {
    "duration": 7,
    "start_time": "2023-05-17T09:32:52.246Z"
   },
   {
    "duration": 5,
    "start_time": "2023-05-17T09:32:55.763Z"
   },
   {
    "duration": 4,
    "start_time": "2023-05-17T09:32:56.144Z"
   },
   {
    "duration": 3,
    "start_time": "2023-05-17T09:33:00.334Z"
   },
   {
    "duration": 11,
    "start_time": "2023-05-17T09:33:01.763Z"
   },
   {
    "duration": 3,
    "start_time": "2023-05-17T09:33:06.086Z"
   },
   {
    "duration": 5,
    "start_time": "2023-05-17T09:33:06.688Z"
   },
   {
    "duration": 3,
    "start_time": "2023-05-17T09:33:15.583Z"
   },
   {
    "duration": 6,
    "start_time": "2023-05-17T09:33:15.807Z"
   },
   {
    "duration": 102717,
    "start_time": "2023-05-17T09:33:16.415Z"
   },
   {
    "duration": 3,
    "start_time": "2023-05-17T09:34:59.134Z"
   },
   {
    "duration": 132,
    "start_time": "2023-05-17T09:34:59.138Z"
   },
   {
    "duration": 4,
    "start_time": "2023-05-17T09:34:59.273Z"
   },
   {
    "duration": 23,
    "start_time": "2023-05-17T09:34:59.278Z"
   },
   {
    "duration": 17,
    "start_time": "2023-05-17T09:34:59.302Z"
   },
   {
    "duration": 0,
    "start_time": "2023-05-17T09:34:59.320Z"
   },
   {
    "duration": 5,
    "start_time": "2023-05-17T09:35:01.576Z"
   },
   {
    "duration": 9,
    "start_time": "2023-05-17T09:35:14.708Z"
   },
   {
    "duration": 5,
    "start_time": "2023-05-17T09:35:23.116Z"
   },
   {
    "duration": 9,
    "start_time": "2023-05-17T09:35:27.052Z"
   },
   {
    "duration": 16,
    "start_time": "2023-05-17T09:35:33.356Z"
   },
   {
    "duration": 12,
    "start_time": "2023-05-17T09:35:45.472Z"
   },
   {
    "duration": 3,
    "start_time": "2023-05-17T09:36:09.568Z"
   },
   {
    "duration": 4,
    "start_time": "2023-05-17T09:36:13.544Z"
   },
   {
    "duration": 13,
    "start_time": "2023-05-17T09:36:15.569Z"
   },
   {
    "duration": 5,
    "start_time": "2023-05-17T09:36:42.368Z"
   },
   {
    "duration": 8,
    "start_time": "2023-05-17T09:37:34.615Z"
   },
   {
    "duration": 6,
    "start_time": "2023-05-17T09:37:51.979Z"
   },
   {
    "duration": 157,
    "start_time": "2023-05-17T09:38:27.228Z"
   },
   {
    "duration": 6,
    "start_time": "2023-05-17T09:39:37.023Z"
   },
   {
    "duration": 176,
    "start_time": "2023-05-17T09:40:39.275Z"
   },
   {
    "duration": 3,
    "start_time": "2023-05-17T09:40:57.530Z"
   },
   {
    "duration": 15,
    "start_time": "2023-05-17T09:40:58.275Z"
   },
   {
    "duration": 6,
    "start_time": "2023-05-17T09:41:08.014Z"
   },
   {
    "duration": 9,
    "start_time": "2023-05-17T09:41:48.556Z"
   },
   {
    "duration": 13,
    "start_time": "2023-05-17T09:42:02.173Z"
   },
   {
    "duration": 11,
    "start_time": "2023-05-17T09:42:08.005Z"
   },
   {
    "duration": 5,
    "start_time": "2023-05-17T09:42:40.157Z"
   },
   {
    "duration": 3,
    "start_time": "2023-05-17T09:42:45.447Z"
   },
   {
    "duration": 12,
    "start_time": "2023-05-17T09:42:46.493Z"
   },
   {
    "duration": 4,
    "start_time": "2023-05-17T09:42:59.086Z"
   },
   {
    "duration": 4083,
    "start_time": "2023-05-17T09:42:59.495Z"
   },
   {
    "duration": 5,
    "start_time": "2023-05-17T09:43:20.015Z"
   },
   {
    "duration": 8,
    "start_time": "2023-05-17T09:43:28.055Z"
   },
   {
    "duration": 8,
    "start_time": "2023-05-17T09:43:33.063Z"
   },
   {
    "duration": 16,
    "start_time": "2023-05-17T09:45:38.301Z"
   },
   {
    "duration": 23,
    "start_time": "2023-05-17T09:46:04.870Z"
   },
   {
    "duration": 5,
    "start_time": "2023-05-17T09:46:27.327Z"
   },
   {
    "duration": 4,
    "start_time": "2023-05-17T09:47:15.889Z"
   },
   {
    "duration": 6,
    "start_time": "2023-05-17T09:48:18.459Z"
   },
   {
    "duration": 4241,
    "start_time": "2023-05-17T09:50:25.278Z"
   },
   {
    "duration": 27078,
    "start_time": "2023-05-17T09:50:31.681Z"
   },
   {
    "duration": 22,
    "start_time": "2023-05-17T09:51:07.778Z"
   },
   {
    "duration": 112,
    "start_time": "2023-05-17T09:51:12.795Z"
   },
   {
    "duration": 4,
    "start_time": "2023-05-17T09:51:13.186Z"
   },
   {
    "duration": 10,
    "start_time": "2023-05-17T09:51:13.673Z"
   },
   {
    "duration": 4,
    "start_time": "2023-05-17T09:51:14.786Z"
   },
   {
    "duration": 6354,
    "start_time": "2023-05-17T09:51:15.650Z"
   },
   {
    "duration": 26475,
    "start_time": "2023-05-17T09:51:22.007Z"
   },
   {
    "duration": 5,
    "start_time": "2023-05-17T09:51:48.484Z"
   },
   {
    "duration": 4,
    "start_time": "2023-05-17T09:52:20.261Z"
   },
   {
    "duration": 4,
    "start_time": "2023-05-17T09:52:35.422Z"
   },
   {
    "duration": 26634,
    "start_time": "2023-05-17T09:53:12.638Z"
   },
   {
    "duration": 5,
    "start_time": "2023-05-17T09:54:22.057Z"
   },
   {
    "duration": 10305,
    "start_time": "2023-05-17T09:54:29.864Z"
   },
   {
    "duration": 1986,
    "start_time": "2023-05-17T09:56:25.034Z"
   },
   {
    "duration": 1897,
    "start_time": "2023-05-17T09:56:27.022Z"
   },
   {
    "duration": 826,
    "start_time": "2023-05-17T09:56:28.921Z"
   },
   {
    "duration": 14,
    "start_time": "2023-05-17T09:56:29.749Z"
   },
   {
    "duration": 39,
    "start_time": "2023-05-17T09:56:29.765Z"
   },
   {
    "duration": 7,
    "start_time": "2023-05-17T09:56:29.806Z"
   },
   {
    "duration": 13,
    "start_time": "2023-05-17T09:56:29.815Z"
   },
   {
    "duration": 6,
    "start_time": "2023-05-17T09:56:29.829Z"
   },
   {
    "duration": 22,
    "start_time": "2023-05-17T09:56:29.836Z"
   },
   {
    "duration": 149,
    "start_time": "2023-05-17T09:56:29.859Z"
   },
   {
    "duration": 0,
    "start_time": "2023-05-17T09:56:30.011Z"
   },
   {
    "duration": 0,
    "start_time": "2023-05-17T09:56:30.012Z"
   },
   {
    "duration": 0,
    "start_time": "2023-05-17T09:56:30.013Z"
   },
   {
    "duration": 0,
    "start_time": "2023-05-17T09:56:30.015Z"
   },
   {
    "duration": 0,
    "start_time": "2023-05-17T09:56:30.016Z"
   },
   {
    "duration": 0,
    "start_time": "2023-05-17T09:56:30.018Z"
   },
   {
    "duration": 0,
    "start_time": "2023-05-17T09:56:30.019Z"
   },
   {
    "duration": 0,
    "start_time": "2023-05-17T09:56:30.021Z"
   },
   {
    "duration": 0,
    "start_time": "2023-05-17T09:56:30.022Z"
   },
   {
    "duration": 0,
    "start_time": "2023-05-17T09:56:30.024Z"
   },
   {
    "duration": 2065,
    "start_time": "2023-05-17T09:56:57.677Z"
   },
   {
    "duration": 1594,
    "start_time": "2023-05-17T09:56:59.745Z"
   },
   {
    "duration": 887,
    "start_time": "2023-05-17T09:57:01.340Z"
   },
   {
    "duration": 15,
    "start_time": "2023-05-17T09:57:02.229Z"
   },
   {
    "duration": 100,
    "start_time": "2023-05-17T09:57:02.247Z"
   },
   {
    "duration": 9,
    "start_time": "2023-05-17T09:57:02.348Z"
   },
   {
    "duration": 15,
    "start_time": "2023-05-17T09:57:02.358Z"
   },
   {
    "duration": 14,
    "start_time": "2023-05-17T09:57:02.375Z"
   },
   {
    "duration": 41,
    "start_time": "2023-05-17T09:57:02.390Z"
   },
   {
    "duration": 101900,
    "start_time": "2023-05-17T09:57:02.433Z"
   },
   {
    "duration": 3,
    "start_time": "2023-05-17T09:58:44.335Z"
   },
   {
    "duration": 104,
    "start_time": "2023-05-17T09:58:44.340Z"
   },
   {
    "duration": 4,
    "start_time": "2023-05-17T09:58:44.446Z"
   },
   {
    "duration": 22,
    "start_time": "2023-05-17T09:58:44.459Z"
   },
   {
    "duration": 10,
    "start_time": "2023-05-17T09:58:44.483Z"
   },
   {
    "duration": 7477,
    "start_time": "2023-05-17T09:58:44.494Z"
   },
   {
    "duration": 28746,
    "start_time": "2023-05-17T09:58:51.974Z"
   },
   {
    "duration": 8,
    "start_time": "2023-05-17T09:59:20.722Z"
   },
   {
    "duration": 2673,
    "start_time": "2023-05-17T09:59:50.493Z"
   },
   {
    "duration": 2122,
    "start_time": "2023-05-17T09:59:53.168Z"
   },
   {
    "duration": 962,
    "start_time": "2023-05-17T09:59:55.293Z"
   },
   {
    "duration": 18,
    "start_time": "2023-05-17T09:59:56.258Z"
   },
   {
    "duration": 34,
    "start_time": "2023-05-17T09:59:56.279Z"
   },
   {
    "duration": 9,
    "start_time": "2023-05-17T09:59:56.315Z"
   },
   {
    "duration": 4,
    "start_time": "2023-05-17T09:59:56.326Z"
   },
   {
    "duration": 6,
    "start_time": "2023-05-17T09:59:56.358Z"
   },
   {
    "duration": 8,
    "start_time": "2023-05-17T09:59:56.365Z"
   },
   {
    "duration": 106011,
    "start_time": "2023-05-17T09:59:56.374Z"
   },
   {
    "duration": 7,
    "start_time": "2023-05-17T10:01:42.392Z"
   },
   {
    "duration": 110,
    "start_time": "2023-05-17T10:01:42.401Z"
   },
   {
    "duration": 4,
    "start_time": "2023-05-17T10:01:42.513Z"
   },
   {
    "duration": 10,
    "start_time": "2023-05-17T10:01:42.519Z"
   },
   {
    "duration": 4,
    "start_time": "2023-05-17T10:01:42.531Z"
   },
   {
    "duration": 7730,
    "start_time": "2023-05-17T10:01:42.537Z"
   },
   {
    "duration": 28615,
    "start_time": "2023-05-17T10:01:50.273Z"
   },
   {
    "duration": 8,
    "start_time": "2023-05-17T10:02:18.895Z"
   },
   {
    "duration": 715814,
    "start_time": "2023-05-17T10:02:18.905Z"
   },
   {
    "duration": 892142,
    "start_time": "2023-05-17T11:20:17.558Z"
   },
   {
    "duration": 5,
    "start_time": "2023-05-17T12:27:09.221Z"
   },
   {
    "duration": 134195,
    "start_time": "2023-05-17T12:27:09.428Z"
   },
   {
    "duration": 5,
    "start_time": "2023-05-17T12:29:23.627Z"
   },
   {
    "duration": 160,
    "start_time": "2023-05-17T12:29:23.634Z"
   },
   {
    "duration": 22,
    "start_time": "2023-05-17T12:29:23.796Z"
   },
   {
    "duration": 16,
    "start_time": "2023-05-17T12:29:23.823Z"
   },
   {
    "duration": 15,
    "start_time": "2023-05-17T12:29:23.843Z"
   },
   {
    "duration": 8594,
    "start_time": "2023-05-17T12:29:23.861Z"
   },
   {
    "duration": 6,
    "start_time": "2023-05-17T12:31:05.290Z"
   },
   {
    "duration": 940660,
    "start_time": "2023-05-17T12:31:08.075Z"
   },
   {
    "duration": 2810,
    "start_time": "2023-05-17T12:56:28.131Z"
   },
   {
    "duration": 2985,
    "start_time": "2023-05-17T12:56:30.943Z"
   },
   {
    "duration": 5537,
    "start_time": "2023-05-17T12:56:33.931Z"
   },
   {
    "duration": 27,
    "start_time": "2023-05-17T12:56:39.472Z"
   },
   {
    "duration": 48,
    "start_time": "2023-05-17T12:56:39.500Z"
   },
   {
    "duration": 21,
    "start_time": "2023-05-17T12:56:39.550Z"
   },
   {
    "duration": 4,
    "start_time": "2023-05-17T12:56:39.573Z"
   },
   {
    "duration": 9,
    "start_time": "2023-05-17T12:56:39.580Z"
   },
   {
    "duration": 7,
    "start_time": "2023-05-17T12:56:39.591Z"
   },
   {
    "duration": 135335,
    "start_time": "2023-05-17T12:56:39.601Z"
   },
   {
    "duration": 5,
    "start_time": "2023-05-17T12:58:54.939Z"
   },
   {
    "duration": 230,
    "start_time": "2023-05-17T12:58:54.948Z"
   },
   {
    "duration": 10,
    "start_time": "2023-05-17T12:58:55.187Z"
   },
   {
    "duration": 37,
    "start_time": "2023-05-17T12:58:55.201Z"
   },
   {
    "duration": 8,
    "start_time": "2023-05-17T12:58:55.243Z"
   },
   {
    "duration": 11095,
    "start_time": "2023-05-17T12:58:55.253Z"
   },
   {
    "duration": 5,
    "start_time": "2023-05-17T12:59:11.130Z"
   },
   {
    "duration": 77,
    "start_time": "2023-05-17T12:59:23.698Z"
   },
   {
    "duration": 3129,
    "start_time": "2023-05-17T13:02:11.213Z"
   },
   {
    "duration": 2031,
    "start_time": "2023-05-17T13:02:14.345Z"
   },
   {
    "duration": 1171,
    "start_time": "2023-05-17T13:02:16.384Z"
   },
   {
    "duration": 19,
    "start_time": "2023-05-17T13:02:17.559Z"
   },
   {
    "duration": 142,
    "start_time": "2023-05-17T13:02:17.582Z"
   },
   {
    "duration": 10,
    "start_time": "2023-05-17T13:02:17.726Z"
   },
   {
    "duration": 4,
    "start_time": "2023-05-17T13:02:17.738Z"
   },
   {
    "duration": 10,
    "start_time": "2023-05-17T13:02:17.744Z"
   },
   {
    "duration": 18,
    "start_time": "2023-05-17T13:02:17.755Z"
   },
   {
    "duration": 151957,
    "start_time": "2023-05-17T13:02:17.793Z"
   },
   {
    "duration": 4,
    "start_time": "2023-05-17T13:04:49.752Z"
   },
   {
    "duration": 152,
    "start_time": "2023-05-17T13:04:49.758Z"
   },
   {
    "duration": 8,
    "start_time": "2023-05-17T13:04:49.918Z"
   },
   {
    "duration": 13,
    "start_time": "2023-05-17T13:04:49.928Z"
   },
   {
    "duration": 7,
    "start_time": "2023-05-17T13:04:49.944Z"
   },
   {
    "duration": 9922,
    "start_time": "2023-05-17T13:04:49.956Z"
   },
   {
    "duration": 3,
    "start_time": "2023-05-17T13:04:59.879Z"
   },
   {
    "duration": 27,
    "start_time": "2023-05-17T13:04:59.883Z"
   },
   {
    "duration": 59,
    "start_time": "2023-05-17T13:06:18.887Z"
   },
   {
    "duration": 4,
    "start_time": "2023-05-17T13:06:44.812Z"
   },
   {
    "duration": 3,
    "start_time": "2023-05-17T13:10:59.845Z"
   },
   {
    "duration": 6,
    "start_time": "2023-05-17T13:11:25.116Z"
   },
   {
    "duration": 6,
    "start_time": "2023-05-17T13:11:36.820Z"
   },
   {
    "duration": 424,
    "start_time": "2023-05-17T13:21:19.727Z"
   },
   {
    "duration": 127,
    "start_time": "2023-05-17T13:21:28.647Z"
   },
   {
    "duration": 7,
    "start_time": "2023-05-17T13:21:47.227Z"
   },
   {
    "duration": 12,
    "start_time": "2023-05-17T13:21:57.138Z"
   },
   {
    "duration": 4,
    "start_time": "2023-05-17T13:22:33.299Z"
   },
   {
    "duration": 1025075,
    "start_time": "2023-05-17T13:22:34.501Z"
   },
   {
    "duration": 3,
    "start_time": "2023-05-17T13:44:41.976Z"
   },
   {
    "duration": 95,
    "start_time": "2023-05-17T13:44:42.253Z"
   },
   {
    "duration": 4,
    "start_time": "2023-05-17T13:44:43.750Z"
   },
   {
    "duration": 4,
    "start_time": "2023-05-17T13:45:05.536Z"
   },
   {
    "duration": 7187,
    "start_time": "2023-05-17T13:45:10.918Z"
   },
   {
    "duration": 6,
    "start_time": "2023-05-17T13:45:19.390Z"
   },
   {
    "duration": 2,
    "start_time": "2023-05-17T13:45:22.694Z"
   },
   {
    "duration": 7,
    "start_time": "2023-05-17T13:45:22.982Z"
   },
   {
    "duration": 9,
    "start_time": "2023-05-17T13:45:23.655Z"
   },
   {
    "duration": 613968,
    "start_time": "2023-05-17T13:45:24.303Z"
   },
   {
    "duration": 422,
    "start_time": "2023-05-17T13:55:58.944Z"
   },
   {
    "duration": 3,
    "start_time": "2023-05-17T13:56:20.152Z"
   },
   {
    "duration": 81,
    "start_time": "2023-05-17T13:56:20.473Z"
   },
   {
    "duration": 5,
    "start_time": "2023-05-17T13:56:20.841Z"
   },
   {
    "duration": 9,
    "start_time": "2023-05-17T13:56:21.345Z"
   },
   {
    "duration": 12,
    "start_time": "2023-05-17T13:56:25.051Z"
   },
   {
    "duration": 3,
    "start_time": "2023-05-17T13:56:31.401Z"
   },
   {
    "duration": 6593,
    "start_time": "2023-05-17T13:56:32.216Z"
   },
   {
    "duration": 5,
    "start_time": "2023-05-17T13:56:40.113Z"
   },
   {
    "duration": 5,
    "start_time": "2023-05-17T13:56:45.393Z"
   },
   {
    "duration": 6,
    "start_time": "2023-05-17T13:56:51.906Z"
   },
   {
    "duration": 506800,
    "start_time": "2023-05-17T13:56:52.642Z"
   },
   {
    "duration": 441,
    "start_time": "2023-05-17T14:05:19.444Z"
   },
   {
    "duration": 3,
    "start_time": "2023-05-17T14:08:03.416Z"
   },
   {
    "duration": 117,
    "start_time": "2023-05-17T14:08:03.708Z"
   },
   {
    "duration": 5,
    "start_time": "2023-05-17T14:08:04.324Z"
   },
   {
    "duration": 9,
    "start_time": "2023-05-17T14:08:04.789Z"
   },
   {
    "duration": 16,
    "start_time": "2023-05-17T14:08:11.884Z"
   },
   {
    "duration": 7284,
    "start_time": "2023-05-17T14:08:12.756Z"
   },
   {
    "duration": 5,
    "start_time": "2023-05-17T14:08:20.043Z"
   },
   {
    "duration": 29818,
    "start_time": "2023-05-17T14:08:20.056Z"
   },
   {
    "duration": 8,
    "start_time": "2023-05-17T14:08:49.878Z"
   },
   {
    "duration": 12,
    "start_time": "2023-05-17T14:08:49.888Z"
   },
   {
    "duration": 894521,
    "start_time": "2023-05-17T14:08:49.904Z"
   },
   {
    "duration": 467,
    "start_time": "2023-05-17T14:23:44.427Z"
   },
   {
    "duration": 10,
    "start_time": "2023-05-17T14:28:28.896Z"
   },
   {
    "duration": 882683,
    "start_time": "2023-05-17T14:28:34.014Z"
   },
   {
    "duration": 412,
    "start_time": "2023-05-17T14:43:16.707Z"
   },
   {
    "duration": 221,
    "start_time": "2023-05-18T08:59:34.112Z"
   },
   {
    "duration": 2545,
    "start_time": "2023-05-18T09:00:18.529Z"
   },
   {
    "duration": 4,
    "start_time": "2023-05-18T09:00:54.034Z"
   },
   {
    "duration": 128,
    "start_time": "2023-05-18T09:00:54.271Z"
   },
   {
    "duration": 5,
    "start_time": "2023-05-18T09:00:54.508Z"
   },
   {
    "duration": 9,
    "start_time": "2023-05-18T09:00:54.818Z"
   },
   {
    "duration": 4,
    "start_time": "2023-05-18T09:01:09.788Z"
   },
   {
    "duration": 6854,
    "start_time": "2023-05-18T09:01:11.322Z"
   },
   {
    "duration": 5,
    "start_time": "2023-05-18T09:01:18.179Z"
   },
   {
    "duration": 1254,
    "start_time": "2023-05-18T09:01:20.268Z"
   },
   {
    "duration": 3,
    "start_time": "2023-05-18T09:01:32.835Z"
   },
   {
    "duration": 89,
    "start_time": "2023-05-18T09:01:33.506Z"
   },
   {
    "duration": 5,
    "start_time": "2023-05-18T09:01:33.908Z"
   },
   {
    "duration": 8,
    "start_time": "2023-05-18T09:01:34.775Z"
   },
   {
    "duration": 15,
    "start_time": "2023-05-18T09:01:37.076Z"
   },
   {
    "duration": 6867,
    "start_time": "2023-05-18T09:01:41.312Z"
   },
   {
    "duration": 1324,
    "start_time": "2023-05-18T09:02:01.168Z"
   },
   {
    "duration": 4,
    "start_time": "2023-05-18T09:02:29.633Z"
   },
   {
    "duration": 5,
    "start_time": "2023-05-18T09:02:38.879Z"
   },
   {
    "duration": 3,
    "start_time": "2023-05-18T09:02:53.156Z"
   },
   {
    "duration": 106,
    "start_time": "2023-05-18T09:02:53.481Z"
   },
   {
    "duration": 4,
    "start_time": "2023-05-18T09:02:55.315Z"
   },
   {
    "duration": 9,
    "start_time": "2023-05-18T09:03:06.112Z"
   },
   {
    "duration": 13,
    "start_time": "2023-05-18T09:03:08.012Z"
   },
   {
    "duration": 6683,
    "start_time": "2023-05-18T09:03:08.812Z"
   },
   {
    "duration": 5,
    "start_time": "2023-05-18T09:03:15.497Z"
   },
   {
    "duration": 1191,
    "start_time": "2023-05-18T09:03:24.992Z"
   },
   {
    "duration": 14,
    "start_time": "2023-05-18T09:03:40.311Z"
   },
   {
    "duration": 26,
    "start_time": "2023-05-18T09:03:40.711Z"
   },
   {
    "duration": 5,
    "start_time": "2023-05-18T09:03:41.075Z"
   },
   {
    "duration": 3,
    "start_time": "2023-05-18T09:03:44.892Z"
   },
   {
    "duration": 87,
    "start_time": "2023-05-18T09:03:45.116Z"
   },
   {
    "duration": 4,
    "start_time": "2023-05-18T09:03:45.308Z"
   },
   {
    "duration": 12,
    "start_time": "2023-05-18T09:03:45.567Z"
   },
   {
    "duration": 4,
    "start_time": "2023-05-18T09:03:48.277Z"
   },
   {
    "duration": 6876,
    "start_time": "2023-05-18T09:03:48.794Z"
   },
   {
    "duration": 857,
    "start_time": "2023-05-18T09:03:55.672Z"
   },
   {
    "duration": 2397,
    "start_time": "2023-05-18T09:34:14.634Z"
   },
   {
    "duration": 3380,
    "start_time": "2023-05-18T09:34:17.033Z"
   },
   {
    "duration": 13,
    "start_time": "2023-05-18T09:34:20.415Z"
   },
   {
    "duration": 46,
    "start_time": "2023-05-18T09:34:20.430Z"
   },
   {
    "duration": 7,
    "start_time": "2023-05-18T09:34:20.478Z"
   },
   {
    "duration": 8,
    "start_time": "2023-05-18T09:34:20.486Z"
   },
   {
    "duration": 13,
    "start_time": "2023-05-18T09:34:20.496Z"
   },
   {
    "duration": 130,
    "start_time": "2023-05-18T09:35:07.419Z"
   },
   {
    "duration": 3,
    "start_time": "2023-05-18T09:35:10.079Z"
   },
   {
    "duration": 13,
    "start_time": "2023-05-18T09:35:10.914Z"
   },
   {
    "duration": 15,
    "start_time": "2023-05-18T09:35:21.079Z"
   },
   {
    "duration": 3,
    "start_time": "2023-05-18T09:35:36.171Z"
   },
   {
    "duration": 4,
    "start_time": "2023-05-18T09:35:36.591Z"
   },
   {
    "duration": 3,
    "start_time": "2023-05-18T09:44:07.168Z"
   },
   {
    "duration": 4,
    "start_time": "2023-05-18T09:44:07.479Z"
   },
   {
    "duration": 3,
    "start_time": "2023-05-18T09:44:29.076Z"
   },
   {
    "duration": 4,
    "start_time": "2023-05-18T09:44:29.427Z"
   },
   {
    "duration": 4,
    "start_time": "2023-05-18T09:44:55.801Z"
   },
   {
    "duration": 4,
    "start_time": "2023-05-18T09:44:56.299Z"
   },
   {
    "duration": 3,
    "start_time": "2023-05-18T09:45:39.087Z"
   },
   {
    "duration": 5,
    "start_time": "2023-05-18T09:45:39.551Z"
   },
   {
    "duration": 3,
    "start_time": "2023-05-18T09:45:58.187Z"
   },
   {
    "duration": 4,
    "start_time": "2023-05-18T09:45:58.519Z"
   },
   {
    "duration": 3,
    "start_time": "2023-05-18T09:46:12.583Z"
   },
   {
    "duration": 5,
    "start_time": "2023-05-18T09:46:12.881Z"
   },
   {
    "duration": 3,
    "start_time": "2023-05-18T09:46:46.439Z"
   },
   {
    "duration": 5,
    "start_time": "2023-05-18T09:46:46.783Z"
   },
   {
    "duration": 3,
    "start_time": "2023-05-18T09:49:18.983Z"
   },
   {
    "duration": 3,
    "start_time": "2023-05-18T09:49:19.388Z"
   },
   {
    "duration": 3,
    "start_time": "2023-05-18T09:50:06.511Z"
   },
   {
    "duration": 3,
    "start_time": "2023-05-18T09:55:25.699Z"
   },
   {
    "duration": 648,
    "start_time": "2023-05-18T09:55:26.122Z"
   },
   {
    "duration": 24,
    "start_time": "2023-05-18T09:56:23.942Z"
   },
   {
    "duration": 698,
    "start_time": "2023-05-18T09:56:24.485Z"
   },
   {
    "duration": 21,
    "start_time": "2023-05-18T09:56:48.073Z"
   },
   {
    "duration": 4,
    "start_time": "2023-05-18T09:56:48.607Z"
   },
   {
    "duration": 3,
    "start_time": "2023-05-18T09:56:59.134Z"
   },
   {
    "duration": 654,
    "start_time": "2023-05-18T09:56:59.849Z"
   },
   {
    "duration": 5,
    "start_time": "2023-05-18T10:01:00.312Z"
   },
   {
    "duration": 55,
    "start_time": "2023-05-18T10:01:31.098Z"
   },
   {
    "duration": 5,
    "start_time": "2023-05-18T10:01:31.575Z"
   },
   {
    "duration": 24,
    "start_time": "2023-05-18T10:01:41.536Z"
   },
   {
    "duration": 726,
    "start_time": "2023-05-18T10:01:41.996Z"
   },
   {
    "duration": 5,
    "start_time": "2023-05-18T10:02:04.568Z"
   },
   {
    "duration": 76437,
    "start_time": "2023-05-18T10:02:42.289Z"
   },
   {
    "duration": 8,
    "start_time": "2023-05-18T10:04:06.686Z"
   },
   {
    "duration": 19,
    "start_time": "2023-05-18T10:06:27.174Z"
   },
   {
    "duration": 4,
    "start_time": "2023-05-18T10:06:28.770Z"
   },
   {
    "duration": 4,
    "start_time": "2023-05-18T10:07:11.597Z"
   },
   {
    "duration": 5,
    "start_time": "2023-05-18T10:07:12.582Z"
   },
   {
    "duration": 716,
    "start_time": "2023-05-18T10:07:24.681Z"
   },
   {
    "duration": 75644,
    "start_time": "2023-05-18T10:07:34.662Z"
   },
   {
    "duration": 70685,
    "start_time": "2023-05-18T10:08:50.307Z"
   },
   {
    "duration": 10,
    "start_time": "2023-05-18T10:10:00.994Z"
   },
   {
    "duration": 5,
    "start_time": "2023-05-18T10:11:30.954Z"
   },
   {
    "duration": 4,
    "start_time": "2023-05-18T10:11:41.787Z"
   },
   {
    "duration": 41,
    "start_time": "2023-05-18T10:12:21.275Z"
   },
   {
    "duration": 4,
    "start_time": "2023-05-18T10:12:33.721Z"
   },
   {
    "duration": 4,
    "start_time": "2023-05-18T10:12:48.222Z"
   },
   {
    "duration": 4,
    "start_time": "2023-05-18T10:12:48.451Z"
   },
   {
    "duration": 5,
    "start_time": "2023-05-18T10:13:00.709Z"
   },
   {
    "duration": 5,
    "start_time": "2023-05-18T10:13:04.394Z"
   },
   {
    "duration": 4,
    "start_time": "2023-05-18T10:13:07.302Z"
   },
   {
    "duration": 6,
    "start_time": "2023-05-18T10:16:35.986Z"
   },
   {
    "duration": 4,
    "start_time": "2023-05-18T10:17:25.502Z"
   },
   {
    "duration": 1406,
    "start_time": "2023-05-18T10:17:26.568Z"
   },
   {
    "duration": 55333,
    "start_time": "2023-05-18T10:17:29.295Z"
   },
   {
    "duration": 0,
    "start_time": "2023-05-18T10:18:24.630Z"
   },
   {
    "duration": 81,
    "start_time": "2023-05-18T10:18:27.699Z"
   },
   {
    "duration": 759,
    "start_time": "2023-05-18T10:18:32.277Z"
   },
   {
    "duration": 7,
    "start_time": "2023-05-18T10:18:33.038Z"
   },
   {
    "duration": 36,
    "start_time": "2023-05-18T10:18:33.057Z"
   },
   {
    "duration": 6,
    "start_time": "2023-05-18T10:18:33.095Z"
   },
   {
    "duration": 7,
    "start_time": "2023-05-18T10:18:33.103Z"
   },
   {
    "duration": 9,
    "start_time": "2023-05-18T10:18:33.163Z"
   },
   {
    "duration": 4,
    "start_time": "2023-05-18T10:18:33.622Z"
   },
   {
    "duration": 4,
    "start_time": "2023-05-18T10:18:34.450Z"
   },
   {
    "duration": 4,
    "start_time": "2023-05-18T10:19:01.720Z"
   },
   {
    "duration": 4,
    "start_time": "2023-05-18T10:19:07.774Z"
   },
   {
    "duration": 4,
    "start_time": "2023-05-18T10:19:22.601Z"
   },
   {
    "duration": 4,
    "start_time": "2023-05-18T10:19:29.218Z"
   },
   {
    "duration": 4,
    "start_time": "2023-05-18T10:20:05.415Z"
   },
   {
    "duration": 4,
    "start_time": "2023-05-18T10:20:16.219Z"
   },
   {
    "duration": 6,
    "start_time": "2023-05-18T10:23:38.267Z"
   },
   {
    "duration": 7,
    "start_time": "2023-05-18T10:23:41.572Z"
   },
   {
    "duration": 14,
    "start_time": "2023-05-18T10:24:04.754Z"
   },
   {
    "duration": 5,
    "start_time": "2023-05-18T10:24:05.170Z"
   },
   {
    "duration": 5,
    "start_time": "2023-05-18T10:24:10.968Z"
   },
   {
    "duration": 5,
    "start_time": "2023-05-18T10:24:11.781Z"
   },
   {
    "duration": 3,
    "start_time": "2023-05-18T10:24:36.526Z"
   },
   {
    "duration": 4,
    "start_time": "2023-05-18T10:24:36.909Z"
   },
   {
    "duration": 271,
    "start_time": "2023-05-18T10:24:58.354Z"
   },
   {
    "duration": 3,
    "start_time": "2023-05-18T10:25:07.080Z"
   },
   {
    "duration": 4,
    "start_time": "2023-05-18T10:25:07.422Z"
   },
   {
    "duration": 213,
    "start_time": "2023-05-18T10:25:09.193Z"
   },
   {
    "duration": 4017,
    "start_time": "2023-05-18T10:25:21.711Z"
   },
   {
    "duration": 33151,
    "start_time": "2023-05-18T10:25:27.877Z"
   },
   {
    "duration": 11,
    "start_time": "2023-05-18T10:26:01.030Z"
   },
   {
    "duration": 4,
    "start_time": "2023-05-18T10:27:15.418Z"
   },
   {
    "duration": 4,
    "start_time": "2023-05-18T10:27:15.698Z"
   },
   {
    "duration": 10,
    "start_time": "2023-05-18T10:29:19.083Z"
   },
   {
    "duration": 4,
    "start_time": "2023-05-18T10:29:28.199Z"
   },
   {
    "duration": 6,
    "start_time": "2023-05-18T10:29:30.855Z"
   },
   {
    "duration": 7,
    "start_time": "2023-05-18T10:33:21.070Z"
   },
   {
    "duration": 83,
    "start_time": "2023-05-18T10:33:31.764Z"
   },
   {
    "duration": 96,
    "start_time": "2023-05-18T10:33:40.912Z"
   },
   {
    "duration": 12,
    "start_time": "2023-05-18T10:33:43.971Z"
   },
   {
    "duration": 8221,
    "start_time": "2023-05-18T10:34:21.610Z"
   },
   {
    "duration": 582389,
    "start_time": "2023-05-18T10:35:10.659Z"
   },
   {
    "duration": 96,
    "start_time": "2023-05-18T10:44:53.051Z"
   },
   {
    "duration": 4,
    "start_time": "2023-05-18T10:44:59.792Z"
   },
   {
    "duration": 88,
    "start_time": "2023-05-18T10:45:01.686Z"
   },
   {
    "duration": 8511,
    "start_time": "2023-05-18T10:45:02.385Z"
   },
   {
    "duration": 155632,
    "start_time": "2023-05-18T10:45:14.819Z"
   },
   {
    "duration": 35,
    "start_time": "2023-05-18T10:47:50.453Z"
   },
   {
    "duration": 30171,
    "start_time": "2023-05-18T10:47:54.773Z"
   },
   {
    "duration": 23,
    "start_time": "2023-05-18T10:48:24.946Z"
   },
   {
    "duration": 4,
    "start_time": "2023-05-18T10:48:29.914Z"
   },
   {
    "duration": 69,
    "start_time": "2023-05-18T10:48:30.371Z"
   },
   {
    "duration": 7550,
    "start_time": "2023-05-18T10:48:30.777Z"
   },
   {
    "duration": 3,
    "start_time": "2023-05-18T10:48:44.523Z"
   },
   {
    "duration": 67,
    "start_time": "2023-05-18T10:48:45.184Z"
   },
   {
    "duration": 6874,
    "start_time": "2023-05-18T10:48:45.483Z"
   },
   {
    "duration": 65363,
    "start_time": "2023-05-18T10:48:52.361Z"
   },
   {
    "duration": 14,
    "start_time": "2023-05-18T10:49:57.726Z"
   },
   {
    "duration": 91081,
    "start_time": "2023-05-18T10:50:10.168Z"
   },
   {
    "duration": 147,
    "start_time": "2023-05-18T10:51:41.251Z"
   },
   {
    "duration": 26,
    "start_time": "2023-05-18T10:51:53.357Z"
   },
   {
    "duration": 81,
    "start_time": "2023-05-18T10:51:53.688Z"
   },
   {
    "duration": 7348,
    "start_time": "2023-05-18T10:51:54.273Z"
   },
   {
    "duration": 1024072,
    "start_time": "2023-05-18T10:52:01.623Z"
   },
   {
    "duration": 215,
    "start_time": "2023-05-18T11:09:05.696Z"
   },
   {
    "duration": 15,
    "start_time": "2023-05-18T11:30:40.772Z"
   },
   {
    "duration": 93,
    "start_time": "2023-05-18T11:30:40.977Z"
   },
   {
    "duration": 7239,
    "start_time": "2023-05-18T11:30:41.178Z"
   },
   {
    "duration": 1259732,
    "start_time": "2023-05-18T11:30:48.419Z"
   },
   {
    "duration": 228,
    "start_time": "2023-05-18T11:51:48.153Z"
   },
   {
    "duration": 336,
    "start_time": "2023-05-18T11:51:48.382Z"
   },
   {
    "duration": 83142,
    "start_time": "2023-05-18T11:52:30.148Z"
   },
   {
    "duration": 760033,
    "start_time": "2023-05-18T11:54:07.657Z"
   },
   {
    "duration": 221,
    "start_time": "2023-05-18T12:06:47.692Z"
   },
   {
    "duration": 1773,
    "start_time": "2023-05-18T12:11:30.447Z"
   },
   {
    "duration": 1725,
    "start_time": "2023-05-18T12:11:40.387Z"
   },
   {
    "duration": 15138,
    "start_time": "2023-05-18T12:12:18.351Z"
   },
   {
    "duration": 17,
    "start_time": "2023-05-18T12:12:33.491Z"
   },
   {
    "duration": 19,
    "start_time": "2023-05-18T12:12:55.535Z"
   },
   {
    "duration": 2547,
    "start_time": "2023-05-18T12:14:18.300Z"
   },
   {
    "duration": 4198,
    "start_time": "2023-05-18T12:14:20.849Z"
   },
   {
    "duration": 18,
    "start_time": "2023-05-18T12:14:25.049Z"
   },
   {
    "duration": 40,
    "start_time": "2023-05-18T12:14:25.069Z"
   },
   {
    "duration": 9,
    "start_time": "2023-05-18T12:14:25.110Z"
   },
   {
    "duration": 3,
    "start_time": "2023-05-18T12:14:25.120Z"
   },
   {
    "duration": 21,
    "start_time": "2023-05-18T12:14:25.125Z"
   },
   {
    "duration": 5,
    "start_time": "2023-05-18T12:14:25.148Z"
   },
   {
    "duration": 1388,
    "start_time": "2023-05-18T12:14:25.155Z"
   },
   {
    "duration": 4440,
    "start_time": "2023-05-18T12:14:26.546Z"
   },
   {
    "duration": 34376,
    "start_time": "2023-05-18T12:14:30.988Z"
   },
   {
    "duration": 19,
    "start_time": "2023-05-18T12:15:05.370Z"
   },
   {
    "duration": 7,
    "start_time": "2023-05-18T12:15:05.392Z"
   },
   {
    "duration": 11,
    "start_time": "2023-05-18T12:15:05.402Z"
   },
   {
    "duration": 114,
    "start_time": "2023-05-18T12:15:05.415Z"
   },
   {
    "duration": 2,
    "start_time": "2023-05-18T12:15:05.531Z"
   },
   {
    "duration": 16,
    "start_time": "2023-05-18T12:15:05.535Z"
   },
   {
    "duration": 10,
    "start_time": "2023-05-18T12:15:47.567Z"
   },
   {
    "duration": 9,
    "start_time": "2023-05-18T12:16:18.074Z"
   },
   {
    "duration": 134,
    "start_time": "2023-05-18T12:17:30.200Z"
   },
   {
    "duration": 11,
    "start_time": "2023-05-18T12:18:13.488Z"
   },
   {
    "duration": 3,
    "start_time": "2023-05-18T12:18:21.394Z"
   },
   {
    "duration": 4,
    "start_time": "2023-05-18T12:20:25.754Z"
   },
   {
    "duration": 61,
    "start_time": "2023-05-18T12:20:58.770Z"
   },
   {
    "duration": 79,
    "start_time": "2023-05-18T12:22:52.841Z"
   },
   {
    "duration": 8,
    "start_time": "2023-05-18T12:23:01.276Z"
   },
   {
    "duration": 211105,
    "start_time": "2023-05-18T12:23:22.083Z"
   },
   {
    "duration": 6,
    "start_time": "2023-05-18T12:26:53.190Z"
   },
   {
    "duration": 5,
    "start_time": "2023-05-18T12:26:57.410Z"
   },
   {
    "duration": 5,
    "start_time": "2023-05-18T12:27:40.873Z"
   },
   {
    "duration": 357776,
    "start_time": "2023-05-18T12:27:43.480Z"
   },
   {
    "duration": 4,
    "start_time": "2023-05-18T12:34:32.165Z"
   },
   {
    "duration": 7,
    "start_time": "2023-05-18T12:35:26.782Z"
   },
   {
    "duration": 3,
    "start_time": "2023-05-18T12:35:27.772Z"
   },
   {
    "duration": 26,
    "start_time": "2023-05-18T13:08:30.203Z"
   },
   {
    "duration": 2891,
    "start_time": "2023-05-18T13:09:13.821Z"
   },
   {
    "duration": 3585,
    "start_time": "2023-05-18T13:09:16.715Z"
   },
   {
    "duration": 13,
    "start_time": "2023-05-18T13:09:20.302Z"
   },
   {
    "duration": 58,
    "start_time": "2023-05-18T13:09:20.317Z"
   },
   {
    "duration": 8,
    "start_time": "2023-05-18T13:09:20.376Z"
   },
   {
    "duration": 19,
    "start_time": "2023-05-18T13:09:20.386Z"
   },
   {
    "duration": 8,
    "start_time": "2023-05-18T13:09:20.406Z"
   },
   {
    "duration": 16,
    "start_time": "2023-05-18T13:09:20.415Z"
   },
   {
    "duration": 1248,
    "start_time": "2023-05-18T13:09:20.432Z"
   },
   {
    "duration": 4105,
    "start_time": "2023-05-18T13:09:21.682Z"
   },
   {
    "duration": 34201,
    "start_time": "2023-05-18T13:09:25.789Z"
   },
   {
    "duration": 8,
    "start_time": "2023-05-18T13:09:59.992Z"
   },
   {
    "duration": 10,
    "start_time": "2023-05-18T13:10:00.001Z"
   },
   {
    "duration": 21,
    "start_time": "2023-05-18T13:10:00.013Z"
   },
   {
    "duration": 83,
    "start_time": "2023-05-18T13:10:00.036Z"
   },
   {
    "duration": 3,
    "start_time": "2023-05-18T13:10:00.120Z"
   },
   {
    "duration": 13,
    "start_time": "2023-05-18T13:10:00.125Z"
   },
   {
    "duration": 19,
    "start_time": "2023-05-18T13:10:00.140Z"
   },
   {
    "duration": 11,
    "start_time": "2023-05-18T13:10:00.165Z"
   },
   {
    "duration": 15,
    "start_time": "2023-05-18T13:10:00.179Z"
   },
   {
    "duration": 370421,
    "start_time": "2023-05-18T13:10:00.195Z"
   },
   {
    "duration": 1582,
    "start_time": "2023-05-18T13:16:29.133Z"
   },
   {
    "duration": 906,
    "start_time": "2023-05-18T13:16:30.717Z"
   },
   {
    "duration": 18,
    "start_time": "2023-05-18T13:16:31.625Z"
   },
   {
    "duration": 66,
    "start_time": "2023-05-18T13:16:31.646Z"
   },
   {
    "duration": 21,
    "start_time": "2023-05-18T13:16:31.713Z"
   },
   {
    "duration": 27,
    "start_time": "2023-05-18T13:16:31.736Z"
   },
   {
    "duration": 29,
    "start_time": "2023-05-18T13:16:31.766Z"
   },
   {
    "duration": 30,
    "start_time": "2023-05-18T13:16:31.798Z"
   },
   {
    "duration": 1396,
    "start_time": "2023-05-18T13:16:31.830Z"
   },
   {
    "duration": 4376,
    "start_time": "2023-05-18T13:16:33.229Z"
   },
   {
    "duration": 33862,
    "start_time": "2023-05-18T13:16:37.607Z"
   },
   {
    "duration": 11,
    "start_time": "2023-05-18T13:17:11.471Z"
   },
   {
    "duration": 9,
    "start_time": "2023-05-18T13:17:11.483Z"
   },
   {
    "duration": 9,
    "start_time": "2023-05-18T13:17:11.494Z"
   },
   {
    "duration": 83,
    "start_time": "2023-05-18T13:17:11.505Z"
   },
   {
    "duration": 2,
    "start_time": "2023-05-18T13:17:11.591Z"
   },
   {
    "duration": 14,
    "start_time": "2023-05-18T13:17:11.595Z"
   },
   {
    "duration": 17,
    "start_time": "2023-05-18T13:17:11.612Z"
   },
   {
    "duration": 31,
    "start_time": "2023-05-18T13:17:11.631Z"
   },
   {
    "duration": 9,
    "start_time": "2023-05-18T13:17:11.663Z"
   },
   {
    "duration": 11560961,
    "start_time": "2023-05-18T13:17:11.673Z"
   },
   {
    "duration": 3,
    "start_time": "2023-05-18T19:09:45.916Z"
   },
   {
    "duration": 51763,
    "start_time": "2023-05-18T19:10:07.346Z"
   },
   {
    "duration": 3,
    "start_time": "2023-05-18T19:11:02.853Z"
   },
   {
    "duration": 295733,
    "start_time": "2023-05-18T19:11:03.478Z"
   },
   {
    "duration": 3,
    "start_time": "2023-05-18T19:17:47.627Z"
   },
   {
    "duration": 126734,
    "start_time": "2023-05-18T19:17:48.672Z"
   },
   {
    "duration": 4,
    "start_time": "2023-05-18T19:20:25.466Z"
   },
   {
    "duration": 3,
    "start_time": "2023-05-18T19:20:45.142Z"
   },
   {
    "duration": 131529,
    "start_time": "2023-05-18T19:20:50.251Z"
   },
   {
    "duration": 2593,
    "start_time": "2023-05-18T20:11:19.091Z"
   },
   {
    "duration": 3451,
    "start_time": "2023-05-18T20:11:21.685Z"
   },
   {
    "duration": 14,
    "start_time": "2023-05-18T20:11:25.137Z"
   },
   {
    "duration": 57,
    "start_time": "2023-05-18T20:11:25.152Z"
   },
   {
    "duration": 54,
    "start_time": "2023-05-18T20:11:25.211Z"
   },
   {
    "duration": 47,
    "start_time": "2023-05-18T20:11:25.266Z"
   },
   {
    "duration": 10,
    "start_time": "2023-05-18T20:11:25.315Z"
   },
   {
    "duration": 5,
    "start_time": "2023-05-18T20:11:25.327Z"
   },
   {
    "duration": 1149,
    "start_time": "2023-05-18T20:11:25.334Z"
   },
   {
    "duration": 3811,
    "start_time": "2023-05-18T20:11:26.485Z"
   },
   {
    "duration": 30919,
    "start_time": "2023-05-18T20:11:30.298Z"
   },
   {
    "duration": 8,
    "start_time": "2023-05-18T20:12:01.219Z"
   },
   {
    "duration": 31,
    "start_time": "2023-05-18T20:12:01.229Z"
   },
   {
    "duration": 29,
    "start_time": "2023-05-18T20:12:01.263Z"
   },
   {
    "duration": 100,
    "start_time": "2023-05-18T20:12:01.294Z"
   },
   {
    "duration": 2,
    "start_time": "2023-05-18T20:12:01.396Z"
   },
   {
    "duration": 41,
    "start_time": "2023-05-18T20:12:01.400Z"
   },
   {
    "duration": 42,
    "start_time": "2023-05-18T20:12:01.442Z"
   },
   {
    "duration": 24,
    "start_time": "2023-05-18T20:12:01.486Z"
   },
   {
    "duration": 51,
    "start_time": "2023-05-18T20:12:01.511Z"
   },
   {
    "duration": 11886947,
    "start_time": "2023-05-18T20:12:01.563Z"
   },
   {
    "duration": 3,
    "start_time": "2023-05-18T23:30:08.512Z"
   },
   {
    "duration": 193752,
    "start_time": "2023-05-18T23:30:08.516Z"
   },
   {
    "duration": 122,
    "start_time": "2023-05-19T05:01:33.645Z"
   },
   {
    "duration": 16,
    "start_time": "2023-05-19T05:03:10.110Z"
   },
   {
    "duration": 1134,
    "start_time": "2023-05-19T05:03:29.117Z"
   },
   {
    "duration": 1304,
    "start_time": "2023-05-19T05:03:42.165Z"
   },
   {
    "duration": 1555,
    "start_time": "2023-05-19T05:03:54.900Z"
   },
   {
    "duration": 39,
    "start_time": "2023-05-19T05:05:39.631Z"
   },
   {
    "duration": 4,
    "start_time": "2023-05-19T05:05:43.693Z"
   },
   {
    "duration": 4,
    "start_time": "2023-05-19T05:05:56.135Z"
   },
   {
    "duration": 215493,
    "start_time": "2023-05-19T05:05:56.876Z"
   },
   {
    "duration": 9,
    "start_time": "2023-05-19T05:12:24.299Z"
   },
   {
    "duration": 1185,
    "start_time": "2023-05-19T05:12:30.619Z"
   },
   {
    "duration": 4,
    "start_time": "2023-05-19T05:13:29.216Z"
   },
   {
    "duration": 1548,
    "start_time": "2023-05-19T05:14:13.664Z"
   },
   {
    "duration": 836,
    "start_time": "2023-05-19T05:14:15.214Z"
   },
   {
    "duration": 16,
    "start_time": "2023-05-19T05:14:16.052Z"
   },
   {
    "duration": 35,
    "start_time": "2023-05-19T05:14:16.070Z"
   },
   {
    "duration": 8,
    "start_time": "2023-05-19T05:14:16.107Z"
   },
   {
    "duration": 4,
    "start_time": "2023-05-19T05:14:16.117Z"
   },
   {
    "duration": 35,
    "start_time": "2023-05-19T05:14:16.123Z"
   },
   {
    "duration": 4,
    "start_time": "2023-05-19T05:14:16.160Z"
   },
   {
    "duration": 1093,
    "start_time": "2023-05-19T05:14:16.165Z"
   },
   {
    "duration": 3487,
    "start_time": "2023-05-19T05:14:17.259Z"
   },
   {
    "duration": 28006,
    "start_time": "2023-05-19T05:14:20.747Z"
   },
   {
    "duration": 8,
    "start_time": "2023-05-19T05:14:48.756Z"
   },
   {
    "duration": 8,
    "start_time": "2023-05-19T05:14:48.765Z"
   },
   {
    "duration": 4,
    "start_time": "2023-05-19T05:14:48.775Z"
   },
   {
    "duration": 79,
    "start_time": "2023-05-19T05:14:48.780Z"
   },
   {
    "duration": 2,
    "start_time": "2023-05-19T05:14:48.860Z"
   },
   {
    "duration": 13,
    "start_time": "2023-05-19T05:14:48.864Z"
   },
   {
    "duration": 5,
    "start_time": "2023-05-19T05:14:48.878Z"
   },
   {
    "duration": 6,
    "start_time": "2023-05-19T05:14:48.885Z"
   },
   {
    "duration": 3,
    "start_time": "2023-05-19T05:14:48.893Z"
   },
   {
    "duration": 12563797,
    "start_time": "2023-05-19T05:14:48.898Z"
   },
   {
    "duration": 4,
    "start_time": "2023-05-19T08:44:12.698Z"
   },
   {
    "duration": 186416,
    "start_time": "2023-05-19T08:44:12.704Z"
   },
   {
    "duration": 23,
    "start_time": "2023-05-19T08:47:19.122Z"
   },
   {
    "duration": 4,
    "start_time": "2023-05-19T08:47:25.350Z"
   },
   {
    "duration": 48,
    "start_time": "2023-05-19T08:47:56.073Z"
   },
   {
    "duration": 3,
    "start_time": "2023-05-19T08:48:12.928Z"
   },
   {
    "duration": 253052,
    "start_time": "2023-05-19T08:48:13.993Z"
   },
   {
    "duration": 12,
    "start_time": "2023-05-19T08:52:27.047Z"
   },
   {
    "duration": 1413,
    "start_time": "2023-05-19T08:52:32.113Z"
   },
   {
    "duration": 1757,
    "start_time": "2023-05-19T08:52:40.128Z"
   },
   {
    "duration": 1557,
    "start_time": "2023-05-19T08:53:49.272Z"
   },
   {
    "duration": 8,
    "start_time": "2023-05-19T09:11:53.562Z"
   },
   {
    "duration": 4,
    "start_time": "2023-05-19T09:13:17.524Z"
   },
   {
    "duration": 97014,
    "start_time": "2023-05-19T09:13:23.540Z"
   },
   {
    "duration": 24,
    "start_time": "2023-05-19T09:15:00.556Z"
   },
   {
    "duration": 4,
    "start_time": "2023-05-19T09:15:13.986Z"
   },
   {
    "duration": 232024,
    "start_time": "2023-05-19T09:15:14.290Z"
   },
   {
    "duration": 5,
    "start_time": "2023-05-19T09:19:06.316Z"
   },
   {
    "duration": 1545,
    "start_time": "2023-05-19T09:19:06.322Z"
   },
   {
    "duration": 5158,
    "start_time": "2023-05-19T18:42:32.321Z"
   },
   {
    "duration": 0,
    "start_time": "2023-05-19T18:42:37.481Z"
   },
   {
    "duration": 0,
    "start_time": "2023-05-19T18:42:37.482Z"
   },
   {
    "duration": 0,
    "start_time": "2023-05-19T18:42:37.484Z"
   },
   {
    "duration": 0,
    "start_time": "2023-05-19T18:42:37.486Z"
   },
   {
    "duration": 0,
    "start_time": "2023-05-19T18:42:37.488Z"
   },
   {
    "duration": 0,
    "start_time": "2023-05-19T18:42:37.490Z"
   },
   {
    "duration": 0,
    "start_time": "2023-05-19T18:42:37.492Z"
   },
   {
    "duration": 11007,
    "start_time": "2023-05-19T18:42:55.171Z"
   },
   {
    "duration": 28,
    "start_time": "2023-05-19T18:43:09.781Z"
   },
   {
    "duration": 3497,
    "start_time": "2023-05-19T18:43:10.032Z"
   },
   {
    "duration": 15,
    "start_time": "2023-05-19T18:43:13.531Z"
   },
   {
    "duration": 1820,
    "start_time": "2023-05-19T18:44:16.083Z"
   },
   {
    "duration": 904,
    "start_time": "2023-05-19T18:44:22.484Z"
   },
   {
    "duration": 16,
    "start_time": "2023-05-19T18:44:23.390Z"
   },
   {
    "duration": 34,
    "start_time": "2023-05-19T18:44:23.797Z"
   },
   {
    "duration": 10,
    "start_time": "2023-05-19T18:44:24.047Z"
   },
   {
    "duration": 5,
    "start_time": "2023-05-19T18:44:24.301Z"
   },
   {
    "duration": 4,
    "start_time": "2023-05-19T18:44:24.691Z"
   },
   {
    "duration": 3,
    "start_time": "2023-05-19T18:44:26.274Z"
   },
   {
    "duration": 1215,
    "start_time": "2023-05-19T18:44:34.388Z"
   },
   {
    "duration": 4,
    "start_time": "2023-05-19T18:44:39.350Z"
   },
   {
    "duration": 5,
    "start_time": "2023-05-19T18:44:52.163Z"
   }
  ],
  "kernelspec": {
   "display_name": "Python 3 (ipykernel)",
   "language": "python",
   "name": "python3"
  },
  "language_info": {
   "codemirror_mode": {
    "name": "ipython",
    "version": 3
   },
   "file_extension": ".py",
   "mimetype": "text/x-python",
   "name": "python",
   "nbconvert_exporter": "python",
   "pygments_lexer": "ipython3",
   "version": "3.9.13"
  },
  "toc": {
   "base_numbering": 1,
   "nav_menu": {},
   "number_sections": true,
   "sideBar": true,
   "skip_h1_title": true,
   "title_cell": "Содержание",
   "title_sidebar": "Contents",
   "toc_cell": true,
   "toc_position": {
    "height": "calc(100% - 180px)",
    "left": "10px",
    "top": "150px",
    "width": "302.391px"
   },
   "toc_section_display": true,
   "toc_window_display": false
  }
 },
 "nbformat": 4,
 "nbformat_minor": 2
}
