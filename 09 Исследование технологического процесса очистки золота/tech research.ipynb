{
 "cells": [
  {
   "cell_type": "markdown",
   "metadata": {
    "toc": true
   },
   "source": [
    "<h1>Содержание<span class=\"tocSkip\"></span></h1>\n",
    "<div class=\"toc\"><ul class=\"toc-item\"><li><span><a href=\"#Подготовка-данных\" data-toc-modified-id=\"Подготовка-данных-1\"><span class=\"toc-item-num\">1&nbsp;&nbsp;</span>Подготовка данных</a></span><ul class=\"toc-item\"><li><span><a href=\"#Знакомство-с-данными\" data-toc-modified-id=\"Знакомство-с-данными-1.1\"><span class=\"toc-item-num\">1.1&nbsp;&nbsp;</span>Знакомство с данными</a></span></li><li><span><a href=\"#Проверка-расчета-эффективности-обогащения\" data-toc-modified-id=\"Проверка-расчета-эффективности-обогащения-1.2\"><span class=\"toc-item-num\">1.2&nbsp;&nbsp;</span>Проверка расчета эффективности обогащения</a></span></li><li><span><a href=\"#Анализ-признаков,-недоступных-в-тестовой-выборке\" data-toc-modified-id=\"Анализ-признаков,-недоступных-в-тестовой-выборке-1.3\"><span class=\"toc-item-num\">1.3&nbsp;&nbsp;</span>Анализ признаков, недоступных в тестовой выборке</a></span></li><li><span><a href=\"#Предобработка-данных\" data-toc-modified-id=\"Предобработка-данных-1.4\"><span class=\"toc-item-num\">1.4&nbsp;&nbsp;</span>Предобработка данных</a></span></li></ul></li><li><span><a href=\"#Анализ-данных\" data-toc-modified-id=\"Анализ-данных-2\"><span class=\"toc-item-num\">2&nbsp;&nbsp;</span>Анализ данных</a></span><ul class=\"toc-item\"><li><span><a href=\"#Концентрация-металлов-(Au,-Ag,-Pb)-на-различных-этапах-очистки\" data-toc-modified-id=\"Концентрация-металлов-(Au,-Ag,-Pb)-на-различных-этапах-очистки-2.1\"><span class=\"toc-item-num\">2.1&nbsp;&nbsp;</span>Концентрация металлов (Au, Ag, Pb) на различных этапах очистки</a></span></li><li><span><a href=\"#Сравнение-распределения-размеров-гранул-сырья-на-обучающей-и-тестовой-выборках.\" data-toc-modified-id=\"Сравнение-распределения-размеров-гранул-сырья-на-обучающей-и-тестовой-выборках.-2.2\"><span class=\"toc-item-num\">2.2&nbsp;&nbsp;</span>Сравнение распределения размеров гранул сырья на обучающей и тестовой выборках.</a></span></li><li><span><a href=\"#Исследование-суммарной-концентрации\" data-toc-modified-id=\"Исследование-суммарной-концентрации-2.3\"><span class=\"toc-item-num\">2.3&nbsp;&nbsp;</span>Исследование суммарной концентрации</a></span></li></ul></li><li><span><a href=\"#Модель\" data-toc-modified-id=\"Модель-3\"><span class=\"toc-item-num\">3&nbsp;&nbsp;</span>Модель</a></span><ul class=\"toc-item\"><li><span><a href=\"#функция-для-вычисления-итогового-sMAPE\" data-toc-modified-id=\"функция-для-вычисления-итогового-sMAPE-3.1\"><span class=\"toc-item-num\">3.1&nbsp;&nbsp;</span>функция для вычисления итогового sMAPE</a></span></li><li><span><a href=\"#Моделирование\" data-toc-modified-id=\"Моделирование-3.2\"><span class=\"toc-item-num\">3.2&nbsp;&nbsp;</span>Моделирование</a></span></li><li><span><a href=\"#Проверка-лучшей-модели-на-тестовой-выборке\" data-toc-modified-id=\"Проверка-лучшей-модели-на-тестовой-выборке-3.3\"><span class=\"toc-item-num\">3.3&nbsp;&nbsp;</span>Проверка лучшей модели на тестовой выборке</a></span></li></ul></li><li><span><a href=\"#Чек-лист-готовности-проекта\" data-toc-modified-id=\"Чек-лист-готовности-проекта-4\"><span class=\"toc-item-num\">4&nbsp;&nbsp;</span>Чек-лист готовности проекта</a></span></li></ul></div>"
   ]
  },
  {
   "cell_type": "markdown",
   "metadata": {},
   "source": [
    "# Восстановление золота из руды"
   ]
  },
  {
   "cell_type": "markdown",
   "metadata": {},
   "source": [
    "Подготовьте прототип модели машинного обучения для «Цифры». Компания разрабатывает решения для эффективной работы промышленных предприятий.\n",
    "\n",
    "Модель должна предсказать коэффициент восстановления золота из золотосодержащей руды. Используйте данные с параметрами добычи и очистки. \n",
    "\n",
    "Модель поможет оптимизировать производство, чтобы не запускать предприятие с убыточными характеристиками.\n",
    "\n",
    "Вам нужно:\n",
    "\n",
    "1. Подготовить данные;\n",
    "2. Провести исследовательский анализ данных;\n",
    "3. Построить и обучить модель.\n",
    "\n",
    "Чтобы выполнить проект, обращайтесь к библиотекам *pandas*, *matplotlib* и *sklearn.* Вам поможет их документация."
   ]
  },
  {
   "cell_type": "markdown",
   "metadata": {},
   "source": [
    "## Подготовка данных"
   ]
  },
  {
   "cell_type": "markdown",
   "metadata": {},
   "source": [
    "### Знакомство с данными"
   ]
  },
  {
   "cell_type": "code",
   "execution_count": 1,
   "metadata": {},
   "outputs": [],
   "source": [
    "import numpy as np\n",
    "import pandas as pd\n",
    "import matplotlib.pyplot as plt\n",
    "import seaborn as sns\n",
    "from sklearn.metrics import mean_absolute_error\n",
    "from sklearn.linear_model import LinearRegression\n",
    "from sklearn.ensemble import RandomForestRegressor\n",
    "from catboost import CatBoostRegressor\n",
    "\n",
    "from sklearn.preprocessing import StandardScaler\n",
    "from sklearn.model_selection import GridSearchCV, cross_val_score\n",
    "from sklearn.metrics import make_scorer\n",
    "from sklearn.pipeline import make_pipeline\n",
    "from sklearn.dummy import DummyRegressor\n",
    "\n",
    "import warnings\n",
    "warnings.filterwarnings(\"ignore\")"
   ]
  },
  {
   "cell_type": "code",
   "execution_count": 2,
   "metadata": {},
   "outputs": [],
   "source": [
    "train_df = pd.read_csv('/datasets/gold_recovery_train_new.csv', index_col='date')\n",
    "test_df = pd.read_csv('/datasets/gold_recovery_test_new.csv', index_col='date')\n",
    "full_df = pd.read_csv('/datasets/gold_recovery_full_new.csv', index_col='date')"
   ]
  },
  {
   "cell_type": "code",
   "execution_count": 3,
   "metadata": {},
   "outputs": [
    {
     "data": {
      "text/html": [
       "<div>\n",
       "<style scoped>\n",
       "    .dataframe tbody tr th:only-of-type {\n",
       "        vertical-align: middle;\n",
       "    }\n",
       "\n",
       "    .dataframe tbody tr th {\n",
       "        vertical-align: top;\n",
       "    }\n",
       "\n",
       "    .dataframe thead th {\n",
       "        text-align: right;\n",
       "    }\n",
       "</style>\n",
       "<table border=\"1\" class=\"dataframe\">\n",
       "  <thead>\n",
       "    <tr style=\"text-align: right;\">\n",
       "      <th></th>\n",
       "      <th>final.output.concentrate_ag</th>\n",
       "      <th>final.output.concentrate_pb</th>\n",
       "      <th>final.output.concentrate_sol</th>\n",
       "      <th>final.output.concentrate_au</th>\n",
       "      <th>final.output.recovery</th>\n",
       "      <th>final.output.tail_ag</th>\n",
       "      <th>final.output.tail_pb</th>\n",
       "      <th>final.output.tail_sol</th>\n",
       "      <th>final.output.tail_au</th>\n",
       "      <th>primary_cleaner.input.sulfate</th>\n",
       "      <th>...</th>\n",
       "      <th>secondary_cleaner.state.floatbank4_a_air</th>\n",
       "      <th>secondary_cleaner.state.floatbank4_a_level</th>\n",
       "      <th>secondary_cleaner.state.floatbank4_b_air</th>\n",
       "      <th>secondary_cleaner.state.floatbank4_b_level</th>\n",
       "      <th>secondary_cleaner.state.floatbank5_a_air</th>\n",
       "      <th>secondary_cleaner.state.floatbank5_a_level</th>\n",
       "      <th>secondary_cleaner.state.floatbank5_b_air</th>\n",
       "      <th>secondary_cleaner.state.floatbank5_b_level</th>\n",
       "      <th>secondary_cleaner.state.floatbank6_a_air</th>\n",
       "      <th>secondary_cleaner.state.floatbank6_a_level</th>\n",
       "    </tr>\n",
       "  </thead>\n",
       "  <tbody>\n",
       "    <tr>\n",
       "      <th>count</th>\n",
       "      <td>14148.000000</td>\n",
       "      <td>14148.000000</td>\n",
       "      <td>13938.000000</td>\n",
       "      <td>14149.000000</td>\n",
       "      <td>14149.000000</td>\n",
       "      <td>14149.000000</td>\n",
       "      <td>14049.000000</td>\n",
       "      <td>14144.000000</td>\n",
       "      <td>14149.000000</td>\n",
       "      <td>14129.000000</td>\n",
       "      <td>...</td>\n",
       "      <td>14143.000000</td>\n",
       "      <td>14148.000000</td>\n",
       "      <td>14148.000000</td>\n",
       "      <td>14148.000000</td>\n",
       "      <td>14148.000000</td>\n",
       "      <td>14148.000000</td>\n",
       "      <td>14148.000000</td>\n",
       "      <td>14148.000000</td>\n",
       "      <td>14147.000000</td>\n",
       "      <td>14148.000000</td>\n",
       "    </tr>\n",
       "    <tr>\n",
       "      <th>mean</th>\n",
       "      <td>5.142034</td>\n",
       "      <td>10.132960</td>\n",
       "      <td>9.202849</td>\n",
       "      <td>44.003792</td>\n",
       "      <td>66.518832</td>\n",
       "      <td>9.607035</td>\n",
       "      <td>2.597298</td>\n",
       "      <td>10.512122</td>\n",
       "      <td>2.918421</td>\n",
       "      <td>133.320659</td>\n",
       "      <td>...</td>\n",
       "      <td>19.985454</td>\n",
       "      <td>-478.696836</td>\n",
       "      <td>15.487065</td>\n",
       "      <td>-460.229416</td>\n",
       "      <td>16.775136</td>\n",
       "      <td>-483.956022</td>\n",
       "      <td>13.064590</td>\n",
       "      <td>-483.966564</td>\n",
       "      <td>19.577539</td>\n",
       "      <td>-506.798480</td>\n",
       "    </tr>\n",
       "    <tr>\n",
       "      <th>std</th>\n",
       "      <td>1.369586</td>\n",
       "      <td>1.654930</td>\n",
       "      <td>2.790516</td>\n",
       "      <td>4.905261</td>\n",
       "      <td>10.295402</td>\n",
       "      <td>2.319069</td>\n",
       "      <td>0.971843</td>\n",
       "      <td>3.003617</td>\n",
       "      <td>0.903712</td>\n",
       "      <td>39.431659</td>\n",
       "      <td>...</td>\n",
       "      <td>5.657723</td>\n",
       "      <td>50.736021</td>\n",
       "      <td>5.255655</td>\n",
       "      <td>58.843586</td>\n",
       "      <td>5.831906</td>\n",
       "      <td>37.892788</td>\n",
       "      <td>5.765617</td>\n",
       "      <td>39.207913</td>\n",
       "      <td>5.764417</td>\n",
       "      <td>37.079249</td>\n",
       "    </tr>\n",
       "    <tr>\n",
       "      <th>min</th>\n",
       "      <td>0.000000</td>\n",
       "      <td>0.000000</td>\n",
       "      <td>0.000000</td>\n",
       "      <td>0.000000</td>\n",
       "      <td>0.000000</td>\n",
       "      <td>0.000000</td>\n",
       "      <td>0.000000</td>\n",
       "      <td>0.000000</td>\n",
       "      <td>0.000000</td>\n",
       "      <td>0.003112</td>\n",
       "      <td>...</td>\n",
       "      <td>0.000000</td>\n",
       "      <td>-799.709069</td>\n",
       "      <td>0.000000</td>\n",
       "      <td>-799.889113</td>\n",
       "      <td>-0.372054</td>\n",
       "      <td>-797.142475</td>\n",
       "      <td>0.646208</td>\n",
       "      <td>-800.006180</td>\n",
       "      <td>0.195324</td>\n",
       "      <td>-809.398668</td>\n",
       "    </tr>\n",
       "    <tr>\n",
       "      <th>25%</th>\n",
       "      <td>4.211620</td>\n",
       "      <td>9.297355</td>\n",
       "      <td>7.484645</td>\n",
       "      <td>43.276111</td>\n",
       "      <td>62.545817</td>\n",
       "      <td>7.997429</td>\n",
       "      <td>1.905973</td>\n",
       "      <td>8.811324</td>\n",
       "      <td>2.368607</td>\n",
       "      <td>107.006651</td>\n",
       "      <td>...</td>\n",
       "      <td>14.990775</td>\n",
       "      <td>-500.628656</td>\n",
       "      <td>11.894558</td>\n",
       "      <td>-500.149000</td>\n",
       "      <td>11.083980</td>\n",
       "      <td>-500.363177</td>\n",
       "      <td>8.994405</td>\n",
       "      <td>-500.105994</td>\n",
       "      <td>14.989304</td>\n",
       "      <td>-500.745104</td>\n",
       "    </tr>\n",
       "    <tr>\n",
       "      <th>50%</th>\n",
       "      <td>4.994652</td>\n",
       "      <td>10.297144</td>\n",
       "      <td>8.845462</td>\n",
       "      <td>44.872436</td>\n",
       "      <td>67.432775</td>\n",
       "      <td>9.480270</td>\n",
       "      <td>2.592022</td>\n",
       "      <td>10.514621</td>\n",
       "      <td>2.851025</td>\n",
       "      <td>133.018328</td>\n",
       "      <td>...</td>\n",
       "      <td>20.001789</td>\n",
       "      <td>-499.681450</td>\n",
       "      <td>14.975536</td>\n",
       "      <td>-499.388738</td>\n",
       "      <td>17.932223</td>\n",
       "      <td>-499.702452</td>\n",
       "      <td>11.997547</td>\n",
       "      <td>-499.914556</td>\n",
       "      <td>19.984175</td>\n",
       "      <td>-500.061431</td>\n",
       "    </tr>\n",
       "    <tr>\n",
       "      <th>75%</th>\n",
       "      <td>5.859540</td>\n",
       "      <td>11.170603</td>\n",
       "      <td>10.487508</td>\n",
       "      <td>46.166425</td>\n",
       "      <td>72.346428</td>\n",
       "      <td>11.003707</td>\n",
       "      <td>3.241723</td>\n",
       "      <td>11.933009</td>\n",
       "      <td>3.434764</td>\n",
       "      <td>159.825396</td>\n",
       "      <td>...</td>\n",
       "      <td>24.990826</td>\n",
       "      <td>-477.472413</td>\n",
       "      <td>20.059375</td>\n",
       "      <td>-400.039008</td>\n",
       "      <td>21.346550</td>\n",
       "      <td>-487.712108</td>\n",
       "      <td>17.982903</td>\n",
       "      <td>-453.186936</td>\n",
       "      <td>24.991623</td>\n",
       "      <td>-499.536466</td>\n",
       "    </tr>\n",
       "    <tr>\n",
       "      <th>max</th>\n",
       "      <td>16.001945</td>\n",
       "      <td>17.031899</td>\n",
       "      <td>18.124851</td>\n",
       "      <td>52.756638</td>\n",
       "      <td>100.000000</td>\n",
       "      <td>19.552149</td>\n",
       "      <td>5.639565</td>\n",
       "      <td>22.317730</td>\n",
       "      <td>8.197408</td>\n",
       "      <td>250.127834</td>\n",
       "      <td>...</td>\n",
       "      <td>30.115735</td>\n",
       "      <td>-245.239184</td>\n",
       "      <td>24.007913</td>\n",
       "      <td>-145.071088</td>\n",
       "      <td>43.709931</td>\n",
       "      <td>-275.073125</td>\n",
       "      <td>27.926001</td>\n",
       "      <td>-157.396071</td>\n",
       "      <td>32.188906</td>\n",
       "      <td>-104.427459</td>\n",
       "    </tr>\n",
       "  </tbody>\n",
       "</table>\n",
       "<p>8 rows × 86 columns</p>\n",
       "</div>"
      ],
      "text/plain": [
       "       final.output.concentrate_ag  final.output.concentrate_pb  \\\n",
       "count                 14148.000000                 14148.000000   \n",
       "mean                      5.142034                    10.132960   \n",
       "std                       1.369586                     1.654930   \n",
       "min                       0.000000                     0.000000   \n",
       "25%                       4.211620                     9.297355   \n",
       "50%                       4.994652                    10.297144   \n",
       "75%                       5.859540                    11.170603   \n",
       "max                      16.001945                    17.031899   \n",
       "\n",
       "       final.output.concentrate_sol  final.output.concentrate_au  \\\n",
       "count                  13938.000000                 14149.000000   \n",
       "mean                       9.202849                    44.003792   \n",
       "std                        2.790516                     4.905261   \n",
       "min                        0.000000                     0.000000   \n",
       "25%                        7.484645                    43.276111   \n",
       "50%                        8.845462                    44.872436   \n",
       "75%                       10.487508                    46.166425   \n",
       "max                       18.124851                    52.756638   \n",
       "\n",
       "       final.output.recovery  final.output.tail_ag  final.output.tail_pb  \\\n",
       "count           14149.000000          14149.000000          14049.000000   \n",
       "mean               66.518832              9.607035              2.597298   \n",
       "std                10.295402              2.319069              0.971843   \n",
       "min                 0.000000              0.000000              0.000000   \n",
       "25%                62.545817              7.997429              1.905973   \n",
       "50%                67.432775              9.480270              2.592022   \n",
       "75%                72.346428             11.003707              3.241723   \n",
       "max               100.000000             19.552149              5.639565   \n",
       "\n",
       "       final.output.tail_sol  final.output.tail_au  \\\n",
       "count           14144.000000          14149.000000   \n",
       "mean               10.512122              2.918421   \n",
       "std                 3.003617              0.903712   \n",
       "min                 0.000000              0.000000   \n",
       "25%                 8.811324              2.368607   \n",
       "50%                10.514621              2.851025   \n",
       "75%                11.933009              3.434764   \n",
       "max                22.317730              8.197408   \n",
       "\n",
       "       primary_cleaner.input.sulfate  ...  \\\n",
       "count                   14129.000000  ...   \n",
       "mean                      133.320659  ...   \n",
       "std                        39.431659  ...   \n",
       "min                         0.003112  ...   \n",
       "25%                       107.006651  ...   \n",
       "50%                       133.018328  ...   \n",
       "75%                       159.825396  ...   \n",
       "max                       250.127834  ...   \n",
       "\n",
       "       secondary_cleaner.state.floatbank4_a_air  \\\n",
       "count                              14143.000000   \n",
       "mean                                  19.985454   \n",
       "std                                    5.657723   \n",
       "min                                    0.000000   \n",
       "25%                                   14.990775   \n",
       "50%                                   20.001789   \n",
       "75%                                   24.990826   \n",
       "max                                   30.115735   \n",
       "\n",
       "       secondary_cleaner.state.floatbank4_a_level  \\\n",
       "count                                14148.000000   \n",
       "mean                                  -478.696836   \n",
       "std                                     50.736021   \n",
       "min                                   -799.709069   \n",
       "25%                                   -500.628656   \n",
       "50%                                   -499.681450   \n",
       "75%                                   -477.472413   \n",
       "max                                   -245.239184   \n",
       "\n",
       "       secondary_cleaner.state.floatbank4_b_air  \\\n",
       "count                              14148.000000   \n",
       "mean                                  15.487065   \n",
       "std                                    5.255655   \n",
       "min                                    0.000000   \n",
       "25%                                   11.894558   \n",
       "50%                                   14.975536   \n",
       "75%                                   20.059375   \n",
       "max                                   24.007913   \n",
       "\n",
       "       secondary_cleaner.state.floatbank4_b_level  \\\n",
       "count                                14148.000000   \n",
       "mean                                  -460.229416   \n",
       "std                                     58.843586   \n",
       "min                                   -799.889113   \n",
       "25%                                   -500.149000   \n",
       "50%                                   -499.388738   \n",
       "75%                                   -400.039008   \n",
       "max                                   -145.071088   \n",
       "\n",
       "       secondary_cleaner.state.floatbank5_a_air  \\\n",
       "count                              14148.000000   \n",
       "mean                                  16.775136   \n",
       "std                                    5.831906   \n",
       "min                                   -0.372054   \n",
       "25%                                   11.083980   \n",
       "50%                                   17.932223   \n",
       "75%                                   21.346550   \n",
       "max                                   43.709931   \n",
       "\n",
       "       secondary_cleaner.state.floatbank5_a_level  \\\n",
       "count                                14148.000000   \n",
       "mean                                  -483.956022   \n",
       "std                                     37.892788   \n",
       "min                                   -797.142475   \n",
       "25%                                   -500.363177   \n",
       "50%                                   -499.702452   \n",
       "75%                                   -487.712108   \n",
       "max                                   -275.073125   \n",
       "\n",
       "       secondary_cleaner.state.floatbank5_b_air  \\\n",
       "count                              14148.000000   \n",
       "mean                                  13.064590   \n",
       "std                                    5.765617   \n",
       "min                                    0.646208   \n",
       "25%                                    8.994405   \n",
       "50%                                   11.997547   \n",
       "75%                                   17.982903   \n",
       "max                                   27.926001   \n",
       "\n",
       "       secondary_cleaner.state.floatbank5_b_level  \\\n",
       "count                                14148.000000   \n",
       "mean                                  -483.966564   \n",
       "std                                     39.207913   \n",
       "min                                   -800.006180   \n",
       "25%                                   -500.105994   \n",
       "50%                                   -499.914556   \n",
       "75%                                   -453.186936   \n",
       "max                                   -157.396071   \n",
       "\n",
       "       secondary_cleaner.state.floatbank6_a_air  \\\n",
       "count                              14147.000000   \n",
       "mean                                  19.577539   \n",
       "std                                    5.764417   \n",
       "min                                    0.195324   \n",
       "25%                                   14.989304   \n",
       "50%                                   19.984175   \n",
       "75%                                   24.991623   \n",
       "max                                   32.188906   \n",
       "\n",
       "       secondary_cleaner.state.floatbank6_a_level  \n",
       "count                                14148.000000  \n",
       "mean                                  -506.798480  \n",
       "std                                     37.079249  \n",
       "min                                   -809.398668  \n",
       "25%                                   -500.745104  \n",
       "50%                                   -500.061431  \n",
       "75%                                   -499.536466  \n",
       "max                                   -104.427459  \n",
       "\n",
       "[8 rows x 86 columns]"
      ]
     },
     "execution_count": 3,
     "metadata": {},
     "output_type": "execute_result"
    }
   ],
   "source": [
    "train_df.describe()"
   ]
  },
  {
   "cell_type": "code",
   "execution_count": 4,
   "metadata": {},
   "outputs": [
    {
     "name": "stdout",
     "output_type": "stream",
     "text": [
      "<class 'pandas.core.frame.DataFrame'>\n",
      "Index: 14149 entries, 2016-01-15 00:00:00 to 2018-08-18 10:59:59\n",
      "Data columns (total 86 columns):\n",
      " #   Column                                              Non-Null Count  Dtype  \n",
      "---  ------                                              --------------  -----  \n",
      " 0   final.output.concentrate_ag                         14148 non-null  float64\n",
      " 1   final.output.concentrate_pb                         14148 non-null  float64\n",
      " 2   final.output.concentrate_sol                        13938 non-null  float64\n",
      " 3   final.output.concentrate_au                         14149 non-null  float64\n",
      " 4   final.output.recovery                               14149 non-null  float64\n",
      " 5   final.output.tail_ag                                14149 non-null  float64\n",
      " 6   final.output.tail_pb                                14049 non-null  float64\n",
      " 7   final.output.tail_sol                               14144 non-null  float64\n",
      " 8   final.output.tail_au                                14149 non-null  float64\n",
      " 9   primary_cleaner.input.sulfate                       14129 non-null  float64\n",
      " 10  primary_cleaner.input.depressant                    14117 non-null  float64\n",
      " 11  primary_cleaner.input.feed_size                     14149 non-null  float64\n",
      " 12  primary_cleaner.input.xanthate                      14049 non-null  float64\n",
      " 13  primary_cleaner.output.concentrate_ag               14149 non-null  float64\n",
      " 14  primary_cleaner.output.concentrate_pb               14063 non-null  float64\n",
      " 15  primary_cleaner.output.concentrate_sol              13863 non-null  float64\n",
      " 16  primary_cleaner.output.concentrate_au               14149 non-null  float64\n",
      " 17  primary_cleaner.output.tail_ag                      14148 non-null  float64\n",
      " 18  primary_cleaner.output.tail_pb                      14134 non-null  float64\n",
      " 19  primary_cleaner.output.tail_sol                     14103 non-null  float64\n",
      " 20  primary_cleaner.output.tail_au                      14149 non-null  float64\n",
      " 21  primary_cleaner.state.floatbank8_a_air              14145 non-null  float64\n",
      " 22  primary_cleaner.state.floatbank8_a_level            14148 non-null  float64\n",
      " 23  primary_cleaner.state.floatbank8_b_air              14145 non-null  float64\n",
      " 24  primary_cleaner.state.floatbank8_b_level            14148 non-null  float64\n",
      " 25  primary_cleaner.state.floatbank8_c_air              14147 non-null  float64\n",
      " 26  primary_cleaner.state.floatbank8_c_level            14148 non-null  float64\n",
      " 27  primary_cleaner.state.floatbank8_d_air              14146 non-null  float64\n",
      " 28  primary_cleaner.state.floatbank8_d_level            14148 non-null  float64\n",
      " 29  rougher.calculation.sulfate_to_au_concentrate       14148 non-null  float64\n",
      " 30  rougher.calculation.floatbank10_sulfate_to_au_feed  14148 non-null  float64\n",
      " 31  rougher.calculation.floatbank11_sulfate_to_au_feed  14148 non-null  float64\n",
      " 32  rougher.calculation.au_pb_ratio                     14149 non-null  float64\n",
      " 33  rougher.input.feed_ag                               14149 non-null  float64\n",
      " 34  rougher.input.feed_pb                               14049 non-null  float64\n",
      " 35  rougher.input.feed_rate                             14141 non-null  float64\n",
      " 36  rougher.input.feed_size                             14005 non-null  float64\n",
      " 37  rougher.input.feed_sol                              14071 non-null  float64\n",
      " 38  rougher.input.feed_au                               14149 non-null  float64\n",
      " 39  rougher.input.floatbank10_sulfate                   14120 non-null  float64\n",
      " 40  rougher.input.floatbank10_xanthate                  14141 non-null  float64\n",
      " 41  rougher.input.floatbank11_sulfate                   14113 non-null  float64\n",
      " 42  rougher.input.floatbank11_xanthate                  13721 non-null  float64\n",
      " 43  rougher.output.concentrate_ag                       14149 non-null  float64\n",
      " 44  rougher.output.concentrate_pb                       14149 non-null  float64\n",
      " 45  rougher.output.concentrate_sol                      14127 non-null  float64\n",
      " 46  rougher.output.concentrate_au                       14149 non-null  float64\n",
      " 47  rougher.output.recovery                             14149 non-null  float64\n",
      " 48  rougher.output.tail_ag                              14148 non-null  float64\n",
      " 49  rougher.output.tail_pb                              14149 non-null  float64\n",
      " 50  rougher.output.tail_sol                             14149 non-null  float64\n",
      " 51  rougher.output.tail_au                              14149 non-null  float64\n",
      " 52  rougher.state.floatbank10_a_air                     14148 non-null  float64\n",
      " 53  rougher.state.floatbank10_a_level                   14148 non-null  float64\n",
      " 54  rougher.state.floatbank10_b_air                     14148 non-null  float64\n",
      " 55  rougher.state.floatbank10_b_level                   14148 non-null  float64\n",
      " 56  rougher.state.floatbank10_c_air                     14148 non-null  float64\n",
      " 57  rougher.state.floatbank10_c_level                   14148 non-null  float64\n",
      " 58  rougher.state.floatbank10_d_air                     14149 non-null  float64\n",
      " 59  rougher.state.floatbank10_d_level                   14149 non-null  float64\n",
      " 60  rougher.state.floatbank10_e_air                     13713 non-null  float64\n",
      " 61  rougher.state.floatbank10_e_level                   14149 non-null  float64\n",
      " 62  rougher.state.floatbank10_f_air                     14149 non-null  float64\n",
      " 63  rougher.state.floatbank10_f_level                   14149 non-null  float64\n",
      " 64  secondary_cleaner.output.tail_ag                    14147 non-null  float64\n",
      " 65  secondary_cleaner.output.tail_pb                    14139 non-null  float64\n",
      " 66  secondary_cleaner.output.tail_sol                   12544 non-null  float64\n",
      " 67  secondary_cleaner.output.tail_au                    14149 non-null  float64\n",
      " 68  secondary_cleaner.state.floatbank2_a_air            13932 non-null  float64\n",
      " 69  secondary_cleaner.state.floatbank2_a_level          14148 non-null  float64\n",
      " 70  secondary_cleaner.state.floatbank2_b_air            14128 non-null  float64\n",
      " 71  secondary_cleaner.state.floatbank2_b_level          14148 non-null  float64\n",
      " 72  secondary_cleaner.state.floatbank3_a_air            14145 non-null  float64\n",
      " 73  secondary_cleaner.state.floatbank3_a_level          14148 non-null  float64\n",
      " 74  secondary_cleaner.state.floatbank3_b_air            14148 non-null  float64\n",
      " 75  secondary_cleaner.state.floatbank3_b_level          14148 non-null  float64\n",
      " 76  secondary_cleaner.state.floatbank4_a_air            14143 non-null  float64\n",
      " 77  secondary_cleaner.state.floatbank4_a_level          14148 non-null  float64\n",
      " 78  secondary_cleaner.state.floatbank4_b_air            14148 non-null  float64\n",
      " 79  secondary_cleaner.state.floatbank4_b_level          14148 non-null  float64\n",
      " 80  secondary_cleaner.state.floatbank5_a_air            14148 non-null  float64\n",
      " 81  secondary_cleaner.state.floatbank5_a_level          14148 non-null  float64\n",
      " 82  secondary_cleaner.state.floatbank5_b_air            14148 non-null  float64\n",
      " 83  secondary_cleaner.state.floatbank5_b_level          14148 non-null  float64\n",
      " 84  secondary_cleaner.state.floatbank6_a_air            14147 non-null  float64\n",
      " 85  secondary_cleaner.state.floatbank6_a_level          14148 non-null  float64\n",
      "dtypes: float64(86)\n",
      "memory usage: 9.4+ MB\n"
     ]
    }
   ],
   "source": [
    "train_df.info()"
   ]
  },
  {
   "cell_type": "code",
   "execution_count": 5,
   "metadata": {},
   "outputs": [
    {
     "data": {
      "text/plain": [
       "0"
      ]
     },
     "execution_count": 5,
     "metadata": {},
     "output_type": "execute_result"
    }
   ],
   "source": [
    "train_df.duplicated().sum()"
   ]
  },
  {
   "cell_type": "code",
   "execution_count": 6,
   "metadata": {},
   "outputs": [
    {
     "data": {
      "text/html": [
       "<div>\n",
       "<style scoped>\n",
       "    .dataframe tbody tr th:only-of-type {\n",
       "        vertical-align: middle;\n",
       "    }\n",
       "\n",
       "    .dataframe tbody tr th {\n",
       "        vertical-align: top;\n",
       "    }\n",
       "\n",
       "    .dataframe thead th {\n",
       "        text-align: right;\n",
       "    }\n",
       "</style>\n",
       "<table border=\"1\" class=\"dataframe\">\n",
       "  <thead>\n",
       "    <tr style=\"text-align: right;\">\n",
       "      <th></th>\n",
       "      <th>primary_cleaner.input.sulfate</th>\n",
       "      <th>primary_cleaner.input.depressant</th>\n",
       "      <th>primary_cleaner.input.feed_size</th>\n",
       "      <th>primary_cleaner.input.xanthate</th>\n",
       "      <th>primary_cleaner.state.floatbank8_a_air</th>\n",
       "      <th>primary_cleaner.state.floatbank8_a_level</th>\n",
       "      <th>primary_cleaner.state.floatbank8_b_air</th>\n",
       "      <th>primary_cleaner.state.floatbank8_b_level</th>\n",
       "      <th>primary_cleaner.state.floatbank8_c_air</th>\n",
       "      <th>primary_cleaner.state.floatbank8_c_level</th>\n",
       "      <th>...</th>\n",
       "      <th>secondary_cleaner.state.floatbank4_a_air</th>\n",
       "      <th>secondary_cleaner.state.floatbank4_a_level</th>\n",
       "      <th>secondary_cleaner.state.floatbank4_b_air</th>\n",
       "      <th>secondary_cleaner.state.floatbank4_b_level</th>\n",
       "      <th>secondary_cleaner.state.floatbank5_a_air</th>\n",
       "      <th>secondary_cleaner.state.floatbank5_a_level</th>\n",
       "      <th>secondary_cleaner.state.floatbank5_b_air</th>\n",
       "      <th>secondary_cleaner.state.floatbank5_b_level</th>\n",
       "      <th>secondary_cleaner.state.floatbank6_a_air</th>\n",
       "      <th>secondary_cleaner.state.floatbank6_a_level</th>\n",
       "    </tr>\n",
       "  </thead>\n",
       "  <tbody>\n",
       "    <tr>\n",
       "      <th>count</th>\n",
       "      <td>5286.000000</td>\n",
       "      <td>5285.000000</td>\n",
       "      <td>5290.000000</td>\n",
       "      <td>5286.000000</td>\n",
       "      <td>5.290000e+03</td>\n",
       "      <td>5290.000000</td>\n",
       "      <td>5.290000e+03</td>\n",
       "      <td>5290.000000</td>\n",
       "      <td>5.290000e+03</td>\n",
       "      <td>5290.000000</td>\n",
       "      <td>...</td>\n",
       "      <td>5.290000e+03</td>\n",
       "      <td>5290.000000</td>\n",
       "      <td>5.290000e+03</td>\n",
       "      <td>5290.000000</td>\n",
       "      <td>5290.000000</td>\n",
       "      <td>5290.000000</td>\n",
       "      <td>5290.000000</td>\n",
       "      <td>5290.000000</td>\n",
       "      <td>5290.000000</td>\n",
       "      <td>5290.000000</td>\n",
       "    </tr>\n",
       "    <tr>\n",
       "      <th>mean</th>\n",
       "      <td>174.839652</td>\n",
       "      <td>8.683596</td>\n",
       "      <td>7.266339</td>\n",
       "      <td>1.383803</td>\n",
       "      <td>1.539494e+03</td>\n",
       "      <td>-497.665883</td>\n",
       "      <td>1.545174e+03</td>\n",
       "      <td>-500.273098</td>\n",
       "      <td>1.527272e+03</td>\n",
       "      <td>-498.330680</td>\n",
       "      <td>...</td>\n",
       "      <td>1.632007e+01</td>\n",
       "      <td>-505.144570</td>\n",
       "      <td>1.373544e+01</td>\n",
       "      <td>-463.349858</td>\n",
       "      <td>12.804186</td>\n",
       "      <td>-501.329122</td>\n",
       "      <td>9.881145</td>\n",
       "      <td>-495.663398</td>\n",
       "      <td>17.304935</td>\n",
       "      <td>-501.793193</td>\n",
       "    </tr>\n",
       "    <tr>\n",
       "      <th>std</th>\n",
       "      <td>43.027080</td>\n",
       "      <td>3.072050</td>\n",
       "      <td>0.610219</td>\n",
       "      <td>0.643474</td>\n",
       "      <td>1.167979e+02</td>\n",
       "      <td>19.952431</td>\n",
       "      <td>1.222246e+02</td>\n",
       "      <td>32.968307</td>\n",
       "      <td>1.225380e+02</td>\n",
       "      <td>21.964876</td>\n",
       "      <td>...</td>\n",
       "      <td>3.493583e+00</td>\n",
       "      <td>31.427337</td>\n",
       "      <td>3.430484e+00</td>\n",
       "      <td>86.189107</td>\n",
       "      <td>3.026591</td>\n",
       "      <td>17.951495</td>\n",
       "      <td>2.868205</td>\n",
       "      <td>34.535007</td>\n",
       "      <td>4.536544</td>\n",
       "      <td>39.044215</td>\n",
       "    </tr>\n",
       "    <tr>\n",
       "      <th>min</th>\n",
       "      <td>2.566156</td>\n",
       "      <td>0.003839</td>\n",
       "      <td>5.650000</td>\n",
       "      <td>0.004984</td>\n",
       "      <td>5.445860e-32</td>\n",
       "      <td>-795.316337</td>\n",
       "      <td>6.647490e-32</td>\n",
       "      <td>-799.997015</td>\n",
       "      <td>4.033736e-32</td>\n",
       "      <td>-799.960571</td>\n",
       "      <td>...</td>\n",
       "      <td>1.079872e-16</td>\n",
       "      <td>-799.798523</td>\n",
       "      <td>2.489718e-17</td>\n",
       "      <td>-800.836914</td>\n",
       "      <td>0.069227</td>\n",
       "      <td>-797.323986</td>\n",
       "      <td>0.528083</td>\n",
       "      <td>-800.220337</td>\n",
       "      <td>-0.079426</td>\n",
       "      <td>-809.741464</td>\n",
       "    </tr>\n",
       "    <tr>\n",
       "      <th>25%</th>\n",
       "      <td>147.121401</td>\n",
       "      <td>6.489555</td>\n",
       "      <td>6.890000</td>\n",
       "      <td>0.907623</td>\n",
       "      <td>1.498936e+03</td>\n",
       "      <td>-500.357298</td>\n",
       "      <td>1.498971e+03</td>\n",
       "      <td>-500.703002</td>\n",
       "      <td>1.473230e+03</td>\n",
       "      <td>-501.018117</td>\n",
       "      <td>...</td>\n",
       "      <td>1.403618e+01</td>\n",
       "      <td>-500.868258</td>\n",
       "      <td>1.202862e+01</td>\n",
       "      <td>-500.323028</td>\n",
       "      <td>10.914838</td>\n",
       "      <td>-500.726841</td>\n",
       "      <td>8.036719</td>\n",
       "      <td>-500.194668</td>\n",
       "      <td>13.997317</td>\n",
       "      <td>-500.690984</td>\n",
       "    </tr>\n",
       "    <tr>\n",
       "      <th>50%</th>\n",
       "      <td>177.828489</td>\n",
       "      <td>8.052207</td>\n",
       "      <td>7.250000</td>\n",
       "      <td>1.197610</td>\n",
       "      <td>1.585129e+03</td>\n",
       "      <td>-499.969164</td>\n",
       "      <td>1.595622e+03</td>\n",
       "      <td>-500.028514</td>\n",
       "      <td>1.549595e+03</td>\n",
       "      <td>-500.017711</td>\n",
       "      <td>...</td>\n",
       "      <td>1.700847e+01</td>\n",
       "      <td>-500.115727</td>\n",
       "      <td>1.496486e+01</td>\n",
       "      <td>-499.576513</td>\n",
       "      <td>12.954182</td>\n",
       "      <td>-499.990332</td>\n",
       "      <td>10.004301</td>\n",
       "      <td>-499.990535</td>\n",
       "      <td>16.014935</td>\n",
       "      <td>-500.007126</td>\n",
       "    </tr>\n",
       "    <tr>\n",
       "      <th>75%</th>\n",
       "      <td>208.125438</td>\n",
       "      <td>10.027764</td>\n",
       "      <td>7.600000</td>\n",
       "      <td>1.797819</td>\n",
       "      <td>1.602077e+03</td>\n",
       "      <td>-499.568951</td>\n",
       "      <td>1.602324e+03</td>\n",
       "      <td>-499.293257</td>\n",
       "      <td>1.601144e+03</td>\n",
       "      <td>-498.994130</td>\n",
       "      <td>...</td>\n",
       "      <td>1.803862e+01</td>\n",
       "      <td>-499.404224</td>\n",
       "      <td>1.596213e+01</td>\n",
       "      <td>-400.933805</td>\n",
       "      <td>15.097528</td>\n",
       "      <td>-499.283191</td>\n",
       "      <td>11.997467</td>\n",
       "      <td>-499.719913</td>\n",
       "      <td>21.020013</td>\n",
       "      <td>-499.373018</td>\n",
       "    </tr>\n",
       "    <tr>\n",
       "      <th>max</th>\n",
       "      <td>265.983123</td>\n",
       "      <td>40.000000</td>\n",
       "      <td>15.500000</td>\n",
       "      <td>4.102454</td>\n",
       "      <td>2.103104e+03</td>\n",
       "      <td>-57.195404</td>\n",
       "      <td>1.813084e+03</td>\n",
       "      <td>-142.527229</td>\n",
       "      <td>1.715054e+03</td>\n",
       "      <td>-150.937035</td>\n",
       "      <td>...</td>\n",
       "      <td>3.005180e+01</td>\n",
       "      <td>-401.565212</td>\n",
       "      <td>3.126971e+01</td>\n",
       "      <td>-6.506986</td>\n",
       "      <td>25.258848</td>\n",
       "      <td>-244.483566</td>\n",
       "      <td>14.086866</td>\n",
       "      <td>-137.740004</td>\n",
       "      <td>26.705889</td>\n",
       "      <td>-123.307487</td>\n",
       "    </tr>\n",
       "  </tbody>\n",
       "</table>\n",
       "<p>8 rows × 52 columns</p>\n",
       "</div>"
      ],
      "text/plain": [
       "       primary_cleaner.input.sulfate  primary_cleaner.input.depressant  \\\n",
       "count                    5286.000000                       5285.000000   \n",
       "mean                      174.839652                          8.683596   \n",
       "std                        43.027080                          3.072050   \n",
       "min                         2.566156                          0.003839   \n",
       "25%                       147.121401                          6.489555   \n",
       "50%                       177.828489                          8.052207   \n",
       "75%                       208.125438                         10.027764   \n",
       "max                       265.983123                         40.000000   \n",
       "\n",
       "       primary_cleaner.input.feed_size  primary_cleaner.input.xanthate  \\\n",
       "count                      5290.000000                     5286.000000   \n",
       "mean                          7.266339                        1.383803   \n",
       "std                           0.610219                        0.643474   \n",
       "min                           5.650000                        0.004984   \n",
       "25%                           6.890000                        0.907623   \n",
       "50%                           7.250000                        1.197610   \n",
       "75%                           7.600000                        1.797819   \n",
       "max                          15.500000                        4.102454   \n",
       "\n",
       "       primary_cleaner.state.floatbank8_a_air  \\\n",
       "count                            5.290000e+03   \n",
       "mean                             1.539494e+03   \n",
       "std                              1.167979e+02   \n",
       "min                              5.445860e-32   \n",
       "25%                              1.498936e+03   \n",
       "50%                              1.585129e+03   \n",
       "75%                              1.602077e+03   \n",
       "max                              2.103104e+03   \n",
       "\n",
       "       primary_cleaner.state.floatbank8_a_level  \\\n",
       "count                               5290.000000   \n",
       "mean                                -497.665883   \n",
       "std                                   19.952431   \n",
       "min                                 -795.316337   \n",
       "25%                                 -500.357298   \n",
       "50%                                 -499.969164   \n",
       "75%                                 -499.568951   \n",
       "max                                  -57.195404   \n",
       "\n",
       "       primary_cleaner.state.floatbank8_b_air  \\\n",
       "count                            5.290000e+03   \n",
       "mean                             1.545174e+03   \n",
       "std                              1.222246e+02   \n",
       "min                              6.647490e-32   \n",
       "25%                              1.498971e+03   \n",
       "50%                              1.595622e+03   \n",
       "75%                              1.602324e+03   \n",
       "max                              1.813084e+03   \n",
       "\n",
       "       primary_cleaner.state.floatbank8_b_level  \\\n",
       "count                               5290.000000   \n",
       "mean                                -500.273098   \n",
       "std                                   32.968307   \n",
       "min                                 -799.997015   \n",
       "25%                                 -500.703002   \n",
       "50%                                 -500.028514   \n",
       "75%                                 -499.293257   \n",
       "max                                 -142.527229   \n",
       "\n",
       "       primary_cleaner.state.floatbank8_c_air  \\\n",
       "count                            5.290000e+03   \n",
       "mean                             1.527272e+03   \n",
       "std                              1.225380e+02   \n",
       "min                              4.033736e-32   \n",
       "25%                              1.473230e+03   \n",
       "50%                              1.549595e+03   \n",
       "75%                              1.601144e+03   \n",
       "max                              1.715054e+03   \n",
       "\n",
       "       primary_cleaner.state.floatbank8_c_level  ...  \\\n",
       "count                               5290.000000  ...   \n",
       "mean                                -498.330680  ...   \n",
       "std                                   21.964876  ...   \n",
       "min                                 -799.960571  ...   \n",
       "25%                                 -501.018117  ...   \n",
       "50%                                 -500.017711  ...   \n",
       "75%                                 -498.994130  ...   \n",
       "max                                 -150.937035  ...   \n",
       "\n",
       "       secondary_cleaner.state.floatbank4_a_air  \\\n",
       "count                              5.290000e+03   \n",
       "mean                               1.632007e+01   \n",
       "std                                3.493583e+00   \n",
       "min                                1.079872e-16   \n",
       "25%                                1.403618e+01   \n",
       "50%                                1.700847e+01   \n",
       "75%                                1.803862e+01   \n",
       "max                                3.005180e+01   \n",
       "\n",
       "       secondary_cleaner.state.floatbank4_a_level  \\\n",
       "count                                 5290.000000   \n",
       "mean                                  -505.144570   \n",
       "std                                     31.427337   \n",
       "min                                   -799.798523   \n",
       "25%                                   -500.868258   \n",
       "50%                                   -500.115727   \n",
       "75%                                   -499.404224   \n",
       "max                                   -401.565212   \n",
       "\n",
       "       secondary_cleaner.state.floatbank4_b_air  \\\n",
       "count                              5.290000e+03   \n",
       "mean                               1.373544e+01   \n",
       "std                                3.430484e+00   \n",
       "min                                2.489718e-17   \n",
       "25%                                1.202862e+01   \n",
       "50%                                1.496486e+01   \n",
       "75%                                1.596213e+01   \n",
       "max                                3.126971e+01   \n",
       "\n",
       "       secondary_cleaner.state.floatbank4_b_level  \\\n",
       "count                                 5290.000000   \n",
       "mean                                  -463.349858   \n",
       "std                                     86.189107   \n",
       "min                                   -800.836914   \n",
       "25%                                   -500.323028   \n",
       "50%                                   -499.576513   \n",
       "75%                                   -400.933805   \n",
       "max                                     -6.506986   \n",
       "\n",
       "       secondary_cleaner.state.floatbank5_a_air  \\\n",
       "count                               5290.000000   \n",
       "mean                                  12.804186   \n",
       "std                                    3.026591   \n",
       "min                                    0.069227   \n",
       "25%                                   10.914838   \n",
       "50%                                   12.954182   \n",
       "75%                                   15.097528   \n",
       "max                                   25.258848   \n",
       "\n",
       "       secondary_cleaner.state.floatbank5_a_level  \\\n",
       "count                                 5290.000000   \n",
       "mean                                  -501.329122   \n",
       "std                                     17.951495   \n",
       "min                                   -797.323986   \n",
       "25%                                   -500.726841   \n",
       "50%                                   -499.990332   \n",
       "75%                                   -499.283191   \n",
       "max                                   -244.483566   \n",
       "\n",
       "       secondary_cleaner.state.floatbank5_b_air  \\\n",
       "count                               5290.000000   \n",
       "mean                                   9.881145   \n",
       "std                                    2.868205   \n",
       "min                                    0.528083   \n",
       "25%                                    8.036719   \n",
       "50%                                   10.004301   \n",
       "75%                                   11.997467   \n",
       "max                                   14.086866   \n",
       "\n",
       "       secondary_cleaner.state.floatbank5_b_level  \\\n",
       "count                                 5290.000000   \n",
       "mean                                  -495.663398   \n",
       "std                                     34.535007   \n",
       "min                                   -800.220337   \n",
       "25%                                   -500.194668   \n",
       "50%                                   -499.990535   \n",
       "75%                                   -499.719913   \n",
       "max                                   -137.740004   \n",
       "\n",
       "       secondary_cleaner.state.floatbank6_a_air  \\\n",
       "count                               5290.000000   \n",
       "mean                                  17.304935   \n",
       "std                                    4.536544   \n",
       "min                                   -0.079426   \n",
       "25%                                   13.997317   \n",
       "50%                                   16.014935   \n",
       "75%                                   21.020013   \n",
       "max                                   26.705889   \n",
       "\n",
       "       secondary_cleaner.state.floatbank6_a_level  \n",
       "count                                 5290.000000  \n",
       "mean                                  -501.793193  \n",
       "std                                     39.044215  \n",
       "min                                   -809.741464  \n",
       "25%                                   -500.690984  \n",
       "50%                                   -500.007126  \n",
       "75%                                   -499.373018  \n",
       "max                                   -123.307487  \n",
       "\n",
       "[8 rows x 52 columns]"
      ]
     },
     "execution_count": 6,
     "metadata": {},
     "output_type": "execute_result"
    }
   ],
   "source": [
    "test_df.describe()"
   ]
  },
  {
   "cell_type": "code",
   "execution_count": 7,
   "metadata": {},
   "outputs": [
    {
     "name": "stdout",
     "output_type": "stream",
     "text": [
      "<class 'pandas.core.frame.DataFrame'>\n",
      "Index: 5290 entries, 2016-09-01 00:59:59 to 2017-12-31 23:59:59\n",
      "Data columns (total 52 columns):\n",
      " #   Column                                      Non-Null Count  Dtype  \n",
      "---  ------                                      --------------  -----  \n",
      " 0   primary_cleaner.input.sulfate               5286 non-null   float64\n",
      " 1   primary_cleaner.input.depressant            5285 non-null   float64\n",
      " 2   primary_cleaner.input.feed_size             5290 non-null   float64\n",
      " 3   primary_cleaner.input.xanthate              5286 non-null   float64\n",
      " 4   primary_cleaner.state.floatbank8_a_air      5290 non-null   float64\n",
      " 5   primary_cleaner.state.floatbank8_a_level    5290 non-null   float64\n",
      " 6   primary_cleaner.state.floatbank8_b_air      5290 non-null   float64\n",
      " 7   primary_cleaner.state.floatbank8_b_level    5290 non-null   float64\n",
      " 8   primary_cleaner.state.floatbank8_c_air      5290 non-null   float64\n",
      " 9   primary_cleaner.state.floatbank8_c_level    5290 non-null   float64\n",
      " 10  primary_cleaner.state.floatbank8_d_air      5290 non-null   float64\n",
      " 11  primary_cleaner.state.floatbank8_d_level    5290 non-null   float64\n",
      " 12  rougher.input.feed_ag                       5290 non-null   float64\n",
      " 13  rougher.input.feed_pb                       5290 non-null   float64\n",
      " 14  rougher.input.feed_rate                     5287 non-null   float64\n",
      " 15  rougher.input.feed_size                     5289 non-null   float64\n",
      " 16  rougher.input.feed_sol                      5269 non-null   float64\n",
      " 17  rougher.input.feed_au                       5290 non-null   float64\n",
      " 18  rougher.input.floatbank10_sulfate           5285 non-null   float64\n",
      " 19  rougher.input.floatbank10_xanthate          5290 non-null   float64\n",
      " 20  rougher.input.floatbank11_sulfate           5282 non-null   float64\n",
      " 21  rougher.input.floatbank11_xanthate          5265 non-null   float64\n",
      " 22  rougher.state.floatbank10_a_air             5290 non-null   float64\n",
      " 23  rougher.state.floatbank10_a_level           5290 non-null   float64\n",
      " 24  rougher.state.floatbank10_b_air             5290 non-null   float64\n",
      " 25  rougher.state.floatbank10_b_level           5290 non-null   float64\n",
      " 26  rougher.state.floatbank10_c_air             5290 non-null   float64\n",
      " 27  rougher.state.floatbank10_c_level           5290 non-null   float64\n",
      " 28  rougher.state.floatbank10_d_air             5290 non-null   float64\n",
      " 29  rougher.state.floatbank10_d_level           5290 non-null   float64\n",
      " 30  rougher.state.floatbank10_e_air             5290 non-null   float64\n",
      " 31  rougher.state.floatbank10_e_level           5290 non-null   float64\n",
      " 32  rougher.state.floatbank10_f_air             5290 non-null   float64\n",
      " 33  rougher.state.floatbank10_f_level           5290 non-null   float64\n",
      " 34  secondary_cleaner.state.floatbank2_a_air    5287 non-null   float64\n",
      " 35  secondary_cleaner.state.floatbank2_a_level  5290 non-null   float64\n",
      " 36  secondary_cleaner.state.floatbank2_b_air    5288 non-null   float64\n",
      " 37  secondary_cleaner.state.floatbank2_b_level  5290 non-null   float64\n",
      " 38  secondary_cleaner.state.floatbank3_a_air    5281 non-null   float64\n",
      " 39  secondary_cleaner.state.floatbank3_a_level  5290 non-null   float64\n",
      " 40  secondary_cleaner.state.floatbank3_b_air    5290 non-null   float64\n",
      " 41  secondary_cleaner.state.floatbank3_b_level  5290 non-null   float64\n",
      " 42  secondary_cleaner.state.floatbank4_a_air    5290 non-null   float64\n",
      " 43  secondary_cleaner.state.floatbank4_a_level  5290 non-null   float64\n",
      " 44  secondary_cleaner.state.floatbank4_b_air    5290 non-null   float64\n",
      " 45  secondary_cleaner.state.floatbank4_b_level  5290 non-null   float64\n",
      " 46  secondary_cleaner.state.floatbank5_a_air    5290 non-null   float64\n",
      " 47  secondary_cleaner.state.floatbank5_a_level  5290 non-null   float64\n",
      " 48  secondary_cleaner.state.floatbank5_b_air    5290 non-null   float64\n",
      " 49  secondary_cleaner.state.floatbank5_b_level  5290 non-null   float64\n",
      " 50  secondary_cleaner.state.floatbank6_a_air    5290 non-null   float64\n",
      " 51  secondary_cleaner.state.floatbank6_a_level  5290 non-null   float64\n",
      "dtypes: float64(52)\n",
      "memory usage: 2.1+ MB\n"
     ]
    }
   ],
   "source": [
    "test_df.info()"
   ]
  },
  {
   "cell_type": "code",
   "execution_count": 8,
   "metadata": {},
   "outputs": [
    {
     "data": {
      "text/plain": [
       "0"
      ]
     },
     "execution_count": 8,
     "metadata": {},
     "output_type": "execute_result"
    }
   ],
   "source": [
    "test_df.duplicated().sum()"
   ]
  },
  {
   "cell_type": "code",
   "execution_count": 9,
   "metadata": {},
   "outputs": [
    {
     "data": {
      "text/html": [
       "<div>\n",
       "<style scoped>\n",
       "    .dataframe tbody tr th:only-of-type {\n",
       "        vertical-align: middle;\n",
       "    }\n",
       "\n",
       "    .dataframe tbody tr th {\n",
       "        vertical-align: top;\n",
       "    }\n",
       "\n",
       "    .dataframe thead th {\n",
       "        text-align: right;\n",
       "    }\n",
       "</style>\n",
       "<table border=\"1\" class=\"dataframe\">\n",
       "  <thead>\n",
       "    <tr style=\"text-align: right;\">\n",
       "      <th></th>\n",
       "      <th>final.output.concentrate_ag</th>\n",
       "      <th>final.output.concentrate_pb</th>\n",
       "      <th>final.output.concentrate_sol</th>\n",
       "      <th>final.output.concentrate_au</th>\n",
       "      <th>final.output.recovery</th>\n",
       "      <th>final.output.tail_ag</th>\n",
       "      <th>final.output.tail_pb</th>\n",
       "      <th>final.output.tail_sol</th>\n",
       "      <th>final.output.tail_au</th>\n",
       "      <th>primary_cleaner.input.sulfate</th>\n",
       "      <th>...</th>\n",
       "      <th>secondary_cleaner.state.floatbank4_a_air</th>\n",
       "      <th>secondary_cleaner.state.floatbank4_a_level</th>\n",
       "      <th>secondary_cleaner.state.floatbank4_b_air</th>\n",
       "      <th>secondary_cleaner.state.floatbank4_b_level</th>\n",
       "      <th>secondary_cleaner.state.floatbank5_a_air</th>\n",
       "      <th>secondary_cleaner.state.floatbank5_a_level</th>\n",
       "      <th>secondary_cleaner.state.floatbank5_b_air</th>\n",
       "      <th>secondary_cleaner.state.floatbank5_b_level</th>\n",
       "      <th>secondary_cleaner.state.floatbank6_a_air</th>\n",
       "      <th>secondary_cleaner.state.floatbank6_a_level</th>\n",
       "    </tr>\n",
       "  </thead>\n",
       "  <tbody>\n",
       "    <tr>\n",
       "      <th>count</th>\n",
       "      <td>19438.000000</td>\n",
       "      <td>19438.000000</td>\n",
       "      <td>19228.000000</td>\n",
       "      <td>19439.000000</td>\n",
       "      <td>19439.000000</td>\n",
       "      <td>19438.000000</td>\n",
       "      <td>19338.000000</td>\n",
       "      <td>19433.000000</td>\n",
       "      <td>19439.000000</td>\n",
       "      <td>19415.000000</td>\n",
       "      <td>...</td>\n",
       "      <td>19433.000000</td>\n",
       "      <td>19438.000000</td>\n",
       "      <td>19438.000000</td>\n",
       "      <td>19438.000000</td>\n",
       "      <td>19438.000000</td>\n",
       "      <td>19438.000000</td>\n",
       "      <td>19438.000000</td>\n",
       "      <td>19438.000000</td>\n",
       "      <td>19437.000000</td>\n",
       "      <td>19438.000000</td>\n",
       "    </tr>\n",
       "    <tr>\n",
       "      <th>mean</th>\n",
       "      <td>5.168470</td>\n",
       "      <td>9.978895</td>\n",
       "      <td>9.501224</td>\n",
       "      <td>44.076513</td>\n",
       "      <td>67.050208</td>\n",
       "      <td>9.688589</td>\n",
       "      <td>2.705795</td>\n",
       "      <td>10.583728</td>\n",
       "      <td>3.042467</td>\n",
       "      <td>144.624774</td>\n",
       "      <td>...</td>\n",
       "      <td>18.987674</td>\n",
       "      <td>-485.894516</td>\n",
       "      <td>15.010366</td>\n",
       "      <td>-461.078636</td>\n",
       "      <td>15.694452</td>\n",
       "      <td>-488.684065</td>\n",
       "      <td>12.198224</td>\n",
       "      <td>-487.149827</td>\n",
       "      <td>18.959024</td>\n",
       "      <td>-505.436305</td>\n",
       "    </tr>\n",
       "    <tr>\n",
       "      <th>std</th>\n",
       "      <td>1.372348</td>\n",
       "      <td>1.669240</td>\n",
       "      <td>2.787537</td>\n",
       "      <td>5.129784</td>\n",
       "      <td>10.125840</td>\n",
       "      <td>2.328642</td>\n",
       "      <td>0.949077</td>\n",
       "      <td>2.868782</td>\n",
       "      <td>0.922808</td>\n",
       "      <td>44.464071</td>\n",
       "      <td>...</td>\n",
       "      <td>5.411058</td>\n",
       "      <td>47.758570</td>\n",
       "      <td>4.890228</td>\n",
       "      <td>67.405524</td>\n",
       "      <td>5.510974</td>\n",
       "      <td>34.533396</td>\n",
       "      <td>5.333024</td>\n",
       "      <td>38.347312</td>\n",
       "      <td>5.550498</td>\n",
       "      <td>37.689057</td>\n",
       "    </tr>\n",
       "    <tr>\n",
       "      <th>min</th>\n",
       "      <td>0.000000</td>\n",
       "      <td>0.000000</td>\n",
       "      <td>0.000000</td>\n",
       "      <td>0.000000</td>\n",
       "      <td>0.000000</td>\n",
       "      <td>0.000000</td>\n",
       "      <td>0.000000</td>\n",
       "      <td>0.000000</td>\n",
       "      <td>0.000000</td>\n",
       "      <td>0.003112</td>\n",
       "      <td>...</td>\n",
       "      <td>0.000000</td>\n",
       "      <td>-799.798523</td>\n",
       "      <td>0.000000</td>\n",
       "      <td>-800.836914</td>\n",
       "      <td>-0.372054</td>\n",
       "      <td>-797.323986</td>\n",
       "      <td>0.528083</td>\n",
       "      <td>-800.220337</td>\n",
       "      <td>-0.079426</td>\n",
       "      <td>-809.741464</td>\n",
       "    </tr>\n",
       "    <tr>\n",
       "      <th>25%</th>\n",
       "      <td>4.251240</td>\n",
       "      <td>9.137262</td>\n",
       "      <td>7.722820</td>\n",
       "      <td>43.402215</td>\n",
       "      <td>63.299712</td>\n",
       "      <td>8.062878</td>\n",
       "      <td>2.040119</td>\n",
       "      <td>8.938947</td>\n",
       "      <td>2.461138</td>\n",
       "      <td>114.107029</td>\n",
       "      <td>...</td>\n",
       "      <td>14.975734</td>\n",
       "      <td>-500.704892</td>\n",
       "      <td>11.940294</td>\n",
       "      <td>-500.187742</td>\n",
       "      <td>10.988606</td>\n",
       "      <td>-500.458467</td>\n",
       "      <td>8.971105</td>\n",
       "      <td>-500.129462</td>\n",
       "      <td>14.983037</td>\n",
       "      <td>-500.728067</td>\n",
       "    </tr>\n",
       "    <tr>\n",
       "      <th>50%</th>\n",
       "      <td>5.066094</td>\n",
       "      <td>10.102433</td>\n",
       "      <td>9.218961</td>\n",
       "      <td>45.011244</td>\n",
       "      <td>68.172738</td>\n",
       "      <td>9.743623</td>\n",
       "      <td>2.748730</td>\n",
       "      <td>10.622456</td>\n",
       "      <td>2.984909</td>\n",
       "      <td>143.232103</td>\n",
       "      <td>...</td>\n",
       "      <td>18.017481</td>\n",
       "      <td>-499.837793</td>\n",
       "      <td>14.971014</td>\n",
       "      <td>-499.459786</td>\n",
       "      <td>15.000036</td>\n",
       "      <td>-499.802605</td>\n",
       "      <td>11.019433</td>\n",
       "      <td>-499.935317</td>\n",
       "      <td>19.960541</td>\n",
       "      <td>-500.048400</td>\n",
       "    </tr>\n",
       "    <tr>\n",
       "      <th>75%</th>\n",
       "      <td>5.895527</td>\n",
       "      <td>11.035769</td>\n",
       "      <td>10.947813</td>\n",
       "      <td>46.275313</td>\n",
       "      <td>72.686642</td>\n",
       "      <td>11.134294</td>\n",
       "      <td>3.333216</td>\n",
       "      <td>12.104271</td>\n",
       "      <td>3.571351</td>\n",
       "      <td>175.075656</td>\n",
       "      <td>...</td>\n",
       "      <td>23.012470</td>\n",
       "      <td>-498.249730</td>\n",
       "      <td>19.034162</td>\n",
       "      <td>-400.118106</td>\n",
       "      <td>18.026190</td>\n",
       "      <td>-498.384187</td>\n",
       "      <td>14.019088</td>\n",
       "      <td>-499.436708</td>\n",
       "      <td>24.003170</td>\n",
       "      <td>-499.495378</td>\n",
       "    </tr>\n",
       "    <tr>\n",
       "      <th>max</th>\n",
       "      <td>16.001945</td>\n",
       "      <td>17.031899</td>\n",
       "      <td>19.615720</td>\n",
       "      <td>52.756638</td>\n",
       "      <td>100.000000</td>\n",
       "      <td>19.552149</td>\n",
       "      <td>5.804178</td>\n",
       "      <td>22.317730</td>\n",
       "      <td>8.245022</td>\n",
       "      <td>265.983123</td>\n",
       "      <td>...</td>\n",
       "      <td>30.115735</td>\n",
       "      <td>-245.239184</td>\n",
       "      <td>31.269706</td>\n",
       "      <td>-6.506986</td>\n",
       "      <td>43.709931</td>\n",
       "      <td>-244.483566</td>\n",
       "      <td>27.926001</td>\n",
       "      <td>-137.740004</td>\n",
       "      <td>32.188906</td>\n",
       "      <td>-104.427459</td>\n",
       "    </tr>\n",
       "  </tbody>\n",
       "</table>\n",
       "<p>8 rows × 86 columns</p>\n",
       "</div>"
      ],
      "text/plain": [
       "       final.output.concentrate_ag  final.output.concentrate_pb  \\\n",
       "count                 19438.000000                 19438.000000   \n",
       "mean                      5.168470                     9.978895   \n",
       "std                       1.372348                     1.669240   \n",
       "min                       0.000000                     0.000000   \n",
       "25%                       4.251240                     9.137262   \n",
       "50%                       5.066094                    10.102433   \n",
       "75%                       5.895527                    11.035769   \n",
       "max                      16.001945                    17.031899   \n",
       "\n",
       "       final.output.concentrate_sol  final.output.concentrate_au  \\\n",
       "count                  19228.000000                 19439.000000   \n",
       "mean                       9.501224                    44.076513   \n",
       "std                        2.787537                     5.129784   \n",
       "min                        0.000000                     0.000000   \n",
       "25%                        7.722820                    43.402215   \n",
       "50%                        9.218961                    45.011244   \n",
       "75%                       10.947813                    46.275313   \n",
       "max                       19.615720                    52.756638   \n",
       "\n",
       "       final.output.recovery  final.output.tail_ag  final.output.tail_pb  \\\n",
       "count           19439.000000          19438.000000          19338.000000   \n",
       "mean               67.050208              9.688589              2.705795   \n",
       "std                10.125840              2.328642              0.949077   \n",
       "min                 0.000000              0.000000              0.000000   \n",
       "25%                63.299712              8.062878              2.040119   \n",
       "50%                68.172738              9.743623              2.748730   \n",
       "75%                72.686642             11.134294              3.333216   \n",
       "max               100.000000             19.552149              5.804178   \n",
       "\n",
       "       final.output.tail_sol  final.output.tail_au  \\\n",
       "count           19433.000000          19439.000000   \n",
       "mean               10.583728              3.042467   \n",
       "std                 2.868782              0.922808   \n",
       "min                 0.000000              0.000000   \n",
       "25%                 8.938947              2.461138   \n",
       "50%                10.622456              2.984909   \n",
       "75%                12.104271              3.571351   \n",
       "max                22.317730              8.245022   \n",
       "\n",
       "       primary_cleaner.input.sulfate  ...  \\\n",
       "count                   19415.000000  ...   \n",
       "mean                      144.624774  ...   \n",
       "std                        44.464071  ...   \n",
       "min                         0.003112  ...   \n",
       "25%                       114.107029  ...   \n",
       "50%                       143.232103  ...   \n",
       "75%                       175.075656  ...   \n",
       "max                       265.983123  ...   \n",
       "\n",
       "       secondary_cleaner.state.floatbank4_a_air  \\\n",
       "count                              19433.000000   \n",
       "mean                                  18.987674   \n",
       "std                                    5.411058   \n",
       "min                                    0.000000   \n",
       "25%                                   14.975734   \n",
       "50%                                   18.017481   \n",
       "75%                                   23.012470   \n",
       "max                                   30.115735   \n",
       "\n",
       "       secondary_cleaner.state.floatbank4_a_level  \\\n",
       "count                                19438.000000   \n",
       "mean                                  -485.894516   \n",
       "std                                     47.758570   \n",
       "min                                   -799.798523   \n",
       "25%                                   -500.704892   \n",
       "50%                                   -499.837793   \n",
       "75%                                   -498.249730   \n",
       "max                                   -245.239184   \n",
       "\n",
       "       secondary_cleaner.state.floatbank4_b_air  \\\n",
       "count                              19438.000000   \n",
       "mean                                  15.010366   \n",
       "std                                    4.890228   \n",
       "min                                    0.000000   \n",
       "25%                                   11.940294   \n",
       "50%                                   14.971014   \n",
       "75%                                   19.034162   \n",
       "max                                   31.269706   \n",
       "\n",
       "       secondary_cleaner.state.floatbank4_b_level  \\\n",
       "count                                19438.000000   \n",
       "mean                                  -461.078636   \n",
       "std                                     67.405524   \n",
       "min                                   -800.836914   \n",
       "25%                                   -500.187742   \n",
       "50%                                   -499.459786   \n",
       "75%                                   -400.118106   \n",
       "max                                     -6.506986   \n",
       "\n",
       "       secondary_cleaner.state.floatbank5_a_air  \\\n",
       "count                              19438.000000   \n",
       "mean                                  15.694452   \n",
       "std                                    5.510974   \n",
       "min                                   -0.372054   \n",
       "25%                                   10.988606   \n",
       "50%                                   15.000036   \n",
       "75%                                   18.026190   \n",
       "max                                   43.709931   \n",
       "\n",
       "       secondary_cleaner.state.floatbank5_a_level  \\\n",
       "count                                19438.000000   \n",
       "mean                                  -488.684065   \n",
       "std                                     34.533396   \n",
       "min                                   -797.323986   \n",
       "25%                                   -500.458467   \n",
       "50%                                   -499.802605   \n",
       "75%                                   -498.384187   \n",
       "max                                   -244.483566   \n",
       "\n",
       "       secondary_cleaner.state.floatbank5_b_air  \\\n",
       "count                              19438.000000   \n",
       "mean                                  12.198224   \n",
       "std                                    5.333024   \n",
       "min                                    0.528083   \n",
       "25%                                    8.971105   \n",
       "50%                                   11.019433   \n",
       "75%                                   14.019088   \n",
       "max                                   27.926001   \n",
       "\n",
       "       secondary_cleaner.state.floatbank5_b_level  \\\n",
       "count                                19438.000000   \n",
       "mean                                  -487.149827   \n",
       "std                                     38.347312   \n",
       "min                                   -800.220337   \n",
       "25%                                   -500.129462   \n",
       "50%                                   -499.935317   \n",
       "75%                                   -499.436708   \n",
       "max                                   -137.740004   \n",
       "\n",
       "       secondary_cleaner.state.floatbank6_a_air  \\\n",
       "count                              19437.000000   \n",
       "mean                                  18.959024   \n",
       "std                                    5.550498   \n",
       "min                                   -0.079426   \n",
       "25%                                   14.983037   \n",
       "50%                                   19.960541   \n",
       "75%                                   24.003170   \n",
       "max                                   32.188906   \n",
       "\n",
       "       secondary_cleaner.state.floatbank6_a_level  \n",
       "count                                19438.000000  \n",
       "mean                                  -505.436305  \n",
       "std                                     37.689057  \n",
       "min                                   -809.741464  \n",
       "25%                                   -500.728067  \n",
       "50%                                   -500.048400  \n",
       "75%                                   -499.495378  \n",
       "max                                   -104.427459  \n",
       "\n",
       "[8 rows x 86 columns]"
      ]
     },
     "execution_count": 9,
     "metadata": {},
     "output_type": "execute_result"
    }
   ],
   "source": [
    "full_df.describe()"
   ]
  },
  {
   "cell_type": "code",
   "execution_count": 10,
   "metadata": {},
   "outputs": [
    {
     "name": "stdout",
     "output_type": "stream",
     "text": [
      "<class 'pandas.core.frame.DataFrame'>\n",
      "Index: 19439 entries, 2016-01-15 00:00:00 to 2018-08-18 10:59:59\n",
      "Data columns (total 86 columns):\n",
      " #   Column                                              Non-Null Count  Dtype  \n",
      "---  ------                                              --------------  -----  \n",
      " 0   final.output.concentrate_ag                         19438 non-null  float64\n",
      " 1   final.output.concentrate_pb                         19438 non-null  float64\n",
      " 2   final.output.concentrate_sol                        19228 non-null  float64\n",
      " 3   final.output.concentrate_au                         19439 non-null  float64\n",
      " 4   final.output.recovery                               19439 non-null  float64\n",
      " 5   final.output.tail_ag                                19438 non-null  float64\n",
      " 6   final.output.tail_pb                                19338 non-null  float64\n",
      " 7   final.output.tail_sol                               19433 non-null  float64\n",
      " 8   final.output.tail_au                                19439 non-null  float64\n",
      " 9   primary_cleaner.input.sulfate                       19415 non-null  float64\n",
      " 10  primary_cleaner.input.depressant                    19402 non-null  float64\n",
      " 11  primary_cleaner.input.feed_size                     19439 non-null  float64\n",
      " 12  primary_cleaner.input.xanthate                      19335 non-null  float64\n",
      " 13  primary_cleaner.output.concentrate_ag               19439 non-null  float64\n",
      " 14  primary_cleaner.output.concentrate_pb               19323 non-null  float64\n",
      " 15  primary_cleaner.output.concentrate_sol              19069 non-null  float64\n",
      " 16  primary_cleaner.output.concentrate_au               19439 non-null  float64\n",
      " 17  primary_cleaner.output.tail_ag                      19435 non-null  float64\n",
      " 18  primary_cleaner.output.tail_pb                      19418 non-null  float64\n",
      " 19  primary_cleaner.output.tail_sol                     19377 non-null  float64\n",
      " 20  primary_cleaner.output.tail_au                      19439 non-null  float64\n",
      " 21  primary_cleaner.state.floatbank8_a_air              19435 non-null  float64\n",
      " 22  primary_cleaner.state.floatbank8_a_level            19438 non-null  float64\n",
      " 23  primary_cleaner.state.floatbank8_b_air              19435 non-null  float64\n",
      " 24  primary_cleaner.state.floatbank8_b_level            19438 non-null  float64\n",
      " 25  primary_cleaner.state.floatbank8_c_air              19437 non-null  float64\n",
      " 26  primary_cleaner.state.floatbank8_c_level            19438 non-null  float64\n",
      " 27  primary_cleaner.state.floatbank8_d_air              19436 non-null  float64\n",
      " 28  primary_cleaner.state.floatbank8_d_level            19438 non-null  float64\n",
      " 29  rougher.calculation.sulfate_to_au_concentrate       19437 non-null  float64\n",
      " 30  rougher.calculation.floatbank10_sulfate_to_au_feed  19437 non-null  float64\n",
      " 31  rougher.calculation.floatbank11_sulfate_to_au_feed  19437 non-null  float64\n",
      " 32  rougher.calculation.au_pb_ratio                     19439 non-null  float64\n",
      " 33  rougher.input.feed_ag                               19439 non-null  float64\n",
      " 34  rougher.input.feed_pb                               19339 non-null  float64\n",
      " 35  rougher.input.feed_rate                             19428 non-null  float64\n",
      " 36  rougher.input.feed_size                             19294 non-null  float64\n",
      " 37  rougher.input.feed_sol                              19340 non-null  float64\n",
      " 38  rougher.input.feed_au                               19439 non-null  float64\n",
      " 39  rougher.input.floatbank10_sulfate                   19405 non-null  float64\n",
      " 40  rougher.input.floatbank10_xanthate                  19431 non-null  float64\n",
      " 41  rougher.input.floatbank11_sulfate                   19395 non-null  float64\n",
      " 42  rougher.input.floatbank11_xanthate                  18986 non-null  float64\n",
      " 43  rougher.output.concentrate_ag                       19439 non-null  float64\n",
      " 44  rougher.output.concentrate_pb                       19439 non-null  float64\n",
      " 45  rougher.output.concentrate_sol                      19416 non-null  float64\n",
      " 46  rougher.output.concentrate_au                       19439 non-null  float64\n",
      " 47  rougher.output.recovery                             19439 non-null  float64\n",
      " 48  rougher.output.tail_ag                              19438 non-null  float64\n",
      " 49  rougher.output.tail_pb                              19439 non-null  float64\n",
      " 50  rougher.output.tail_sol                             19439 non-null  float64\n",
      " 51  rougher.output.tail_au                              19439 non-null  float64\n",
      " 52  rougher.state.floatbank10_a_air                     19438 non-null  float64\n",
      " 53  rougher.state.floatbank10_a_level                   19438 non-null  float64\n",
      " 54  rougher.state.floatbank10_b_air                     19438 non-null  float64\n",
      " 55  rougher.state.floatbank10_b_level                   19438 non-null  float64\n",
      " 56  rougher.state.floatbank10_c_air                     19438 non-null  float64\n",
      " 57  rougher.state.floatbank10_c_level                   19438 non-null  float64\n",
      " 58  rougher.state.floatbank10_d_air                     19439 non-null  float64\n",
      " 59  rougher.state.floatbank10_d_level                   19439 non-null  float64\n",
      " 60  rougher.state.floatbank10_e_air                     19003 non-null  float64\n",
      " 61  rougher.state.floatbank10_e_level                   19439 non-null  float64\n",
      " 62  rougher.state.floatbank10_f_air                     19439 non-null  float64\n",
      " 63  rougher.state.floatbank10_f_level                   19439 non-null  float64\n",
      " 64  secondary_cleaner.output.tail_ag                    19437 non-null  float64\n",
      " 65  secondary_cleaner.output.tail_pb                    19427 non-null  float64\n",
      " 66  secondary_cleaner.output.tail_sol                   17691 non-null  float64\n",
      " 67  secondary_cleaner.output.tail_au                    19439 non-null  float64\n",
      " 68  secondary_cleaner.state.floatbank2_a_air            19219 non-null  float64\n",
      " 69  secondary_cleaner.state.floatbank2_a_level          19438 non-null  float64\n",
      " 70  secondary_cleaner.state.floatbank2_b_air            19416 non-null  float64\n",
      " 71  secondary_cleaner.state.floatbank2_b_level          19438 non-null  float64\n",
      " 72  secondary_cleaner.state.floatbank3_a_air            19426 non-null  float64\n",
      " 73  secondary_cleaner.state.floatbank3_a_level          19438 non-null  float64\n",
      " 74  secondary_cleaner.state.floatbank3_b_air            19438 non-null  float64\n",
      " 75  secondary_cleaner.state.floatbank3_b_level          19438 non-null  float64\n",
      " 76  secondary_cleaner.state.floatbank4_a_air            19433 non-null  float64\n",
      " 77  secondary_cleaner.state.floatbank4_a_level          19438 non-null  float64\n",
      " 78  secondary_cleaner.state.floatbank4_b_air            19438 non-null  float64\n",
      " 79  secondary_cleaner.state.floatbank4_b_level          19438 non-null  float64\n",
      " 80  secondary_cleaner.state.floatbank5_a_air            19438 non-null  float64\n",
      " 81  secondary_cleaner.state.floatbank5_a_level          19438 non-null  float64\n",
      " 82  secondary_cleaner.state.floatbank5_b_air            19438 non-null  float64\n",
      " 83  secondary_cleaner.state.floatbank5_b_level          19438 non-null  float64\n",
      " 84  secondary_cleaner.state.floatbank6_a_air            19437 non-null  float64\n",
      " 85  secondary_cleaner.state.floatbank6_a_level          19438 non-null  float64\n",
      "dtypes: float64(86)\n",
      "memory usage: 12.9+ MB\n"
     ]
    }
   ],
   "source": [
    "full_df.info()"
   ]
  },
  {
   "cell_type": "code",
   "execution_count": 11,
   "metadata": {},
   "outputs": [
    {
     "data": {
      "text/plain": [
       "0"
      ]
     },
     "execution_count": 11,
     "metadata": {},
     "output_type": "execute_result"
    }
   ],
   "source": [
    "full_df.duplicated().sum()"
   ]
  },
  {
   "cell_type": "code",
   "execution_count": 12,
   "metadata": {},
   "outputs": [
    {
     "data": {
      "text/plain": [
       "set()"
      ]
     },
     "execution_count": 12,
     "metadata": {},
     "output_type": "execute_result"
    }
   ],
   "source": [
    "set(train_df.columns) - set(full_df.columns)"
   ]
  },
  {
   "cell_type": "code",
   "execution_count": 13,
   "metadata": {},
   "outputs": [
    {
     "data": {
      "text/plain": [
       "{'final.output.concentrate_ag',\n",
       " 'final.output.concentrate_au',\n",
       " 'final.output.concentrate_pb',\n",
       " 'final.output.concentrate_sol',\n",
       " 'final.output.recovery',\n",
       " 'final.output.tail_ag',\n",
       " 'final.output.tail_au',\n",
       " 'final.output.tail_pb',\n",
       " 'final.output.tail_sol',\n",
       " 'primary_cleaner.output.concentrate_ag',\n",
       " 'primary_cleaner.output.concentrate_au',\n",
       " 'primary_cleaner.output.concentrate_pb',\n",
       " 'primary_cleaner.output.concentrate_sol',\n",
       " 'primary_cleaner.output.tail_ag',\n",
       " 'primary_cleaner.output.tail_au',\n",
       " 'primary_cleaner.output.tail_pb',\n",
       " 'primary_cleaner.output.tail_sol',\n",
       " 'rougher.calculation.au_pb_ratio',\n",
       " 'rougher.calculation.floatbank10_sulfate_to_au_feed',\n",
       " 'rougher.calculation.floatbank11_sulfate_to_au_feed',\n",
       " 'rougher.calculation.sulfate_to_au_concentrate',\n",
       " 'rougher.output.concentrate_ag',\n",
       " 'rougher.output.concentrate_au',\n",
       " 'rougher.output.concentrate_pb',\n",
       " 'rougher.output.concentrate_sol',\n",
       " 'rougher.output.recovery',\n",
       " 'rougher.output.tail_ag',\n",
       " 'rougher.output.tail_au',\n",
       " 'rougher.output.tail_pb',\n",
       " 'rougher.output.tail_sol',\n",
       " 'secondary_cleaner.output.tail_ag',\n",
       " 'secondary_cleaner.output.tail_au',\n",
       " 'secondary_cleaner.output.tail_pb',\n",
       " 'secondary_cleaner.output.tail_sol'}"
      ]
     },
     "execution_count": 13,
     "metadata": {},
     "output_type": "execute_result"
    }
   ],
   "source": [
    "missing_columns = set(train_df.columns) - set(test_df.columns)\n",
    "missing_columns"
   ]
  },
  {
   "cell_type": "code",
   "execution_count": 14,
   "metadata": {},
   "outputs": [
    {
     "data": {
      "text/plain": [
       "True"
      ]
     },
     "execution_count": 14,
     "metadata": {},
     "output_type": "execute_result"
    }
   ],
   "source": [
    "len(full_df) == len(train_df) + len(test_df)"
   ]
  },
  {
   "cell_type": "markdown",
   "metadata": {},
   "source": [
    "**Вывод**\n",
    "\n",
    "В обучающей выборке присутствуют признаки, которых нет в тестовой.\n",
    "\n",
    "В данных присутствуют незначительное количество пропусков\n",
    "\n",
    "В данных отсутствуют дубликаты. \n",
    "\n",
    "Данные необходимо отмасштабировать (сделаем это позже)\n",
    "\n"
   ]
  },
  {
   "cell_type": "markdown",
   "metadata": {},
   "source": [
    "### Проверка расчета эффективности обогащения\n",
    "\n",
    "<img src=\"https://pictures.s3.yandex.net/resources/Recovery_1576238822.jpg\">\n",
    "\n",
    "C — доля золота в концентрате после флотации/очистки;\n",
    "\n",
    "F — доля золота в сырье/концентрате до флотации/очистки;\n",
    "\n",
    "T — доля золота в отвальных хвостах после флотации/очистки."
   ]
  },
  {
   "cell_type": "code",
   "execution_count": 15,
   "metadata": {},
   "outputs": [],
   "source": [
    "C = train_df['rougher.output.concentrate_au']\n",
    "F = train_df['rougher.input.feed_au']\n",
    "T = train_df['rougher.output.tail_au']"
   ]
  },
  {
   "cell_type": "code",
   "execution_count": 16,
   "metadata": {},
   "outputs": [],
   "source": [
    "recovery_calculation = (C*(F-T)) / (F*(C-T)) * 100"
   ]
  },
  {
   "cell_type": "code",
   "execution_count": 17,
   "metadata": {},
   "outputs": [
    {
     "data": {
      "text/plain": [
       "9.73512347450521e-15"
      ]
     },
     "execution_count": 17,
     "metadata": {},
     "output_type": "execute_result"
    }
   ],
   "source": [
    "mean_absolute_error(train_df['rougher.output.recovery'], recovery_calculation)"
   ]
  },
  {
   "cell_type": "code",
   "execution_count": 18,
   "metadata": {},
   "outputs": [
    {
     "data": {
      "text/plain": [
       "1.47578371084376e-14"
      ]
     },
     "execution_count": 18,
     "metadata": {},
     "output_type": "execute_result"
    }
   ],
   "source": [
    "(train_df['rougher.output.recovery'] - recovery_calculation).std()"
   ]
  },
  {
   "cell_type": "markdown",
   "metadata": {},
   "source": [
    "**Вывод**\n",
    "\n",
    "Расчет произведен правильно. Ошибка MAE практически нулевая"
   ]
  },
  {
   "cell_type": "markdown",
   "metadata": {},
   "source": [
    "### Анализ признаков, недоступных в тестовой выборке"
   ]
  },
  {
   "cell_type": "code",
   "execution_count": 19,
   "metadata": {},
   "outputs": [
    {
     "data": {
      "text/plain": [
       "{'final.output.concentrate_ag',\n",
       " 'final.output.concentrate_au',\n",
       " 'final.output.concentrate_pb',\n",
       " 'final.output.concentrate_sol',\n",
       " 'final.output.recovery',\n",
       " 'final.output.tail_ag',\n",
       " 'final.output.tail_au',\n",
       " 'final.output.tail_pb',\n",
       " 'final.output.tail_sol',\n",
       " 'primary_cleaner.output.concentrate_ag',\n",
       " 'primary_cleaner.output.concentrate_au',\n",
       " 'primary_cleaner.output.concentrate_pb',\n",
       " 'primary_cleaner.output.concentrate_sol',\n",
       " 'primary_cleaner.output.tail_ag',\n",
       " 'primary_cleaner.output.tail_au',\n",
       " 'primary_cleaner.output.tail_pb',\n",
       " 'primary_cleaner.output.tail_sol',\n",
       " 'rougher.calculation.au_pb_ratio',\n",
       " 'rougher.calculation.floatbank10_sulfate_to_au_feed',\n",
       " 'rougher.calculation.floatbank11_sulfate_to_au_feed',\n",
       " 'rougher.calculation.sulfate_to_au_concentrate',\n",
       " 'rougher.output.concentrate_ag',\n",
       " 'rougher.output.concentrate_au',\n",
       " 'rougher.output.concentrate_pb',\n",
       " 'rougher.output.concentrate_sol',\n",
       " 'rougher.output.recovery',\n",
       " 'rougher.output.tail_ag',\n",
       " 'rougher.output.tail_au',\n",
       " 'rougher.output.tail_pb',\n",
       " 'rougher.output.tail_sol',\n",
       " 'secondary_cleaner.output.tail_ag',\n",
       " 'secondary_cleaner.output.tail_au',\n",
       " 'secondary_cleaner.output.tail_pb',\n",
       " 'secondary_cleaner.output.tail_sol'}"
      ]
     },
     "execution_count": 19,
     "metadata": {},
     "output_type": "execute_result"
    }
   ],
   "source": [
    "missing_columns"
   ]
  },
  {
   "cell_type": "markdown",
   "metadata": {},
   "source": [
    "**Вывод**\n",
    "\n",
    "Признаки с параметром **output** - это параметры продукта, которые становятся известны в процессе обработки, следовательно они не могут быть известны для теста\n",
    "\n",
    "Признаки **recovery**, по сути, наши целевые признаки."
   ]
  },
  {
   "cell_type": "markdown",
   "metadata": {},
   "source": [
    "### Предобработка данных"
   ]
  },
  {
   "cell_type": "code",
   "execution_count": 20,
   "metadata": {},
   "outputs": [],
   "source": [
    "train_df = train_df.fillna(method='ffill')\n",
    "test_df = test_df.fillna(method='ffill')"
   ]
  },
  {
   "cell_type": "markdown",
   "metadata": {},
   "source": [
    "Поскольку *соседние по времени параметры часто похожи (по условию задания)*, заполнять пропуски будем соседним предыдущим значением."
   ]
  },
  {
   "cell_type": "code",
   "execution_count": 21,
   "metadata": {},
   "outputs": [],
   "source": [
    "test_df['rougher.output.recovery'] = full_df['rougher.output.recovery'].loc[test_df.index]\n",
    "test_df['final.output.recovery'] = full_df['final.output.recovery'].loc[test_df.index]"
   ]
  },
  {
   "cell_type": "markdown",
   "metadata": {},
   "source": [
    "Добавим в тестовый дата-сет целевые признаки, по которым мы будем считать финальные метрики."
   ]
  },
  {
   "cell_type": "code",
   "execution_count": 22,
   "metadata": {},
   "outputs": [],
   "source": [
    "train_df = train_df[test_df.columns]"
   ]
  },
  {
   "cell_type": "markdown",
   "metadata": {},
   "source": [
    "Приведем трейн и тест к единому пространству признаков, оставив только те, что есть в тесте."
   ]
  },
  {
   "cell_type": "markdown",
   "metadata": {},
   "source": [
    "## Анализ данных"
   ]
  },
  {
   "cell_type": "markdown",
   "metadata": {},
   "source": [
    "### Концентрация металлов (Au, Ag, Pb) на различных этапах очистки"
   ]
  },
  {
   "cell_type": "code",
   "execution_count": 23,
   "metadata": {},
   "outputs": [
    {
     "data": {
      "text/plain": [
       "Index(['primary_cleaner.input.sulfate', 'primary_cleaner.input.depressant',\n",
       "       'primary_cleaner.input.feed_size', 'primary_cleaner.input.xanthate',\n",
       "       'primary_cleaner.state.floatbank8_a_air',\n",
       "       'primary_cleaner.state.floatbank8_a_level',\n",
       "       'primary_cleaner.state.floatbank8_b_air',\n",
       "       'primary_cleaner.state.floatbank8_b_level',\n",
       "       'primary_cleaner.state.floatbank8_c_air',\n",
       "       'primary_cleaner.state.floatbank8_c_level',\n",
       "       'primary_cleaner.state.floatbank8_d_air',\n",
       "       'primary_cleaner.state.floatbank8_d_level', 'rougher.input.feed_ag',\n",
       "       'rougher.input.feed_pb', 'rougher.input.feed_rate',\n",
       "       'rougher.input.feed_size', 'rougher.input.feed_sol',\n",
       "       'rougher.input.feed_au', 'rougher.input.floatbank10_sulfate',\n",
       "       'rougher.input.floatbank10_xanthate',\n",
       "       'rougher.input.floatbank11_sulfate',\n",
       "       'rougher.input.floatbank11_xanthate', 'rougher.state.floatbank10_a_air',\n",
       "       'rougher.state.floatbank10_a_level', 'rougher.state.floatbank10_b_air',\n",
       "       'rougher.state.floatbank10_b_level', 'rougher.state.floatbank10_c_air',\n",
       "       'rougher.state.floatbank10_c_level', 'rougher.state.floatbank10_d_air',\n",
       "       'rougher.state.floatbank10_d_level', 'rougher.state.floatbank10_e_air',\n",
       "       'rougher.state.floatbank10_e_level', 'rougher.state.floatbank10_f_air',\n",
       "       'rougher.state.floatbank10_f_level',\n",
       "       'secondary_cleaner.state.floatbank2_a_air',\n",
       "       'secondary_cleaner.state.floatbank2_a_level',\n",
       "       'secondary_cleaner.state.floatbank2_b_air',\n",
       "       'secondary_cleaner.state.floatbank2_b_level',\n",
       "       'secondary_cleaner.state.floatbank3_a_air',\n",
       "       'secondary_cleaner.state.floatbank3_a_level',\n",
       "       'secondary_cleaner.state.floatbank3_b_air',\n",
       "       'secondary_cleaner.state.floatbank3_b_level',\n",
       "       'secondary_cleaner.state.floatbank4_a_air',\n",
       "       'secondary_cleaner.state.floatbank4_a_level',\n",
       "       'secondary_cleaner.state.floatbank4_b_air',\n",
       "       'secondary_cleaner.state.floatbank4_b_level',\n",
       "       'secondary_cleaner.state.floatbank5_a_air',\n",
       "       'secondary_cleaner.state.floatbank5_a_level',\n",
       "       'secondary_cleaner.state.floatbank5_b_air',\n",
       "       'secondary_cleaner.state.floatbank5_b_level',\n",
       "       'secondary_cleaner.state.floatbank6_a_air',\n",
       "       'secondary_cleaner.state.floatbank6_a_level', 'rougher.output.recovery',\n",
       "       'final.output.recovery'],\n",
       "      dtype='object')"
      ]
     },
     "execution_count": 23,
     "metadata": {},
     "output_type": "execute_result"
    }
   ],
   "source": [
    "train_df.columns"
   ]
  },
  {
   "cell_type": "code",
   "execution_count": 24,
   "metadata": {},
   "outputs": [],
   "source": [
    "metals = ['au', 'ag', 'pb']\n",
    "stages = ['rougher.input.feed', 'rougher.output.concentrate', 'primary_cleaner.output.concentrate', 'final.output.concentrate']"
   ]
  },
  {
   "cell_type": "code",
   "execution_count": 25,
   "metadata": {},
   "outputs": [
    {
     "data": {
      "image/png": "[encoded data removed]",
      "text/plain": [
       "<Figure size 1008x432 with 1 Axes>"
      ]
     },
     "metadata": {
      "needs_background": "light"
     },
     "output_type": "display_data"
    },
    {
     "data": {
      "image/png": "[encoded data removed]",
      "text/plain": [
       "<Figure size 1008x432 with 1 Axes>"
      ]
     },
     "metadata": {
      "needs_background": "light"
     },
     "output_type": "display_data"
    },
    {
     "data": {
      "image/png": "[encoded data removed]",
      "text/plain": [
       "<Figure size 1008x432 with 1 Axes>"
      ]
     },
     "metadata": {
      "needs_background": "light"
     },
     "output_type": "display_data"
    }
   ],
   "source": [
    "for metal in metals:\n",
    "    plt.figure(figsize=(14, 6))\n",
    "    for stage in stages:\n",
    "        ax = sns.distplot(full_df[stage+'_'+metal], label=stage)\n",
    "    plt.title('График плотности концентрации ' + metal)\n",
    "    plt.ylabel('плотность наблюдений')\n",
    "    plt.xlabel('концентрация')\n",
    "    plt.legend()\n",
    "    plt.show()"
   ]
  },
  {
   "cell_type": "markdown",
   "metadata": {},
   "source": [
    "**Вывод**\n",
    "\n",
    "Мы видим, что для концентрация золота (Au) растет от этапа к этапу. Концентрация серебра (Ag), напротив, снижается.\n",
    "\n",
    "Для свинца (Pb) характерен рост после флотации, далее средняя концентрация не меняется."
   ]
  },
  {
   "cell_type": "markdown",
   "metadata": {},
   "source": [
    "### Сравнение распределения размеров гранул сырья на обучающей и тестовой выборках."
   ]
  },
  {
   "cell_type": "code",
   "execution_count": 26,
   "metadata": {},
   "outputs": [
    {
     "data": {
      "image/png": "[encoded data removed]",
      "text/plain": [
       "<Figure size 1008x432 with 1 Axes>"
      ]
     },
     "metadata": {
      "needs_background": "light"
     },
     "output_type": "display_data"
    }
   ],
   "source": [
    "plt.figure(figsize=(14,6))\n",
    "sns.distplot(train_df['rougher.input.feed_size'], label='train')\n",
    "sns.distplot(test_df['rougher.input.feed_size'],label='test')\n",
    "plt.legend()\n",
    "plt.xlim(0,200)\n",
    "plt.title('Распределение размеров гранул сырья на этапе флотации')\n",
    "plt.show()"
   ]
  },
  {
   "cell_type": "code",
   "execution_count": 27,
   "metadata": {},
   "outputs": [
    {
     "data": {
      "image/png": "[encoded data removed]",
      "text/plain": [
       "<Figure size 1008x432 with 1 Axes>"
      ]
     },
     "metadata": {
      "needs_background": "light"
     },
     "output_type": "display_data"
    }
   ],
   "source": [
    "plt.figure(figsize=(14,6))\n",
    "sns.distplot(train_df['primary_cleaner.input.feed_size'], label='train')\n",
    "sns.distplot(test_df['primary_cleaner.input.feed_size'],label='test')\n",
    "plt.legend()\n",
    "plt.xlim(3,12)\n",
    "plt.title('Распределение размеров гранул сырья на этапе первой очистки')\n",
    "plt.show()"
   ]
  },
  {
   "cell_type": "markdown",
   "metadata": {},
   "source": [
    "**Вывод**\n",
    "\n",
    "размеры гранул на этапе флотации имеют разное распределение, а на этапе первой  очистки распределения схожи\n"
   ]
  },
  {
   "cell_type": "code",
   "execution_count": 28,
   "metadata": {},
   "outputs": [],
   "source": [
    "train_df = train_df.drop(columns=['rougher.input.feed_size'])\n",
    "test_df = test_df.drop(columns=['rougher.input.feed_size'])"
   ]
  },
  {
   "cell_type": "markdown",
   "metadata": {},
   "source": [
    "### Исследование суммарной концентрации"
   ]
  },
  {
   "cell_type": "code",
   "execution_count": 29,
   "metadata": {},
   "outputs": [],
   "source": [
    "metals = ['au', 'ag', 'pb']\n",
    "stages = ['rougher.input.feed', 'rougher.output.concentrate', 'primary_cleaner.output.concentrate', 'final.output.concentrate']"
   ]
  },
  {
   "cell_type": "code",
   "execution_count": 30,
   "metadata": {},
   "outputs": [],
   "source": [
    "total_concentrate_columns = []\n",
    "for stage in stages:\n",
    "    _ = [stage + '_' + metal for metal in metals]\n",
    "    full_df[stage + '_total'] = full_df[_].sum(axis=1)\n",
    "    total_concentrate_columns.append(stage + '_total')"
   ]
  },
  {
   "cell_type": "code",
   "execution_count": 31,
   "metadata": {},
   "outputs": [
    {
     "data": {
      "image/png": "[encoded data removed]",
      "text/plain": [
       "<Figure size 1008x432 with 1 Axes>"
      ]
     },
     "metadata": {
      "needs_background": "light"
     },
     "output_type": "display_data"
    }
   ],
   "source": [
    "plt.figure(figsize=(14, 6))\n",
    "for stage in total_concentrate_columns:\n",
    "    ax = sns.distplot(full_df[stage], label=stage)\n",
    "plt.title('Распределение суммарной концентрации')\n",
    "plt.ylabel('плотность распределения')\n",
    "plt.xlabel('Концентрация')\n",
    "plt.legend()\n",
    "plt.show()"
   ]
  },
  {
   "cell_type": "code",
   "execution_count": 32,
   "metadata": {},
   "outputs": [
    {
     "data": {
      "image/png": "[encoded data removed]",
      "text/plain": [
       "<Figure size 1008x432 with 1 Axes>"
      ]
     },
     "metadata": {
      "needs_background": "light"
     },
     "output_type": "display_data"
    }
   ],
   "source": [
    "plt.figure(figsize=(14, 6))\n",
    "for stage in total_concentrate_columns:\n",
    "    ax = sns.distplot(full_df.loc[test_df.index][stage], label=stage)\n",
    "plt.title('Распределение суммарной концентрации на тестовой выборке')\n",
    "plt.ylabel('плотность распределения')\n",
    "plt.xlabel('Концентрация')\n",
    "plt.legend()\n",
    "plt.show()"
   ]
  },
  {
   "cell_type": "markdown",
   "metadata": {},
   "source": [
    "**Вывод**\n",
    "\n",
    "Суммарная концентрация растет от этапа к этапу. В основном за счет того, что концентрация золота имеет большие значения, чем остальные металлы."
   ]
  },
  {
   "cell_type": "code",
   "execution_count": 33,
   "metadata": {},
   "outputs": [],
   "source": [
    "outliers_idx = full_df[full_df['final.output.concentrate_total'] < 2].index"
   ]
  },
  {
   "cell_type": "code",
   "execution_count": 34,
   "metadata": {},
   "outputs": [],
   "source": [
    "train_clean_idx = [idx for idx in train_df.index if idx not in outliers_idx]\n",
    "test_clean_idx = [idx for idx in test_df.index if idx not in outliers_idx]"
   ]
  },
  {
   "cell_type": "code",
   "execution_count": 35,
   "metadata": {},
   "outputs": [],
   "source": [
    "test_outliers_idx = [idx for idx in test_df.index if idx in outliers_idx]"
   ]
  },
  {
   "cell_type": "markdown",
   "metadata": {},
   "source": [
    "## Модель"
   ]
  },
  {
   "cell_type": "markdown",
   "metadata": {},
   "source": [
    "Подготовим данные для обучения. Разделим их на трейн и тест и отмасштабируем"
   ]
  },
  {
   "cell_type": "code",
   "execution_count": 36,
   "metadata": {},
   "outputs": [],
   "source": [
    "y_train_rougher = train_df.loc[train_clean_idx]['rougher.output.recovery'].values\n",
    "y_train_final = train_df.loc[train_clean_idx]['final.output.recovery'].values\n",
    "x_train = train_df.drop(columns=['rougher.output.recovery', 'final.output.recovery'])\n",
    "\n",
    "y_test_rougher = test_df['rougher.output.recovery'].values\n",
    "y_test_final = test_df['final.output.recovery'].values\n",
    "x_test = test_df.drop(columns=['rougher.output.recovery', 'final.output.recovery'])"
   ]
  },
  {
   "cell_type": "code",
   "execution_count": 37,
   "metadata": {},
   "outputs": [],
   "source": [
    "x_train = x_train.loc[train_clean_idx]"
   ]
  },
  {
   "cell_type": "code",
   "execution_count": 38,
   "metadata": {},
   "outputs": [],
   "source": [
    "# scaler = StandardScaler()\n",
    "\n",
    "# x_train[x_train.columns] = scaler.fit_transform(x_train[x_train.columns])\n",
    "# x_test[x_train.columns] = scaler.transform(x_test[x_train.columns])"
   ]
  },
  {
   "cell_type": "markdown",
   "metadata": {},
   "source": [
    "###  функция для вычисления итогового sMAPE"
   ]
  },
  {
   "cell_type": "markdown",
   "metadata": {},
   "source": [
    "<img src='https://pictures.s3.yandex.net/resources/smape_1576238825.jpg'>\n",
    "\n",
    "<img src='https://pictures.s3.yandex.net/resources/_smape_1576238814.jpg'>"
   ]
  },
  {
   "cell_type": "code",
   "execution_count": 39,
   "metadata": {},
   "outputs": [],
   "source": [
    "def sMAPE(y_true, y_pred):\n",
    "    y_true = pd.Series(y_true)\n",
    "    y_pred = pd.Series(y_pred)\n",
    "    \n",
    "    return np.mean(abs(y_true-y_pred) / ((abs(y_true) + abs(y_pred)) / 2)) * 100"
   ]
  },
  {
   "cell_type": "code",
   "execution_count": 40,
   "metadata": {},
   "outputs": [],
   "source": [
    "def total_sMAPE(y_true_r, y_true_f,y_pred_r, y_pred_f, r_coef=.25, f_coef=.75):\n",
    "    return r_coef * sMAPE(y_true_r, y_pred_r) + f_coef * sMAPE(y_true_f, y_pred_f)    "
   ]
  },
  {
   "cell_type": "markdown",
   "metadata": {},
   "source": [
    "### Моделирование"
   ]
  },
  {
   "cell_type": "code",
   "execution_count": 41,
   "metadata": {},
   "outputs": [],
   "source": [
    "sMAPE_scorer = make_scorer(sMAPE, greater_is_better=False)"
   ]
  },
  {
   "cell_type": "code",
   "execution_count": 42,
   "metadata": {},
   "outputs": [],
   "source": [
    "CV = 3"
   ]
  },
  {
   "cell_type": "code",
   "execution_count": 43,
   "metadata": {},
   "outputs": [],
   "source": [
    "result = pd.DataFrame(columns=['model', 'roughter sMAPE', 'final sMAPE']) # датафрейм для сравнения моделей"
   ]
  },
  {
   "cell_type": "code",
   "execution_count": 44,
   "metadata": {},
   "outputs": [
    {
     "data": {
      "text/html": [
       "<div>\n",
       "<style scoped>\n",
       "    .dataframe tbody tr th:only-of-type {\n",
       "        vertical-align: middle;\n",
       "    }\n",
       "\n",
       "    .dataframe tbody tr th {\n",
       "        vertical-align: top;\n",
       "    }\n",
       "\n",
       "    .dataframe thead th {\n",
       "        text-align: right;\n",
       "    }\n",
       "</style>\n",
       "<table border=\"1\" class=\"dataframe\">\n",
       "  <thead>\n",
       "    <tr style=\"text-align: right;\">\n",
       "      <th></th>\n",
       "      <th>model</th>\n",
       "      <th>roughter sMAPE</th>\n",
       "      <th>final sMAPE</th>\n",
       "    </tr>\n",
       "  </thead>\n",
       "  <tbody>\n",
       "    <tr>\n",
       "      <th>0</th>\n",
       "      <td>linear regression</td>\n",
       "      <td>-17.177673</td>\n",
       "      <td>-14.010349</td>\n",
       "    </tr>\n",
       "  </tbody>\n",
       "</table>\n",
       "</div>"
      ],
      "text/plain": [
       "               model  roughter sMAPE  final sMAPE\n",
       "0  linear regression      -17.177673   -14.010349"
      ]
     },
     "execution_count": 44,
     "metadata": {},
     "output_type": "execute_result"
    }
   ],
   "source": [
    "pipeline_lr = make_pipeline(StandardScaler(), LinearRegression())\n",
    "\n",
    "result.loc[-1] = ['linear regression',\n",
    "                  np.mean(cross_val_score(pipeline_lr, x_train, y_train_rougher, cv=CV, scoring=sMAPE_scorer)),\n",
    "                  np.mean(cross_val_score(pipeline_lr, x_train, y_train_final, cv=CV, scoring=sMAPE_scorer))]\n",
    "\n",
    "result.reset_index(drop=True, inplace=True)\n",
    "result"
   ]
  },
  {
   "cell_type": "markdown",
   "metadata": {},
   "source": [
    "У нас отрицательные значения sMAPE, поскольку создавая скорер мы указали параметр greater_is_better=False. Держим в голове, что чем ближе к нулю, тем лучше"
   ]
  },
  {
   "cell_type": "code",
   "execution_count": 45,
   "metadata": {},
   "outputs": [],
   "source": [
    "# params_rf = {'max_depth': [4, 8, 12, 16],\n",
    "#              'min_samples_split': [1, 2, 3]}\n",
    "\n",
    "params_rf = {'max_depth': [4, 6, 8],\n",
    "             'n_estimators': [50, 80]}"
   ]
  },
  {
   "cell_type": "code",
   "execution_count": 46,
   "metadata": {},
   "outputs": [],
   "source": [
    "model_rf = RandomForestRegressor(random_state=1)"
   ]
  },
  {
   "cell_type": "code",
   "execution_count": 47,
   "metadata": {},
   "outputs": [
    {
     "name": "stdout",
     "output_type": "stream",
     "text": [
      "Fitting 3 folds for each of 6 candidates, totalling 18 fits\n",
      "CPU times: user 3min 36s, sys: 216 ms, total: 3min 36s\n",
      "Wall time: 3min 36s\n"
     ]
    },
    {
     "data": {
      "text/plain": [
       "GridSearchCV(cv=3, estimator=RandomForestRegressor(random_state=1), n_jobs=-1,\n",
       "             param_grid={'max_depth': [4, 6, 8], 'n_estimators': [50, 80]},\n",
       "             scoring=make_scorer(sMAPE, greater_is_better=False), verbose=1)"
      ]
     },
     "execution_count": 47,
     "metadata": {},
     "output_type": "execute_result"
    }
   ],
   "source": [
    "%%time\n",
    "grid_rf_r = GridSearchCV(model_rf, param_grid=params_rf, cv=CV, verbose=1, scoring=sMAPE_scorer, n_jobs=-1)\n",
    "grid_rf_r.fit(x_train, y_train_rougher)"
   ]
  },
  {
   "cell_type": "code",
   "execution_count": 48,
   "metadata": {},
   "outputs": [
    {
     "data": {
      "text/plain": [
       "{'max_depth': 6, 'n_estimators': 80}"
      ]
     },
     "execution_count": 48,
     "metadata": {},
     "output_type": "execute_result"
    }
   ],
   "source": [
    "grid_rf_r.best_params_"
   ]
  },
  {
   "cell_type": "code",
   "execution_count": 49,
   "metadata": {},
   "outputs": [
    {
     "name": "stdout",
     "output_type": "stream",
     "text": [
      "Fitting 3 folds for each of 6 candidates, totalling 18 fits\n",
      "CPU times: user 3min 29s, sys: 168 ms, total: 3min 29s\n",
      "Wall time: 3min 30s\n"
     ]
    },
    {
     "data": {
      "text/plain": [
       "GridSearchCV(cv=3, estimator=RandomForestRegressor(random_state=1), n_jobs=-1,\n",
       "             param_grid={'max_depth': [4, 6, 8], 'n_estimators': [50, 80]},\n",
       "             scoring=make_scorer(sMAPE, greater_is_better=False), verbose=1)"
      ]
     },
     "execution_count": 49,
     "metadata": {},
     "output_type": "execute_result"
    }
   ],
   "source": [
    "%%time\n",
    "grid_rf_f = GridSearchCV(model_rf, param_grid=params_rf, cv=CV, verbose=1, scoring=sMAPE_scorer, n_jobs=-1)\n",
    "grid_rf_f.fit(x_train, y_train_final)"
   ]
  },
  {
   "cell_type": "code",
   "execution_count": 50,
   "metadata": {},
   "outputs": [
    {
     "data": {
      "text/plain": [
       "{'max_depth': 6, 'n_estimators': 80}"
      ]
     },
     "execution_count": 50,
     "metadata": {},
     "output_type": "execute_result"
    }
   ],
   "source": [
    "grid_rf_f.best_params_"
   ]
  },
  {
   "cell_type": "code",
   "execution_count": 51,
   "metadata": {},
   "outputs": [
    {
     "data": {
      "text/html": [
       "<div>\n",
       "<style scoped>\n",
       "    .dataframe tbody tr th:only-of-type {\n",
       "        vertical-align: middle;\n",
       "    }\n",
       "\n",
       "    .dataframe tbody tr th {\n",
       "        vertical-align: top;\n",
       "    }\n",
       "\n",
       "    .dataframe thead th {\n",
       "        text-align: right;\n",
       "    }\n",
       "</style>\n",
       "<table border=\"1\" class=\"dataframe\">\n",
       "  <thead>\n",
       "    <tr style=\"text-align: right;\">\n",
       "      <th></th>\n",
       "      <th>model</th>\n",
       "      <th>roughter sMAPE</th>\n",
       "      <th>final sMAPE</th>\n",
       "    </tr>\n",
       "  </thead>\n",
       "  <tbody>\n",
       "    <tr>\n",
       "      <th>0</th>\n",
       "      <td>linear regression</td>\n",
       "      <td>-17.177673</td>\n",
       "      <td>-14.010349</td>\n",
       "    </tr>\n",
       "    <tr>\n",
       "      <th>1</th>\n",
       "      <td>random forrest</td>\n",
       "      <td>-11.841728</td>\n",
       "      <td>-11.325003</td>\n",
       "    </tr>\n",
       "  </tbody>\n",
       "</table>\n",
       "</div>"
      ],
      "text/plain": [
       "               model  roughter sMAPE  final sMAPE\n",
       "0  linear regression      -17.177673   -14.010349\n",
       "1     random forrest      -11.841728   -11.325003"
      ]
     },
     "execution_count": 51,
     "metadata": {},
     "output_type": "execute_result"
    }
   ],
   "source": [
    "result.loc[-1] = ['random forrest',\n",
    "                  grid_rf_r.best_score_,\n",
    "                  grid_rf_f.best_score_]\n",
    "\n",
    "result.reset_index(drop=True, inplace=True)\n",
    "result"
   ]
  },
  {
   "cell_type": "code",
   "execution_count": 52,
   "metadata": {},
   "outputs": [],
   "source": [
    "cb_model = CatBoostRegressor(random_state=1, verbose=0)"
   ]
  },
  {
   "cell_type": "code",
   "execution_count": 53,
   "metadata": {},
   "outputs": [],
   "source": [
    "params_cb = {'n_estimators': [50, 100, 200],\n",
    "          'depth': [4, 6, 10],\n",
    "          'l2_leaf_reg': [1, 3]}"
   ]
  },
  {
   "cell_type": "code",
   "execution_count": 54,
   "metadata": {},
   "outputs": [
    {
     "name": "stdout",
     "output_type": "stream",
     "text": [
      "Fitting 3 folds for each of 18 candidates, totalling 54 fits\n",
      "CPU times: user 4min 37s, sys: 753 ms, total: 4min 38s\n",
      "Wall time: 5min 4s\n"
     ]
    },
    {
     "data": {
      "text/plain": [
       "GridSearchCV(cv=3,\n",
       "             estimator=<catboost.core.CatBoostRegressor object at 0x7f51471ebee0>,\n",
       "             n_jobs=-1,\n",
       "             param_grid={'depth': [4, 6, 10], 'l2_leaf_reg': [1, 3],\n",
       "                         'n_estimators': [50, 100, 200]},\n",
       "             scoring=make_scorer(sMAPE, greater_is_better=False), verbose=1)"
      ]
     },
     "execution_count": 54,
     "metadata": {},
     "output_type": "execute_result"
    }
   ],
   "source": [
    "%%time\n",
    "grid_cb_r = GridSearchCV(cb_model, param_grid=params_cb, cv=CV, verbose=1, scoring=sMAPE_scorer, n_jobs=-1)\n",
    "grid_cb_r.fit(x_train, y_train_rougher)"
   ]
  },
  {
   "cell_type": "code",
   "execution_count": 55,
   "metadata": {},
   "outputs": [
    {
     "data": {
      "text/plain": [
       "{'depth': 4, 'l2_leaf_reg': 1, 'n_estimators': 100}"
      ]
     },
     "execution_count": 55,
     "metadata": {},
     "output_type": "execute_result"
    }
   ],
   "source": [
    "grid_cb_r.best_params_"
   ]
  },
  {
   "cell_type": "code",
   "execution_count": 56,
   "metadata": {},
   "outputs": [
    {
     "name": "stdout",
     "output_type": "stream",
     "text": [
      "Fitting 3 folds for each of 18 candidates, totalling 54 fits\n",
      "CPU times: user 4min 45s, sys: 844 ms, total: 4min 46s\n",
      "Wall time: 5min 16s\n"
     ]
    },
    {
     "data": {
      "text/plain": [
       "GridSearchCV(cv=3,\n",
       "             estimator=<catboost.core.CatBoostRegressor object at 0x7f51471ebee0>,\n",
       "             n_jobs=-1,\n",
       "             param_grid={'depth': [4, 6, 10], 'l2_leaf_reg': [1, 3],\n",
       "                         'n_estimators': [50, 100, 200]},\n",
       "             scoring=make_scorer(sMAPE, greater_is_better=False), verbose=1)"
      ]
     },
     "execution_count": 56,
     "metadata": {},
     "output_type": "execute_result"
    }
   ],
   "source": [
    "%%time\n",
    "grid_cb_f = GridSearchCV(cb_model, param_grid=params_cb, cv=CV, verbose=1, scoring=sMAPE_scorer, n_jobs=-1)\n",
    "grid_cb_f.fit(x_train, y_train_final)"
   ]
  },
  {
   "cell_type": "code",
   "execution_count": 57,
   "metadata": {},
   "outputs": [
    {
     "data": {
      "text/plain": [
       "{'depth': 10, 'l2_leaf_reg': 1, 'n_estimators': 50}"
      ]
     },
     "execution_count": 57,
     "metadata": {},
     "output_type": "execute_result"
    }
   ],
   "source": [
    "grid_cb_f.best_params_"
   ]
  },
  {
   "cell_type": "code",
   "execution_count": 58,
   "metadata": {},
   "outputs": [
    {
     "data": {
      "text/html": [
       "<div>\n",
       "<style scoped>\n",
       "    .dataframe tbody tr th:only-of-type {\n",
       "        vertical-align: middle;\n",
       "    }\n",
       "\n",
       "    .dataframe tbody tr th {\n",
       "        vertical-align: top;\n",
       "    }\n",
       "\n",
       "    .dataframe thead th {\n",
       "        text-align: right;\n",
       "    }\n",
       "</style>\n",
       "<table border=\"1\" class=\"dataframe\">\n",
       "  <thead>\n",
       "    <tr style=\"text-align: right;\">\n",
       "      <th></th>\n",
       "      <th>model</th>\n",
       "      <th>roughter sMAPE</th>\n",
       "      <th>final sMAPE</th>\n",
       "    </tr>\n",
       "  </thead>\n",
       "  <tbody>\n",
       "    <tr>\n",
       "      <th>0</th>\n",
       "      <td>linear regression</td>\n",
       "      <td>-17.177673</td>\n",
       "      <td>-14.010349</td>\n",
       "    </tr>\n",
       "    <tr>\n",
       "      <th>1</th>\n",
       "      <td>random forrest</td>\n",
       "      <td>-11.841728</td>\n",
       "      <td>-11.325003</td>\n",
       "    </tr>\n",
       "    <tr>\n",
       "      <th>2</th>\n",
       "      <td>catboost</td>\n",
       "      <td>-11.550006</td>\n",
       "      <td>-10.230342</td>\n",
       "    </tr>\n",
       "  </tbody>\n",
       "</table>\n",
       "</div>"
      ],
      "text/plain": [
       "               model  roughter sMAPE  final sMAPE\n",
       "0  linear regression      -17.177673   -14.010349\n",
       "1     random forrest      -11.841728   -11.325003\n",
       "2           catboost      -11.550006   -10.230342"
      ]
     },
     "execution_count": 58,
     "metadata": {},
     "output_type": "execute_result"
    }
   ],
   "source": [
    "result.loc[-1] = ['catboost',\n",
    "                  grid_cb_r.best_score_,\n",
    "                  grid_cb_f.best_score_]\n",
    "\n",
    "result.reset_index(drop=True, inplace=True)\n",
    "result"
   ]
  },
  {
   "cell_type": "code",
   "execution_count": 59,
   "metadata": {},
   "outputs": [
    {
     "data": {
      "text/html": [
       "<div>\n",
       "<style scoped>\n",
       "    .dataframe tbody tr th:only-of-type {\n",
       "        vertical-align: middle;\n",
       "    }\n",
       "\n",
       "    .dataframe tbody tr th {\n",
       "        vertical-align: top;\n",
       "    }\n",
       "\n",
       "    .dataframe thead th {\n",
       "        text-align: right;\n",
       "    }\n",
       "</style>\n",
       "<table border=\"1\" class=\"dataframe\">\n",
       "  <thead>\n",
       "    <tr style=\"text-align: right;\">\n",
       "      <th></th>\n",
       "      <th>model</th>\n",
       "      <th>roughter sMAPE</th>\n",
       "      <th>final sMAPE</th>\n",
       "      <th>total sMAPE</th>\n",
       "    </tr>\n",
       "  </thead>\n",
       "  <tbody>\n",
       "    <tr>\n",
       "      <th>0</th>\n",
       "      <td>linear regression</td>\n",
       "      <td>-17.177673</td>\n",
       "      <td>-14.010349</td>\n",
       "      <td>-14.802180</td>\n",
       "    </tr>\n",
       "    <tr>\n",
       "      <th>1</th>\n",
       "      <td>random forrest</td>\n",
       "      <td>-11.841728</td>\n",
       "      <td>-11.325003</td>\n",
       "      <td>-11.454184</td>\n",
       "    </tr>\n",
       "    <tr>\n",
       "      <th>2</th>\n",
       "      <td>catboost</td>\n",
       "      <td>-11.550006</td>\n",
       "      <td>-10.230342</td>\n",
       "      <td>-10.560258</td>\n",
       "    </tr>\n",
       "  </tbody>\n",
       "</table>\n",
       "</div>"
      ],
      "text/plain": [
       "               model  roughter sMAPE  final sMAPE  total sMAPE\n",
       "0  linear regression      -17.177673   -14.010349   -14.802180\n",
       "1     random forrest      -11.841728   -11.325003   -11.454184\n",
       "2           catboost      -11.550006   -10.230342   -10.560258"
      ]
     },
     "execution_count": 59,
     "metadata": {},
     "output_type": "execute_result"
    }
   ],
   "source": [
    "result['total sMAPE'] = 0.25*result['roughter sMAPE'] + 0.75*result['final sMAPE']\n",
    "result                                                                 "
   ]
  },
  {
   "cell_type": "markdown",
   "metadata": {},
   "source": [
    "Лучше всего отработал Catboost, делаем предсказание на тестовой выборке данными моделями."
   ]
  },
  {
   "cell_type": "markdown",
   "metadata": {},
   "source": [
    "### Проверка лучшей модели на тестовой выборке"
   ]
  },
  {
   "cell_type": "code",
   "execution_count": 60,
   "metadata": {},
   "outputs": [],
   "source": [
    "predict_r = grid_cb_r.predict(x_test)\n",
    "predict_f = grid_cb_f.predict(x_test)"
   ]
  },
  {
   "cell_type": "code",
   "execution_count": 61,
   "metadata": {},
   "outputs": [
    {
     "data": {
      "text/plain": [
       "9.123637560130604"
      ]
     },
     "execution_count": 61,
     "metadata": {},
     "output_type": "execute_result"
    }
   ],
   "source": [
    "total_sMAPE(y_test_rougher, y_test_final, predict_r, predict_f)"
   ]
  },
  {
   "cell_type": "code",
   "execution_count": 62,
   "metadata": {},
   "outputs": [
    {
     "data": {
      "text/plain": [
       "7.998059642145099"
      ]
     },
     "execution_count": 62,
     "metadata": {},
     "output_type": "execute_result"
    }
   ],
   "source": [
    "y_test_rougher_clean = test_df.loc[test_clean_idx]['rougher.output.recovery'].values\n",
    "y_test_final_clean = test_df.loc[test_clean_idx]['final.output.recovery'].values\n",
    "x_test_clean = test_df.drop(columns=['rougher.output.recovery', 'final.output.recovery'])\n",
    "x_test_clean = x_test.loc[test_clean_idx]\n",
    "\n",
    "predict_r_clean = grid_cb_r.predict(x_test_clean)\n",
    "predict_f_clean = grid_cb_f.predict(x_test_clean)\n",
    "\n",
    "total_sMAPE(y_test_rougher_clean, y_test_final_clean, predict_r_clean, predict_f_clean)"
   ]
  },
  {
   "cell_type": "code",
   "execution_count": 63,
   "metadata": {},
   "outputs": [
    {
     "data": {
      "text/plain": [
       "153.22506418222588"
      ]
     },
     "execution_count": 63,
     "metadata": {},
     "output_type": "execute_result"
    }
   ],
   "source": [
    "y_test_rougher_outlier = test_df.loc[test_outliers_idx]['rougher.output.recovery'].values\n",
    "y_test_final_outlier = test_df.loc[test_outliers_idx]['final.output.recovery'].values\n",
    "x_test_outlier = test_df.drop(columns=['rougher.output.recovery', 'final.output.recovery'])\n",
    "x_test_outlier = x_test.loc[test_outliers_idx]\n",
    "\n",
    "predict_r_outlier = grid_cb_r.predict(x_test_outlier)\n",
    "predict_f_outlier = grid_cb_f.predict(x_test_outlier)\n",
    "\n",
    "total_sMAPE(y_test_rougher_outlier, y_test_final_outlier, predict_r_outlier, predict_f_outlier)"
   ]
  },
  {
   "cell_type": "code",
   "execution_count": 64,
   "metadata": {},
   "outputs": [
    {
     "data": {
      "image/png": "[encoded data removed]",
      "text/plain": [
       "<Figure size 1008x432 with 1 Axes>"
      ]
     },
     "metadata": {
      "needs_background": "light"
     },
     "output_type": "display_data"
    }
   ],
   "source": [
    "plt.figure(figsize=(14,6))\n",
    "sns.distplot(predict_r_clean, label='Предикт без выбросов')\n",
    "sns.distplot(y_test_rougher, label='Реальное распределение')\n",
    "sns.distplot(predict_r_outlier, label='Предикт для аномалий')\n",
    "plt.title('Распределение целевой переменной и предсказаний для ougher.output.recovery')\n",
    "plt.legend()\n",
    "plt.show()"
   ]
  },
  {
   "cell_type": "code",
   "execution_count": 65,
   "metadata": {},
   "outputs": [
    {
     "data": {
      "image/png": "[encoded data removed]",
      "text/plain": [
       "<Figure size 1008x432 with 1 Axes>"
      ]
     },
     "metadata": {
      "needs_background": "light"
     },
     "output_type": "display_data"
    }
   ],
   "source": [
    "plt.figure(figsize=(14,6))\n",
    "sns.distplot(predict_f_clean, label='Предикт без выбросов')\n",
    "sns.distplot(y_test_final, label='Реальное распределение')\n",
    "sns.distplot(predict_f_outlier, label='Предикт для аномалий')\n",
    "plt.title('Распределение целевой переменной и предсказаний для ougher.output.recovery')\n",
    "plt.legend()\n",
    "plt.show()"
   ]
  },
  {
   "cell_type": "code",
   "execution_count": 66,
   "metadata": {},
   "outputs": [
    {
     "data": {
      "text/plain": [
       "9.468322100987306"
      ]
     },
     "execution_count": 66,
     "metadata": {},
     "output_type": "execute_result"
    }
   ],
   "source": [
    "baseline_model_r = DummyRegressor(strategy='median')\n",
    "baseline_model_f = DummyRegressor(strategy='median')\n",
    "baseline_model_r.fit(x_train, y_train_rougher)\n",
    "baseline_model_f.fit(x_train, y_train_final)\n",
    "\n",
    "bs_pred_r = baseline_model_r.predict(x_test)\n",
    "bs_pred_f = baseline_model_f.predict(x_test)\n",
    "\n",
    "total_sMAPE(y_test_rougher, y_test_final, bs_pred_r, bs_pred_f)"
   ]
  },
  {
   "cell_type": "markdown",
   "metadata": {},
   "source": [
    "**Итоги**\n",
    "\n",
    "Мы создание модель машинного обучения, предсказывающую процент восстановления золота из руды.\n",
    "\n",
    "Для этого мы изучили полный набор данных. На основании технологического процесса часть признаков были исключены из тестовой выборки, поскольку на момент необходимости сделать предсказания они еще не доступны.\n",
    "\n",
    "Были изучены показатели концентрации металлов на различных этапах технологического процесса.\n",
    "\n",
    "На полученных данных было обучено несколько моделей, по результатам который лучшая из них показала итоговый sMAPE 11.986"
   ]
  },
  {
   "cell_type": "code",
   "execution_count": null,
   "metadata": {},
   "outputs": [],
   "source": []
  }
 ],
 "metadata": {
  "ExecuteTimeLog": [
   {
    "duration": 429,
    "start_time": "2023-02-24T12:16:01.905Z"
   },
   {
    "duration": 1979,
    "start_time": "2023-02-24T12:17:50.028Z"
   },
   {
    "duration": 34,
    "start_time": "2023-02-24T12:17:54.853Z"
   },
   {
    "duration": 2902,
    "start_time": "2023-02-24T12:20:13.298Z"
   },
   {
    "duration": 991,
    "start_time": "2023-02-24T12:21:52.996Z"
   },
   {
    "duration": 19,
    "start_time": "2023-02-24T12:22:08.788Z"
   },
   {
    "duration": 17,
    "start_time": "2023-02-24T12:22:25.117Z"
   },
   {
    "duration": 19,
    "start_time": "2023-02-24T12:22:32.606Z"
   },
   {
    "duration": 198,
    "start_time": "2023-02-24T12:29:19.701Z"
   },
   {
    "duration": 110,
    "start_time": "2023-02-24T12:29:35.611Z"
   },
   {
    "duration": 267,
    "start_time": "2023-02-24T12:30:06.598Z"
   },
   {
    "duration": 2861,
    "start_time": "2023-02-27T08:58:41.765Z"
   },
   {
    "duration": 1302,
    "start_time": "2023-02-27T08:58:44.629Z"
   },
   {
    "duration": 3184,
    "start_time": "2023-02-27T08:58:45.933Z"
   },
   {
    "duration": 219,
    "start_time": "2023-02-27T08:58:49.119Z"
   },
   {
    "duration": 16,
    "start_time": "2023-02-27T08:58:49.339Z"
   },
   {
    "duration": 131,
    "start_time": "2023-02-27T08:58:49.356Z"
   },
   {
    "duration": 20,
    "start_time": "2023-02-27T08:58:49.488Z"
   },
   {
    "duration": 244,
    "start_time": "2023-02-27T08:58:49.510Z"
   },
   {
    "duration": 16,
    "start_time": "2023-02-27T08:58:49.755Z"
   },
   {
    "duration": 26,
    "start_time": "2023-02-27T08:59:14.285Z"
   },
   {
    "duration": 5,
    "start_time": "2023-02-27T08:59:20.552Z"
   },
   {
    "duration": 103,
    "start_time": "2023-02-27T08:59:32.197Z"
   },
   {
    "duration": 4,
    "start_time": "2023-02-27T08:59:43.767Z"
   },
   {
    "duration": 5,
    "start_time": "2023-02-27T08:59:55.466Z"
   },
   {
    "duration": 5,
    "start_time": "2023-02-27T09:00:01.974Z"
   },
   {
    "duration": 5,
    "start_time": "2023-02-27T09:00:06.453Z"
   },
   {
    "duration": 142,
    "start_time": "2023-02-27T09:02:02.731Z"
   },
   {
    "duration": 9,
    "start_time": "2023-02-27T09:02:13.603Z"
   },
   {
    "duration": 122,
    "start_time": "2023-02-27T09:02:16.900Z"
   },
   {
    "duration": 21,
    "start_time": "2023-02-27T09:02:33.759Z"
   },
   {
    "duration": 90,
    "start_time": "2023-02-27T09:02:51.988Z"
   },
   {
    "duration": 4,
    "start_time": "2023-02-27T09:04:43.289Z"
   },
   {
    "duration": 4,
    "start_time": "2023-02-27T09:04:47.921Z"
   },
   {
    "duration": 4,
    "start_time": "2023-02-27T09:04:53.513Z"
   },
   {
    "duration": 4,
    "start_time": "2023-02-27T09:05:09.359Z"
   },
   {
    "duration": 4,
    "start_time": "2023-02-27T09:05:16.434Z"
   },
   {
    "duration": 27,
    "start_time": "2023-02-27T09:05:40.114Z"
   },
   {
    "duration": 21,
    "start_time": "2023-02-27T09:05:48.931Z"
   },
   {
    "duration": 21,
    "start_time": "2023-02-27T09:05:58.588Z"
   },
   {
    "duration": 21,
    "start_time": "2023-02-27T09:06:08.542Z"
   },
   {
    "duration": 22,
    "start_time": "2023-02-27T09:06:10.989Z"
   },
   {
    "duration": 3,
    "start_time": "2023-02-27T09:07:56.953Z"
   },
   {
    "duration": 3,
    "start_time": "2023-02-27T09:08:33.609Z"
   },
   {
    "duration": 3,
    "start_time": "2023-02-27T09:14:51.919Z"
   },
   {
    "duration": 2,
    "start_time": "2023-02-27T09:16:30.267Z"
   },
   {
    "duration": 3,
    "start_time": "2023-02-27T09:16:54.563Z"
   },
   {
    "duration": 6,
    "start_time": "2023-02-27T09:18:25.652Z"
   },
   {
    "duration": 5,
    "start_time": "2023-02-27T09:19:10.296Z"
   },
   {
    "duration": 5,
    "start_time": "2023-02-27T09:19:12.816Z"
   },
   {
    "duration": 38,
    "start_time": "2023-02-27T09:19:26.368Z"
   },
   {
    "duration": 5,
    "start_time": "2023-02-27T09:19:48.209Z"
   },
   {
    "duration": 7,
    "start_time": "2023-02-27T09:19:59.872Z"
   },
   {
    "duration": 5,
    "start_time": "2023-02-27T09:20:12.717Z"
   },
   {
    "duration": 6,
    "start_time": "2023-02-27T09:20:25.148Z"
   },
   {
    "duration": 5,
    "start_time": "2023-02-27T09:20:32.370Z"
   },
   {
    "duration": 5,
    "start_time": "2023-02-27T09:20:39.715Z"
   },
   {
    "duration": 5,
    "start_time": "2023-02-27T09:20:40.011Z"
   },
   {
    "duration": 4,
    "start_time": "2023-02-27T09:25:13.910Z"
   },
   {
    "duration": 4,
    "start_time": "2023-02-27T09:25:20.847Z"
   },
   {
    "duration": 96,
    "start_time": "2023-02-27T09:29:53.985Z"
   },
   {
    "duration": 27,
    "start_time": "2023-02-27T12:15:32.370Z"
   },
   {
    "duration": 813,
    "start_time": "2023-02-27T12:16:36.326Z"
   },
   {
    "duration": 254,
    "start_time": "2023-02-27T12:16:38.108Z"
   },
   {
    "duration": 250,
    "start_time": "2023-02-27T12:16:38.364Z"
   },
   {
    "duration": 769,
    "start_time": "2023-02-27T12:16:38.616Z"
   },
   {
    "duration": 143,
    "start_time": "2023-02-27T12:16:39.387Z"
   },
   {
    "duration": 12,
    "start_time": "2023-02-27T12:16:39.531Z"
   },
   {
    "duration": 23,
    "start_time": "2023-02-27T12:16:39.545Z"
   },
   {
    "duration": 287,
    "start_time": "2023-02-27T12:16:39.570Z"
   },
   {
    "duration": 17,
    "start_time": "2023-02-27T12:16:39.859Z"
   },
   {
    "duration": 114,
    "start_time": "2023-02-27T12:16:39.878Z"
   },
   {
    "duration": 11,
    "start_time": "2023-02-27T12:16:39.994Z"
   },
   {
    "duration": 17,
    "start_time": "2023-02-27T12:16:40.007Z"
   },
   {
    "duration": 5,
    "start_time": "2023-02-27T12:16:40.547Z"
   },
   {
    "duration": 3,
    "start_time": "2023-02-27T12:16:42.390Z"
   },
   {
    "duration": 5,
    "start_time": "2023-02-27T12:16:43.526Z"
   },
   {
    "duration": 8,
    "start_time": "2023-02-27T12:16:43.793Z"
   },
   {
    "duration": 6,
    "start_time": "2023-02-27T12:16:44.322Z"
   },
   {
    "duration": 5,
    "start_time": "2023-02-27T12:16:49.469Z"
   },
   {
    "duration": 41,
    "start_time": "2023-02-27T12:16:52.334Z"
   },
   {
    "duration": 4,
    "start_time": "2023-02-27T12:32:04.298Z"
   },
   {
    "duration": 10,
    "start_time": "2023-02-27T12:32:31.931Z"
   },
   {
    "duration": 8,
    "start_time": "2023-02-27T12:35:48.603Z"
   },
   {
    "duration": 5,
    "start_time": "2023-02-27T12:36:06.043Z"
   },
   {
    "duration": 3,
    "start_time": "2023-02-27T12:36:17.555Z"
   },
   {
    "duration": 5,
    "start_time": "2023-02-27T12:36:18.828Z"
   },
   {
    "duration": 36,
    "start_time": "2023-02-27T13:20:44.299Z"
   },
   {
    "duration": 30,
    "start_time": "2023-02-27T13:22:31.016Z"
   },
   {
    "duration": 18,
    "start_time": "2023-02-27T13:22:52.340Z"
   },
   {
    "duration": 3,
    "start_time": "2023-02-27T13:23:02.825Z"
   },
   {
    "duration": 4,
    "start_time": "2023-02-27T13:23:34.045Z"
   },
   {
    "duration": 82,
    "start_time": "2023-02-27T13:24:25.564Z"
   },
   {
    "duration": 77,
    "start_time": "2023-02-27T13:24:28.731Z"
   },
   {
    "duration": 85,
    "start_time": "2023-02-27T13:24:35.642Z"
   },
   {
    "duration": 5,
    "start_time": "2023-02-27T13:24:39.213Z"
   },
   {
    "duration": 5,
    "start_time": "2023-02-27T13:27:28.779Z"
   },
   {
    "duration": 3,
    "start_time": "2023-02-27T13:27:40.744Z"
   },
   {
    "duration": 5,
    "start_time": "2023-02-27T13:27:47.596Z"
   },
   {
    "duration": 3,
    "start_time": "2023-02-27T13:28:10.380Z"
   },
   {
    "duration": 3,
    "start_time": "2023-02-27T13:28:27.861Z"
   },
   {
    "duration": 3,
    "start_time": "2023-02-27T13:29:43.599Z"
   },
   {
    "duration": 3,
    "start_time": "2023-02-27T13:30:13.250Z"
   },
   {
    "duration": 3,
    "start_time": "2023-02-27T13:31:42.333Z"
   },
   {
    "duration": 9,
    "start_time": "2023-02-27T13:38:27.973Z"
   },
   {
    "duration": 8,
    "start_time": "2023-02-27T13:39:31.832Z"
   },
   {
    "duration": 3,
    "start_time": "2023-02-27T13:39:37.575Z"
   },
   {
    "duration": 3,
    "start_time": "2023-02-27T13:39:46.997Z"
   },
   {
    "duration": 4,
    "start_time": "2023-02-27T13:39:48.833Z"
   },
   {
    "duration": 3,
    "start_time": "2023-02-27T13:39:59.097Z"
   },
   {
    "duration": 4,
    "start_time": "2023-02-27T13:39:59.576Z"
   },
   {
    "duration": 4,
    "start_time": "2023-02-27T13:40:09.056Z"
   },
   {
    "duration": 5,
    "start_time": "2023-02-27T13:40:17.800Z"
   },
   {
    "duration": 6,
    "start_time": "2023-02-27T13:40:21.141Z"
   },
   {
    "duration": 22,
    "start_time": "2023-02-27T13:41:10.015Z"
   },
   {
    "duration": 13,
    "start_time": "2023-02-27T13:42:07.847Z"
   },
   {
    "duration": 145,
    "start_time": "2023-02-27T13:42:23.190Z"
   },
   {
    "duration": 168,
    "start_time": "2023-02-27T13:43:32.760Z"
   },
   {
    "duration": 214,
    "start_time": "2023-02-27T13:43:37.521Z"
   },
   {
    "duration": 222,
    "start_time": "2023-02-27T13:44:41.724Z"
   },
   {
    "duration": 446,
    "start_time": "2023-02-27T13:44:53.022Z"
   },
   {
    "duration": 517,
    "start_time": "2023-02-27T13:46:25.595Z"
   },
   {
    "duration": 197,
    "start_time": "2023-02-27T13:46:49.794Z"
   },
   {
    "duration": 3,
    "start_time": "2023-02-27T13:46:55.490Z"
   },
   {
    "duration": 3,
    "start_time": "2023-02-27T13:47:55.732Z"
   },
   {
    "duration": 180,
    "start_time": "2023-02-27T13:47:56.400Z"
   },
   {
    "duration": 579,
    "start_time": "2023-02-27T13:48:10.461Z"
   },
   {
    "duration": 507,
    "start_time": "2023-02-27T13:48:17.934Z"
   },
   {
    "duration": 619,
    "start_time": "2023-02-27T13:48:29.798Z"
   },
   {
    "duration": 513,
    "start_time": "2023-02-27T13:48:48.232Z"
   },
   {
    "duration": 567,
    "start_time": "2023-02-27T13:49:10.949Z"
   },
   {
    "duration": 672,
    "start_time": "2023-02-27T13:49:27.180Z"
   },
   {
    "duration": 1002,
    "start_time": "2023-02-27T13:50:02.211Z"
   },
   {
    "duration": 45,
    "start_time": "2023-02-27T13:53:36.618Z"
   },
   {
    "duration": 6,
    "start_time": "2023-02-27T13:53:42.736Z"
   },
   {
    "duration": 5,
    "start_time": "2023-02-27T14:00:19.922Z"
   },
   {
    "duration": 4,
    "start_time": "2023-02-27T14:03:33.897Z"
   },
   {
    "duration": 941,
    "start_time": "2023-02-27T14:04:16.520Z"
   },
   {
    "duration": 1638,
    "start_time": "2023-02-27T14:04:26.874Z"
   },
   {
    "duration": 14,
    "start_time": "2023-02-27T14:05:42.269Z"
   },
   {
    "duration": 12,
    "start_time": "2023-02-27T14:05:58.814Z"
   },
   {
    "duration": 1358,
    "start_time": "2023-02-27T14:06:04.477Z"
   },
   {
    "duration": 14,
    "start_time": "2023-02-27T14:06:24.487Z"
   },
   {
    "duration": 931,
    "start_time": "2023-02-27T14:06:29.559Z"
   },
   {
    "duration": 1009,
    "start_time": "2023-02-27T14:06:37.983Z"
   },
   {
    "duration": 812,
    "start_time": "2023-02-27T14:07:56.025Z"
   },
   {
    "duration": 1509,
    "start_time": "2023-02-27T14:08:07.420Z"
   },
   {
    "duration": 2271,
    "start_time": "2023-02-27T14:08:42.471Z"
   },
   {
    "duration": 1540,
    "start_time": "2023-02-27T14:09:17.430Z"
   },
   {
    "duration": 307,
    "start_time": "2023-02-27T14:10:07.287Z"
   },
   {
    "duration": 272,
    "start_time": "2023-02-27T14:10:40.921Z"
   },
   {
    "duration": 323,
    "start_time": "2023-02-27T14:11:31.051Z"
   },
   {
    "duration": 1542,
    "start_time": "2023-02-27T14:11:40.348Z"
   },
   {
    "duration": 1293,
    "start_time": "2023-02-27T14:12:34.484Z"
   },
   {
    "duration": 2102,
    "start_time": "2023-02-27T14:13:07.861Z"
   },
   {
    "duration": 634,
    "start_time": "2023-02-27T14:13:17.718Z"
   },
   {
    "duration": 661,
    "start_time": "2023-02-27T14:13:35.819Z"
   },
   {
    "duration": 5,
    "start_time": "2023-02-27T14:14:23.314Z"
   },
   {
    "duration": 709,
    "start_time": "2023-02-27T14:14:29.569Z"
   },
   {
    "duration": 618,
    "start_time": "2023-02-27T14:14:45.857Z"
   },
   {
    "duration": 758,
    "start_time": "2023-02-27T14:14:56.402Z"
   },
   {
    "duration": 656,
    "start_time": "2023-02-27T14:15:02.930Z"
   },
   {
    "duration": 676,
    "start_time": "2023-02-27T14:15:25.125Z"
   },
   {
    "duration": 622,
    "start_time": "2023-02-27T14:15:31.458Z"
   },
   {
    "duration": 648,
    "start_time": "2023-02-27T14:15:43.259Z"
   },
   {
    "duration": 812,
    "start_time": "2023-02-27T14:16:34.253Z"
   },
   {
    "duration": 700,
    "start_time": "2023-02-27T14:16:42.646Z"
   },
   {
    "duration": 962,
    "start_time": "2023-02-27T14:16:44.886Z"
   },
   {
    "duration": 622,
    "start_time": "2023-02-27T14:17:04.611Z"
   },
   {
    "duration": 135,
    "start_time": "2023-02-28T08:16:06.177Z"
   },
   {
    "duration": 3,
    "start_time": "2023-02-28T08:31:41.478Z"
   },
   {
    "duration": 2,
    "start_time": "2023-02-28T08:34:48.387Z"
   },
   {
    "duration": 4,
    "start_time": "2023-02-28T08:34:52.187Z"
   },
   {
    "duration": 13,
    "start_time": "2023-02-28T08:35:04.943Z"
   },
   {
    "duration": 13,
    "start_time": "2023-02-28T08:35:35.297Z"
   },
   {
    "duration": 1291,
    "start_time": "2023-02-28T08:35:39.144Z"
   },
   {
    "duration": 3,
    "start_time": "2023-02-28T08:35:56.588Z"
   },
   {
    "duration": 3,
    "start_time": "2023-02-28T08:35:57.337Z"
   },
   {
    "duration": 12,
    "start_time": "2023-02-28T08:36:00.485Z"
   },
   {
    "duration": 7,
    "start_time": "2023-02-28T08:36:05.536Z"
   },
   {
    "duration": 12,
    "start_time": "2023-02-28T08:36:14.085Z"
   },
   {
    "duration": 7,
    "start_time": "2023-02-28T08:36:25.173Z"
   },
   {
    "duration": 8,
    "start_time": "2023-02-28T08:36:27.906Z"
   },
   {
    "duration": 31,
    "start_time": "2023-02-28T08:36:34.946Z"
   },
   {
    "duration": 11,
    "start_time": "2023-02-28T08:36:38.686Z"
   },
   {
    "duration": 41,
    "start_time": "2023-02-28T08:37:52.733Z"
   },
   {
    "duration": 34,
    "start_time": "2023-02-28T08:37:55.485Z"
   },
   {
    "duration": 23,
    "start_time": "2023-02-28T08:39:06.920Z"
   },
   {
    "duration": 4,
    "start_time": "2023-02-28T08:39:09.178Z"
   },
   {
    "duration": 88,
    "start_time": "2023-02-28T08:39:48.401Z"
   },
   {
    "duration": 128,
    "start_time": "2023-02-28T08:39:53.394Z"
   },
   {
    "duration": 162,
    "start_time": "2023-02-28T08:39:57.944Z"
   },
   {
    "duration": 11,
    "start_time": "2023-02-28T08:42:31.002Z"
   },
   {
    "duration": 3,
    "start_time": "2023-02-28T08:49:45.613Z"
   },
   {
    "duration": 8,
    "start_time": "2023-02-28T08:59:17.332Z"
   },
   {
    "duration": 4,
    "start_time": "2023-02-28T09:00:21.388Z"
   },
   {
    "duration": 5,
    "start_time": "2023-02-28T09:00:46.171Z"
   },
   {
    "duration": 29,
    "start_time": "2023-02-28T09:01:16.633Z"
   },
   {
    "duration": 28,
    "start_time": "2023-02-28T09:01:20.280Z"
   },
   {
    "duration": 7,
    "start_time": "2023-02-28T09:01:42.451Z"
   },
   {
    "duration": 29,
    "start_time": "2023-02-28T09:01:44.088Z"
   },
   {
    "duration": 31,
    "start_time": "2023-02-28T09:01:46.505Z"
   },
   {
    "duration": 3,
    "start_time": "2023-02-28T09:08:35.290Z"
   },
   {
    "duration": 3,
    "start_time": "2023-02-28T09:09:37.344Z"
   },
   {
    "duration": 79,
    "start_time": "2023-02-28T09:12:08.383Z"
   },
   {
    "duration": 4,
    "start_time": "2023-02-28T09:12:30.496Z"
   },
   {
    "duration": 2,
    "start_time": "2023-02-28T09:13:16.635Z"
   },
   {
    "duration": 6,
    "start_time": "2023-02-28T09:13:21.290Z"
   },
   {
    "duration": 10,
    "start_time": "2023-02-28T09:13:33.403Z"
   },
   {
    "duration": 3,
    "start_time": "2023-02-28T09:13:51.868Z"
   },
   {
    "duration": 3,
    "start_time": "2023-02-28T09:13:52.123Z"
   },
   {
    "duration": 5,
    "start_time": "2023-02-28T09:13:52.484Z"
   },
   {
    "duration": 7,
    "start_time": "2023-02-28T09:13:52.972Z"
   },
   {
    "duration": 3,
    "start_time": "2023-02-28T09:16:51.381Z"
   },
   {
    "duration": 3,
    "start_time": "2023-02-28T09:35:39.280Z"
   },
   {
    "duration": 4,
    "start_time": "2023-02-28T10:20:00.388Z"
   },
   {
    "duration": 6,
    "start_time": "2023-02-28T10:20:18.884Z"
   },
   {
    "duration": 3,
    "start_time": "2023-02-28T10:24:06.322Z"
   },
   {
    "duration": 5,
    "start_time": "2023-02-28T10:24:07.740Z"
   },
   {
    "duration": 6,
    "start_time": "2023-02-28T10:24:28.598Z"
   },
   {
    "duration": 3,
    "start_time": "2023-02-28T10:25:23.937Z"
   },
   {
    "duration": 7,
    "start_time": "2023-02-28T10:25:25.274Z"
   },
   {
    "duration": 71,
    "start_time": "2023-02-28T10:25:39.425Z"
   },
   {
    "duration": 4,
    "start_time": "2023-02-28T10:26:10.778Z"
   },
   {
    "duration": 5,
    "start_time": "2023-02-28T10:26:18.516Z"
   },
   {
    "duration": 4,
    "start_time": "2023-02-28T10:26:23.219Z"
   },
   {
    "duration": 3,
    "start_time": "2023-02-28T10:26:44.669Z"
   },
   {
    "duration": 4,
    "start_time": "2023-02-28T10:26:45.235Z"
   },
   {
    "duration": 6,
    "start_time": "2023-02-28T10:26:49.221Z"
   },
   {
    "duration": 3,
    "start_time": "2023-02-28T10:28:26.425Z"
   },
   {
    "duration": 6,
    "start_time": "2023-02-28T10:28:28.287Z"
   },
   {
    "duration": 4,
    "start_time": "2023-02-28T10:28:31.208Z"
   },
   {
    "duration": 5,
    "start_time": "2023-02-28T10:28:33.476Z"
   },
   {
    "duration": 3,
    "start_time": "2023-02-28T10:28:33.980Z"
   },
   {
    "duration": 6,
    "start_time": "2023-02-28T10:28:48.522Z"
   },
   {
    "duration": 7,
    "start_time": "2023-02-28T10:29:36.690Z"
   },
   {
    "duration": 3,
    "start_time": "2023-02-28T10:29:56.537Z"
   },
   {
    "duration": 6,
    "start_time": "2023-02-28T10:29:59.879Z"
   },
   {
    "duration": 3,
    "start_time": "2023-02-28T10:30:06.480Z"
   },
   {
    "duration": 4,
    "start_time": "2023-02-28T10:30:06.781Z"
   },
   {
    "duration": 3,
    "start_time": "2023-02-28T10:30:07.047Z"
   },
   {
    "duration": 5,
    "start_time": "2023-02-28T10:30:07.413Z"
   },
   {
    "duration": 6,
    "start_time": "2023-02-28T10:30:49.804Z"
   },
   {
    "duration": 16,
    "start_time": "2023-02-28T10:32:31.437Z"
   },
   {
    "duration": 4,
    "start_time": "2023-02-28T10:33:41.271Z"
   },
   {
    "duration": 10,
    "start_time": "2023-02-28T10:33:49.571Z"
   },
   {
    "duration": 16,
    "start_time": "2023-02-28T10:34:47.579Z"
   },
   {
    "duration": 9,
    "start_time": "2023-02-28T10:34:59.734Z"
   },
   {
    "duration": 33,
    "start_time": "2023-02-28T10:35:06.221Z"
   },
   {
    "duration": 3,
    "start_time": "2023-02-28T10:35:09.230Z"
   },
   {
    "duration": 4,
    "start_time": "2023-02-28T10:39:35.799Z"
   },
   {
    "duration": 14,
    "start_time": "2023-02-28T10:42:55.776Z"
   },
   {
    "duration": 4,
    "start_time": "2023-02-28T10:43:20.555Z"
   },
   {
    "duration": 5,
    "start_time": "2023-02-28T10:43:23.439Z"
   },
   {
    "duration": 13,
    "start_time": "2023-02-28T10:43:42.936Z"
   },
   {
    "duration": 24,
    "start_time": "2023-02-28T10:43:57.572Z"
   },
   {
    "duration": 4,
    "start_time": "2023-02-28T10:43:59.826Z"
   },
   {
    "duration": 3,
    "start_time": "2023-02-28T10:52:34.932Z"
   },
   {
    "duration": 2,
    "start_time": "2023-02-28T10:54:38.825Z"
   },
   {
    "duration": 25,
    "start_time": "2023-02-28T10:54:49.592Z"
   },
   {
    "duration": 4,
    "start_time": "2023-02-28T10:54:52.185Z"
   },
   {
    "duration": 5,
    "start_time": "2023-02-28T11:03:10.731Z"
   },
   {
    "duration": 3,
    "start_time": "2023-02-28T11:07:15.396Z"
   },
   {
    "duration": 16,
    "start_time": "2023-02-28T11:07:31.079Z"
   },
   {
    "duration": 3,
    "start_time": "2023-02-28T11:07:47.183Z"
   },
   {
    "duration": 717,
    "start_time": "2023-02-28T11:07:47.376Z"
   },
   {
    "duration": 247,
    "start_time": "2023-02-28T11:07:48.095Z"
   },
   {
    "duration": 15,
    "start_time": "2023-02-28T11:07:48.344Z"
   },
   {
    "duration": 141,
    "start_time": "2023-02-28T11:07:48.362Z"
   },
   {
    "duration": 143,
    "start_time": "2023-02-28T11:07:48.505Z"
   },
   {
    "duration": 13,
    "start_time": "2023-02-28T11:07:48.650Z"
   },
   {
    "duration": 39,
    "start_time": "2023-02-28T11:07:48.665Z"
   },
   {
    "duration": 264,
    "start_time": "2023-02-28T11:07:48.724Z"
   },
   {
    "duration": 22,
    "start_time": "2023-02-28T11:07:48.990Z"
   },
   {
    "duration": 91,
    "start_time": "2023-02-28T11:07:49.212Z"
   },
   {
    "duration": 4,
    "start_time": "2023-02-28T11:07:49.579Z"
   },
   {
    "duration": 4,
    "start_time": "2023-02-28T11:07:50.037Z"
   },
   {
    "duration": 3,
    "start_time": "2023-02-28T11:07:50.285Z"
   },
   {
    "duration": 3,
    "start_time": "2023-02-28T11:07:51.037Z"
   },
   {
    "duration": 5,
    "start_time": "2023-02-28T11:07:51.325Z"
   },
   {
    "duration": 7,
    "start_time": "2023-02-28T11:07:51.621Z"
   },
   {
    "duration": 6,
    "start_time": "2023-02-28T11:07:51.933Z"
   },
   {
    "duration": 4,
    "start_time": "2023-02-28T11:07:52.926Z"
   },
   {
    "duration": 10,
    "start_time": "2023-02-28T11:07:53.942Z"
   },
   {
    "duration": 11,
    "start_time": "2023-02-28T11:07:54.798Z"
   },
   {
    "duration": 5,
    "start_time": "2023-02-28T11:07:56.479Z"
   },
   {
    "duration": 3,
    "start_time": "2023-02-28T11:07:57.533Z"
   },
   {
    "duration": 470,
    "start_time": "2023-02-28T11:07:57.813Z"
   },
   {
    "duration": 532,
    "start_time": "2023-02-28T11:07:59.623Z"
   },
   {
    "duration": 606,
    "start_time": "2023-02-28T11:08:00.157Z"
   },
   {
    "duration": 2,
    "start_time": "2023-02-28T11:08:00.766Z"
   },
   {
    "duration": 82,
    "start_time": "2023-02-28T11:08:00.770Z"
   },
   {
    "duration": 187,
    "start_time": "2023-02-28T11:08:00.893Z"
   },
   {
    "duration": 7,
    "start_time": "2023-02-28T11:08:05.543Z"
   },
   {
    "duration": 26,
    "start_time": "2023-02-28T11:08:06.479Z"
   },
   {
    "duration": 4,
    "start_time": "2023-02-28T11:08:08.387Z"
   },
   {
    "duration": 2,
    "start_time": "2023-02-28T11:08:08.527Z"
   },
   {
    "duration": 3,
    "start_time": "2023-02-28T11:08:08.702Z"
   },
   {
    "duration": 3,
    "start_time": "2023-02-28T11:08:09.302Z"
   },
   {
    "duration": 114,
    "start_time": "2023-02-28T11:08:09.791Z"
   },
   {
    "duration": 10,
    "start_time": "2023-02-28T11:08:18.551Z"
   },
   {
    "duration": 180,
    "start_time": "2023-02-28T11:08:36.935Z"
   },
   {
    "duration": 225,
    "start_time": "2023-02-28T11:08:42.889Z"
   },
   {
    "duration": 8,
    "start_time": "2023-02-28T11:08:48.496Z"
   },
   {
    "duration": 5,
    "start_time": "2023-02-28T11:08:51.752Z"
   },
   {
    "duration": 11,
    "start_time": "2023-02-28T11:08:58.680Z"
   },
   {
    "duration": 10,
    "start_time": "2023-02-28T11:09:02.969Z"
   },
   {
    "duration": 5,
    "start_time": "2023-02-28T11:09:08.222Z"
   },
   {
    "duration": 5,
    "start_time": "2023-02-28T11:09:13.872Z"
   },
   {
    "duration": 14,
    "start_time": "2023-02-28T11:09:18.466Z"
   },
   {
    "duration": 8,
    "start_time": "2023-02-28T11:09:21.481Z"
   },
   {
    "duration": 30,
    "start_time": "2023-02-28T11:09:42.875Z"
   },
   {
    "duration": 205,
    "start_time": "2023-02-28T11:09:47.913Z"
   },
   {
    "duration": 14,
    "start_time": "2023-02-28T11:09:52.268Z"
   },
   {
    "duration": 8,
    "start_time": "2023-02-28T11:09:53.018Z"
   },
   {
    "duration": 8,
    "start_time": "2023-02-28T11:10:15.411Z"
   },
   {
    "duration": 25,
    "start_time": "2023-02-28T11:10:16.379Z"
   },
   {
    "duration": 4,
    "start_time": "2023-02-28T11:10:17.442Z"
   },
   {
    "duration": 3,
    "start_time": "2023-02-28T11:10:17.716Z"
   },
   {
    "duration": 3,
    "start_time": "2023-02-28T11:10:18.218Z"
   },
   {
    "duration": 3,
    "start_time": "2023-02-28T11:10:20.299Z"
   },
   {
    "duration": 8,
    "start_time": "2023-02-28T11:10:21.567Z"
   },
   {
    "duration": 58,
    "start_time": "2023-02-28T11:10:27.051Z"
   },
   {
    "duration": 10,
    "start_time": "2023-02-28T11:10:31.243Z"
   },
   {
    "duration": 14,
    "start_time": "2023-02-28T11:11:33.583Z"
   },
   {
    "duration": 8,
    "start_time": "2023-02-28T11:11:40.487Z"
   },
   {
    "duration": 1176,
    "start_time": "2023-02-28T11:11:46.431Z"
   },
   {
    "duration": 1093,
    "start_time": "2023-02-28T11:11:56.615Z"
   },
   {
    "duration": 692,
    "start_time": "2023-02-28T14:13:52.616Z"
   },
   {
    "duration": 7,
    "start_time": "2023-02-28T14:14:38.089Z"
   },
   {
    "duration": 7,
    "start_time": "2023-02-28T14:14:58.735Z"
   },
   {
    "duration": 5,
    "start_time": "2023-02-28T14:16:59.527Z"
   },
   {
    "duration": 5,
    "start_time": "2023-02-28T14:17:42.975Z"
   },
   {
    "duration": 1890,
    "start_time": "2023-02-28T14:21:35.025Z"
   },
   {
    "duration": 7,
    "start_time": "2023-02-28T14:21:38.769Z"
   },
   {
    "duration": 1752,
    "start_time": "2023-02-28T14:21:56.660Z"
   },
   {
    "duration": 7,
    "start_time": "2023-02-28T14:21:59.272Z"
   },
   {
    "duration": 2531,
    "start_time": "2023-02-28T14:22:11.578Z"
   },
   {
    "duration": 8,
    "start_time": "2023-02-28T14:22:15.537Z"
   },
   {
    "duration": 2238,
    "start_time": "2023-02-28T14:22:20.768Z"
   },
   {
    "duration": 1879,
    "start_time": "2023-02-28T14:22:38.931Z"
   },
   {
    "duration": 2115,
    "start_time": "2023-02-28T14:23:01.901Z"
   },
   {
    "duration": 2249,
    "start_time": "2023-02-28T14:23:09.863Z"
   },
   {
    "duration": 8,
    "start_time": "2023-02-28T14:23:27.725Z"
   },
   {
    "duration": 7,
    "start_time": "2023-02-28T14:23:31.437Z"
   },
   {
    "duration": 2111,
    "start_time": "2023-02-28T14:23:32.693Z"
   },
   {
    "duration": 8,
    "start_time": "2023-02-28T14:23:43.446Z"
   },
   {
    "duration": 2028,
    "start_time": "2023-02-28T14:23:46.189Z"
   },
   {
    "duration": 6,
    "start_time": "2023-02-28T14:24:41.983Z"
   },
   {
    "duration": 6,
    "start_time": "2023-02-28T14:30:11.531Z"
   },
   {
    "duration": 70,
    "start_time": "2023-02-28T14:30:50.629Z"
   },
   {
    "duration": 3,
    "start_time": "2023-02-28T14:30:55.092Z"
   },
   {
    "duration": 5,
    "start_time": "2023-02-28T14:31:57.647Z"
   },
   {
    "duration": 11,
    "start_time": "2023-02-28T14:31:58.048Z"
   },
   {
    "duration": 3,
    "start_time": "2023-02-28T14:32:12.632Z"
   },
   {
    "duration": 2128,
    "start_time": "2023-02-28T14:32:18.678Z"
   },
   {
    "duration": 4,
    "start_time": "2023-02-28T14:32:24.076Z"
   },
   {
    "duration": 2171,
    "start_time": "2023-02-28T14:32:24.448Z"
   },
   {
    "duration": 2,
    "start_time": "2023-02-28T14:32:44.106Z"
   },
   {
    "duration": 5,
    "start_time": "2023-02-28T14:33:22.626Z"
   },
   {
    "duration": 9,
    "start_time": "2023-02-28T14:35:44.665Z"
   },
   {
    "duration": 3,
    "start_time": "2023-02-28T14:35:47.886Z"
   },
   {
    "duration": 3,
    "start_time": "2023-02-28T14:35:49.921Z"
   },
   {
    "duration": 15715,
    "start_time": "2023-02-28T14:42:28.102Z"
   },
   {
    "duration": 3,
    "start_time": "2023-02-28T14:42:45.523Z"
   },
   {
    "duration": 172199,
    "start_time": "2023-02-28T14:42:46.784Z"
   },
   {
    "duration": 4,
    "start_time": "2023-02-28T14:45:45.405Z"
   },
   {
    "duration": 9,
    "start_time": "2023-02-28T14:45:45.773Z"
   },
   {
    "duration": 3,
    "start_time": "2023-02-28T14:45:54.502Z"
   },
   {
    "duration": 276,
    "start_time": "2023-02-28T14:45:54.703Z"
   },
   {
    "duration": 4,
    "start_time": "2023-02-28T14:47:40.895Z"
   },
   {
    "duration": 15,
    "start_time": "2023-02-28T14:47:41.457Z"
   },
   {
    "duration": 2,
    "start_time": "2023-02-28T14:47:50.842Z"
   },
   {
    "duration": 3,
    "start_time": "2023-02-28T14:47:51.458Z"
   },
   {
    "duration": 290,
    "start_time": "2023-02-28T14:47:52.994Z"
   },
   {
    "duration": 3,
    "start_time": "2023-02-28T14:48:32.371Z"
   },
   {
    "duration": 3,
    "start_time": "2023-02-28T14:48:34.771Z"
   },
   {
    "duration": 6,
    "start_time": "2023-02-28T14:48:35.084Z"
   },
   {
    "duration": 2382,
    "start_time": "2023-02-28T14:48:35.624Z"
   },
   {
    "duration": 3,
    "start_time": "2023-02-28T14:48:45.884Z"
   },
   {
    "duration": 8,
    "start_time": "2023-02-28T14:48:46.748Z"
   },
   {
    "duration": 3,
    "start_time": "2023-02-28T14:48:47.492Z"
   },
   {
    "duration": 264,
    "start_time": "2023-02-28T14:48:48.148Z"
   },
   {
    "duration": 3,
    "start_time": "2023-02-28T14:50:10.183Z"
   },
   {
    "duration": 2,
    "start_time": "2023-02-28T14:50:10.791Z"
   },
   {
    "duration": 253,
    "start_time": "2023-02-28T14:50:11.567Z"
   },
   {
    "duration": 4,
    "start_time": "2023-02-28T14:50:25.046Z"
   },
   {
    "duration": 3,
    "start_time": "2023-02-28T14:50:25.426Z"
   },
   {
    "duration": 4,
    "start_time": "2023-02-28T14:50:25.847Z"
   },
   {
    "duration": 467,
    "start_time": "2023-02-28T14:50:26.272Z"
   },
   {
    "duration": 3,
    "start_time": "2023-02-28T14:51:34.754Z"
   },
   {
    "duration": 3,
    "start_time": "2023-02-28T14:51:35.050Z"
   },
   {
    "duration": 424,
    "start_time": "2023-02-28T14:51:35.387Z"
   },
   {
    "duration": 3,
    "start_time": "2023-02-28T14:52:07.715Z"
   },
   {
    "duration": 3,
    "start_time": "2023-02-28T14:52:07.980Z"
   },
   {
    "duration": 2,
    "start_time": "2023-02-28T14:52:08.243Z"
   },
   {
    "duration": 39675,
    "start_time": "2023-02-28T14:52:08.812Z"
   },
   {
    "duration": 3,
    "start_time": "2023-02-28T14:52:58.877Z"
   },
   {
    "duration": 154834,
    "start_time": "2023-02-28T14:52:59.175Z"
   },
   {
    "duration": 11,
    "start_time": "2023-02-28T14:56:10.924Z"
   },
   {
    "duration": 3,
    "start_time": "2023-02-28T14:56:28.750Z"
   },
   {
    "duration": 160879,
    "start_time": "2023-02-28T14:56:29.540Z"
   },
   {
    "duration": 5,
    "start_time": "2023-02-28T14:59:18.107Z"
   },
   {
    "duration": 5,
    "start_time": "2023-02-28T14:59:29.603Z"
   },
   {
    "duration": 4,
    "start_time": "2023-02-28T14:59:51.357Z"
   },
   {
    "duration": 7,
    "start_time": "2023-02-28T14:59:51.620Z"
   },
   {
    "duration": 2595,
    "start_time": "2023-02-28T14:59:51.915Z"
   },
   {
    "duration": 4,
    "start_time": "2023-02-28T14:59:54.513Z"
   },
   {
    "duration": 3,
    "start_time": "2023-02-28T15:00:08.156Z"
   },
   {
    "duration": 3,
    "start_time": "2023-02-28T15:01:14.019Z"
   },
   {
    "duration": 3,
    "start_time": "2023-02-28T15:01:14.695Z"
   },
   {
    "duration": 251730,
    "start_time": "2023-02-28T15:01:16.472Z"
   },
   {
    "duration": 9,
    "start_time": "2023-02-28T15:05:28.204Z"
   },
   {
    "duration": 0,
    "start_time": "2023-02-28T15:05:28.215Z"
   },
   {
    "duration": 0,
    "start_time": "2023-02-28T15:05:28.217Z"
   },
   {
    "duration": 0,
    "start_time": "2023-02-28T15:05:28.219Z"
   },
   {
    "duration": 3,
    "start_time": "2023-02-28T15:05:31.025Z"
   },
   {
    "duration": 4,
    "start_time": "2023-02-28T15:05:31.488Z"
   },
   {
    "duration": 224881,
    "start_time": "2023-02-28T15:05:32.258Z"
   },
   {
    "duration": 5,
    "start_time": "2023-02-28T15:09:17.142Z"
   },
   {
    "duration": 228410,
    "start_time": "2023-02-28T15:09:17.149Z"
   },
   {
    "duration": 4,
    "start_time": "2023-02-28T15:13:05.561Z"
   },
   {
    "duration": 17,
    "start_time": "2023-02-28T15:13:05.567Z"
   },
   {
    "duration": 211309,
    "start_time": "2023-02-28T15:13:24.075Z"
   },
   {
    "duration": 4,
    "start_time": "2023-02-28T15:16:55.386Z"
   },
   {
    "duration": 33,
    "start_time": "2023-02-28T15:16:55.391Z"
   },
   {
    "duration": 4,
    "start_time": "2023-02-28T15:17:08.578Z"
   },
   {
    "duration": 11,
    "start_time": "2023-02-28T15:17:09.834Z"
   },
   {
    "duration": 3,
    "start_time": "2023-02-28T15:17:49.436Z"
   },
   {
    "duration": 13,
    "start_time": "2023-02-28T15:17:55.932Z"
   },
   {
    "duration": 3,
    "start_time": "2023-02-28T15:19:09.423Z"
   },
   {
    "duration": 3,
    "start_time": "2023-02-28T15:19:43.952Z"
   },
   {
    "duration": 3,
    "start_time": "2023-02-28T15:19:44.199Z"
   },
   {
    "duration": 3,
    "start_time": "2023-02-28T15:19:49.152Z"
   },
   {
    "duration": 37598,
    "start_time": "2023-02-28T15:19:55.118Z"
   },
   {
    "duration": 3,
    "start_time": "2023-02-28T15:20:34.022Z"
   },
   {
    "duration": 2,
    "start_time": "2023-02-28T15:20:34.241Z"
   },
   {
    "duration": 127142,
    "start_time": "2023-02-28T15:20:34.986Z"
   },
   {
    "duration": 3,
    "start_time": "2023-02-28T15:22:45.319Z"
   },
   {
    "duration": 4,
    "start_time": "2023-02-28T15:22:45.612Z"
   },
   {
    "duration": 9688,
    "start_time": "2023-02-28T15:24:30.586Z"
   },
   {
    "duration": 3,
    "start_time": "2023-02-28T15:24:45.018Z"
   },
   {
    "duration": 4,
    "start_time": "2023-02-28T15:24:45.317Z"
   },
   {
    "duration": 2174685,
    "start_time": "2023-02-28T15:24:45.963Z"
   },
   {
    "duration": 3,
    "start_time": "2023-02-28T16:01:00.650Z"
   },
   {
    "duration": 1409,
    "start_time": "2023-02-28T16:24:56.056Z"
   },
   {
    "duration": 719,
    "start_time": "2023-02-28T16:24:57.467Z"
   },
   {
    "duration": 236,
    "start_time": "2023-02-28T16:24:58.188Z"
   },
   {
    "duration": 15,
    "start_time": "2023-02-28T16:24:58.426Z"
   },
   {
    "duration": 140,
    "start_time": "2023-02-28T16:24:58.443Z"
   },
   {
    "duration": 144,
    "start_time": "2023-02-28T16:24:58.585Z"
   },
   {
    "duration": 11,
    "start_time": "2023-02-28T16:24:58.731Z"
   },
   {
    "duration": 38,
    "start_time": "2023-02-28T16:24:58.743Z"
   },
   {
    "duration": 277,
    "start_time": "2023-02-28T16:24:58.783Z"
   },
   {
    "duration": 15,
    "start_time": "2023-02-28T16:24:59.063Z"
   },
   {
    "duration": 110,
    "start_time": "2023-02-28T16:24:59.080Z"
   },
   {
    "duration": 4,
    "start_time": "2023-02-28T16:24:59.204Z"
   },
   {
    "duration": 12,
    "start_time": "2023-02-28T16:24:59.211Z"
   },
   {
    "duration": 11,
    "start_time": "2023-02-28T16:24:59.225Z"
   },
   {
    "duration": 8,
    "start_time": "2023-02-28T16:24:59.238Z"
   },
   {
    "duration": 10,
    "start_time": "2023-02-28T16:24:59.248Z"
   },
   {
    "duration": 10,
    "start_time": "2023-02-28T16:24:59.259Z"
   },
   {
    "duration": 6,
    "start_time": "2023-02-28T16:24:59.271Z"
   },
   {
    "duration": 25,
    "start_time": "2023-02-28T16:24:59.279Z"
   },
   {
    "duration": 8,
    "start_time": "2023-02-28T16:24:59.306Z"
   },
   {
    "duration": 9,
    "start_time": "2023-02-28T16:24:59.315Z"
   },
   {
    "duration": 8,
    "start_time": "2023-02-28T16:24:59.326Z"
   },
   {
    "duration": 6,
    "start_time": "2023-02-28T16:24:59.335Z"
   },
   {
    "duration": 614,
    "start_time": "2023-02-28T16:24:59.343Z"
   },
   {
    "duration": 635,
    "start_time": "2023-02-28T16:24:59.959Z"
   },
   {
    "duration": 742,
    "start_time": "2023-02-28T16:25:00.596Z"
   },
   {
    "duration": 3,
    "start_time": "2023-02-28T16:25:01.340Z"
   },
   {
    "duration": 91,
    "start_time": "2023-02-28T16:25:01.346Z"
   },
   {
    "duration": 219,
    "start_time": "2023-02-28T16:25:01.439Z"
   },
   {
    "duration": 9,
    "start_time": "2023-02-28T16:25:01.660Z"
   },
   {
    "duration": 53,
    "start_time": "2023-02-28T16:25:01.671Z"
   },
   {
    "duration": 4,
    "start_time": "2023-02-28T16:25:01.727Z"
   },
   {
    "duration": 26,
    "start_time": "2023-02-28T16:25:01.732Z"
   },
   {
    "duration": 20,
    "start_time": "2023-02-28T16:25:01.760Z"
   },
   {
    "duration": 20,
    "start_time": "2023-02-28T16:25:01.782Z"
   },
   {
    "duration": 11,
    "start_time": "2023-02-28T16:25:01.804Z"
   },
   {
    "duration": 122,
    "start_time": "2023-02-28T16:25:01.816Z"
   },
   {
    "duration": 1,
    "start_time": "2023-02-28T16:25:01.940Z"
   },
   {
    "duration": 0,
    "start_time": "2023-02-28T16:25:01.943Z"
   },
   {
    "duration": 0,
    "start_time": "2023-02-28T16:25:01.945Z"
   },
   {
    "duration": 0,
    "start_time": "2023-02-28T16:25:01.946Z"
   },
   {
    "duration": 0,
    "start_time": "2023-02-28T16:25:01.948Z"
   },
   {
    "duration": 0,
    "start_time": "2023-02-28T16:25:01.949Z"
   },
   {
    "duration": 0,
    "start_time": "2023-02-28T16:25:01.950Z"
   },
   {
    "duration": 0,
    "start_time": "2023-02-28T16:25:01.952Z"
   },
   {
    "duration": 0,
    "start_time": "2023-02-28T16:25:01.952Z"
   },
   {
    "duration": 0,
    "start_time": "2023-02-28T16:25:01.954Z"
   },
   {
    "duration": 0,
    "start_time": "2023-02-28T16:25:01.955Z"
   },
   {
    "duration": 0,
    "start_time": "2023-02-28T16:25:01.956Z"
   },
   {
    "duration": 0,
    "start_time": "2023-02-28T16:25:01.957Z"
   },
   {
    "duration": 0,
    "start_time": "2023-02-28T16:25:01.958Z"
   },
   {
    "duration": 1475,
    "start_time": "2023-02-28T16:26:39.376Z"
   },
   {
    "duration": 811,
    "start_time": "2023-02-28T16:26:40.853Z"
   },
   {
    "duration": 244,
    "start_time": "2023-02-28T16:26:41.666Z"
   },
   {
    "duration": 19,
    "start_time": "2023-02-28T16:26:41.912Z"
   },
   {
    "duration": 136,
    "start_time": "2023-02-28T16:26:41.932Z"
   },
   {
    "duration": 152,
    "start_time": "2023-02-28T16:26:42.070Z"
   },
   {
    "duration": 11,
    "start_time": "2023-02-28T16:26:42.225Z"
   },
   {
    "duration": 21,
    "start_time": "2023-02-28T16:26:42.237Z"
   },
   {
    "duration": 295,
    "start_time": "2023-02-28T16:26:42.260Z"
   },
   {
    "duration": 15,
    "start_time": "2023-02-28T16:26:42.557Z"
   },
   {
    "duration": 106,
    "start_time": "2023-02-28T16:26:42.574Z"
   },
   {
    "duration": 4,
    "start_time": "2023-02-28T16:26:42.682Z"
   },
   {
    "duration": 17,
    "start_time": "2023-02-28T16:26:42.687Z"
   },
   {
    "duration": 6,
    "start_time": "2023-02-28T16:26:42.705Z"
   },
   {
    "duration": 9,
    "start_time": "2023-02-28T16:26:42.718Z"
   },
   {
    "duration": 7,
    "start_time": "2023-02-28T16:26:42.729Z"
   },
   {
    "duration": 8,
    "start_time": "2023-02-28T16:26:42.738Z"
   },
   {
    "duration": 9,
    "start_time": "2023-02-28T16:26:42.748Z"
   },
   {
    "duration": 6,
    "start_time": "2023-02-28T16:26:42.758Z"
   },
   {
    "duration": 13,
    "start_time": "2023-02-28T16:26:42.765Z"
   },
   {
    "duration": 29,
    "start_time": "2023-02-28T16:26:42.780Z"
   },
   {
    "duration": 28,
    "start_time": "2023-02-28T16:26:42.811Z"
   },
   {
    "duration": 7,
    "start_time": "2023-02-28T16:26:42.841Z"
   },
   {
    "duration": 588,
    "start_time": "2023-02-28T16:26:42.850Z"
   },
   {
    "duration": 657,
    "start_time": "2023-02-28T16:26:43.440Z"
   },
   {
    "duration": 600,
    "start_time": "2023-02-28T16:26:44.098Z"
   },
   {
    "duration": 4,
    "start_time": "2023-02-28T16:26:44.703Z"
   },
   {
    "duration": 47,
    "start_time": "2023-02-28T16:26:44.713Z"
   },
   {
    "duration": 204,
    "start_time": "2023-02-28T16:26:44.762Z"
   },
   {
    "duration": 9,
    "start_time": "2023-02-28T16:26:44.968Z"
   },
   {
    "duration": 48,
    "start_time": "2023-02-28T16:26:44.979Z"
   },
   {
    "duration": 4,
    "start_time": "2023-02-28T16:26:45.029Z"
   },
   {
    "duration": 12,
    "start_time": "2023-02-28T16:26:45.035Z"
   },
   {
    "duration": 8,
    "start_time": "2023-02-28T16:26:45.049Z"
   },
   {
    "duration": 12,
    "start_time": "2023-02-28T16:26:45.059Z"
   },
   {
    "duration": 12,
    "start_time": "2023-02-28T16:26:45.073Z"
   },
   {
    "duration": 1634,
    "start_time": "2023-02-28T16:26:45.086Z"
   },
   {
    "duration": 4,
    "start_time": "2023-02-28T16:26:46.725Z"
   },
   {
    "duration": 73,
    "start_time": "2023-02-28T16:26:46.731Z"
   },
   {
    "duration": 224864,
    "start_time": "2023-02-28T16:26:46.807Z"
   },
   {
    "duration": 3,
    "start_time": "2023-02-28T16:30:31.673Z"
   },
   {
    "duration": 216148,
    "start_time": "2023-02-28T16:30:31.678Z"
   },
   {
    "duration": 4,
    "start_time": "2023-02-28T16:34:07.828Z"
   },
   {
    "duration": 19,
    "start_time": "2023-02-28T16:34:07.833Z"
   },
   {
    "duration": 14,
    "start_time": "2023-02-28T16:34:07.854Z"
   },
   {
    "duration": 20,
    "start_time": "2023-02-28T16:34:07.870Z"
   },
   {
    "duration": 146120,
    "start_time": "2023-02-28T16:34:07.892Z"
   },
   {
    "duration": 13,
    "start_time": "2023-02-28T16:36:34.014Z"
   },
   {
    "duration": 0,
    "start_time": "2023-02-28T16:36:34.029Z"
   },
   {
    "duration": 0,
    "start_time": "2023-02-28T16:36:34.031Z"
   },
   {
    "duration": 0,
    "start_time": "2023-02-28T16:36:34.032Z"
   },
   {
    "duration": 3561,
    "start_time": "2023-02-28T16:36:37.750Z"
   },
   {
    "duration": 3,
    "start_time": "2023-02-28T16:36:49.706Z"
   },
   {
    "duration": 3,
    "start_time": "2023-02-28T16:36:50.117Z"
   },
   {
    "duration": 1043691,
    "start_time": "2023-02-28T16:36:50.476Z"
   },
   {
    "duration": 9,
    "start_time": "2023-02-28T16:54:14.170Z"
   },
   {
    "duration": 0,
    "start_time": "2023-02-28T16:54:14.180Z"
   },
   {
    "duration": 0,
    "start_time": "2023-02-28T16:54:14.182Z"
   },
   {
    "duration": 0,
    "start_time": "2023-02-28T16:54:14.183Z"
   },
   {
    "duration": 3,
    "start_time": "2023-02-28T16:54:37.550Z"
   },
   {
    "duration": 3,
    "start_time": "2023-02-28T16:54:37.764Z"
   },
   {
    "duration": 406132,
    "start_time": "2023-02-28T16:54:38.829Z"
   },
   {
    "duration": 5,
    "start_time": "2023-02-28T17:02:47.520Z"
   },
   {
    "duration": 386441,
    "start_time": "2023-02-28T17:03:05.365Z"
   },
   {
    "duration": 5,
    "start_time": "2023-02-28T17:09:31.809Z"
   },
   {
    "duration": 17,
    "start_time": "2023-02-28T17:09:31.816Z"
   },
   {
    "duration": 22,
    "start_time": "2023-02-28T17:23:19.109Z"
   },
   {
    "duration": 79,
    "start_time": "2023-02-28T17:24:22.981Z"
   },
   {
    "duration": 1179,
    "start_time": "2023-02-28T17:24:26.853Z"
   },
   {
    "duration": 10,
    "start_time": "2023-02-28T17:24:40.479Z"
   },
   {
    "duration": 10,
    "start_time": "2023-02-28T17:24:57.115Z"
   },
   {
    "duration": 1544,
    "start_time": "2023-02-28T17:25:46.147Z"
   },
   {
    "duration": 808,
    "start_time": "2023-02-28T17:25:47.694Z"
   },
   {
    "duration": 304,
    "start_time": "2023-02-28T17:25:48.504Z"
   },
   {
    "duration": 21,
    "start_time": "2023-02-28T17:25:48.811Z"
   },
   {
    "duration": 152,
    "start_time": "2023-02-28T17:25:48.835Z"
   },
   {
    "duration": 160,
    "start_time": "2023-02-28T17:25:48.989Z"
   },
   {
    "duration": 13,
    "start_time": "2023-02-28T17:25:49.152Z"
   },
   {
    "duration": 28,
    "start_time": "2023-02-28T17:25:49.166Z"
   },
   {
    "duration": 259,
    "start_time": "2023-02-28T17:25:49.204Z"
   },
   {
    "duration": 14,
    "start_time": "2023-02-28T17:25:49.465Z"
   },
   {
    "duration": 109,
    "start_time": "2023-02-28T17:25:49.481Z"
   },
   {
    "duration": 4,
    "start_time": "2023-02-28T17:25:49.592Z"
   },
   {
    "duration": 16,
    "start_time": "2023-02-28T17:25:49.603Z"
   },
   {
    "duration": 19,
    "start_time": "2023-02-28T17:25:49.621Z"
   },
   {
    "duration": 14,
    "start_time": "2023-02-28T17:25:49.642Z"
   },
   {
    "duration": 8,
    "start_time": "2023-02-28T17:25:49.658Z"
   },
   {
    "duration": 12,
    "start_time": "2023-02-28T17:25:49.668Z"
   },
   {
    "duration": 18,
    "start_time": "2023-02-28T17:25:49.682Z"
   },
   {
    "duration": 8,
    "start_time": "2023-02-28T17:25:49.702Z"
   },
   {
    "duration": 26,
    "start_time": "2023-02-28T17:25:49.712Z"
   },
   {
    "duration": 12,
    "start_time": "2023-02-28T17:25:49.743Z"
   },
   {
    "duration": 15,
    "start_time": "2023-02-28T17:25:49.757Z"
   },
   {
    "duration": 6,
    "start_time": "2023-02-28T17:25:49.773Z"
   },
   {
    "duration": 652,
    "start_time": "2023-02-28T17:25:49.781Z"
   },
   {
    "duration": 649,
    "start_time": "2023-02-28T17:25:50.435Z"
   },
   {
    "duration": 621,
    "start_time": "2023-02-28T17:25:51.086Z"
   },
   {
    "duration": 4,
    "start_time": "2023-02-28T17:25:51.708Z"
   },
   {
    "duration": 46,
    "start_time": "2023-02-28T17:25:51.714Z"
   },
   {
    "duration": 221,
    "start_time": "2023-02-28T17:25:51.762Z"
   },
   {
    "duration": 9,
    "start_time": "2023-02-28T17:25:51.985Z"
   },
   {
    "duration": 43,
    "start_time": "2023-02-28T17:25:51.995Z"
   },
   {
    "duration": 4,
    "start_time": "2023-02-28T17:25:52.040Z"
   },
   {
    "duration": 14,
    "start_time": "2023-02-28T17:25:52.046Z"
   },
   {
    "duration": 6,
    "start_time": "2023-02-28T17:25:52.062Z"
   },
   {
    "duration": 7,
    "start_time": "2023-02-28T17:25:52.070Z"
   },
   {
    "duration": 9,
    "start_time": "2023-02-28T17:25:52.079Z"
   },
   {
    "duration": 2119,
    "start_time": "2023-02-28T17:25:52.090Z"
   },
   {
    "duration": 3,
    "start_time": "2023-02-28T17:25:54.211Z"
   },
   {
    "duration": 21,
    "start_time": "2023-02-28T17:25:54.216Z"
   },
   {
    "duration": 217442,
    "start_time": "2023-02-28T17:25:54.239Z"
   },
   {
    "duration": 5,
    "start_time": "2023-02-28T17:29:31.685Z"
   },
   {
    "duration": 209339,
    "start_time": "2023-02-28T17:29:31.704Z"
   },
   {
    "duration": 4,
    "start_time": "2023-02-28T17:33:01.044Z"
   },
   {
    "duration": 53,
    "start_time": "2023-02-28T17:33:01.050Z"
   },
   {
    "duration": 51,
    "start_time": "2023-02-28T17:33:01.105Z"
   },
   {
    "duration": 20,
    "start_time": "2023-02-28T17:33:01.158Z"
   },
   {
    "duration": 369705,
    "start_time": "2023-02-28T17:33:01.180Z"
   },
   {
    "duration": 4,
    "start_time": "2023-02-28T17:39:10.887Z"
   },
   {
    "duration": 387444,
    "start_time": "2023-02-28T17:39:10.892Z"
   },
   {
    "duration": 4,
    "start_time": "2023-02-28T17:45:38.337Z"
   },
   {
    "duration": 17,
    "start_time": "2023-02-28T17:45:38.343Z"
   },
   {
    "duration": 14,
    "start_time": "2023-02-28T17:45:38.362Z"
   },
   {
    "duration": 14,
    "start_time": "2023-02-28T17:45:38.378Z"
   },
   {
    "duration": 7,
    "start_time": "2023-02-28T17:45:38.394Z"
   },
   {
    "duration": 59,
    "start_time": "2023-03-01T13:01:59.906Z"
   },
   {
    "duration": 2929,
    "start_time": "2023-03-01T13:08:16.626Z"
   },
   {
    "duration": 2428,
    "start_time": "2023-03-01T13:08:19.557Z"
   },
   {
    "duration": 281,
    "start_time": "2023-03-01T13:08:21.987Z"
   },
   {
    "duration": 19,
    "start_time": "2023-03-01T13:08:22.270Z"
   },
   {
    "duration": 159,
    "start_time": "2023-03-01T13:08:22.291Z"
   },
   {
    "duration": 140,
    "start_time": "2023-03-01T13:08:22.451Z"
   },
   {
    "duration": 29,
    "start_time": "2023-03-01T13:08:22.593Z"
   },
   {
    "duration": 28,
    "start_time": "2023-03-01T13:08:22.624Z"
   },
   {
    "duration": 301,
    "start_time": "2023-03-01T13:08:22.654Z"
   },
   {
    "duration": 17,
    "start_time": "2023-03-01T13:08:22.958Z"
   },
   {
    "duration": 120,
    "start_time": "2023-03-01T13:08:22.977Z"
   },
   {
    "duration": 13,
    "start_time": "2023-03-01T13:08:23.099Z"
   },
   {
    "duration": 24,
    "start_time": "2023-03-01T13:08:23.113Z"
   },
   {
    "duration": 8,
    "start_time": "2023-03-01T13:08:23.139Z"
   },
   {
    "duration": 10,
    "start_time": "2023-03-01T13:08:23.149Z"
   },
   {
    "duration": 12,
    "start_time": "2023-03-01T13:08:23.162Z"
   },
   {
    "duration": 16,
    "start_time": "2023-03-01T13:08:23.176Z"
   },
   {
    "duration": 13,
    "start_time": "2023-03-01T13:08:23.194Z"
   },
   {
    "duration": 17,
    "start_time": "2023-03-01T13:08:23.209Z"
   },
   {
    "duration": 19,
    "start_time": "2023-03-01T13:08:23.228Z"
   },
   {
    "duration": 11,
    "start_time": "2023-03-01T13:08:23.249Z"
   },
   {
    "duration": 12,
    "start_time": "2023-03-01T13:08:23.262Z"
   },
   {
    "duration": 3,
    "start_time": "2023-03-01T13:08:23.543Z"
   },
   {
    "duration": 726,
    "start_time": "2023-03-01T13:08:23.724Z"
   },
   {
    "duration": 668,
    "start_time": "2023-03-01T13:08:24.631Z"
   },
   {
    "duration": 602,
    "start_time": "2023-03-01T13:08:25.301Z"
   },
   {
    "duration": 4,
    "start_time": "2023-03-01T13:08:27.585Z"
   },
   {
    "duration": 136,
    "start_time": "2023-03-01T13:08:27.767Z"
   },
   {
    "duration": 229,
    "start_time": "2023-03-01T13:08:27.992Z"
   },
   {
    "duration": 14,
    "start_time": "2023-03-01T13:08:30.504Z"
   },
   {
    "duration": 53,
    "start_time": "2023-03-01T13:08:30.968Z"
   },
   {
    "duration": 4,
    "start_time": "2023-03-01T13:08:31.568Z"
   },
   {
    "duration": 3,
    "start_time": "2023-03-01T13:08:32.322Z"
   },
   {
    "duration": 3,
    "start_time": "2023-03-01T13:08:35.280Z"
   },
   {
    "duration": 3,
    "start_time": "2023-03-01T13:08:35.575Z"
   },
   {
    "duration": 5,
    "start_time": "2023-03-01T13:08:35.896Z"
   },
   {
    "duration": 5,
    "start_time": "2023-03-01T13:09:10.951Z"
   },
   {
    "duration": 51,
    "start_time": "2023-03-01T13:10:09.221Z"
   },
   {
    "duration": 152,
    "start_time": "2023-03-01T13:10:58.702Z"
   },
   {
    "duration": 53,
    "start_time": "2023-03-01T13:11:09.478Z"
   },
   {
    "duration": 4,
    "start_time": "2023-03-01T13:11:15.743Z"
   },
   {
    "duration": 49,
    "start_time": "2023-03-01T13:11:24.773Z"
   },
   {
    "duration": 51,
    "start_time": "2023-03-01T13:11:28.829Z"
   },
   {
    "duration": 5,
    "start_time": "2023-03-01T13:11:31.799Z"
   },
   {
    "duration": 1929,
    "start_time": "2023-03-01T13:11:32.079Z"
   },
   {
    "duration": 3,
    "start_time": "2023-03-01T13:11:36.251Z"
   },
   {
    "duration": 3,
    "start_time": "2023-03-01T13:11:36.486Z"
   },
   {
    "duration": 3157,
    "start_time": "2023-03-01T13:12:19.321Z"
   },
   {
    "duration": 2087,
    "start_time": "2023-03-01T13:12:22.480Z"
   },
   {
    "duration": 266,
    "start_time": "2023-03-01T13:12:24.569Z"
   },
   {
    "duration": 18,
    "start_time": "2023-03-01T13:12:24.837Z"
   },
   {
    "duration": 142,
    "start_time": "2023-03-01T13:12:24.858Z"
   },
   {
    "duration": 147,
    "start_time": "2023-03-01T13:12:25.001Z"
   },
   {
    "duration": 11,
    "start_time": "2023-03-01T13:12:25.150Z"
   },
   {
    "duration": 22,
    "start_time": "2023-03-01T13:12:25.163Z"
   },
   {
    "duration": 306,
    "start_time": "2023-03-01T13:12:25.187Z"
   },
   {
    "duration": 30,
    "start_time": "2023-03-01T13:12:25.495Z"
   },
   {
    "duration": 101,
    "start_time": "2023-03-01T13:12:25.527Z"
   },
   {
    "duration": 4,
    "start_time": "2023-03-01T13:12:25.629Z"
   },
   {
    "duration": 18,
    "start_time": "2023-03-01T13:12:25.634Z"
   },
   {
    "duration": 18,
    "start_time": "2023-03-01T13:12:25.655Z"
   },
   {
    "duration": 15,
    "start_time": "2023-03-01T13:12:25.675Z"
   },
   {
    "duration": 9,
    "start_time": "2023-03-01T13:12:25.692Z"
   },
   {
    "duration": 24,
    "start_time": "2023-03-01T13:12:25.703Z"
   },
   {
    "duration": 9,
    "start_time": "2023-03-01T13:12:25.730Z"
   },
   {
    "duration": 5,
    "start_time": "2023-03-01T13:12:25.741Z"
   },
   {
    "duration": 13,
    "start_time": "2023-03-01T13:12:25.748Z"
   },
   {
    "duration": 16,
    "start_time": "2023-03-01T13:12:25.762Z"
   },
   {
    "duration": 13,
    "start_time": "2023-03-01T13:12:25.780Z"
   },
   {
    "duration": 23,
    "start_time": "2023-03-01T13:12:25.795Z"
   },
   {
    "duration": 620,
    "start_time": "2023-03-01T13:12:25.820Z"
   },
   {
    "duration": 630,
    "start_time": "2023-03-01T13:12:26.442Z"
   },
   {
    "duration": 721,
    "start_time": "2023-03-01T13:12:27.074Z"
   },
   {
    "duration": 8,
    "start_time": "2023-03-01T13:12:27.797Z"
   },
   {
    "duration": 62,
    "start_time": "2023-03-01T13:12:27.807Z"
   },
   {
    "duration": 203,
    "start_time": "2023-03-01T13:12:27.871Z"
   },
   {
    "duration": 10,
    "start_time": "2023-03-01T13:12:28.076Z"
   },
   {
    "duration": 65,
    "start_time": "2023-03-01T13:12:28.087Z"
   },
   {
    "duration": 3,
    "start_time": "2023-03-01T13:12:28.154Z"
   },
   {
    "duration": 8,
    "start_time": "2023-03-01T13:12:28.159Z"
   },
   {
    "duration": 6,
    "start_time": "2023-03-01T13:12:28.168Z"
   },
   {
    "duration": 9,
    "start_time": "2023-03-01T13:12:28.176Z"
   },
   {
    "duration": 7,
    "start_time": "2023-03-01T13:12:28.186Z"
   },
   {
    "duration": 1925,
    "start_time": "2023-03-01T13:12:28.194Z"
   },
   {
    "duration": 3,
    "start_time": "2023-03-01T13:12:30.122Z"
   },
   {
    "duration": 25,
    "start_time": "2023-03-01T13:12:30.126Z"
   },
   {
    "duration": 214717,
    "start_time": "2023-03-01T13:12:30.153Z"
   },
   {
    "duration": 5,
    "start_time": "2023-03-01T13:16:04.874Z"
   },
   {
    "duration": 207776,
    "start_time": "2023-03-01T13:16:04.881Z"
   },
   {
    "duration": 4,
    "start_time": "2023-03-01T13:19:32.659Z"
   },
   {
    "duration": 18,
    "start_time": "2023-03-01T13:19:32.664Z"
   },
   {
    "duration": 21,
    "start_time": "2023-03-01T13:19:32.684Z"
   },
   {
    "duration": 25,
    "start_time": "2023-03-01T13:19:32.708Z"
   },
   {
    "duration": 396445,
    "start_time": "2023-03-01T13:19:32.735Z"
   },
   {
    "duration": 5,
    "start_time": "2023-03-01T13:26:09.182Z"
   },
   {
    "duration": 413442,
    "start_time": "2023-03-01T13:26:09.189Z"
   },
   {
    "duration": 5,
    "start_time": "2023-03-01T13:33:02.633Z"
   },
   {
    "duration": 27,
    "start_time": "2023-03-01T13:33:02.641Z"
   },
   {
    "duration": 63,
    "start_time": "2023-03-01T13:33:02.671Z"
   },
   {
    "duration": 23,
    "start_time": "2023-03-01T13:33:02.737Z"
   },
   {
    "duration": 16,
    "start_time": "2023-03-01T13:33:02.762Z"
   },
   {
    "duration": 56,
    "start_time": "2023-03-01T13:35:25.165Z"
   },
   {
    "duration": 61,
    "start_time": "2023-03-01T13:35:35.071Z"
   },
   {
    "duration": 1519,
    "start_time": "2023-03-01T13:35:51.254Z"
   },
   {
    "duration": 1971,
    "start_time": "2023-03-01T13:35:52.776Z"
   },
   {
    "duration": 283,
    "start_time": "2023-03-01T13:35:54.749Z"
   },
   {
    "duration": 19,
    "start_time": "2023-03-01T13:35:55.034Z"
   },
   {
    "duration": 131,
    "start_time": "2023-03-01T13:35:55.055Z"
   },
   {
    "duration": 140,
    "start_time": "2023-03-01T13:35:55.188Z"
   },
   {
    "duration": 11,
    "start_time": "2023-03-01T13:35:55.330Z"
   },
   {
    "duration": 27,
    "start_time": "2023-03-01T13:35:55.343Z"
   },
   {
    "duration": 277,
    "start_time": "2023-03-01T13:35:55.372Z"
   },
   {
    "duration": 16,
    "start_time": "2023-03-01T13:35:55.650Z"
   },
   {
    "duration": 104,
    "start_time": "2023-03-01T13:35:55.668Z"
   },
   {
    "duration": 5,
    "start_time": "2023-03-01T13:35:55.774Z"
   },
   {
    "duration": 16,
    "start_time": "2023-03-01T13:35:55.780Z"
   },
   {
    "duration": 11,
    "start_time": "2023-03-01T13:35:55.804Z"
   },
   {
    "duration": 11,
    "start_time": "2023-03-01T13:35:55.817Z"
   },
   {
    "duration": 19,
    "start_time": "2023-03-01T13:35:55.829Z"
   },
   {
    "duration": 6,
    "start_time": "2023-03-01T13:35:55.850Z"
   },
   {
    "duration": 11,
    "start_time": "2023-03-01T13:35:55.858Z"
   },
   {
    "duration": 8,
    "start_time": "2023-03-01T13:35:55.871Z"
   },
   {
    "duration": 16,
    "start_time": "2023-03-01T13:35:55.881Z"
   },
   {
    "duration": 13,
    "start_time": "2023-03-01T13:35:55.899Z"
   },
   {
    "duration": 13,
    "start_time": "2023-03-01T13:35:55.914Z"
   },
   {
    "duration": 13,
    "start_time": "2023-03-01T13:35:55.929Z"
   },
   {
    "duration": 608,
    "start_time": "2023-03-01T13:35:55.944Z"
   },
   {
    "duration": 600,
    "start_time": "2023-03-01T13:35:56.554Z"
   },
   {
    "duration": 624,
    "start_time": "2023-03-01T13:35:57.156Z"
   },
   {
    "duration": 3,
    "start_time": "2023-03-01T13:35:57.782Z"
   },
   {
    "duration": 66,
    "start_time": "2023-03-01T13:35:57.786Z"
   },
   {
    "duration": 211,
    "start_time": "2023-03-01T13:35:57.854Z"
   },
   {
    "duration": 10,
    "start_time": "2023-03-01T13:35:58.066Z"
   },
   {
    "duration": 47,
    "start_time": "2023-03-01T13:35:58.078Z"
   },
   {
    "duration": 4,
    "start_time": "2023-03-01T13:35:58.127Z"
   },
   {
    "duration": 6,
    "start_time": "2023-03-01T13:35:58.133Z"
   },
   {
    "duration": 5,
    "start_time": "2023-03-01T13:35:58.141Z"
   },
   {
    "duration": 6,
    "start_time": "2023-03-01T13:35:58.147Z"
   },
   {
    "duration": 9,
    "start_time": "2023-03-01T13:35:58.155Z"
   },
   {
    "duration": 1750,
    "start_time": "2023-03-01T13:35:58.166Z"
   },
   {
    "duration": 87,
    "start_time": "2023-03-01T13:35:59.918Z"
   },
   {
    "duration": 42,
    "start_time": "2023-03-01T13:36:00.007Z"
   },
   {
    "duration": 202438,
    "start_time": "2023-03-01T13:36:00.051Z"
   },
   {
    "duration": 4,
    "start_time": "2023-03-01T13:39:22.492Z"
   },
   {
    "duration": 194117,
    "start_time": "2023-03-01T13:39:22.497Z"
   },
   {
    "duration": 7,
    "start_time": "2023-03-01T13:42:36.616Z"
   },
   {
    "duration": 14,
    "start_time": "2023-03-01T13:42:36.626Z"
   },
   {
    "duration": 28,
    "start_time": "2023-03-01T13:42:36.642Z"
   },
   {
    "duration": 43,
    "start_time": "2023-03-01T13:42:36.673Z"
   },
   {
    "duration": 370981,
    "start_time": "2023-03-01T13:42:36.718Z"
   },
   {
    "duration": 4,
    "start_time": "2023-03-01T13:48:47.701Z"
   },
   {
    "duration": 380620,
    "start_time": "2023-03-01T13:48:47.706Z"
   },
   {
    "duration": 4,
    "start_time": "2023-03-01T13:55:08.328Z"
   },
   {
    "duration": 16,
    "start_time": "2023-03-01T13:55:08.334Z"
   },
   {
    "duration": 15,
    "start_time": "2023-03-01T13:55:08.353Z"
   },
   {
    "duration": 17,
    "start_time": "2023-03-01T13:55:08.371Z"
   },
   {
    "duration": 19,
    "start_time": "2023-03-01T13:55:08.390Z"
   },
   {
    "duration": 1673,
    "start_time": "2023-03-03T08:47:38.003Z"
   },
   {
    "duration": 3097,
    "start_time": "2023-03-03T08:47:58.862Z"
   },
   {
    "duration": 231,
    "start_time": "2023-03-03T08:48:04.344Z"
   },
   {
    "duration": 16,
    "start_time": "2023-03-03T08:48:04.674Z"
   },
   {
    "duration": 131,
    "start_time": "2023-03-03T08:48:06.412Z"
   },
   {
    "duration": 114,
    "start_time": "2023-03-03T08:48:31.284Z"
   },
   {
    "duration": 230,
    "start_time": "2023-03-03T08:49:01.697Z"
   },
   {
    "duration": 13,
    "start_time": "2023-03-03T08:49:02.003Z"
   },
   {
    "duration": 110,
    "start_time": "2023-03-03T08:49:02.517Z"
   },
   {
    "duration": 126,
    "start_time": "2023-03-03T08:49:04.214Z"
   },
   {
    "duration": 12,
    "start_time": "2023-03-03T08:49:04.924Z"
   },
   {
    "duration": 20,
    "start_time": "2023-03-03T08:49:23.468Z"
   },
   {
    "duration": 255,
    "start_time": "2023-03-03T08:49:25.174Z"
   },
   {
    "duration": 16,
    "start_time": "2023-03-03T08:49:27.133Z"
   },
   {
    "duration": 87,
    "start_time": "2023-03-03T08:49:39.213Z"
   },
   {
    "duration": 7,
    "start_time": "2023-03-03T08:49:40.096Z"
   },
   {
    "duration": 4,
    "start_time": "2023-03-03T08:49:40.807Z"
   },
   {
    "duration": 4,
    "start_time": "2023-03-03T08:49:46.038Z"
   },
   {
    "duration": 2,
    "start_time": "2023-03-03T08:49:49.567Z"
   },
   {
    "duration": 6,
    "start_time": "2023-03-03T08:49:49.871Z"
   },
   {
    "duration": 6,
    "start_time": "2023-03-03T08:49:50.135Z"
   },
   {
    "duration": 5,
    "start_time": "2023-03-03T08:49:51.534Z"
   },
   {
    "duration": 9,
    "start_time": "2023-03-03T08:49:56.895Z"
   },
   {
    "duration": 9,
    "start_time": "2023-03-03T08:49:59.869Z"
   },
   {
    "duration": 11,
    "start_time": "2023-03-03T08:50:48.099Z"
   },
   {
    "duration": 5,
    "start_time": "2023-03-03T08:50:49.513Z"
   },
   {
    "duration": 3,
    "start_time": "2023-03-03T08:50:50.569Z"
   },
   {
    "duration": 483,
    "start_time": "2023-03-03T08:50:50.824Z"
   },
   {
    "duration": 4,
    "start_time": "2023-03-03T08:51:15.082Z"
   },
   {
    "duration": 3,
    "start_time": "2023-03-03T08:52:12.028Z"
   },
   {
    "duration": 526,
    "start_time": "2023-03-03T08:52:12.724Z"
   },
   {
    "duration": 122,
    "start_time": "2023-03-03T09:09:55.723Z"
   },
   {
    "duration": 2075,
    "start_time": "2023-03-03T09:10:03.779Z"
   },
   {
    "duration": 1753,
    "start_time": "2023-03-03T09:12:25.065Z"
   },
   {
    "duration": 4241,
    "start_time": "2023-03-03T09:12:41.684Z"
   },
   {
    "duration": 4477,
    "start_time": "2023-03-03T09:13:11.952Z"
   },
   {
    "duration": 4833,
    "start_time": "2023-03-03T09:13:39.111Z"
   },
   {
    "duration": 5973,
    "start_time": "2023-03-03T11:33:18.737Z"
   },
   {
    "duration": 486,
    "start_time": "2023-03-03T11:33:38.144Z"
   },
   {
    "duration": 4904,
    "start_time": "2023-03-03T11:33:53.331Z"
   },
   {
    "duration": 4338,
    "start_time": "2023-03-03T11:34:02.443Z"
   },
   {
    "duration": 89,
    "start_time": "2023-03-03T11:36:47.345Z"
   },
   {
    "duration": 13,
    "start_time": "2023-03-03T11:38:46.157Z"
   },
   {
    "duration": 1827,
    "start_time": "2023-03-03T11:39:02.831Z"
   },
   {
    "duration": 1784,
    "start_time": "2023-03-03T11:39:41.688Z"
   },
   {
    "duration": 77,
    "start_time": "2023-03-03T11:40:20.216Z"
   },
   {
    "duration": 842,
    "start_time": "2023-03-03T11:44:31.605Z"
   },
   {
    "duration": 1052,
    "start_time": "2023-03-03T11:44:50.187Z"
   },
   {
    "duration": 918,
    "start_time": "2023-03-03T11:45:26.885Z"
   },
   {
    "duration": 844,
    "start_time": "2023-03-03T11:45:48.870Z"
   },
   {
    "duration": 6428,
    "start_time": "2023-03-03T11:47:56.179Z"
   },
   {
    "duration": 4488,
    "start_time": "2023-03-03T11:48:09.714Z"
   },
   {
    "duration": 38,
    "start_time": "2023-03-03T11:48:53.445Z"
   },
   {
    "duration": 5208,
    "start_time": "2023-03-03T11:51:09.434Z"
   },
   {
    "duration": 4825,
    "start_time": "2023-03-03T11:51:18.020Z"
   },
   {
    "duration": 4827,
    "start_time": "2023-03-03T11:51:55.723Z"
   },
   {
    "duration": 17,
    "start_time": "2023-03-03T11:55:06.755Z"
   },
   {
    "duration": 9,
    "start_time": "2023-03-03T11:55:22.780Z"
   },
   {
    "duration": 12,
    "start_time": "2023-03-03T11:56:04.418Z"
   },
   {
    "duration": 2,
    "start_time": "2023-03-03T11:56:10.157Z"
   },
   {
    "duration": 41,
    "start_time": "2023-03-03T11:56:10.367Z"
   },
   {
    "duration": 25,
    "start_time": "2023-03-03T11:56:11.416Z"
   },
   {
    "duration": 526,
    "start_time": "2023-03-03T11:56:17.118Z"
   },
   {
    "duration": 5,
    "start_time": "2023-03-03T11:56:43.287Z"
   },
   {
    "duration": 1460,
    "start_time": "2023-03-03T11:57:43.954Z"
   },
   {
    "duration": 1434,
    "start_time": "2023-03-03T11:58:17.091Z"
   },
   {
    "duration": 1216,
    "start_time": "2023-03-03T11:58:39.220Z"
   },
   {
    "duration": 3,
    "start_time": "2023-03-03T11:59:15.957Z"
   },
   {
    "duration": 25,
    "start_time": "2023-03-03T11:59:16.445Z"
   },
   {
    "duration": 1386,
    "start_time": "2023-03-03T11:59:18.718Z"
   },
   {
    "duration": 1405,
    "start_time": "2023-03-03T11:59:54.115Z"
   },
   {
    "duration": 10,
    "start_time": "2023-03-03T12:26:42.923Z"
   },
   {
    "duration": 25,
    "start_time": "2023-03-03T12:26:43.260Z"
   },
   {
    "duration": 3,
    "start_time": "2023-03-03T12:26:45.517Z"
   },
   {
    "duration": 3,
    "start_time": "2023-03-03T12:26:46.015Z"
   },
   {
    "duration": 5,
    "start_time": "2023-03-03T12:26:47.115Z"
   },
   {
    "duration": 5,
    "start_time": "2023-03-03T12:26:48.289Z"
   },
   {
    "duration": 5,
    "start_time": "2023-03-03T12:26:48.757Z"
   },
   {
    "duration": 3501,
    "start_time": "2023-03-03T12:26:56.010Z"
   },
   {
    "duration": 1735,
    "start_time": "2023-03-03T17:53:03.561Z"
   },
   {
    "duration": 3100,
    "start_time": "2023-03-03T17:53:05.298Z"
   },
   {
    "duration": 231,
    "start_time": "2023-03-03T17:53:08.400Z"
   },
   {
    "duration": 21,
    "start_time": "2023-03-03T17:53:08.633Z"
   },
   {
    "duration": 122,
    "start_time": "2023-03-03T17:53:08.655Z"
   },
   {
    "duration": 132,
    "start_time": "2023-03-03T17:53:08.779Z"
   },
   {
    "duration": 12,
    "start_time": "2023-03-03T17:53:08.913Z"
   },
   {
    "duration": 35,
    "start_time": "2023-03-03T17:53:08.926Z"
   },
   {
    "duration": 254,
    "start_time": "2023-03-03T17:53:08.963Z"
   },
   {
    "duration": 29,
    "start_time": "2023-03-03T17:53:09.220Z"
   },
   {
    "duration": 99,
    "start_time": "2023-03-03T17:53:09.250Z"
   },
   {
    "duration": 4,
    "start_time": "2023-03-03T17:53:09.351Z"
   },
   {
    "duration": 9,
    "start_time": "2023-03-03T17:53:09.356Z"
   },
   {
    "duration": 7,
    "start_time": "2023-03-03T17:53:09.366Z"
   },
   {
    "duration": 7,
    "start_time": "2023-03-03T17:53:09.374Z"
   },
   {
    "duration": 9,
    "start_time": "2023-03-03T17:53:09.382Z"
   },
   {
    "duration": 6,
    "start_time": "2023-03-03T17:53:09.393Z"
   },
   {
    "duration": 5,
    "start_time": "2023-03-03T17:53:09.510Z"
   },
   {
    "duration": 5,
    "start_time": "2023-03-03T17:53:10.606Z"
   },
   {
    "duration": 8,
    "start_time": "2023-03-03T17:53:11.725Z"
   },
   {
    "duration": 9,
    "start_time": "2023-03-03T17:53:12.950Z"
   },
   {
    "duration": 6,
    "start_time": "2023-03-03T17:53:13.550Z"
   },
   {
    "duration": 4,
    "start_time": "2023-03-03T17:53:14.870Z"
   },
   {
    "duration": 4,
    "start_time": "2023-03-03T17:53:15.270Z"
   },
   {
    "duration": 40,
    "start_time": "2023-03-03T17:53:15.949Z"
   },
   {
    "duration": 4753,
    "start_time": "2023-03-03T17:53:26.146Z"
   },
   {
    "duration": 634,
    "start_time": "2023-03-03T17:53:36.964Z"
   },
   {
    "duration": 694,
    "start_time": "2023-03-03T17:53:39.646Z"
   },
   {
    "duration": 8,
    "start_time": "2023-03-03T17:54:04.819Z"
   },
   {
    "duration": 3,
    "start_time": "2023-03-03T17:54:06.779Z"
   },
   {
    "duration": 51,
    "start_time": "2023-03-03T17:54:07.142Z"
   },
   {
    "duration": 1631,
    "start_time": "2023-03-03T17:54:09.746Z"
   },
   {
    "duration": 1621,
    "start_time": "2023-03-03T17:54:46.364Z"
   },
   {
    "duration": 653,
    "start_time": "2023-03-03T17:55:12.785Z"
   },
   {
    "duration": 1255,
    "start_time": "2023-03-03T17:57:24.659Z"
   },
   {
    "duration": 1264,
    "start_time": "2023-03-03T17:57:36.514Z"
   },
   {
    "duration": 1161,
    "start_time": "2023-03-03T17:57:45.846Z"
   },
   {
    "duration": 4,
    "start_time": "2023-03-03T17:57:56.185Z"
   },
   {
    "duration": 655,
    "start_time": "2023-03-03T17:57:56.732Z"
   },
   {
    "duration": 234,
    "start_time": "2023-03-03T17:57:57.389Z"
   },
   {
    "duration": 26,
    "start_time": "2023-03-03T17:57:57.625Z"
   },
   {
    "duration": 122,
    "start_time": "2023-03-03T17:57:57.654Z"
   },
   {
    "duration": 145,
    "start_time": "2023-03-03T17:57:57.779Z"
   },
   {
    "duration": 24,
    "start_time": "2023-03-03T17:57:57.925Z"
   },
   {
    "duration": 24,
    "start_time": "2023-03-03T17:57:57.951Z"
   },
   {
    "duration": 270,
    "start_time": "2023-03-03T17:57:57.977Z"
   },
   {
    "duration": 16,
    "start_time": "2023-03-03T17:57:58.248Z"
   },
   {
    "duration": 104,
    "start_time": "2023-03-03T17:57:58.266Z"
   },
   {
    "duration": 4,
    "start_time": "2023-03-03T17:57:58.372Z"
   },
   {
    "duration": 13,
    "start_time": "2023-03-03T17:57:58.377Z"
   },
   {
    "duration": 9,
    "start_time": "2023-03-03T17:57:58.391Z"
   },
   {
    "duration": 4,
    "start_time": "2023-03-03T17:57:58.401Z"
   },
   {
    "duration": 5,
    "start_time": "2023-03-03T17:57:58.407Z"
   },
   {
    "duration": 10,
    "start_time": "2023-03-03T17:57:58.414Z"
   },
   {
    "duration": 23,
    "start_time": "2023-03-03T17:57:58.426Z"
   },
   {
    "duration": 3,
    "start_time": "2023-03-03T17:57:58.451Z"
   },
   {
    "duration": 10,
    "start_time": "2023-03-03T17:57:58.457Z"
   },
   {
    "duration": 10,
    "start_time": "2023-03-03T17:57:59.208Z"
   },
   {
    "duration": 5,
    "start_time": "2023-03-03T17:57:59.645Z"
   },
   {
    "duration": 4,
    "start_time": "2023-03-03T17:58:00.489Z"
   },
   {
    "duration": 3,
    "start_time": "2023-03-03T17:58:01.914Z"
   },
   {
    "duration": 5279,
    "start_time": "2023-03-03T17:58:02.129Z"
   },
   {
    "duration": 547,
    "start_time": "2023-03-03T17:58:29.663Z"
   },
   {
    "duration": 554,
    "start_time": "2023-03-03T17:58:36.608Z"
   },
   {
    "duration": 529,
    "start_time": "2023-03-03T17:58:45.245Z"
   },
   {
    "duration": 528,
    "start_time": "2023-03-03T17:58:50.967Z"
   },
   {
    "duration": 547,
    "start_time": "2023-03-03T17:58:58.055Z"
   },
   {
    "duration": 581,
    "start_time": "2023-03-03T17:59:01.249Z"
   },
   {
    "duration": 7,
    "start_time": "2023-03-03T17:59:21.569Z"
   },
   {
    "duration": 3,
    "start_time": "2023-03-03T17:59:22.384Z"
   },
   {
    "duration": 43,
    "start_time": "2023-03-03T17:59:22.712Z"
   },
   {
    "duration": 1583,
    "start_time": "2023-03-03T17:59:23.205Z"
   },
   {
    "duration": 967,
    "start_time": "2023-03-03T17:59:24.789Z"
   },
   {
    "duration": 665,
    "start_time": "2023-03-03T18:01:07.785Z"
   },
   {
    "duration": 1689,
    "start_time": "2023-03-04T17:33:07.597Z"
   },
   {
    "duration": 3028,
    "start_time": "2023-03-04T17:33:09.288Z"
   },
   {
    "duration": 233,
    "start_time": "2023-03-04T17:33:12.318Z"
   },
   {
    "duration": 16,
    "start_time": "2023-03-04T17:33:12.552Z"
   },
   {
    "duration": 129,
    "start_time": "2023-03-04T17:33:12.570Z"
   },
   {
    "duration": 143,
    "start_time": "2023-03-04T17:33:12.701Z"
   },
   {
    "duration": 11,
    "start_time": "2023-03-04T17:33:12.845Z"
   },
   {
    "duration": 19,
    "start_time": "2023-03-04T17:33:12.858Z"
   },
   {
    "duration": 265,
    "start_time": "2023-03-04T17:33:12.879Z"
   },
   {
    "duration": 16,
    "start_time": "2023-03-04T17:33:13.145Z"
   },
   {
    "duration": 88,
    "start_time": "2023-03-04T17:33:15.319Z"
   },
   {
    "duration": 4,
    "start_time": "2023-03-04T17:33:16.350Z"
   },
   {
    "duration": 5,
    "start_time": "2023-03-04T17:33:17.421Z"
   },
   {
    "duration": 5,
    "start_time": "2023-03-04T17:33:17.814Z"
   },
   {
    "duration": 4,
    "start_time": "2023-03-04T17:33:18.975Z"
   },
   {
    "duration": 7,
    "start_time": "2023-03-04T17:33:19.172Z"
   },
   {
    "duration": 8,
    "start_time": "2023-03-04T17:33:19.327Z"
   },
   {
    "duration": 5,
    "start_time": "2023-03-04T17:33:19.503Z"
   },
   {
    "duration": 4,
    "start_time": "2023-03-04T17:33:20.241Z"
   },
   {
    "duration": 9,
    "start_time": "2023-03-04T17:33:22.177Z"
   },
   {
    "duration": 14,
    "start_time": "2023-03-04T17:33:25.790Z"
   },
   {
    "duration": 7,
    "start_time": "2023-03-04T17:33:26.295Z"
   },
   {
    "duration": 4,
    "start_time": "2023-03-04T17:33:27.295Z"
   },
   {
    "duration": 3,
    "start_time": "2023-03-04T17:33:27.816Z"
   },
   {
    "duration": 4888,
    "start_time": "2023-03-04T17:33:28.607Z"
   },
   {
    "duration": 584,
    "start_time": "2023-03-04T17:33:35.294Z"
   },
   {
    "duration": 674,
    "start_time": "2023-03-04T17:33:36.542Z"
   },
   {
    "duration": 7,
    "start_time": "2023-03-04T17:33:59.454Z"
   },
   {
    "duration": 2,
    "start_time": "2023-03-04T17:34:00.822Z"
   },
   {
    "duration": 58,
    "start_time": "2023-03-04T17:34:01.078Z"
   },
   {
    "duration": 1610,
    "start_time": "2023-03-04T17:34:01.372Z"
   },
   {
    "duration": 666,
    "start_time": "2023-03-04T17:34:02.984Z"
   },
   {
    "duration": 5,
    "start_time": "2023-03-04T17:35:59.112Z"
   },
   {
    "duration": 1210,
    "start_time": "2023-03-04T17:36:23.713Z"
   },
   {
    "duration": 1181,
    "start_time": "2023-03-04T17:36:31.696Z"
   },
   {
    "duration": 6,
    "start_time": "2023-03-04T17:49:05.746Z"
   },
   {
    "duration": 11,
    "start_time": "2023-03-04T17:49:46.288Z"
   },
   {
    "duration": 2,
    "start_time": "2023-03-04T17:49:54.375Z"
   },
   {
    "duration": 3,
    "start_time": "2023-03-04T17:54:44.185Z"
   },
   {
    "duration": 4,
    "start_time": "2023-03-04T17:54:45.593Z"
   },
   {
    "duration": 3,
    "start_time": "2023-03-04T17:54:45.824Z"
   },
   {
    "duration": 3,
    "start_time": "2023-03-04T17:55:02.480Z"
   },
   {
    "duration": 2,
    "start_time": "2023-03-04T17:56:16.413Z"
   },
   {
    "duration": 4,
    "start_time": "2023-03-04T17:57:23.738Z"
   },
   {
    "duration": 3,
    "start_time": "2023-03-04T18:01:06.999Z"
   },
   {
    "duration": 1461,
    "start_time": "2023-03-04T18:01:15.877Z"
   },
   {
    "duration": 5,
    "start_time": "2023-03-04T18:01:21.415Z"
   },
   {
    "duration": 3,
    "start_time": "2023-03-04T18:01:21.702Z"
   },
   {
    "duration": 1476,
    "start_time": "2023-03-04T18:01:21.974Z"
   },
   {
    "duration": 2,
    "start_time": "2023-03-04T18:28:23.703Z"
   },
   {
    "duration": 3,
    "start_time": "2023-03-04T18:28:23.974Z"
   },
   {
    "duration": 9980,
    "start_time": "2023-03-04T18:28:24.254Z"
   },
   {
    "duration": 10,
    "start_time": "2023-03-04T18:28:34.237Z"
   },
   {
    "duration": 0,
    "start_time": "2023-03-04T18:28:34.249Z"
   },
   {
    "duration": 0,
    "start_time": "2023-03-04T18:28:34.251Z"
   },
   {
    "duration": 1,
    "start_time": "2023-03-04T18:28:34.252Z"
   },
   {
    "duration": 0,
    "start_time": "2023-03-04T18:28:34.254Z"
   },
   {
    "duration": 0,
    "start_time": "2023-03-04T18:28:34.255Z"
   },
   {
    "duration": 0,
    "start_time": "2023-03-04T18:28:34.257Z"
   },
   {
    "duration": 0,
    "start_time": "2023-03-04T18:28:34.259Z"
   },
   {
    "duration": 0,
    "start_time": "2023-03-04T18:28:34.260Z"
   },
   {
    "duration": 0,
    "start_time": "2023-03-04T18:28:34.262Z"
   },
   {
    "duration": 56,
    "start_time": "2023-03-04T18:29:10.661Z"
   },
   {
    "duration": 189006,
    "start_time": "2023-03-04T18:29:14.973Z"
   },
   {
    "duration": 4,
    "start_time": "2023-03-04T18:32:23.981Z"
   },
   {
    "duration": 180985,
    "start_time": "2023-03-04T18:32:23.986Z"
   },
   {
    "duration": 4,
    "start_time": "2023-03-04T18:35:24.973Z"
   },
   {
    "duration": 13,
    "start_time": "2023-03-04T18:35:24.978Z"
   },
   {
    "duration": 4,
    "start_time": "2023-03-04T18:35:24.993Z"
   },
   {
    "duration": 7,
    "start_time": "2023-03-04T18:35:24.999Z"
   },
   {
    "duration": 40,
    "start_time": "2023-03-04T18:35:25.007Z"
   },
   {
    "duration": 0,
    "start_time": "2023-03-04T18:35:25.048Z"
   },
   {
    "duration": 0,
    "start_time": "2023-03-04T18:35:25.051Z"
   },
   {
    "duration": 0,
    "start_time": "2023-03-04T18:35:25.051Z"
   },
   {
    "duration": 0,
    "start_time": "2023-03-04T18:35:25.052Z"
   },
   {
    "duration": 0,
    "start_time": "2023-03-04T18:35:25.053Z"
   },
   {
    "duration": 0,
    "start_time": "2023-03-04T18:35:25.054Z"
   },
   {
    "duration": 0,
    "start_time": "2023-03-04T18:35:25.055Z"
   },
   {
    "duration": 1716,
    "start_time": "2023-03-05T13:51:25.117Z"
   },
   {
    "duration": 3488,
    "start_time": "2023-03-05T13:51:26.835Z"
   },
   {
    "duration": 239,
    "start_time": "2023-03-05T13:51:30.325Z"
   },
   {
    "duration": 15,
    "start_time": "2023-03-05T13:51:30.566Z"
   },
   {
    "duration": 151,
    "start_time": "2023-03-05T13:51:30.583Z"
   },
   {
    "duration": 132,
    "start_time": "2023-03-05T13:51:30.737Z"
   },
   {
    "duration": 12,
    "start_time": "2023-03-05T13:51:30.870Z"
   },
   {
    "duration": 89,
    "start_time": "2023-03-05T13:51:30.884Z"
   },
   {
    "duration": 277,
    "start_time": "2023-03-05T13:51:30.975Z"
   },
   {
    "duration": 17,
    "start_time": "2023-03-05T13:51:31.256Z"
   },
   {
    "duration": 111,
    "start_time": "2023-03-05T13:51:31.275Z"
   },
   {
    "duration": 5,
    "start_time": "2023-03-05T13:51:31.388Z"
   },
   {
    "duration": 32,
    "start_time": "2023-03-05T13:51:31.394Z"
   },
   {
    "duration": 38,
    "start_time": "2023-03-05T13:51:31.429Z"
   },
   {
    "duration": 29,
    "start_time": "2023-03-05T13:51:31.468Z"
   },
   {
    "duration": 24,
    "start_time": "2023-03-05T13:51:31.499Z"
   },
   {
    "duration": 29,
    "start_time": "2023-03-05T13:51:31.525Z"
   },
   {
    "duration": 56,
    "start_time": "2023-03-05T13:51:31.555Z"
   },
   {
    "duration": 38,
    "start_time": "2023-03-05T13:51:31.613Z"
   },
   {
    "duration": 9,
    "start_time": "2023-03-05T13:51:32.172Z"
   },
   {
    "duration": 9,
    "start_time": "2023-03-05T13:51:33.366Z"
   },
   {
    "duration": 8,
    "start_time": "2023-03-05T13:51:34.908Z"
   },
   {
    "duration": 4,
    "start_time": "2023-03-05T13:51:35.813Z"
   },
   {
    "duration": 4,
    "start_time": "2023-03-05T13:51:36.076Z"
   },
   {
    "duration": 4876,
    "start_time": "2023-03-05T13:51:36.340Z"
   },
   {
    "duration": 566,
    "start_time": "2023-03-05T13:51:41.217Z"
   },
   {
    "duration": 812,
    "start_time": "2023-03-05T13:51:41.786Z"
   },
   {
    "duration": 8,
    "start_time": "2023-03-05T13:51:42.600Z"
   },
   {
    "duration": 3,
    "start_time": "2023-03-05T13:51:42.796Z"
   },
   {
    "duration": 54,
    "start_time": "2023-03-05T13:51:43.068Z"
   },
   {
    "duration": 1612,
    "start_time": "2023-03-05T13:51:43.268Z"
   },
   {
    "duration": 665,
    "start_time": "2023-03-05T13:51:44.883Z"
   },
   {
    "duration": 7,
    "start_time": "2023-03-05T13:51:49.796Z"
   },
   {
    "duration": 2,
    "start_time": "2023-03-05T13:51:50.068Z"
   },
   {
    "duration": 3,
    "start_time": "2023-03-05T13:52:48.669Z"
   },
   {
    "duration": 4,
    "start_time": "2023-03-05T13:52:48.992Z"
   },
   {
    "duration": 2,
    "start_time": "2023-03-05T13:52:55.921Z"
   },
   {
    "duration": 3,
    "start_time": "2023-03-05T13:52:56.344Z"
   },
   {
    "duration": 5,
    "start_time": "2023-03-05T13:52:56.632Z"
   },
   {
    "duration": 1832,
    "start_time": "2023-03-05T13:52:58.608Z"
   },
   {
    "duration": 3,
    "start_time": "2023-03-05T13:53:00.442Z"
   },
   {
    "duration": 2,
    "start_time": "2023-03-05T13:53:00.601Z"
   },
   {
    "duration": 214680,
    "start_time": "2023-03-05T13:53:01.164Z"
   },
   {
    "duration": 4,
    "start_time": "2023-03-05T13:56:35.845Z"
   },
   {
    "duration": 206028,
    "start_time": "2023-03-05T13:56:35.851Z"
   },
   {
    "duration": 4,
    "start_time": "2023-03-05T14:00:01.881Z"
   },
   {
    "duration": 35,
    "start_time": "2023-03-05T14:00:01.887Z"
   },
   {
    "duration": 44,
    "start_time": "2023-03-05T14:00:01.924Z"
   },
   {
    "duration": 48,
    "start_time": "2023-03-05T14:00:01.970Z"
   },
   {
    "duration": 179,
    "start_time": "2023-03-05T14:00:02.020Z"
   },
   {
    "duration": 0,
    "start_time": "2023-03-05T14:00:02.201Z"
   },
   {
    "duration": 0,
    "start_time": "2023-03-05T14:00:02.202Z"
   },
   {
    "duration": 0,
    "start_time": "2023-03-05T14:00:02.203Z"
   },
   {
    "duration": 0,
    "start_time": "2023-03-05T14:00:02.204Z"
   },
   {
    "duration": 0,
    "start_time": "2023-03-05T14:00:02.205Z"
   },
   {
    "duration": 0,
    "start_time": "2023-03-05T14:00:02.206Z"
   },
   {
    "duration": 0,
    "start_time": "2023-03-05T14:00:02.207Z"
   },
   {
    "duration": 371472,
    "start_time": "2023-03-05T14:14:56.768Z"
   },
   {
    "duration": 3,
    "start_time": "2023-03-05T14:21:08.242Z"
   },
   {
    "duration": 0,
    "start_time": "2023-03-05T14:21:08.326Z"
   },
   {
    "duration": 0,
    "start_time": "2023-03-05T14:21:08.327Z"
   },
   {
    "duration": 0,
    "start_time": "2023-03-05T14:21:08.328Z"
   },
   {
    "duration": 0,
    "start_time": "2023-03-05T14:21:08.330Z"
   },
   {
    "duration": 389783,
    "start_time": "2023-03-05T14:22:29.527Z"
   },
   {
    "duration": 4,
    "start_time": "2023-03-05T14:28:59.313Z"
   },
   {
    "duration": 13,
    "start_time": "2023-03-05T14:28:59.319Z"
   },
   {
    "duration": 21,
    "start_time": "2023-03-05T14:28:59.334Z"
   },
   {
    "duration": 15,
    "start_time": "2023-03-05T14:28:59.356Z"
   },
   {
    "duration": 7,
    "start_time": "2023-03-05T14:28:59.373Z"
   },
   {
    "duration": 4,
    "start_time": "2023-03-05T14:30:24.258Z"
   },
   {
    "duration": 3,
    "start_time": "2023-03-05T14:30:40.425Z"
   },
   {
    "duration": 133,
    "start_time": "2023-03-05T14:32:33.212Z"
   },
   {
    "duration": 12,
    "start_time": "2023-03-05T14:32:48.091Z"
   },
   {
    "duration": 10,
    "start_time": "2023-03-05T14:32:54.419Z"
   },
   {
    "duration": 1622,
    "start_time": "2023-03-09T12:05:58.100Z"
   },
   {
    "duration": 1709,
    "start_time": "2023-03-09T12:05:59.724Z"
   },
   {
    "duration": 206,
    "start_time": "2023-03-09T12:06:01.434Z"
   },
   {
    "duration": 22,
    "start_time": "2023-03-09T12:06:01.643Z"
   },
   {
    "duration": 138,
    "start_time": "2023-03-09T12:06:01.667Z"
   },
   {
    "duration": 114,
    "start_time": "2023-03-09T12:06:01.806Z"
   },
   {
    "duration": 12,
    "start_time": "2023-03-09T12:06:01.922Z"
   },
   {
    "duration": 37,
    "start_time": "2023-03-09T12:06:01.936Z"
   },
   {
    "duration": 234,
    "start_time": "2023-03-09T12:06:01.975Z"
   },
   {
    "duration": 16,
    "start_time": "2023-03-09T12:06:02.212Z"
   },
   {
    "duration": 103,
    "start_time": "2023-03-09T12:06:02.230Z"
   },
   {
    "duration": 3,
    "start_time": "2023-03-09T12:06:02.335Z"
   },
   {
    "duration": 22,
    "start_time": "2023-03-09T12:06:02.339Z"
   },
   {
    "duration": 4,
    "start_time": "2023-03-09T12:06:02.388Z"
   },
   {
    "duration": 3,
    "start_time": "2023-03-09T12:06:05.410Z"
   },
   {
    "duration": 7,
    "start_time": "2023-03-09T12:06:06.210Z"
   },
   {
    "duration": 6,
    "start_time": "2023-03-09T12:06:08.978Z"
   },
   {
    "duration": 5,
    "start_time": "2023-03-09T12:06:09.266Z"
   },
   {
    "duration": 4,
    "start_time": "2023-03-09T12:06:10.082Z"
   },
   {
    "duration": 7,
    "start_time": "2023-03-09T12:06:10.826Z"
   },
   {
    "duration": 9,
    "start_time": "2023-03-09T12:06:13.386Z"
   },
   {
    "duration": 6,
    "start_time": "2023-03-09T12:06:14.386Z"
   },
   {
    "duration": 4,
    "start_time": "2023-03-09T12:06:22.338Z"
   },
   {
    "duration": 2,
    "start_time": "2023-03-09T12:06:22.522Z"
   },
   {
    "duration": 4331,
    "start_time": "2023-03-09T12:06:22.894Z"
   },
   {
    "duration": 547,
    "start_time": "2023-03-09T12:06:29.131Z"
   },
   {
    "duration": 685,
    "start_time": "2023-03-09T12:06:29.680Z"
   },
   {
    "duration": 6,
    "start_time": "2023-03-09T12:06:34.251Z"
   },
   {
    "duration": 3,
    "start_time": "2023-03-09T12:06:36.627Z"
   },
   {
    "duration": 44,
    "start_time": "2023-03-09T12:06:39.331Z"
   },
   {
    "duration": 1450,
    "start_time": "2023-03-09T12:06:39.578Z"
   },
   {
    "duration": 600,
    "start_time": "2023-03-09T12:06:41.195Z"
   },
   {
    "duration": 6,
    "start_time": "2023-03-09T12:07:30.981Z"
   },
   {
    "duration": 130,
    "start_time": "2023-03-09T12:07:35.607Z"
   },
   {
    "duration": 5,
    "start_time": "2023-03-09T12:07:40.149Z"
   },
   {
    "duration": 7,
    "start_time": "2023-03-09T12:07:41.862Z"
   },
   {
    "duration": 33,
    "start_time": "2023-03-09T12:08:03.935Z"
   },
   {
    "duration": 23,
    "start_time": "2023-03-09T12:08:23.801Z"
   },
   {
    "duration": 6,
    "start_time": "2023-03-09T12:08:53.537Z"
   },
   {
    "duration": 4,
    "start_time": "2023-03-09T12:09:17.441Z"
   },
   {
    "duration": 14,
    "start_time": "2023-03-09T12:09:44.370Z"
   },
   {
    "duration": 14,
    "start_time": "2023-03-09T12:10:01.003Z"
   },
   {
    "duration": 14,
    "start_time": "2023-03-09T12:12:18.032Z"
   },
   {
    "duration": 4,
    "start_time": "2023-03-09T12:12:19.682Z"
   },
   {
    "duration": 11,
    "start_time": "2023-03-09T12:12:20.120Z"
   },
   {
    "duration": 12,
    "start_time": "2023-03-09T12:12:47.473Z"
   },
   {
    "duration": 25,
    "start_time": "2023-03-09T12:12:53.059Z"
   },
   {
    "duration": 4,
    "start_time": "2023-03-09T12:13:17.522Z"
   },
   {
    "duration": 5,
    "start_time": "2023-03-09T12:13:40.915Z"
   },
   {
    "duration": 9,
    "start_time": "2023-03-09T12:14:18.251Z"
   },
   {
    "duration": 11,
    "start_time": "2023-03-09T12:14:29.525Z"
   },
   {
    "duration": 33,
    "start_time": "2023-03-09T12:14:35.748Z"
   },
   {
    "duration": 17,
    "start_time": "2023-03-09T12:14:44.311Z"
   },
   {
    "duration": 4,
    "start_time": "2023-03-09T12:15:30.526Z"
   },
   {
    "duration": 18,
    "start_time": "2023-03-09T12:15:41.432Z"
   },
   {
    "duration": 9,
    "start_time": "2023-03-09T12:17:20.211Z"
   },
   {
    "duration": 4,
    "start_time": "2023-03-09T12:17:56.996Z"
   },
   {
    "duration": 4,
    "start_time": "2023-03-09T12:18:02.331Z"
   },
   {
    "duration": 11,
    "start_time": "2023-03-09T12:18:09.595Z"
   },
   {
    "duration": 3,
    "start_time": "2023-03-09T12:18:52.103Z"
   },
   {
    "duration": 18,
    "start_time": "2023-03-09T12:19:32.742Z"
   },
   {
    "duration": 10,
    "start_time": "2023-03-09T12:20:38.025Z"
   },
   {
    "duration": 16,
    "start_time": "2023-03-09T12:20:42.728Z"
   },
   {
    "duration": 40,
    "start_time": "2023-03-09T12:20:45.858Z"
   },
   {
    "duration": 58,
    "start_time": "2023-03-09T12:21:04.534Z"
   },
   {
    "duration": 170,
    "start_time": "2023-03-09T12:21:06.650Z"
   },
   {
    "duration": 3,
    "start_time": "2023-03-09T12:21:28.792Z"
   },
   {
    "duration": 10,
    "start_time": "2023-03-09T12:21:29.084Z"
   },
   {
    "duration": 9,
    "start_time": "2023-03-09T12:21:36.685Z"
   },
   {
    "duration": 18,
    "start_time": "2023-03-09T12:22:05.480Z"
   },
   {
    "duration": 11,
    "start_time": "2023-03-09T12:22:13.784Z"
   },
   {
    "duration": 2,
    "start_time": "2023-03-09T12:22:19.085Z"
   },
   {
    "duration": 3,
    "start_time": "2023-03-09T12:22:21.116Z"
   },
   {
    "duration": 3,
    "start_time": "2023-03-09T12:22:21.482Z"
   },
   {
    "duration": 3,
    "start_time": "2023-03-09T12:22:23.684Z"
   },
   {
    "duration": 2,
    "start_time": "2023-03-09T12:22:24.589Z"
   },
   {
    "duration": 5,
    "start_time": "2023-03-09T12:22:25.520Z"
   },
   {
    "duration": 17,
    "start_time": "2023-03-09T12:22:26.045Z"
   },
   {
    "duration": 18,
    "start_time": "2023-03-09T12:23:09.919Z"
   },
   {
    "duration": 29,
    "start_time": "2023-03-09T12:23:50.169Z"
   },
   {
    "duration": 18,
    "start_time": "2023-03-09T12:23:52.296Z"
   },
   {
    "duration": 12,
    "start_time": "2023-03-09T12:24:00.200Z"
   },
   {
    "duration": 2,
    "start_time": "2023-03-09T12:24:01.070Z"
   },
   {
    "duration": 3,
    "start_time": "2023-03-09T12:24:02.321Z"
   },
   {
    "duration": 3,
    "start_time": "2023-03-09T12:24:02.504Z"
   },
   {
    "duration": 3,
    "start_time": "2023-03-09T12:24:03.448Z"
   },
   {
    "duration": 3,
    "start_time": "2023-03-09T12:24:04.000Z"
   },
   {
    "duration": 5,
    "start_time": "2023-03-09T12:24:04.363Z"
   },
   {
    "duration": 1528,
    "start_time": "2023-03-09T12:24:04.833Z"
   },
   {
    "duration": 4,
    "start_time": "2023-03-09T12:24:17.833Z"
   },
   {
    "duration": 3,
    "start_time": "2023-03-09T12:24:18.024Z"
   },
   {
    "duration": 236016,
    "start_time": "2023-03-09T12:24:18.345Z"
   },
   {
    "duration": 4,
    "start_time": "2023-03-09T12:28:14.363Z"
   },
   {
    "duration": 230032,
    "start_time": "2023-03-09T12:28:14.368Z"
   },
   {
    "duration": 4,
    "start_time": "2023-03-09T12:32:04.402Z"
   },
   {
    "duration": 11,
    "start_time": "2023-03-09T12:32:04.408Z"
   },
   {
    "duration": 3,
    "start_time": "2023-03-09T12:32:51.979Z"
   },
   {
    "duration": 3,
    "start_time": "2023-03-09T12:32:52.347Z"
   },
   {
    "duration": 324458,
    "start_time": "2023-03-09T12:32:52.666Z"
   },
   {
    "duration": 4,
    "start_time": "2023-03-09T12:38:17.126Z"
   },
   {
    "duration": 336250,
    "start_time": "2023-03-09T12:38:17.132Z"
   },
   {
    "duration": 6,
    "start_time": "2023-03-09T12:43:53.385Z"
   },
   {
    "duration": 15,
    "start_time": "2023-03-09T12:43:53.393Z"
   },
   {
    "duration": 9,
    "start_time": "2023-03-09T12:43:53.409Z"
   },
   {
    "duration": 11,
    "start_time": "2023-03-09T12:43:53.419Z"
   },
   {
    "duration": 7,
    "start_time": "2023-03-09T12:43:53.431Z"
   },
   {
    "duration": 4,
    "start_time": "2023-03-09T12:45:34.166Z"
   },
   {
    "duration": 8,
    "start_time": "2023-03-09T12:45:40.333Z"
   },
   {
    "duration": 11,
    "start_time": "2023-03-09T12:45:46.669Z"
   },
   {
    "duration": 7,
    "start_time": "2023-03-09T12:45:47.631Z"
   },
   {
    "duration": 8,
    "start_time": "2023-03-09T12:45:49.773Z"
   },
   {
    "duration": 4,
    "start_time": "2023-03-09T12:46:09.537Z"
   },
   {
    "duration": 14,
    "start_time": "2023-03-09T12:53:55.466Z"
   },
   {
    "duration": 6,
    "start_time": "2023-03-09T12:55:22.495Z"
   },
   {
    "duration": 4,
    "start_time": "2023-03-09T12:55:24.782Z"
   },
   {
    "duration": 3,
    "start_time": "2023-03-09T12:55:27.477Z"
   },
   {
    "duration": 4271,
    "start_time": "2023-03-09T12:55:27.677Z"
   },
   {
    "duration": 674,
    "start_time": "2023-03-09T12:55:31.950Z"
   },
   {
    "duration": 0,
    "start_time": "2023-03-09T12:55:32.626Z"
   },
   {
    "duration": 0,
    "start_time": "2023-03-09T12:55:32.627Z"
   },
   {
    "duration": 13,
    "start_time": "2023-03-09T12:55:35.052Z"
   },
   {
    "duration": 4,
    "start_time": "2023-03-09T12:55:39.958Z"
   },
   {
    "duration": 657,
    "start_time": "2023-03-09T12:55:40.286Z"
   },
   {
    "duration": 205,
    "start_time": "2023-03-09T12:55:40.945Z"
   },
   {
    "duration": 16,
    "start_time": "2023-03-09T12:55:41.152Z"
   },
   {
    "duration": 131,
    "start_time": "2023-03-09T12:55:41.170Z"
   },
   {
    "duration": 112,
    "start_time": "2023-03-09T12:55:41.317Z"
   },
   {
    "duration": 11,
    "start_time": "2023-03-09T12:55:41.462Z"
   },
   {
    "duration": 22,
    "start_time": "2023-03-09T12:55:41.598Z"
   },
   {
    "duration": 218,
    "start_time": "2023-03-09T12:55:41.750Z"
   },
   {
    "duration": 15,
    "start_time": "2023-03-09T12:55:41.970Z"
   },
   {
    "duration": 85,
    "start_time": "2023-03-09T12:55:42.061Z"
   },
   {
    "duration": 3,
    "start_time": "2023-03-09T12:55:42.221Z"
   },
   {
    "duration": 3,
    "start_time": "2023-03-09T12:55:42.373Z"
   },
   {
    "duration": 4,
    "start_time": "2023-03-09T12:55:42.549Z"
   },
   {
    "duration": 3,
    "start_time": "2023-03-09T12:55:43.278Z"
   },
   {
    "duration": 4,
    "start_time": "2023-03-09T12:55:43.470Z"
   },
   {
    "duration": 6,
    "start_time": "2023-03-09T12:55:43.646Z"
   },
   {
    "duration": 5,
    "start_time": "2023-03-09T12:55:43.886Z"
   },
   {
    "duration": 6,
    "start_time": "2023-03-09T12:55:44.902Z"
   },
   {
    "duration": 8,
    "start_time": "2023-03-09T12:55:46.422Z"
   },
   {
    "duration": 9,
    "start_time": "2023-03-09T12:55:47.710Z"
   },
   {
    "duration": 6,
    "start_time": "2023-03-09T12:55:48.446Z"
   },
   {
    "duration": 5,
    "start_time": "2023-03-09T12:55:49.774Z"
   },
   {
    "duration": 3,
    "start_time": "2023-03-09T12:55:50.198Z"
   },
   {
    "duration": 4648,
    "start_time": "2023-03-09T12:55:50.510Z"
   },
   {
    "duration": 627,
    "start_time": "2023-03-09T12:55:55.160Z"
   },
   {
    "duration": 592,
    "start_time": "2023-03-09T12:55:55.789Z"
   },
   {
    "duration": 6,
    "start_time": "2023-03-09T12:55:59.186Z"
   },
   {
    "duration": 2,
    "start_time": "2023-03-09T12:56:00.674Z"
   },
   {
    "duration": 29,
    "start_time": "2023-03-09T12:56:00.911Z"
   },
   {
    "duration": 1540,
    "start_time": "2023-03-09T12:56:01.223Z"
   },
   {
    "duration": 585,
    "start_time": "2023-03-09T12:56:02.765Z"
   },
   {
    "duration": 4,
    "start_time": "2023-03-09T12:56:05.367Z"
   },
   {
    "duration": 12,
    "start_time": "2023-03-09T12:56:05.687Z"
   },
   {
    "duration": 24,
    "start_time": "2023-03-09T12:56:10.287Z"
   },
   {
    "duration": 12,
    "start_time": "2023-03-09T12:56:13.175Z"
   },
   {
    "duration": 11,
    "start_time": "2023-03-09T12:57:49.891Z"
   },
   {
    "duration": 7,
    "start_time": "2023-03-09T12:57:50.635Z"
   },
   {
    "duration": 27,
    "start_time": "2023-03-09T12:57:52.115Z"
   },
   {
    "duration": 27,
    "start_time": "2023-03-09T12:59:20.718Z"
   },
   {
    "duration": 8,
    "start_time": "2023-03-09T12:59:23.351Z"
   },
   {
    "duration": 6,
    "start_time": "2023-03-09T13:01:06.450Z"
   },
   {
    "duration": 15,
    "start_time": "2023-03-09T13:02:23.414Z"
   },
   {
    "duration": 104,
    "start_time": "2023-03-09T13:03:22.072Z"
   },
   {
    "duration": 665,
    "start_time": "2023-03-09T13:03:29.976Z"
   },
   {
    "duration": 659,
    "start_time": "2023-03-09T13:03:44.753Z"
   },
   {
    "duration": 189,
    "start_time": "2023-03-09T13:04:40.827Z"
   },
   {
    "duration": 244,
    "start_time": "2023-03-09T13:05:13.548Z"
   },
   {
    "duration": 269,
    "start_time": "2023-03-09T13:05:38.973Z"
   },
   {
    "duration": 277,
    "start_time": "2023-03-09T13:06:24.927Z"
   },
   {
    "duration": 295,
    "start_time": "2023-03-09T13:07:03.801Z"
   },
   {
    "duration": 364,
    "start_time": "2023-03-09T13:07:24.817Z"
   },
   {
    "duration": 380,
    "start_time": "2023-03-09T13:08:09.363Z"
   },
   {
    "duration": 363,
    "start_time": "2023-03-09T13:08:16.211Z"
   },
   {
    "duration": 358,
    "start_time": "2023-03-09T13:09:20.118Z"
   },
   {
    "duration": 352,
    "start_time": "2023-03-09T13:09:32.966Z"
   },
   {
    "duration": 9,
    "start_time": "2023-03-09T13:10:12.095Z"
   },
   {
    "duration": 1757,
    "start_time": "2023-03-10T11:15:12.555Z"
   },
   {
    "duration": 2936,
    "start_time": "2023-03-10T11:15:14.314Z"
   },
   {
    "duration": 186,
    "start_time": "2023-03-10T11:15:17.251Z"
   },
   {
    "duration": 13,
    "start_time": "2023-03-10T11:15:17.438Z"
   },
   {
    "duration": 119,
    "start_time": "2023-03-10T11:15:17.453Z"
   },
   {
    "duration": 107,
    "start_time": "2023-03-10T11:15:17.579Z"
   },
   {
    "duration": 10,
    "start_time": "2023-03-10T11:15:17.687Z"
   },
   {
    "duration": 21,
    "start_time": "2023-03-10T11:15:17.699Z"
   },
   {
    "duration": 228,
    "start_time": "2023-03-10T11:15:17.721Z"
   },
   {
    "duration": 14,
    "start_time": "2023-03-10T11:15:17.950Z"
   },
   {
    "duration": 90,
    "start_time": "2023-03-10T11:15:17.966Z"
   },
   {
    "duration": 3,
    "start_time": "2023-03-10T11:15:18.058Z"
   },
   {
    "duration": 30,
    "start_time": "2023-03-10T11:15:18.063Z"
   },
   {
    "duration": 13,
    "start_time": "2023-03-10T11:15:18.096Z"
   },
   {
    "duration": 5,
    "start_time": "2023-03-10T11:15:18.110Z"
   },
   {
    "duration": 17,
    "start_time": "2023-03-10T11:15:18.116Z"
   },
   {
    "duration": 13,
    "start_time": "2023-03-10T11:15:18.134Z"
   },
   {
    "duration": 8,
    "start_time": "2023-03-10T11:15:18.148Z"
   },
   {
    "duration": 9,
    "start_time": "2023-03-10T11:15:18.157Z"
   },
   {
    "duration": 12,
    "start_time": "2023-03-10T11:15:18.167Z"
   },
   {
    "duration": 7,
    "start_time": "2023-03-10T11:15:18.181Z"
   },
   {
    "duration": 17,
    "start_time": "2023-03-10T11:15:18.190Z"
   },
   {
    "duration": 8,
    "start_time": "2023-03-10T11:15:18.208Z"
   },
   {
    "duration": 10,
    "start_time": "2023-03-10T11:15:18.217Z"
   },
   {
    "duration": 4350,
    "start_time": "2023-03-10T11:15:18.228Z"
   },
   {
    "duration": 521,
    "start_time": "2023-03-10T11:15:22.580Z"
   },
   {
    "duration": 704,
    "start_time": "2023-03-10T11:15:23.103Z"
   },
   {
    "duration": 7,
    "start_time": "2023-03-10T11:15:23.808Z"
   },
   {
    "duration": 5,
    "start_time": "2023-03-10T11:15:23.816Z"
   },
   {
    "duration": 44,
    "start_time": "2023-03-10T11:15:23.822Z"
   },
   {
    "duration": 1403,
    "start_time": "2023-03-10T11:15:23.868Z"
   },
   {
    "duration": 554,
    "start_time": "2023-03-10T11:15:25.273Z"
   },
   {
    "duration": 4,
    "start_time": "2023-03-10T11:15:25.829Z"
   },
   {
    "duration": 12,
    "start_time": "2023-03-10T11:15:25.834Z"
   },
   {
    "duration": 11,
    "start_time": "2023-03-10T11:15:25.848Z"
   },
   {
    "duration": 30,
    "start_time": "2023-03-10T11:15:25.860Z"
   },
   {
    "duration": 11,
    "start_time": "2023-03-10T11:15:25.891Z"
   },
   {
    "duration": 31,
    "start_time": "2023-03-10T11:15:25.904Z"
   },
   {
    "duration": 7,
    "start_time": "2023-03-10T11:15:25.937Z"
   },
   {
    "duration": 23,
    "start_time": "2023-03-10T11:15:25.945Z"
   },
   {
    "duration": 3,
    "start_time": "2023-03-10T11:15:25.972Z"
   },
   {
    "duration": 8,
    "start_time": "2023-03-10T11:15:25.976Z"
   },
   {
    "duration": 34,
    "start_time": "2023-03-10T11:15:25.985Z"
   },
   {
    "duration": 1460,
    "start_time": "2023-03-10T11:15:26.020Z"
   },
   {
    "duration": 2,
    "start_time": "2023-03-10T11:15:27.482Z"
   },
   {
    "duration": 9,
    "start_time": "2023-03-10T11:15:27.485Z"
   },
   {
    "duration": 216942,
    "start_time": "2023-03-10T11:15:27.496Z"
   },
   {
    "duration": 4,
    "start_time": "2023-03-10T11:19:04.439Z"
   },
   {
    "duration": 210079,
    "start_time": "2023-03-10T11:19:04.444Z"
   },
   {
    "duration": 4,
    "start_time": "2023-03-10T11:22:34.525Z"
   },
   {
    "duration": 13,
    "start_time": "2023-03-10T11:22:34.531Z"
   },
   {
    "duration": 4,
    "start_time": "2023-03-10T11:22:34.546Z"
   },
   {
    "duration": 4,
    "start_time": "2023-03-10T11:22:34.552Z"
   },
   {
    "duration": 304942,
    "start_time": "2023-03-10T11:22:34.557Z"
   },
   {
    "duration": 4,
    "start_time": "2023-03-10T11:27:39.500Z"
   },
   {
    "duration": 316994,
    "start_time": "2023-03-10T11:27:39.505Z"
   },
   {
    "duration": 4,
    "start_time": "2023-03-10T11:32:56.501Z"
   },
   {
    "duration": 15,
    "start_time": "2023-03-10T11:32:56.506Z"
   },
   {
    "duration": 11,
    "start_time": "2023-03-10T11:32:56.523Z"
   },
   {
    "duration": 20,
    "start_time": "2023-03-10T11:32:56.535Z"
   },
   {
    "duration": 12,
    "start_time": "2023-03-10T11:32:56.556Z"
   },
   {
    "duration": 29,
    "start_time": "2023-03-10T11:32:56.570Z"
   },
   {
    "duration": 15,
    "start_time": "2023-03-10T11:32:56.600Z"
   },
   {
    "duration": 395,
    "start_time": "2023-03-10T11:32:56.616Z"
   },
   {
    "duration": 420,
    "start_time": "2023-03-10T11:32:57.013Z"
   },
   {
    "duration": 10,
    "start_time": "2023-03-10T11:32:57.434Z"
   }
  ],
  "kernelspec": {
   "display_name": "Python 3 (ipykernel)",
   "language": "python",
   "name": "python3"
  },
  "language_info": {
   "codemirror_mode": {
    "name": "ipython",
    "version": 3
   },
   "file_extension": ".py",
   "mimetype": "text/x-python",
   "name": "python",
   "nbconvert_exporter": "python",
   "pygments_lexer": "ipython3",
   "version": "3.9.13"
  },
  "toc": {
   "base_numbering": 1,
   "nav_menu": {},
   "number_sections": true,
   "sideBar": true,
   "skip_h1_title": true,
   "title_cell": "Содержание",
   "title_sidebar": "Contents",
   "toc_cell": true,
   "toc_position": {},
   "toc_section_display": true,
   "toc_window_display": true
  }
 },
 "nbformat": 4,
 "nbformat_minor": 2
}
