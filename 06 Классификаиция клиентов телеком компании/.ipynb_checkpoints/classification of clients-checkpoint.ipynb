{
 "cells": [
  {
   "cell_type": "markdown",
   "metadata": {},
   "source": [
    "# Рекомендация тарифов"
   ]
  },
  {
   "cell_type": "markdown",
   "metadata": {},
   "source": [
    "В вашем распоряжении данные о поведении клиентов, которые уже перешли на эти тарифы (из проекта курса «Статистический анализ данных»). Нужно построить модель для задачи классификации, которая выберет подходящий тариф. Предобработка данных не понадобится — вы её уже сделали.\n",
    "\n",
    "Постройте модель с максимально большим значением *accuracy*. Чтобы сдать проект успешно, нужно довести долю правильных ответов по крайней мере до 0.75. Проверьте *accuracy* на тестовой выборке самостоятельно."
   ]
  },
  {
   "cell_type": "code",
   "execution_count": 1,
   "metadata": {},
   "outputs": [],
   "source": [
    "import pandas as pd\n",
    "from sklearn.model_selection import train_test_split, GridSearchCV\n",
    "from sklearn.metrics import accuracy_score, recall_score, precision_score\n",
    "from sklearn.linear_model import LogisticRegression, SGDClassifier\n",
    "from sklearn.ensemble import RandomForestClassifier"
   ]
  },
  {
   "cell_type": "markdown",
   "metadata": {},
   "source": [
    "## Загружаем и изучаем файл"
   ]
  },
  {
   "cell_type": "code",
   "execution_count": 2,
   "metadata": {},
   "outputs": [
    {
     "data": {
      "text/html": [
       "<div>\n",
       "<style scoped>\n",
       "    .dataframe tbody tr th:only-of-type {\n",
       "        vertical-align: middle;\n",
       "    }\n",
       "\n",
       "    .dataframe tbody tr th {\n",
       "        vertical-align: top;\n",
       "    }\n",
       "\n",
       "    .dataframe thead th {\n",
       "        text-align: right;\n",
       "    }\n",
       "</style>\n",
       "<table border=\"1\" class=\"dataframe\">\n",
       "  <thead>\n",
       "    <tr style=\"text-align: right;\">\n",
       "      <th></th>\n",
       "      <th>calls</th>\n",
       "      <th>minutes</th>\n",
       "      <th>messages</th>\n",
       "      <th>mb_used</th>\n",
       "      <th>is_ultra</th>\n",
       "    </tr>\n",
       "  </thead>\n",
       "  <tbody>\n",
       "    <tr>\n",
       "      <th>0</th>\n",
       "      <td>40.0</td>\n",
       "      <td>311.90</td>\n",
       "      <td>83.0</td>\n",
       "      <td>19915.42</td>\n",
       "      <td>0</td>\n",
       "    </tr>\n",
       "    <tr>\n",
       "      <th>1</th>\n",
       "      <td>85.0</td>\n",
       "      <td>516.75</td>\n",
       "      <td>56.0</td>\n",
       "      <td>22696.96</td>\n",
       "      <td>0</td>\n",
       "    </tr>\n",
       "    <tr>\n",
       "      <th>2</th>\n",
       "      <td>77.0</td>\n",
       "      <td>467.66</td>\n",
       "      <td>86.0</td>\n",
       "      <td>21060.45</td>\n",
       "      <td>0</td>\n",
       "    </tr>\n",
       "    <tr>\n",
       "      <th>3</th>\n",
       "      <td>106.0</td>\n",
       "      <td>745.53</td>\n",
       "      <td>81.0</td>\n",
       "      <td>8437.39</td>\n",
       "      <td>1</td>\n",
       "    </tr>\n",
       "    <tr>\n",
       "      <th>4</th>\n",
       "      <td>66.0</td>\n",
       "      <td>418.74</td>\n",
       "      <td>1.0</td>\n",
       "      <td>14502.75</td>\n",
       "      <td>0</td>\n",
       "    </tr>\n",
       "  </tbody>\n",
       "</table>\n",
       "</div>"
      ],
      "text/plain": [
       "   calls  minutes  messages   mb_used  is_ultra\n",
       "0   40.0   311.90      83.0  19915.42         0\n",
       "1   85.0   516.75      56.0  22696.96         0\n",
       "2   77.0   467.66      86.0  21060.45         0\n",
       "3  106.0   745.53      81.0   8437.39         1\n",
       "4   66.0   418.74       1.0  14502.75         0"
      ]
     },
     "execution_count": 2,
     "metadata": {},
     "output_type": "execute_result"
    }
   ],
   "source": [
    "df = pd.read_csv('/datasets/users_behavior.csv')\n",
    "df.head()"
   ]
  },
  {
   "cell_type": "code",
   "execution_count": 3,
   "metadata": {},
   "outputs": [
    {
     "name": "stdout",
     "output_type": "stream",
     "text": [
      "<class 'pandas.core.frame.DataFrame'>\n",
      "RangeIndex: 3214 entries, 0 to 3213\n",
      "Data columns (total 5 columns):\n",
      " #   Column    Non-Null Count  Dtype  \n",
      "---  ------    --------------  -----  \n",
      " 0   calls     3214 non-null   float64\n",
      " 1   minutes   3214 non-null   float64\n",
      " 2   messages  3214 non-null   float64\n",
      " 3   mb_used   3214 non-null   float64\n",
      " 4   is_ultra  3214 non-null   int64  \n",
      "dtypes: float64(4), int64(1)\n",
      "memory usage: 125.7 KB\n"
     ]
    }
   ],
   "source": [
    "df.info()"
   ]
  },
  {
   "cell_type": "code",
   "execution_count": 4,
   "metadata": {},
   "outputs": [
    {
     "data": {
      "text/plain": [
       "(0    2229\n",
       " 1     985\n",
       " Name: is_ultra, dtype: int64,\n",
       " (3214, 5))"
      ]
     },
     "execution_count": 4,
     "metadata": {},
     "output_type": "execute_result"
    }
   ],
   "source": [
    "df['is_ultra'].value_counts(), df.shape"
   ]
  },
  {
   "cell_type": "markdown",
   "metadata": {},
   "source": [
    "В нашем датасете 4 признака, 3214 наблюдений.\n",
    "\n",
    "Класс 0 встречается более чем в два раза чаще, чем класс 1"
   ]
  },
  {
   "cell_type": "markdown",
   "metadata": {},
   "source": [
    "## Делим данные на выборки"
   ]
  },
  {
   "cell_type": "code",
   "execution_count": 5,
   "metadata": {},
   "outputs": [
    {
     "name": "stdout",
     "output_type": "stream",
     "text": [
      "Обучающая выборка ((1928, 4), (1928,))\n",
      "Валидационная выборка ((643, 4), (643,))\n",
      "Тестовая выборка ((643, 4), (643,))\n"
     ]
    }
   ],
   "source": [
    "features = df.drop('is_ultra', axis=1)\n",
    "target = df['is_ultra']\n",
    "\n",
    "train_features, valid_features, train_target, valid_target = train_test_split(features,\n",
    "                                                                              target,\n",
    "                                                                              test_size=.4,\n",
    "                                                                              stratify=target,\n",
    "                                                                              random_state=1)\n",
    "\n",
    "valid_features, test_features, valid_target, test_target = train_test_split(valid_features,\n",
    "                                                                            valid_target,\n",
    "                                                                            test_size=.5,\n",
    "                                                                            stratify=valid_target,\n",
    "                                                                            random_state=1)\n",
    "\n",
    "\n",
    "\n",
    "print(f'Обучающая выборка {train_features.shape, train_target.shape}')\n",
    "print(f'Валидационная выборка {valid_features.shape, valid_target.shape}')\n",
    "print(f'Тестовая выборка {test_features.shape, test_target.shape}')\n"
   ]
  },
  {
   "cell_type": "code",
   "execution_count": 6,
   "metadata": {},
   "outputs": [
    {
     "name": "stdout",
     "output_type": "stream",
     "text": [
      "0    0.693465\n",
      "1    0.306535\n",
      "Name: is_ultra, dtype: float64\n",
      "0    0.693624\n",
      "1    0.306376\n",
      "Name: is_ultra, dtype: float64\n",
      "0    0.693624\n",
      "1    0.306376\n",
      "Name: is_ultra, dtype: float64\n"
     ]
    }
   ],
   "source": [
    "# просто проверка, как в итоге поделились классы\n",
    "print((train_target.value_counts() / train_target.shape[0]))\n",
    "print((valid_target.value_counts() / valid_target.shape[0]))\n",
    "print((test_target.value_counts() / test_target.shape[0]))"
   ]
  },
  {
   "cell_type": "markdown",
   "metadata": {},
   "source": [
    "Выборку разбили по следующей формуле: train -60%, valid - 20%, test - 20%"
   ]
  },
  {
   "cell_type": "markdown",
   "metadata": {},
   "source": [
    "## Исследуем модели\n",
    "### Логистическая регрессия"
   ]
  },
  {
   "cell_type": "code",
   "execution_count": 7,
   "metadata": {},
   "outputs": [
    {
     "name": "stdout",
     "output_type": "stream",
     "text": [
      "newton-cg не поддерживает l1\n",
      "**************************************************\n",
      "penalty: l2. solver newton-cg. \n",
      "Accuracy: 0.7527\n",
      "**************************************************\n",
      "penalty: l2. solver lbfgs. \n",
      "Accuracy: 0.7527\n",
      "**************************************************\n",
      "penalty: l2. solver liblinear. \n",
      "Accuracy: 0.7061\n",
      "**************************************************\n",
      "newton-cg не поддерживает elasticnet\n",
      "**************************************************\n"
     ]
    },
    {
     "name": "stderr",
     "output_type": "stream",
     "text": [
      "/opt/conda/lib/python3.9/site-packages/scipy/optimize/_linesearch.py:456: LineSearchWarning: The line search algorithm did not converge\n",
      "  warn('The line search algorithm did not converge', LineSearchWarning)\n",
      "/opt/conda/lib/python3.9/site-packages/scipy/optimize/_linesearch.py:305: LineSearchWarning: The line search algorithm did not converge\n",
      "  warn('The line search algorithm did not converge', LineSearchWarning)\n",
      "/opt/conda/lib/python3.9/site-packages/scipy/optimize/_linesearch.py:456: LineSearchWarning: The line search algorithm did not converge\n",
      "  warn('The line search algorithm did not converge', LineSearchWarning)\n",
      "/opt/conda/lib/python3.9/site-packages/scipy/optimize/_linesearch.py:305: LineSearchWarning: The line search algorithm did not converge\n",
      "  warn('The line search algorithm did not converge', LineSearchWarning)\n"
     ]
    },
    {
     "name": "stdout",
     "output_type": "stream",
     "text": [
      "penalty: none. solver newton-cg. \n",
      "Accuracy: 0.7527\n",
      "**************************************************\n",
      "penalty: none. solver lbfgs. \n",
      "Accuracy: 0.7527\n",
      "**************************************************\n",
      "liblinear не поддерживает none\n",
      "**************************************************\n",
      "Лучшая модель\n",
      "LogisticRegression(max_iter=1000, random_state=1, solver='newton-cg')\n"
     ]
    }
   ],
   "source": [
    "best_model_lr = None\n",
    "best_score_lr = 0\n",
    "\n",
    "\n",
    "for penalty in ['l1', 'l2', 'elasticnet', 'none']:\n",
    "    try:\n",
    "        for solver in ['newton-cg', 'lbfgs', 'liblinear']: \n",
    "            model = LogisticRegression(penalty=penalty, solver=solver, max_iter=1000, random_state=1)\n",
    "            model.fit(train_features, train_target)\n",
    "            prediction = model.predict(valid_features)\n",
    "            score = accuracy_score(valid_target, prediction)\n",
    "            print(f'penalty: {penalty}. solver {solver}. \\nAccuracy: {score:.4}')\n",
    "            print('*'*50)\n",
    "            if best_score_lr < score:\n",
    "                best_model_lr = model\n",
    "                best_score_lr = score\n",
    "    except:\n",
    "        print(f'{solver} не поддерживает {penalty}')\n",
    "        print('*'*50)\n",
    "\n",
    "print('Лучшая модель')\n",
    "print(best_model_lr)"
   ]
  },
  {
   "cell_type": "markdown",
   "metadata": {},
   "source": [
    "Мы видим, что значения некоторых гиперпараметров не совместимы между собой. При определенных сочетаниях алгоритм не сходится, о чем нас предупреждают сообщения, выделенные красным\n",
    "\n",
    "В проведенном эксперименте мы видим, что несколько моделей показали результат **0.7527**."
   ]
  },
  {
   "cell_type": "markdown",
   "metadata": {},
   "source": [
    "### Случайный лес"
   ]
  },
  {
   "cell_type": "code",
   "execution_count": 8,
   "metadata": {},
   "outputs": [
    {
     "name": "stdout",
     "output_type": "stream",
     "text": [
      "criterion: gini. max_depth 4. n_estimators: 25\n",
      "\n",
      "Accuracy: 0.7947\n",
      "**************************************************\n",
      "criterion: gini. max_depth 4. n_estimators: 50\n",
      "\n",
      "Accuracy: 0.8009\n",
      "**************************************************\n",
      "criterion: gini. max_depth 4. n_estimators: 100\n",
      "\n",
      "Accuracy: 0.7994\n",
      "**************************************************\n",
      "criterion: gini. max_depth 4. n_estimators: 125\n",
      "\n",
      "Accuracy: 0.7994\n",
      "**************************************************\n",
      "criterion: gini. max_depth 4. n_estimators: 150\n",
      "\n",
      "Accuracy: 0.7994\n",
      "**************************************************\n",
      "criterion: gini. max_depth 6. n_estimators: 25\n",
      "\n",
      "Accuracy: 0.7947\n",
      "**************************************************\n",
      "criterion: gini. max_depth 6. n_estimators: 50\n",
      "\n",
      "Accuracy: 0.7947\n",
      "**************************************************\n",
      "criterion: gini. max_depth 6. n_estimators: 100\n",
      "\n",
      "Accuracy: 0.7994\n",
      "**************************************************\n",
      "criterion: gini. max_depth 6. n_estimators: 125\n",
      "\n",
      "Accuracy: 0.8009\n",
      "**************************************************\n",
      "criterion: gini. max_depth 6. n_estimators: 150\n",
      "\n",
      "Accuracy: 0.7994\n",
      "**************************************************\n",
      "criterion: gini. max_depth 8. n_estimators: 25\n",
      "\n",
      "Accuracy: 0.7947\n",
      "**************************************************\n",
      "criterion: gini. max_depth 8. n_estimators: 50\n",
      "\n",
      "Accuracy: 0.7994\n",
      "**************************************************\n",
      "criterion: gini. max_depth 8. n_estimators: 100\n",
      "\n",
      "Accuracy: 0.8009\n",
      "**************************************************\n",
      "criterion: gini. max_depth 8. n_estimators: 125\n",
      "\n",
      "Accuracy: 0.8009\n",
      "**************************************************\n",
      "criterion: gini. max_depth 8. n_estimators: 150\n",
      "\n",
      "Accuracy: 0.8072\n",
      "**************************************************\n",
      "criterion: gini. max_depth 10. n_estimators: 25\n",
      "\n",
      "Accuracy: 0.8009\n",
      "**************************************************\n",
      "criterion: gini. max_depth 10. n_estimators: 50\n",
      "\n",
      "Accuracy: 0.7994\n",
      "**************************************************\n",
      "criterion: gini. max_depth 10. n_estimators: 100\n",
      "\n",
      "Accuracy: 0.7994\n",
      "**************************************************\n",
      "criterion: gini. max_depth 10. n_estimators: 125\n",
      "\n",
      "Accuracy: 0.8025\n",
      "**************************************************\n",
      "criterion: gini. max_depth 10. n_estimators: 150\n",
      "\n",
      "Accuracy: 0.8025\n",
      "**************************************************\n",
      "criterion: gini. max_depth 12. n_estimators: 25\n",
      "\n",
      "Accuracy: 0.7978\n",
      "**************************************************\n",
      "criterion: gini. max_depth 12. n_estimators: 50\n",
      "\n",
      "Accuracy: 0.7932\n",
      "**************************************************\n",
      "criterion: gini. max_depth 12. n_estimators: 100\n",
      "\n",
      "Accuracy: 0.7978\n",
      "**************************************************\n",
      "criterion: gini. max_depth 12. n_estimators: 125\n",
      "\n",
      "Accuracy: 0.8009\n",
      "**************************************************\n",
      "criterion: gini. max_depth 12. n_estimators: 150\n",
      "\n",
      "Accuracy: 0.7994\n",
      "**************************************************\n",
      "criterion: entropy. max_depth 4. n_estimators: 25\n",
      "\n",
      "Accuracy: 0.7963\n",
      "**************************************************\n",
      "criterion: entropy. max_depth 4. n_estimators: 50\n",
      "\n",
      "Accuracy: 0.7978\n",
      "**************************************************\n",
      "criterion: entropy. max_depth 4. n_estimators: 100\n",
      "\n",
      "Accuracy: 0.7978\n",
      "**************************************************\n",
      "criterion: entropy. max_depth 4. n_estimators: 125\n",
      "\n",
      "Accuracy: 0.7978\n",
      "**************************************************\n",
      "criterion: entropy. max_depth 4. n_estimators: 150\n",
      "\n",
      "Accuracy: 0.7978\n",
      "**************************************************\n",
      "criterion: entropy. max_depth 6. n_estimators: 25\n",
      "\n",
      "Accuracy: 0.7947\n",
      "**************************************************\n",
      "criterion: entropy. max_depth 6. n_estimators: 50\n",
      "\n",
      "Accuracy: 0.7963\n",
      "**************************************************\n",
      "criterion: entropy. max_depth 6. n_estimators: 100\n",
      "\n",
      "Accuracy: 0.8009\n",
      "**************************************************\n",
      "criterion: entropy. max_depth 6. n_estimators: 125\n",
      "\n",
      "Accuracy: 0.7978\n",
      "**************************************************\n",
      "criterion: entropy. max_depth 6. n_estimators: 150\n",
      "\n",
      "Accuracy: 0.7994\n",
      "**************************************************\n",
      "criterion: entropy. max_depth 8. n_estimators: 25\n",
      "\n",
      "Accuracy: 0.8072\n",
      "**************************************************\n",
      "criterion: entropy. max_depth 8. n_estimators: 50\n",
      "\n",
      "Accuracy: 0.7963\n",
      "**************************************************\n",
      "criterion: entropy. max_depth 8. n_estimators: 100\n",
      "\n",
      "Accuracy: 0.7994\n",
      "**************************************************\n",
      "criterion: entropy. max_depth 8. n_estimators: 125\n",
      "\n",
      "Accuracy: 0.8009\n",
      "**************************************************\n",
      "criterion: entropy. max_depth 8. n_estimators: 150\n",
      "\n",
      "Accuracy: 0.7978\n",
      "**************************************************\n",
      "criterion: entropy. max_depth 10. n_estimators: 25\n",
      "\n",
      "Accuracy: 0.8056\n",
      "**************************************************\n",
      "criterion: entropy. max_depth 10. n_estimators: 50\n",
      "\n",
      "Accuracy: 0.7963\n",
      "**************************************************\n",
      "criterion: entropy. max_depth 10. n_estimators: 100\n",
      "\n",
      "Accuracy: 0.8009\n",
      "**************************************************\n",
      "criterion: entropy. max_depth 10. n_estimators: 125\n",
      "\n",
      "Accuracy: 0.7978\n",
      "**************************************************\n",
      "criterion: entropy. max_depth 10. n_estimators: 150\n",
      "\n",
      "Accuracy: 0.7994\n",
      "**************************************************\n",
      "criterion: entropy. max_depth 12. n_estimators: 25\n",
      "\n",
      "Accuracy: 0.8025\n",
      "**************************************************\n",
      "criterion: entropy. max_depth 12. n_estimators: 50\n",
      "\n",
      "Accuracy: 0.7978\n",
      "**************************************************\n",
      "criterion: entropy. max_depth 12. n_estimators: 100\n",
      "\n",
      "Accuracy: 0.7994\n",
      "**************************************************\n",
      "criterion: entropy. max_depth 12. n_estimators: 125\n",
      "\n",
      "Accuracy: 0.7978\n",
      "**************************************************\n",
      "criterion: entropy. max_depth 12. n_estimators: 150\n",
      "\n",
      "Accuracy: 0.8009\n",
      "**************************************************\n",
      "Лучшая модель\n",
      "criterion: gini, max_depth: 8, n_estimators:150\n"
     ]
    }
   ],
   "source": [
    "best_model_rf = None\n",
    "best_score_rf = 0\n",
    "\n",
    "\n",
    "for criterion in [\"gini\", \"entropy\"]:\n",
    "    for depth in [4, 6, 8, 10, 12]:\n",
    "        for n_estimators in [25, 50, 100, 125, 150]: \n",
    "            model = RandomForestClassifier(criterion=criterion,\n",
    "                                           max_depth=depth,\n",
    "                                           n_estimators=n_estimators,\n",
    "                                           random_state=1)\n",
    "            model.fit(train_features, train_target)\n",
    "            prediction = model.predict(valid_features)\n",
    "            score = accuracy_score(valid_target, prediction)\n",
    "            print(f'criterion: {criterion}. max_depth {depth}. n_estimators: {n_estimators}')\n",
    "            print(f'\\nAccuracy: {score:.4}')\n",
    "            print('*'*50)\n",
    "            if best_score_rf < score:\n",
    "                best_model_rf = model\n",
    "                best_score_rf = score\n",
    "\n",
    "\n",
    "print('Лучшая модель')\n",
    "print(f'criterion: {best_model_rf.criterion}, max_depth: {best_model_rf.max_depth}, n_estimators:{best_model_rf.n_estimators}')"
   ]
  },
  {
   "cell_type": "markdown",
   "metadata": {},
   "source": [
    "Случайный лес сам по себе работает дольше, а с учетом перебора большего числа параметров количество операций значительно увеличивается.\n",
    "\n",
    "Данная модель показала лучший результат на валидационной выборке **0.8072**"
   ]
  },
  {
   "cell_type": "code",
   "execution_count": 9,
   "metadata": {},
   "outputs": [
    {
     "data": {
      "text/plain": [
       "{'criterion': 'gini', 'max_depth': 10, 'n_estimators': 125, 'random_state': 1}"
      ]
     },
     "execution_count": 9,
     "metadata": {},
     "output_type": "execute_result"
    }
   ],
   "source": [
    "params = {'criterion': [\"gini\", \"entropy\"],\n",
    "          'max_depth': [4, 6, 8, 10, 12],\n",
    "          'n_estimators': [25, 50, 100, 125, 150],\n",
    "           'random_state': [1]}\n",
    "\n",
    "clf = GridSearchCV(estimator=RandomForestClassifier(),\n",
    "                  param_grid=params,\n",
    "                  cv=5,\n",
    "                  refit=True)\n",
    "\n",
    "clf.fit(pd.concat([train_features, valid_features]),\n",
    "        pd.concat([train_target, valid_target]))\n",
    "\n",
    "clf.best_params_"
   ]
  },
  {
   "cell_type": "code",
   "execution_count": 10,
   "metadata": {},
   "outputs": [
    {
     "data": {
      "text/plain": [
       "0.8105745910619169"
      ]
     },
     "execution_count": 10,
     "metadata": {},
     "output_type": "execute_result"
    }
   ],
   "source": [
    "clf.best_score_"
   ]
  },
  {
   "cell_type": "markdown",
   "metadata": {},
   "source": [
    "   \n",
    "**Вывод**\n",
    "    \n",
    "**Наша лучшая модель - случайный лес с гиперпараметрами 'criterion': 'gini', 'max_depth': 10, 'n_estimators': 125** \n",
    "    \n",
    "**Данная модель имеет усредненный по пяти отложенным выборкам accuracy 0.8105, что является высшим результатом среди опробованных**\n"
   ]
  },
  {
   "cell_type": "markdown",
   "metadata": {},
   "source": [
    "## Проверяем модель на тестовой выборке"
   ]
  },
  {
   "cell_type": "code",
   "execution_count": 11,
   "metadata": {},
   "outputs": [
    {
     "name": "stdout",
     "output_type": "stream",
     "text": [
      "Accuracy модели случайного леса на тестовой выборке: 0.8243\n"
     ]
    }
   ],
   "source": [
    "prediction_clf = clf.predict(test_features)\n",
    "print(f'Accuracy модели случайного леса на тестовой выборке: {accuracy_score(test_target, prediction_clf):.4}')"
   ]
  },
  {
   "cell_type": "code",
   "execution_count": 12,
   "metadata": {},
   "outputs": [
    {
     "name": "stdout",
     "output_type": "stream",
     "text": [
      "Accuracy модели логистической регрессии: 0.7574\n",
      "Accuracy модели случайного леса: 0.8212\n"
     ]
    }
   ],
   "source": [
    "prediction_lr = best_model_lr.predict(test_features)\n",
    "print(f'Accuracy модели логистической регрессии: {accuracy_score(test_target, prediction_lr):.4}')\n",
    "\n",
    "prediction_rf = best_model_rf.predict(test_features)\n",
    "print(f'Accuracy модели случайного леса: {accuracy_score(test_target, prediction_rf):.4}')"
   ]
  },
  {
   "cell_type": "code",
   "execution_count": 13,
   "metadata": {},
   "outputs": [
    {
     "name": "stdout",
     "output_type": "stream",
     "text": [
      "Accuracy модели:\n",
      "LogisticRegression(max_iter=1000, random_state=1, solver='newton-cg')\n",
      "train: 0.7505            valid: 0.7527            test: 0.7574 \n",
      "\n",
      "RandomForestClassifier(max_depth=8, n_estimators=150, random_state=1)\n",
      "train: 0.8672            valid: 0.8072            test: 0.8212 \n",
      "\n"
     ]
    }
   ],
   "source": [
    "print('Accuracy модели:')\n",
    "for model in [best_model_lr, best_model_rf]:\n",
    "    prediction_train = model.predict(train_features)\n",
    "    prediction_valid = model.predict(valid_features)\n",
    "    prediction_test = model.predict(test_features)\n",
    "    print(model)\n",
    "    print(f'train: {accuracy_score(train_target, prediction_train):.4}\\\n",
    "            valid: {accuracy_score(valid_target, prediction_valid):.4}\\\n",
    "            test: {accuracy_score(test_target, prediction_test):.4} \\n')"
   ]
  },
  {
   "cell_type": "markdown",
   "metadata": {},
   "source": [
    "Логистическая регрессия показала практически одинаковый результат на трейне и на тесте, немного просев на валиде. Такую погрешность можно списать на случайность при формирования выборок\n",
    "\n",
    "Случайный лес явно переобучился на трейне, но при этом показал стабильно высокий результат на валидационной и тестовой выборках"
   ]
  },
  {
   "cell_type": "markdown",
   "metadata": {},
   "source": [
    "## Проверим модели на адекватность"
   ]
  },
  {
   "cell_type": "code",
   "execution_count": 14,
   "metadata": {},
   "outputs": [
    {
     "data": {
      "text/plain": [
       "0.6936236391912908"
      ]
     },
     "execution_count": 14,
     "metadata": {},
     "output_type": "execute_result"
    }
   ],
   "source": [
    "# делаем предсказание по самому частому классу.\n",
    "accuracy_score(test_target, [0]*643)"
   ]
  },
  {
   "cell_type": "markdown",
   "metadata": {},
   "source": [
    "Получили достаточно высокий результат (относительно требуемого accuracy в 0.75). Возможно, выбрана не самая лучшая метрика для данной задачи. Оценим другие метрики."
   ]
  },
  {
   "cell_type": "code",
   "execution_count": 15,
   "metadata": {},
   "outputs": [
    {
     "name": "stdout",
     "output_type": "stream",
     "text": [
      "Модель логистической регрессии\n",
      "precision: 0.8596, recall: 0.2487\n"
     ]
    }
   ],
   "source": [
    "print('Модель логистической регрессии')\n",
    "print(f'precision: {precision_score(test_target, prediction_lr):.4}, recall: {recall_score(test_target, prediction_lr):.4}')"
   ]
  },
  {
   "cell_type": "markdown",
   "metadata": {},
   "source": [
    "Precision говорит нам о том, что если модель предсказывает класс 1, то делает это с точностью 80%. При Recall показывает, что модель нашла только 27% наблюдений с классом 1."
   ]
  },
  {
   "cell_type": "code",
   "execution_count": 16,
   "metadata": {},
   "outputs": [
    {
     "name": "stdout",
     "output_type": "stream",
     "text": [
      "Модель случайного леса\n",
      "precision: 0.8154, recall: 0.5381\n"
     ]
    }
   ],
   "source": [
    "print('Модель случайного леса')\n",
    "print(f'precision: {precision_score(test_target, prediction_rf):.4}, recall: {recall_score(test_target, prediction_rf):.4}')"
   ]
  },
  {
   "cell_type": "code",
   "execution_count": 17,
   "metadata": {},
   "outputs": [
    {
     "name": "stdout",
     "output_type": "stream",
     "text": [
      "Модель случайного леса\n",
      "precision: 0.8154, recall: 0.5381\n"
     ]
    }
   ],
   "source": [
    "print('Модель случайного леса')\n",
    "print(f'precision: {precision_score(test_target, prediction_rf):.4}, recall: {recall_score(test_target, prediction_rf):.4}')"
   ]
  },
  {
   "cell_type": "markdown",
   "metadata": {},
   "source": [
    "А вот наша модель случайного леса имеет меньший precision, зато выявляет класс 1 гораздо лучше.\n",
    "\n",
    "В вольной интерпретации как-то так: наша модель лог. регрессии идет по \"безопасному\" пути - определяет большинство классов как 0, и делает прогноз 1 если в этом высокая уверенность. А модель на деревьях чаще предсказывает класс 1, выявляя его больше чем лог. регрессия, но делает это с большей ошибкой"
   ]
  },
  {
   "cell_type": "code",
   "execution_count": null,
   "metadata": {},
   "outputs": [],
   "source": []
  }
 ],
 "metadata": {
  "ExecuteTimeLog": [
   {
    "duration": 272,
    "start_time": "2022-12-12T13:19:39.256Z"
   },
   {
    "duration": 3,
    "start_time": "2022-12-12T13:20:36.278Z"
   },
   {
    "duration": 148,
    "start_time": "2022-12-12T13:22:02.618Z"
   },
   {
    "duration": 7,
    "start_time": "2022-12-12T13:22:19.032Z"
   },
   {
    "duration": 5,
    "start_time": "2022-12-12T13:23:06.884Z"
   },
   {
    "duration": 5,
    "start_time": "2022-12-12T13:24:29.908Z"
   },
   {
    "duration": 9,
    "start_time": "2022-12-12T13:26:19.531Z"
   },
   {
    "duration": 179,
    "start_time": "2022-12-12T13:29:08.522Z"
   },
   {
    "duration": 4,
    "start_time": "2022-12-12T13:29:29.250Z"
   },
   {
    "duration": 39,
    "start_time": "2022-12-12T13:29:32.498Z"
   },
   {
    "duration": 2324,
    "start_time": "2022-12-12T13:36:26.177Z"
   },
   {
    "duration": 2324,
    "start_time": "2022-12-12T13:37:05.275Z"
   },
   {
    "duration": 1172,
    "start_time": "2022-12-12T13:37:37.932Z"
   },
   {
    "duration": 6,
    "start_time": "2022-12-12T13:37:56.333Z"
   },
   {
    "duration": 48,
    "start_time": "2022-12-12T13:38:15.697Z"
   },
   {
    "duration": 1161,
    "start_time": "2022-12-12T13:38:20.446Z"
   },
   {
    "duration": 2386,
    "start_time": "2022-12-12T13:38:31.918Z"
   },
   {
    "duration": 1441,
    "start_time": "2022-12-12T13:38:44.063Z"
   },
   {
    "duration": 1908,
    "start_time": "2022-12-12T13:38:52.296Z"
   },
   {
    "duration": 5,
    "start_time": "2022-12-12T13:39:13.543Z"
   },
   {
    "duration": 2168,
    "start_time": "2022-12-12T13:40:24.432Z"
   },
   {
    "duration": 370,
    "start_time": "2022-12-12T13:40:36.219Z"
   },
   {
    "duration": 1916,
    "start_time": "2022-12-12T13:40:41.891Z"
   },
   {
    "duration": 5,
    "start_time": "2022-12-12T13:41:52.590Z"
   },
   {
    "duration": 6,
    "start_time": "2022-12-12T13:44:39.235Z"
   },
   {
    "duration": 5,
    "start_time": "2022-12-12T13:45:12.418Z"
   },
   {
    "duration": 2627,
    "start_time": "2022-12-12T13:45:23.781Z"
   },
   {
    "duration": 1838,
    "start_time": "2022-12-12T13:45:31.761Z"
   },
   {
    "duration": 6,
    "start_time": "2022-12-12T13:45:52.070Z"
   },
   {
    "duration": 2576,
    "start_time": "2022-12-12T13:46:18.928Z"
   },
   {
    "duration": 4086,
    "start_time": "2022-12-12T13:46:40.320Z"
   },
   {
    "duration": 1874,
    "start_time": "2022-12-12T13:46:49.730Z"
   },
   {
    "duration": 6,
    "start_time": "2022-12-12T13:46:57.977Z"
   },
   {
    "duration": 5,
    "start_time": "2022-12-12T13:51:34.168Z"
   },
   {
    "duration": 2120,
    "start_time": "2022-12-12T13:51:54.577Z"
   },
   {
    "duration": 1844,
    "start_time": "2022-12-12T13:52:03.964Z"
   },
   {
    "duration": 3950,
    "start_time": "2022-12-12T13:52:08.348Z"
   },
   {
    "duration": 1869,
    "start_time": "2022-12-12T13:52:25.637Z"
   },
   {
    "duration": 3913,
    "start_time": "2022-12-12T13:52:31.094Z"
   },
   {
    "duration": 6,
    "start_time": "2022-12-12T13:52:39.813Z"
   },
   {
    "duration": 8,
    "start_time": "2022-12-12T13:55:31.068Z"
   },
   {
    "duration": 5,
    "start_time": "2022-12-12T13:56:43.993Z"
   },
   {
    "duration": 13,
    "start_time": "2022-12-12T13:58:18.634Z"
   },
   {
    "duration": 6,
    "start_time": "2022-12-12T13:58:40.297Z"
   },
   {
    "duration": 14,
    "start_time": "2022-12-12T13:59:04.372Z"
   },
   {
    "duration": 4894,
    "start_time": "2022-12-12T14:00:19.006Z"
   },
   {
    "duration": 6,
    "start_time": "2022-12-12T14:01:42.529Z"
   },
   {
    "duration": 5358,
    "start_time": "2022-12-12T14:02:41.548Z"
   },
   {
    "duration": 5,
    "start_time": "2022-12-12T14:04:54.640Z"
   },
   {
    "duration": 2149,
    "start_time": "2022-12-12T14:05:42.857Z"
   },
   {
    "duration": 7558,
    "start_time": "2022-12-12T14:05:58.640Z"
   },
   {
    "duration": 4947,
    "start_time": "2022-12-12T14:06:09.260Z"
   },
   {
    "duration": 4913,
    "start_time": "2022-12-12T14:06:17.284Z"
   },
   {
    "duration": 4496,
    "start_time": "2022-12-12T14:06:27.701Z"
   },
   {
    "duration": 4,
    "start_time": "2022-12-12T14:06:43.694Z"
   },
   {
    "duration": 10,
    "start_time": "2022-12-12T14:08:23.349Z"
   },
   {
    "duration": 10,
    "start_time": "2022-12-12T14:08:27.312Z"
   },
   {
    "duration": 5,
    "start_time": "2022-12-12T14:08:32.840Z"
   },
   {
    "duration": 4,
    "start_time": "2022-12-12T14:10:00.565Z"
   },
   {
    "duration": 9039,
    "start_time": "2022-12-12T14:10:26.757Z"
   },
   {
    "duration": 5,
    "start_time": "2022-12-12T14:10:52.166Z"
   },
   {
    "duration": 4,
    "start_time": "2022-12-12T14:11:06.518Z"
   },
   {
    "duration": 8,
    "start_time": "2022-12-12T14:11:18.719Z"
   },
   {
    "duration": 8013,
    "start_time": "2022-12-12T14:12:42.385Z"
   },
   {
    "duration": 10200,
    "start_time": "2022-12-12T14:13:13.300Z"
   },
   {
    "duration": 8,
    "start_time": "2022-12-12T14:13:37.349Z"
   },
   {
    "duration": 4,
    "start_time": "2022-12-12T14:13:41.780Z"
   },
   {
    "duration": 4,
    "start_time": "2022-12-12T14:14:03.870Z"
   },
   {
    "duration": 2244,
    "start_time": "2022-12-12T14:14:16.559Z"
   },
   {
    "duration": 4681,
    "start_time": "2022-12-12T14:14:37.727Z"
   },
   {
    "duration": 7053,
    "start_time": "2022-12-12T14:19:07.443Z"
   },
   {
    "duration": 9567,
    "start_time": "2022-12-12T14:19:21.130Z"
   },
   {
    "duration": 4,
    "start_time": "2022-12-12T14:21:51.327Z"
   },
   {
    "duration": 7,
    "start_time": "2022-12-12T14:21:54.327Z"
   },
   {
    "duration": 5706,
    "start_time": "2022-12-12T14:25:24.199Z"
   },
   {
    "duration": 19031,
    "start_time": "2022-12-12T14:25:48.672Z"
   },
   {
    "duration": 6,
    "start_time": "2022-12-12T14:26:31.417Z"
   },
   {
    "duration": 6965,
    "start_time": "2022-12-12T14:27:00.939Z"
   },
   {
    "duration": 6,
    "start_time": "2022-12-12T14:28:40.653Z"
   },
   {
    "duration": 1047,
    "start_time": "2022-12-12T18:03:00.562Z"
   },
   {
    "duration": 155,
    "start_time": "2022-12-12T18:03:01.611Z"
   },
   {
    "duration": 6,
    "start_time": "2022-12-12T18:03:01.767Z"
   },
   {
    "duration": 36,
    "start_time": "2022-12-12T18:03:01.775Z"
   },
   {
    "duration": 5110,
    "start_time": "2022-12-12T18:03:01.813Z"
   },
   {
    "duration": 123,
    "start_time": "2022-12-12T18:03:06.925Z"
   },
   {
    "duration": 133,
    "start_time": "2022-12-12T18:03:07.050Z"
   },
   {
    "duration": 3,
    "start_time": "2022-12-12T18:05:46.104Z"
   },
   {
    "duration": 36,
    "start_time": "2022-12-12T18:05:46.633Z"
   },
   {
    "duration": 6,
    "start_time": "2022-12-12T18:05:46.978Z"
   },
   {
    "duration": 9,
    "start_time": "2022-12-12T18:05:48.790Z"
   },
   {
    "duration": 265,
    "start_time": "2022-12-12T18:05:58.228Z"
   },
   {
    "duration": 3,
    "start_time": "2022-12-12T18:20:47.295Z"
   },
   {
    "duration": 8,
    "start_time": "2022-12-12T18:20:52.953Z"
   },
   {
    "duration": 6,
    "start_time": "2022-12-12T18:23:27.268Z"
   },
   {
    "duration": 5,
    "start_time": "2022-12-12T18:30:35.018Z"
   },
   {
    "duration": 6,
    "start_time": "2022-12-12T18:30:38.121Z"
   },
   {
    "duration": 13041,
    "start_time": "2022-12-12T18:36:50.954Z"
   },
   {
    "duration": 12844,
    "start_time": "2022-12-12T18:37:23.567Z"
   },
   {
    "duration": 4,
    "start_time": "2022-12-12T18:38:00.619Z"
   },
   {
    "duration": 4,
    "start_time": "2022-12-12T18:38:10.030Z"
   },
   {
    "duration": 3,
    "start_time": "2022-12-12T18:38:27.128Z"
   },
   {
    "duration": 3,
    "start_time": "2022-12-12T18:38:37.215Z"
   },
   {
    "duration": 5,
    "start_time": "2022-12-12T18:39:05.607Z"
   },
   {
    "duration": 13532,
    "start_time": "2022-12-12T18:43:03.142Z"
   },
   {
    "duration": 9,
    "start_time": "2022-12-12T18:45:29.395Z"
   },
   {
    "duration": 26,
    "start_time": "2022-12-12T18:45:41.414Z"
   },
   {
    "duration": 39,
    "start_time": "2022-12-12T18:46:34.398Z"
   },
   {
    "duration": 44,
    "start_time": "2022-12-12T18:46:39.462Z"
   },
   {
    "duration": 27,
    "start_time": "2022-12-12T18:46:44.350Z"
   },
   {
    "duration": 5,
    "start_time": "2022-12-12T18:48:00.790Z"
   },
   {
    "duration": 4,
    "start_time": "2022-12-12T18:48:05.902Z"
   },
   {
    "duration": 6,
    "start_time": "2022-12-12T18:48:08.407Z"
   },
   {
    "duration": 5,
    "start_time": "2022-12-12T18:48:20.175Z"
   },
   {
    "duration": 5,
    "start_time": "2022-12-12T18:48:39.448Z"
   },
   {
    "duration": 267,
    "start_time": "2022-12-14T07:29:59.461Z"
   },
   {
    "duration": 161,
    "start_time": "2022-12-14T07:30:01.764Z"
   },
   {
    "duration": 8,
    "start_time": "2022-12-14T07:30:01.987Z"
   },
   {
    "duration": 10,
    "start_time": "2022-12-14T07:30:03.755Z"
   },
   {
    "duration": 301,
    "start_time": "2022-12-14T07:30:05.499Z"
   },
   {
    "duration": 44,
    "start_time": "2022-12-14T07:32:03.992Z"
   },
   {
    "duration": 58,
    "start_time": "2022-12-14T07:37:28.338Z"
   },
   {
    "duration": 121,
    "start_time": "2022-12-14T07:37:33.236Z"
   },
   {
    "duration": 243,
    "start_time": "2022-12-14T07:37:41.580Z"
   },
   {
    "duration": 566,
    "start_time": "2022-12-14T07:37:58.190Z"
   },
   {
    "duration": 6,
    "start_time": "2022-12-14T07:38:25.047Z"
   },
   {
    "duration": 14,
    "start_time": "2022-12-14T07:44:50.484Z"
   },
   {
    "duration": 14073,
    "start_time": "2022-12-14T07:44:55.092Z"
   },
   {
    "duration": 33,
    "start_time": "2022-12-14T07:45:09.167Z"
   },
   {
    "duration": 29,
    "start_time": "2022-12-14T07:45:12.924Z"
   },
   {
    "duration": 28,
    "start_time": "2022-12-14T07:45:18.565Z"
   },
   {
    "duration": 54,
    "start_time": "2022-12-14T07:45:28.638Z"
   },
   {
    "duration": 31,
    "start_time": "2022-12-14T07:45:48.710Z"
   },
   {
    "duration": 30,
    "start_time": "2022-12-14T07:49:23.693Z"
   },
   {
    "duration": 5,
    "start_time": "2022-12-14T07:50:03.196Z"
   },
   {
    "duration": 9,
    "start_time": "2022-12-14T07:50:05.479Z"
   },
   {
    "duration": 5,
    "start_time": "2022-12-14T08:00:12.422Z"
   },
   {
    "duration": 50,
    "start_time": "2022-12-14T08:01:36.738Z"
   },
   {
    "duration": 93,
    "start_time": "2022-12-14T08:01:45.466Z"
   },
   {
    "duration": 90,
    "start_time": "2022-12-14T08:01:52.191Z"
   },
   {
    "duration": 5,
    "start_time": "2022-12-14T08:10:22.228Z"
   },
   {
    "duration": 6,
    "start_time": "2022-12-14T08:10:24.748Z"
   },
   {
    "duration": 8,
    "start_time": "2022-12-14T08:10:35.269Z"
   },
   {
    "duration": 8,
    "start_time": "2022-12-14T08:10:43.950Z"
   },
   {
    "duration": 6,
    "start_time": "2022-12-14T08:18:15.460Z"
   },
   {
    "duration": 4,
    "start_time": "2022-12-14T08:18:35.312Z"
   },
   {
    "duration": 5,
    "start_time": "2022-12-14T08:18:48.149Z"
   },
   {
    "duration": 8,
    "start_time": "2022-12-14T08:18:51.310Z"
   },
   {
    "duration": 6,
    "start_time": "2022-12-14T08:19:49.853Z"
   },
   {
    "duration": 5,
    "start_time": "2022-12-14T08:19:57.770Z"
   },
   {
    "duration": 6,
    "start_time": "2022-12-14T08:20:11.616Z"
   },
   {
    "duration": 29,
    "start_time": "2022-12-14T08:22:06.045Z"
   },
   {
    "duration": 28,
    "start_time": "2022-12-14T08:22:09.510Z"
   },
   {
    "duration": 5,
    "start_time": "2022-12-14T08:22:15.910Z"
   },
   {
    "duration": 6,
    "start_time": "2022-12-14T08:22:21.157Z"
   },
   {
    "duration": 5,
    "start_time": "2022-12-14T08:25:09.101Z"
   },
   {
    "duration": 4,
    "start_time": "2022-12-14T08:25:11.724Z"
   },
   {
    "duration": 6,
    "start_time": "2022-12-14T08:25:24.030Z"
   },
   {
    "duration": 11,
    "start_time": "2022-12-14T08:25:38.098Z"
   },
   {
    "duration": 5,
    "start_time": "2022-12-14T09:08:50.146Z"
   },
   {
    "duration": 7,
    "start_time": "2022-12-14T09:09:04.537Z"
   },
   {
    "duration": 7,
    "start_time": "2022-12-14T09:09:15.957Z"
   },
   {
    "duration": 7,
    "start_time": "2022-12-14T09:09:42.563Z"
   },
   {
    "duration": 7,
    "start_time": "2022-12-14T09:14:18.717Z"
   },
   {
    "duration": 5,
    "start_time": "2022-12-14T09:17:26.603Z"
   },
   {
    "duration": 11,
    "start_time": "2022-12-14T09:17:35.108Z"
   },
   {
    "duration": 9,
    "start_time": "2022-12-14T09:17:43.235Z"
   },
   {
    "duration": 7,
    "start_time": "2022-12-14T09:17:48.956Z"
   },
   {
    "duration": 10,
    "start_time": "2022-12-14T09:17:54.477Z"
   },
   {
    "duration": 5,
    "start_time": "2022-12-14T09:17:58.102Z"
   },
   {
    "duration": 1164,
    "start_time": "2022-12-14T09:22:04.762Z"
   },
   {
    "duration": 50,
    "start_time": "2022-12-14T09:22:05.928Z"
   },
   {
    "duration": 6,
    "start_time": "2022-12-14T09:22:05.980Z"
   },
   {
    "duration": 13,
    "start_time": "2022-12-14T09:22:05.987Z"
   },
   {
    "duration": 320,
    "start_time": "2022-12-14T09:22:06.002Z"
   },
   {
    "duration": 14912,
    "start_time": "2022-12-14T09:22:06.324Z"
   },
   {
    "duration": 28,
    "start_time": "2022-12-14T09:22:21.238Z"
   },
   {
    "duration": 100,
    "start_time": "2022-12-14T09:22:21.278Z"
   },
   {
    "duration": 6,
    "start_time": "2022-12-14T09:22:21.380Z"
   },
   {
    "duration": 17,
    "start_time": "2022-12-14T09:22:21.388Z"
   },
   {
    "duration": 13,
    "start_time": "2022-12-14T09:22:21.408Z"
   },
   {
    "duration": 46,
    "start_time": "2022-12-14T10:06:06.537Z"
   },
   {
    "duration": 1584,
    "start_time": "2022-12-14T10:06:15.448Z"
   },
   {
    "duration": 43,
    "start_time": "2022-12-14T10:06:17.034Z"
   },
   {
    "duration": 5,
    "start_time": "2022-12-14T10:06:17.079Z"
   },
   {
    "duration": 11,
    "start_time": "2022-12-14T10:06:17.086Z"
   },
   {
    "duration": 290,
    "start_time": "2022-12-14T10:06:17.098Z"
   },
   {
    "duration": 13665,
    "start_time": "2022-12-14T10:06:17.390Z"
   },
   {
    "duration": 28,
    "start_time": "2022-12-14T10:06:31.057Z"
   },
   {
    "duration": 104,
    "start_time": "2022-12-14T10:06:31.087Z"
   },
   {
    "duration": 5,
    "start_time": "2022-12-14T10:06:31.193Z"
   },
   {
    "duration": 25,
    "start_time": "2022-12-14T10:06:31.200Z"
   },
   {
    "duration": 32,
    "start_time": "2022-12-14T10:06:31.227Z"
   },
   {
    "duration": 1175,
    "start_time": "2022-12-15T10:00:50.110Z"
   },
   {
    "duration": 136,
    "start_time": "2022-12-15T10:00:52.411Z"
   },
   {
    "duration": 3,
    "start_time": "2022-12-15T10:17:28.633Z"
   },
   {
    "duration": 44,
    "start_time": "2022-12-15T10:17:30.288Z"
   },
   {
    "duration": 13,
    "start_time": "2022-12-15T10:17:38.696Z"
   },
   {
    "duration": 45,
    "start_time": "2022-12-15T10:21:34.713Z"
   },
   {
    "duration": 142,
    "start_time": "2022-12-15T10:22:49.549Z"
   },
   {
    "duration": 12,
    "start_time": "2022-12-15T10:22:58.717Z"
   },
   {
    "duration": 6,
    "start_time": "2022-12-15T10:24:14.007Z"
   },
   {
    "duration": 7,
    "start_time": "2022-12-15T10:34:53.145Z"
   },
   {
    "duration": 7,
    "start_time": "2022-12-15T10:35:08.504Z"
   },
   {
    "duration": 5,
    "start_time": "2022-12-15T10:35:37.577Z"
   },
   {
    "duration": 7,
    "start_time": "2022-12-15T10:35:42.106Z"
   },
   {
    "duration": 6,
    "start_time": "2022-12-15T10:35:49.601Z"
   },
   {
    "duration": 10,
    "start_time": "2022-12-15T10:36:02.186Z"
   },
   {
    "duration": 8,
    "start_time": "2022-12-15T10:36:34.923Z"
   },
   {
    "duration": 267,
    "start_time": "2022-12-15T10:37:53.023Z"
   },
   {
    "duration": 46,
    "start_time": "2022-12-15T10:40:51.692Z"
   },
   {
    "duration": 14366,
    "start_time": "2022-12-15T10:41:14.102Z"
   },
   {
    "duration": 32,
    "start_time": "2022-12-15T10:41:44.878Z"
   },
   {
    "duration": 103,
    "start_time": "2022-12-15T10:41:48.833Z"
   },
   {
    "duration": 6,
    "start_time": "2022-12-15T10:42:25.367Z"
   },
   {
    "duration": 6,
    "start_time": "2022-12-15T10:42:28.159Z"
   },
   {
    "duration": 7,
    "start_time": "2022-12-15T10:42:32.056Z"
   },
   {
    "duration": 2,
    "start_time": "2022-12-15T10:44:38.253Z"
   },
   {
    "duration": 5,
    "start_time": "2022-12-15T10:45:48.200Z"
   },
   {
    "duration": 201,
    "start_time": "2022-12-15T10:46:52.994Z"
   },
   {
    "duration": 376,
    "start_time": "2022-12-15T10:47:24.482Z"
   },
   {
    "duration": 3,
    "start_time": "2022-12-15T10:51:22.868Z"
   },
   {
    "duration": 3,
    "start_time": "2022-12-15T10:51:28.204Z"
   },
   {
    "duration": 3,
    "start_time": "2022-12-15T10:52:41.879Z"
   },
   {
    "duration": 5,
    "start_time": "2022-12-15T10:56:11.262Z"
   },
   {
    "duration": 12,
    "start_time": "2022-12-15T10:58:14.554Z"
   },
   {
    "duration": 21,
    "start_time": "2022-12-15T10:59:06.580Z"
   },
   {
    "duration": 14,
    "start_time": "2022-12-15T10:59:19.531Z"
   },
   {
    "duration": 12,
    "start_time": "2022-12-15T10:59:27.878Z"
   },
   {
    "duration": 26,
    "start_time": "2022-12-15T11:00:46.097Z"
   },
   {
    "duration": 11,
    "start_time": "2022-12-15T11:01:40.572Z"
   },
   {
    "duration": 12,
    "start_time": "2022-12-15T11:02:10.141Z"
   },
   {
    "duration": 23,
    "start_time": "2022-12-15T11:03:24.767Z"
   },
   {
    "duration": 73031,
    "start_time": "2022-12-15T11:03:38.129Z"
   },
   {
    "duration": 4,
    "start_time": "2022-12-15T11:05:08.163Z"
   },
   {
    "duration": 3,
    "start_time": "2022-12-15T11:05:22.571Z"
   },
   {
    "duration": 72503,
    "start_time": "2022-12-15T11:05:39.820Z"
   },
   {
    "duration": 5,
    "start_time": "2022-12-15T11:07:29.479Z"
   },
   {
    "duration": 3,
    "start_time": "2022-12-15T11:07:40.351Z"
   },
   {
    "duration": 4,
    "start_time": "2022-12-15T11:07:43.000Z"
   },
   {
    "duration": 4,
    "start_time": "2022-12-15T11:08:28.593Z"
   },
   {
    "duration": 13950,
    "start_time": "2022-12-15T11:12:39.123Z"
   },
   {
    "duration": 4,
    "start_time": "2022-12-15T11:18:31.376Z"
   },
   {
    "duration": 5,
    "start_time": "2022-12-15T11:18:33.239Z"
   },
   {
    "duration": 4,
    "start_time": "2022-12-15T11:27:09.739Z"
   },
   {
    "duration": 7,
    "start_time": "2022-12-15T11:27:11.356Z"
   },
   {
    "duration": 16,
    "start_time": "2022-12-15T11:30:38.635Z"
   },
   {
    "duration": 42,
    "start_time": "2022-12-15T11:30:41.618Z"
   },
   {
    "duration": 35,
    "start_time": "2022-12-15T11:35:13.501Z"
   },
   {
    "duration": 113,
    "start_time": "2022-12-15T11:35:13.926Z"
   },
   {
    "duration": 29,
    "start_time": "2022-12-15T11:35:54.878Z"
   },
   {
    "duration": 29,
    "start_time": "2022-12-15T11:36:16.399Z"
   },
   {
    "duration": 30,
    "start_time": "2022-12-15T11:37:47.291Z"
   },
   {
    "duration": 114,
    "start_time": "2022-12-15T11:38:17.204Z"
   },
   {
    "duration": 218,
    "start_time": "2022-12-15T11:38:26.797Z"
   },
   {
    "duration": 116,
    "start_time": "2022-12-15T11:38:42.164Z"
   },
   {
    "duration": 30,
    "start_time": "2022-12-15T11:43:58.536Z"
   },
   {
    "duration": 31,
    "start_time": "2022-12-15T11:44:28.851Z"
   },
   {
    "duration": 51,
    "start_time": "2022-12-15T11:48:58.475Z"
   },
   {
    "duration": 1133,
    "start_time": "2022-12-15T11:54:15.933Z"
   },
   {
    "duration": 42,
    "start_time": "2022-12-15T11:54:17.067Z"
   },
   {
    "duration": 11,
    "start_time": "2022-12-15T11:54:17.111Z"
   },
   {
    "duration": 13,
    "start_time": "2022-12-15T11:54:17.125Z"
   },
   {
    "duration": 17,
    "start_time": "2022-12-15T11:54:17.139Z"
   },
   {
    "duration": 9,
    "start_time": "2022-12-15T11:54:17.158Z"
   },
   {
    "duration": 45,
    "start_time": "2022-12-15T11:54:17.168Z"
   },
   {
    "duration": 306,
    "start_time": "2022-12-15T11:54:17.214Z"
   },
   {
    "duration": 14136,
    "start_time": "2022-12-15T11:54:17.522Z"
   },
   {
    "duration": 77123,
    "start_time": "2022-12-15T11:54:31.661Z"
   },
   {
    "duration": 4,
    "start_time": "2022-12-15T11:55:48.786Z"
   },
   {
    "duration": 44,
    "start_time": "2022-12-15T11:55:48.791Z"
   },
   {
    "duration": 50,
    "start_time": "2022-12-15T11:55:48.837Z"
   },
   {
    "duration": 135,
    "start_time": "2022-12-15T11:55:48.889Z"
   },
   {
    "duration": 5,
    "start_time": "2022-12-15T11:55:49.026Z"
   },
   {
    "duration": 22,
    "start_time": "2022-12-15T11:55:49.033Z"
   },
   {
    "duration": 7,
    "start_time": "2022-12-15T11:55:49.057Z"
   },
   {
    "duration": 12,
    "start_time": "2022-12-15T11:55:49.065Z"
   },
   {
    "duration": 1181,
    "start_time": "2022-12-15T11:56:31.419Z"
   },
   {
    "duration": 43,
    "start_time": "2022-12-15T11:56:32.603Z"
   },
   {
    "duration": 12,
    "start_time": "2022-12-15T11:56:32.648Z"
   },
   {
    "duration": 21,
    "start_time": "2022-12-15T11:56:32.661Z"
   },
   {
    "duration": 12,
    "start_time": "2022-12-15T11:56:32.685Z"
   },
   {
    "duration": 8,
    "start_time": "2022-12-15T11:56:32.699Z"
   },
   {
    "duration": 307,
    "start_time": "2022-12-15T11:56:32.709Z"
   },
   {
    "duration": 14603,
    "start_time": "2022-12-15T11:56:33.017Z"
   },
   {
    "duration": 76784,
    "start_time": "2022-12-15T11:56:47.622Z"
   },
   {
    "duration": 3,
    "start_time": "2022-12-15T11:58:04.408Z"
   },
   {
    "duration": 38,
    "start_time": "2022-12-15T11:58:04.413Z"
   },
   {
    "duration": 37,
    "start_time": "2022-12-15T11:58:04.455Z"
   },
   {
    "duration": 148,
    "start_time": "2022-12-15T11:58:04.494Z"
   },
   {
    "duration": 12,
    "start_time": "2022-12-15T11:58:04.646Z"
   },
   {
    "duration": 11,
    "start_time": "2022-12-15T11:58:04.660Z"
   },
   {
    "duration": 20,
    "start_time": "2022-12-15T11:58:04.674Z"
   },
   {
    "duration": 14,
    "start_time": "2022-12-15T11:58:04.697Z"
   }
  ],
  "kernelspec": {
   "display_name": "Python 3 (ipykernel)",
   "language": "python",
   "name": "python3"
  },
  "language_info": {
   "codemirror_mode": {
    "name": "ipython",
    "version": 3
   },
   "file_extension": ".py",
   "mimetype": "text/x-python",
   "name": "python",
   "nbconvert_exporter": "python",
   "pygments_lexer": "ipython3",
   "version": "3.9.13"
  },
  "toc": {
   "base_numbering": 1,
   "nav_menu": {},
   "number_sections": true,
   "sideBar": true,
   "skip_h1_title": true,
   "title_cell": "Table of Contents",
   "title_sidebar": "Contents",
   "toc_cell": false,
   "toc_position": {},
   "toc_section_display": true,
   "toc_window_display": false
  }
 },
 "nbformat": 4,
 "nbformat_minor": 2
}
