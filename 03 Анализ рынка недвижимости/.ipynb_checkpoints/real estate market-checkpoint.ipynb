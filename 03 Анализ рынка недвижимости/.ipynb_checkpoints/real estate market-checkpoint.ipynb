{
 "cells": [
  {
   "cell_type": "markdown",
   "metadata": {},
   "source": [
    "# Исследование объявлений о продаже квартир\n",
    "\n",
    "В нашем распоряжении данные сервиса Яндекс.Недвижимость — архив объявлений о продаже квартир в Санкт-Петербурге и соседних населённых пунктов за несколько лет. Нужно научиться определять рыночную стоимость объектов недвижимости. Наша задача — установить параметры. Это позволит построить автоматизированную систему: она отследит аномалии и мошенническую деятельность. \n",
    "\n",
    "По каждой квартире на продажу доступны два вида данных. Первые вписаны пользователем, вторые — получены автоматически на основе картографических данных. Например, расстояние до центра, аэропорта, ближайшего парка и водоёма. "
   ]
  },
  {
   "cell_type": "code",
   "execution_count": 1,
   "metadata": {},
   "outputs": [],
   "source": [
    "import numpy as np\n",
    "import pandas as pd\n",
    "import matplotlib.pyplot as plt\n",
    "\n",
    "pd.options.display.float_format = '{:,.4f}'.format"
   ]
  },
  {
   "cell_type": "code",
   "execution_count": 2,
   "metadata": {},
   "outputs": [],
   "source": [
    "data = pd.read_csv('/datasets/real_estate_data.csv', sep='\\t')\n",
    "data_size = data.shape[0]"
   ]
  },
  {
   "cell_type": "code",
   "execution_count": 3,
   "metadata": {},
   "outputs": [
    {
     "name": "stdout",
     "output_type": "stream",
     "text": [
      "<class 'pandas.core.frame.DataFrame'>\n",
      "RangeIndex: 23699 entries, 0 to 23698\n",
      "Data columns (total 22 columns):\n",
      " #   Column                Non-Null Count  Dtype  \n",
      "---  ------                --------------  -----  \n",
      " 0   total_images          23699 non-null  int64  \n",
      " 1   last_price            23699 non-null  float64\n",
      " 2   total_area            23699 non-null  float64\n",
      " 3   first_day_exposition  23699 non-null  object \n",
      " 4   rooms                 23699 non-null  int64  \n",
      " 5   ceiling_height        14504 non-null  float64\n",
      " 6   floors_total          23613 non-null  float64\n",
      " 7   living_area           21796 non-null  float64\n",
      " 8   floor                 23699 non-null  int64  \n",
      " 9   is_apartment          2775 non-null   object \n",
      " 10  studio                23699 non-null  bool   \n",
      " 11  open_plan             23699 non-null  bool   \n",
      " 12  kitchen_area          21421 non-null  float64\n",
      " 13  balcony               12180 non-null  float64\n",
      " 14  locality_name         23650 non-null  object \n",
      " 15  airports_nearest      18157 non-null  float64\n",
      " 16  cityCenters_nearest   18180 non-null  float64\n",
      " 17  parks_around3000      18181 non-null  float64\n",
      " 18  parks_nearest         8079 non-null   float64\n",
      " 19  ponds_around3000      18181 non-null  float64\n",
      " 20  ponds_nearest         9110 non-null   float64\n",
      " 21  days_exposition       20518 non-null  float64\n",
      "dtypes: bool(2), float64(14), int64(3), object(3)\n",
      "memory usage: 3.7+ MB\n"
     ]
    }
   ],
   "source": [
    "data.info()"
   ]
  },
  {
   "cell_type": "code",
   "execution_count": 4,
   "metadata": {},
   "outputs": [
    {
     "data": {
      "text/html": [
       "<div>\n",
       "<style scoped>\n",
       "    .dataframe tbody tr th:only-of-type {\n",
       "        vertical-align: middle;\n",
       "    }\n",
       "\n",
       "    .dataframe tbody tr th {\n",
       "        vertical-align: top;\n",
       "    }\n",
       "\n",
       "    .dataframe thead th {\n",
       "        text-align: right;\n",
       "    }\n",
       "</style>\n",
       "<table border=\"1\" class=\"dataframe\">\n",
       "  <thead>\n",
       "    <tr style=\"text-align: right;\">\n",
       "      <th></th>\n",
       "      <th>total_images</th>\n",
       "      <th>last_price</th>\n",
       "      <th>total_area</th>\n",
       "      <th>first_day_exposition</th>\n",
       "      <th>rooms</th>\n",
       "      <th>ceiling_height</th>\n",
       "      <th>floors_total</th>\n",
       "      <th>living_area</th>\n",
       "      <th>floor</th>\n",
       "      <th>is_apartment</th>\n",
       "      <th>...</th>\n",
       "      <th>kitchen_area</th>\n",
       "      <th>balcony</th>\n",
       "      <th>locality_name</th>\n",
       "      <th>airports_nearest</th>\n",
       "      <th>cityCenters_nearest</th>\n",
       "      <th>parks_around3000</th>\n",
       "      <th>parks_nearest</th>\n",
       "      <th>ponds_around3000</th>\n",
       "      <th>ponds_nearest</th>\n",
       "      <th>days_exposition</th>\n",
       "    </tr>\n",
       "  </thead>\n",
       "  <tbody>\n",
       "    <tr>\n",
       "      <th>0</th>\n",
       "      <td>20</td>\n",
       "      <td>13,000,000.0000</td>\n",
       "      <td>108.0000</td>\n",
       "      <td>2019-03-07T00:00:00</td>\n",
       "      <td>3</td>\n",
       "      <td>2.7000</td>\n",
       "      <td>16.0000</td>\n",
       "      <td>51.0000</td>\n",
       "      <td>8</td>\n",
       "      <td>NaN</td>\n",
       "      <td>...</td>\n",
       "      <td>25.0000</td>\n",
       "      <td>NaN</td>\n",
       "      <td>Санкт-Петербург</td>\n",
       "      <td>18,863.0000</td>\n",
       "      <td>16,028.0000</td>\n",
       "      <td>1.0000</td>\n",
       "      <td>482.0000</td>\n",
       "      <td>2.0000</td>\n",
       "      <td>755.0000</td>\n",
       "      <td>NaN</td>\n",
       "    </tr>\n",
       "    <tr>\n",
       "      <th>1</th>\n",
       "      <td>7</td>\n",
       "      <td>3,350,000.0000</td>\n",
       "      <td>40.4000</td>\n",
       "      <td>2018-12-04T00:00:00</td>\n",
       "      <td>1</td>\n",
       "      <td>NaN</td>\n",
       "      <td>11.0000</td>\n",
       "      <td>18.6000</td>\n",
       "      <td>1</td>\n",
       "      <td>NaN</td>\n",
       "      <td>...</td>\n",
       "      <td>11.0000</td>\n",
       "      <td>2.0000</td>\n",
       "      <td>посёлок Шушары</td>\n",
       "      <td>12,817.0000</td>\n",
       "      <td>18,603.0000</td>\n",
       "      <td>0.0000</td>\n",
       "      <td>NaN</td>\n",
       "      <td>0.0000</td>\n",
       "      <td>NaN</td>\n",
       "      <td>81.0000</td>\n",
       "    </tr>\n",
       "    <tr>\n",
       "      <th>2</th>\n",
       "      <td>10</td>\n",
       "      <td>5,196,000.0000</td>\n",
       "      <td>56.0000</td>\n",
       "      <td>2015-08-20T00:00:00</td>\n",
       "      <td>2</td>\n",
       "      <td>NaN</td>\n",
       "      <td>5.0000</td>\n",
       "      <td>34.3000</td>\n",
       "      <td>4</td>\n",
       "      <td>NaN</td>\n",
       "      <td>...</td>\n",
       "      <td>8.3000</td>\n",
       "      <td>0.0000</td>\n",
       "      <td>Санкт-Петербург</td>\n",
       "      <td>21,741.0000</td>\n",
       "      <td>13,933.0000</td>\n",
       "      <td>1.0000</td>\n",
       "      <td>90.0000</td>\n",
       "      <td>2.0000</td>\n",
       "      <td>574.0000</td>\n",
       "      <td>558.0000</td>\n",
       "    </tr>\n",
       "    <tr>\n",
       "      <th>3</th>\n",
       "      <td>0</td>\n",
       "      <td>64,900,000.0000</td>\n",
       "      <td>159.0000</td>\n",
       "      <td>2015-07-24T00:00:00</td>\n",
       "      <td>3</td>\n",
       "      <td>NaN</td>\n",
       "      <td>14.0000</td>\n",
       "      <td>NaN</td>\n",
       "      <td>9</td>\n",
       "      <td>NaN</td>\n",
       "      <td>...</td>\n",
       "      <td>NaN</td>\n",
       "      <td>0.0000</td>\n",
       "      <td>Санкт-Петербург</td>\n",
       "      <td>28,098.0000</td>\n",
       "      <td>6,800.0000</td>\n",
       "      <td>2.0000</td>\n",
       "      <td>84.0000</td>\n",
       "      <td>3.0000</td>\n",
       "      <td>234.0000</td>\n",
       "      <td>424.0000</td>\n",
       "    </tr>\n",
       "    <tr>\n",
       "      <th>4</th>\n",
       "      <td>2</td>\n",
       "      <td>10,000,000.0000</td>\n",
       "      <td>100.0000</td>\n",
       "      <td>2018-06-19T00:00:00</td>\n",
       "      <td>2</td>\n",
       "      <td>3.0300</td>\n",
       "      <td>14.0000</td>\n",
       "      <td>32.0000</td>\n",
       "      <td>13</td>\n",
       "      <td>NaN</td>\n",
       "      <td>...</td>\n",
       "      <td>41.0000</td>\n",
       "      <td>NaN</td>\n",
       "      <td>Санкт-Петербург</td>\n",
       "      <td>31,856.0000</td>\n",
       "      <td>8,098.0000</td>\n",
       "      <td>2.0000</td>\n",
       "      <td>112.0000</td>\n",
       "      <td>1.0000</td>\n",
       "      <td>48.0000</td>\n",
       "      <td>121.0000</td>\n",
       "    </tr>\n",
       "  </tbody>\n",
       "</table>\n",
       "<p>5 rows × 22 columns</p>\n",
       "</div>"
      ],
      "text/plain": [
       "   total_images      last_price  total_area first_day_exposition  rooms  \\\n",
       "0            20 13,000,000.0000    108.0000  2019-03-07T00:00:00      3   \n",
       "1             7  3,350,000.0000     40.4000  2018-12-04T00:00:00      1   \n",
       "2            10  5,196,000.0000     56.0000  2015-08-20T00:00:00      2   \n",
       "3             0 64,900,000.0000    159.0000  2015-07-24T00:00:00      3   \n",
       "4             2 10,000,000.0000    100.0000  2018-06-19T00:00:00      2   \n",
       "\n",
       "   ceiling_height  floors_total  living_area  floor is_apartment  ...  \\\n",
       "0          2.7000       16.0000      51.0000      8          NaN  ...   \n",
       "1             NaN       11.0000      18.6000      1          NaN  ...   \n",
       "2             NaN        5.0000      34.3000      4          NaN  ...   \n",
       "3             NaN       14.0000          NaN      9          NaN  ...   \n",
       "4          3.0300       14.0000      32.0000     13          NaN  ...   \n",
       "\n",
       "   kitchen_area  balcony    locality_name  airports_nearest  \\\n",
       "0       25.0000      NaN  Санкт-Петербург       18,863.0000   \n",
       "1       11.0000   2.0000   посёлок Шушары       12,817.0000   \n",
       "2        8.3000   0.0000  Санкт-Петербург       21,741.0000   \n",
       "3           NaN   0.0000  Санкт-Петербург       28,098.0000   \n",
       "4       41.0000      NaN  Санкт-Петербург       31,856.0000   \n",
       "\n",
       "  cityCenters_nearest  parks_around3000  parks_nearest  ponds_around3000  \\\n",
       "0         16,028.0000            1.0000       482.0000            2.0000   \n",
       "1         18,603.0000            0.0000            NaN            0.0000   \n",
       "2         13,933.0000            1.0000        90.0000            2.0000   \n",
       "3          6,800.0000            2.0000        84.0000            3.0000   \n",
       "4          8,098.0000            2.0000       112.0000            1.0000   \n",
       "\n",
       "   ponds_nearest  days_exposition  \n",
       "0       755.0000              NaN  \n",
       "1            NaN          81.0000  \n",
       "2       574.0000         558.0000  \n",
       "3       234.0000         424.0000  \n",
       "4        48.0000         121.0000  \n",
       "\n",
       "[5 rows x 22 columns]"
      ]
     },
     "execution_count": 4,
     "metadata": {},
     "output_type": "execute_result"
    }
   ],
   "source": [
    "data.head()"
   ]
  },
  {
   "cell_type": "code",
   "execution_count": 5,
   "metadata": {},
   "outputs": [
    {
     "data": {
      "image/png": "[encoded data removed]",
      "text/plain": [
       "<Figure size 1080x1440 with 20 Axes>"
      ]
     },
     "metadata": {
      "needs_background": "light"
     },
     "output_type": "display_data"
    }
   ],
   "source": [
    "data.hist(figsize=(15,20))\n",
    "plt.show()"
   ]
  },
  {
   "cell_type": "code",
   "execution_count": 6,
   "metadata": {},
   "outputs": [
    {
     "data": {
      "text/plain": [
       "Index(['total_images', 'last_price', 'total_area', 'first_day_exposition',\n",
       "       'rooms', 'ceiling_height', 'floors_total', 'living_area', 'floor',\n",
       "       'is_apartment', 'studio', 'open_plan', 'kitchen_area', 'balcony',\n",
       "       'locality_name', 'airports_nearest', 'citycenters_nearest',\n",
       "       'parks_around3000', 'parks_nearest', 'ponds_around3000',\n",
       "       'ponds_nearest', 'days_exposition'],\n",
       "      dtype='object')"
      ]
     },
     "execution_count": 6,
     "metadata": {},
     "output_type": "execute_result"
    }
   ],
   "source": [
    "data.rename(columns={'cityCenters_nearest': 'citycenters_nearest'}, inplace=True)\n",
    "data.columns"
   ]
  },
  {
   "cell_type": "markdown",
   "metadata": {},
   "source": [
    "**Вывод** <br>\n",
    "В датасете 23699 наблюдений и 22 признака. <br>\n",
    "По некоторым признакам присутствуют выбросы <br>\n",
    "Исходя из гистограмм, на многих признаках распределение имеет правый \"хвост\", что вписывается в здравый смысл: например, для признака total_floors это просто означает, что малоэтажного жилья просто больше, чем высокоэтажного."
   ]
  },
  {
   "cell_type": "markdown",
   "metadata": {},
   "source": [
    "### Предобработка данных"
   ]
  },
  {
   "cell_type": "code",
   "execution_count": 7,
   "metadata": {},
   "outputs": [
    {
     "data": {
      "text/plain": [
       "is_apartment           0.8829\n",
       "parks_nearest          0.6591\n",
       "ponds_nearest          0.6156\n",
       "balcony                0.4861\n",
       "ceiling_height         0.3880\n",
       "airports_nearest       0.2338\n",
       "citycenters_nearest    0.2329\n",
       "ponds_around3000       0.2328\n",
       "parks_around3000       0.2328\n",
       "days_exposition        0.1342\n",
       "kitchen_area           0.0961\n",
       "living_area            0.0803\n",
       "floors_total           0.0036\n",
       "locality_name          0.0021\n",
       "total_images           0.0000\n",
       "last_price             0.0000\n",
       "studio                 0.0000\n",
       "floor                  0.0000\n",
       "rooms                  0.0000\n",
       "first_day_exposition   0.0000\n",
       "total_area             0.0000\n",
       "open_plan              0.0000\n",
       "dtype: float64"
      ]
     },
     "execution_count": 7,
     "metadata": {},
     "output_type": "execute_result"
    }
   ],
   "source": [
    "(data.isna().sum() / data_size).sort_values(ascending=False)"
   ]
  },
  {
   "cell_type": "markdown",
   "metadata": {},
   "source": [
    "Мы нашли и посчитали пропуски, далее начнем разбираться с ними по отсортированному списку."
   ]
  },
  {
   "cell_type": "markdown",
   "metadata": {},
   "source": [
    "<b>is_apartment</b>"
   ]
  },
  {
   "cell_type": "code",
   "execution_count": 8,
   "metadata": {},
   "outputs": [
    {
     "data": {
      "text/plain": [
       "dtype('O')"
      ]
     },
     "execution_count": 8,
     "metadata": {},
     "output_type": "execute_result"
    }
   ],
   "source": [
    "data['is_apartment'].dtype"
   ]
  },
  {
   "cell_type": "code",
   "execution_count": 9,
   "metadata": {},
   "outputs": [
    {
     "data": {
      "text/html": [
       "<div>\n",
       "<style scoped>\n",
       "    .dataframe tbody tr th:only-of-type {\n",
       "        vertical-align: middle;\n",
       "    }\n",
       "\n",
       "    .dataframe tbody tr th {\n",
       "        vertical-align: top;\n",
       "    }\n",
       "\n",
       "    .dataframe thead tr th {\n",
       "        text-align: left;\n",
       "    }\n",
       "\n",
       "    .dataframe thead tr:last-of-type th {\n",
       "        text-align: right;\n",
       "    }\n",
       "</style>\n",
       "<table border=\"1\" class=\"dataframe\">\n",
       "  <thead>\n",
       "    <tr>\n",
       "      <th></th>\n",
       "      <th>median</th>\n",
       "      <th>count</th>\n",
       "      <th>std</th>\n",
       "    </tr>\n",
       "    <tr>\n",
       "      <th></th>\n",
       "      <th>last_price</th>\n",
       "      <th>last_price</th>\n",
       "      <th>last_price</th>\n",
       "    </tr>\n",
       "    <tr>\n",
       "      <th>is_apartment</th>\n",
       "      <th></th>\n",
       "      <th></th>\n",
       "      <th></th>\n",
       "    </tr>\n",
       "  </thead>\n",
       "  <tbody>\n",
       "    <tr>\n",
       "      <th>False</th>\n",
       "      <td>4,700,000.0000</td>\n",
       "      <td>2725</td>\n",
       "      <td>10,526,740.2538</td>\n",
       "    </tr>\n",
       "    <tr>\n",
       "      <th>True</th>\n",
       "      <td>6,900,000.0000</td>\n",
       "      <td>50</td>\n",
       "      <td>16,169,673.4481</td>\n",
       "    </tr>\n",
       "    <tr>\n",
       "      <th>None</th>\n",
       "      <td>4,600,000.0000</td>\n",
       "      <td>20924</td>\n",
       "      <td>10,913,775.3636</td>\n",
       "    </tr>\n",
       "  </tbody>\n",
       "</table>\n",
       "</div>"
      ],
      "text/plain": [
       "                     median      count             std\n",
       "                 last_price last_price      last_price\n",
       "is_apartment                                          \n",
       "False        4,700,000.0000       2725 10,526,740.2538\n",
       "True         6,900,000.0000         50 16,169,673.4481\n",
       "None         4,600,000.0000      20924 10,913,775.3636"
      ]
     },
     "execution_count": 9,
     "metadata": {},
     "output_type": "execute_result"
    }
   ],
   "source": [
    "data.fillna('None').pivot_table(index='is_apartment', values='last_price', aggfunc=['median', 'count', 'std'])"
   ]
  },
  {
   "cell_type": "code",
   "execution_count": 10,
   "metadata": {},
   "outputs": [
    {
     "data": {
      "text/plain": [
       "0"
      ]
     },
     "execution_count": 10,
     "metadata": {},
     "output_type": "execute_result"
    }
   ],
   "source": [
    "data['is_apartment'] = data['is_apartment'].fillna(False)\n",
    "data['is_apartment'].isna().sum()"
   ]
  },
  {
   "cell_type": "markdown",
   "metadata": {},
   "source": [
    "Медианная цена групп False и Nan и отклонение приблизительно соизмеримы. При этом для группы True значения сильно отличаются. Исходя из этих данных, а так же понимания, что апартаменты это достаточно редкая вещь на рынке недвижимости, заполняем пропуски значение False"
   ]
  },
  {
   "cell_type": "markdown",
   "metadata": {},
   "source": [
    "<b>parks_nearest</b> и <b>parks_around3000</b>"
   ]
  },
  {
   "cell_type": "code",
   "execution_count": 11,
   "metadata": {},
   "outputs": [
    {
     "data": {
      "image/png": "[encoded data removed]",
      "text/plain": [
       "<Figure size 432x288 with 1 Axes>"
      ]
     },
     "metadata": {
      "needs_background": "light"
     },
     "output_type": "display_data"
    },
    {
     "data": {
      "text/plain": [
       "count   8,079.0000\n",
       "mean      490.8046\n",
       "std       342.3180\n",
       "min         1.0000\n",
       "25%       288.0000\n",
       "50%       455.0000\n",
       "75%       612.0000\n",
       "max     3,190.0000\n",
       "Name: parks_nearest, dtype: float64"
      ]
     },
     "execution_count": 11,
     "metadata": {},
     "output_type": "execute_result"
    }
   ],
   "source": [
    "data.boxplot('parks_nearest')\n",
    "plt.show()\n",
    "data['parks_nearest'].describe()"
   ]
  },
  {
   "cell_type": "code",
   "execution_count": 12,
   "metadata": {},
   "outputs": [
    {
     "data": {
      "text/plain": [
       "0.0000    10106\n",
       "1.0000     5681\n",
       "2.0000     1747\n",
       "3.0000      647\n",
       "Name: parks_around3000, dtype: int64"
      ]
     },
     "execution_count": 12,
     "metadata": {},
     "output_type": "execute_result"
    }
   ],
   "source": [
    "data['parks_around3000'].value_counts()"
   ]
  },
  {
   "cell_type": "markdown",
   "metadata": {},
   "source": [
    "Для признака <b>parks_nearest</b> пропущено 66% данных. Данные находятся в диапазоне, который вполне соотносится с реальным миром - 3190 метров до ближайшего парка вполне реальное значение, так же как и 1 метр.<br>\n",
    "Признак <b>parks_around3000</b> по похож по смыслу, он описывает схожую характеристику, но имеет меньше пропусков. Доминирующая группа в нем - 0 парков в 3000 метрах, заполним пропуск по ней"
   ]
  },
  {
   "cell_type": "code",
   "execution_count": 13,
   "metadata": {},
   "outputs": [
    {
     "data": {
      "text/plain": [
       "0"
      ]
     },
     "execution_count": 13,
     "metadata": {},
     "output_type": "execute_result"
    }
   ],
   "source": [
    "data['parks_around3000'] = data['parks_around3000'].fillna(0)\n",
    "data['parks_around3000'].isna().sum()"
   ]
  },
  {
   "cell_type": "markdown",
   "metadata": {},
   "source": [
    "Проверим количество наблюдений, у которых признак <b>parks_nearest</b> пуст, при этом <b>parks_around3000</b> = 0. "
   ]
  },
  {
   "cell_type": "code",
   "execution_count": 14,
   "metadata": {},
   "outputs": [
    {
     "data": {
      "text/plain": [
       "15620"
      ]
     },
     "execution_count": 14,
     "metadata": {},
     "output_type": "execute_result"
    }
   ],
   "source": [
    "conditions = (data['parks_nearest'].isna()) & (data['parks_around3000']==0) # условие, озвученное выше\n",
    "data[conditions].shape[0]"
   ]
  },
  {
   "cell_type": "code",
   "execution_count": 15,
   "metadata": {},
   "outputs": [
    {
     "data": {
      "text/plain": [
       "15620"
      ]
     },
     "execution_count": 15,
     "metadata": {},
     "output_type": "execute_result"
    }
   ],
   "source": [
    "data['parks_nearest'].isna().sum()"
   ]
  },
  {
   "cell_type": "code",
   "execution_count": 16,
   "metadata": {},
   "outputs": [
    {
     "data": {
      "text/plain": [
       "23699"
      ]
     },
     "execution_count": 16,
     "metadata": {},
     "output_type": "execute_result"
    }
   ],
   "source": [
    "(conditions == data['parks_nearest'].isna()).sum()"
   ]
  },
  {
   "cell_type": "markdown",
   "metadata": {},
   "source": [
    "После манипуляций с <b>parks_around3000</b> мы получили, что 100% пропусков в столбце <b>parks_nearest</b> совпадает со значением <b>parks_around3000</b> = 0. Из этого мы можем сделать вывод, что пропуски можно заполнить максимальной дистанцией до парку плюс несколько метров"
   ]
  },
  {
   "cell_type": "code",
   "execution_count": 17,
   "metadata": {},
   "outputs": [
    {
     "data": {
      "text/plain": [
       "0"
      ]
     },
     "execution_count": 17,
     "metadata": {},
     "output_type": "execute_result"
    }
   ],
   "source": [
    "data.loc[conditions, 'parks_nearest'] = 3050\n",
    "data['parks_nearest'].isna().sum()"
   ]
  },
  {
   "cell_type": "code",
   "execution_count": 18,
   "metadata": {},
   "outputs": [],
   "source": [
    "data[['parks_nearest', 'parks_around3000']] = data[['parks_nearest', 'parks_around3000']].astype('int32')"
   ]
  },
  {
   "cell_type": "markdown",
   "metadata": {},
   "source": [
    "<b>ponds_nearest</b> и <b>ponds_around3000</b> <br>\n",
    "Повторим такую же логику для прудов"
   ]
  },
  {
   "cell_type": "code",
   "execution_count": 19,
   "metadata": {},
   "outputs": [
    {
     "data": {
      "image/png": "[encoded data removed]",
      "text/plain": [
       "<Figure size 432x288 with 1 Axes>"
      ]
     },
     "metadata": {
      "needs_background": "light"
     },
     "output_type": "display_data"
    },
    {
     "data": {
      "text/plain": [
       "count   9,110.0000\n",
       "mean      517.9809\n",
       "std       277.7206\n",
       "min        13.0000\n",
       "25%       294.0000\n",
       "50%       502.0000\n",
       "75%       729.0000\n",
       "max     1,344.0000\n",
       "Name: ponds_nearest, dtype: float64"
      ]
     },
     "execution_count": 19,
     "metadata": {},
     "output_type": "execute_result"
    }
   ],
   "source": [
    "data.boxplot('ponds_nearest')\n",
    "plt.show()\n",
    "data['ponds_nearest'].describe()"
   ]
  },
  {
   "cell_type": "code",
   "execution_count": 20,
   "metadata": {},
   "outputs": [
    {
     "data": {
      "text/plain": [
       "0.0000    9071\n",
       "1.0000    5717\n",
       "2.0000    1892\n",
       "3.0000    1501\n",
       "Name: ponds_around3000, dtype: int64"
      ]
     },
     "execution_count": 20,
     "metadata": {},
     "output_type": "execute_result"
    }
   ],
   "source": [
    "data['ponds_around3000'].value_counts()"
   ]
  },
  {
   "cell_type": "code",
   "execution_count": 21,
   "metadata": {},
   "outputs": [
    {
     "data": {
      "text/plain": [
       "0"
      ]
     },
     "execution_count": 21,
     "metadata": {},
     "output_type": "execute_result"
    }
   ],
   "source": [
    "data['ponds_around3000'] = data['ponds_around3000'].fillna(0)\n",
    "data['ponds_around3000'].isna().sum()"
   ]
  },
  {
   "cell_type": "code",
   "execution_count": 22,
   "metadata": {},
   "outputs": [
    {
     "data": {
      "text/plain": [
       "14589"
      ]
     },
     "execution_count": 22,
     "metadata": {},
     "output_type": "execute_result"
    }
   ],
   "source": [
    "conditions = (data['ponds_nearest'].isna()) & (data['ponds_around3000']==0) # условие, озвученное выше\n",
    "data[conditions].shape[0]"
   ]
  },
  {
   "cell_type": "code",
   "execution_count": 23,
   "metadata": {},
   "outputs": [
    {
     "data": {
      "text/plain": [
       "14589"
      ]
     },
     "execution_count": 23,
     "metadata": {},
     "output_type": "execute_result"
    }
   ],
   "source": [
    "data['ponds_nearest'].isna().sum()"
   ]
  },
  {
   "cell_type": "code",
   "execution_count": 24,
   "metadata": {},
   "outputs": [
    {
     "data": {
      "text/plain": [
       "23699"
      ]
     },
     "execution_count": 24,
     "metadata": {},
     "output_type": "execute_result"
    }
   ],
   "source": [
    "(conditions == data['ponds_nearest'].isna()).sum()"
   ]
  },
  {
   "cell_type": "code",
   "execution_count": 25,
   "metadata": {},
   "outputs": [
    {
     "data": {
      "text/plain": [
       "0"
      ]
     },
     "execution_count": 25,
     "metadata": {},
     "output_type": "execute_result"
    }
   ],
   "source": [
    "data.loc[conditions, 'ponds_nearest'] = 3050\n",
    "data['ponds_nearest'].isna().sum()"
   ]
  },
  {
   "cell_type": "code",
   "execution_count": 26,
   "metadata": {},
   "outputs": [],
   "source": [
    "data[['ponds_nearest', 'ponds_around3000']] = data[['ponds_nearest', 'ponds_around3000']].astype('int32')"
   ]
  },
  {
   "cell_type": "markdown",
   "metadata": {},
   "source": [
    "<b>balcony</b>"
   ]
  },
  {
   "cell_type": "code",
   "execution_count": 27,
   "metadata": {},
   "outputs": [
    {
     "data": {
      "text/plain": [
       "1.0000    4195\n",
       "0.0000    3758\n",
       "2.0000    3659\n",
       "5.0000     304\n",
       "4.0000     183\n",
       "3.0000      81\n",
       "Name: balcony, dtype: int64"
      ]
     },
     "execution_count": 27,
     "metadata": {},
     "output_type": "execute_result"
    }
   ],
   "source": [
    "data['balcony'].value_counts()"
   ]
  },
  {
   "cell_type": "code",
   "execution_count": 28,
   "metadata": {},
   "outputs": [
    {
     "data": {
      "text/html": [
       "<div>\n",
       "<style scoped>\n",
       "    .dataframe tbody tr th:only-of-type {\n",
       "        vertical-align: middle;\n",
       "    }\n",
       "\n",
       "    .dataframe tbody tr th {\n",
       "        vertical-align: top;\n",
       "    }\n",
       "\n",
       "    .dataframe thead tr th {\n",
       "        text-align: left;\n",
       "    }\n",
       "\n",
       "    .dataframe thead tr:last-of-type th {\n",
       "        text-align: right;\n",
       "    }\n",
       "</style>\n",
       "<table border=\"1\" class=\"dataframe\">\n",
       "  <thead>\n",
       "    <tr>\n",
       "      <th></th>\n",
       "      <th>median</th>\n",
       "      <th>count</th>\n",
       "    </tr>\n",
       "    <tr>\n",
       "      <th></th>\n",
       "      <th>last_price</th>\n",
       "      <th>last_price</th>\n",
       "    </tr>\n",
       "    <tr>\n",
       "      <th>balcony</th>\n",
       "      <th></th>\n",
       "      <th></th>\n",
       "    </tr>\n",
       "  </thead>\n",
       "  <tbody>\n",
       "    <tr>\n",
       "      <th>0.0</th>\n",
       "      <td>4,400,000.0000</td>\n",
       "      <td>3758</td>\n",
       "    </tr>\n",
       "    <tr>\n",
       "      <th>1.0</th>\n",
       "      <td>4,395,000.0000</td>\n",
       "      <td>4195</td>\n",
       "    </tr>\n",
       "    <tr>\n",
       "      <th>2.0</th>\n",
       "      <td>4,700,000.0000</td>\n",
       "      <td>3659</td>\n",
       "    </tr>\n",
       "    <tr>\n",
       "      <th>3.0</th>\n",
       "      <td>6,500,000.0000</td>\n",
       "      <td>81</td>\n",
       "    </tr>\n",
       "    <tr>\n",
       "      <th>4.0</th>\n",
       "      <td>6,999,000.0000</td>\n",
       "      <td>183</td>\n",
       "    </tr>\n",
       "    <tr>\n",
       "      <th>5.0</th>\n",
       "      <td>6,800,000.0000</td>\n",
       "      <td>304</td>\n",
       "    </tr>\n",
       "    <tr>\n",
       "      <th>None</th>\n",
       "      <td>4,700,000.0000</td>\n",
       "      <td>11519</td>\n",
       "    </tr>\n",
       "  </tbody>\n",
       "</table>\n",
       "</div>"
      ],
      "text/plain": [
       "                median      count\n",
       "            last_price last_price\n",
       "balcony                          \n",
       "0.0     4,400,000.0000       3758\n",
       "1.0     4,395,000.0000       4195\n",
       "2.0     4,700,000.0000       3659\n",
       "3.0     6,500,000.0000         81\n",
       "4.0     6,999,000.0000        183\n",
       "5.0     6,800,000.0000        304\n",
       "None    4,700,000.0000      11519"
      ]
     },
     "execution_count": 28,
     "metadata": {},
     "output_type": "execute_result"
    }
   ],
   "source": [
    "data.fillna('None').pivot_table(index='balcony', values='last_price', aggfunc=['median', 'count'])"
   ]
  },
  {
   "cell_type": "code",
   "execution_count": 29,
   "metadata": {},
   "outputs": [],
   "source": [
    "data['balcony'] = data['balcony'].fillna(0)"
   ]
  },
  {
   "cell_type": "markdown",
   "metadata": {},
   "source": [
    "До данному признаку у нас 49% пропусков. Скорее всего, данные не заполнялись, если балкон отсутствует. В противном случае восстановить истинное значение признака проблематично"
   ]
  },
  {
   "cell_type": "markdown",
   "metadata": {},
   "source": [
    "<b>ceiling_height</b>"
   ]
  },
  {
   "cell_type": "code",
   "execution_count": 30,
   "metadata": {},
   "outputs": [
    {
     "data": {
      "text/plain": [
       "count   14,504.0000\n",
       "mean         2.7715\n",
       "std          1.2611\n",
       "min          1.0000\n",
       "25%          2.5200\n",
       "50%          2.6500\n",
       "75%          2.8000\n",
       "max        100.0000\n",
       "Name: ceiling_height, dtype: float64"
      ]
     },
     "execution_count": 30,
     "metadata": {},
     "output_type": "execute_result"
    }
   ],
   "source": [
    "data['ceiling_height'].describe()"
   ]
  },
  {
   "cell_type": "markdown",
   "metadata": {},
   "source": [
    "Мы видим не только пропуски до данному признаку, но и выбросы. Поэтому сначала избавимся от ошибок в данных, а потом уже заполним пропуски"
   ]
  },
  {
   "cell_type": "code",
   "execution_count": 31,
   "metadata": {},
   "outputs": [
    {
     "data": {
      "image/png": "[encoded data removed]",
      "text/plain": [
       "<Figure size 1296x360 with 1 Axes>"
      ]
     },
     "metadata": {
      "needs_background": "light"
     },
     "output_type": "display_data"
    }
   ],
   "source": [
    "# используем логарифмичесий масштаб, чтобы оценить выбросы\n",
    "data.hist('ceiling_height', range=(0, 100), bins=50, log=True, figsize=(18, 5))\n",
    "plt.xticks(range(0, 102, 2))\n",
    "plt.show()"
   ]
  },
  {
   "cell_type": "code",
   "execution_count": 32,
   "metadata": {},
   "outputs": [
    {
     "name": "stdout",
     "output_type": "stream",
     "text": [
      "Ниже 2.5:  73\n",
      "От 2.5 до 3:  11790\n",
      "От 3 до 4:  2527\n",
      "От 4 до 5:  77\n",
      "От 5 до 6:  7\n",
      "От 6 до 25:  10\n",
      "От 25 до 35:  19\n",
      "От 35:  1\n"
     ]
    }
   ],
   "source": [
    "print('Ниже 2.5: ', (data['ceiling_height']<2.5).sum())\n",
    "print('От 2.5 до 3: ', ((data['ceiling_height']<3) & (data['ceiling_height']>=2.5)).sum())\n",
    "print('От 3 до 4: ', ((data['ceiling_height']<4) & (data['ceiling_height']>=3)).sum())\n",
    "print('От 4 до 5: ', ((data['ceiling_height']<5) & (data['ceiling_height']>=4)).sum())\n",
    "print('От 5 до 6: ', ((data['ceiling_height']<6) & (data['ceiling_height']>=5)).sum())\n",
    "print('От 6 до 25: ', ((data['ceiling_height']<25) & (data['ceiling_height']>=6)).sum())\n",
    "print('От 25 до 35: ', ((data['ceiling_height']<35) & (data['ceiling_height']>=25)).sum())\n",
    "print('От 35: ', (data['ceiling_height']>=35).sum())"
   ]
  },
  {
   "cell_type": "code",
   "execution_count": 33,
   "metadata": {},
   "outputs": [
    {
     "name": "stdout",
     "output_type": "stream",
     "text": [
      "29201235.29411765\n",
      "23693168.83116883\n"
     ]
    }
   ],
   "source": [
    "#разница в средней цене присутствует\n",
    "print(data[(data['ceiling_height']<25) & (data['ceiling_height']>=5)]['last_price'].mean())\n",
    "print(data[(data['ceiling_height']<5) & (data['ceiling_height']>=4)]['last_price'].mean())\n"
   ]
  },
  {
   "cell_type": "markdown",
   "metadata": {},
   "source": [
    "В выводе выше мы приблизительно поделили значения признака на диапазоны, с которыми будем работать по индивидуальному сценарию:<br>\n",
    "Потолкам ниже 2.5 метров выставим значение 2.5, поскольку это минимальное значение для потолков в жилых помещениях. <br>\n",
    "Потолки от 2.5 до 5 метров оставим как. Погуглив, можно убедиться, что в элитном жилье бывают такие потолки. <br>\n",
    "Наблюдения со значением от 5 до 25 мы будем считать частью элитного жилья и выставим чуть выше 5, поскольку существует разница в средней цене данной группы, и группы между 4 и 5 метрами. <br>\n",
    "Диапазон между 25 и 35 будем считать ошибкой (по совету в инструкции к заданию), и разделим значение на 10\n",
    "Наблюдение с потолков выше 35 удалим\n"
   ]
  },
  {
   "cell_type": "code",
   "execution_count": 34,
   "metadata": {},
   "outputs": [],
   "source": [
    "def fix_ceiling_height(height):\n",
    "    '''\n",
    "    Функция получает высоту потолка и, при необходимости, возвращает исправленный вариант по условию\n",
    "    '''\n",
    "    if height < 2.5:\n",
    "        height = 2.5\n",
    "    elif height > 5 and height <= 25:\n",
    "        height = 5.5\n",
    "    elif height > 25 and height <= 35:\n",
    "        height /= 10\n",
    "    return height"
   ]
  },
  {
   "cell_type": "code",
   "execution_count": 35,
   "metadata": {},
   "outputs": [
    {
     "data": {
      "text/plain": [
       "count   14,503.0000\n",
       "mean         2.7306\n",
       "std          0.2922\n",
       "min          2.5000\n",
       "25%          2.5200\n",
       "50%          2.6500\n",
       "75%          2.8000\n",
       "max          5.5000\n",
       "Name: ceiling_height, dtype: float64"
      ]
     },
     "execution_count": 35,
     "metadata": {},
     "output_type": "execute_result"
    }
   ],
   "source": [
    "data = data.drop(data[data['ceiling_height']>35].index).reset_index(drop=True)\n",
    "data['ceiling_height'] = data['ceiling_height'].apply(fix_ceiling_height)\n",
    "data['ceiling_height'].describe()"
   ]
  },
  {
   "cell_type": "code",
   "execution_count": 36,
   "metadata": {},
   "outputs": [],
   "source": [
    "data['ceiling_height'] = data['ceiling_height'].fillna(data['ceiling_height'].mean())"
   ]
  },
  {
   "cell_type": "markdown",
   "metadata": {},
   "source": [
    "По данному признаку мы заполнили пустые значения средним по выборке. Квартира со слишком высоким потолком удалена из выборки"
   ]
  },
  {
   "cell_type": "markdown",
   "metadata": {},
   "source": [
    "<b>airports_nearest</b>"
   ]
  },
  {
   "cell_type": "code",
   "execution_count": 37,
   "metadata": {},
   "outputs": [
    {
     "data": {
      "text/plain": [
       "count   18,156.0000\n",
       "mean    28,793.3324\n",
       "std     12,631.1455\n",
       "min          0.0000\n",
       "25%     18,584.2500\n",
       "50%     26,726.0000\n",
       "75%     37,273.5000\n",
       "max     84,869.0000\n",
       "Name: airports_nearest, dtype: float64"
      ]
     },
     "execution_count": 37,
     "metadata": {},
     "output_type": "execute_result"
    },
    {
     "data": {
      "image/png": "[encoded data removed]",
      "text/plain": [
       "<Figure size 432x288 with 1 Axes>"
      ]
     },
     "metadata": {
      "needs_background": "light"
     },
     "output_type": "display_data"
    }
   ],
   "source": [
    "data['airports_nearest'].hist()\n",
    "data['airports_nearest'].describe()"
   ]
  },
  {
   "cell_type": "code",
   "execution_count": 38,
   "metadata": {},
   "outputs": [
    {
     "data": {
      "text/html": [
       "<div>\n",
       "<style scoped>\n",
       "    .dataframe tbody tr th:only-of-type {\n",
       "        vertical-align: middle;\n",
       "    }\n",
       "\n",
       "    .dataframe tbody tr th {\n",
       "        vertical-align: top;\n",
       "    }\n",
       "\n",
       "    .dataframe thead th {\n",
       "        text-align: right;\n",
       "    }\n",
       "</style>\n",
       "<table border=\"1\" class=\"dataframe\">\n",
       "  <thead>\n",
       "    <tr style=\"text-align: right;\">\n",
       "      <th></th>\n",
       "      <th>total_images</th>\n",
       "      <th>last_price</th>\n",
       "      <th>total_area</th>\n",
       "      <th>first_day_exposition</th>\n",
       "      <th>rooms</th>\n",
       "      <th>ceiling_height</th>\n",
       "      <th>floors_total</th>\n",
       "      <th>living_area</th>\n",
       "      <th>floor</th>\n",
       "      <th>is_apartment</th>\n",
       "      <th>...</th>\n",
       "      <th>kitchen_area</th>\n",
       "      <th>balcony</th>\n",
       "      <th>locality_name</th>\n",
       "      <th>airports_nearest</th>\n",
       "      <th>citycenters_nearest</th>\n",
       "      <th>parks_around3000</th>\n",
       "      <th>parks_nearest</th>\n",
       "      <th>ponds_around3000</th>\n",
       "      <th>ponds_nearest</th>\n",
       "      <th>days_exposition</th>\n",
       "    </tr>\n",
       "  </thead>\n",
       "  <tbody>\n",
       "    <tr>\n",
       "      <th>21085</th>\n",
       "      <td>0</td>\n",
       "      <td>7,000,000.0000</td>\n",
       "      <td>34.7000</td>\n",
       "      <td>2018-09-23T00:00:00</td>\n",
       "      <td>1</td>\n",
       "      <td>2.7000</td>\n",
       "      <td>9.0000</td>\n",
       "      <td>19.8000</td>\n",
       "      <td>3</td>\n",
       "      <td>False</td>\n",
       "      <td>...</td>\n",
       "      <td>6.0000</td>\n",
       "      <td>2.0000</td>\n",
       "      <td>Санкт-Петербург</td>\n",
       "      <td>0.0000</td>\n",
       "      <td>22,801.0000</td>\n",
       "      <td>0</td>\n",
       "      <td>3050</td>\n",
       "      <td>0</td>\n",
       "      <td>3050</td>\n",
       "      <td>60.0000</td>\n",
       "    </tr>\n",
       "  </tbody>\n",
       "</table>\n",
       "<p>1 rows × 22 columns</p>\n",
       "</div>"
      ],
      "text/plain": [
       "       total_images     last_price  total_area first_day_exposition  rooms  \\\n",
       "21085             0 7,000,000.0000     34.7000  2018-09-23T00:00:00      1   \n",
       "\n",
       "       ceiling_height  floors_total  living_area  floor  is_apartment  ...  \\\n",
       "21085          2.7000        9.0000      19.8000      3         False  ...   \n",
       "\n",
       "       kitchen_area  balcony    locality_name  airports_nearest  \\\n",
       "21085        6.0000   2.0000  Санкт-Петербург            0.0000   \n",
       "\n",
       "      citycenters_nearest  parks_around3000  parks_nearest  ponds_around3000  \\\n",
       "21085         22,801.0000                 0           3050                 0   \n",
       "\n",
       "       ponds_nearest  days_exposition  \n",
       "21085           3050          60.0000  \n",
       "\n",
       "[1 rows x 22 columns]"
      ]
     },
     "execution_count": 38,
     "metadata": {},
     "output_type": "execute_result"
    }
   ],
   "source": [
    "data[data['airports_nearest']<6000]"
   ]
  },
  {
   "cell_type": "code",
   "execution_count": 39,
   "metadata": {},
   "outputs": [],
   "source": [
    "data.loc[data['airports_nearest']<6000, 'airports_nearest'] = np.nan"
   ]
  },
  {
   "cell_type": "markdown",
   "metadata": {},
   "source": [
    "Значения достаточно правдоподобны, если сверить на карте расстояние от городов/поселков до Пулково. Беспокоят только пропуски и значение 0. Для заполнения пропусков кажется логичным сгруппировать расстояния по городу, вычислить для каждого среднее и заполнить пропуск в соответсвии с полученными значениями по группам. <br>\n",
    "Перед группировкой избавимся от неявных дубликатов"
   ]
  },
  {
   "cell_type": "code",
   "execution_count": 40,
   "metadata": {},
   "outputs": [],
   "source": [
    "data['locality_name'] = data['locality_name'].str.lower()\n",
    "data['locality_name'] = data['locality_name'].str.replace('ё', 'е')"
   ]
  },
  {
   "cell_type": "code",
   "execution_count": 41,
   "metadata": {},
   "outputs": [],
   "source": [
    "# без приведения к типу строки невозможно было осортировать список\n",
    "data['locality_name'] = data['locality_name'].astype('str')\n",
    "#sorted(data['locality_name'].unique()) #вывод закомментирован перед проверкой, слишком длинный список"
   ]
  },
  {
   "cell_type": "markdown",
   "metadata": {},
   "source": [
    "Основные возможные причины неявных дубликатов мы устранили. Потенциальные задвоениями между деревней, селом и поселком городского типа не исключены, но требуют ручной проверки. <br>\n",
    "Проверим, сколько пропуском мы сможем заполнить осознанно"
   ]
  },
  {
   "cell_type": "code",
   "execution_count": 42,
   "metadata": {},
   "outputs": [
    {
     "data": {
      "text/plain": [
       "679"
      ]
     },
     "execution_count": 42,
     "metadata": {},
     "output_type": "execute_result"
    }
   ],
   "source": [
    "# считаем среднее расстояние по городам, выдим количество наблюдений, где пропуск будет заполнен по среднему.\n",
    "airport_by_locality = data.groupby('locality_name')['airports_nearest'].transform('median')\n",
    "data['airports_nearest'].isna().sum() - airport_by_locality.isna().sum()"
   ]
  },
  {
   "cell_type": "code",
   "execution_count": 43,
   "metadata": {},
   "outputs": [],
   "source": [
    "data['airports_nearest'] = data['airports_nearest'].fillna(airport_by_locality)"
   ]
  },
  {
   "cell_type": "markdown",
   "metadata": {},
   "source": [
    "~Оставшиеся пропуски по расстоянию аэропортов встречаются в домах, которые находятся в деревнях и поселках, т.е. скорее всего это отдаленные пункты, поэтому данные по ним не заполняли. В рамках проекта заполним пропуски \"в лоб\", поставив значение чуть больше максимального.~ <br>\n",
    "Выборочная проверка оставшихся населенных пунктов показала, что там есть как дома за 100км от аэропорта, так и в районе 15-25. Заполнять будем средним до датафрейму, за исключением наблюдений из Санкт-Петербурга"
   ]
  },
  {
   "cell_type": "code",
   "execution_count": 44,
   "metadata": {},
   "outputs": [],
   "source": [
    "data['airports_nearest'] = data['airports_nearest']\\\n",
    "            .fillna(data[~(data['locality_name']=='санкт-петербург')]['airports_nearest'].mean())"
   ]
  },
  {
   "cell_type": "code",
   "execution_count": 45,
   "metadata": {},
   "outputs": [],
   "source": [
    "data['airports_nearest'] = data['airports_nearest'].astype('int32')"
   ]
  },
  {
   "cell_type": "markdown",
   "metadata": {},
   "source": [
    "Расстояние измеряется в метрах, хвосты из сантиметров можно смело убрать"
   ]
  },
  {
   "cell_type": "markdown",
   "metadata": {},
   "source": [
    "<div class=\"alert alert-block alert-success\">\n",
    " \n",
    "### Комментарий ревьюера\n",
    "    \n",
    "#### Успех\n",
    "    \n",
    "Снова хочу отметить, что пропуски ты прорабатываешь достаточно точечно. \n",
    "</div "
   ]
  },
  {
   "cell_type": "markdown",
   "metadata": {},
   "source": [
    "<b>citycenters_nearest</b>"
   ]
  },
  {
   "cell_type": "markdown",
   "metadata": {},
   "source": [
    "Здесь ситуация, аналогичная расстоянию до аэропортов. Более того, пропуск в столбце <b>citycenters_nearest</b> почти всегда совпадает с пропуском в столбце <b>airports_nearest</b>. Поэтому действовать будем аналогично."
   ]
  },
  {
   "cell_type": "code",
   "execution_count": 46,
   "metadata": {},
   "outputs": [
    {
     "data": {
      "text/plain": [
       "count   18,179.0000\n",
       "mean    14,191.6028\n",
       "std      8,608.5114\n",
       "min        181.0000\n",
       "25%      9,238.0000\n",
       "50%     13,099.0000\n",
       "75%     16,293.0000\n",
       "max     65,968.0000\n",
       "Name: citycenters_nearest, dtype: float64"
      ]
     },
     "execution_count": 46,
     "metadata": {},
     "output_type": "execute_result"
    }
   ],
   "source": [
    "data['citycenters_nearest'].describe()"
   ]
  },
  {
   "cell_type": "code",
   "execution_count": 47,
   "metadata": {},
   "outputs": [
    {
     "data": {
      "text/plain": [
       "655"
      ]
     },
     "execution_count": 47,
     "metadata": {},
     "output_type": "execute_result"
    }
   ],
   "source": [
    "citycenters_by_locality = data.groupby('locality_name')['citycenters_nearest'].transform('median')\n",
    "data['citycenters_nearest'].isna().sum() - citycenters_by_locality.isna().sum()"
   ]
  },
  {
   "cell_type": "code",
   "execution_count": 48,
   "metadata": {},
   "outputs": [],
   "source": [
    "data['citycenters_nearest'] = data['citycenters_nearest'].fillna(citycenters_by_locality)\n",
    "data['citycenters_nearest'] = data['citycenters_nearest']\\\n",
    "            .fillna(data[~(data['locality_name']=='санкт-петербург')]['citycenters_nearest'].mean())"
   ]
  },
  {
   "cell_type": "code",
   "execution_count": 49,
   "metadata": {},
   "outputs": [],
   "source": [
    "data['citycenters_nearest']= data['citycenters_nearest'].astype('int32')"
   ]
  },
  {
   "cell_type": "markdown",
   "metadata": {},
   "source": [
    "<b>days_exposition</b>"
   ]
  },
  {
   "cell_type": "code",
   "execution_count": 50,
   "metadata": {},
   "outputs": [
    {
     "data": {
      "image/png": "[encoded data removed]",
      "text/plain": [
       "<Figure size 1296x360 with 1 Axes>"
      ]
     },
     "metadata": {
      "needs_background": "light"
     },
     "output_type": "display_data"
    }
   ],
   "source": [
    "data.hist('days_exposition', range=(0, 1550), bins=150, figsize=(18, 5))\n",
    "plt.show()"
   ]
  },
  {
   "cell_type": "code",
   "execution_count": 51,
   "metadata": {},
   "outputs": [
    {
     "data": {
      "text/plain": [
       "8868128.817576565"
      ]
     },
     "execution_count": 51,
     "metadata": {},
     "output_type": "execute_result"
    }
   ],
   "source": [
    "data[data['days_exposition']>365*2]['last_price'].mean()"
   ]
  },
  {
   "cell_type": "code",
   "execution_count": 52,
   "metadata": {},
   "outputs": [
    {
     "data": {
      "text/plain": [
       "6166870.535110796"
      ]
     },
     "execution_count": 52,
     "metadata": {},
     "output_type": "execute_result"
    }
   ],
   "source": [
    "data[data['days_exposition']<=365*2]['last_price'].mean()"
   ]
  },
  {
   "cell_type": "markdown",
   "metadata": {},
   "source": [
    "Скорее всего большие значения это не оишбка в данных, а реальная ситуация дел, обусловленная сложностью конкретной сделки<br>\n",
    "Пропуск не может считаться признаком того, что сделка не закрыта, поскольку в признаке <b>last_price</b> нет пропусков. Заполним медианой"
   ]
  },
  {
   "cell_type": "code",
   "execution_count": 53,
   "metadata": {},
   "outputs": [],
   "source": [
    "#data['days_exposition'] = data['days_exposition'].fillna(data['days_exposition'].median())"
   ]
  },
  {
   "cell_type": "markdown",
   "metadata": {},
   "source": [
    "<b>living_area</b>"
   ]
  },
  {
   "cell_type": "code",
   "execution_count": 54,
   "metadata": {},
   "outputs": [
    {
     "data": {
      "image/png": "[encoded data removed]",
      "text/plain": [
       "<Figure size 1296x360 with 1 Axes>"
      ]
     },
     "metadata": {
      "needs_background": "light"
     },
     "output_type": "display_data"
    }
   ],
   "source": [
    "data.hist('living_area', range=(0, 400), bins=200, log=True, figsize=(18, 5))\n",
    "plt.xticks(range(0,400,10))\n",
    "plt.show()"
   ]
  },
  {
   "cell_type": "code",
   "execution_count": 55,
   "metadata": {},
   "outputs": [
    {
     "data": {
      "text/plain": [
       "count   31.0000\n",
       "mean     7.5161\n",
       "std      3.3354\n",
       "min      4.0000\n",
       "25%      5.5000\n",
       "50%      7.0000\n",
       "75%      7.5000\n",
       "max     19.0000\n",
       "Name: rooms, dtype: float64"
      ]
     },
     "execution_count": 55,
     "metadata": {},
     "output_type": "execute_result"
    }
   ],
   "source": [
    "data[data['living_area']>200]['rooms'].describe()"
   ]
  },
  {
   "cell_type": "code",
   "execution_count": 56,
   "metadata": {},
   "outputs": [
    {
     "data": {
      "text/plain": [
       "count   6,231.0000\n",
       "mean       36.0749\n",
       "std         6.3393\n",
       "min        12.0000\n",
       "25%        32.0000\n",
       "50%        35.4000\n",
       "75%        40.0000\n",
       "max       139.0000\n",
       "Name: total_area, dtype: float64"
      ]
     },
     "execution_count": 56,
     "metadata": {},
     "output_type": "execute_result"
    }
   ],
   "source": [
    "data[data['living_area']<20]['total_area'].describe()"
   ]
  },
  {
   "cell_type": "markdown",
   "metadata": {},
   "source": [
    "Слишком большые значения не кажутся ошибками в данных, поскольку количество комнат соответствует жилой площади площади. Однако в задании требуется избавиться от слишком больших значений."
   ]
  },
  {
   "cell_type": "code",
   "execution_count": 57,
   "metadata": {},
   "outputs": [],
   "source": [
    "data.drop(data[data['living_area']>220].index, inplace=True)"
   ]
  },
  {
   "cell_type": "markdown",
   "metadata": {},
   "source": [
    "С аномально маленькими значения чуть сложнее. Total_area имеет нормальные (с точки зрения здравого смысла) значения там, где living_area кажется нереалистичным. Возможно, я ошибочно интерпретирую этот признак как площадь комнаты и требуется уточнение, что действительно имеется здесь ввиду."
   ]
  },
  {
   "cell_type": "code",
   "execution_count": 58,
   "metadata": {},
   "outputs": [],
   "source": [
    "data['living_area'] = data['living_area'].fillna(data['living_area'].median())"
   ]
  },
  {
   "cell_type": "markdown",
   "metadata": {},
   "source": [
    "<b>kitchen_area</b>"
   ]
  },
  {
   "cell_type": "code",
   "execution_count": 59,
   "metadata": {},
   "outputs": [
    {
     "data": {
      "image/png": "[encoded data removed]",
      "text/plain": [
       "<Figure size 1296x360 with 1 Axes>"
      ]
     },
     "metadata": {
      "needs_background": "light"
     },
     "output_type": "display_data"
    }
   ],
   "source": [
    "data.hist('kitchen_area', range=(0, 120), bins=120, log=True, figsize=(18, 5))\n",
    "plt.xticks(range(0,120,3))\n",
    "plt.show()"
   ]
  },
  {
   "cell_type": "code",
   "execution_count": 60,
   "metadata": {},
   "outputs": [
    {
     "data": {
      "text/plain": [
       "count    20.0000\n",
       "mean    192.7550\n",
       "std      61.2482\n",
       "min     118.0000\n",
       "25%     149.0000\n",
       "50%     175.9500\n",
       "75%     234.9250\n",
       "max     310.0000\n",
       "Name: total_area, dtype: float64"
      ]
     },
     "execution_count": 60,
     "metadata": {},
     "output_type": "execute_result"
    }
   ],
   "source": [
    "data[(data['kitchen_area']>60)]['total_area'].describe()"
   ]
  },
  {
   "cell_type": "markdown",
   "metadata": {},
   "source": [
    "Большие объемы кухни вполне себе укладываются в ту же логику, что и большая жилая площать - это не ошибки в данных\n",
    "\n"
   ]
  },
  {
   "cell_type": "code",
   "execution_count": 61,
   "metadata": {},
   "outputs": [],
   "source": [
    "kitchen_to_total_ratio = data['kitchen_area'].mean() / data['total_area'].mean()"
   ]
  },
  {
   "cell_type": "code",
   "execution_count": 62,
   "metadata": {},
   "outputs": [],
   "source": [
    "data['kitchen_area'] = data['kitchen_area'].fillna(data['total_area'] * kitchen_to_total_ratio)"
   ]
  },
  {
   "cell_type": "code",
   "execution_count": 63,
   "metadata": {},
   "outputs": [],
   "source": [
    "data.drop(data[data['kitchen_area'] > 66].index, inplace=True)"
   ]
  },
  {
   "cell_type": "markdown",
   "metadata": {},
   "source": [
    "Посчитаем среднее соотношение размера кухни к общей площади, с помощью него заполним пропуски. Таким же способ можно было бы заполнить и living_area. Наверное, так было бы правильнее, потому что мы заполняем пропуск, основываясь на достоверной информации по данному наблюдению, а не просто по среднему."
   ]
  },
  {
   "cell_type": "markdown",
   "metadata": {},
   "source": [
    "<b>floors_total</b>"
   ]
  },
  {
   "cell_type": "code",
   "execution_count": 64,
   "metadata": {},
   "outputs": [
    {
     "data": {
      "image/png": "[encoded data removed]",
      "text/plain": [
       "<Figure size 1296x360 with 1 Axes>"
      ]
     },
     "metadata": {
      "needs_background": "light"
     },
     "output_type": "display_data"
    }
   ],
   "source": [
    "data['floors_total'].hist(bins=60, figsize=(18, 5))\n",
    "plt.show()"
   ]
  },
  {
   "cell_type": "markdown",
   "metadata": {},
   "source": [
    "Предлагаю следующий способ заполнения: <br>\n",
    "если этаж квартиры <9 - считаем что дом 9 этажей. Если больше - то дом на один этаж выше, чем распологается квартира <br>\n",
    "один этаж мы добавляем, потому что вероятность того, что квартиры на последнем этаже ниже, чем не на последнем."
   ]
  },
  {
   "cell_type": "code",
   "execution_count": 65,
   "metadata": {},
   "outputs": [],
   "source": [
    "def fill_floors_total(floor):\n",
    "    if floor < 9:\n",
    "        return 9\n",
    "    else:\n",
    "        return floor + 1"
   ]
  },
  {
   "cell_type": "code",
   "execution_count": 66,
   "metadata": {},
   "outputs": [],
   "source": [
    "data['floors_total'] = data['floors_total'].fillna(data['floor'].apply(fill_floors_total))"
   ]
  },
  {
   "cell_type": "code",
   "execution_count": 67,
   "metadata": {},
   "outputs": [],
   "source": [
    "data['floors_total'] = data['floors_total'].astype('int32')"
   ]
  },
  {
   "cell_type": "markdown",
   "metadata": {},
   "source": [
    "<b>floor</b>"
   ]
  },
  {
   "cell_type": "code",
   "execution_count": 68,
   "metadata": {},
   "outputs": [
    {
     "data": {
      "text/plain": [
       "<AxesSubplot:>"
      ]
     },
     "execution_count": 68,
     "metadata": {},
     "output_type": "execute_result"
    },
    {
     "data": {
      "image/png": "[encoded data removed]",
      "text/plain": [
       "<Figure size 432x288 with 1 Axes>"
      ]
     },
     "metadata": {
      "needs_background": "light"
     },
     "output_type": "display_data"
    }
   ],
   "source": [
    "data['floor'].hist(bins=20)"
   ]
  },
  {
   "cell_type": "markdown",
   "metadata": {},
   "source": [
    "выбросов нет, тип данных верных"
   ]
  },
  {
   "cell_type": "markdown",
   "metadata": {},
   "source": [
    "<b>open_plan</b>"
   ]
  },
  {
   "cell_type": "code",
   "execution_count": 69,
   "metadata": {},
   "outputs": [
    {
     "data": {
      "text/plain": [
       "False    23590\n",
       "True        67\n",
       "Name: open_plan, dtype: int64"
      ]
     },
     "execution_count": 69,
     "metadata": {},
     "output_type": "execute_result"
    }
   ],
   "source": [
    "data['open_plan'].value_counts()"
   ]
  },
  {
   "cell_type": "code",
   "execution_count": 70,
   "metadata": {},
   "outputs": [
    {
     "data": {
      "text/plain": [
       "dtype('bool')"
      ]
     },
     "execution_count": 70,
     "metadata": {},
     "output_type": "execute_result"
    }
   ],
   "source": [
    "data['open_plan'].dtypes"
   ]
  },
  {
   "cell_type": "markdown",
   "metadata": {},
   "source": [
    "вмешательство не требуется"
   ]
  },
  {
   "cell_type": "markdown",
   "metadata": {},
   "source": [
    "<b>rooms</b>"
   ]
  },
  {
   "cell_type": "code",
   "execution_count": 71,
   "metadata": {},
   "outputs": [
    {
     "data": {
      "text/plain": [
       "<AxesSubplot:>"
      ]
     },
     "execution_count": 71,
     "metadata": {},
     "output_type": "execute_result"
    },
    {
     "data": {
      "image/png": "[encoded data removed]",
      "text/plain": [
       "<Figure size 432x288 with 1 Axes>"
      ]
     },
     "metadata": {
      "needs_background": "light"
     },
     "output_type": "display_data"
    }
   ],
   "source": [
    "data['rooms'].hist()"
   ]
  },
  {
   "cell_type": "code",
   "execution_count": 72,
   "metadata": {},
   "outputs": [
    {
     "data": {
      "text/plain": [
       "dtype('int64')"
      ]
     },
     "execution_count": 72,
     "metadata": {},
     "output_type": "execute_result"
    }
   ],
   "source": [
    "data['rooms'].dtypes"
   ]
  },
  {
   "cell_type": "markdown",
   "metadata": {},
   "source": [
    "<b>studio</b>"
   ]
  },
  {
   "cell_type": "code",
   "execution_count": 73,
   "metadata": {},
   "outputs": [
    {
     "data": {
      "text/plain": [
       "False    23508\n",
       "True       149\n",
       "Name: studio, dtype: int64"
      ]
     },
     "execution_count": 73,
     "metadata": {},
     "output_type": "execute_result"
    }
   ],
   "source": [
    "data['studio'].value_counts()"
   ]
  },
  {
   "cell_type": "code",
   "execution_count": 74,
   "metadata": {},
   "outputs": [
    {
     "data": {
      "text/plain": [
       "dtype('bool')"
      ]
     },
     "execution_count": 74,
     "metadata": {},
     "output_type": "execute_result"
    }
   ],
   "source": [
    "data['studio'].dtypes"
   ]
  },
  {
   "cell_type": "markdown",
   "metadata": {},
   "source": [
    "<b>total_images</b>"
   ]
  },
  {
   "cell_type": "code",
   "execution_count": 75,
   "metadata": {},
   "outputs": [
    {
     "data": {
      "image/png": "[encoded data removed]",
      "text/plain": [
       "<Figure size 432x288 with 1 Axes>"
      ]
     },
     "metadata": {
      "needs_background": "light"
     },
     "output_type": "display_data"
    }
   ],
   "source": [
    "data['total_images'].hist()\n",
    "\n",
    "plt.show()"
   ]
  },
  {
   "cell_type": "code",
   "execution_count": 76,
   "metadata": {},
   "outputs": [
    {
     "data": {
      "text/plain": [
       "dtype('int64')"
      ]
     },
     "execution_count": 76,
     "metadata": {},
     "output_type": "execute_result"
    }
   ],
   "source": [
    "data['total_images'].dtypes"
   ]
  },
  {
   "cell_type": "markdown",
   "metadata": {},
   "source": [
    "<b>total_area</b>"
   ]
  },
  {
   "cell_type": "code",
   "execution_count": 77,
   "metadata": {},
   "outputs": [
    {
     "data": {
      "image/png": "[encoded data removed]",
      "text/plain": [
       "<Figure size 1296x360 with 1 Axes>"
      ]
     },
     "metadata": {
      "needs_background": "light"
     },
     "output_type": "display_data"
    }
   ],
   "source": [
    "data.hist('total_area', range=(0, 600), bins=120, log=True, figsize=(18, 5))\n",
    "plt.xticks(range(0,600,20))\n",
    "plt.show()"
   ]
  },
  {
   "cell_type": "code",
   "execution_count": 78,
   "metadata": {},
   "outputs": [
    {
     "data": {
      "text/html": [
       "<div>\n",
       "<style scoped>\n",
       "    .dataframe tbody tr th:only-of-type {\n",
       "        vertical-align: middle;\n",
       "    }\n",
       "\n",
       "    .dataframe tbody tr th {\n",
       "        vertical-align: top;\n",
       "    }\n",
       "\n",
       "    .dataframe thead th {\n",
       "        text-align: right;\n",
       "    }\n",
       "</style>\n",
       "<table border=\"1\" class=\"dataframe\">\n",
       "  <thead>\n",
       "    <tr style=\"text-align: right;\">\n",
       "      <th></th>\n",
       "      <th>total_images</th>\n",
       "      <th>last_price</th>\n",
       "      <th>total_area</th>\n",
       "      <th>first_day_exposition</th>\n",
       "      <th>rooms</th>\n",
       "      <th>ceiling_height</th>\n",
       "      <th>floors_total</th>\n",
       "      <th>living_area</th>\n",
       "      <th>floor</th>\n",
       "      <th>is_apartment</th>\n",
       "      <th>...</th>\n",
       "      <th>kitchen_area</th>\n",
       "      <th>balcony</th>\n",
       "      <th>locality_name</th>\n",
       "      <th>airports_nearest</th>\n",
       "      <th>citycenters_nearest</th>\n",
       "      <th>parks_around3000</th>\n",
       "      <th>parks_nearest</th>\n",
       "      <th>ponds_around3000</th>\n",
       "      <th>ponds_nearest</th>\n",
       "      <th>days_exposition</th>\n",
       "    </tr>\n",
       "  </thead>\n",
       "  <tbody>\n",
       "    <tr>\n",
       "      <th>14991</th>\n",
       "      <td>19</td>\n",
       "      <td>45,000,000.0000</td>\n",
       "      <td>413.5000</td>\n",
       "      <td>2018-09-20T00:00:00</td>\n",
       "      <td>7</td>\n",
       "      <td>2.7306</td>\n",
       "      <td>20</td>\n",
       "      <td>74.2000</td>\n",
       "      <td>18</td>\n",
       "      <td>False</td>\n",
       "      <td>...</td>\n",
       "      <td>13.9000</td>\n",
       "      <td>0.0000</td>\n",
       "      <td>санкт-петербург</td>\n",
       "      <td>18748</td>\n",
       "      <td>4341</td>\n",
       "      <td>0</td>\n",
       "      <td>3050</td>\n",
       "      <td>0</td>\n",
       "      <td>3050</td>\n",
       "      <td>182.0000</td>\n",
       "    </tr>\n",
       "    <tr>\n",
       "      <th>21955</th>\n",
       "      <td>19</td>\n",
       "      <td>130,000,000.0000</td>\n",
       "      <td>431.0000</td>\n",
       "      <td>2017-10-02T00:00:00</td>\n",
       "      <td>7</td>\n",
       "      <td>3.7000</td>\n",
       "      <td>8</td>\n",
       "      <td>220.0000</td>\n",
       "      <td>5</td>\n",
       "      <td>False</td>\n",
       "      <td>...</td>\n",
       "      <td>20.0000</td>\n",
       "      <td>5.0000</td>\n",
       "      <td>санкт-петербург</td>\n",
       "      <td>26757</td>\n",
       "      <td>12245</td>\n",
       "      <td>0</td>\n",
       "      <td>3050</td>\n",
       "      <td>0</td>\n",
       "      <td>3050</td>\n",
       "      <td>161.0000</td>\n",
       "    </tr>\n",
       "    <tr>\n",
       "      <th>6621</th>\n",
       "      <td>20</td>\n",
       "      <td>99,000,000.0000</td>\n",
       "      <td>488.0000</td>\n",
       "      <td>2017-04-09T00:00:00</td>\n",
       "      <td>5</td>\n",
       "      <td>2.9500</td>\n",
       "      <td>20</td>\n",
       "      <td>216.0000</td>\n",
       "      <td>17</td>\n",
       "      <td>False</td>\n",
       "      <td>...</td>\n",
       "      <td>50.0000</td>\n",
       "      <td>0.0000</td>\n",
       "      <td>санкт-петербург</td>\n",
       "      <td>27641</td>\n",
       "      <td>4598</td>\n",
       "      <td>1</td>\n",
       "      <td>646</td>\n",
       "      <td>1</td>\n",
       "      <td>368</td>\n",
       "      <td>351.0000</td>\n",
       "    </tr>\n",
       "    <tr>\n",
       "      <th>3117</th>\n",
       "      <td>19</td>\n",
       "      <td>140,000,000.0000</td>\n",
       "      <td>631.0000</td>\n",
       "      <td>2019-03-30T00:00:00</td>\n",
       "      <td>7</td>\n",
       "      <td>2.7306</td>\n",
       "      <td>5</td>\n",
       "      <td>30.0000</td>\n",
       "      <td>5</td>\n",
       "      <td>False</td>\n",
       "      <td>...</td>\n",
       "      <td>60.0000</td>\n",
       "      <td>0.0000</td>\n",
       "      <td>санкт-петербург</td>\n",
       "      <td>25707</td>\n",
       "      <td>4972</td>\n",
       "      <td>0</td>\n",
       "      <td>3050</td>\n",
       "      <td>2</td>\n",
       "      <td>210</td>\n",
       "      <td>NaN</td>\n",
       "    </tr>\n",
       "    <tr>\n",
       "      <th>10684</th>\n",
       "      <td>6</td>\n",
       "      <td>32,894,076.0000</td>\n",
       "      <td>364.7000</td>\n",
       "      <td>2019-05-02T00:00:00</td>\n",
       "      <td>7</td>\n",
       "      <td>3.3200</td>\n",
       "      <td>3</td>\n",
       "      <td>30.0000</td>\n",
       "      <td>1</td>\n",
       "      <td>False</td>\n",
       "      <td>...</td>\n",
       "      <td>64.0793</td>\n",
       "      <td>5.0000</td>\n",
       "      <td>санкт-петербург</td>\n",
       "      <td>26757</td>\n",
       "      <td>12245</td>\n",
       "      <td>0</td>\n",
       "      <td>3050</td>\n",
       "      <td>0</td>\n",
       "      <td>3050</td>\n",
       "      <td>NaN</td>\n",
       "    </tr>\n",
       "  </tbody>\n",
       "</table>\n",
       "<p>5 rows × 22 columns</p>\n",
       "</div>"
      ],
      "text/plain": [
       "       total_images       last_price  total_area first_day_exposition  rooms  \\\n",
       "14991            19  45,000,000.0000    413.5000  2018-09-20T00:00:00      7   \n",
       "21955            19 130,000,000.0000    431.0000  2017-10-02T00:00:00      7   \n",
       "6621             20  99,000,000.0000    488.0000  2017-04-09T00:00:00      5   \n",
       "3117             19 140,000,000.0000    631.0000  2019-03-30T00:00:00      7   \n",
       "10684             6  32,894,076.0000    364.7000  2019-05-02T00:00:00      7   \n",
       "\n",
       "       ceiling_height  floors_total  living_area  floor  is_apartment  ...  \\\n",
       "14991          2.7306            20      74.2000     18         False  ...   \n",
       "21955          3.7000             8     220.0000      5         False  ...   \n",
       "6621           2.9500            20     216.0000     17         False  ...   \n",
       "3117           2.7306             5      30.0000      5         False  ...   \n",
       "10684          3.3200             3      30.0000      1         False  ...   \n",
       "\n",
       "       kitchen_area  balcony    locality_name  airports_nearest  \\\n",
       "14991       13.9000   0.0000  санкт-петербург             18748   \n",
       "21955       20.0000   5.0000  санкт-петербург             26757   \n",
       "6621        50.0000   0.0000  санкт-петербург             27641   \n",
       "3117        60.0000   0.0000  санкт-петербург             25707   \n",
       "10684       64.0793   5.0000  санкт-петербург             26757   \n",
       "\n",
       "      citycenters_nearest  parks_around3000  parks_nearest  ponds_around3000  \\\n",
       "14991                4341                 0           3050                 0   \n",
       "21955               12245                 0           3050                 0   \n",
       "6621                 4598                 1            646                 1   \n",
       "3117                 4972                 0           3050                 2   \n",
       "10684               12245                 0           3050                 0   \n",
       "\n",
       "       ponds_nearest  days_exposition  \n",
       "14991           3050         182.0000  \n",
       "21955           3050         161.0000  \n",
       "6621             368         351.0000  \n",
       "3117             210              NaN  \n",
       "10684           3050              NaN  \n",
       "\n",
       "[5 rows x 22 columns]"
      ]
     },
     "execution_count": 78,
     "metadata": {},
     "output_type": "execute_result"
    }
   ],
   "source": [
    "data[data['total_area']>350].sample(frac=0.3)"
   ]
  },
  {
   "cell_type": "code",
   "execution_count": 79,
   "metadata": {},
   "outputs": [],
   "source": [
    "data.drop(data[data['total_area']>350].index, inplace=True)"
   ]
  },
  {
   "cell_type": "markdown",
   "metadata": {},
   "source": [
    "Удалим выбросы. Повторюсь, сложно определить, была ли ошибка в данных, либо перед нам просто дорогое жилье."
   ]
  },
  {
   "cell_type": "markdown",
   "metadata": {},
   "source": [
    "<b>last_price</b>"
   ]
  },
  {
   "cell_type": "code",
   "execution_count": 80,
   "metadata": {},
   "outputs": [
    {
     "data": {
      "text/plain": [
       "count        23,641.0000\n",
       "mean      6,310,432.1109\n",
       "std       7,826,497.6463\n",
       "min          12,190.0000\n",
       "25%       3,400,000.0000\n",
       "50%       4,620,000.0000\n",
       "75%       6,750,000.0000\n",
       "max     330,000,000.0000\n",
       "Name: last_price, dtype: float64"
      ]
     },
     "execution_count": 80,
     "metadata": {},
     "output_type": "execute_result"
    }
   ],
   "source": [
    "data['last_price'].describe()"
   ]
  },
  {
   "cell_type": "code",
   "execution_count": 81,
   "metadata": {},
   "outputs": [
    {
     "data": {
      "image/png": "[encoded data removed]",
      "text/plain": [
       "<Figure size 1296x360 with 1 Axes>"
      ]
     },
     "metadata": {
      "needs_background": "light"
     },
     "output_type": "display_data"
    }
   ],
   "source": [
    "data.hist('total_area', bins=100, figsize=(18, 5))\n",
    "plt.show()"
   ]
  },
  {
   "cell_type": "code",
   "execution_count": 82,
   "metadata": {},
   "outputs": [],
   "source": [
    "data.drop(data[data['last_price'] > data['last_price'].quantile(0.98)].index, inplace=True)\n",
    "data.drop(data[data['last_price']<200000].index, inplace=True)"
   ]
  },
  {
   "cell_type": "markdown",
   "metadata": {},
   "source": [
    "Удалим слишком большие значения, удалив всё что больше 98 квантиля. Наблюдение с нереалистично маленькой стоимостью так же будет удалено"
   ]
  },
  {
   "cell_type": "markdown",
   "metadata": {},
   "source": [
    "<b>first_day_exposition</b>"
   ]
  },
  {
   "cell_type": "code",
   "execution_count": 83,
   "metadata": {},
   "outputs": [],
   "source": [
    "data['first_day_exposition'] = pd.to_datetime(data['first_day_exposition'], format='%Y-%m-%dT%H:%M:%S')"
   ]
  },
  {
   "cell_type": "code",
   "execution_count": 84,
   "metadata": {},
   "outputs": [
    {
     "data": {
      "image/png": "[encoded data removed]",
      "text/plain": [
       "<Figure size 1152x360 with 1 Axes>"
      ]
     },
     "metadata": {
      "needs_background": "light"
     },
     "output_type": "display_data"
    }
   ],
   "source": [
    "data['first_day_exposition'].hist(figsize=(16,5))\n",
    "plt.show()"
   ]
  },
  {
   "cell_type": "markdown",
   "metadata": {},
   "source": [
    "переводим в формат даты. Гистограмма ради интереса, похоже в 2017 году сервис стал набирать популярность"
   ]
  },
  {
   "cell_type": "markdown",
   "metadata": {},
   "source": [
    "**Вывод по заданию 2** <br>\n"
   ]
  },
  {
   "cell_type": "code",
   "execution_count": 85,
   "metadata": {},
   "outputs": [
    {
     "name": "stdout",
     "output_type": "stream",
     "text": [
      "<class 'pandas.core.frame.DataFrame'>\n",
      "RangeIndex: 23167 entries, 0 to 23166\n",
      "Data columns (total 22 columns):\n",
      " #   Column                Non-Null Count  Dtype         \n",
      "---  ------                --------------  -----         \n",
      " 0   total_images          23167 non-null  int64         \n",
      " 1   last_price            23167 non-null  float64       \n",
      " 2   total_area            23167 non-null  float64       \n",
      " 3   first_day_exposition  23167 non-null  datetime64[ns]\n",
      " 4   rooms                 23167 non-null  int64         \n",
      " 5   ceiling_height        23167 non-null  float64       \n",
      " 6   floors_total          23167 non-null  int32         \n",
      " 7   living_area           23167 non-null  float64       \n",
      " 8   floor                 23167 non-null  int64         \n",
      " 9   is_apartment          23167 non-null  bool          \n",
      " 10  studio                23167 non-null  bool          \n",
      " 11  open_plan             23167 non-null  bool          \n",
      " 12  kitchen_area          23167 non-null  float64       \n",
      " 13  balcony               23167 non-null  float64       \n",
      " 14  locality_name         23167 non-null  object        \n",
      " 15  airports_nearest      23167 non-null  int32         \n",
      " 16  citycenters_nearest   23167 non-null  int32         \n",
      " 17  parks_around3000      23167 non-null  int32         \n",
      " 18  parks_nearest         23167 non-null  int32         \n",
      " 19  ponds_around3000      23167 non-null  int32         \n",
      " 20  ponds_nearest         23167 non-null  int32         \n",
      " 21  days_exposition       20122 non-null  float64       \n",
      "dtypes: bool(3), datetime64[ns](1), float64(7), int32(7), int64(3), object(1)\n",
      "memory usage: 2.8+ MB\n"
     ]
    }
   ],
   "source": [
    "data = data.reset_index(drop=True)\n",
    "data.info()"
   ]
  },
  {
   "cell_type": "markdown",
   "metadata": {},
   "source": [
    "Представленный датасет содержал достаточно чистую информацию. Практически все выбросы, которые были удалены можно объяснить тем, что это реально дорогая недвижимость, которая выбивается из обычного рынка. <br>\n",
    "Пропуски в данных удалось заполнить, удалять какие-либо столбцы не пришлось.<br>\n",
    "В результате проделанных манипуляциий, размер датасета сократился менее чем на 5%"
   ]
  },
  {
   "cell_type": "markdown",
   "metadata": {},
   "source": [
    "### Посчитайте и добавьте в таблицу новые столбцы"
   ]
  },
  {
   "cell_type": "code",
   "execution_count": 86,
   "metadata": {},
   "outputs": [],
   "source": [
    "# цена одного квадратного метра;\n",
    "data['square_meter_price'] = data['last_price'] / data['total_area']"
   ]
  },
  {
   "cell_type": "code",
   "execution_count": 87,
   "metadata": {},
   "outputs": [
    {
     "data": {
      "text/plain": [
       "<AxesSubplot:>"
      ]
     },
     "execution_count": 87,
     "metadata": {},
     "output_type": "execute_result"
    },
    {
     "data": {
      "image/png": "[encoded data removed]",
      "text/plain": [
       "<Figure size 432x288 with 1 Axes>"
      ]
     },
     "metadata": {
      "needs_background": "light"
     },
     "output_type": "display_data"
    }
   ],
   "source": [
    "data['square_meter_price'].hist(bins=50)"
   ]
  },
  {
   "cell_type": "markdown",
   "metadata": {},
   "source": [
    "Снова имеем хвост вправо за счет дорогих квартир"
   ]
  },
  {
   "cell_type": "code",
   "execution_count": 88,
   "metadata": {},
   "outputs": [],
   "source": [
    "# день публикации объявления (0 - понедельник, 1 - вторник и т.д.)\n",
    "data['dayofweek_exposition'] = data['first_day_exposition'].dt.dayofweek"
   ]
  },
  {
   "cell_type": "code",
   "execution_count": 89,
   "metadata": {},
   "outputs": [
    {
     "data": {
      "text/plain": [
       "<AxesSubplot:>"
      ]
     },
     "execution_count": 89,
     "metadata": {},
     "output_type": "execute_result"
    },
    {
     "data": {
      "image/png": "[encoded data removed]",
      "text/plain": [
       "<Figure size 432x288 with 1 Axes>"
      ]
     },
     "metadata": {
      "needs_background": "light"
     },
     "output_type": "display_data"
    }
   ],
   "source": [
    "data['dayofweek_exposition'].hist(bins=7)"
   ]
  },
  {
   "cell_type": "markdown",
   "metadata": {},
   "source": [
    "В выходные дни объявления выкладывают значительно реже, чем в будни"
   ]
  },
  {
   "cell_type": "code",
   "execution_count": 90,
   "metadata": {},
   "outputs": [],
   "source": [
    "#месяц публикации объявления\n",
    "data['month_exposition'] = data['first_day_exposition'].dt.month"
   ]
  },
  {
   "cell_type": "code",
   "execution_count": 91,
   "metadata": {},
   "outputs": [
    {
     "data": {
      "text/plain": [
       "<AxesSubplot:>"
      ]
     },
     "execution_count": 91,
     "metadata": {},
     "output_type": "execute_result"
    },
    {
     "data": {
      "image/png": "[encoded data removed]",
      "text/plain": [
       "<Figure size 432x288 with 1 Axes>"
      ]
     },
     "metadata": {
      "needs_background": "light"
     },
     "output_type": "display_data"
    }
   ],
   "source": [
    "data['month_exposition'].hist(bins=12)"
   ]
  },
  {
   "cell_type": "markdown",
   "metadata": {},
   "source": [
    "Февраль, март и апрель стабильно активны. Январь и май выпадает, в том числе за счет длинных выходных (коррелирует с выводом о днях недели). Летние \"отпускные\" месяцы активность ниже обычно, в осенние месяца активность начинает расти"
   ]
  },
  {
   "cell_type": "code",
   "execution_count": 92,
   "metadata": {},
   "outputs": [],
   "source": [
    "#год публикации объявления\n",
    "data['year_exposition'] = data['first_day_exposition'].dt.year"
   ]
  },
  {
   "cell_type": "code",
   "execution_count": 93,
   "metadata": {},
   "outputs": [
    {
     "data": {
      "text/plain": [
       "<AxesSubplot:>"
      ]
     },
     "execution_count": 93,
     "metadata": {},
     "output_type": "execute_result"
    },
    {
     "data": {
      "image/png": "[encoded data removed]",
      "text/plain": [
       "<Figure size 432x288 with 1 Axes>"
      ]
     },
     "metadata": {
      "needs_background": "light"
     },
     "output_type": "display_data"
    }
   ],
   "source": [
    "data['year_exposition'].hist(bins=6)"
   ]
  },
  {
   "cell_type": "code",
   "execution_count": 94,
   "metadata": {},
   "outputs": [
    {
     "data": {
      "text/plain": [
       "Timestamp('2019-05-03 00:00:00')"
      ]
     },
     "execution_count": 94,
     "metadata": {},
     "output_type": "execute_result"
    }
   ],
   "source": [
    "data['first_day_exposition'].max()"
   ]
  },
  {
   "cell_type": "markdown",
   "metadata": {},
   "source": [
    "Резкий рост популярности сервиса с 2014 по 2017 год, небольшой рост в 2018. 2019 год еще не закрыт, поэтому рано делать выводы"
   ]
  },
  {
   "cell_type": "code",
   "execution_count": 95,
   "metadata": {},
   "outputs": [],
   "source": [
    "#тип этажа квартиры (значения — «первый», «последний», «другой»)\n",
    "def floor_type(row):\n",
    "    if row['floor'] == row['floors_total']:\n",
    "        return 'последний'\n",
    "    elif row['floor'] == 1:\n",
    "        return 'первый'\n",
    "    else:\n",
    "        return 'другой'"
   ]
  },
  {
   "cell_type": "code",
   "execution_count": 96,
   "metadata": {},
   "outputs": [
    {
     "data": {
      "text/plain": [
       "другой       17055\n",
       "последний     3246\n",
       "первый        2866\n",
       "Name: floor_type, dtype: int64"
      ]
     },
     "execution_count": 96,
     "metadata": {},
     "output_type": "execute_result"
    }
   ],
   "source": [
    "data['floor_type'] = data.apply(floor_type, axis=1)\n",
    "data['floor_type'].value_counts()"
   ]
  },
  {
   "cell_type": "code",
   "execution_count": 97,
   "metadata": {},
   "outputs": [
    {
     "data": {
      "text/plain": [
       "<AxesSubplot:>"
      ]
     },
     "execution_count": 97,
     "metadata": {},
     "output_type": "execute_result"
    },
    {
     "data": {
      "image/png": "[encoded data removed]",
      "text/plain": [
       "<Figure size 432x288 with 1 Axes>"
      ]
     },
     "metadata": {
      "needs_background": "light"
     },
     "output_type": "display_data"
    }
   ],
   "source": [
    "data['floor_type'].hist(bins=3)"
   ]
  },
  {
   "cell_type": "markdown",
   "metadata": {},
   "source": [
    "все логично, первые и последнии этажи встречаются реже, чем остальные"
   ]
  },
  {
   "cell_type": "code",
   "execution_count": 98,
   "metadata": {},
   "outputs": [],
   "source": [
    "# расстояние в км до центра города\n",
    "data['citycenters_nearest_km'] = data['citycenters_nearest'] / 1000"
   ]
  },
  {
   "cell_type": "code",
   "execution_count": 99,
   "metadata": {},
   "outputs": [
    {
     "data": {
      "text/plain": [
       "<AxesSubplot:>"
      ]
     },
     "execution_count": 99,
     "metadata": {},
     "output_type": "execute_result"
    },
    {
     "data": {
      "image/png": "[encoded data removed]",
      "text/plain": [
       "<Figure size 432x288 with 1 Axes>"
      ]
     },
     "metadata": {
      "needs_background": "light"
     },
     "output_type": "display_data"
    }
   ],
   "source": [
    "data['citycenters_nearest_km'].hist(bins=100)"
   ]
  },
  {
   "cell_type": "markdown",
   "metadata": {},
   "source": [
    "Пик около 20 и 30км - следствие заполнения пропусков"
   ]
  },
  {
   "cell_type": "markdown",
   "metadata": {},
   "source": [
    "### Исследовательский анализ данных"
   ]
  },
  {
   "cell_type": "markdown",
   "metadata": {},
   "source": [
    "#### Первый шаг с изучением признаков, построением диаграм и выводами был сделан на этапе заполнения пропусков"
   ]
  },
  {
   "cell_type": "markdown",
   "metadata": {},
   "source": [
    "#### Изучите, как быстро продавались квартиры (столбец days_exposition). Этот параметр показывает, сколько дней было размещено каждое объявление."
   ]
  },
  {
   "cell_type": "code",
   "execution_count": 100,
   "metadata": {},
   "outputs": [
    {
     "data": {
      "text/plain": [
       "<AxesSubplot:>"
      ]
     },
     "execution_count": 100,
     "metadata": {},
     "output_type": "execute_result"
    },
    {
     "data": {
      "image/png": "[encoded data removed]",
      "text/plain": [
       "<Figure size 1296x360 with 1 Axes>"
      ]
     },
     "metadata": {
      "needs_background": "light"
     },
     "output_type": "display_data"
    }
   ],
   "source": [
    "data['days_exposition'].hist(bins=50, figsize=(18,5))"
   ]
  },
  {
   "cell_type": "code",
   "execution_count": 101,
   "metadata": {},
   "outputs": [
    {
     "name": "stdout",
     "output_type": "stream",
     "text": [
      "Среднее: 178.31984892157837\n",
      "Медиана: 94.0\n"
     ]
    }
   ],
   "source": [
    "print('Среднее:', data['days_exposition'].mean())\n",
    "print('Медиана:', data['days_exposition'].median())"
   ]
  },
  {
   "cell_type": "markdown",
   "metadata": {},
   "source": [
    "Обычно продажа занимает 95 дней (медиана). необычно долгими или быстрыми будем считать по интерквартильному размаху - более 195 или менее 45 дней"
   ]
  },
  {
   "cell_type": "code",
   "execution_count": 102,
   "metadata": {},
   "outputs": [
    {
     "data": {
      "text/plain": [
       "<AxesSubplot:>"
      ]
     },
     "execution_count": 102,
     "metadata": {},
     "output_type": "execute_result"
    },
    {
     "data": {
      "image/png": "[encoded data removed]",
      "text/plain": [
       "<Figure size 1296x360 with 1 Axes>"
      ]
     },
     "metadata": {
      "needs_background": "light"
     },
     "output_type": "display_data"
    }
   ],
   "source": [
    "data['days_exposition'].hist(bins=100, figsize=(18,5), range=(0,250))"
   ]
  },
  {
   "cell_type": "code",
   "execution_count": 103,
   "metadata": {},
   "outputs": [
    {
     "data": {
      "text/plain": [
       "45.0000    879\n",
       "60.0000    538\n",
       "7.0000     233\n",
       "30.0000    205\n",
       "90.0000    185\n",
       "4.0000     175\n",
       "3.0000     156\n",
       "5.0000     146\n",
       "Name: days_exposition, dtype: int64"
      ]
     },
     "execution_count": 103,
     "metadata": {},
     "output_type": "execute_result"
    }
   ],
   "source": [
    "data['days_exposition'].value_counts()[:5]"
   ]
  },
  {
   "cell_type": "code",
   "execution_count": 104,
   "metadata": {},
   "outputs": [],
   "source": [
    "columns = ['total_area', 'living_area', 'kitchen_area',\\\n",
    "           'rooms', 'dayofweek_exposition', 'month_exposition', 'year_exposition']"
   ]
  },
  {
   "cell_type": "code",
   "execution_count": 105,
   "metadata": {},
   "outputs": [
    {
     "data": {
      "image/png": "[encoded data removed]",
      "text/plain": [
       "<Figure size 432x288 with 2 Axes>"
      ]
     },
     "metadata": {
      "needs_background": "light"
     },
     "output_type": "display_data"
    },
    {
     "data": {
      "image/png": "[encoded data removed]",
      "text/plain": [
       "<Figure size 432x288 with 2 Axes>"
      ]
     },
     "metadata": {
      "needs_background": "light"
     },
     "output_type": "display_data"
    },
    {
     "data": {
      "image/png": "[encoded data removed]",
      "text/plain": [
       "<Figure size 432x288 with 2 Axes>"
      ]
     },
     "metadata": {
      "needs_background": "light"
     },
     "output_type": "display_data"
    },
    {
     "data": {
      "image/png": "[encoded data removed]",
      "text/plain": [
       "<Figure size 432x288 with 2 Axes>"
      ]
     },
     "metadata": {
      "needs_background": "light"
     },
     "output_type": "display_data"
    },
    {
     "data": {
      "image/png": "[encoded data removed]",
      "text/plain": [
       "<Figure size 432x288 with 2 Axes>"
      ]
     },
     "metadata": {
      "needs_background": "light"
     },
     "output_type": "display_data"
    },
    {
     "data": {
      "image/png": "[encoded data removed]",
      "text/plain": [
       "<Figure size 432x288 with 2 Axes>"
      ]
     },
     "metadata": {
      "needs_background": "light"
     },
     "output_type": "display_data"
    },
    {
     "data": {
      "image/png": "[encoded data removed]",
      "text/plain": [
       "<Figure size 432x288 with 2 Axes>"
      ]
     },
     "metadata": {
      "needs_background": "light"
     },
     "output_type": "display_data"
    }
   ],
   "source": [
    "for column in columns:\n",
    "    data.plot.hexbin(x=column, y='last_price', bins='log')\n",
    "    plt.title(column)\n",
    "    plt.grid()"
   ]
  },
  {
   "cell_type": "markdown",
   "metadata": {},
   "source": [
    "Наблюдается линейная зависимость цены на квартиру от её фактических характеристик: площадь, жилая площадь, площадь кухни, кол-во комнат. Надо отменить, что данные признаки в какой-то мере коррелируют друг с другом, поскольку все они описывают площадь. <br>\n",
    "Зависимости цена от того, в какой день или месяц было подано объявление, нет"
   ]
  },
  {
   "cell_type": "code",
   "execution_count": 106,
   "metadata": {},
   "outputs": [
    {
     "data": {
      "text/plain": [
       "[]"
      ]
     },
     "execution_count": 106,
     "metadata": {},
     "output_type": "execute_result"
    },
    {
     "data": {
      "image/png": "[encoded data removed]",
      "text/plain": [
       "<Figure size 432x288 with 1 Axes>"
      ]
     },
     "metadata": {
      "needs_background": "light"
     },
     "output_type": "display_data"
    }
   ],
   "source": [
    "data.plot.scatter(x='floor_type', y='last_price', alpha=0.05)\n",
    "plt.grid()\n",
    "plt.plot()"
   ]
  },
  {
   "cell_type": "markdown",
   "metadata": {},
   "source": [
    "На первом этаже самые недорогие квартиры, далее распологается последний этаж. Чаще всего дорогое жилье на других этажах"
   ]
  },
  {
   "cell_type": "code",
   "execution_count": 107,
   "metadata": {},
   "outputs": [
    {
     "data": {
      "text/plain": [
       "санкт-петербург      15202\n",
       "поселок мурино         556\n",
       "поселок шушары         440\n",
       "всеволожск             397\n",
       "пушкин                 360\n",
       "колпино                337\n",
       "поселок парголово      327\n",
       "гатчина                307\n",
       "деревня кудрово        299\n",
       "выборг                 237\n",
       "Name: locality_name, dtype: int64"
      ]
     },
     "execution_count": 107,
     "metadata": {},
     "output_type": "execute_result"
    }
   ],
   "source": [
    "data['locality_name'].value_counts()[:10]"
   ]
  },
  {
   "cell_type": "code",
   "execution_count": 108,
   "metadata": {},
   "outputs": [
    {
     "data": {
      "text/html": [
       "<div>\n",
       "<style scoped>\n",
       "    .dataframe tbody tr th:only-of-type {\n",
       "        vertical-align: middle;\n",
       "    }\n",
       "\n",
       "    .dataframe tbody tr th {\n",
       "        vertical-align: top;\n",
       "    }\n",
       "\n",
       "    .dataframe thead th {\n",
       "        text-align: right;\n",
       "    }\n",
       "</style>\n",
       "<table border=\"1\" class=\"dataframe\">\n",
       "  <thead>\n",
       "    <tr style=\"text-align: right;\">\n",
       "      <th></th>\n",
       "      <th>mean</th>\n",
       "    </tr>\n",
       "    <tr>\n",
       "      <th>locality_name</th>\n",
       "      <th></th>\n",
       "    </tr>\n",
       "  </thead>\n",
       "  <tbody>\n",
       "    <tr>\n",
       "      <th>выборг</th>\n",
       "      <td>58,141.9092</td>\n",
       "    </tr>\n",
       "    <tr>\n",
       "      <th>всеволожск</th>\n",
       "      <td>67,214.2526</td>\n",
       "    </tr>\n",
       "    <tr>\n",
       "      <th>гатчина</th>\n",
       "      <td>68,746.1468</td>\n",
       "    </tr>\n",
       "    <tr>\n",
       "      <th>колпино</th>\n",
       "      <td>75,333.2958</td>\n",
       "    </tr>\n",
       "    <tr>\n",
       "      <th>поселок шушары</th>\n",
       "      <td>78,677.3642</td>\n",
       "    </tr>\n",
       "    <tr>\n",
       "      <th>поселок мурино</th>\n",
       "      <td>85,681.7626</td>\n",
       "    </tr>\n",
       "    <tr>\n",
       "      <th>поселок парголово</th>\n",
       "      <td>90,175.9135</td>\n",
       "    </tr>\n",
       "    <tr>\n",
       "      <th>деревня кудрово</th>\n",
       "      <td>92,473.5476</td>\n",
       "    </tr>\n",
       "    <tr>\n",
       "      <th>пушкин</th>\n",
       "      <td>101,788.5721</td>\n",
       "    </tr>\n",
       "    <tr>\n",
       "      <th>санкт-петербург</th>\n",
       "      <td>109,394.2964</td>\n",
       "    </tr>\n",
       "  </tbody>\n",
       "</table>\n",
       "</div>"
      ],
      "text/plain": [
       "                          mean\n",
       "locality_name                 \n",
       "выборг             58,141.9092\n",
       "всеволожск         67,214.2526\n",
       "гатчина            68,746.1468\n",
       "колпино            75,333.2958\n",
       "поселок шушары     78,677.3642\n",
       "поселок мурино     85,681.7626\n",
       "поселок парголово  90,175.9135\n",
       "деревня кудрово    92,473.5476\n",
       "пушкин            101,788.5721\n",
       "санкт-петербург   109,394.2964"
      ]
     },
     "execution_count": 108,
     "metadata": {},
     "output_type": "execute_result"
    }
   ],
   "source": [
    "data.groupby('locality_name')['square_meter_price'].\\\n",
    "            agg(['mean', 'count']).sort_values(['count', 'mean'], ascending=False)[:10].sort_values('mean')[['mean']]"
   ]
  },
  {
   "cell_type": "markdown",
   "metadata": {},
   "source": [
    "По заданному условию, самый дешевый квадратный метр в Выборге, а самый дорогой в Санкт-Петербурге"
   ]
  },
  {
   "cell_type": "code",
   "execution_count": 114,
   "metadata": {},
   "outputs": [],
   "source": [
    "data['citycenters_nearest_km'] = data['citycenters_nearest_km'].round()"
   ]
  },
  {
   "cell_type": "code",
   "execution_count": 117,
   "metadata": {},
   "outputs": [
    {
     "data": {
      "text/plain": [
       "<AxesSubplot:xlabel='citycenters_nearest_km'>"
      ]
     },
     "execution_count": 117,
     "metadata": {},
     "output_type": "execute_result"
    },
    {
     "data": {
      "image/png": "[encoded data removed]",
      "text/plain": [
       "<Figure size 432x288 with 1 Axes>"
      ]
     },
     "metadata": {
      "needs_background": "light"
     },
     "output_type": "display_data"
    }
   ],
   "source": [
    "data[data['locality_name']=='санкт-петербург'].groupby('citycenters_nearest_km')['square_meter_price'].mean().plot(style='o')"
   ]
  },
  {
   "cell_type": "markdown",
   "metadata": {},
   "source": [
    "Ближе к центру практически нет дешевых квартир, в то время как за 20км  от центр очень редко выстречается недвижимость стоимостью выше средней.  На графике видно обратную зависимость в диапазоне от 30 до ~20км."
   ]
  },
  {
   "cell_type": "markdown",
   "metadata": {},
   "source": [
    "### Общий вывод"
   ]
  },
  {
   "cell_type": "markdown",
   "metadata": {},
   "source": [
    "Основная часть недвижимости имеет достаточно простые зависимости стоимости от физических факторов, таких как площадь или близость к центру.<br>\n",
    "Близость к центру не всегда показательных фактор. Например, для Санкт-Петербурга мы увидели зависимость, тогда как для пригорода это не настолько значимый фактор <br>\n",
    "Санкт-Петербург оказался относительно малоэтажным городом - 75% объявлений не выше 9-ого этажа"
   ]
  },
  {
   "cell_type": "code",
   "execution_count": null,
   "metadata": {},
   "outputs": [],
   "source": []
  }
 ],
 "metadata": {
  "ExecuteTimeLog": [
   {
    "duration": 80,
    "start_time": "2022-11-08T08:12:00.320Z"
   },
   {
    "duration": 364,
    "start_time": "2022-11-08T08:12:03.214Z"
   },
   {
    "duration": 147,
    "start_time": "2022-11-08T08:12:16.863Z"
   },
   {
    "duration": 13,
    "start_time": "2022-11-08T08:12:22.887Z"
   },
   {
    "duration": 40,
    "start_time": "2022-11-08T08:12:37.255Z"
   },
   {
    "duration": 8,
    "start_time": "2022-11-08T08:13:26.466Z"
   },
   {
    "duration": 84,
    "start_time": "2022-11-08T08:13:32.857Z"
   },
   {
    "duration": 9,
    "start_time": "2022-11-08T08:13:35.370Z"
   },
   {
    "duration": 308,
    "start_time": "2022-11-08T08:13:49.154Z"
   },
   {
    "duration": 44,
    "start_time": "2022-11-08T08:13:49.464Z"
   },
   {
    "duration": 81,
    "start_time": "2022-11-08T08:13:54.899Z"
   },
   {
    "duration": 38,
    "start_time": "2022-11-08T08:13:55.466Z"
   },
   {
    "duration": 13,
    "start_time": "2022-11-08T08:14:11.675Z"
   },
   {
    "duration": 2439,
    "start_time": "2022-11-08T08:25:25.812Z"
   },
   {
    "duration": 3,
    "start_time": "2022-11-08T08:25:44.469Z"
   },
   {
    "duration": 1708,
    "start_time": "2022-11-08T08:25:50.069Z"
   },
   {
    "duration": 24,
    "start_time": "2022-11-08T08:28:49.123Z"
   },
   {
    "duration": 73,
    "start_time": "2022-11-08T08:36:53.103Z"
   },
   {
    "duration": 12,
    "start_time": "2022-11-08T08:36:56.135Z"
   },
   {
    "duration": 5,
    "start_time": "2022-11-08T08:37:18.632Z"
   },
   {
    "duration": 9,
    "start_time": "2022-11-08T08:45:22.530Z"
   },
   {
    "duration": 80,
    "start_time": "2022-11-08T08:46:07.132Z"
   },
   {
    "duration": 135,
    "start_time": "2022-11-08T08:46:07.755Z"
   },
   {
    "duration": 24,
    "start_time": "2022-11-08T08:46:08.084Z"
   },
   {
    "duration": 1656,
    "start_time": "2022-11-08T08:46:08.443Z"
   },
   {
    "duration": 5,
    "start_time": "2022-11-08T08:46:10.101Z"
   },
   {
    "duration": 9,
    "start_time": "2022-11-08T08:46:22.917Z"
   },
   {
    "duration": 10,
    "start_time": "2022-11-08T08:46:45.965Z"
   },
   {
    "duration": 14,
    "start_time": "2022-11-08T08:49:59.749Z"
   },
   {
    "duration": 1184,
    "start_time": "2022-11-08T08:50:16.925Z"
   },
   {
    "duration": 12,
    "start_time": "2022-11-08T08:51:04.879Z"
   },
   {
    "duration": 10,
    "start_time": "2022-11-08T08:51:26.760Z"
   },
   {
    "duration": 10,
    "start_time": "2022-11-08T08:51:35.888Z"
   },
   {
    "duration": 11,
    "start_time": "2022-11-08T08:51:38.808Z"
   },
   {
    "duration": 25,
    "start_time": "2022-11-08T10:58:12.878Z"
   },
   {
    "duration": 25,
    "start_time": "2022-11-08T10:58:18.701Z"
   },
   {
    "duration": 8,
    "start_time": "2022-11-08T10:58:37.856Z"
   },
   {
    "duration": 7,
    "start_time": "2022-11-08T11:07:03.906Z"
   },
   {
    "duration": 41,
    "start_time": "2022-11-08T11:07:36.515Z"
   },
   {
    "duration": 7,
    "start_time": "2022-11-08T11:07:44.178Z"
   },
   {
    "duration": 3,
    "start_time": "2022-11-08T11:08:41.925Z"
   },
   {
    "duration": 76,
    "start_time": "2022-11-08T11:08:42.477Z"
   },
   {
    "duration": 14,
    "start_time": "2022-11-08T11:08:42.668Z"
   },
   {
    "duration": 18,
    "start_time": "2022-11-08T11:08:43.166Z"
   },
   {
    "duration": 1764,
    "start_time": "2022-11-08T11:08:43.333Z"
   },
   {
    "duration": 4,
    "start_time": "2022-11-08T11:08:45.099Z"
   },
   {
    "duration": 11,
    "start_time": "2022-11-08T11:08:53.005Z"
   },
   {
    "duration": 3,
    "start_time": "2022-11-08T11:08:59.989Z"
   },
   {
    "duration": 74,
    "start_time": "2022-11-08T11:09:01.918Z"
   },
   {
    "duration": 13,
    "start_time": "2022-11-08T11:09:02.094Z"
   },
   {
    "duration": 17,
    "start_time": "2022-11-08T11:09:02.238Z"
   },
   {
    "duration": 1761,
    "start_time": "2022-11-08T11:09:02.397Z"
   },
   {
    "duration": 4,
    "start_time": "2022-11-08T11:09:04.160Z"
   },
   {
    "duration": 20,
    "start_time": "2022-11-08T11:09:04.165Z"
   },
   {
    "duration": 6,
    "start_time": "2022-11-08T11:09:10.231Z"
   },
   {
    "duration": 7,
    "start_time": "2022-11-08T11:09:11.158Z"
   },
   {
    "duration": 10,
    "start_time": "2022-11-08T11:09:45.568Z"
   },
   {
    "duration": 7,
    "start_time": "2022-11-08T11:09:48.488Z"
   },
   {
    "duration": 8,
    "start_time": "2022-11-08T11:09:53.344Z"
   },
   {
    "duration": 1155,
    "start_time": "2022-11-08T11:10:13.169Z"
   },
   {
    "duration": 7,
    "start_time": "2022-11-08T11:10:16.993Z"
   },
   {
    "duration": 15,
    "start_time": "2022-11-08T11:37:23.485Z"
   },
   {
    "duration": 21,
    "start_time": "2022-11-08T11:37:31.635Z"
   },
   {
    "duration": 235,
    "start_time": "2022-11-08T11:37:52.822Z"
   },
   {
    "duration": 225,
    "start_time": "2022-11-08T11:39:09.560Z"
   },
   {
    "duration": 7,
    "start_time": "2022-11-08T11:42:57.929Z"
   },
   {
    "duration": 87,
    "start_time": "2022-11-08T11:44:50.477Z"
   },
   {
    "duration": 7,
    "start_time": "2022-11-08T11:45:12.350Z"
   },
   {
    "duration": 9,
    "start_time": "2022-11-08T11:45:35.216Z"
   },
   {
    "duration": 10,
    "start_time": "2022-11-08T11:45:43.967Z"
   },
   {
    "duration": 98,
    "start_time": "2022-11-08T11:45:56.135Z"
   },
   {
    "duration": 109,
    "start_time": "2022-11-08T11:46:38.713Z"
   },
   {
    "duration": 100,
    "start_time": "2022-11-08T11:47:11.691Z"
   },
   {
    "duration": 78,
    "start_time": "2022-11-08T11:51:56.589Z"
   },
   {
    "duration": 19,
    "start_time": "2022-11-08T11:52:03.653Z"
   },
   {
    "duration": 1075,
    "start_time": "2022-11-08T11:52:41.669Z"
   },
   {
    "duration": 5,
    "start_time": "2022-11-08T11:53:03.184Z"
   },
   {
    "duration": 626,
    "start_time": "2022-11-08T11:53:20.504Z"
   },
   {
    "duration": 9,
    "start_time": "2022-11-08T11:53:50.945Z"
   },
   {
    "duration": 632,
    "start_time": "2022-11-08T11:54:05.961Z"
   },
   {
    "duration": 3,
    "start_time": "2022-11-08T11:54:43.051Z"
   },
   {
    "duration": 4,
    "start_time": "2022-11-08T11:54:46.258Z"
   },
   {
    "duration": 592,
    "start_time": "2022-11-08T11:55:08.908Z"
   },
   {
    "duration": 131,
    "start_time": "2022-11-08T11:55:10.172Z"
   },
   {
    "duration": 19,
    "start_time": "2022-11-08T11:55:10.347Z"
   },
   {
    "duration": 20,
    "start_time": "2022-11-08T11:55:10.484Z"
   },
   {
    "duration": 1815,
    "start_time": "2022-11-08T11:55:10.643Z"
   },
   {
    "duration": 5,
    "start_time": "2022-11-08T11:55:12.460Z"
   },
   {
    "duration": 16,
    "start_time": "2022-11-08T11:55:12.466Z"
   },
   {
    "duration": 223,
    "start_time": "2022-11-08T11:55:12.483Z"
   },
   {
    "duration": 7,
    "start_time": "2022-11-08T11:55:12.707Z"
   },
   {
    "duration": 113,
    "start_time": "2022-11-08T11:55:12.715Z"
   },
   {
    "duration": 45,
    "start_time": "2022-11-08T11:55:27.893Z"
   },
   {
    "duration": 635,
    "start_time": "2022-11-08T11:55:33.003Z"
   },
   {
    "duration": 587,
    "start_time": "2022-11-08T11:55:39.206Z"
   },
   {
    "duration": 129,
    "start_time": "2022-11-08T11:55:39.795Z"
   },
   {
    "duration": 16,
    "start_time": "2022-11-08T11:55:39.926Z"
   },
   {
    "duration": 35,
    "start_time": "2022-11-08T11:55:39.944Z"
   },
   {
    "duration": 1765,
    "start_time": "2022-11-08T11:55:39.981Z"
   },
   {
    "duration": 6,
    "start_time": "2022-11-08T11:55:41.747Z"
   },
   {
    "duration": 31,
    "start_time": "2022-11-08T11:55:41.754Z"
   },
   {
    "duration": 237,
    "start_time": "2022-11-08T11:55:41.787Z"
   },
   {
    "duration": 7,
    "start_time": "2022-11-08T11:55:42.025Z"
   },
   {
    "duration": 118,
    "start_time": "2022-11-08T11:55:42.033Z"
   },
   {
    "duration": 631,
    "start_time": "2022-11-08T11:56:05.195Z"
   },
   {
    "duration": 132,
    "start_time": "2022-11-08T11:56:05.828Z"
   },
   {
    "duration": 15,
    "start_time": "2022-11-08T11:56:05.962Z"
   },
   {
    "duration": 21,
    "start_time": "2022-11-08T11:56:05.978Z"
   },
   {
    "duration": 1937,
    "start_time": "2022-11-08T11:56:06.001Z"
   },
   {
    "duration": 4,
    "start_time": "2022-11-08T11:56:07.940Z"
   },
   {
    "duration": 17,
    "start_time": "2022-11-08T11:56:07.946Z"
   },
   {
    "duration": 236,
    "start_time": "2022-11-08T11:56:07.965Z"
   },
   {
    "duration": 9,
    "start_time": "2022-11-08T11:56:08.203Z"
   },
   {
    "duration": 112,
    "start_time": "2022-11-08T11:56:08.214Z"
   },
   {
    "duration": 2,
    "start_time": "2022-11-08T11:56:08.327Z"
   },
   {
    "duration": 28,
    "start_time": "2022-11-08T11:56:18.167Z"
   },
   {
    "duration": 29,
    "start_time": "2022-11-08T11:56:47.857Z"
   },
   {
    "duration": 2,
    "start_time": "2022-11-08T11:57:44.267Z"
   },
   {
    "duration": 111,
    "start_time": "2022-11-08T11:58:20.867Z"
   },
   {
    "duration": 102,
    "start_time": "2022-11-08T11:58:26.516Z"
   },
   {
    "duration": 6,
    "start_time": "2022-11-08T11:58:38.885Z"
   },
   {
    "duration": 4,
    "start_time": "2022-11-08T12:06:27.254Z"
   },
   {
    "duration": 5,
    "start_time": "2022-11-08T12:06:58.751Z"
   },
   {
    "duration": 31,
    "start_time": "2022-11-08T12:07:56.153Z"
   },
   {
    "duration": 6,
    "start_time": "2022-11-08T12:08:11.657Z"
   },
   {
    "duration": 7,
    "start_time": "2022-11-08T12:08:44.497Z"
   },
   {
    "duration": 3,
    "start_time": "2022-11-08T12:11:58.258Z"
   },
   {
    "duration": 82,
    "start_time": "2022-11-08T12:11:58.425Z"
   },
   {
    "duration": 13,
    "start_time": "2022-11-08T12:11:58.577Z"
   },
   {
    "duration": 19,
    "start_time": "2022-11-08T12:11:58.721Z"
   },
   {
    "duration": 1760,
    "start_time": "2022-11-08T12:11:58.882Z"
   },
   {
    "duration": 5,
    "start_time": "2022-11-08T12:12:00.644Z"
   },
   {
    "duration": 40,
    "start_time": "2022-11-08T12:12:00.650Z"
   },
   {
    "duration": 226,
    "start_time": "2022-11-08T12:12:00.692Z"
   },
   {
    "duration": 7,
    "start_time": "2022-11-08T12:12:04.954Z"
   },
   {
    "duration": 114,
    "start_time": "2022-11-08T12:12:06.873Z"
   },
   {
    "duration": 6,
    "start_time": "2022-11-08T12:12:10.769Z"
   },
   {
    "duration": 7,
    "start_time": "2022-11-08T12:12:13.514Z"
   },
   {
    "duration": 7,
    "start_time": "2022-11-08T12:12:26.371Z"
   },
   {
    "duration": 6,
    "start_time": "2022-11-08T12:12:32.387Z"
   },
   {
    "duration": 5,
    "start_time": "2022-11-08T12:12:45.803Z"
   },
   {
    "duration": 5,
    "start_time": "2022-11-08T12:12:54.758Z"
   },
   {
    "duration": 66,
    "start_time": "2022-11-08T12:12:57.813Z"
   },
   {
    "duration": 5,
    "start_time": "2022-11-08T12:13:00.884Z"
   },
   {
    "duration": 5,
    "start_time": "2022-11-08T12:13:06.852Z"
   },
   {
    "duration": 5,
    "start_time": "2022-11-08T12:13:11.108Z"
   },
   {
    "duration": 3,
    "start_time": "2022-11-08T12:13:14.372Z"
   },
   {
    "duration": 72,
    "start_time": "2022-11-08T12:13:14.541Z"
   },
   {
    "duration": 15,
    "start_time": "2022-11-08T12:13:14.692Z"
   },
   {
    "duration": 22,
    "start_time": "2022-11-08T12:13:14.835Z"
   },
   {
    "duration": 1748,
    "start_time": "2022-11-08T12:13:14.972Z"
   },
   {
    "duration": 4,
    "start_time": "2022-11-08T12:13:16.722Z"
   },
   {
    "duration": 13,
    "start_time": "2022-11-08T12:13:16.727Z"
   },
   {
    "duration": 246,
    "start_time": "2022-11-08T12:13:16.742Z"
   },
   {
    "duration": 7,
    "start_time": "2022-11-08T12:13:16.990Z"
   },
   {
    "duration": 111,
    "start_time": "2022-11-08T12:13:20.428Z"
   },
   {
    "duration": 5,
    "start_time": "2022-11-08T12:13:20.773Z"
   },
   {
    "duration": 7,
    "start_time": "2022-11-08T12:13:23.612Z"
   },
   {
    "duration": 7,
    "start_time": "2022-11-08T12:13:45.101Z"
   },
   {
    "duration": 8,
    "start_time": "2022-11-08T12:15:01.512Z"
   },
   {
    "duration": 7,
    "start_time": "2022-11-08T12:16:51.565Z"
   },
   {
    "duration": 5,
    "start_time": "2022-11-08T12:17:24.687Z"
   },
   {
    "duration": 6,
    "start_time": "2022-11-08T12:17:38.566Z"
   },
   {
    "duration": 4,
    "start_time": "2022-11-08T12:18:07.096Z"
   },
   {
    "duration": 603,
    "start_time": "2022-11-08T12:18:28.603Z"
   },
   {
    "duration": 85,
    "start_time": "2022-11-08T12:18:29.208Z"
   },
   {
    "duration": 14,
    "start_time": "2022-11-08T12:18:29.294Z"
   },
   {
    "duration": 19,
    "start_time": "2022-11-08T12:18:29.309Z"
   },
   {
    "duration": 1840,
    "start_time": "2022-11-08T12:18:29.330Z"
   },
   {
    "duration": 5,
    "start_time": "2022-11-08T12:18:31.172Z"
   },
   {
    "duration": 38,
    "start_time": "2022-11-08T12:18:31.179Z"
   },
   {
    "duration": 302,
    "start_time": "2022-11-08T12:18:31.219Z"
   },
   {
    "duration": 9,
    "start_time": "2022-11-08T12:18:31.523Z"
   },
   {
    "duration": 138,
    "start_time": "2022-11-08T12:18:31.533Z"
   },
   {
    "duration": 5,
    "start_time": "2022-11-08T12:18:31.672Z"
   },
   {
    "duration": 6,
    "start_time": "2022-11-08T12:18:31.685Z"
   },
   {
    "duration": 10,
    "start_time": "2022-11-08T12:18:31.692Z"
   },
   {
    "duration": 9,
    "start_time": "2022-11-08T12:18:31.704Z"
   },
   {
    "duration": 8,
    "start_time": "2022-11-08T12:18:31.714Z"
   },
   {
    "duration": 5,
    "start_time": "2022-11-08T12:19:00.657Z"
   },
   {
    "duration": 588,
    "start_time": "2022-11-08T12:19:34.428Z"
   },
   {
    "duration": 87,
    "start_time": "2022-11-08T12:19:35.018Z"
   },
   {
    "duration": 18,
    "start_time": "2022-11-08T12:19:35.106Z"
   },
   {
    "duration": 23,
    "start_time": "2022-11-08T12:19:35.125Z"
   },
   {
    "duration": 1916,
    "start_time": "2022-11-08T12:19:35.149Z"
   },
   {
    "duration": 5,
    "start_time": "2022-11-08T12:19:37.067Z"
   },
   {
    "duration": 51,
    "start_time": "2022-11-08T12:19:37.074Z"
   },
   {
    "duration": 267,
    "start_time": "2022-11-08T12:19:37.126Z"
   },
   {
    "duration": 9,
    "start_time": "2022-11-08T12:19:37.395Z"
   },
   {
    "duration": 161,
    "start_time": "2022-11-08T12:19:37.406Z"
   },
   {
    "duration": 17,
    "start_time": "2022-11-08T12:19:37.569Z"
   },
   {
    "duration": 19,
    "start_time": "2022-11-08T12:19:37.588Z"
   },
   {
    "duration": 38,
    "start_time": "2022-11-08T12:19:37.609Z"
   },
   {
    "duration": 17,
    "start_time": "2022-11-08T12:19:37.650Z"
   },
   {
    "duration": 29,
    "start_time": "2022-11-08T12:19:37.668Z"
   },
   {
    "duration": 18,
    "start_time": "2022-11-08T12:19:37.698Z"
   },
   {
    "duration": 672,
    "start_time": "2022-11-08T12:20:12.872Z"
   },
   {
    "duration": 92,
    "start_time": "2022-11-08T12:20:13.545Z"
   },
   {
    "duration": 14,
    "start_time": "2022-11-08T12:20:13.639Z"
   },
   {
    "duration": 57,
    "start_time": "2022-11-08T12:20:13.654Z"
   },
   {
    "duration": 1909,
    "start_time": "2022-11-08T12:20:13.713Z"
   },
   {
    "duration": 5,
    "start_time": "2022-11-08T12:20:15.624Z"
   },
   {
    "duration": 42,
    "start_time": "2022-11-08T12:20:15.631Z"
   },
   {
    "duration": 310,
    "start_time": "2022-11-08T12:20:15.675Z"
   },
   {
    "duration": 7,
    "start_time": "2022-11-08T12:20:15.987Z"
   },
   {
    "duration": 133,
    "start_time": "2022-11-08T12:20:15.995Z"
   },
   {
    "duration": 6,
    "start_time": "2022-11-08T12:20:16.129Z"
   },
   {
    "duration": 55,
    "start_time": "2022-11-08T12:20:16.136Z"
   },
   {
    "duration": 21,
    "start_time": "2022-11-08T12:20:16.193Z"
   },
   {
    "duration": 37,
    "start_time": "2022-11-08T12:20:16.216Z"
   },
   {
    "duration": 112,
    "start_time": "2022-11-08T12:20:16.254Z"
   },
   {
    "duration": 0,
    "start_time": "2022-11-08T12:20:16.368Z"
   },
   {
    "duration": 0,
    "start_time": "2022-11-08T12:20:16.370Z"
   },
   {
    "duration": 701,
    "start_time": "2022-11-08T12:20:48.204Z"
   },
   {
    "duration": 9,
    "start_time": "2022-11-08T12:21:26.638Z"
   },
   {
    "duration": 5,
    "start_time": "2022-11-08T12:21:29.695Z"
   },
   {
    "duration": 6,
    "start_time": "2022-11-08T12:22:56.714Z"
   },
   {
    "duration": 5,
    "start_time": "2022-11-08T12:22:58.721Z"
   },
   {
    "duration": 576,
    "start_time": "2022-11-08T12:23:50.428Z"
   },
   {
    "duration": 90,
    "start_time": "2022-11-08T12:23:51.006Z"
   },
   {
    "duration": 14,
    "start_time": "2022-11-08T12:23:51.098Z"
   },
   {
    "duration": 26,
    "start_time": "2022-11-08T12:23:51.113Z"
   },
   {
    "duration": 1814,
    "start_time": "2022-11-08T12:23:51.142Z"
   },
   {
    "duration": 4,
    "start_time": "2022-11-08T12:23:52.958Z"
   },
   {
    "duration": 16,
    "start_time": "2022-11-08T12:23:52.963Z"
   },
   {
    "duration": 241,
    "start_time": "2022-11-08T12:23:52.980Z"
   },
   {
    "duration": 7,
    "start_time": "2022-11-08T12:23:53.222Z"
   },
   {
    "duration": 112,
    "start_time": "2022-11-08T12:23:53.230Z"
   },
   {
    "duration": 5,
    "start_time": "2022-11-08T12:23:53.343Z"
   },
   {
    "duration": 17,
    "start_time": "2022-11-08T12:23:53.349Z"
   },
   {
    "duration": 6,
    "start_time": "2022-11-08T12:23:53.368Z"
   },
   {
    "duration": 11,
    "start_time": "2022-11-08T12:23:53.376Z"
   },
   {
    "duration": 4,
    "start_time": "2022-11-08T12:23:53.388Z"
   },
   {
    "duration": 12,
    "start_time": "2022-11-08T12:23:53.393Z"
   },
   {
    "duration": 3,
    "start_time": "2022-11-08T12:23:53.406Z"
   },
   {
    "duration": 659,
    "start_time": "2022-11-08T12:25:30.862Z"
   },
   {
    "duration": 85,
    "start_time": "2022-11-08T12:25:31.523Z"
   },
   {
    "duration": 14,
    "start_time": "2022-11-08T12:25:31.609Z"
   },
   {
    "duration": 38,
    "start_time": "2022-11-08T12:25:31.625Z"
   },
   {
    "duration": 1856,
    "start_time": "2022-11-08T12:25:31.666Z"
   },
   {
    "duration": 4,
    "start_time": "2022-11-08T12:25:33.524Z"
   },
   {
    "duration": 20,
    "start_time": "2022-11-08T12:25:33.530Z"
   },
   {
    "duration": 277,
    "start_time": "2022-11-08T12:25:33.552Z"
   },
   {
    "duration": 6,
    "start_time": "2022-11-08T12:25:33.831Z"
   },
   {
    "duration": 114,
    "start_time": "2022-11-08T12:25:33.838Z"
   },
   {
    "duration": 5,
    "start_time": "2022-11-08T12:25:33.954Z"
   },
   {
    "duration": 7,
    "start_time": "2022-11-08T12:25:33.960Z"
   },
   {
    "duration": 25,
    "start_time": "2022-11-08T12:25:33.969Z"
   },
   {
    "duration": 7,
    "start_time": "2022-11-08T12:25:33.997Z"
   },
   {
    "duration": 6,
    "start_time": "2022-11-08T12:25:34.005Z"
   },
   {
    "duration": 8,
    "start_time": "2022-11-08T12:25:34.013Z"
   },
   {
    "duration": 8,
    "start_time": "2022-11-08T12:25:34.023Z"
   },
   {
    "duration": 28,
    "start_time": "2022-11-08T12:25:45.792Z"
   },
   {
    "duration": 68,
    "start_time": "2022-11-08T12:25:51.074Z"
   },
   {
    "duration": 7,
    "start_time": "2022-11-08T12:26:01.720Z"
   },
   {
    "duration": 6,
    "start_time": "2022-11-08T12:26:13.265Z"
   },
   {
    "duration": 5,
    "start_time": "2022-11-08T12:26:36.250Z"
   },
   {
    "duration": 6,
    "start_time": "2022-11-08T12:26:43.243Z"
   },
   {
    "duration": 5,
    "start_time": "2022-11-08T12:26:53.307Z"
   },
   {
    "duration": 9,
    "start_time": "2022-11-08T12:27:34.709Z"
   },
   {
    "duration": 7,
    "start_time": "2022-11-08T12:28:21.639Z"
   },
   {
    "duration": 4,
    "start_time": "2022-11-08T12:28:22.510Z"
   },
   {
    "duration": 5,
    "start_time": "2022-11-08T12:28:26.343Z"
   },
   {
    "duration": 5,
    "start_time": "2022-11-08T12:35:52.448Z"
   },
   {
    "duration": 75,
    "start_time": "2022-11-08T12:36:35.409Z"
   },
   {
    "duration": 104,
    "start_time": "2022-11-08T12:36:59.433Z"
   },
   {
    "duration": 5,
    "start_time": "2022-11-08T12:37:18.882Z"
   },
   {
    "duration": 5,
    "start_time": "2022-11-08T12:38:38.486Z"
   },
   {
    "duration": 7,
    "start_time": "2022-11-08T12:39:38.416Z"
   },
   {
    "duration": 4,
    "start_time": "2022-11-08T12:39:40.233Z"
   },
   {
    "duration": 4,
    "start_time": "2022-11-08T12:39:46.216Z"
   },
   {
    "duration": 6,
    "start_time": "2022-11-08T12:40:15.744Z"
   },
   {
    "duration": 7,
    "start_time": "2022-11-08T12:41:11.875Z"
   },
   {
    "duration": 7,
    "start_time": "2022-11-08T12:41:19.044Z"
   },
   {
    "duration": 6,
    "start_time": "2022-11-08T12:41:31.116Z"
   },
   {
    "duration": 578,
    "start_time": "2022-11-08T12:41:45.928Z"
   },
   {
    "duration": 84,
    "start_time": "2022-11-08T12:41:46.507Z"
   },
   {
    "duration": 14,
    "start_time": "2022-11-08T12:41:46.593Z"
   },
   {
    "duration": 19,
    "start_time": "2022-11-08T12:41:46.608Z"
   },
   {
    "duration": 1997,
    "start_time": "2022-11-08T12:41:46.629Z"
   },
   {
    "duration": 6,
    "start_time": "2022-11-08T12:41:48.628Z"
   },
   {
    "duration": 30,
    "start_time": "2022-11-08T12:41:48.636Z"
   },
   {
    "duration": 261,
    "start_time": "2022-11-08T12:41:48.668Z"
   },
   {
    "duration": 7,
    "start_time": "2022-11-08T12:41:48.930Z"
   },
   {
    "duration": 120,
    "start_time": "2022-11-08T12:41:48.939Z"
   },
   {
    "duration": 6,
    "start_time": "2022-11-08T12:41:49.060Z"
   },
   {
    "duration": 18,
    "start_time": "2022-11-08T12:41:49.068Z"
   },
   {
    "duration": 18,
    "start_time": "2022-11-08T12:41:49.088Z"
   },
   {
    "duration": 5,
    "start_time": "2022-11-08T12:41:49.110Z"
   },
   {
    "duration": 13,
    "start_time": "2022-11-08T12:41:49.117Z"
   },
   {
    "duration": 12,
    "start_time": "2022-11-08T12:41:49.132Z"
   },
   {
    "duration": 125,
    "start_time": "2022-11-08T12:41:49.146Z"
   },
   {
    "duration": 14,
    "start_time": "2022-11-08T12:41:49.272Z"
   },
   {
    "duration": 5,
    "start_time": "2022-11-08T12:41:49.288Z"
   },
   {
    "duration": 7,
    "start_time": "2022-11-08T12:41:49.294Z"
   },
   {
    "duration": 11,
    "start_time": "2022-11-08T12:41:49.303Z"
   },
   {
    "duration": 11,
    "start_time": "2022-11-08T12:41:49.316Z"
   },
   {
    "duration": 8,
    "start_time": "2022-11-08T12:41:49.329Z"
   },
   {
    "duration": 660,
    "start_time": "2022-11-08T12:43:41.671Z"
   },
   {
    "duration": 93,
    "start_time": "2022-11-08T12:43:42.334Z"
   },
   {
    "duration": 18,
    "start_time": "2022-11-08T12:43:42.429Z"
   },
   {
    "duration": 39,
    "start_time": "2022-11-08T12:43:42.449Z"
   },
   {
    "duration": 1872,
    "start_time": "2022-11-08T12:43:42.490Z"
   },
   {
    "duration": 5,
    "start_time": "2022-11-08T12:43:44.364Z"
   },
   {
    "duration": 13,
    "start_time": "2022-11-08T12:43:44.370Z"
   },
   {
    "duration": 261,
    "start_time": "2022-11-08T12:43:44.385Z"
   },
   {
    "duration": 9,
    "start_time": "2022-11-08T12:43:44.648Z"
   },
   {
    "duration": 138,
    "start_time": "2022-11-08T12:43:44.660Z"
   },
   {
    "duration": 5,
    "start_time": "2022-11-08T12:43:44.799Z"
   },
   {
    "duration": 6,
    "start_time": "2022-11-08T12:43:44.805Z"
   },
   {
    "duration": 10,
    "start_time": "2022-11-08T12:43:44.813Z"
   },
   {
    "duration": 10,
    "start_time": "2022-11-08T12:43:44.825Z"
   },
   {
    "duration": 8,
    "start_time": "2022-11-08T12:43:44.837Z"
   },
   {
    "duration": 9,
    "start_time": "2022-11-08T12:43:44.847Z"
   },
   {
    "duration": 140,
    "start_time": "2022-11-08T12:43:44.858Z"
   },
   {
    "duration": 5,
    "start_time": "2022-11-08T12:43:45.000Z"
   },
   {
    "duration": 31,
    "start_time": "2022-11-08T12:43:45.007Z"
   },
   {
    "duration": 13,
    "start_time": "2022-11-08T12:43:45.040Z"
   },
   {
    "duration": 8,
    "start_time": "2022-11-08T12:43:45.055Z"
   },
   {
    "duration": 6,
    "start_time": "2022-11-08T12:43:45.065Z"
   },
   {
    "duration": 8,
    "start_time": "2022-11-08T12:43:45.072Z"
   },
   {
    "duration": 626,
    "start_time": "2022-11-08T12:44:24.677Z"
   },
   {
    "duration": 85,
    "start_time": "2022-11-08T12:44:25.305Z"
   },
   {
    "duration": 14,
    "start_time": "2022-11-08T12:44:25.391Z"
   },
   {
    "duration": 20,
    "start_time": "2022-11-08T12:44:25.407Z"
   },
   {
    "duration": 1797,
    "start_time": "2022-11-08T12:44:25.437Z"
   },
   {
    "duration": 5,
    "start_time": "2022-11-08T12:44:27.235Z"
   },
   {
    "duration": 23,
    "start_time": "2022-11-08T12:44:27.242Z"
   },
   {
    "duration": 288,
    "start_time": "2022-11-08T12:44:27.266Z"
   },
   {
    "duration": 6,
    "start_time": "2022-11-08T12:44:27.555Z"
   },
   {
    "duration": 110,
    "start_time": "2022-11-08T12:44:27.563Z"
   },
   {
    "duration": 12,
    "start_time": "2022-11-08T12:44:27.675Z"
   },
   {
    "duration": 7,
    "start_time": "2022-11-08T12:44:27.689Z"
   },
   {
    "duration": 7,
    "start_time": "2022-11-08T12:44:27.697Z"
   },
   {
    "duration": 4,
    "start_time": "2022-11-08T12:44:27.705Z"
   },
   {
    "duration": 13,
    "start_time": "2022-11-08T12:44:27.711Z"
   },
   {
    "duration": 7,
    "start_time": "2022-11-08T12:44:27.725Z"
   },
   {
    "duration": 119,
    "start_time": "2022-11-08T12:44:27.734Z"
   },
   {
    "duration": 4,
    "start_time": "2022-11-08T12:44:27.855Z"
   },
   {
    "duration": 7,
    "start_time": "2022-11-08T12:44:27.861Z"
   },
   {
    "duration": 20,
    "start_time": "2022-11-08T12:44:27.869Z"
   },
   {
    "duration": 5,
    "start_time": "2022-11-08T12:44:27.891Z"
   },
   {
    "duration": 5,
    "start_time": "2022-11-08T12:44:27.897Z"
   },
   {
    "duration": 7,
    "start_time": "2022-11-08T12:44:27.904Z"
   },
   {
    "duration": 12,
    "start_time": "2022-11-08T12:45:27.444Z"
   },
   {
    "duration": 5,
    "start_time": "2022-11-08T12:46:25.615Z"
   },
   {
    "duration": 5,
    "start_time": "2022-11-08T12:46:31.480Z"
   },
   {
    "duration": 3,
    "start_time": "2022-11-08T12:56:02.421Z"
   },
   {
    "duration": 11,
    "start_time": "2022-11-08T12:57:37.359Z"
   },
   {
    "duration": 606,
    "start_time": "2022-11-08T12:58:43.101Z"
   },
   {
    "duration": 87,
    "start_time": "2022-11-08T12:58:43.709Z"
   },
   {
    "duration": 15,
    "start_time": "2022-11-08T12:58:43.798Z"
   },
   {
    "duration": 28,
    "start_time": "2022-11-08T12:58:43.814Z"
   },
   {
    "duration": 1826,
    "start_time": "2022-11-08T12:58:43.844Z"
   },
   {
    "duration": 5,
    "start_time": "2022-11-08T12:58:45.672Z"
   },
   {
    "duration": 18,
    "start_time": "2022-11-08T12:58:45.678Z"
   },
   {
    "duration": 244,
    "start_time": "2022-11-08T12:58:45.698Z"
   },
   {
    "duration": 6,
    "start_time": "2022-11-08T12:58:45.944Z"
   },
   {
    "duration": 106,
    "start_time": "2022-11-08T12:58:45.952Z"
   },
   {
    "duration": 5,
    "start_time": "2022-11-08T12:58:46.059Z"
   },
   {
    "duration": 20,
    "start_time": "2022-11-08T12:58:46.065Z"
   },
   {
    "duration": 6,
    "start_time": "2022-11-08T12:58:46.087Z"
   },
   {
    "duration": 4,
    "start_time": "2022-11-08T12:58:46.095Z"
   },
   {
    "duration": 6,
    "start_time": "2022-11-08T12:58:46.101Z"
   },
   {
    "duration": 7,
    "start_time": "2022-11-08T12:58:46.109Z"
   },
   {
    "duration": 122,
    "start_time": "2022-11-08T12:58:46.117Z"
   },
   {
    "duration": 5,
    "start_time": "2022-11-08T12:58:46.240Z"
   },
   {
    "duration": 6,
    "start_time": "2022-11-08T12:58:46.246Z"
   },
   {
    "duration": 8,
    "start_time": "2022-11-08T12:58:46.254Z"
   },
   {
    "duration": 23,
    "start_time": "2022-11-08T12:58:46.263Z"
   },
   {
    "duration": 5,
    "start_time": "2022-11-08T12:58:46.287Z"
   },
   {
    "duration": 8,
    "start_time": "2022-11-08T12:58:46.293Z"
   },
   {
    "duration": 6,
    "start_time": "2022-11-08T12:58:46.302Z"
   },
   {
    "duration": 3,
    "start_time": "2022-11-08T12:58:46.310Z"
   },
   {
    "duration": 220,
    "start_time": "2022-11-08T12:59:13.066Z"
   },
   {
    "duration": 200,
    "start_time": "2022-11-08T12:59:46.483Z"
   },
   {
    "duration": 206,
    "start_time": "2022-11-08T13:00:28.332Z"
   },
   {
    "duration": 206,
    "start_time": "2022-11-08T13:00:42.398Z"
   },
   {
    "duration": 657,
    "start_time": "2022-11-08T13:00:49.424Z"
   },
   {
    "duration": 87,
    "start_time": "2022-11-08T13:00:50.085Z"
   },
   {
    "duration": 17,
    "start_time": "2022-11-08T13:00:50.174Z"
   },
   {
    "duration": 22,
    "start_time": "2022-11-08T13:00:50.192Z"
   },
   {
    "duration": 1981,
    "start_time": "2022-11-08T13:00:50.217Z"
   },
   {
    "duration": 5,
    "start_time": "2022-11-08T13:00:52.200Z"
   },
   {
    "duration": 20,
    "start_time": "2022-11-08T13:00:52.206Z"
   },
   {
    "duration": 240,
    "start_time": "2022-11-08T13:00:52.227Z"
   },
   {
    "duration": 7,
    "start_time": "2022-11-08T13:00:52.469Z"
   },
   {
    "duration": 129,
    "start_time": "2022-11-08T13:00:52.477Z"
   },
   {
    "duration": 5,
    "start_time": "2022-11-08T13:00:52.607Z"
   },
   {
    "duration": 11,
    "start_time": "2022-11-08T13:00:52.614Z"
   },
   {
    "duration": 17,
    "start_time": "2022-11-08T13:00:52.626Z"
   },
   {
    "duration": 8,
    "start_time": "2022-11-08T13:00:52.645Z"
   },
   {
    "duration": 17,
    "start_time": "2022-11-08T13:00:52.655Z"
   },
   {
    "duration": 14,
    "start_time": "2022-11-08T13:00:52.674Z"
   },
   {
    "duration": 134,
    "start_time": "2022-11-08T13:00:52.690Z"
   },
   {
    "duration": 7,
    "start_time": "2022-11-08T13:00:52.826Z"
   },
   {
    "duration": 16,
    "start_time": "2022-11-08T13:00:52.834Z"
   },
   {
    "duration": 8,
    "start_time": "2022-11-08T13:00:52.852Z"
   },
   {
    "duration": 5,
    "start_time": "2022-11-08T13:00:52.862Z"
   },
   {
    "duration": 9,
    "start_time": "2022-11-08T13:00:52.886Z"
   },
   {
    "duration": 9,
    "start_time": "2022-11-08T13:00:52.897Z"
   },
   {
    "duration": 24,
    "start_time": "2022-11-08T13:00:52.908Z"
   },
   {
    "duration": 240,
    "start_time": "2022-11-08T13:00:52.933Z"
   },
   {
    "duration": 10,
    "start_time": "2022-11-08T13:00:53.174Z"
   },
   {
    "duration": 6,
    "start_time": "2022-11-08T13:04:44.180Z"
   },
   {
    "duration": 10,
    "start_time": "2022-11-08T13:04:49.424Z"
   },
   {
    "duration": 26,
    "start_time": "2022-11-08T13:05:10.417Z"
   },
   {
    "duration": 28,
    "start_time": "2022-11-08T13:05:24.738Z"
   },
   {
    "duration": 30,
    "start_time": "2022-11-08T13:07:26.382Z"
   },
   {
    "duration": 110,
    "start_time": "2022-11-08T13:07:57.024Z"
   },
   {
    "duration": 372,
    "start_time": "2022-11-08T13:08:14.175Z"
   },
   {
    "duration": 100,
    "start_time": "2022-11-08T13:08:17.376Z"
   },
   {
    "duration": 95,
    "start_time": "2022-11-08T13:08:22.039Z"
   },
   {
    "duration": 7,
    "start_time": "2022-11-08T13:08:41.479Z"
   },
   {
    "duration": 101,
    "start_time": "2022-11-08T13:08:45.097Z"
   },
   {
    "duration": 192,
    "start_time": "2022-11-08T13:10:29.524Z"
   },
   {
    "duration": 92,
    "start_time": "2022-11-08T13:10:39.436Z"
   },
   {
    "duration": 98,
    "start_time": "2022-11-08T13:10:46.668Z"
   },
   {
    "duration": 135,
    "start_time": "2022-11-08T13:41:06.976Z"
   },
   {
    "duration": 130,
    "start_time": "2022-11-08T13:41:19.824Z"
   },
   {
    "duration": 8,
    "start_time": "2022-11-08T13:41:26.265Z"
   },
   {
    "duration": 126,
    "start_time": "2022-11-08T13:41:28.059Z"
   },
   {
    "duration": 218,
    "start_time": "2022-11-08T13:41:32.144Z"
   },
   {
    "duration": 137,
    "start_time": "2022-11-08T13:41:37.209Z"
   },
   {
    "duration": 126,
    "start_time": "2022-11-08T13:41:39.984Z"
   },
   {
    "duration": 122,
    "start_time": "2022-11-08T13:41:50.545Z"
   },
   {
    "duration": 191,
    "start_time": "2022-11-08T13:45:22.441Z"
   },
   {
    "duration": 127,
    "start_time": "2022-11-08T13:45:35.865Z"
   },
   {
    "duration": 133,
    "start_time": "2022-11-08T13:45:44.354Z"
   },
   {
    "duration": 132,
    "start_time": "2022-11-08T13:45:47.393Z"
   },
   {
    "duration": 128,
    "start_time": "2022-11-08T13:46:39.084Z"
   },
   {
    "duration": 429,
    "start_time": "2022-11-08T13:46:47.772Z"
   },
   {
    "duration": 454,
    "start_time": "2022-11-08T13:47:24.565Z"
   },
   {
    "duration": 366,
    "start_time": "2022-11-08T13:49:39.406Z"
   },
   {
    "duration": 1420,
    "start_time": "2022-11-08T13:49:49.523Z"
   },
   {
    "duration": 1353,
    "start_time": "2022-11-08T13:50:19.452Z"
   },
   {
    "duration": 1539,
    "start_time": "2022-11-08T13:50:22.652Z"
   },
   {
    "duration": 1437,
    "start_time": "2022-11-08T13:50:27.875Z"
   },
   {
    "duration": 1360,
    "start_time": "2022-11-08T13:50:34.020Z"
   },
   {
    "duration": 1936,
    "start_time": "2022-11-08T13:50:57.125Z"
   },
   {
    "duration": 1447,
    "start_time": "2022-11-08T13:51:11.022Z"
   },
   {
    "duration": 1422,
    "start_time": "2022-11-08T13:51:23.118Z"
   },
   {
    "duration": 1398,
    "start_time": "2022-11-08T13:51:33.032Z"
   },
   {
    "duration": 1382,
    "start_time": "2022-11-08T13:51:41.327Z"
   },
   {
    "duration": 364,
    "start_time": "2022-11-08T13:51:49.999Z"
   },
   {
    "duration": 991,
    "start_time": "2022-11-08T13:52:01.519Z"
   },
   {
    "duration": 654,
    "start_time": "2022-11-08T13:52:09.199Z"
   },
   {
    "duration": 675,
    "start_time": "2022-11-08T13:52:43.265Z"
   },
   {
    "duration": 718,
    "start_time": "2022-11-08T13:53:06.751Z"
   },
   {
    "duration": 990,
    "start_time": "2022-11-08T13:53:27.058Z"
   },
   {
    "duration": 24,
    "start_time": "2022-11-08T13:54:18.948Z"
   },
   {
    "duration": 6,
    "start_time": "2022-11-08T13:55:15.412Z"
   },
   {
    "duration": 71,
    "start_time": "2022-11-08T13:55:40.695Z"
   },
   {
    "duration": 5,
    "start_time": "2022-11-08T13:55:44.123Z"
   },
   {
    "duration": 4,
    "start_time": "2022-11-08T13:55:54.080Z"
   },
   {
    "duration": 8,
    "start_time": "2022-11-08T13:56:22.116Z"
   },
   {
    "duration": 9,
    "start_time": "2022-11-08T13:56:37.570Z"
   },
   {
    "duration": 71,
    "start_time": "2022-11-08T13:56:45.842Z"
   },
   {
    "duration": 70,
    "start_time": "2022-11-08T13:56:51.026Z"
   },
   {
    "duration": 11,
    "start_time": "2022-11-08T13:56:57.595Z"
   },
   {
    "duration": 4,
    "start_time": "2022-11-08T13:57:05.707Z"
   },
   {
    "duration": 274,
    "start_time": "2022-11-08T13:58:15.374Z"
   },
   {
    "duration": 5,
    "start_time": "2022-11-08T13:58:39.335Z"
   },
   {
    "duration": 6,
    "start_time": "2022-11-08T13:58:58.431Z"
   },
   {
    "duration": 7,
    "start_time": "2022-11-08T13:59:26.745Z"
   },
   {
    "duration": 10,
    "start_time": "2022-11-08T13:59:57.754Z"
   },
   {
    "duration": 9,
    "start_time": "2022-11-08T14:00:21.946Z"
   },
   {
    "duration": 9,
    "start_time": "2022-11-08T14:00:35.682Z"
   },
   {
    "duration": 10,
    "start_time": "2022-11-08T14:00:41.034Z"
   },
   {
    "duration": 12,
    "start_time": "2022-11-08T14:01:27.237Z"
   },
   {
    "duration": 593,
    "start_time": "2022-11-09T07:32:54.895Z"
   },
   {
    "duration": 88,
    "start_time": "2022-11-09T07:32:55.490Z"
   },
   {
    "duration": 14,
    "start_time": "2022-11-09T07:32:55.580Z"
   },
   {
    "duration": 31,
    "start_time": "2022-11-09T07:32:55.596Z"
   },
   {
    "duration": 1902,
    "start_time": "2022-11-09T07:32:55.628Z"
   },
   {
    "duration": 5,
    "start_time": "2022-11-09T07:32:57.532Z"
   },
   {
    "duration": 19,
    "start_time": "2022-11-09T07:32:57.540Z"
   },
   {
    "duration": 258,
    "start_time": "2022-11-09T07:32:57.561Z"
   },
   {
    "duration": 7,
    "start_time": "2022-11-09T07:32:57.821Z"
   },
   {
    "duration": 123,
    "start_time": "2022-11-09T07:32:57.831Z"
   },
   {
    "duration": 6,
    "start_time": "2022-11-09T07:32:57.955Z"
   },
   {
    "duration": 8,
    "start_time": "2022-11-09T07:32:57.962Z"
   },
   {
    "duration": 20,
    "start_time": "2022-11-09T07:32:57.971Z"
   },
   {
    "duration": 4,
    "start_time": "2022-11-09T07:32:57.992Z"
   },
   {
    "duration": 8,
    "start_time": "2022-11-09T07:32:57.998Z"
   },
   {
    "duration": 7,
    "start_time": "2022-11-09T07:32:58.007Z"
   },
   {
    "duration": 136,
    "start_time": "2022-11-09T07:32:58.015Z"
   },
   {
    "duration": 5,
    "start_time": "2022-11-09T07:32:58.152Z"
   },
   {
    "duration": 7,
    "start_time": "2022-11-09T07:32:58.158Z"
   },
   {
    "duration": 20,
    "start_time": "2022-11-09T07:32:58.166Z"
   },
   {
    "duration": 4,
    "start_time": "2022-11-09T07:32:58.188Z"
   },
   {
    "duration": 6,
    "start_time": "2022-11-09T07:32:58.194Z"
   },
   {
    "duration": 8,
    "start_time": "2022-11-09T07:32:58.201Z"
   },
   {
    "duration": 7,
    "start_time": "2022-11-09T07:32:58.210Z"
   },
   {
    "duration": 282,
    "start_time": "2022-11-09T07:32:58.219Z"
   },
   {
    "duration": 4,
    "start_time": "2022-11-09T07:32:58.502Z"
   },
   {
    "duration": 17,
    "start_time": "2022-11-09T07:32:58.507Z"
   },
   {
    "duration": 1134,
    "start_time": "2022-11-09T07:32:58.527Z"
   },
   {
    "duration": 23,
    "start_time": "2022-11-09T07:32:59.663Z"
   },
   {
    "duration": 12,
    "start_time": "2022-11-09T08:37:49.477Z"
   },
   {
    "duration": 13,
    "start_time": "2022-11-09T08:38:02.645Z"
   },
   {
    "duration": 7,
    "start_time": "2022-11-09T08:43:01.057Z"
   },
   {
    "duration": 4,
    "start_time": "2022-11-09T08:43:09.545Z"
   },
   {
    "duration": 7,
    "start_time": "2022-11-09T08:43:27.518Z"
   },
   {
    "duration": 7,
    "start_time": "2022-11-09T08:45:30.798Z"
   },
   {
    "duration": 6,
    "start_time": "2022-11-09T08:45:32.219Z"
   },
   {
    "duration": 7,
    "start_time": "2022-11-09T08:49:20.520Z"
   },
   {
    "duration": 7,
    "start_time": "2022-11-09T08:51:15.099Z"
   },
   {
    "duration": 7,
    "start_time": "2022-11-09T08:51:35.723Z"
   },
   {
    "duration": 4,
    "start_time": "2022-11-09T08:57:08.618Z"
   },
   {
    "duration": 79,
    "start_time": "2022-11-09T08:57:52.641Z"
   },
   {
    "duration": 11,
    "start_time": "2022-11-09T08:58:37.116Z"
   },
   {
    "duration": 10,
    "start_time": "2022-11-09T08:58:47.356Z"
   },
   {
    "duration": 15,
    "start_time": "2022-11-09T08:59:40.622Z"
   },
   {
    "duration": 36,
    "start_time": "2022-11-09T09:00:46.144Z"
   },
   {
    "duration": 9,
    "start_time": "2022-11-09T09:00:58.086Z"
   },
   {
    "duration": 11,
    "start_time": "2022-11-09T09:01:03.817Z"
   },
   {
    "duration": 75,
    "start_time": "2022-11-09T09:01:08.145Z"
   },
   {
    "duration": 13,
    "start_time": "2022-11-09T09:01:11.194Z"
   },
   {
    "duration": 14,
    "start_time": "2022-11-09T09:01:47.066Z"
   },
   {
    "duration": 3,
    "start_time": "2022-11-09T09:02:00.867Z"
   },
   {
    "duration": 13,
    "start_time": "2022-11-09T09:02:02.217Z"
   },
   {
    "duration": 16,
    "start_time": "2022-11-09T09:02:13.219Z"
   },
   {
    "duration": 21,
    "start_time": "2022-11-09T09:02:29.139Z"
   },
   {
    "duration": 4,
    "start_time": "2022-11-09T09:04:16.109Z"
   },
   {
    "duration": 69,
    "start_time": "2022-11-09T09:04:45.577Z"
   },
   {
    "duration": 7,
    "start_time": "2022-11-09T09:04:57.377Z"
   },
   {
    "duration": 13,
    "start_time": "2022-11-09T09:07:54.975Z"
   },
   {
    "duration": 7,
    "start_time": "2022-11-09T09:08:44.027Z"
   },
   {
    "duration": 134,
    "start_time": "2022-11-09T09:09:08.042Z"
   },
   {
    "duration": 125,
    "start_time": "2022-11-09T09:09:36.555Z"
   },
   {
    "duration": 10,
    "start_time": "2022-11-09T09:12:17.753Z"
   },
   {
    "duration": 37,
    "start_time": "2022-11-09T09:14:02.157Z"
   },
   {
    "duration": 19,
    "start_time": "2022-11-09T09:17:11.478Z"
   },
   {
    "duration": 30,
    "start_time": "2022-11-09T09:17:26.082Z"
   },
   {
    "duration": 19,
    "start_time": "2022-11-09T09:17:46.216Z"
   },
   {
    "duration": 33,
    "start_time": "2022-11-09T09:17:49.525Z"
   },
   {
    "duration": 27,
    "start_time": "2022-11-09T09:17:57.967Z"
   },
   {
    "duration": 47,
    "start_time": "2022-11-09T09:19:38.830Z"
   },
   {
    "duration": 27,
    "start_time": "2022-11-09T09:21:07.960Z"
   },
   {
    "duration": 33,
    "start_time": "2022-11-09T09:21:40.847Z"
   },
   {
    "duration": 11,
    "start_time": "2022-11-09T09:22:02.928Z"
   },
   {
    "duration": 9,
    "start_time": "2022-11-09T09:22:07.055Z"
   },
   {
    "duration": 121,
    "start_time": "2022-11-09T09:22:29.818Z"
   },
   {
    "duration": 33,
    "start_time": "2022-11-09T12:03:39.142Z"
   },
   {
    "duration": 19,
    "start_time": "2022-11-09T12:03:44.666Z"
   },
   {
    "duration": 31,
    "start_time": "2022-11-09T12:04:08.646Z"
   },
   {
    "duration": 33,
    "start_time": "2022-11-09T12:05:15.008Z"
   },
   {
    "duration": 22,
    "start_time": "2022-11-09T12:05:22.521Z"
   },
   {
    "duration": 24,
    "start_time": "2022-11-09T12:05:26.048Z"
   },
   {
    "duration": 20,
    "start_time": "2022-11-09T12:05:28.241Z"
   },
   {
    "duration": 39,
    "start_time": "2022-11-09T12:06:39.971Z"
   },
   {
    "duration": 20,
    "start_time": "2022-11-09T12:06:43.891Z"
   },
   {
    "duration": 23,
    "start_time": "2022-11-09T12:06:47.230Z"
   },
   {
    "duration": 21,
    "start_time": "2022-11-09T12:12:28.343Z"
   },
   {
    "duration": 14,
    "start_time": "2022-11-09T12:13:02.753Z"
   },
   {
    "duration": 26,
    "start_time": "2022-11-09T12:17:20.139Z"
   },
   {
    "duration": 13,
    "start_time": "2022-11-09T12:17:33.651Z"
   },
   {
    "duration": 10,
    "start_time": "2022-11-09T12:17:53.164Z"
   },
   {
    "duration": 12,
    "start_time": "2022-11-09T12:18:04.835Z"
   },
   {
    "duration": 7,
    "start_time": "2022-11-09T12:18:19.229Z"
   },
   {
    "duration": 11,
    "start_time": "2022-11-09T12:18:23.357Z"
   },
   {
    "duration": 9,
    "start_time": "2022-11-09T12:18:24.981Z"
   },
   {
    "duration": 6,
    "start_time": "2022-11-09T12:18:30.805Z"
   },
   {
    "duration": 7,
    "start_time": "2022-11-09T12:18:33.724Z"
   },
   {
    "duration": 11,
    "start_time": "2022-11-09T12:19:55.704Z"
   },
   {
    "duration": 12,
    "start_time": "2022-11-09T12:21:04.251Z"
   },
   {
    "duration": 5,
    "start_time": "2022-11-09T12:23:40.881Z"
   },
   {
    "duration": 69,
    "start_time": "2022-11-09T12:27:17.243Z"
   },
   {
    "duration": 11,
    "start_time": "2022-11-09T12:27:19.813Z"
   },
   {
    "duration": 11,
    "start_time": "2022-11-09T12:31:05.480Z"
   },
   {
    "duration": 13,
    "start_time": "2022-11-09T12:31:39.202Z"
   },
   {
    "duration": 7,
    "start_time": "2022-11-09T12:32:10.475Z"
   },
   {
    "duration": 8,
    "start_time": "2022-11-09T12:32:13.668Z"
   },
   {
    "duration": 12,
    "start_time": "2022-11-09T12:32:21.235Z"
   },
   {
    "duration": 14,
    "start_time": "2022-11-09T12:32:38.046Z"
   },
   {
    "duration": 10,
    "start_time": "2022-11-09T12:32:56.355Z"
   },
   {
    "duration": 13,
    "start_time": "2022-11-09T12:33:11.365Z"
   },
   {
    "duration": 11,
    "start_time": "2022-11-09T12:34:16.680Z"
   },
   {
    "duration": 8,
    "start_time": "2022-11-09T12:34:25.601Z"
   },
   {
    "duration": 10,
    "start_time": "2022-11-09T12:34:33.425Z"
   },
   {
    "duration": 4,
    "start_time": "2022-11-09T12:34:56.194Z"
   },
   {
    "duration": 34,
    "start_time": "2022-11-09T12:36:29.501Z"
   },
   {
    "duration": 33,
    "start_time": "2022-11-09T12:37:08.063Z"
   },
   {
    "duration": 34,
    "start_time": "2022-11-09T12:37:12.000Z"
   },
   {
    "duration": 14,
    "start_time": "2022-11-09T12:41:16.528Z"
   },
   {
    "duration": 14,
    "start_time": "2022-11-09T12:43:36.341Z"
   },
   {
    "duration": 14,
    "start_time": "2022-11-09T12:43:42.845Z"
   },
   {
    "duration": 8,
    "start_time": "2022-11-09T12:44:53.991Z"
   },
   {
    "duration": 6,
    "start_time": "2022-11-09T12:45:02.608Z"
   },
   {
    "duration": 5,
    "start_time": "2022-11-09T12:45:31.649Z"
   },
   {
    "duration": 10,
    "start_time": "2022-11-09T12:45:46.601Z"
   },
   {
    "duration": 14,
    "start_time": "2022-11-09T12:46:55.005Z"
   },
   {
    "duration": 10,
    "start_time": "2022-11-09T12:47:46.294Z"
   },
   {
    "duration": 4,
    "start_time": "2022-11-09T12:48:05.583Z"
   },
   {
    "duration": 9,
    "start_time": "2022-11-09T12:48:14.581Z"
   },
   {
    "duration": 5,
    "start_time": "2022-11-09T12:48:19.447Z"
   },
   {
    "duration": 3,
    "start_time": "2022-11-09T12:50:49.613Z"
   },
   {
    "duration": 100,
    "start_time": "2022-11-09T12:50:49.820Z"
   },
   {
    "duration": 16,
    "start_time": "2022-11-09T12:50:49.998Z"
   },
   {
    "duration": 36,
    "start_time": "2022-11-09T12:50:50.165Z"
   },
   {
    "duration": 2352,
    "start_time": "2022-11-09T12:50:50.333Z"
   },
   {
    "duration": 7,
    "start_time": "2022-11-09T12:50:52.689Z"
   },
   {
    "duration": 22,
    "start_time": "2022-11-09T12:50:52.698Z"
   },
   {
    "duration": 298,
    "start_time": "2022-11-09T12:50:52.723Z"
   },
   {
    "duration": 7,
    "start_time": "2022-11-09T12:50:53.023Z"
   },
   {
    "duration": 128,
    "start_time": "2022-11-09T12:50:53.032Z"
   },
   {
    "duration": 5,
    "start_time": "2022-11-09T12:50:53.162Z"
   },
   {
    "duration": 22,
    "start_time": "2022-11-09T12:50:53.169Z"
   },
   {
    "duration": 26,
    "start_time": "2022-11-09T12:50:53.192Z"
   },
   {
    "duration": 5,
    "start_time": "2022-11-09T12:50:53.332Z"
   },
   {
    "duration": 6,
    "start_time": "2022-11-09T12:50:53.700Z"
   },
   {
    "duration": 6,
    "start_time": "2022-11-09T12:50:54.124Z"
   },
   {
    "duration": 136,
    "start_time": "2022-11-09T12:50:54.485Z"
   },
   {
    "duration": 7,
    "start_time": "2022-11-09T12:50:54.701Z"
   },
   {
    "duration": 6,
    "start_time": "2022-11-09T12:50:54.902Z"
   },
   {
    "duration": 10,
    "start_time": "2022-11-09T12:50:56.173Z"
   },
   {
    "duration": 5,
    "start_time": "2022-11-09T12:50:56.381Z"
   },
   {
    "duration": 6,
    "start_time": "2022-11-09T12:50:56.542Z"
   },
   {
    "duration": 5,
    "start_time": "2022-11-09T12:50:56.710Z"
   },
   {
    "duration": 6,
    "start_time": "2022-11-09T12:50:57.037Z"
   },
   {
    "duration": 301,
    "start_time": "2022-11-09T12:50:57.205Z"
   },
   {
    "duration": 4,
    "start_time": "2022-11-09T12:50:57.509Z"
   },
   {
    "duration": 12,
    "start_time": "2022-11-09T12:50:58.894Z"
   },
   {
    "duration": 1121,
    "start_time": "2022-11-09T12:50:59.236Z"
   },
   {
    "duration": 14,
    "start_time": "2022-11-09T12:51:00.359Z"
   },
   {
    "duration": 11,
    "start_time": "2022-11-09T12:51:00.387Z"
   },
   {
    "duration": 20,
    "start_time": "2022-11-09T12:51:00.400Z"
   },
   {
    "duration": 27,
    "start_time": "2022-11-09T12:51:00.499Z"
   },
   {
    "duration": 4,
    "start_time": "2022-11-09T12:51:01.499Z"
   },
   {
    "duration": 139,
    "start_time": "2022-11-09T12:51:03.828Z"
   },
   {
    "duration": 17,
    "start_time": "2022-11-09T12:51:04.333Z"
   },
   {
    "duration": 25,
    "start_time": "2022-11-09T12:51:05.709Z"
   },
   {
    "duration": 5,
    "start_time": "2022-11-09T12:51:07.020Z"
   },
   {
    "duration": 31,
    "start_time": "2022-11-09T12:52:02.439Z"
   },
   {
    "duration": 30,
    "start_time": "2022-11-09T12:52:12.335Z"
   },
   {
    "duration": 44,
    "start_time": "2022-11-09T12:52:29.889Z"
   },
   {
    "duration": 12,
    "start_time": "2022-11-09T12:53:01.474Z"
   },
   {
    "duration": 4,
    "start_time": "2022-11-09T12:53:03.081Z"
   },
   {
    "duration": 75,
    "start_time": "2022-11-09T12:53:42.522Z"
   },
   {
    "duration": 614,
    "start_time": "2022-11-09T12:53:46.163Z"
   },
   {
    "duration": 561,
    "start_time": "2022-11-09T12:54:07.391Z"
   },
   {
    "duration": 10,
    "start_time": "2022-11-09T12:54:18.477Z"
   },
   {
    "duration": 83,
    "start_time": "2022-11-09T12:54:27.702Z"
   },
   {
    "duration": 8,
    "start_time": "2022-11-09T12:54:30.156Z"
   },
   {
    "duration": 4,
    "start_time": "2022-11-09T12:58:35.277Z"
   },
   {
    "duration": 12,
    "start_time": "2022-11-09T12:58:47.328Z"
   },
   {
    "duration": 11,
    "start_time": "2022-11-09T13:01:42.652Z"
   },
   {
    "duration": 14,
    "start_time": "2022-11-09T13:02:12.573Z"
   },
   {
    "duration": 139,
    "start_time": "2022-11-09T13:02:33.582Z"
   },
   {
    "duration": 4,
    "start_time": "2022-11-09T13:03:39.171Z"
   },
   {
    "duration": 12,
    "start_time": "2022-11-09T13:03:41.217Z"
   },
   {
    "duration": 5,
    "start_time": "2022-11-09T13:03:49.441Z"
   },
   {
    "duration": 9,
    "start_time": "2022-11-09T13:03:50.559Z"
   },
   {
    "duration": 3,
    "start_time": "2022-11-09T13:04:54.332Z"
   },
   {
    "duration": 85,
    "start_time": "2022-11-09T13:05:08.555Z"
   },
   {
    "duration": 12,
    "start_time": "2022-11-09T13:05:12.068Z"
   },
   {
    "duration": 7,
    "start_time": "2022-11-09T13:05:16.237Z"
   },
   {
    "duration": 5,
    "start_time": "2022-11-09T13:05:26.283Z"
   },
   {
    "duration": 6,
    "start_time": "2022-11-09T13:06:20.168Z"
   },
   {
    "duration": 17,
    "start_time": "2022-11-09T13:06:22.935Z"
   },
   {
    "duration": 143,
    "start_time": "2022-11-09T13:06:25.191Z"
   },
   {
    "duration": 9,
    "start_time": "2022-11-09T13:07:06.057Z"
   },
   {
    "duration": 3,
    "start_time": "2022-11-09T13:09:03.805Z"
   },
   {
    "duration": 90,
    "start_time": "2022-11-09T13:09:03.964Z"
   },
   {
    "duration": 15,
    "start_time": "2022-11-09T13:09:04.107Z"
   },
   {
    "duration": 21,
    "start_time": "2022-11-09T13:09:04.276Z"
   },
   {
    "duration": 2227,
    "start_time": "2022-11-09T13:09:04.428Z"
   },
   {
    "duration": 6,
    "start_time": "2022-11-09T13:09:06.657Z"
   },
   {
    "duration": 28,
    "start_time": "2022-11-09T13:09:06.664Z"
   },
   {
    "duration": 270,
    "start_time": "2022-11-09T13:09:06.694Z"
   },
   {
    "duration": 7,
    "start_time": "2022-11-09T13:09:06.966Z"
   },
   {
    "duration": 125,
    "start_time": "2022-11-09T13:09:06.985Z"
   },
   {
    "duration": 9,
    "start_time": "2022-11-09T13:09:07.112Z"
   },
   {
    "duration": 5,
    "start_time": "2022-11-09T13:09:07.901Z"
   },
   {
    "duration": 8,
    "start_time": "2022-11-09T13:09:08.492Z"
   },
   {
    "duration": 6,
    "start_time": "2022-11-09T13:09:09.964Z"
   },
   {
    "duration": 6,
    "start_time": "2022-11-09T13:09:10.141Z"
   },
   {
    "duration": 8,
    "start_time": "2022-11-09T13:09:10.444Z"
   },
   {
    "duration": 124,
    "start_time": "2022-11-09T13:09:10.850Z"
   },
   {
    "duration": 7,
    "start_time": "2022-11-09T13:09:11.805Z"
   },
   {
    "duration": 8,
    "start_time": "2022-11-09T13:09:12.805Z"
   },
   {
    "duration": 8,
    "start_time": "2022-11-09T13:09:13.045Z"
   },
   {
    "duration": 6,
    "start_time": "2022-11-09T13:09:13.229Z"
   },
   {
    "duration": 6,
    "start_time": "2022-11-09T13:09:13.413Z"
   },
   {
    "duration": 8,
    "start_time": "2022-11-09T13:09:13.596Z"
   },
   {
    "duration": 7,
    "start_time": "2022-11-09T13:09:14.765Z"
   },
   {
    "duration": 250,
    "start_time": "2022-11-09T13:09:14.926Z"
   },
   {
    "duration": 4,
    "start_time": "2022-11-09T13:09:15.185Z"
   },
   {
    "duration": 11,
    "start_time": "2022-11-09T13:09:16.364Z"
   },
   {
    "duration": 1159,
    "start_time": "2022-11-09T13:09:17.068Z"
   },
   {
    "duration": 17,
    "start_time": "2022-11-09T13:09:24.829Z"
   },
   {
    "duration": 10,
    "start_time": "2022-11-09T13:09:25.012Z"
   },
   {
    "duration": 5,
    "start_time": "2022-11-09T13:09:25.357Z"
   },
   {
    "duration": 24,
    "start_time": "2022-11-09T13:09:25.541Z"
   },
   {
    "duration": 4,
    "start_time": "2022-11-09T13:09:27.285Z"
   },
   {
    "duration": 140,
    "start_time": "2022-11-09T13:09:28.549Z"
   },
   {
    "duration": 22,
    "start_time": "2022-11-09T13:09:29.973Z"
   },
   {
    "duration": 29,
    "start_time": "2022-11-09T13:09:35.277Z"
   },
   {
    "duration": 6,
    "start_time": "2022-11-09T13:09:36.405Z"
   },
   {
    "duration": 36,
    "start_time": "2022-11-09T13:09:37.670Z"
   },
   {
    "duration": 6,
    "start_time": "2022-11-09T13:09:39.717Z"
   },
   {
    "duration": 18,
    "start_time": "2022-11-09T13:09:40.405Z"
   },
   {
    "duration": 4,
    "start_time": "2022-11-09T13:09:41.446Z"
   },
   {
    "duration": 16,
    "start_time": "2022-11-09T13:12:33.220Z"
   },
   {
    "duration": 39,
    "start_time": "2022-11-09T13:12:39.476Z"
   },
   {
    "duration": 12,
    "start_time": "2022-11-09T13:12:44.197Z"
   },
   {
    "duration": 43,
    "start_time": "2022-11-09T13:12:49.061Z"
   },
   {
    "duration": 9,
    "start_time": "2022-11-09T13:13:01.696Z"
   },
   {
    "duration": 10,
    "start_time": "2022-11-09T13:13:56.808Z"
   },
   {
    "duration": 11,
    "start_time": "2022-11-09T13:14:33.033Z"
   },
   {
    "duration": 13,
    "start_time": "2022-11-09T13:14:48.825Z"
   },
   {
    "duration": 9,
    "start_time": "2022-11-09T13:15:37.019Z"
   },
   {
    "duration": 15,
    "start_time": "2022-11-09T13:15:52.404Z"
   },
   {
    "duration": 120,
    "start_time": "2022-11-09T13:16:00.611Z"
   },
   {
    "duration": 6,
    "start_time": "2022-11-09T13:16:21.253Z"
   },
   {
    "duration": 208,
    "start_time": "2022-11-09T13:23:54.175Z"
   },
   {
    "duration": 200,
    "start_time": "2022-11-09T13:24:16.342Z"
   },
   {
    "duration": 254,
    "start_time": "2022-11-09T13:24:21.383Z"
   },
   {
    "duration": 264,
    "start_time": "2022-11-09T13:24:29.334Z"
   },
   {
    "duration": 414,
    "start_time": "2022-11-09T13:25:01.529Z"
   },
   {
    "duration": 348,
    "start_time": "2022-11-09T13:25:14.921Z"
   },
   {
    "duration": 6,
    "start_time": "2022-11-09T13:26:09.010Z"
   },
   {
    "duration": 5,
    "start_time": "2022-11-09T13:26:18.516Z"
   },
   {
    "duration": 8,
    "start_time": "2022-11-09T13:26:24.099Z"
   },
   {
    "duration": 73,
    "start_time": "2022-11-09T13:26:47.604Z"
   },
   {
    "duration": 8,
    "start_time": "2022-11-09T13:27:05.612Z"
   },
   {
    "duration": 7,
    "start_time": "2022-11-09T13:27:16.228Z"
   },
   {
    "duration": 13,
    "start_time": "2022-11-09T13:27:19.500Z"
   },
   {
    "duration": 7,
    "start_time": "2022-11-09T13:27:29.662Z"
   },
   {
    "duration": 9,
    "start_time": "2022-11-09T13:27:35.749Z"
   },
   {
    "duration": 7,
    "start_time": "2022-11-09T13:27:42.365Z"
   },
   {
    "duration": 8,
    "start_time": "2022-11-09T13:27:46.046Z"
   },
   {
    "duration": 7,
    "start_time": "2022-11-09T13:30:47.589Z"
   },
   {
    "duration": 11,
    "start_time": "2022-11-09T13:30:47.995Z"
   },
   {
    "duration": 8,
    "start_time": "2022-11-09T13:31:08.349Z"
   },
   {
    "duration": 9,
    "start_time": "2022-11-09T13:31:08.605Z"
   },
   {
    "duration": 7,
    "start_time": "2022-11-09T13:32:33.176Z"
   },
   {
    "duration": 5,
    "start_time": "2022-11-09T13:32:38.041Z"
   },
   {
    "duration": 5,
    "start_time": "2022-11-09T13:35:22.991Z"
   },
   {
    "duration": 7,
    "start_time": "2022-11-09T13:35:31.593Z"
   },
   {
    "duration": 6,
    "start_time": "2022-11-09T13:35:37.176Z"
   },
   {
    "duration": 11,
    "start_time": "2022-11-09T13:35:48.560Z"
   },
   {
    "duration": 146,
    "start_time": "2022-11-09T13:36:01.384Z"
   },
   {
    "duration": 14,
    "start_time": "2022-11-09T13:36:24.049Z"
   },
   {
    "duration": 747,
    "start_time": "2022-11-09T13:36:47.499Z"
   },
   {
    "duration": 6,
    "start_time": "2022-11-09T13:40:10.530Z"
   },
   {
    "duration": 5,
    "start_time": "2022-11-09T13:40:18.098Z"
   },
   {
    "duration": 5,
    "start_time": "2022-11-09T13:40:22.131Z"
   },
   {
    "duration": 5,
    "start_time": "2022-11-09T13:40:28.587Z"
   },
   {
    "duration": 44,
    "start_time": "2022-11-09T13:41:03.836Z"
   },
   {
    "duration": 28,
    "start_time": "2022-11-09T13:41:50.998Z"
   },
   {
    "duration": 27,
    "start_time": "2022-11-09T13:42:05.238Z"
   },
   {
    "duration": 9,
    "start_time": "2022-11-09T13:42:22.695Z"
   },
   {
    "duration": 33,
    "start_time": "2022-11-09T13:46:25.256Z"
   },
   {
    "duration": 77,
    "start_time": "2022-11-09T13:46:30.704Z"
   },
   {
    "duration": 30,
    "start_time": "2022-11-09T13:46:33.673Z"
   },
   {
    "duration": 18,
    "start_time": "2022-11-09T13:47:28.778Z"
   },
   {
    "duration": 325,
    "start_time": "2022-11-09T13:47:47.811Z"
   },
   {
    "duration": 913,
    "start_time": "2022-11-09T13:48:15.836Z"
   },
   {
    "duration": 1253,
    "start_time": "2022-11-09T13:48:28.468Z"
   },
   {
    "duration": 1001,
    "start_time": "2022-11-09T13:48:38.854Z"
   },
   {
    "duration": 84,
    "start_time": "2022-11-10T11:00:26.271Z"
   },
   {
    "duration": 76,
    "start_time": "2022-11-10T11:05:33.832Z"
   },
   {
    "duration": 17,
    "start_time": "2022-11-10T11:05:50.435Z"
   },
   {
    "duration": 697,
    "start_time": "2022-11-10T11:06:10.420Z"
   },
   {
    "duration": 3136,
    "start_time": "2022-11-10T11:06:29.117Z"
   },
   {
    "duration": 894,
    "start_time": "2022-11-10T11:06:48.110Z"
   },
   {
    "duration": 65,
    "start_time": "2022-11-10T11:07:31.032Z"
   },
   {
    "duration": 7,
    "start_time": "2022-11-10T11:07:45.455Z"
   },
   {
    "duration": 10,
    "start_time": "2022-11-10T11:08:04.280Z"
   },
   {
    "duration": 8,
    "start_time": "2022-11-10T11:08:10.280Z"
   },
   {
    "duration": 11,
    "start_time": "2022-11-10T11:08:24.050Z"
   },
   {
    "duration": 8,
    "start_time": "2022-11-10T11:08:27.954Z"
   },
   {
    "duration": 45,
    "start_time": "2022-11-10T11:08:41.675Z"
   },
   {
    "duration": 13,
    "start_time": "2022-11-10T11:08:57.610Z"
   },
   {
    "duration": 10,
    "start_time": "2022-11-10T11:09:12.731Z"
   },
   {
    "duration": 93,
    "start_time": "2022-11-10T11:09:56.468Z"
   },
   {
    "duration": 106,
    "start_time": "2022-11-10T11:10:02.892Z"
   },
   {
    "duration": 24,
    "start_time": "2022-11-10T11:27:32.977Z"
   },
   {
    "duration": 3,
    "start_time": "2022-11-10T11:30:32.008Z"
   },
   {
    "duration": 36,
    "start_time": "2022-11-10T11:31:06.665Z"
   },
   {
    "duration": 40,
    "start_time": "2022-11-10T11:31:39.132Z"
   },
   {
    "duration": 16,
    "start_time": "2022-11-10T11:32:39.990Z"
   },
   {
    "duration": 31,
    "start_time": "2022-11-10T11:32:51.445Z"
   },
   {
    "duration": 30,
    "start_time": "2022-11-10T11:33:15.830Z"
   },
   {
    "duration": 9,
    "start_time": "2022-11-10T11:35:30.756Z"
   },
   {
    "duration": 12,
    "start_time": "2022-11-10T11:35:49.076Z"
   },
   {
    "duration": 8,
    "start_time": "2022-11-10T11:35:55.076Z"
   },
   {
    "duration": 12,
    "start_time": "2022-11-10T11:35:58.181Z"
   },
   {
    "duration": 41,
    "start_time": "2022-11-10T11:36:08.820Z"
   },
   {
    "duration": 10,
    "start_time": "2022-11-10T11:36:37.926Z"
   },
   {
    "duration": 13,
    "start_time": "2022-11-10T11:36:46.621Z"
   },
   {
    "duration": 120,
    "start_time": "2022-11-10T11:37:14.047Z"
   },
   {
    "duration": 12,
    "start_time": "2022-11-10T11:37:18.663Z"
   },
   {
    "duration": 5,
    "start_time": "2022-11-10T11:40:33.623Z"
   },
   {
    "duration": 4,
    "start_time": "2022-11-10T11:40:46.336Z"
   },
   {
    "duration": 6,
    "start_time": "2022-11-10T11:40:57.608Z"
   },
   {
    "duration": 5,
    "start_time": "2022-11-10T11:41:19.617Z"
   },
   {
    "duration": 33,
    "start_time": "2022-11-10T11:43:07.651Z"
   },
   {
    "duration": 3,
    "start_time": "2022-11-10T11:44:04.440Z"
   },
   {
    "duration": 16,
    "start_time": "2022-11-10T11:44:20.629Z"
   },
   {
    "duration": 3,
    "start_time": "2022-11-10T11:44:44.464Z"
   },
   {
    "duration": 44,
    "start_time": "2022-11-10T11:44:48.392Z"
   },
   {
    "duration": 37,
    "start_time": "2022-11-10T11:45:06.522Z"
   },
   {
    "duration": 3,
    "start_time": "2022-11-10T11:45:54.907Z"
   },
   {
    "duration": 8,
    "start_time": "2022-11-10T11:46:39.381Z"
   },
   {
    "duration": 9,
    "start_time": "2022-11-10T11:46:51.421Z"
   },
   {
    "duration": 84,
    "start_time": "2022-11-10T11:47:37.599Z"
   },
   {
    "duration": 70,
    "start_time": "2022-11-10T11:47:43.454Z"
   },
   {
    "duration": 6,
    "start_time": "2022-11-10T11:54:27.654Z"
   },
   {
    "duration": 6,
    "start_time": "2022-11-10T11:54:37.871Z"
   },
   {
    "duration": 6,
    "start_time": "2022-11-10T11:54:46.942Z"
   },
   {
    "duration": 7,
    "start_time": "2022-11-10T11:54:59.631Z"
   },
   {
    "duration": 6,
    "start_time": "2022-11-10T11:55:24.545Z"
   },
   {
    "duration": 5,
    "start_time": "2022-11-10T11:55:25.368Z"
   },
   {
    "duration": 4,
    "start_time": "2022-11-10T11:56:13.778Z"
   },
   {
    "duration": 6,
    "start_time": "2022-11-10T11:56:41.699Z"
   },
   {
    "duration": 7,
    "start_time": "2022-11-10T11:58:11.719Z"
   },
   {
    "duration": 15,
    "start_time": "2022-11-10T12:01:14.079Z"
   },
   {
    "duration": 11,
    "start_time": "2022-11-10T12:01:25.894Z"
   },
   {
    "duration": 4,
    "start_time": "2022-11-10T12:01:57.591Z"
   },
   {
    "duration": 12,
    "start_time": "2022-11-10T12:02:00.790Z"
   },
   {
    "duration": 70,
    "start_time": "2022-11-10T12:02:30.056Z"
   },
   {
    "duration": 6,
    "start_time": "2022-11-10T12:05:35.415Z"
   },
   {
    "duration": 29,
    "start_time": "2022-11-10T12:05:45.495Z"
   },
   {
    "duration": 73,
    "start_time": "2022-11-10T12:08:23.356Z"
   },
   {
    "duration": 18,
    "start_time": "2022-11-10T12:08:29.265Z"
   },
   {
    "duration": 9,
    "start_time": "2022-11-10T12:08:42.697Z"
   },
   {
    "duration": 5,
    "start_time": "2022-11-10T12:10:06.529Z"
   },
   {
    "duration": 5,
    "start_time": "2022-11-10T12:10:15.385Z"
   },
   {
    "duration": 2,
    "start_time": "2022-11-10T12:13:54.369Z"
   },
   {
    "duration": 34,
    "start_time": "2022-11-10T12:17:16.952Z"
   },
   {
    "duration": 4,
    "start_time": "2022-11-10T12:19:17.596Z"
   },
   {
    "duration": 17,
    "start_time": "2022-11-10T12:19:33.980Z"
   },
   {
    "duration": 210,
    "start_time": "2022-11-10T12:19:39.026Z"
   },
   {
    "duration": 192,
    "start_time": "2022-11-10T12:20:15.350Z"
   },
   {
    "duration": 185,
    "start_time": "2022-11-10T12:20:18.630Z"
   },
   {
    "duration": 27,
    "start_time": "2022-11-10T12:20:52.774Z"
   },
   {
    "duration": 12,
    "start_time": "2022-11-10T12:21:10.817Z"
   },
   {
    "duration": 1160,
    "start_time": "2022-11-10T12:21:14.983Z"
   },
   {
    "duration": 19,
    "start_time": "2022-11-10T12:21:49.994Z"
   },
   {
    "duration": 188,
    "start_time": "2022-11-10T12:22:07.194Z"
   },
   {
    "duration": 20,
    "start_time": "2022-11-10T12:22:10.253Z"
   },
   {
    "duration": 3,
    "start_time": "2022-11-10T12:22:29.739Z"
   },
   {
    "duration": 163,
    "start_time": "2022-11-10T12:22:35.010Z"
   },
   {
    "duration": 22,
    "start_time": "2022-11-10T12:22:41.419Z"
   },
   {
    "duration": 3,
    "start_time": "2022-11-10T12:23:45.759Z"
   },
   {
    "duration": 108,
    "start_time": "2022-11-10T12:23:45.925Z"
   },
   {
    "duration": 19,
    "start_time": "2022-11-10T12:23:46.133Z"
   },
   {
    "duration": 24,
    "start_time": "2022-11-10T12:23:46.326Z"
   },
   {
    "duration": 1927,
    "start_time": "2022-11-10T12:23:46.477Z"
   },
   {
    "duration": 6,
    "start_time": "2022-11-10T12:23:48.406Z"
   },
   {
    "duration": 45,
    "start_time": "2022-11-10T12:23:48.414Z"
   },
   {
    "duration": 249,
    "start_time": "2022-11-10T12:23:48.461Z"
   },
   {
    "duration": 6,
    "start_time": "2022-11-10T12:23:48.712Z"
   },
   {
    "duration": 493,
    "start_time": "2022-11-10T12:23:48.721Z"
   },
   {
    "duration": 7,
    "start_time": "2022-11-10T12:23:49.216Z"
   },
   {
    "duration": 14,
    "start_time": "2022-11-10T12:23:49.226Z"
   },
   {
    "duration": 16,
    "start_time": "2022-11-10T12:23:49.242Z"
   },
   {
    "duration": 30,
    "start_time": "2022-11-10T12:23:49.259Z"
   },
   {
    "duration": 7,
    "start_time": "2022-11-10T12:23:49.291Z"
   },
   {
    "duration": 5,
    "start_time": "2022-11-10T12:23:49.380Z"
   },
   {
    "duration": 109,
    "start_time": "2022-11-10T12:23:49.710Z"
   },
   {
    "duration": 6,
    "start_time": "2022-11-10T12:23:49.877Z"
   },
   {
    "duration": 6,
    "start_time": "2022-11-10T12:23:50.020Z"
   },
   {
    "duration": 8,
    "start_time": "2022-11-10T12:23:50.182Z"
   },
   {
    "duration": 5,
    "start_time": "2022-11-10T12:23:50.350Z"
   },
   {
    "duration": 5,
    "start_time": "2022-11-10T12:23:50.519Z"
   },
   {
    "duration": 5,
    "start_time": "2022-11-10T12:23:51.774Z"
   },
   {
    "duration": 6,
    "start_time": "2022-11-10T12:23:52.093Z"
   },
   {
    "duration": 186,
    "start_time": "2022-11-10T12:23:52.247Z"
   },
   {
    "duration": 4,
    "start_time": "2022-11-10T12:23:52.435Z"
   },
   {
    "duration": 10,
    "start_time": "2022-11-10T12:23:54.485Z"
   },
   {
    "duration": 1172,
    "start_time": "2022-11-10T12:23:54.782Z"
   },
   {
    "duration": 16,
    "start_time": "2022-11-10T12:23:55.957Z"
   },
   {
    "duration": 8,
    "start_time": "2022-11-10T12:23:56.310Z"
   },
   {
    "duration": 4,
    "start_time": "2022-11-10T12:23:56.990Z"
   },
   {
    "duration": 24,
    "start_time": "2022-11-10T12:23:57.141Z"
   },
   {
    "duration": 6,
    "start_time": "2022-11-10T12:23:57.296Z"
   },
   {
    "duration": 166,
    "start_time": "2022-11-10T12:23:57.805Z"
   },
   {
    "duration": 19,
    "start_time": "2022-11-10T12:23:57.974Z"
   },
   {
    "duration": 5,
    "start_time": "2022-11-10T12:23:58.134Z"
   },
   {
    "duration": 23,
    "start_time": "2022-11-10T12:23:58.590Z"
   },
   {
    "duration": 7,
    "start_time": "2022-11-10T12:23:58.758Z"
   },
   {
    "duration": 14,
    "start_time": "2022-11-10T12:23:59.086Z"
   },
   {
    "duration": 4,
    "start_time": "2022-11-10T12:23:59.254Z"
   },
   {
    "duration": 8,
    "start_time": "2022-11-10T12:24:00.966Z"
   },
   {
    "duration": 10,
    "start_time": "2022-11-10T12:24:01.518Z"
   },
   {
    "duration": 11,
    "start_time": "2022-11-10T12:24:01.686Z"
   },
   {
    "duration": 11,
    "start_time": "2022-11-10T12:24:01.861Z"
   },
   {
    "duration": 371,
    "start_time": "2022-11-10T12:24:03.022Z"
   },
   {
    "duration": 14,
    "start_time": "2022-11-10T12:24:03.396Z"
   },
   {
    "duration": 28,
    "start_time": "2022-11-10T12:24:03.411Z"
   },
   {
    "duration": 6,
    "start_time": "2022-11-10T12:24:03.702Z"
   },
   {
    "duration": 846,
    "start_time": "2022-11-10T12:24:04.286Z"
   },
   {
    "duration": 10,
    "start_time": "2022-11-10T12:24:05.135Z"
   },
   {
    "duration": 3,
    "start_time": "2022-11-10T12:24:05.831Z"
   },
   {
    "duration": 14,
    "start_time": "2022-11-10T12:24:09.542Z"
   },
   {
    "duration": 6,
    "start_time": "2022-11-10T12:24:10.238Z"
   },
   {
    "duration": 1008,
    "start_time": "2022-11-10T12:24:10.846Z"
   },
   {
    "duration": 9,
    "start_time": "2022-11-10T12:24:11.857Z"
   },
   {
    "duration": 5,
    "start_time": "2022-11-10T12:24:12.143Z"
   },
   {
    "duration": 5,
    "start_time": "2022-11-10T12:24:14.254Z"
   },
   {
    "duration": 9,
    "start_time": "2022-11-10T12:24:15.487Z"
   },
   {
    "duration": 4,
    "start_time": "2022-11-10T12:24:19.318Z"
   },
   {
    "duration": 21,
    "start_time": "2022-11-10T12:24:21.511Z"
   },
   {
    "duration": 20,
    "start_time": "2022-11-10T12:24:23.552Z"
   },
   {
    "duration": 11,
    "start_time": "2022-11-10T12:24:25.967Z"
   },
   {
    "duration": 22,
    "start_time": "2022-11-10T12:24:26.334Z"
   },
   {
    "duration": 17,
    "start_time": "2022-11-10T12:24:54.233Z"
   },
   {
    "duration": 32,
    "start_time": "2022-11-10T12:25:07.585Z"
   },
   {
    "duration": 13,
    "start_time": "2022-11-10T12:26:43.973Z"
   },
   {
    "duration": 700,
    "start_time": "2022-11-10T12:26:50.719Z"
   },
   {
    "duration": 113,
    "start_time": "2022-11-10T12:26:51.422Z"
   },
   {
    "duration": 19,
    "start_time": "2022-11-10T12:26:51.537Z"
   },
   {
    "duration": 67,
    "start_time": "2022-11-10T12:26:51.560Z"
   },
   {
    "duration": 2296,
    "start_time": "2022-11-10T12:26:51.629Z"
   },
   {
    "duration": 7,
    "start_time": "2022-11-10T12:26:53.928Z"
   },
   {
    "duration": 29,
    "start_time": "2022-11-10T12:26:53.938Z"
   },
   {
    "duration": 390,
    "start_time": "2022-11-10T12:26:53.969Z"
   },
   {
    "duration": 12,
    "start_time": "2022-11-10T12:26:54.361Z"
   },
   {
    "duration": 162,
    "start_time": "2022-11-10T12:26:54.378Z"
   },
   {
    "duration": 10,
    "start_time": "2022-11-10T12:26:54.542Z"
   },
   {
    "duration": 21,
    "start_time": "2022-11-10T12:26:54.555Z"
   },
   {
    "duration": 22,
    "start_time": "2022-11-10T12:26:54.579Z"
   },
   {
    "duration": 11,
    "start_time": "2022-11-10T12:26:54.603Z"
   },
   {
    "duration": 16,
    "start_time": "2022-11-10T12:26:54.616Z"
   },
   {
    "duration": 22,
    "start_time": "2022-11-10T12:26:54.634Z"
   },
   {
    "duration": 137,
    "start_time": "2022-11-10T12:26:54.658Z"
   },
   {
    "duration": 12,
    "start_time": "2022-11-10T12:26:54.797Z"
   },
   {
    "duration": 7,
    "start_time": "2022-11-10T12:26:54.811Z"
   },
   {
    "duration": 9,
    "start_time": "2022-11-10T12:26:54.820Z"
   },
   {
    "duration": 7,
    "start_time": "2022-11-10T12:26:54.831Z"
   },
   {
    "duration": 10,
    "start_time": "2022-11-10T12:26:54.839Z"
   },
   {
    "duration": 8,
    "start_time": "2022-11-10T12:26:54.851Z"
   },
   {
    "duration": 45,
    "start_time": "2022-11-10T12:26:54.861Z"
   },
   {
    "duration": 359,
    "start_time": "2022-11-10T12:26:54.909Z"
   },
   {
    "duration": 5,
    "start_time": "2022-11-10T12:26:55.270Z"
   },
   {
    "duration": 16,
    "start_time": "2022-11-10T12:26:55.278Z"
   },
   {
    "duration": 1326,
    "start_time": "2022-11-10T12:26:55.304Z"
   },
   {
    "duration": 20,
    "start_time": "2022-11-10T12:26:56.633Z"
   },
   {
    "duration": 13,
    "start_time": "2022-11-10T12:26:56.655Z"
   },
   {
    "duration": 5,
    "start_time": "2022-11-10T12:26:56.670Z"
   },
   {
    "duration": 37,
    "start_time": "2022-11-10T12:26:56.705Z"
   },
   {
    "duration": 5,
    "start_time": "2022-11-10T12:26:56.744Z"
   },
   {
    "duration": 191,
    "start_time": "2022-11-10T12:26:56.751Z"
   },
   {
    "duration": 27,
    "start_time": "2022-11-10T12:26:56.943Z"
   },
   {
    "duration": 23,
    "start_time": "2022-11-10T12:26:56.972Z"
   },
   {
    "duration": 42,
    "start_time": "2022-11-10T12:26:56.997Z"
   },
   {
    "duration": 8,
    "start_time": "2022-11-10T12:26:57.041Z"
   },
   {
    "duration": 22,
    "start_time": "2022-11-10T12:26:57.050Z"
   },
   {
    "duration": 10,
    "start_time": "2022-11-10T12:26:57.074Z"
   },
   {
    "duration": 27,
    "start_time": "2022-11-10T12:26:57.087Z"
   },
   {
    "duration": 12,
    "start_time": "2022-11-10T12:26:57.117Z"
   },
   {
    "duration": 25,
    "start_time": "2022-11-10T12:26:57.130Z"
   },
   {
    "duration": 11,
    "start_time": "2022-11-10T12:26:57.156Z"
   },
   {
    "duration": 578,
    "start_time": "2022-11-10T12:26:57.169Z"
   },
   {
    "duration": 12,
    "start_time": "2022-11-10T12:26:57.750Z"
   },
   {
    "duration": 47,
    "start_time": "2022-11-10T12:26:57.765Z"
   },
   {
    "duration": 31,
    "start_time": "2022-11-10T12:26:57.814Z"
   },
   {
    "duration": 1120,
    "start_time": "2022-11-10T12:26:57.847Z"
   },
   {
    "duration": 9,
    "start_time": "2022-11-10T12:26:58.969Z"
   },
   {
    "duration": 9,
    "start_time": "2022-11-10T12:26:58.980Z"
   },
   {
    "duration": 30,
    "start_time": "2022-11-10T12:26:58.991Z"
   },
   {
    "duration": 5,
    "start_time": "2022-11-10T12:26:59.024Z"
   },
   {
    "duration": 774,
    "start_time": "2022-11-10T12:26:59.031Z"
   },
   {
    "duration": 11,
    "start_time": "2022-11-10T12:26:59.807Z"
   },
   {
    "duration": 7,
    "start_time": "2022-11-10T12:26:59.820Z"
   },
   {
    "duration": 8,
    "start_time": "2022-11-10T12:26:59.829Z"
   },
   {
    "duration": 12,
    "start_time": "2022-11-10T12:26:59.839Z"
   },
   {
    "duration": 4,
    "start_time": "2022-11-10T12:26:59.853Z"
   },
   {
    "duration": 60,
    "start_time": "2022-11-10T12:26:59.859Z"
   },
   {
    "duration": 34,
    "start_time": "2022-11-10T12:26:59.922Z"
   },
   {
    "duration": 26,
    "start_time": "2022-11-10T12:27:25.308Z"
   },
   {
    "duration": 759,
    "start_time": "2022-11-10T12:29:11.199Z"
   },
   {
    "duration": 105,
    "start_time": "2022-11-10T12:29:11.962Z"
   },
   {
    "duration": 17,
    "start_time": "2022-11-10T12:29:12.069Z"
   },
   {
    "duration": 69,
    "start_time": "2022-11-10T12:29:12.087Z"
   },
   {
    "duration": 2382,
    "start_time": "2022-11-10T12:29:12.159Z"
   },
   {
    "duration": 9,
    "start_time": "2022-11-10T12:29:14.544Z"
   },
   {
    "duration": 30,
    "start_time": "2022-11-10T12:29:14.555Z"
   },
   {
    "duration": 412,
    "start_time": "2022-11-10T12:29:14.587Z"
   },
   {
    "duration": 12,
    "start_time": "2022-11-10T12:29:15.004Z"
   },
   {
    "duration": 246,
    "start_time": "2022-11-10T12:29:15.019Z"
   },
   {
    "duration": 5,
    "start_time": "2022-11-10T12:29:15.267Z"
   },
   {
    "duration": 71,
    "start_time": "2022-11-10T12:29:15.274Z"
   },
   {
    "duration": 45,
    "start_time": "2022-11-10T12:29:15.347Z"
   },
   {
    "duration": 16,
    "start_time": "2022-11-10T12:29:15.395Z"
   },
   {
    "duration": 20,
    "start_time": "2022-11-10T12:29:15.413Z"
   },
   {
    "duration": 14,
    "start_time": "2022-11-10T12:29:15.436Z"
   },
   {
    "duration": 153,
    "start_time": "2022-11-10T12:29:15.452Z"
   },
   {
    "duration": 8,
    "start_time": "2022-11-10T12:29:15.607Z"
   },
   {
    "duration": 20,
    "start_time": "2022-11-10T12:29:15.617Z"
   },
   {
    "duration": 20,
    "start_time": "2022-11-10T12:29:15.639Z"
   },
   {
    "duration": 12,
    "start_time": "2022-11-10T12:29:15.661Z"
   },
   {
    "duration": 25,
    "start_time": "2022-11-10T12:29:15.675Z"
   },
   {
    "duration": 14,
    "start_time": "2022-11-10T12:29:15.702Z"
   },
   {
    "duration": 8,
    "start_time": "2022-11-10T12:29:15.718Z"
   },
   {
    "duration": 321,
    "start_time": "2022-11-10T12:29:15.728Z"
   },
   {
    "duration": 3,
    "start_time": "2022-11-10T12:29:16.051Z"
   },
   {
    "duration": 16,
    "start_time": "2022-11-10T12:29:16.056Z"
   },
   {
    "duration": 1316,
    "start_time": "2022-11-10T12:29:16.074Z"
   },
   {
    "duration": 28,
    "start_time": "2022-11-10T12:29:17.392Z"
   },
   {
    "duration": 15,
    "start_time": "2022-11-10T12:29:17.422Z"
   },
   {
    "duration": 23,
    "start_time": "2022-11-10T12:29:17.439Z"
   },
   {
    "duration": 53,
    "start_time": "2022-11-10T12:29:17.465Z"
   },
   {
    "duration": 5,
    "start_time": "2022-11-10T12:29:17.521Z"
   },
   {
    "duration": 181,
    "start_time": "2022-11-10T12:29:17.528Z"
   },
   {
    "duration": 30,
    "start_time": "2022-11-10T12:29:17.711Z"
   },
   {
    "duration": 36,
    "start_time": "2022-11-10T12:29:17.743Z"
   },
   {
    "duration": 24,
    "start_time": "2022-11-10T12:29:17.781Z"
   },
   {
    "duration": 13,
    "start_time": "2022-11-10T12:29:17.808Z"
   },
   {
    "duration": 25,
    "start_time": "2022-11-10T12:29:17.823Z"
   },
   {
    "duration": 5,
    "start_time": "2022-11-10T12:29:17.850Z"
   },
   {
    "duration": 15,
    "start_time": "2022-11-10T12:29:17.861Z"
   },
   {
    "duration": 29,
    "start_time": "2022-11-10T12:29:17.877Z"
   },
   {
    "duration": 15,
    "start_time": "2022-11-10T12:29:17.908Z"
   },
   {
    "duration": 18,
    "start_time": "2022-11-10T12:29:17.926Z"
   },
   {
    "duration": 511,
    "start_time": "2022-11-10T12:29:17.947Z"
   },
   {
    "duration": 11,
    "start_time": "2022-11-10T12:29:18.461Z"
   },
   {
    "duration": 34,
    "start_time": "2022-11-10T12:29:18.474Z"
   },
   {
    "duration": 6,
    "start_time": "2022-11-10T12:29:18.512Z"
   },
   {
    "duration": 1125,
    "start_time": "2022-11-10T12:29:18.520Z"
   },
   {
    "duration": 11,
    "start_time": "2022-11-10T12:29:19.647Z"
   },
   {
    "duration": 7,
    "start_time": "2022-11-10T12:29:19.660Z"
   },
   {
    "duration": 21,
    "start_time": "2022-11-10T12:29:19.669Z"
   },
   {
    "duration": 5,
    "start_time": "2022-11-10T12:29:19.704Z"
   },
   {
    "duration": 834,
    "start_time": "2022-11-10T12:29:19.711Z"
   },
   {
    "duration": 12,
    "start_time": "2022-11-10T12:29:20.547Z"
   },
   {
    "duration": 8,
    "start_time": "2022-11-10T12:29:20.561Z"
   },
   {
    "duration": 35,
    "start_time": "2022-11-10T12:29:20.571Z"
   },
   {
    "duration": 11,
    "start_time": "2022-11-10T12:29:20.608Z"
   },
   {
    "duration": 7,
    "start_time": "2022-11-10T12:29:20.621Z"
   },
   {
    "duration": 13,
    "start_time": "2022-11-10T12:29:20.631Z"
   },
   {
    "duration": 9,
    "start_time": "2022-11-10T12:29:20.647Z"
   },
   {
    "duration": 46,
    "start_time": "2022-11-10T12:29:35.234Z"
   },
   {
    "duration": 25,
    "start_time": "2022-11-10T12:30:02.531Z"
   },
   {
    "duration": 19,
    "start_time": "2022-11-10T12:30:05.971Z"
   },
   {
    "duration": 27,
    "start_time": "2022-11-10T12:30:07.802Z"
   },
   {
    "duration": 22,
    "start_time": "2022-11-10T12:32:29.456Z"
   },
   {
    "duration": 6,
    "start_time": "2022-11-10T12:37:27.697Z"
   },
   {
    "duration": 4,
    "start_time": "2022-11-10T12:38:22.876Z"
   },
   {
    "duration": 4,
    "start_time": "2022-11-10T12:38:40.700Z"
   },
   {
    "duration": 7,
    "start_time": "2022-11-10T12:38:44.876Z"
   },
   {
    "duration": 9,
    "start_time": "2022-11-10T12:39:14.238Z"
   },
   {
    "duration": 15,
    "start_time": "2022-11-10T12:39:25.917Z"
   },
   {
    "duration": 72,
    "start_time": "2022-11-10T12:42:43.854Z"
   },
   {
    "duration": 112,
    "start_time": "2022-11-10T12:42:48.263Z"
   },
   {
    "duration": 9,
    "start_time": "2022-11-10T12:42:50.586Z"
   },
   {
    "duration": 7,
    "start_time": "2022-11-10T12:42:59.230Z"
   },
   {
    "duration": 7,
    "start_time": "2022-11-10T12:43:02.774Z"
   },
   {
    "duration": 7,
    "start_time": "2022-11-10T12:43:03.959Z"
   },
   {
    "duration": 5,
    "start_time": "2022-11-10T12:45:43.708Z"
   },
   {
    "duration": 7,
    "start_time": "2022-11-10T12:45:53.964Z"
   },
   {
    "duration": 5,
    "start_time": "2022-11-10T12:46:16.262Z"
   },
   {
    "duration": 7,
    "start_time": "2022-11-10T12:46:24.615Z"
   },
   {
    "duration": 199,
    "start_time": "2022-11-10T12:46:26.101Z"
   },
   {
    "duration": 20,
    "start_time": "2022-11-10T12:46:30.197Z"
   },
   {
    "duration": 6,
    "start_time": "2022-11-10T12:46:31.406Z"
   },
   {
    "duration": 233,
    "start_time": "2022-11-10T12:47:18.769Z"
   },
   {
    "duration": 18,
    "start_time": "2022-11-10T12:47:19.007Z"
   },
   {
    "duration": 5,
    "start_time": "2022-11-10T12:47:19.216Z"
   },
   {
    "duration": 37,
    "start_time": "2022-11-10T12:47:23.982Z"
   },
   {
    "duration": 6,
    "start_time": "2022-11-10T12:48:00.193Z"
   },
   {
    "duration": 14,
    "start_time": "2022-11-10T12:48:00.585Z"
   },
   {
    "duration": 5,
    "start_time": "2022-11-10T12:48:01.858Z"
   },
   {
    "duration": 10,
    "start_time": "2022-11-10T12:48:02.473Z"
   },
   {
    "duration": 19,
    "start_time": "2022-11-10T12:48:04.824Z"
   },
   {
    "duration": 8,
    "start_time": "2022-11-10T12:48:17.170Z"
   },
   {
    "duration": 6,
    "start_time": "2022-11-10T12:48:18.826Z"
   },
   {
    "duration": 7,
    "start_time": "2022-11-10T12:48:22.460Z"
   },
   {
    "duration": 4,
    "start_time": "2022-11-10T12:48:36.027Z"
   },
   {
    "duration": 9,
    "start_time": "2022-11-10T12:48:37.306Z"
   },
   {
    "duration": 10,
    "start_time": "2022-11-10T12:48:37.778Z"
   },
   {
    "duration": 10,
    "start_time": "2022-11-10T12:48:39.586Z"
   },
   {
    "duration": 441,
    "start_time": "2022-11-10T12:48:40.138Z"
   },
   {
    "duration": 4,
    "start_time": "2022-11-10T12:48:57.491Z"
   },
   {
    "duration": 107,
    "start_time": "2022-11-10T12:48:57.659Z"
   },
   {
    "duration": 14,
    "start_time": "2022-11-10T12:48:57.810Z"
   },
   {
    "duration": 22,
    "start_time": "2022-11-10T12:48:57.961Z"
   },
   {
    "duration": 2216,
    "start_time": "2022-11-10T12:48:58.090Z"
   },
   {
    "duration": 6,
    "start_time": "2022-11-10T12:49:00.308Z"
   },
   {
    "duration": 56,
    "start_time": "2022-11-10T12:49:00.316Z"
   },
   {
    "duration": 7,
    "start_time": "2022-11-10T12:49:02.298Z"
   },
   {
    "duration": 275,
    "start_time": "2022-11-10T12:49:02.444Z"
   },
   {
    "duration": 8,
    "start_time": "2022-11-10T12:49:02.721Z"
   },
   {
    "duration": 24,
    "start_time": "2022-11-10T12:49:03.069Z"
   },
   {
    "duration": 186,
    "start_time": "2022-11-10T12:49:03.226Z"
   },
   {
    "duration": 6,
    "start_time": "2022-11-10T12:49:03.419Z"
   },
   {
    "duration": 5,
    "start_time": "2022-11-10T12:49:03.923Z"
   },
   {
    "duration": 10,
    "start_time": "2022-11-10T12:49:04.458Z"
   },
   {
    "duration": 5,
    "start_time": "2022-11-10T12:49:04.708Z"
   },
   {
    "duration": 7,
    "start_time": "2022-11-10T12:49:04.947Z"
   },
   {
    "duration": 8,
    "start_time": "2022-11-10T12:49:06.243Z"
   },
   {
    "duration": 16,
    "start_time": "2022-11-10T12:49:06.659Z"
   },
   {
    "duration": 132,
    "start_time": "2022-11-10T12:49:06.858Z"
   },
   {
    "duration": 6,
    "start_time": "2022-11-10T12:49:07.059Z"
   },
   {
    "duration": 7,
    "start_time": "2022-11-10T12:49:07.612Z"
   },
   {
    "duration": 7,
    "start_time": "2022-11-10T12:49:07.882Z"
   },
   {
    "duration": 6,
    "start_time": "2022-11-10T12:49:08.331Z"
   },
   {
    "duration": 6,
    "start_time": "2022-11-10T12:49:08.779Z"
   },
   {
    "duration": 6,
    "start_time": "2022-11-10T12:49:09.244Z"
   },
   {
    "duration": 8,
    "start_time": "2022-11-10T12:49:09.758Z"
   },
   {
    "duration": 271,
    "start_time": "2022-11-10T12:49:09.955Z"
   },
   {
    "duration": 4,
    "start_time": "2022-11-10T12:49:10.228Z"
   },
   {
    "duration": 10,
    "start_time": "2022-11-10T12:49:11.171Z"
   },
   {
    "duration": 1300,
    "start_time": "2022-11-10T12:49:12.540Z"
   },
   {
    "duration": 16,
    "start_time": "2022-11-10T12:49:13.843Z"
   },
   {
    "duration": 38,
    "start_time": "2022-11-10T12:49:13.861Z"
   },
   {
    "duration": 20,
    "start_time": "2022-11-10T12:49:13.902Z"
   },
   {
    "duration": 80,
    "start_time": "2022-11-10T12:49:13.926Z"
   },
   {
    "duration": 17,
    "start_time": "2022-11-10T12:49:14.007Z"
   },
   {
    "duration": 13,
    "start_time": "2022-11-10T12:49:14.575Z"
   },
   {
    "duration": 146,
    "start_time": "2022-11-10T12:49:15.467Z"
   },
   {
    "duration": 150,
    "start_time": "2022-11-10T12:49:25.940Z"
   },
   {
    "duration": 30,
    "start_time": "2022-11-10T12:49:27.948Z"
   },
   {
    "duration": 7,
    "start_time": "2022-11-10T12:49:28.269Z"
   },
   {
    "duration": 36,
    "start_time": "2022-11-10T12:49:29.356Z"
   },
   {
    "duration": 8,
    "start_time": "2022-11-10T12:49:35.117Z"
   },
   {
    "duration": 18,
    "start_time": "2022-11-10T12:49:35.668Z"
   },
   {
    "duration": 4,
    "start_time": "2022-11-10T12:49:39.789Z"
   },
   {
    "duration": 12,
    "start_time": "2022-11-10T12:49:40.949Z"
   },
   {
    "duration": 9,
    "start_time": "2022-11-10T12:49:51.254Z"
   },
   {
    "duration": 5,
    "start_time": "2022-11-10T12:49:54.158Z"
   },
   {
    "duration": 3,
    "start_time": "2022-11-10T12:50:23.006Z"
   },
   {
    "duration": 24,
    "start_time": "2022-11-10T12:50:25.918Z"
   },
   {
    "duration": 18,
    "start_time": "2022-11-10T12:50:26.151Z"
   },
   {
    "duration": 10,
    "start_time": "2022-11-10T12:50:26.575Z"
   },
   {
    "duration": 510,
    "start_time": "2022-11-10T12:50:27.382Z"
   },
   {
    "duration": 5,
    "start_time": "2022-11-10T12:50:35.104Z"
   },
   {
    "duration": 710,
    "start_time": "2022-11-10T12:50:50.685Z"
   },
   {
    "duration": 112,
    "start_time": "2022-11-10T12:50:51.397Z"
   },
   {
    "duration": 22,
    "start_time": "2022-11-10T12:50:51.511Z"
   },
   {
    "duration": 30,
    "start_time": "2022-11-10T12:50:51.535Z"
   },
   {
    "duration": 2346,
    "start_time": "2022-11-10T12:50:51.568Z"
   },
   {
    "duration": 6,
    "start_time": "2022-11-10T12:50:53.916Z"
   },
   {
    "duration": 34,
    "start_time": "2022-11-10T12:50:53.925Z"
   },
   {
    "duration": 31,
    "start_time": "2022-11-10T12:50:53.961Z"
   },
   {
    "duration": 324,
    "start_time": "2022-11-10T12:50:53.993Z"
   },
   {
    "duration": 7,
    "start_time": "2022-11-10T12:50:54.319Z"
   },
   {
    "duration": 138,
    "start_time": "2022-11-10T12:50:54.328Z"
   },
   {
    "duration": 0,
    "start_time": "2022-11-10T12:50:54.472Z"
   },
   {
    "duration": 0,
    "start_time": "2022-11-10T12:50:54.474Z"
   },
   {
    "duration": 0,
    "start_time": "2022-11-10T12:50:54.475Z"
   },
   {
    "duration": 0,
    "start_time": "2022-11-10T12:50:54.476Z"
   },
   {
    "duration": 0,
    "start_time": "2022-11-10T12:50:54.478Z"
   },
   {
    "duration": 0,
    "start_time": "2022-11-10T12:50:54.479Z"
   },
   {
    "duration": 0,
    "start_time": "2022-11-10T12:50:54.480Z"
   },
   {
    "duration": 0,
    "start_time": "2022-11-10T12:50:54.481Z"
   },
   {
    "duration": 0,
    "start_time": "2022-11-10T12:50:54.482Z"
   },
   {
    "duration": 0,
    "start_time": "2022-11-10T12:50:54.483Z"
   },
   {
    "duration": 0,
    "start_time": "2022-11-10T12:50:54.505Z"
   },
   {
    "duration": 0,
    "start_time": "2022-11-10T12:50:54.507Z"
   },
   {
    "duration": 0,
    "start_time": "2022-11-10T12:50:54.509Z"
   },
   {
    "duration": 0,
    "start_time": "2022-11-10T12:50:54.510Z"
   },
   {
    "duration": 0,
    "start_time": "2022-11-10T12:50:54.511Z"
   },
   {
    "duration": 0,
    "start_time": "2022-11-10T12:50:54.513Z"
   },
   {
    "duration": 0,
    "start_time": "2022-11-10T12:50:54.515Z"
   },
   {
    "duration": 0,
    "start_time": "2022-11-10T12:50:54.516Z"
   },
   {
    "duration": 0,
    "start_time": "2022-11-10T12:50:54.518Z"
   },
   {
    "duration": 0,
    "start_time": "2022-11-10T12:50:54.519Z"
   },
   {
    "duration": 0,
    "start_time": "2022-11-10T12:50:54.521Z"
   },
   {
    "duration": 0,
    "start_time": "2022-11-10T12:50:54.522Z"
   },
   {
    "duration": 0,
    "start_time": "2022-11-10T12:50:54.523Z"
   },
   {
    "duration": 0,
    "start_time": "2022-11-10T12:50:54.525Z"
   },
   {
    "duration": 0,
    "start_time": "2022-11-10T12:50:54.526Z"
   },
   {
    "duration": 0,
    "start_time": "2022-11-10T12:50:54.527Z"
   },
   {
    "duration": 0,
    "start_time": "2022-11-10T12:50:54.528Z"
   },
   {
    "duration": 0,
    "start_time": "2022-11-10T12:50:54.529Z"
   },
   {
    "duration": 0,
    "start_time": "2022-11-10T12:50:54.530Z"
   },
   {
    "duration": 0,
    "start_time": "2022-11-10T12:50:54.532Z"
   },
   {
    "duration": 0,
    "start_time": "2022-11-10T12:50:54.533Z"
   },
   {
    "duration": 0,
    "start_time": "2022-11-10T12:50:54.534Z"
   },
   {
    "duration": 0,
    "start_time": "2022-11-10T12:50:54.535Z"
   },
   {
    "duration": 0,
    "start_time": "2022-11-10T12:50:54.536Z"
   },
   {
    "duration": 0,
    "start_time": "2022-11-10T12:50:54.537Z"
   },
   {
    "duration": 0,
    "start_time": "2022-11-10T12:50:54.538Z"
   },
   {
    "duration": 0,
    "start_time": "2022-11-10T12:50:54.541Z"
   },
   {
    "duration": 0,
    "start_time": "2022-11-10T12:50:54.542Z"
   },
   {
    "duration": 0,
    "start_time": "2022-11-10T12:50:54.543Z"
   },
   {
    "duration": 0,
    "start_time": "2022-11-10T12:50:54.543Z"
   },
   {
    "duration": 0,
    "start_time": "2022-11-10T12:50:54.605Z"
   },
   {
    "duration": 0,
    "start_time": "2022-11-10T12:50:54.606Z"
   },
   {
    "duration": 0,
    "start_time": "2022-11-10T12:50:54.607Z"
   },
   {
    "duration": 0,
    "start_time": "2022-11-10T12:50:54.608Z"
   },
   {
    "duration": 0,
    "start_time": "2022-11-10T12:50:54.610Z"
   },
   {
    "duration": 0,
    "start_time": "2022-11-10T12:50:54.611Z"
   },
   {
    "duration": 0,
    "start_time": "2022-11-10T12:50:54.612Z"
   },
   {
    "duration": 0,
    "start_time": "2022-11-10T12:50:54.613Z"
   },
   {
    "duration": 0,
    "start_time": "2022-11-10T12:50:54.614Z"
   },
   {
    "duration": 0,
    "start_time": "2022-11-10T12:50:54.616Z"
   },
   {
    "duration": 0,
    "start_time": "2022-11-10T12:50:54.617Z"
   },
   {
    "duration": 0,
    "start_time": "2022-11-10T12:50:54.619Z"
   },
   {
    "duration": 0,
    "start_time": "2022-11-10T12:50:54.620Z"
   },
   {
    "duration": 0,
    "start_time": "2022-11-10T12:50:54.622Z"
   },
   {
    "duration": 125,
    "start_time": "2022-11-10T12:51:04.911Z"
   },
   {
    "duration": 6,
    "start_time": "2022-11-10T12:51:05.111Z"
   },
   {
    "duration": 7,
    "start_time": "2022-11-10T12:51:05.630Z"
   },
   {
    "duration": 9,
    "start_time": "2022-11-10T12:51:06.014Z"
   },
   {
    "duration": 7,
    "start_time": "2022-11-10T12:51:07.262Z"
   },
   {
    "duration": 8,
    "start_time": "2022-11-10T12:51:07.447Z"
   },
   {
    "duration": 7,
    "start_time": "2022-11-10T12:51:07.774Z"
   },
   {
    "duration": 15,
    "start_time": "2022-11-10T12:51:08.103Z"
   },
   {
    "duration": 139,
    "start_time": "2022-11-10T12:51:08.262Z"
   },
   {
    "duration": 7,
    "start_time": "2022-11-10T12:51:08.438Z"
   },
   {
    "duration": 11,
    "start_time": "2022-11-10T12:51:28.599Z"
   },
   {
    "duration": 7,
    "start_time": "2022-11-10T12:51:32.992Z"
   },
   {
    "duration": 8,
    "start_time": "2022-11-10T12:51:38.208Z"
   },
   {
    "duration": 139,
    "start_time": "2022-11-10T12:51:42.528Z"
   },
   {
    "duration": 6,
    "start_time": "2022-11-10T12:51:44.280Z"
   },
   {
    "duration": 7,
    "start_time": "2022-11-10T12:51:44.794Z"
   },
   {
    "duration": 8,
    "start_time": "2022-11-10T12:51:45.071Z"
   },
   {
    "duration": 5,
    "start_time": "2022-11-10T12:51:45.336Z"
   },
   {
    "duration": 5,
    "start_time": "2022-11-10T12:51:45.872Z"
   },
   {
    "duration": 6,
    "start_time": "2022-11-10T12:51:47.248Z"
   },
   {
    "duration": 7,
    "start_time": "2022-11-10T12:51:50.480Z"
   },
   {
    "duration": 9,
    "start_time": "2022-11-10T12:51:57.929Z"
   },
   {
    "duration": 206,
    "start_time": "2022-11-10T12:51:58.144Z"
   },
   {
    "duration": 4,
    "start_time": "2022-11-10T12:51:58.456Z"
   },
   {
    "duration": 10,
    "start_time": "2022-11-10T12:52:00.585Z"
   },
   {
    "duration": 1294,
    "start_time": "2022-11-10T12:52:02.377Z"
   },
   {
    "duration": 15,
    "start_time": "2022-11-10T12:52:03.673Z"
   },
   {
    "duration": 9,
    "start_time": "2022-11-10T12:52:05.033Z"
   },
   {
    "duration": 3,
    "start_time": "2022-11-10T12:52:05.577Z"
   },
   {
    "duration": 23,
    "start_time": "2022-11-10T12:52:05.992Z"
   },
   {
    "duration": 4,
    "start_time": "2022-11-10T12:52:08.961Z"
   },
   {
    "duration": 131,
    "start_time": "2022-11-10T12:52:11.995Z"
   },
   {
    "duration": 21,
    "start_time": "2022-11-10T12:52:12.305Z"
   },
   {
    "duration": 5,
    "start_time": "2022-11-10T12:52:12.953Z"
   },
   {
    "duration": 24,
    "start_time": "2022-11-10T12:52:15.009Z"
   },
   {
    "duration": 6,
    "start_time": "2022-11-10T12:52:15.305Z"
   },
   {
    "duration": 13,
    "start_time": "2022-11-10T12:52:16.130Z"
   },
   {
    "duration": 3,
    "start_time": "2022-11-10T12:52:16.354Z"
   },
   {
    "duration": 10,
    "start_time": "2022-11-10T12:52:17.032Z"
   },
   {
    "duration": 5,
    "start_time": "2022-11-10T12:52:18.170Z"
   },
   {
    "duration": 13,
    "start_time": "2022-11-10T12:52:26.666Z"
   },
   {
    "duration": 10,
    "start_time": "2022-11-10T12:52:30.450Z"
   },
   {
    "duration": 11,
    "start_time": "2022-11-10T12:52:31.274Z"
   },
   {
    "duration": 13,
    "start_time": "2022-11-10T12:52:32.162Z"
   },
   {
    "duration": 5,
    "start_time": "2022-11-10T12:52:36.202Z"
   },
   {
    "duration": 402,
    "start_time": "2022-11-10T12:52:43.906Z"
   },
   {
    "duration": 8,
    "start_time": "2022-11-10T12:52:44.309Z"
   },
   {
    "duration": 9,
    "start_time": "2022-11-10T12:52:45.170Z"
   },
   {
    "duration": 5,
    "start_time": "2022-11-10T12:52:47.298Z"
   },
   {
    "duration": 5,
    "start_time": "2022-11-10T12:52:54.628Z"
   },
   {
    "duration": 4,
    "start_time": "2022-11-10T12:53:09.771Z"
   },
   {
    "duration": 952,
    "start_time": "2022-11-10T12:53:36.029Z"
   },
   {
    "duration": 22,
    "start_time": "2022-11-10T12:53:36.983Z"
   },
   {
    "duration": 3,
    "start_time": "2022-11-10T12:53:37.684Z"
   },
   {
    "duration": 14,
    "start_time": "2022-11-10T12:53:39.124Z"
   },
   {
    "duration": 6,
    "start_time": "2022-11-10T12:53:41.540Z"
   },
   {
    "duration": 799,
    "start_time": "2022-11-10T12:53:48.405Z"
   },
   {
    "duration": 10,
    "start_time": "2022-11-10T12:53:49.500Z"
   },
   {
    "duration": 4,
    "start_time": "2022-11-10T12:53:53.941Z"
   },
   {
    "duration": 5,
    "start_time": "2022-11-10T12:53:54.364Z"
   },
   {
    "duration": 13,
    "start_time": "2022-11-10T12:54:02.933Z"
   },
   {
    "duration": 4,
    "start_time": "2022-11-10T12:54:06.637Z"
   },
   {
    "duration": 19,
    "start_time": "2022-11-10T12:54:07.141Z"
   },
   {
    "duration": 5,
    "start_time": "2022-11-10T12:54:20.606Z"
   },
   {
    "duration": 10,
    "start_time": "2022-11-10T12:54:30.617Z"
   },
   {
    "duration": 4,
    "start_time": "2022-11-10T12:54:35.983Z"
   },
   {
    "duration": 65,
    "start_time": "2022-11-10T12:55:09.946Z"
   },
   {
    "duration": 28,
    "start_time": "2022-11-10T12:55:16.217Z"
   },
   {
    "duration": 15,
    "start_time": "2022-11-10T12:55:18.322Z"
   },
   {
    "duration": 147,
    "start_time": "2022-11-10T12:55:59.946Z"
   },
   {
    "duration": 158,
    "start_time": "2022-11-10T12:56:20.187Z"
   },
   {
    "duration": 168,
    "start_time": "2022-11-10T12:56:23.603Z"
   },
   {
    "duration": 5,
    "start_time": "2022-11-10T12:56:34.755Z"
   },
   {
    "duration": 69,
    "start_time": "2022-11-10T12:57:18.500Z"
   },
   {
    "duration": 5,
    "start_time": "2022-11-10T12:57:28.830Z"
   },
   {
    "duration": 5,
    "start_time": "2022-11-10T12:57:40.990Z"
   },
   {
    "duration": 173,
    "start_time": "2022-11-10T12:57:43.270Z"
   },
   {
    "duration": 324,
    "start_time": "2022-11-10T12:57:50.463Z"
   },
   {
    "duration": 7,
    "start_time": "2022-11-10T12:57:59.534Z"
   },
   {
    "duration": 6,
    "start_time": "2022-11-10T13:00:16.531Z"
   },
   {
    "duration": 7,
    "start_time": "2022-11-10T13:00:25.100Z"
   },
   {
    "duration": 133,
    "start_time": "2022-11-10T13:00:29.333Z"
   },
   {
    "duration": 163,
    "start_time": "2022-11-10T13:00:32.988Z"
   },
   {
    "duration": 171,
    "start_time": "2022-11-10T13:00:37.340Z"
   },
   {
    "duration": 133,
    "start_time": "2022-11-10T13:00:43.909Z"
   },
   {
    "duration": 7,
    "start_time": "2022-11-10T13:00:49.510Z"
   },
   {
    "duration": 6,
    "start_time": "2022-11-10T13:01:03.853Z"
   },
   {
    "duration": 88,
    "start_time": "2022-11-10T13:03:19.106Z"
   },
   {
    "duration": 7,
    "start_time": "2022-11-10T13:03:36.330Z"
   },
   {
    "duration": 148,
    "start_time": "2022-11-10T13:03:38.787Z"
   },
   {
    "duration": 228,
    "start_time": "2022-11-10T13:03:47.260Z"
   },
   {
    "duration": 167,
    "start_time": "2022-11-10T13:04:02.244Z"
   },
   {
    "duration": 6,
    "start_time": "2022-11-10T13:04:07.142Z"
   },
   {
    "duration": 9,
    "start_time": "2022-11-10T13:04:14.692Z"
   },
   {
    "duration": 6,
    "start_time": "2022-11-10T13:04:16.669Z"
   },
   {
    "duration": 9,
    "start_time": "2022-11-10T13:04:47.487Z"
   },
   {
    "duration": 8,
    "start_time": "2022-11-10T13:04:55.838Z"
   },
   {
    "duration": 4,
    "start_time": "2022-11-10T13:05:01.918Z"
   },
   {
    "duration": 4,
    "start_time": "2022-11-10T13:05:31.177Z"
   },
   {
    "duration": 201,
    "start_time": "2022-11-10T13:05:37.546Z"
   },
   {
    "duration": 5,
    "start_time": "2022-11-10T13:05:48.441Z"
   },
   {
    "duration": 1124,
    "start_time": "2022-11-10T13:06:15.617Z"
   },
   {
    "duration": 7,
    "start_time": "2022-11-10T13:06:18.161Z"
   },
   {
    "duration": 10,
    "start_time": "2022-11-10T13:06:27.202Z"
   },
   {
    "duration": 11,
    "start_time": "2022-11-10T13:06:33.338Z"
   },
   {
    "duration": 119,
    "start_time": "2022-11-10T13:06:46.754Z"
   },
   {
    "duration": 267,
    "start_time": "2022-11-10T13:06:55.764Z"
   },
   {
    "duration": 531,
    "start_time": "2022-11-10T13:07:03.075Z"
   },
   {
    "duration": 964,
    "start_time": "2022-11-10T13:07:41.596Z"
   },
   {
    "duration": 25,
    "start_time": "2022-11-10T13:08:44.823Z"
   },
   {
    "duration": 32,
    "start_time": "2022-11-10T13:09:17.113Z"
   },
   {
    "duration": 3,
    "start_time": "2022-11-10T13:09:52.179Z"
   },
   {
    "duration": 6,
    "start_time": "2022-11-10T13:11:00.284Z"
   },
   {
    "duration": 82,
    "start_time": "2022-11-10T13:11:15.877Z"
   },
   {
    "duration": 596,
    "start_time": "2022-11-10T13:13:27.785Z"
   },
   {
    "duration": 7,
    "start_time": "2022-11-10T13:14:26.932Z"
   },
   {
    "duration": 16,
    "start_time": "2022-11-10T13:14:38.557Z"
   },
   {
    "duration": 574,
    "start_time": "2022-11-10T13:16:18.392Z"
   },
   {
    "duration": 12,
    "start_time": "2022-11-10T13:16:27.593Z"
   },
   {
    "duration": 916,
    "start_time": "2022-11-10T13:16:32.441Z"
   },
   {
    "duration": 589,
    "start_time": "2022-11-10T13:16:36.793Z"
   },
   {
    "duration": 823,
    "start_time": "2022-11-10T13:16:41.937Z"
   },
   {
    "duration": 15,
    "start_time": "2022-11-10T13:16:44.952Z"
   },
   {
    "duration": 5,
    "start_time": "2022-11-10T13:18:55.958Z"
   },
   {
    "duration": 6,
    "start_time": "2022-11-10T13:19:02.678Z"
   },
   {
    "duration": 10,
    "start_time": "2022-11-10T13:19:38.263Z"
   },
   {
    "duration": 6,
    "start_time": "2022-11-10T13:19:39.375Z"
   },
   {
    "duration": 6,
    "start_time": "2022-11-10T13:19:42.457Z"
   },
   {
    "duration": 9,
    "start_time": "2022-11-10T13:19:49.728Z"
   },
   {
    "duration": 5,
    "start_time": "2022-11-10T13:19:58.625Z"
   },
   {
    "duration": 402,
    "start_time": "2022-11-10T13:20:27.348Z"
   },
   {
    "duration": 154,
    "start_time": "2022-11-10T13:24:48.731Z"
   },
   {
    "duration": 9,
    "start_time": "2022-11-10T13:24:54.388Z"
   },
   {
    "duration": 38,
    "start_time": "2022-11-10T13:25:46.740Z"
   },
   {
    "duration": 19,
    "start_time": "2022-11-10T13:26:09.287Z"
   },
   {
    "duration": 3,
    "start_time": "2022-11-11T11:55:18.752Z"
   },
   {
    "duration": 90,
    "start_time": "2022-11-11T11:55:18.968Z"
   },
   {
    "duration": 15,
    "start_time": "2022-11-11T11:55:19.199Z"
   },
   {
    "duration": 18,
    "start_time": "2022-11-11T11:55:20.832Z"
   },
   {
    "duration": 2226,
    "start_time": "2022-11-11T11:55:21.047Z"
   },
   {
    "duration": 6,
    "start_time": "2022-11-11T11:55:23.276Z"
   },
   {
    "duration": 10,
    "start_time": "2022-11-11T11:55:30.961Z"
   },
   {
    "duration": 4,
    "start_time": "2022-11-11T11:55:39.408Z"
   },
   {
    "duration": 232,
    "start_time": "2022-11-11T11:55:41.385Z"
   },
   {
    "duration": 4,
    "start_time": "2022-11-11T11:55:56.369Z"
   },
   {
    "duration": 4,
    "start_time": "2022-11-11T11:56:26.754Z"
   },
   {
    "duration": 254,
    "start_time": "2022-11-11T11:56:27.715Z"
   },
   {
    "duration": 7,
    "start_time": "2022-11-11T11:56:30.092Z"
   },
   {
    "duration": 110,
    "start_time": "2022-11-11T11:56:40.835Z"
   },
   {
    "duration": 6,
    "start_time": "2022-11-11T11:56:46.259Z"
   },
   {
    "duration": 607,
    "start_time": "2022-11-11T11:58:05.758Z"
   },
   {
    "duration": 92,
    "start_time": "2022-11-11T11:58:06.366Z"
   },
   {
    "duration": 15,
    "start_time": "2022-11-11T11:58:06.459Z"
   },
   {
    "duration": 23,
    "start_time": "2022-11-11T11:58:06.686Z"
   },
   {
    "duration": 2050,
    "start_time": "2022-11-11T11:58:07.695Z"
   },
   {
    "duration": 5,
    "start_time": "2022-11-11T11:58:09.748Z"
   },
   {
    "duration": 20,
    "start_time": "2022-11-11T11:58:09.755Z"
   },
   {
    "duration": 4,
    "start_time": "2022-11-11T11:58:14.153Z"
   },
   {
    "duration": 299,
    "start_time": "2022-11-11T11:58:14.726Z"
   },
   {
    "duration": 7,
    "start_time": "2022-11-11T11:58:16.232Z"
   },
   {
    "duration": 121,
    "start_time": "2022-11-11T11:58:21.287Z"
   },
   {
    "duration": 6,
    "start_time": "2022-11-11T11:58:23.360Z"
   },
   {
    "duration": 5,
    "start_time": "2022-11-11T11:58:30.033Z"
   },
   {
    "duration": 8,
    "start_time": "2022-11-11T11:59:45.338Z"
   },
   {
    "duration": 5,
    "start_time": "2022-11-11T11:59:45.650Z"
   },
   {
    "duration": 5,
    "start_time": "2022-11-11T11:59:47.834Z"
   },
   {
    "duration": 5,
    "start_time": "2022-11-11T11:59:51.307Z"
   },
   {
    "duration": 6,
    "start_time": "2022-11-11T11:59:51.834Z"
   },
   {
    "duration": 119,
    "start_time": "2022-11-11T11:59:53.650Z"
   },
   {
    "duration": 6,
    "start_time": "2022-11-11T11:59:55.483Z"
   },
   {
    "duration": 5,
    "start_time": "2022-11-11T11:59:55.795Z"
   },
   {
    "duration": 7,
    "start_time": "2022-11-11T11:59:56.083Z"
   },
   {
    "duration": 5,
    "start_time": "2022-11-11T11:59:57.003Z"
   },
   {
    "duration": 5,
    "start_time": "2022-11-11T11:59:57.266Z"
   },
   {
    "duration": 7,
    "start_time": "2022-11-11T11:59:57.531Z"
   },
   {
    "duration": 6,
    "start_time": "2022-11-11T11:59:57.795Z"
   },
   {
    "duration": 6,
    "start_time": "2022-11-11T12:00:00.050Z"
   },
   {
    "duration": 128,
    "start_time": "2022-11-11T12:00:01.938Z"
   },
   {
    "duration": 4,
    "start_time": "2022-11-11T12:00:03.804Z"
   },
   {
    "duration": 1146,
    "start_time": "2022-11-11T12:00:12.916Z"
   },
   {
    "duration": 12,
    "start_time": "2022-11-11T12:00:14.064Z"
   },
   {
    "duration": 8,
    "start_time": "2022-11-11T12:00:17.444Z"
   },
   {
    "duration": 4,
    "start_time": "2022-11-11T12:00:38.740Z"
   },
   {
    "duration": 23,
    "start_time": "2022-11-11T12:00:39.701Z"
   },
   {
    "duration": 5,
    "start_time": "2022-11-11T12:00:40.292Z"
   },
   {
    "duration": 119,
    "start_time": "2022-11-11T12:00:43.948Z"
   },
   {
    "duration": 19,
    "start_time": "2022-11-11T12:00:46.397Z"
   },
   {
    "duration": 4,
    "start_time": "2022-11-11T12:00:47.069Z"
   },
   {
    "duration": 21,
    "start_time": "2022-11-11T12:00:57.133Z"
   },
   {
    "duration": 5,
    "start_time": "2022-11-11T12:00:57.342Z"
   },
   {
    "duration": 13,
    "start_time": "2022-11-11T12:00:58.725Z"
   },
   {
    "duration": 4,
    "start_time": "2022-11-11T12:00:59.165Z"
   },
   {
    "duration": 9,
    "start_time": "2022-11-11T12:01:00.597Z"
   },
   {
    "duration": 4,
    "start_time": "2022-11-11T12:01:00.910Z"
   },
   {
    "duration": 9,
    "start_time": "2022-11-11T12:01:02.789Z"
   },
   {
    "duration": 10,
    "start_time": "2022-11-11T12:01:06.089Z"
   },
   {
    "duration": 11,
    "start_time": "2022-11-11T12:01:06.341Z"
   },
   {
    "duration": 5,
    "start_time": "2022-11-11T12:01:06.757Z"
   },
   {
    "duration": 344,
    "start_time": "2022-11-11T12:01:08.061Z"
   },
   {
    "duration": 7,
    "start_time": "2022-11-11T12:01:08.661Z"
   },
   {
    "duration": 8,
    "start_time": "2022-11-11T12:01:14.357Z"
   },
   {
    "duration": 5,
    "start_time": "2022-11-11T12:03:52.179Z"
   },
   {
    "duration": 4,
    "start_time": "2022-11-11T12:03:52.588Z"
   },
   {
    "duration": 835,
    "start_time": "2022-11-11T12:03:54.532Z"
   },
   {
    "duration": 10,
    "start_time": "2022-11-11T12:03:55.369Z"
   },
   {
    "duration": 2,
    "start_time": "2022-11-11T12:04:18.253Z"
   },
   {
    "duration": 11,
    "start_time": "2022-11-11T12:04:19.469Z"
   },
   {
    "duration": 4,
    "start_time": "2022-11-11T12:04:38.773Z"
   },
   {
    "duration": 668,
    "start_time": "2022-11-11T12:05:08.462Z"
   },
   {
    "duration": 78,
    "start_time": "2022-11-11T12:06:43.939Z"
   },
   {
    "duration": 6,
    "start_time": "2022-11-11T12:06:52.011Z"
   },
   {
    "duration": 14,
    "start_time": "2022-11-11T12:06:54.674Z"
   },
   {
    "duration": 3,
    "start_time": "2022-11-11T12:07:20.091Z"
   },
   {
    "duration": 85,
    "start_time": "2022-11-11T12:07:20.260Z"
   },
   {
    "duration": 15,
    "start_time": "2022-11-11T12:07:20.418Z"
   },
   {
    "duration": 21,
    "start_time": "2022-11-11T12:07:20.563Z"
   },
   {
    "duration": 1937,
    "start_time": "2022-11-11T12:07:20.706Z"
   },
   {
    "duration": 4,
    "start_time": "2022-11-11T12:07:22.645Z"
   },
   {
    "duration": 40,
    "start_time": "2022-11-11T12:07:22.651Z"
   },
   {
    "duration": 4,
    "start_time": "2022-11-11T12:07:22.915Z"
   },
   {
    "duration": 229,
    "start_time": "2022-11-11T12:07:23.908Z"
   },
   {
    "duration": 9,
    "start_time": "2022-11-11T12:07:24.139Z"
   },
   {
    "duration": 104,
    "start_time": "2022-11-11T12:07:24.682Z"
   },
   {
    "duration": 6,
    "start_time": "2022-11-11T12:07:24.873Z"
   },
   {
    "duration": 6,
    "start_time": "2022-11-11T12:07:26.339Z"
   },
   {
    "duration": 8,
    "start_time": "2022-11-11T12:07:26.675Z"
   },
   {
    "duration": 5,
    "start_time": "2022-11-11T12:07:26.859Z"
   },
   {
    "duration": 5,
    "start_time": "2022-11-11T12:07:27.051Z"
   },
   {
    "duration": 5,
    "start_time": "2022-11-11T12:07:28.331Z"
   },
   {
    "duration": 6,
    "start_time": "2022-11-11T12:07:28.524Z"
   },
   {
    "duration": 120,
    "start_time": "2022-11-11T12:07:28.923Z"
   },
   {
    "duration": 6,
    "start_time": "2022-11-11T12:07:30.067Z"
   },
   {
    "duration": 5,
    "start_time": "2022-11-11T12:07:30.259Z"
   },
   {
    "duration": 9,
    "start_time": "2022-11-11T12:07:30.547Z"
   },
   {
    "duration": 5,
    "start_time": "2022-11-11T12:07:30.812Z"
   },
   {
    "duration": 6,
    "start_time": "2022-11-11T12:07:31.035Z"
   },
   {
    "duration": 6,
    "start_time": "2022-11-11T12:07:31.340Z"
   },
   {
    "duration": 7,
    "start_time": "2022-11-11T12:07:32.787Z"
   },
   {
    "duration": 6,
    "start_time": "2022-11-11T12:07:33.131Z"
   },
   {
    "duration": 128,
    "start_time": "2022-11-11T12:07:33.293Z"
   },
   {
    "duration": 3,
    "start_time": "2022-11-11T12:07:33.443Z"
   },
   {
    "duration": 9,
    "start_time": "2022-11-11T12:07:35.051Z"
   },
   {
    "duration": 972,
    "start_time": "2022-11-11T12:07:35.387Z"
   },
   {
    "duration": 13,
    "start_time": "2022-11-11T12:07:36.361Z"
   },
   {
    "duration": 8,
    "start_time": "2022-11-11T12:07:36.375Z"
   },
   {
    "duration": 3,
    "start_time": "2022-11-11T12:07:37.180Z"
   },
   {
    "duration": 24,
    "start_time": "2022-11-11T12:07:37.364Z"
   },
   {
    "duration": 6,
    "start_time": "2022-11-11T12:07:37.523Z"
   },
   {
    "duration": 206,
    "start_time": "2022-11-11T12:07:38.882Z"
   },
   {
    "duration": 26,
    "start_time": "2022-11-11T12:07:39.089Z"
   },
   {
    "duration": 4,
    "start_time": "2022-11-11T12:07:40.083Z"
   },
   {
    "duration": 22,
    "start_time": "2022-11-11T12:07:41.917Z"
   },
   {
    "duration": 5,
    "start_time": "2022-11-11T12:07:42.084Z"
   },
   {
    "duration": 11,
    "start_time": "2022-11-11T12:07:42.451Z"
   },
   {
    "duration": 4,
    "start_time": "2022-11-11T12:07:42.692Z"
   },
   {
    "duration": 9,
    "start_time": "2022-11-11T12:07:43.740Z"
   },
   {
    "duration": 5,
    "start_time": "2022-11-11T12:07:43.906Z"
   },
   {
    "duration": 10,
    "start_time": "2022-11-11T12:07:44.883Z"
   },
   {
    "duration": 10,
    "start_time": "2022-11-11T12:07:46.724Z"
   },
   {
    "duration": 10,
    "start_time": "2022-11-11T12:07:46.972Z"
   },
   {
    "duration": 4,
    "start_time": "2022-11-11T12:07:47.212Z"
   },
   {
    "duration": 324,
    "start_time": "2022-11-11T12:07:47.787Z"
   },
   {
    "duration": 7,
    "start_time": "2022-11-11T12:07:50.013Z"
   },
   {
    "duration": 8,
    "start_time": "2022-11-11T12:07:50.557Z"
   },
   {
    "duration": 4,
    "start_time": "2022-11-11T12:07:52.652Z"
   },
   {
    "duration": 3,
    "start_time": "2022-11-11T12:07:53.645Z"
   },
   {
    "duration": 728,
    "start_time": "2022-11-11T12:07:55.421Z"
   },
   {
    "duration": 11,
    "start_time": "2022-11-11T12:07:58.508Z"
   },
   {
    "duration": 2,
    "start_time": "2022-11-11T12:07:59.716Z"
   },
   {
    "duration": 8,
    "start_time": "2022-11-11T12:08:09.349Z"
   },
   {
    "duration": 14,
    "start_time": "2022-11-11T12:08:13.094Z"
   },
   {
    "duration": 32,
    "start_time": "2022-11-11T12:08:44.887Z"
   },
   {
    "duration": 12,
    "start_time": "2022-11-11T12:08:55.248Z"
   },
   {
    "duration": 9,
    "start_time": "2022-11-11T12:09:06.646Z"
   },
   {
    "duration": 869,
    "start_time": "2022-11-11T12:09:08.432Z"
   },
   {
    "duration": 80,
    "start_time": "2022-11-11T12:09:22.624Z"
   },
   {
    "duration": 7,
    "start_time": "2022-11-11T12:09:24.767Z"
   },
   {
    "duration": 762,
    "start_time": "2022-11-11T12:09:26.753Z"
   },
   {
    "duration": 5,
    "start_time": "2022-11-11T12:09:40.552Z"
   },
   {
    "duration": 845,
    "start_time": "2022-11-11T12:09:42.408Z"
   },
   {
    "duration": 675,
    "start_time": "2022-11-11T12:09:58.177Z"
   },
   {
    "duration": 8,
    "start_time": "2022-11-11T12:10:03.049Z"
   },
   {
    "duration": 4,
    "start_time": "2022-11-11T12:10:12.201Z"
   },
   {
    "duration": 4,
    "start_time": "2022-11-11T12:10:13.865Z"
   },
   {
    "duration": 7,
    "start_time": "2022-11-11T12:10:43.499Z"
   },
   {
    "duration": 731,
    "start_time": "2022-11-11T12:10:45.346Z"
   },
   {
    "duration": 10,
    "start_time": "2022-11-11T12:10:53.986Z"
   },
   {
    "duration": 3,
    "start_time": "2022-11-11T12:10:55.754Z"
   },
   {
    "duration": 11,
    "start_time": "2022-11-11T12:10:56.003Z"
   },
   {
    "duration": 5,
    "start_time": "2022-11-11T12:10:56.426Z"
   },
   {
    "duration": 139,
    "start_time": "2022-11-11T12:10:58.587Z"
   },
   {
    "duration": 6,
    "start_time": "2022-11-11T12:11:01.026Z"
   },
   {
    "duration": 4,
    "start_time": "2022-11-11T12:11:01.690Z"
   },
   {
    "duration": 159,
    "start_time": "2022-11-11T12:11:04.002Z"
   },
   {
    "duration": 4,
    "start_time": "2022-11-11T12:11:04.307Z"
   },
   {
    "duration": 6,
    "start_time": "2022-11-11T12:11:06.731Z"
   },
   {
    "duration": 4,
    "start_time": "2022-11-11T12:11:07.066Z"
   },
   {
    "duration": 141,
    "start_time": "2022-11-11T12:11:08.651Z"
   },
   {
    "duration": 4,
    "start_time": "2022-11-11T12:11:09.540Z"
   },
   {
    "duration": 10,
    "start_time": "2022-11-11T12:11:12.457Z"
   },
   {
    "duration": 76,
    "start_time": "2022-11-11T12:11:43.758Z"
   },
   {
    "duration": 702,
    "start_time": "2022-11-11T12:11:46.757Z"
   },
   {
    "duration": 587,
    "start_time": "2022-11-11T12:12:34.663Z"
   },
   {
    "duration": 19,
    "start_time": "2022-11-11T12:13:17.232Z"
   },
   {
    "duration": 18,
    "start_time": "2022-11-11T12:13:23.169Z"
   },
   {
    "duration": 22,
    "start_time": "2022-11-11T12:14:38.995Z"
   },
   {
    "duration": 9,
    "start_time": "2022-11-11T12:15:11.102Z"
   },
   {
    "duration": 20,
    "start_time": "2022-11-11T12:15:24.132Z"
   },
   {
    "duration": 19,
    "start_time": "2022-11-11T12:15:26.461Z"
   },
   {
    "duration": 21,
    "start_time": "2022-11-11T12:15:29.214Z"
   },
   {
    "duration": 14,
    "start_time": "2022-11-11T12:15:39.925Z"
   },
   {
    "duration": 8,
    "start_time": "2022-11-11T12:15:44.614Z"
   },
   {
    "duration": 7,
    "start_time": "2022-11-11T12:15:47.958Z"
   },
   {
    "duration": 679,
    "start_time": "2022-11-11T12:15:49.621Z"
   },
   {
    "duration": 573,
    "start_time": "2022-11-11T12:16:07.423Z"
   },
   {
    "duration": 14,
    "start_time": "2022-11-11T12:16:18.807Z"
   },
   {
    "duration": 37,
    "start_time": "2022-11-11T12:16:24.936Z"
   },
   {
    "duration": 346,
    "start_time": "2022-11-11T12:16:31.871Z"
   },
   {
    "duration": 120,
    "start_time": "2022-11-11T12:16:39.471Z"
   },
   {
    "duration": 68,
    "start_time": "2022-11-11T12:17:13.033Z"
   },
   {
    "duration": 70,
    "start_time": "2022-11-11T12:17:15.281Z"
   },
   {
    "duration": 24,
    "start_time": "2022-11-11T12:17:19.442Z"
   },
   {
    "duration": 6,
    "start_time": "2022-11-11T12:17:26.561Z"
   },
   {
    "duration": 9,
    "start_time": "2022-11-11T12:17:28.121Z"
   },
   {
    "duration": 108,
    "start_time": "2022-11-11T12:17:47.003Z"
   },
   {
    "duration": 138,
    "start_time": "2022-11-11T12:17:55.363Z"
   },
   {
    "duration": 318,
    "start_time": "2022-11-11T12:18:50.349Z"
   },
   {
    "duration": 475,
    "start_time": "2022-11-11T12:19:28.870Z"
   },
   {
    "duration": 268,
    "start_time": "2022-11-11T12:19:39.766Z"
   },
   {
    "duration": 11,
    "start_time": "2022-11-11T12:20:06.878Z"
   },
   {
    "duration": 15,
    "start_time": "2022-11-11T12:20:18.416Z"
   },
   {
    "duration": 8,
    "start_time": "2022-11-11T12:20:22.288Z"
   },
   {
    "duration": 11,
    "start_time": "2022-11-11T12:21:21.642Z"
   },
   {
    "duration": 301,
    "start_time": "2022-11-11T12:21:23.194Z"
   },
   {
    "duration": 13,
    "start_time": "2022-11-11T12:21:30.402Z"
   },
   {
    "duration": 769,
    "start_time": "2022-11-11T12:21:53.810Z"
   },
   {
    "duration": 89,
    "start_time": "2022-11-11T12:21:54.581Z"
   },
   {
    "duration": 14,
    "start_time": "2022-11-11T12:21:54.672Z"
   },
   {
    "duration": 31,
    "start_time": "2022-11-11T12:21:54.687Z"
   },
   {
    "duration": 1997,
    "start_time": "2022-11-11T12:21:54.721Z"
   },
   {
    "duration": 5,
    "start_time": "2022-11-11T12:21:56.720Z"
   },
   {
    "duration": 18,
    "start_time": "2022-11-11T12:21:56.727Z"
   },
   {
    "duration": 4,
    "start_time": "2022-11-11T12:21:56.746Z"
   },
   {
    "duration": 282,
    "start_time": "2022-11-11T12:21:56.752Z"
   },
   {
    "duration": 7,
    "start_time": "2022-11-11T12:21:57.035Z"
   },
   {
    "duration": 119,
    "start_time": "2022-11-11T12:21:57.044Z"
   },
   {
    "duration": 5,
    "start_time": "2022-11-11T12:21:57.165Z"
   },
   {
    "duration": 6,
    "start_time": "2022-11-11T12:21:57.171Z"
   },
   {
    "duration": 25,
    "start_time": "2022-11-11T12:21:57.181Z"
   },
   {
    "duration": 5,
    "start_time": "2022-11-11T12:21:57.207Z"
   },
   {
    "duration": 6,
    "start_time": "2022-11-11T12:21:57.214Z"
   },
   {
    "duration": 7,
    "start_time": "2022-11-11T12:21:57.222Z"
   },
   {
    "duration": 9,
    "start_time": "2022-11-11T12:21:57.230Z"
   },
   {
    "duration": 140,
    "start_time": "2022-11-11T12:21:57.241Z"
   },
   {
    "duration": 6,
    "start_time": "2022-11-11T12:21:57.383Z"
   },
   {
    "duration": 27,
    "start_time": "2022-11-11T12:21:57.391Z"
   },
   {
    "duration": 15,
    "start_time": "2022-11-11T12:21:57.422Z"
   },
   {
    "duration": 7,
    "start_time": "2022-11-11T12:21:57.440Z"
   },
   {
    "duration": 9,
    "start_time": "2022-11-11T12:21:57.450Z"
   },
   {
    "duration": 14,
    "start_time": "2022-11-11T12:21:57.461Z"
   },
   {
    "duration": 15,
    "start_time": "2022-11-11T12:21:57.478Z"
   },
   {
    "duration": 22,
    "start_time": "2022-11-11T12:21:57.495Z"
   },
   {
    "duration": 181,
    "start_time": "2022-11-11T12:21:57.519Z"
   },
   {
    "duration": 7,
    "start_time": "2022-11-11T12:21:57.704Z"
   },
   {
    "duration": 13,
    "start_time": "2022-11-11T12:21:57.713Z"
   },
   {
    "duration": 1194,
    "start_time": "2022-11-11T12:21:57.727Z"
   },
   {
    "duration": 12,
    "start_time": "2022-11-11T12:21:58.923Z"
   },
   {
    "duration": 7,
    "start_time": "2022-11-11T12:21:58.936Z"
   },
   {
    "duration": 3,
    "start_time": "2022-11-11T12:21:58.945Z"
   },
   {
    "duration": 55,
    "start_time": "2022-11-11T12:21:58.949Z"
   },
   {
    "duration": 4,
    "start_time": "2022-11-11T12:21:59.006Z"
   },
   {
    "duration": 135,
    "start_time": "2022-11-11T12:21:59.012Z"
   },
   {
    "duration": 19,
    "start_time": "2022-11-11T12:21:59.149Z"
   },
   {
    "duration": 4,
    "start_time": "2022-11-11T12:21:59.170Z"
   },
   {
    "duration": 25,
    "start_time": "2022-11-11T12:21:59.204Z"
   },
   {
    "duration": 5,
    "start_time": "2022-11-11T12:21:59.235Z"
   },
   {
    "duration": 16,
    "start_time": "2022-11-11T12:21:59.242Z"
   },
   {
    "duration": 4,
    "start_time": "2022-11-11T12:21:59.260Z"
   },
   {
    "duration": 13,
    "start_time": "2022-11-11T12:21:59.265Z"
   },
   {
    "duration": 27,
    "start_time": "2022-11-11T12:21:59.279Z"
   },
   {
    "duration": 12,
    "start_time": "2022-11-11T12:21:59.309Z"
   },
   {
    "duration": 12,
    "start_time": "2022-11-11T12:21:59.323Z"
   },
   {
    "duration": 15,
    "start_time": "2022-11-11T12:21:59.337Z"
   },
   {
    "duration": 6,
    "start_time": "2022-11-11T12:21:59.354Z"
   },
   {
    "duration": 405,
    "start_time": "2022-11-11T12:21:59.362Z"
   },
   {
    "duration": 7,
    "start_time": "2022-11-11T12:21:59.769Z"
   },
   {
    "duration": 12,
    "start_time": "2022-11-11T12:21:59.778Z"
   },
   {
    "duration": 15,
    "start_time": "2022-11-11T12:21:59.792Z"
   },
   {
    "duration": 9,
    "start_time": "2022-11-11T12:21:59.809Z"
   },
   {
    "duration": 878,
    "start_time": "2022-11-11T12:21:59.820Z"
   },
   {
    "duration": 12,
    "start_time": "2022-11-11T12:22:00.699Z"
   },
   {
    "duration": 15,
    "start_time": "2022-11-11T12:22:00.712Z"
   },
   {
    "duration": 14,
    "start_time": "2022-11-11T12:22:00.728Z"
   },
   {
    "duration": 11,
    "start_time": "2022-11-11T12:22:00.744Z"
   },
   {
    "duration": 675,
    "start_time": "2022-11-11T12:22:00.757Z"
   },
   {
    "duration": 9,
    "start_time": "2022-11-11T12:22:01.434Z"
   },
   {
    "duration": 32,
    "start_time": "2022-11-11T12:22:01.445Z"
   },
   {
    "duration": 16,
    "start_time": "2022-11-11T12:22:01.478Z"
   },
   {
    "duration": 18,
    "start_time": "2022-11-11T12:22:01.495Z"
   },
   {
    "duration": 43,
    "start_time": "2022-11-11T12:22:01.514Z"
   },
   {
    "duration": 53,
    "start_time": "2022-11-11T12:22:01.559Z"
   },
   {
    "duration": 50,
    "start_time": "2022-11-11T12:22:01.614Z"
   },
   {
    "duration": 35,
    "start_time": "2022-11-11T12:22:01.666Z"
   },
   {
    "duration": 161,
    "start_time": "2022-11-11T12:22:01.703Z"
   },
   {
    "duration": 7,
    "start_time": "2022-11-11T12:22:01.865Z"
   },
   {
    "duration": 30,
    "start_time": "2022-11-11T12:22:01.874Z"
   },
   {
    "duration": 152,
    "start_time": "2022-11-11T12:22:01.905Z"
   },
   {
    "duration": 4,
    "start_time": "2022-11-11T12:22:02.058Z"
   },
   {
    "duration": 13,
    "start_time": "2022-11-11T12:22:02.063Z"
   },
   {
    "duration": 14,
    "start_time": "2022-11-11T12:22:02.077Z"
   },
   {
    "duration": 148,
    "start_time": "2022-11-11T12:22:02.093Z"
   },
   {
    "duration": 5,
    "start_time": "2022-11-11T12:22:02.243Z"
   },
   {
    "duration": 723,
    "start_time": "2022-11-11T12:22:02.250Z"
   },
   {
    "duration": 33,
    "start_time": "2022-11-11T12:22:02.975Z"
   },
   {
    "duration": 8,
    "start_time": "2022-11-11T12:22:03.010Z"
   },
   {
    "duration": 11,
    "start_time": "2022-11-11T12:22:03.020Z"
   },
   {
    "duration": 321,
    "start_time": "2022-11-11T12:22:03.033Z"
   },
   {
    "duration": 9,
    "start_time": "2022-11-11T12:22:03.356Z"
   },
   {
    "duration": 12,
    "start_time": "2022-11-11T12:22:03.366Z"
   },
   {
    "duration": 281,
    "start_time": "2022-11-11T12:22:03.379Z"
   },
   {
    "duration": 14,
    "start_time": "2022-11-11T12:22:03.662Z"
   },
   {
    "duration": 10,
    "start_time": "2022-11-11T12:22:08.115Z"
   },
   {
    "duration": 286,
    "start_time": "2022-11-11T12:22:09.923Z"
   },
   {
    "duration": 31,
    "start_time": "2022-11-11T12:22:52.150Z"
   },
   {
    "duration": 32,
    "start_time": "2022-11-11T12:23:20.463Z"
   },
   {
    "duration": 40,
    "start_time": "2022-11-11T12:23:30.440Z"
   },
   {
    "duration": 18,
    "start_time": "2022-11-11T12:23:52.112Z"
   },
   {
    "duration": 292,
    "start_time": "2022-11-11T12:23:54.184Z"
   },
   {
    "duration": 12,
    "start_time": "2022-11-11T12:23:57.960Z"
   },
   {
    "duration": 107,
    "start_time": "2022-11-11T12:25:22.114Z"
   },
   {
    "duration": 187,
    "start_time": "2022-11-11T12:25:22.466Z"
   },
   {
    "duration": 21,
    "start_time": "2022-11-11T12:25:31.435Z"
   },
   {
    "duration": 5,
    "start_time": "2022-11-11T12:29:41.834Z"
   },
   {
    "duration": 16,
    "start_time": "2022-11-11T12:30:50.446Z"
   },
   {
    "duration": 19,
    "start_time": "2022-11-11T12:32:32.706Z"
   },
   {
    "duration": 7,
    "start_time": "2022-11-11T12:33:16.796Z"
   },
   {
    "duration": 4,
    "start_time": "2022-11-11T12:33:52.077Z"
   },
   {
    "duration": 14,
    "start_time": "2022-11-11T12:34:18.990Z"
   },
   {
    "duration": 66,
    "start_time": "2022-11-11T12:35:34.594Z"
   },
   {
    "duration": 4,
    "start_time": "2022-11-11T12:35:37.737Z"
   },
   {
    "duration": 14,
    "start_time": "2022-11-11T12:36:31.028Z"
   },
   {
    "duration": 10,
    "start_time": "2022-11-11T12:36:33.780Z"
   },
   {
    "duration": 12,
    "start_time": "2022-11-11T12:36:44.572Z"
   },
   {
    "duration": 20,
    "start_time": "2022-11-11T12:37:45.342Z"
   },
   {
    "duration": 321,
    "start_time": "2022-11-11T12:38:55.856Z"
   },
   {
    "duration": 23,
    "start_time": "2022-11-11T12:39:57.397Z"
   },
   {
    "duration": 8,
    "start_time": "2022-11-11T12:40:30.764Z"
   },
   {
    "duration": 6,
    "start_time": "2022-11-11T12:40:45.797Z"
   },
   {
    "duration": 22,
    "start_time": "2022-11-11T12:40:51.238Z"
   },
   {
    "duration": 4,
    "start_time": "2022-11-11T12:41:44.839Z"
   },
   {
    "duration": 5,
    "start_time": "2022-11-11T12:41:45.543Z"
   },
   {
    "duration": 8,
    "start_time": "2022-11-11T12:42:14.728Z"
   },
   {
    "duration": 7,
    "start_time": "2022-11-11T12:42:19.030Z"
   },
   {
    "duration": 9,
    "start_time": "2022-11-11T12:42:46.481Z"
   },
   {
    "duration": 6,
    "start_time": "2022-11-11T12:43:16.314Z"
   },
   {
    "duration": 6,
    "start_time": "2022-11-11T12:43:16.914Z"
   },
   {
    "duration": 7,
    "start_time": "2022-11-11T12:43:17.234Z"
   },
   {
    "duration": 10,
    "start_time": "2022-11-11T12:43:54.131Z"
   },
   {
    "duration": 9,
    "start_time": "2022-11-11T12:44:05.084Z"
   },
   {
    "duration": 2,
    "start_time": "2022-11-11T12:44:43.398Z"
   },
   {
    "duration": 4,
    "start_time": "2022-11-11T12:45:56.185Z"
   },
   {
    "duration": 653,
    "start_time": "2022-11-11T12:46:09.960Z"
   },
   {
    "duration": 332,
    "start_time": "2022-11-11T12:46:22.594Z"
   },
   {
    "duration": 9,
    "start_time": "2022-11-11T12:47:05.571Z"
   },
   {
    "duration": 3,
    "start_time": "2022-11-11T12:47:07.835Z"
   },
   {
    "duration": 348,
    "start_time": "2022-11-11T12:47:08.099Z"
   },
   {
    "duration": 4,
    "start_time": "2022-11-11T12:48:40.750Z"
   },
   {
    "duration": 141,
    "start_time": "2022-11-11T12:49:53.225Z"
   },
   {
    "duration": 184,
    "start_time": "2022-11-11T12:49:59.826Z"
   },
   {
    "duration": 5,
    "start_time": "2022-11-11T12:50:14.250Z"
   },
   {
    "duration": 141,
    "start_time": "2022-11-11T12:50:21.851Z"
   },
   {
    "duration": 162,
    "start_time": "2022-11-11T12:50:28.395Z"
   },
   {
    "duration": 130,
    "start_time": "2022-11-11T12:50:42.099Z"
   },
   {
    "duration": 146,
    "start_time": "2022-11-11T12:51:05.485Z"
   },
   {
    "duration": 140,
    "start_time": "2022-11-11T12:51:19.205Z"
   },
   {
    "duration": 140,
    "start_time": "2022-11-11T12:51:22.789Z"
   },
   {
    "duration": 140,
    "start_time": "2022-11-11T12:51:25.405Z"
   },
   {
    "duration": 130,
    "start_time": "2022-11-11T12:53:52.129Z"
   },
   {
    "duration": 5,
    "start_time": "2022-11-11T12:56:14.336Z"
   },
   {
    "duration": 228,
    "start_time": "2022-11-11T12:57:50.957Z"
   },
   {
    "duration": 82,
    "start_time": "2022-11-11T12:58:34.005Z"
   },
   {
    "duration": 8,
    "start_time": "2022-11-11T13:00:12.493Z"
   },
   {
    "duration": 118,
    "start_time": "2022-11-11T13:07:15.057Z"
   },
   {
    "duration": 114,
    "start_time": "2022-11-11T13:07:19.713Z"
   },
   {
    "duration": 910,
    "start_time": "2022-11-11T13:08:24.331Z"
   },
   {
    "duration": 189,
    "start_time": "2022-11-11T13:10:38.648Z"
   },
   {
    "duration": 197,
    "start_time": "2022-11-11T13:10:49.321Z"
   },
   {
    "duration": 554,
    "start_time": "2022-11-11T13:10:53.753Z"
   },
   {
    "duration": 2,
    "start_time": "2022-11-11T13:12:48.573Z"
   },
   {
    "duration": 162,
    "start_time": "2022-11-11T13:13:18.439Z"
   },
   {
    "duration": 267,
    "start_time": "2022-11-11T13:13:44.063Z"
   },
   {
    "duration": 7,
    "start_time": "2022-11-11T13:14:30.985Z"
   },
   {
    "duration": 11,
    "start_time": "2022-11-11T13:15:00.002Z"
   },
   {
    "duration": 6,
    "start_time": "2022-11-11T13:15:03.362Z"
   },
   {
    "duration": 6,
    "start_time": "2022-11-11T13:15:08.457Z"
   },
   {
    "duration": 6,
    "start_time": "2022-11-11T13:15:13.314Z"
   },
   {
    "duration": 328,
    "start_time": "2022-11-11T13:18:41.770Z"
   },
   {
    "duration": 219,
    "start_time": "2022-11-11T13:18:46.042Z"
   },
   {
    "duration": 776,
    "start_time": "2022-11-11T13:20:03.750Z"
   },
   {
    "duration": 123,
    "start_time": "2022-11-11T13:20:13.549Z"
   },
   {
    "duration": 70,
    "start_time": "2022-11-11T13:20:33.215Z"
   },
   {
    "duration": 14,
    "start_time": "2022-11-11T13:20:38.311Z"
   },
   {
    "duration": 8,
    "start_time": "2022-11-11T13:20:45.855Z"
   },
   {
    "duration": 10,
    "start_time": "2022-11-11T13:20:50.175Z"
   },
   {
    "duration": 6,
    "start_time": "2022-11-11T13:20:53.824Z"
   },
   {
    "duration": 9,
    "start_time": "2022-11-11T13:20:55.566Z"
   },
   {
    "duration": 5,
    "start_time": "2022-11-11T13:22:52.029Z"
   },
   {
    "duration": 3,
    "start_time": "2022-11-11T13:24:43.056Z"
   },
   {
    "duration": 2,
    "start_time": "2022-11-11T13:24:49.896Z"
   },
   {
    "duration": 15,
    "start_time": "2022-11-11T13:27:53.918Z"
   },
   {
    "duration": 10,
    "start_time": "2022-11-11T13:28:49.161Z"
   },
   {
    "duration": 6411,
    "start_time": "2022-11-11T13:29:15.089Z"
   },
   {
    "duration": 8,
    "start_time": "2022-11-11T13:33:12.667Z"
   },
   {
    "duration": 2046,
    "start_time": "2022-11-11T13:33:15.922Z"
   },
   {
    "duration": 3,
    "start_time": "2022-11-11T13:33:38.626Z"
   },
   {
    "duration": 1444,
    "start_time": "2022-11-11T13:33:51.980Z"
   },
   {
    "duration": 1077,
    "start_time": "2022-11-11T13:35:38.432Z"
   },
   {
    "duration": 1443,
    "start_time": "2022-11-11T13:36:19.930Z"
   },
   {
    "duration": 3,
    "start_time": "2022-11-11T13:36:30.738Z"
   },
   {
    "duration": 2418,
    "start_time": "2022-11-11T13:36:31.234Z"
   },
   {
    "duration": 3127,
    "start_time": "2022-11-11T13:38:18.150Z"
   },
   {
    "duration": 1259,
    "start_time": "2022-11-11T13:38:44.864Z"
   },
   {
    "duration": 1351,
    "start_time": "2022-11-11T13:39:03.096Z"
   },
   {
    "duration": 1354,
    "start_time": "2022-11-11T13:39:09.352Z"
   },
   {
    "duration": 1420,
    "start_time": "2022-11-11T13:39:15.472Z"
   },
   {
    "duration": 1398,
    "start_time": "2022-11-11T13:39:21.848Z"
   },
   {
    "duration": 1832,
    "start_time": "2022-11-11T13:40:39.836Z"
   },
   {
    "duration": 3062,
    "start_time": "2022-11-11T13:40:47.716Z"
   },
   {
    "duration": 2501,
    "start_time": "2022-11-11T13:40:57.099Z"
   },
   {
    "duration": 2380,
    "start_time": "2022-11-11T13:41:14.860Z"
   },
   {
    "duration": 2958,
    "start_time": "2022-11-11T13:41:22.020Z"
   },
   {
    "duration": 3,
    "start_time": "2022-11-11T13:41:41.405Z"
   },
   {
    "duration": 1397,
    "start_time": "2022-11-11T13:41:41.845Z"
   },
   {
    "duration": 3,
    "start_time": "2022-11-11T13:41:51.637Z"
   },
   {
    "duration": 4,
    "start_time": "2022-11-11T13:42:08.261Z"
   },
   {
    "duration": 2465,
    "start_time": "2022-11-11T13:42:08.511Z"
   },
   {
    "duration": 155,
    "start_time": "2022-11-11T13:43:02.352Z"
   },
   {
    "duration": 169,
    "start_time": "2022-11-11T13:43:18.833Z"
   },
   {
    "duration": 162,
    "start_time": "2022-11-11T13:43:25.856Z"
   },
   {
    "duration": 171,
    "start_time": "2022-11-11T13:43:46.137Z"
   },
   {
    "duration": 2391,
    "start_time": "2022-11-11T13:44:34.299Z"
   },
   {
    "duration": 9,
    "start_time": "2022-11-11T13:49:39.904Z"
   },
   {
    "duration": 10,
    "start_time": "2022-11-11T13:49:43.510Z"
   },
   {
    "duration": 11,
    "start_time": "2022-11-11T13:49:47.615Z"
   },
   {
    "duration": 10,
    "start_time": "2022-11-11T13:51:09.803Z"
   },
   {
    "duration": 17,
    "start_time": "2022-11-11T13:51:17.653Z"
   },
   {
    "duration": 14,
    "start_time": "2022-11-11T13:51:31.436Z"
   },
   {
    "duration": 16,
    "start_time": "2022-11-11T13:51:37.771Z"
   },
   {
    "duration": 12,
    "start_time": "2022-11-11T13:51:40.884Z"
   },
   {
    "duration": 15,
    "start_time": "2022-11-11T13:52:09.429Z"
   },
   {
    "duration": 77,
    "start_time": "2022-11-11T13:52:53.951Z"
   },
   {
    "duration": 14,
    "start_time": "2022-11-11T13:53:02.975Z"
   },
   {
    "duration": 16,
    "start_time": "2022-11-11T13:53:30.793Z"
   },
   {
    "duration": 13,
    "start_time": "2022-11-11T13:53:47.009Z"
   },
   {
    "duration": 16,
    "start_time": "2022-11-11T13:53:54.193Z"
   },
   {
    "duration": 14,
    "start_time": "2022-11-11T13:54:20.770Z"
   },
   {
    "duration": 34,
    "start_time": "2022-11-11T13:56:20.656Z"
   },
   {
    "duration": 17,
    "start_time": "2022-11-11T13:56:46.009Z"
   },
   {
    "duration": 188,
    "start_time": "2022-11-11T13:57:00.719Z"
   },
   {
    "duration": 211,
    "start_time": "2022-11-11T13:57:16.904Z"
   },
   {
    "duration": 35,
    "start_time": "2022-11-11T13:59:35.054Z"
   },
   {
    "duration": 12,
    "start_time": "2022-11-11T14:01:14.650Z"
   },
   {
    "duration": 73,
    "start_time": "2022-11-11T14:01:38.155Z"
   },
   {
    "duration": 14,
    "start_time": "2022-11-11T14:01:50.349Z"
   },
   {
    "duration": 5,
    "start_time": "2022-11-11T14:02:54.406Z"
   },
   {
    "duration": 14,
    "start_time": "2022-11-11T14:04:04.521Z"
   },
   {
    "duration": 184,
    "start_time": "2022-11-11T14:05:09.665Z"
   },
   {
    "duration": 287,
    "start_time": "2022-11-11T14:05:25.098Z"
   },
   {
    "duration": 209,
    "start_time": "2022-11-11T14:05:34.518Z"
   },
   {
    "duration": 17,
    "start_time": "2022-11-11T14:14:05.897Z"
   },
   {
    "duration": 188,
    "start_time": "2022-11-11T14:14:20.087Z"
   },
   {
    "duration": 10,
    "start_time": "2022-11-11T14:17:22.840Z"
   },
   {
    "duration": 14,
    "start_time": "2022-11-11T14:17:56.560Z"
   },
   {
    "duration": 12,
    "start_time": "2022-11-11T14:18:18.897Z"
   },
   {
    "duration": 47,
    "start_time": "2022-11-14T08:16:17.848Z"
   },
   {
    "duration": 764,
    "start_time": "2022-11-14T08:19:57.719Z"
   },
   {
    "duration": 311,
    "start_time": "2022-11-14T08:19:58.485Z"
   },
   {
    "duration": 18,
    "start_time": "2022-11-14T08:19:58.798Z"
   },
   {
    "duration": 39,
    "start_time": "2022-11-14T08:19:58.819Z"
   },
   {
    "duration": 1857,
    "start_time": "2022-11-14T08:19:58.859Z"
   },
   {
    "duration": 5,
    "start_time": "2022-11-14T08:20:00.718Z"
   },
   {
    "duration": 71,
    "start_time": "2022-11-14T08:20:00.724Z"
   },
   {
    "duration": 30,
    "start_time": "2022-11-14T08:20:00.803Z"
   },
   {
    "duration": 238,
    "start_time": "2022-11-14T08:20:00.989Z"
   },
   {
    "duration": 6,
    "start_time": "2022-11-14T08:20:01.229Z"
   },
   {
    "duration": 106,
    "start_time": "2022-11-14T08:20:03.101Z"
   },
   {
    "duration": 5,
    "start_time": "2022-11-14T08:20:03.284Z"
   },
   {
    "duration": 5,
    "start_time": "2022-11-14T08:20:04.765Z"
   },
   {
    "duration": 7,
    "start_time": "2022-11-14T08:20:06.374Z"
   },
   {
    "duration": 4,
    "start_time": "2022-11-14T08:20:06.711Z"
   },
   {
    "duration": 5,
    "start_time": "2022-11-14T08:20:06.981Z"
   },
   {
    "duration": 6,
    "start_time": "2022-11-14T08:20:07.485Z"
   },
   {
    "duration": 6,
    "start_time": "2022-11-14T08:20:07.885Z"
   },
   {
    "duration": 112,
    "start_time": "2022-11-14T08:20:08.509Z"
   },
   {
    "duration": 7,
    "start_time": "2022-11-14T08:20:08.861Z"
   },
   {
    "duration": 5,
    "start_time": "2022-11-14T08:20:09.439Z"
   },
   {
    "duration": 7,
    "start_time": "2022-11-14T08:20:09.791Z"
   },
   {
    "duration": 5,
    "start_time": "2022-11-14T08:20:10.022Z"
   },
   {
    "duration": 5,
    "start_time": "2022-11-14T08:20:10.262Z"
   },
   {
    "duration": 5,
    "start_time": "2022-11-14T08:20:11.431Z"
   },
   {
    "duration": 6,
    "start_time": "2022-11-14T08:20:11.934Z"
   },
   {
    "duration": 6,
    "start_time": "2022-11-14T08:20:42.031Z"
   },
   {
    "duration": 118,
    "start_time": "2022-11-14T08:20:42.424Z"
   },
   {
    "duration": 4,
    "start_time": "2022-11-14T08:20:42.671Z"
   },
   {
    "duration": 8,
    "start_time": "2022-11-14T08:20:44.766Z"
   },
   {
    "duration": 1022,
    "start_time": "2022-11-14T08:20:46.758Z"
   },
   {
    "duration": 13,
    "start_time": "2022-11-14T08:20:51.712Z"
   },
   {
    "duration": 7,
    "start_time": "2022-11-14T08:21:13.599Z"
   },
   {
    "duration": 3,
    "start_time": "2022-11-14T08:21:15.192Z"
   },
   {
    "duration": 22,
    "start_time": "2022-11-14T08:21:15.672Z"
   },
   {
    "duration": 4,
    "start_time": "2022-11-14T08:21:17.105Z"
   },
   {
    "duration": 114,
    "start_time": "2022-11-14T08:21:20.463Z"
   },
   {
    "duration": 17,
    "start_time": "2022-11-14T08:21:20.736Z"
   },
   {
    "duration": 4,
    "start_time": "2022-11-14T08:21:22.185Z"
   },
   {
    "duration": 19,
    "start_time": "2022-11-14T08:21:24.537Z"
   },
   {
    "duration": 4,
    "start_time": "2022-11-14T08:21:30.113Z"
   },
   {
    "duration": 10,
    "start_time": "2022-11-14T08:21:32.816Z"
   },
   {
    "duration": 4,
    "start_time": "2022-11-14T08:21:33.202Z"
   },
   {
    "duration": 7,
    "start_time": "2022-11-14T08:21:34.233Z"
   },
   {
    "duration": 4,
    "start_time": "2022-11-14T08:21:36.865Z"
   },
   {
    "duration": 10,
    "start_time": "2022-11-14T08:21:40.865Z"
   },
   {
    "duration": 9,
    "start_time": "2022-11-14T08:21:41.145Z"
   },
   {
    "duration": 9,
    "start_time": "2022-11-14T08:21:41.505Z"
   },
   {
    "duration": 4,
    "start_time": "2022-11-14T08:21:41.842Z"
   },
   {
    "duration": 336,
    "start_time": "2022-11-14T08:21:42.505Z"
   },
   {
    "duration": 6,
    "start_time": "2022-11-14T08:21:45.778Z"
   },
   {
    "duration": 8,
    "start_time": "2022-11-14T08:21:46.218Z"
   },
   {
    "duration": 5,
    "start_time": "2022-11-14T08:21:51.656Z"
   },
   {
    "duration": 2,
    "start_time": "2022-11-14T08:24:07.845Z"
   },
   {
    "duration": 86,
    "start_time": "2022-11-14T08:24:07.999Z"
   },
   {
    "duration": 13,
    "start_time": "2022-11-14T08:24:08.150Z"
   },
   {
    "duration": 18,
    "start_time": "2022-11-14T08:24:08.446Z"
   },
   {
    "duration": 1805,
    "start_time": "2022-11-14T08:24:08.597Z"
   },
   {
    "duration": 4,
    "start_time": "2022-11-14T08:24:10.404Z"
   },
   {
    "duration": 16,
    "start_time": "2022-11-14T08:24:10.409Z"
   },
   {
    "duration": 3,
    "start_time": "2022-11-14T08:24:10.426Z"
   },
   {
    "duration": 221,
    "start_time": "2022-11-14T08:24:10.558Z"
   },
   {
    "duration": 8,
    "start_time": "2022-11-14T08:24:11.222Z"
   },
   {
    "duration": 104,
    "start_time": "2022-11-14T08:24:13.558Z"
   },
   {
    "duration": 6,
    "start_time": "2022-11-14T08:24:13.975Z"
   },
   {
    "duration": 6,
    "start_time": "2022-11-14T08:24:14.990Z"
   },
   {
    "duration": 7,
    "start_time": "2022-11-14T08:24:16.286Z"
   },
   {
    "duration": 5,
    "start_time": "2022-11-14T08:24:16.638Z"
   },
   {
    "duration": 5,
    "start_time": "2022-11-14T08:24:17.031Z"
   },
   {
    "duration": 5,
    "start_time": "2022-11-14T08:24:17.709Z"
   },
   {
    "duration": 6,
    "start_time": "2022-11-14T08:24:18.007Z"
   },
   {
    "duration": 108,
    "start_time": "2022-11-14T08:24:18.406Z"
   },
   {
    "duration": 6,
    "start_time": "2022-11-14T08:24:18.590Z"
   },
   {
    "duration": 5,
    "start_time": "2022-11-14T08:24:18.783Z"
   },
   {
    "duration": 8,
    "start_time": "2022-11-14T08:24:19.014Z"
   },
   {
    "duration": 5,
    "start_time": "2022-11-14T08:24:19.254Z"
   },
   {
    "duration": 6,
    "start_time": "2022-11-14T08:24:19.510Z"
   },
   {
    "duration": 5,
    "start_time": "2022-11-14T08:24:20.879Z"
   },
   {
    "duration": 6,
    "start_time": "2022-11-14T08:24:21.216Z"
   },
   {
    "duration": 6,
    "start_time": "2022-11-14T08:24:22.166Z"
   },
   {
    "duration": 118,
    "start_time": "2022-11-14T08:24:22.431Z"
   },
   {
    "duration": 4,
    "start_time": "2022-11-14T08:24:23.998Z"
   },
   {
    "duration": 10,
    "start_time": "2022-11-14T08:24:26.174Z"
   },
   {
    "duration": 869,
    "start_time": "2022-11-14T08:24:27.595Z"
   },
   {
    "duration": 12,
    "start_time": "2022-11-14T08:24:28.465Z"
   },
   {
    "duration": 7,
    "start_time": "2022-11-14T08:24:30.943Z"
   },
   {
    "duration": 4,
    "start_time": "2022-11-14T08:24:32.143Z"
   },
   {
    "duration": 26,
    "start_time": "2022-11-14T08:24:32.679Z"
   },
   {
    "duration": 3,
    "start_time": "2022-11-14T08:24:33.007Z"
   },
   {
    "duration": 191,
    "start_time": "2022-11-14T08:24:35.095Z"
   },
   {
    "duration": 18,
    "start_time": "2022-11-14T08:24:35.799Z"
   },
   {
    "duration": 4,
    "start_time": "2022-11-14T08:24:36.319Z"
   },
   {
    "duration": 20,
    "start_time": "2022-11-14T08:24:36.983Z"
   },
   {
    "duration": 5,
    "start_time": "2022-11-14T08:24:38.967Z"
   },
   {
    "duration": 11,
    "start_time": "2022-11-14T08:24:39.631Z"
   },
   {
    "duration": 4,
    "start_time": "2022-11-14T08:24:41.327Z"
   },
   {
    "duration": 8,
    "start_time": "2022-11-14T08:24:41.863Z"
   },
   {
    "duration": 5,
    "start_time": "2022-11-14T08:24:42.056Z"
   },
   {
    "duration": 9,
    "start_time": "2022-11-14T08:24:43.864Z"
   },
   {
    "duration": 10,
    "start_time": "2022-11-14T08:24:44.263Z"
   },
   {
    "duration": 12,
    "start_time": "2022-11-14T08:24:44.585Z"
   },
   {
    "duration": 4,
    "start_time": "2022-11-14T08:24:44.970Z"
   },
   {
    "duration": 313,
    "start_time": "2022-11-14T08:24:48.767Z"
   },
   {
    "duration": 6,
    "start_time": "2022-11-14T08:24:53.018Z"
   },
   {
    "duration": 7,
    "start_time": "2022-11-14T08:24:53.320Z"
   },
   {
    "duration": 75,
    "start_time": "2022-11-14T08:27:13.958Z"
   },
   {
    "duration": 16,
    "start_time": "2022-11-14T08:27:16.421Z"
   },
   {
    "duration": 4,
    "start_time": "2022-11-14T08:27:20.206Z"
   },
   {
    "duration": 7,
    "start_time": "2022-11-14T08:27:21.478Z"
   },
   {
    "duration": 9,
    "start_time": "2022-11-14T08:27:26.262Z"
   },
   {
    "duration": 9,
    "start_time": "2022-11-14T08:27:28.597Z"
   },
   {
    "duration": 4,
    "start_time": "2022-11-14T08:27:42.370Z"
   },
   {
    "duration": 2,
    "start_time": "2022-11-14T08:31:16.372Z"
   },
   {
    "duration": 13,
    "start_time": "2022-11-14T08:37:24.098Z"
   },
   {
    "duration": 10,
    "start_time": "2022-11-14T08:42:10.902Z"
   },
   {
    "duration": 16,
    "start_time": "2022-11-14T08:44:59.819Z"
   },
   {
    "duration": 9,
    "start_time": "2022-11-14T08:45:15.836Z"
   },
   {
    "duration": 2,
    "start_time": "2022-11-14T08:45:29.207Z"
   },
   {
    "duration": 87,
    "start_time": "2022-11-14T08:45:29.212Z"
   },
   {
    "duration": 14,
    "start_time": "2022-11-14T08:45:29.301Z"
   },
   {
    "duration": 18,
    "start_time": "2022-11-14T08:45:29.318Z"
   },
   {
    "duration": 1810,
    "start_time": "2022-11-14T08:45:29.358Z"
   },
   {
    "duration": 5,
    "start_time": "2022-11-14T08:45:31.170Z"
   },
   {
    "duration": 27,
    "start_time": "2022-11-14T08:45:31.177Z"
   },
   {
    "duration": 7,
    "start_time": "2022-11-14T08:45:31.205Z"
   },
   {
    "duration": 246,
    "start_time": "2022-11-14T08:45:31.214Z"
   },
   {
    "duration": 8,
    "start_time": "2022-11-14T08:45:31.461Z"
   },
   {
    "duration": 118,
    "start_time": "2022-11-14T08:45:31.470Z"
   },
   {
    "duration": 5,
    "start_time": "2022-11-14T08:45:31.590Z"
   },
   {
    "duration": 11,
    "start_time": "2022-11-14T08:45:31.597Z"
   },
   {
    "duration": 7,
    "start_time": "2022-11-14T08:45:31.609Z"
   },
   {
    "duration": 5,
    "start_time": "2022-11-14T08:45:31.617Z"
   },
   {
    "duration": 8,
    "start_time": "2022-11-14T08:45:31.623Z"
   },
   {
    "duration": 30,
    "start_time": "2022-11-14T08:45:31.632Z"
   },
   {
    "duration": 13,
    "start_time": "2022-11-14T08:45:31.664Z"
   },
   {
    "duration": 105,
    "start_time": "2022-11-14T08:45:31.679Z"
   },
   {
    "duration": 5,
    "start_time": "2022-11-14T08:45:31.786Z"
   },
   {
    "duration": 11,
    "start_time": "2022-11-14T08:45:31.793Z"
   },
   {
    "duration": 8,
    "start_time": "2022-11-14T08:45:31.805Z"
   },
   {
    "duration": 5,
    "start_time": "2022-11-14T08:45:31.815Z"
   },
   {
    "duration": 6,
    "start_time": "2022-11-14T08:45:31.823Z"
   },
   {
    "duration": 29,
    "start_time": "2022-11-14T08:45:31.830Z"
   },
   {
    "duration": 6,
    "start_time": "2022-11-14T08:45:31.861Z"
   },
   {
    "duration": 8,
    "start_time": "2022-11-14T08:45:31.869Z"
   },
   {
    "duration": 137,
    "start_time": "2022-11-14T08:45:31.879Z"
   },
   {
    "duration": 3,
    "start_time": "2022-11-14T08:45:32.017Z"
   },
   {
    "duration": 13,
    "start_time": "2022-11-14T08:45:32.022Z"
   },
   {
    "duration": 1048,
    "start_time": "2022-11-14T08:45:32.036Z"
   },
   {
    "duration": 13,
    "start_time": "2022-11-14T08:45:33.086Z"
   },
   {
    "duration": 7,
    "start_time": "2022-11-14T08:45:33.100Z"
   },
   {
    "duration": 7,
    "start_time": "2022-11-14T08:45:33.109Z"
   },
   {
    "duration": 22,
    "start_time": "2022-11-14T08:45:33.118Z"
   },
   {
    "duration": 3,
    "start_time": "2022-11-14T08:45:33.159Z"
   },
   {
    "duration": 127,
    "start_time": "2022-11-14T08:45:33.163Z"
   },
   {
    "duration": 18,
    "start_time": "2022-11-14T08:45:33.292Z"
   },
   {
    "duration": 6,
    "start_time": "2022-11-14T08:45:33.312Z"
   },
   {
    "duration": 21,
    "start_time": "2022-11-14T08:45:33.319Z"
   },
   {
    "duration": 6,
    "start_time": "2022-11-14T08:45:33.362Z"
   },
   {
    "duration": 12,
    "start_time": "2022-11-14T08:45:33.370Z"
   },
   {
    "duration": 4,
    "start_time": "2022-11-14T08:45:33.384Z"
   },
   {
    "duration": 13,
    "start_time": "2022-11-14T08:45:33.389Z"
   },
   {
    "duration": 10,
    "start_time": "2022-11-14T08:45:33.403Z"
   },
   {
    "duration": 25,
    "start_time": "2022-11-14T08:45:33.414Z"
   },
   {
    "duration": 26,
    "start_time": "2022-11-14T08:45:33.441Z"
   },
   {
    "duration": 25,
    "start_time": "2022-11-14T08:45:33.469Z"
   },
   {
    "duration": 10,
    "start_time": "2022-11-14T08:45:33.496Z"
   },
   {
    "duration": 334,
    "start_time": "2022-11-14T08:45:33.508Z"
   },
   {
    "duration": 6,
    "start_time": "2022-11-14T08:45:33.844Z"
   },
   {
    "duration": 7,
    "start_time": "2022-11-14T08:45:33.859Z"
   },
   {
    "duration": 2,
    "start_time": "2022-11-14T08:45:33.867Z"
   },
   {
    "duration": 11,
    "start_time": "2022-11-14T08:45:33.871Z"
   },
   {
    "duration": 14,
    "start_time": "2022-11-14T08:45:36.636Z"
   },
   {
    "duration": 3,
    "start_time": "2022-11-14T08:46:30.526Z"
   },
   {
    "duration": 117,
    "start_time": "2022-11-14T08:46:30.531Z"
   },
   {
    "duration": 12,
    "start_time": "2022-11-14T08:46:30.650Z"
   },
   {
    "duration": 21,
    "start_time": "2022-11-14T08:46:30.664Z"
   },
   {
    "duration": 1756,
    "start_time": "2022-11-14T08:46:30.686Z"
   },
   {
    "duration": 16,
    "start_time": "2022-11-14T08:46:32.444Z"
   },
   {
    "duration": 12,
    "start_time": "2022-11-14T08:46:32.463Z"
   },
   {
    "duration": 4,
    "start_time": "2022-11-14T08:46:32.476Z"
   },
   {
    "duration": 245,
    "start_time": "2022-11-14T08:46:32.482Z"
   },
   {
    "duration": 6,
    "start_time": "2022-11-14T08:46:32.729Z"
   },
   {
    "duration": 113,
    "start_time": "2022-11-14T08:46:32.736Z"
   },
   {
    "duration": 10,
    "start_time": "2022-11-14T08:46:32.851Z"
   },
   {
    "duration": 10,
    "start_time": "2022-11-14T08:46:32.863Z"
   },
   {
    "duration": 9,
    "start_time": "2022-11-14T08:46:32.874Z"
   },
   {
    "duration": 5,
    "start_time": "2022-11-14T08:46:32.884Z"
   },
   {
    "duration": 5,
    "start_time": "2022-11-14T08:46:32.891Z"
   },
   {
    "duration": 6,
    "start_time": "2022-11-14T08:46:32.898Z"
   },
   {
    "duration": 7,
    "start_time": "2022-11-14T08:46:32.905Z"
   },
   {
    "duration": 136,
    "start_time": "2022-11-14T08:46:32.913Z"
   },
   {
    "duration": 10,
    "start_time": "2022-11-14T08:46:33.051Z"
   },
   {
    "duration": 5,
    "start_time": "2022-11-14T08:46:33.063Z"
   },
   {
    "duration": 9,
    "start_time": "2022-11-14T08:46:33.069Z"
   },
   {
    "duration": 5,
    "start_time": "2022-11-14T08:46:33.079Z"
   },
   {
    "duration": 5,
    "start_time": "2022-11-14T08:46:33.088Z"
   },
   {
    "duration": 8,
    "start_time": "2022-11-14T08:46:33.095Z"
   },
   {
    "duration": 7,
    "start_time": "2022-11-14T08:46:33.104Z"
   },
   {
    "duration": 8,
    "start_time": "2022-11-14T08:46:33.113Z"
   },
   {
    "duration": 126,
    "start_time": "2022-11-14T08:46:33.159Z"
   },
   {
    "duration": 4,
    "start_time": "2022-11-14T08:46:33.286Z"
   },
   {
    "duration": 11,
    "start_time": "2022-11-14T08:46:33.291Z"
   },
   {
    "duration": 1012,
    "start_time": "2022-11-14T08:46:33.303Z"
   },
   {
    "duration": 14,
    "start_time": "2022-11-14T08:46:34.317Z"
   },
   {
    "duration": 8,
    "start_time": "2022-11-14T08:46:34.333Z"
   },
   {
    "duration": 6,
    "start_time": "2022-11-14T08:46:34.359Z"
   },
   {
    "duration": 22,
    "start_time": "2022-11-14T08:46:34.366Z"
   },
   {
    "duration": 3,
    "start_time": "2022-11-14T08:46:34.390Z"
   },
   {
    "duration": 118,
    "start_time": "2022-11-14T08:46:34.395Z"
   },
   {
    "duration": 18,
    "start_time": "2022-11-14T08:46:34.514Z"
   },
   {
    "duration": 4,
    "start_time": "2022-11-14T08:46:34.533Z"
   },
   {
    "duration": 47,
    "start_time": "2022-11-14T08:46:34.538Z"
   },
   {
    "duration": 15,
    "start_time": "2022-11-14T08:46:34.588Z"
   },
   {
    "duration": 18,
    "start_time": "2022-11-14T08:46:34.605Z"
   },
   {
    "duration": 6,
    "start_time": "2022-11-14T08:46:34.626Z"
   },
   {
    "duration": 16,
    "start_time": "2022-11-14T08:46:34.634Z"
   },
   {
    "duration": 12,
    "start_time": "2022-11-14T08:46:34.652Z"
   },
   {
    "duration": 16,
    "start_time": "2022-11-14T08:46:34.666Z"
   },
   {
    "duration": 14,
    "start_time": "2022-11-14T08:46:34.684Z"
   },
   {
    "duration": 13,
    "start_time": "2022-11-14T08:46:34.700Z"
   },
   {
    "duration": 6,
    "start_time": "2022-11-14T08:46:34.714Z"
   },
   {
    "duration": 360,
    "start_time": "2022-11-14T08:46:34.722Z"
   },
   {
    "duration": 8,
    "start_time": "2022-11-14T08:46:35.084Z"
   },
   {
    "duration": 8,
    "start_time": "2022-11-14T08:46:35.093Z"
   },
   {
    "duration": 9,
    "start_time": "2022-11-14T08:46:35.103Z"
   },
   {
    "duration": 12,
    "start_time": "2022-11-14T08:46:40.735Z"
   },
   {
    "duration": 15,
    "start_time": "2022-11-14T08:46:50.936Z"
   },
   {
    "duration": 21,
    "start_time": "2022-11-14T08:47:24.777Z"
   },
   {
    "duration": 19,
    "start_time": "2022-11-14T08:50:17.176Z"
   },
   {
    "duration": 12,
    "start_time": "2022-11-14T08:50:57.281Z"
   },
   {
    "duration": 13,
    "start_time": "2022-11-14T08:51:10.321Z"
   },
   {
    "duration": 4,
    "start_time": "2022-11-14T08:53:04.919Z"
   },
   {
    "duration": 799,
    "start_time": "2022-11-14T08:53:11.862Z"
   },
   {
    "duration": 8,
    "start_time": "2022-11-14T08:53:13.141Z"
   },
   {
    "duration": 9,
    "start_time": "2022-11-14T08:53:13.334Z"
   },
   {
    "duration": 7,
    "start_time": "2022-11-14T08:53:13.709Z"
   },
   {
    "duration": 4,
    "start_time": "2022-11-14T08:53:14.063Z"
   },
   {
    "duration": 737,
    "start_time": "2022-11-14T08:53:14.389Z"
   },
   {
    "duration": 9,
    "start_time": "2022-11-14T08:53:15.128Z"
   },
   {
    "duration": 8,
    "start_time": "2022-11-14T08:53:15.139Z"
   },
   {
    "duration": 4,
    "start_time": "2022-11-14T08:53:15.173Z"
   },
   {
    "duration": 6,
    "start_time": "2022-11-14T08:53:15.656Z"
   },
   {
    "duration": 192,
    "start_time": "2022-11-14T08:53:17.268Z"
   },
   {
    "duration": 2,
    "start_time": "2022-11-14T08:53:18.086Z"
   },
   {
    "duration": 10,
    "start_time": "2022-11-14T08:53:18.430Z"
   },
   {
    "duration": 5,
    "start_time": "2022-11-14T08:53:18.701Z"
   },
   {
    "duration": 125,
    "start_time": "2022-11-14T08:53:19.469Z"
   },
   {
    "duration": 6,
    "start_time": "2022-11-14T08:53:21.933Z"
   },
   {
    "duration": 4,
    "start_time": "2022-11-14T08:53:22.262Z"
   },
   {
    "duration": 171,
    "start_time": "2022-11-14T08:53:24.702Z"
   },
   {
    "duration": 5,
    "start_time": "2022-11-14T08:53:29.118Z"
   },
   {
    "duration": 6,
    "start_time": "2022-11-14T08:56:26.037Z"
   },
   {
    "duration": 120,
    "start_time": "2022-11-14T08:57:02.831Z"
   },
   {
    "duration": 4,
    "start_time": "2022-11-14T08:59:16.411Z"
   },
   {
    "duration": 629,
    "start_time": "2022-11-14T08:59:16.971Z"
   },
   {
    "duration": 21,
    "start_time": "2022-11-14T08:59:18.941Z"
   },
   {
    "duration": 7,
    "start_time": "2022-11-14T08:59:19.243Z"
   },
   {
    "duration": 8,
    "start_time": "2022-11-14T08:59:21.771Z"
   },
   {
    "duration": 242,
    "start_time": "2022-11-14T08:59:21.979Z"
   },
   {
    "duration": 13,
    "start_time": "2022-11-14T08:59:24.483Z"
   },
   {
    "duration": 8,
    "start_time": "2022-11-14T08:59:30.404Z"
   },
   {
    "duration": 224,
    "start_time": "2022-11-14T08:59:31.540Z"
   },
   {
    "duration": 58,
    "start_time": "2022-11-14T08:59:51.564Z"
   },
   {
    "duration": 195,
    "start_time": "2022-11-14T08:59:56.565Z"
   },
   {
    "duration": 199,
    "start_time": "2022-11-14T09:00:04.134Z"
   },
   {
    "duration": 187,
    "start_time": "2022-11-14T09:01:35.114Z"
   },
   {
    "duration": 190,
    "start_time": "2022-11-14T09:01:59.129Z"
   },
   {
    "duration": 169,
    "start_time": "2022-11-14T09:02:28.012Z"
   },
   {
    "duration": 184,
    "start_time": "2022-11-14T09:02:40.788Z"
   },
   {
    "duration": 4,
    "start_time": "2022-11-14T09:05:22.490Z"
   },
   {
    "duration": 170,
    "start_time": "2022-11-14T09:05:22.769Z"
   },
   {
    "duration": 6,
    "start_time": "2022-11-14T09:05:24.943Z"
   },
   {
    "duration": 129,
    "start_time": "2022-11-14T09:05:25.130Z"
   },
   {
    "duration": 6,
    "start_time": "2022-11-14T09:05:26.921Z"
   },
   {
    "duration": 123,
    "start_time": "2022-11-14T09:05:27.161Z"
   },
   {
    "duration": 7,
    "start_time": "2022-11-14T09:05:29.129Z"
   },
   {
    "duration": 123,
    "start_time": "2022-11-14T09:05:29.562Z"
   },
   {
    "duration": 5,
    "start_time": "2022-11-14T09:05:30.729Z"
   },
   {
    "duration": 3,
    "start_time": "2022-11-14T09:05:31.497Z"
   },
   {
    "duration": 295,
    "start_time": "2022-11-14T09:05:31.834Z"
   },
   {
    "duration": 109,
    "start_time": "2022-11-14T09:05:32.209Z"
   },
   {
    "duration": 4,
    "start_time": "2022-11-14T09:05:33.601Z"
   },
   {
    "duration": 229,
    "start_time": "2022-11-14T09:05:33.856Z"
   },
   {
    "duration": 216,
    "start_time": "2022-11-14T09:05:36.737Z"
   },
   {
    "duration": 6,
    "start_time": "2022-11-14T09:05:36.958Z"
   },
   {
    "duration": 352,
    "start_time": "2022-11-14T09:06:24.211Z"
   },
   {
    "duration": 34,
    "start_time": "2022-11-14T09:18:34.250Z"
   },
   {
    "duration": 5,
    "start_time": "2022-11-14T09:18:42.920Z"
   },
   {
    "duration": 4,
    "start_time": "2022-11-14T09:18:50.975Z"
   },
   {
    "duration": 5,
    "start_time": "2022-11-14T09:18:57.764Z"
   },
   {
    "duration": 4,
    "start_time": "2022-11-14T09:19:09.657Z"
   },
   {
    "duration": 34,
    "start_time": "2022-11-14T09:23:43.586Z"
   },
   {
    "duration": 30,
    "start_time": "2022-11-14T09:23:53.940Z"
   },
   {
    "duration": 27,
    "start_time": "2022-11-14T09:24:46.314Z"
   },
   {
    "duration": 5,
    "start_time": "2022-11-14T09:25:52.831Z"
   },
   {
    "duration": 6,
    "start_time": "2022-11-14T09:26:00.631Z"
   },
   {
    "duration": 239,
    "start_time": "2022-11-14T09:30:55.971Z"
   },
   {
    "duration": 394,
    "start_time": "2022-11-14T09:31:01.186Z"
   },
   {
    "duration": 654,
    "start_time": "2022-11-14T09:31:42.957Z"
   },
   {
    "duration": 245,
    "start_time": "2022-11-14T09:33:53.937Z"
   },
   {
    "duration": 244,
    "start_time": "2022-11-14T09:34:06.202Z"
   },
   {
    "duration": 43,
    "start_time": "2022-11-14T09:42:23.558Z"
   },
   {
    "duration": 8,
    "start_time": "2022-11-14T09:42:25.876Z"
   },
   {
    "duration": 5,
    "start_time": "2022-11-14T09:42:35.845Z"
   },
   {
    "duration": 979,
    "start_time": "2022-11-14T09:42:42.812Z"
   },
   {
    "duration": 6,
    "start_time": "2022-11-14T09:42:53.221Z"
   },
   {
    "duration": 856,
    "start_time": "2022-11-14T09:42:56.076Z"
   },
   {
    "duration": 5,
    "start_time": "2022-11-14T09:43:01.205Z"
   },
   {
    "duration": 5,
    "start_time": "2022-11-14T09:43:04.621Z"
   },
   {
    "duration": 666,
    "start_time": "2022-11-14T09:43:08.846Z"
   },
   {
    "duration": 6,
    "start_time": "2022-11-14T09:43:13.533Z"
   },
   {
    "duration": 2,
    "start_time": "2022-11-14T10:38:02.728Z"
   },
   {
    "duration": 2,
    "start_time": "2022-11-14T10:38:06.000Z"
   },
   {
    "duration": 2,
    "start_time": "2022-11-14T10:38:08.065Z"
   },
   {
    "duration": 32,
    "start_time": "2022-11-14T10:38:16.079Z"
   },
   {
    "duration": 9,
    "start_time": "2022-11-14T10:41:41.919Z"
   },
   {
    "duration": 31,
    "start_time": "2022-11-14T10:41:55.344Z"
   },
   {
    "duration": 10,
    "start_time": "2022-11-14T10:42:02.903Z"
   },
   {
    "duration": 46,
    "start_time": "2022-11-14T10:42:06.400Z"
   },
   {
    "duration": 12,
    "start_time": "2022-11-14T10:42:08.567Z"
   },
   {
    "duration": 140,
    "start_time": "2022-11-14T10:48:10.205Z"
   },
   {
    "duration": 16,
    "start_time": "2022-11-14T10:48:18.805Z"
   },
   {
    "duration": 15,
    "start_time": "2022-11-14T10:48:21.292Z"
   },
   {
    "duration": 13,
    "start_time": "2022-11-14T10:48:25.846Z"
   },
   {
    "duration": 150,
    "start_time": "2022-11-14T10:48:51.846Z"
   },
   {
    "duration": 15,
    "start_time": "2022-11-14T10:48:58.894Z"
   },
   {
    "duration": 172,
    "start_time": "2022-11-14T10:49:04.808Z"
   },
   {
    "duration": 18,
    "start_time": "2022-11-14T10:50:36.226Z"
   },
   {
    "duration": 33447,
    "start_time": "2022-11-14T10:50:49.170Z"
   },
   {
    "duration": 6,
    "start_time": "2022-11-14T10:52:50.479Z"
   },
   {
    "duration": 5,
    "start_time": "2022-11-14T10:52:55.319Z"
   },
   {
    "duration": 8,
    "start_time": "2022-11-14T10:53:06.808Z"
   },
   {
    "duration": 3,
    "start_time": "2022-11-14T10:53:11.096Z"
   },
   {
    "duration": 6,
    "start_time": "2022-11-14T10:54:03.633Z"
   },
   {
    "duration": 140,
    "start_time": "2022-11-14T10:54:14.265Z"
   },
   {
    "duration": 119,
    "start_time": "2022-11-14T10:55:07.540Z"
   },
   {
    "duration": 229,
    "start_time": "2022-11-14T10:57:16.712Z"
   },
   {
    "duration": 114,
    "start_time": "2022-11-14T10:57:26.721Z"
   },
   {
    "duration": 601,
    "start_time": "2022-11-14T10:59:19.892Z"
   },
   {
    "duration": 88,
    "start_time": "2022-11-14T10:59:20.495Z"
   },
   {
    "duration": 15,
    "start_time": "2022-11-14T10:59:20.584Z"
   },
   {
    "duration": 22,
    "start_time": "2022-11-14T10:59:20.600Z"
   },
   {
    "duration": 1747,
    "start_time": "2022-11-14T10:59:20.624Z"
   },
   {
    "duration": 5,
    "start_time": "2022-11-14T10:59:22.373Z"
   },
   {
    "duration": 12,
    "start_time": "2022-11-14T10:59:22.379Z"
   },
   {
    "duration": 3,
    "start_time": "2022-11-14T10:59:22.393Z"
   },
   {
    "duration": 231,
    "start_time": "2022-11-14T10:59:22.398Z"
   },
   {
    "duration": 6,
    "start_time": "2022-11-14T10:59:22.632Z"
   },
   {
    "duration": 111,
    "start_time": "2022-11-14T10:59:22.640Z"
   },
   {
    "duration": 6,
    "start_time": "2022-11-14T10:59:22.759Z"
   },
   {
    "duration": 9,
    "start_time": "2022-11-14T10:59:22.767Z"
   },
   {
    "duration": 10,
    "start_time": "2022-11-14T10:59:22.778Z"
   },
   {
    "duration": 8,
    "start_time": "2022-11-14T10:59:22.789Z"
   },
   {
    "duration": 11,
    "start_time": "2022-11-14T10:59:22.798Z"
   },
   {
    "duration": 7,
    "start_time": "2022-11-14T10:59:22.811Z"
   },
   {
    "duration": 8,
    "start_time": "2022-11-14T10:59:22.819Z"
   },
   {
    "duration": 115,
    "start_time": "2022-11-14T10:59:22.828Z"
   },
   {
    "duration": 4,
    "start_time": "2022-11-14T10:59:22.945Z"
   },
   {
    "duration": 13,
    "start_time": "2022-11-14T10:59:22.950Z"
   },
   {
    "duration": 9,
    "start_time": "2022-11-14T10:59:22.964Z"
   },
   {
    "duration": 5,
    "start_time": "2022-11-14T10:59:22.974Z"
   },
   {
    "duration": 8,
    "start_time": "2022-11-14T10:59:22.980Z"
   },
   {
    "duration": 7,
    "start_time": "2022-11-14T10:59:22.989Z"
   },
   {
    "duration": 5,
    "start_time": "2022-11-14T10:59:22.997Z"
   },
   {
    "duration": 6,
    "start_time": "2022-11-14T10:59:23.003Z"
   },
   {
    "duration": 142,
    "start_time": "2022-11-14T10:59:23.013Z"
   },
   {
    "duration": 3,
    "start_time": "2022-11-14T10:59:23.159Z"
   },
   {
    "duration": 12,
    "start_time": "2022-11-14T10:59:23.163Z"
   },
   {
    "duration": 1054,
    "start_time": "2022-11-14T10:59:23.176Z"
   },
   {
    "duration": 11,
    "start_time": "2022-11-14T10:59:24.232Z"
   },
   {
    "duration": 18,
    "start_time": "2022-11-14T10:59:24.245Z"
   },
   {
    "duration": 4,
    "start_time": "2022-11-14T10:59:24.265Z"
   },
   {
    "duration": 25,
    "start_time": "2022-11-14T10:59:24.270Z"
   },
   {
    "duration": 5,
    "start_time": "2022-11-14T10:59:24.296Z"
   },
   {
    "duration": 131,
    "start_time": "2022-11-14T10:59:24.302Z"
   },
   {
    "duration": 25,
    "start_time": "2022-11-14T10:59:24.435Z"
   },
   {
    "duration": 4,
    "start_time": "2022-11-14T10:59:24.461Z"
   },
   {
    "duration": 20,
    "start_time": "2022-11-14T10:59:24.466Z"
   },
   {
    "duration": 3,
    "start_time": "2022-11-14T10:59:24.488Z"
   },
   {
    "duration": 15,
    "start_time": "2022-11-14T10:59:24.493Z"
   },
   {
    "duration": 3,
    "start_time": "2022-11-14T10:59:24.509Z"
   },
   {
    "duration": 9,
    "start_time": "2022-11-14T10:59:24.513Z"
   },
   {
    "duration": 5,
    "start_time": "2022-11-14T10:59:24.523Z"
   },
   {
    "duration": 34,
    "start_time": "2022-11-14T10:59:24.529Z"
   },
   {
    "duration": 8,
    "start_time": "2022-11-14T10:59:24.564Z"
   },
   {
    "duration": 7,
    "start_time": "2022-11-14T10:59:24.574Z"
   },
   {
    "duration": 3,
    "start_time": "2022-11-14T10:59:24.583Z"
   },
   {
    "duration": 395,
    "start_time": "2022-11-14T10:59:24.588Z"
   },
   {
    "duration": 6,
    "start_time": "2022-11-14T10:59:24.985Z"
   },
   {
    "duration": 8,
    "start_time": "2022-11-14T10:59:24.992Z"
   },
   {
    "duration": 2,
    "start_time": "2022-11-14T10:59:25.002Z"
   },
   {
    "duration": 779,
    "start_time": "2022-11-14T10:59:25.006Z"
   },
   {
    "duration": 9,
    "start_time": "2022-11-14T10:59:25.787Z"
   },
   {
    "duration": 10,
    "start_time": "2022-11-14T10:59:25.798Z"
   },
   {
    "duration": 7,
    "start_time": "2022-11-14T10:59:25.810Z"
   },
   {
    "duration": 6,
    "start_time": "2022-11-14T10:59:25.818Z"
   },
   {
    "duration": 657,
    "start_time": "2022-11-14T10:59:25.826Z"
   },
   {
    "duration": 10,
    "start_time": "2022-11-14T10:59:26.484Z"
   },
   {
    "duration": 7,
    "start_time": "2022-11-14T10:59:26.495Z"
   },
   {
    "duration": 6,
    "start_time": "2022-11-14T10:59:26.504Z"
   },
   {
    "duration": 9,
    "start_time": "2022-11-14T10:59:26.511Z"
   },
   {
    "duration": 201,
    "start_time": "2022-11-14T10:59:26.522Z"
   },
   {
    "duration": 3,
    "start_time": "2022-11-14T10:59:26.724Z"
   },
   {
    "duration": 14,
    "start_time": "2022-11-14T10:59:26.728Z"
   },
   {
    "duration": 3,
    "start_time": "2022-11-14T10:59:26.743Z"
   },
   {
    "duration": 133,
    "start_time": "2022-11-14T10:59:26.759Z"
   },
   {
    "duration": 5,
    "start_time": "2022-11-14T10:59:26.894Z"
   },
   {
    "duration": 8,
    "start_time": "2022-11-14T10:59:26.900Z"
   },
   {
    "duration": 140,
    "start_time": "2022-11-14T10:59:26.909Z"
   },
   {
    "duration": 10,
    "start_time": "2022-11-14T10:59:27.051Z"
   },
   {
    "duration": 7,
    "start_time": "2022-11-14T10:59:27.063Z"
   },
   {
    "duration": 6,
    "start_time": "2022-11-14T10:59:27.071Z"
   },
   {
    "duration": 125,
    "start_time": "2022-11-14T10:59:27.078Z"
   },
   {
    "duration": 3,
    "start_time": "2022-11-14T10:59:27.205Z"
   },
   {
    "duration": 619,
    "start_time": "2022-11-14T10:59:27.210Z"
   },
   {
    "duration": 19,
    "start_time": "2022-11-14T10:59:27.830Z"
   },
   {
    "duration": 13,
    "start_time": "2022-11-14T10:59:27.850Z"
   },
   {
    "duration": 8,
    "start_time": "2022-11-14T10:59:27.864Z"
   },
   {
    "duration": 268,
    "start_time": "2022-11-14T10:59:27.873Z"
   },
   {
    "duration": 20,
    "start_time": "2022-11-14T10:59:28.148Z"
   },
   {
    "duration": 8,
    "start_time": "2022-11-14T10:59:28.170Z"
   },
   {
    "duration": 243,
    "start_time": "2022-11-14T10:59:28.179Z"
   },
   {
    "duration": 13,
    "start_time": "2022-11-14T10:59:28.424Z"
   },
   {
    "duration": 3,
    "start_time": "2022-11-14T10:59:28.439Z"
   },
   {
    "duration": 173,
    "start_time": "2022-11-14T10:59:28.458Z"
   },
   {
    "duration": 6,
    "start_time": "2022-11-14T10:59:28.632Z"
   },
   {
    "duration": 212,
    "start_time": "2022-11-14T10:59:28.639Z"
   },
   {
    "duration": 9,
    "start_time": "2022-11-14T10:59:28.852Z"
   },
   {
    "duration": 127,
    "start_time": "2022-11-14T10:59:28.862Z"
   },
   {
    "duration": 6,
    "start_time": "2022-11-14T10:59:28.990Z"
   },
   {
    "duration": 139,
    "start_time": "2022-11-14T10:59:28.997Z"
   },
   {
    "duration": 4,
    "start_time": "2022-11-14T10:59:29.138Z"
   },
   {
    "duration": 16,
    "start_time": "2022-11-14T10:59:29.144Z"
   },
   {
    "duration": 304,
    "start_time": "2022-11-14T10:59:29.161Z"
   },
   {
    "duration": 119,
    "start_time": "2022-11-14T10:59:29.467Z"
   },
   {
    "duration": 5,
    "start_time": "2022-11-14T10:59:29.588Z"
   },
   {
    "duration": 218,
    "start_time": "2022-11-14T10:59:29.594Z"
   },
   {
    "duration": 212,
    "start_time": "2022-11-14T10:59:29.814Z"
   },
   {
    "duration": 5,
    "start_time": "2022-11-14T10:59:30.028Z"
   },
   {
    "duration": 344,
    "start_time": "2022-11-14T10:59:30.034Z"
   },
   {
    "duration": 6,
    "start_time": "2022-11-14T10:59:30.380Z"
   },
   {
    "duration": 42,
    "start_time": "2022-11-14T10:59:30.387Z"
   },
   {
    "duration": 2753,
    "start_time": "2022-11-14T10:59:30.431Z"
   },
   {
    "duration": 175,
    "start_time": "2022-11-14T10:59:33.186Z"
   },
   {
    "duration": 11,
    "start_time": "2022-11-14T10:59:33.362Z"
   },
   {
    "duration": 20,
    "start_time": "2022-11-14T10:59:33.375Z"
   },
   {
    "duration": 3,
    "start_time": "2022-11-14T10:59:33.396Z"
   },
   {
    "duration": 19,
    "start_time": "2022-11-14T10:59:33.400Z"
   },
   {
    "duration": 10,
    "start_time": "2022-11-14T10:59:33.421Z"
   },
   {
    "duration": 9,
    "start_time": "2022-11-14T10:59:33.432Z"
   },
   {
    "duration": 154,
    "start_time": "2022-11-14T10:59:33.442Z"
   },
   {
    "duration": 4,
    "start_time": "2022-11-14T11:02:36.493Z"
   },
   {
    "duration": 124,
    "start_time": "2022-11-14T11:02:36.885Z"
   },
   {
    "duration": 125,
    "start_time": "2022-11-14T11:02:49.037Z"
   },
   {
    "duration": 119,
    "start_time": "2022-11-14T11:02:55.597Z"
   },
   {
    "duration": 7,
    "start_time": "2022-11-15T09:19:50.309Z"
   },
   {
    "duration": 6,
    "start_time": "2022-11-15T09:19:56.060Z"
   },
   {
    "duration": 4,
    "start_time": "2022-11-15T09:20:40.446Z"
   },
   {
    "duration": 3,
    "start_time": "2022-11-15T09:23:34.950Z"
   },
   {
    "duration": 5,
    "start_time": "2022-11-15T09:26:19.507Z"
   },
   {
    "duration": 5,
    "start_time": "2022-11-15T09:26:25.482Z"
   },
   {
    "duration": 9,
    "start_time": "2022-11-15T09:27:30.487Z"
   },
   {
    "duration": 5,
    "start_time": "2022-11-15T09:28:03.686Z"
   },
   {
    "duration": 118,
    "start_time": "2022-11-15T09:28:05.742Z"
   },
   {
    "duration": 113,
    "start_time": "2022-11-15T09:28:16.656Z"
   },
   {
    "duration": 144,
    "start_time": "2022-11-15T09:28:20.503Z"
   },
   {
    "duration": 145,
    "start_time": "2022-11-15T09:28:25.286Z"
   },
   {
    "duration": 196,
    "start_time": "2022-11-15T09:28:48.209Z"
   },
   {
    "duration": 241,
    "start_time": "2022-11-15T09:29:11.170Z"
   },
   {
    "duration": 159,
    "start_time": "2022-11-15T09:29:21.058Z"
   },
   {
    "duration": 176,
    "start_time": "2022-11-15T09:29:29.459Z"
   },
   {
    "duration": 162,
    "start_time": "2022-11-15T09:30:46.212Z"
   },
   {
    "duration": 177,
    "start_time": "2022-11-15T09:30:51.589Z"
   },
   {
    "duration": 295,
    "start_time": "2022-11-15T09:31:06.044Z"
   },
   {
    "duration": 150,
    "start_time": "2022-11-15T09:31:14.238Z"
   },
   {
    "duration": 173,
    "start_time": "2022-11-15T09:31:17.071Z"
   },
   {
    "duration": 163,
    "start_time": "2022-11-15T09:31:26.926Z"
   },
   {
    "duration": 8,
    "start_time": "2022-11-15T09:32:03.862Z"
   },
   {
    "duration": 5,
    "start_time": "2022-11-15T09:36:04.120Z"
   },
   {
    "duration": 5,
    "start_time": "2022-11-15T09:36:06.641Z"
   },
   {
    "duration": 5,
    "start_time": "2022-11-15T09:39:26.520Z"
   },
   {
    "duration": 5,
    "start_time": "2022-11-15T09:39:44.927Z"
   },
   {
    "duration": 11,
    "start_time": "2022-11-15T09:40:54.611Z"
   },
   {
    "duration": 8,
    "start_time": "2022-11-15T09:41:00.058Z"
   },
   {
    "duration": 9,
    "start_time": "2022-11-15T09:41:22.979Z"
   },
   {
    "duration": 6,
    "start_time": "2022-11-15T09:44:59.748Z"
   },
   {
    "duration": 8,
    "start_time": "2022-11-15T09:51:15.594Z"
   },
   {
    "duration": 5,
    "start_time": "2022-11-15T09:51:34.106Z"
   }
  ],
  "kernelspec": {
   "display_name": "Python 3 (ipykernel)",
   "language": "python",
   "name": "python3"
  },
  "language_info": {
   "codemirror_mode": {
    "name": "ipython",
    "version": 3
   },
   "file_extension": ".py",
   "mimetype": "text/x-python",
   "name": "python",
   "nbconvert_exporter": "python",
   "pygments_lexer": "ipython3",
   "version": "3.9.13"
  },
  "toc": {
   "base_numbering": 1,
   "nav_menu": {
    "height": "726px",
    "width": "336px"
   },
   "number_sections": true,
   "sideBar": true,
   "skip_h1_title": true,
   "title_cell": "Table of Contents",
   "title_sidebar": "Contents",
   "toc_cell": false,
   "toc_position": {},
   "toc_section_display": true,
   "toc_window_display": false
  }
 },
 "nbformat": 4,
 "nbformat_minor": 2
}
