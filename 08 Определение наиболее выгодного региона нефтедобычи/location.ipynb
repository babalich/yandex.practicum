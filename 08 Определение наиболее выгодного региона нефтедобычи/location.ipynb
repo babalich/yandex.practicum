{
 "cells": [
  {
   "cell_type": "markdown",
   "metadata": {},
   "source": [
    "# Выбор локации для скважины"
   ]
  },
  {
   "cell_type": "markdown",
   "metadata": {},
   "source": [
    "Допустим, вы работаете в добывающей компании «ГлавРосГосНефть». Нужно решить, где бурить новую скважину.\n",
    "\n",
    "Вам предоставлены пробы нефти в трёх регионах: в каждом 10 000 месторождений, где измерили качество нефти и объём её запасов. Постройте модель машинного обучения, которая поможет определить регион, где добыча принесёт наибольшую прибыль. Проанализируйте возможную прибыль и риски техникой *Bootstrap.*\n",
    "\n",
    "Шаги для выбора локации:\n",
    "\n",
    "- В избранном регионе ищут месторождения, для каждого определяют значения признаков;\n",
    "- Строят модель и оценивают объём запасов;\n",
    "- Выбирают месторождения с самым высокими оценками значений. Количество месторождений зависит от бюджета компании и стоимости разработки одной скважины;\n",
    "- Прибыль равна суммарной прибыли отобранных месторождений."
   ]
  },
  {
   "cell_type": "markdown",
   "metadata": {},
   "source": [
    "## Загрузка и подготовка данных"
   ]
  },
  {
   "cell_type": "code",
   "execution_count": 1,
   "metadata": {},
   "outputs": [],
   "source": [
    "import pandas as pd\n",
    "import numpy as np\n",
    "import matplotlib.pyplot as plt\n",
    "import seaborn as sns\n",
    "import locale\n",
    "locale.setlocale( locale.LC_ALL, '' )\n",
    "\n",
    "from sklearn.preprocessing import StandardScaler\n",
    "from sklearn.model_selection import train_test_split\n",
    "from sklearn.linear_model import LinearRegression\n",
    "from sklearn.metrics import mean_squared_error\n",
    "\n",
    "import warnings\n",
    "warnings.filterwarnings('ignore')"
   ]
  },
  {
   "cell_type": "code",
   "execution_count": 23,
   "metadata": {},
   "outputs": [],
   "source": [
    "RANDOM_STATE = np.random.RandomState(1)\n",
    "N_COUNT = 500\n",
    "N_COUNT_BEST = 200\n",
    "BUDGET = 1e+10 # 10 000 000 000 \n",
    "INCOME = 45e+4 # 450 000\n",
    "ALPHA = 0.05 / 2 # доверительный интервал 95%, двустронний"
   ]
  },
  {
   "cell_type": "code",
   "execution_count": 2,
   "metadata": {},
   "outputs": [],
   "source": [
    "geodata0 = pd.read_csv('/datasets/geo_data_0.csv')\n",
    "geodata1 = pd.read_csv('/datasets/geo_data_1.csv')\n",
    "geodata2 = pd.read_csv('/datasets/geo_data_2.csv')"
   ]
  },
  {
   "cell_type": "code",
   "execution_count": 3,
   "metadata": {},
   "outputs": [
    {
     "name": "stdout",
     "output_type": "stream",
     "text": [
      "<class 'pandas.core.frame.DataFrame'>\n",
      "RangeIndex: 100000 entries, 0 to 99999\n",
      "Data columns (total 5 columns):\n",
      " #   Column   Non-Null Count   Dtype  \n",
      "---  ------   --------------   -----  \n",
      " 0   id       100000 non-null  object \n",
      " 1   f0       100000 non-null  float64\n",
      " 2   f1       100000 non-null  float64\n",
      " 3   f2       100000 non-null  float64\n",
      " 4   product  100000 non-null  float64\n",
      "dtypes: float64(4), object(1)\n",
      "memory usage: 3.8+ MB\n"
     ]
    },
    {
     "data": {
      "text/html": [
       "<div>\n",
       "<style scoped>\n",
       "    .dataframe tbody tr th:only-of-type {\n",
       "        vertical-align: middle;\n",
       "    }\n",
       "\n",
       "    .dataframe tbody tr th {\n",
       "        vertical-align: top;\n",
       "    }\n",
       "\n",
       "    .dataframe thead th {\n",
       "        text-align: right;\n",
       "    }\n",
       "</style>\n",
       "<table border=\"1\" class=\"dataframe\">\n",
       "  <thead>\n",
       "    <tr style=\"text-align: right;\">\n",
       "      <th></th>\n",
       "      <th>f0</th>\n",
       "      <th>f1</th>\n",
       "      <th>f2</th>\n",
       "      <th>product</th>\n",
       "    </tr>\n",
       "  </thead>\n",
       "  <tbody>\n",
       "    <tr>\n",
       "      <th>count</th>\n",
       "      <td>100000.000000</td>\n",
       "      <td>100000.000000</td>\n",
       "      <td>100000.000000</td>\n",
       "      <td>100000.000000</td>\n",
       "    </tr>\n",
       "    <tr>\n",
       "      <th>mean</th>\n",
       "      <td>0.500419</td>\n",
       "      <td>0.250143</td>\n",
       "      <td>2.502647</td>\n",
       "      <td>92.500000</td>\n",
       "    </tr>\n",
       "    <tr>\n",
       "      <th>std</th>\n",
       "      <td>0.871832</td>\n",
       "      <td>0.504433</td>\n",
       "      <td>3.248248</td>\n",
       "      <td>44.288691</td>\n",
       "    </tr>\n",
       "    <tr>\n",
       "      <th>min</th>\n",
       "      <td>-1.408605</td>\n",
       "      <td>-0.848218</td>\n",
       "      <td>-12.088328</td>\n",
       "      <td>0.000000</td>\n",
       "    </tr>\n",
       "    <tr>\n",
       "      <th>25%</th>\n",
       "      <td>-0.072580</td>\n",
       "      <td>-0.200881</td>\n",
       "      <td>0.287748</td>\n",
       "      <td>56.497507</td>\n",
       "    </tr>\n",
       "    <tr>\n",
       "      <th>50%</th>\n",
       "      <td>0.502360</td>\n",
       "      <td>0.250252</td>\n",
       "      <td>2.515969</td>\n",
       "      <td>91.849972</td>\n",
       "    </tr>\n",
       "    <tr>\n",
       "      <th>75%</th>\n",
       "      <td>1.073581</td>\n",
       "      <td>0.700646</td>\n",
       "      <td>4.715088</td>\n",
       "      <td>128.564089</td>\n",
       "    </tr>\n",
       "    <tr>\n",
       "      <th>max</th>\n",
       "      <td>2.362331</td>\n",
       "      <td>1.343769</td>\n",
       "      <td>16.003790</td>\n",
       "      <td>185.364347</td>\n",
       "    </tr>\n",
       "  </tbody>\n",
       "</table>\n",
       "</div>"
      ],
      "text/plain": [
       "                  f0             f1             f2        product\n",
       "count  100000.000000  100000.000000  100000.000000  100000.000000\n",
       "mean        0.500419       0.250143       2.502647      92.500000\n",
       "std         0.871832       0.504433       3.248248      44.288691\n",
       "min        -1.408605      -0.848218     -12.088328       0.000000\n",
       "25%        -0.072580      -0.200881       0.287748      56.497507\n",
       "50%         0.502360       0.250252       2.515969      91.849972\n",
       "75%         1.073581       0.700646       4.715088     128.564089\n",
       "max         2.362331       1.343769      16.003790     185.364347"
      ]
     },
     "metadata": {},
     "output_type": "display_data"
    },
    {
     "name": "stdout",
     "output_type": "stream",
     "text": [
      "Количество дубликатов: 0\n",
      "***************************************************************************\n",
      "<class 'pandas.core.frame.DataFrame'>\n",
      "RangeIndex: 100000 entries, 0 to 99999\n",
      "Data columns (total 5 columns):\n",
      " #   Column   Non-Null Count   Dtype  \n",
      "---  ------   --------------   -----  \n",
      " 0   id       100000 non-null  object \n",
      " 1   f0       100000 non-null  float64\n",
      " 2   f1       100000 non-null  float64\n",
      " 3   f2       100000 non-null  float64\n",
      " 4   product  100000 non-null  float64\n",
      "dtypes: float64(4), object(1)\n",
      "memory usage: 3.8+ MB\n"
     ]
    },
    {
     "data": {
      "text/html": [
       "<div>\n",
       "<style scoped>\n",
       "    .dataframe tbody tr th:only-of-type {\n",
       "        vertical-align: middle;\n",
       "    }\n",
       "\n",
       "    .dataframe tbody tr th {\n",
       "        vertical-align: top;\n",
       "    }\n",
       "\n",
       "    .dataframe thead th {\n",
       "        text-align: right;\n",
       "    }\n",
       "</style>\n",
       "<table border=\"1\" class=\"dataframe\">\n",
       "  <thead>\n",
       "    <tr style=\"text-align: right;\">\n",
       "      <th></th>\n",
       "      <th>f0</th>\n",
       "      <th>f1</th>\n",
       "      <th>f2</th>\n",
       "      <th>product</th>\n",
       "    </tr>\n",
       "  </thead>\n",
       "  <tbody>\n",
       "    <tr>\n",
       "      <th>count</th>\n",
       "      <td>100000.000000</td>\n",
       "      <td>100000.000000</td>\n",
       "      <td>100000.000000</td>\n",
       "      <td>100000.000000</td>\n",
       "    </tr>\n",
       "    <tr>\n",
       "      <th>mean</th>\n",
       "      <td>1.141296</td>\n",
       "      <td>-4.796579</td>\n",
       "      <td>2.494541</td>\n",
       "      <td>68.825000</td>\n",
       "    </tr>\n",
       "    <tr>\n",
       "      <th>std</th>\n",
       "      <td>8.965932</td>\n",
       "      <td>5.119872</td>\n",
       "      <td>1.703572</td>\n",
       "      <td>45.944423</td>\n",
       "    </tr>\n",
       "    <tr>\n",
       "      <th>min</th>\n",
       "      <td>-31.609576</td>\n",
       "      <td>-26.358598</td>\n",
       "      <td>-0.018144</td>\n",
       "      <td>0.000000</td>\n",
       "    </tr>\n",
       "    <tr>\n",
       "      <th>25%</th>\n",
       "      <td>-6.298551</td>\n",
       "      <td>-8.267985</td>\n",
       "      <td>1.000021</td>\n",
       "      <td>26.953261</td>\n",
       "    </tr>\n",
       "    <tr>\n",
       "      <th>50%</th>\n",
       "      <td>1.153055</td>\n",
       "      <td>-4.813172</td>\n",
       "      <td>2.011479</td>\n",
       "      <td>57.085625</td>\n",
       "    </tr>\n",
       "    <tr>\n",
       "      <th>75%</th>\n",
       "      <td>8.621015</td>\n",
       "      <td>-1.332816</td>\n",
       "      <td>3.999904</td>\n",
       "      <td>107.813044</td>\n",
       "    </tr>\n",
       "    <tr>\n",
       "      <th>max</th>\n",
       "      <td>29.421755</td>\n",
       "      <td>18.734063</td>\n",
       "      <td>5.019721</td>\n",
       "      <td>137.945408</td>\n",
       "    </tr>\n",
       "  </tbody>\n",
       "</table>\n",
       "</div>"
      ],
      "text/plain": [
       "                  f0             f1             f2        product\n",
       "count  100000.000000  100000.000000  100000.000000  100000.000000\n",
       "mean        1.141296      -4.796579       2.494541      68.825000\n",
       "std         8.965932       5.119872       1.703572      45.944423\n",
       "min       -31.609576     -26.358598      -0.018144       0.000000\n",
       "25%        -6.298551      -8.267985       1.000021      26.953261\n",
       "50%         1.153055      -4.813172       2.011479      57.085625\n",
       "75%         8.621015      -1.332816       3.999904     107.813044\n",
       "max        29.421755      18.734063       5.019721     137.945408"
      ]
     },
     "metadata": {},
     "output_type": "display_data"
    },
    {
     "name": "stdout",
     "output_type": "stream",
     "text": [
      "Количество дубликатов: 0\n",
      "***************************************************************************\n",
      "<class 'pandas.core.frame.DataFrame'>\n",
      "RangeIndex: 100000 entries, 0 to 99999\n",
      "Data columns (total 5 columns):\n",
      " #   Column   Non-Null Count   Dtype  \n",
      "---  ------   --------------   -----  \n",
      " 0   id       100000 non-null  object \n",
      " 1   f0       100000 non-null  float64\n",
      " 2   f1       100000 non-null  float64\n",
      " 3   f2       100000 non-null  float64\n",
      " 4   product  100000 non-null  float64\n",
      "dtypes: float64(4), object(1)\n",
      "memory usage: 3.8+ MB\n"
     ]
    },
    {
     "data": {
      "text/html": [
       "<div>\n",
       "<style scoped>\n",
       "    .dataframe tbody tr th:only-of-type {\n",
       "        vertical-align: middle;\n",
       "    }\n",
       "\n",
       "    .dataframe tbody tr th {\n",
       "        vertical-align: top;\n",
       "    }\n",
       "\n",
       "    .dataframe thead th {\n",
       "        text-align: right;\n",
       "    }\n",
       "</style>\n",
       "<table border=\"1\" class=\"dataframe\">\n",
       "  <thead>\n",
       "    <tr style=\"text-align: right;\">\n",
       "      <th></th>\n",
       "      <th>f0</th>\n",
       "      <th>f1</th>\n",
       "      <th>f2</th>\n",
       "      <th>product</th>\n",
       "    </tr>\n",
       "  </thead>\n",
       "  <tbody>\n",
       "    <tr>\n",
       "      <th>count</th>\n",
       "      <td>100000.000000</td>\n",
       "      <td>100000.000000</td>\n",
       "      <td>100000.000000</td>\n",
       "      <td>100000.000000</td>\n",
       "    </tr>\n",
       "    <tr>\n",
       "      <th>mean</th>\n",
       "      <td>0.002023</td>\n",
       "      <td>-0.002081</td>\n",
       "      <td>2.495128</td>\n",
       "      <td>95.000000</td>\n",
       "    </tr>\n",
       "    <tr>\n",
       "      <th>std</th>\n",
       "      <td>1.732045</td>\n",
       "      <td>1.730417</td>\n",
       "      <td>3.473445</td>\n",
       "      <td>44.749921</td>\n",
       "    </tr>\n",
       "    <tr>\n",
       "      <th>min</th>\n",
       "      <td>-8.760004</td>\n",
       "      <td>-7.084020</td>\n",
       "      <td>-11.970335</td>\n",
       "      <td>0.000000</td>\n",
       "    </tr>\n",
       "    <tr>\n",
       "      <th>25%</th>\n",
       "      <td>-1.162288</td>\n",
       "      <td>-1.174820</td>\n",
       "      <td>0.130359</td>\n",
       "      <td>59.450441</td>\n",
       "    </tr>\n",
       "    <tr>\n",
       "      <th>50%</th>\n",
       "      <td>0.009424</td>\n",
       "      <td>-0.009482</td>\n",
       "      <td>2.484236</td>\n",
       "      <td>94.925613</td>\n",
       "    </tr>\n",
       "    <tr>\n",
       "      <th>75%</th>\n",
       "      <td>1.158535</td>\n",
       "      <td>1.163678</td>\n",
       "      <td>4.858794</td>\n",
       "      <td>130.595027</td>\n",
       "    </tr>\n",
       "    <tr>\n",
       "      <th>max</th>\n",
       "      <td>7.238262</td>\n",
       "      <td>7.844801</td>\n",
       "      <td>16.739402</td>\n",
       "      <td>190.029838</td>\n",
       "    </tr>\n",
       "  </tbody>\n",
       "</table>\n",
       "</div>"
      ],
      "text/plain": [
       "                  f0             f1             f2        product\n",
       "count  100000.000000  100000.000000  100000.000000  100000.000000\n",
       "mean        0.002023      -0.002081       2.495128      95.000000\n",
       "std         1.732045       1.730417       3.473445      44.749921\n",
       "min        -8.760004      -7.084020     -11.970335       0.000000\n",
       "25%        -1.162288      -1.174820       0.130359      59.450441\n",
       "50%         0.009424      -0.009482       2.484236      94.925613\n",
       "75%         1.158535       1.163678       4.858794     130.595027\n",
       "max         7.238262       7.844801      16.739402     190.029838"
      ]
     },
     "metadata": {},
     "output_type": "display_data"
    },
    {
     "name": "stdout",
     "output_type": "stream",
     "text": [
      "Количество дубликатов: 0\n",
      "***************************************************************************\n"
     ]
    }
   ],
   "source": [
    "regions = [geodata0, geodata1, geodata2]\n",
    "\n",
    "for region in regions:\n",
    "    region.info()\n",
    "    display(region.describe())\n",
    "    print('Количество дубликатов:', region.duplicated().sum())\n",
    "    print('*'*75)"
   ]
  },
  {
   "cell_type": "markdown",
   "metadata": {},
   "source": [
    "Данные уже подготовлены, нет дубликатов. Есть слишком большие и слишком маленькие значения в признаке **f2**."
   ]
  },
  {
   "cell_type": "code",
   "execution_count": 4,
   "metadata": {},
   "outputs": [
    {
     "data": {
      "image/png": "[encoded data removed]",
      "text/plain": [
       "<Figure size 1296x360 with 3 Axes>"
      ]
     },
     "metadata": {
      "needs_background": "light"
     },
     "output_type": "display_data"
    }
   ],
   "source": [
    "fig = plt.figure(figsize=(18, 5))\n",
    "axes = fig.subplots(nrows=1, ncols=3)\n",
    "fig.suptitle('Распределение целевой переменной')\n",
    "\n",
    "for i in range(3):\n",
    "    sns.histplot(regions[i]['product'], ax=axes[i], kde=True)\n",
    "    axes[i].set_title('region ' + str(i))"
   ]
  },
  {
   "cell_type": "markdown",
   "metadata": {},
   "source": [
    "Целевая переменная в регионе 1 имеет непохожее наспределение.\n",
    "\n",
    "Осталось отмасштабировать данные. Делать мы это будем на этапе обучения модели, чтобы наш StandardScaler() обучался на тренировочной выборке, а не всех данных.\n",
    "\n",
    "*id* игнорируем, в модель будем подавать признаки ['f0', 'f1', 'f2']"
   ]
  },
  {
   "cell_type": "code",
   "execution_count": 17,
   "metadata": {},
   "outputs": [
    {
     "data": {
      "image/png": "[encoded data removed]",
      "text/plain": [
       "<Figure size 432x432 with 2 Axes>"
      ]
     },
     "metadata": {
      "needs_background": "light"
     },
     "output_type": "display_data"
    },
    {
     "data": {
      "image/png": "[encoded data removed]",
      "text/plain": [
       "<Figure size 432x432 with 2 Axes>"
      ]
     },
     "metadata": {
      "needs_background": "light"
     },
     "output_type": "display_data"
    },
    {
     "data": {
      "image/png": "[encoded data removed]",
      "text/plain": [
       "<Figure size 432x432 with 2 Axes>"
      ]
     },
     "metadata": {
      "needs_background": "light"
     },
     "output_type": "display_data"
    }
   ],
   "source": [
    "for i in range(3):   \n",
    "    plt.figure(figsize=(6,6))\n",
    "    plt.title('Region_' + str(i))\n",
    "    sns.heatmap(regions[i].drop('id', axis=1).corr(), annot=True)\n",
    "    plt.show()"
   ]
  },
  {
   "cell_type": "markdown",
   "metadata": {},
   "source": [
    "## Обучение и проверка модели"
   ]
  },
  {
   "cell_type": "code",
   "execution_count": 19,
   "metadata": {},
   "outputs": [],
   "source": [
    "def train_model(df):\n",
    "    numeric_features = ['f0', 'f1', 'f2']\n",
    "    X = df[numeric_features]\n",
    "    y = df['product']\n",
    "    X_train, X_valid, y_train, y_valid = train_test_split(X,y, test_size=0.25, random_state=1)\n",
    "    scaler = StandardScaler()\n",
    "    X_train[numeric_features] = scaler.fit_transform(X_train[numeric_features])\n",
    "    X_valid[numeric_features] = scaler.transform(X_valid[numeric_features])\n",
    "    model = LinearRegression()\n",
    "    model.fit(X_train, y_train)\n",
    "    prediction = model.predict(X_valid)\n",
    "\n",
    "    \n",
    "    return y_valid.reset_index(drop=True), pd.Series(prediction)"
   ]
  },
  {
   "cell_type": "code",
   "execution_count": 20,
   "metadata": {},
   "outputs": [],
   "source": [
    "results = {}\n",
    "targets = []\n",
    "predictions = []\n",
    "for i in range(len(regions)):\n",
    "    y, pred = train_model(regions[i])\n",
    "    mean_store = pred.mean()\n",
    "    rmse = mean_squared_error(y, pred)**0.5\n",
    "    targets.append(y)\n",
    "    predictions.append(pred)\n",
    "    results['region_' + str(i)] = {'mean_store': mean_store, 'rmse': rmse}"
   ]
  },
  {
   "cell_type": "code",
   "execution_count": 21,
   "metadata": {},
   "outputs": [
    {
     "data": {
      "text/html": [
       "<div>\n",
       "<style scoped>\n",
       "    .dataframe tbody tr th:only-of-type {\n",
       "        vertical-align: middle;\n",
       "    }\n",
       "\n",
       "    .dataframe tbody tr th {\n",
       "        vertical-align: top;\n",
       "    }\n",
       "\n",
       "    .dataframe thead th {\n",
       "        text-align: right;\n",
       "    }\n",
       "</style>\n",
       "<table border=\"1\" class=\"dataframe\">\n",
       "  <thead>\n",
       "    <tr style=\"text-align: right;\">\n",
       "      <th></th>\n",
       "      <th>region_0</th>\n",
       "      <th>region_1</th>\n",
       "      <th>region_2</th>\n",
       "    </tr>\n",
       "  </thead>\n",
       "  <tbody>\n",
       "    <tr>\n",
       "      <th>mean_store</th>\n",
       "      <td>92.492625</td>\n",
       "      <td>69.120405</td>\n",
       "      <td>94.956830</td>\n",
       "    </tr>\n",
       "    <tr>\n",
       "      <th>rmse</th>\n",
       "      <td>37.742587</td>\n",
       "      <td>0.894338</td>\n",
       "      <td>39.866711</td>\n",
       "    </tr>\n",
       "  </tbody>\n",
       "</table>\n",
       "</div>"
      ],
      "text/plain": [
       "             region_0   region_1   region_2\n",
       "mean_store  92.492625  69.120405  94.956830\n",
       "rmse        37.742587   0.894338  39.866711"
      ]
     },
     "execution_count": 21,
     "metadata": {},
     "output_type": "execute_result"
    }
   ],
   "source": [
    "pd.DataFrame(results)"
   ]
  },
  {
   "cell_type": "markdown",
   "metadata": {},
   "source": [
    "Еще раз взглянем на истинное распределение целевой переменной и тем, что нам предсказывает модель"
   ]
  },
  {
   "cell_type": "code",
   "execution_count": 22,
   "metadata": {},
   "outputs": [
    {
     "data": {
      "image/png": "[encoded data removed]",
      "text/plain": [
       "<Figure size 1296x360 with 3 Axes>"
      ]
     },
     "metadata": {
      "needs_background": "light"
     },
     "output_type": "display_data"
    }
   ],
   "source": [
    "fig = plt.figure(figsize=(18, 5))\n",
    "axes = fig.subplots(nrows=1, ncols=3)\n",
    "fig.suptitle('Распределение целевой переменной')\n",
    "\n",
    "for i in range(3):\n",
    "    sns.histplot(regions[i]['product'], ax=axes[i], alpha=0.5)\n",
    "    # мы повторяем предикт 4 раза, чтобы наши массивы совпадали по размеру и наложились друг на друга в одном масштабе\n",
    "    sns.histplot(np.repeat(predictions[i], 4), ax=axes[i], alpha=0.5, color='red')\n",
    "    axes[i].set_title('region ' + str(i))"
   ]
  },
  {
   "cell_type": "markdown",
   "metadata": {},
   "source": [
    "**Вывод:** регион 1 имеет более низкий прогнозируемый объем запасов нефти, чем регионы 0 и 2. При этом RMSE модели по региону 1  меньше единицы, что, потенциально, делает этот регион наименее рискованным с точки зрения моделирования."
   ]
  },
  {
   "cell_type": "markdown",
   "metadata": {},
   "source": [
    "## Подготовка к расчёту прибыли"
   ]
  },
  {
   "cell_type": "code",
   "execution_count": 10,
   "metadata": {},
   "outputs": [
    {
     "name": "stdout",
     "output_type": "stream",
     "text": [
      "Средние затраты на разработку одной точки: 50,000,000.00\n",
      "достаточный объём сырья для безубыточной разработки новой скважины: 111.11111111111111\n"
     ]
    }
   ],
   "source": [
    "print('Средние затраты на разработку одной точки:', locale.currency(BUDGET / N_COUNT_BEST, grouping=True, symbol=False) )\n",
    "MIN_VOL = (BUDGET / N_COUNT_BEST) / INCOME\n",
    "print('достаточный объём сырья для безубыточной разработки новой скважины:', MIN_VOL)"
   ]
  },
  {
   "cell_type": "markdown",
   "metadata": {},
   "source": [
    "**Вывод**: вычисленное значение превосходит средние запаса сырья по регионами (напомню, их значения 92.49, 69.12 и 94.95)."
   ]
  },
  {
   "cell_type": "markdown",
   "metadata": {},
   "source": [
    "## Расчёт прибыли и рисков "
   ]
  },
  {
   "cell_type": "code",
   "execution_count": 11,
   "metadata": {},
   "outputs": [],
   "source": [
    "def get_profit(target, predict):\n",
    "    best_pred_idx = predict.sort_values(ascending=False).index\n",
    "    filtered_target = target[best_pred_idx][:N_COUNT_BEST]\n",
    "    return filtered_target.sum() * INCOME - BUDGET"
   ]
  },
  {
   "cell_type": "code",
   "execution_count": 12,
   "metadata": {},
   "outputs": [],
   "source": [
    "def calc_bootstrap(target, predict, bootstrap_size=1000):\n",
    "    values = []\n",
    "    for i in range(bootstrap_size):\n",
    "        target_subsample = target.sample(n=N_COUNT, replace=True, random_state=RANDOM_STATE)\n",
    "        predict_subsample = predict.loc[target_subsample.index]\n",
    "        values.append(get_profit(target_subsample, predict_subsample))\n",
    "        \n",
    "    values = pd.Series(values)\n",
    "    lower = values.quantile(ALPHA)\n",
    "    upper = values.quantile(1-ALPHA)\n",
    "    mean_profit = values.mean()\n",
    "    loss_ratio = values[values<0].count() / bootstrap_size\n",
    "\n",
    "    print(F'Риск убытков: {loss_ratio:.2%}')\n",
    "    print(F'Средняя прибыль: {locale.currency(mean_profit, grouping=True, symbol=False)}')\n",
    "    print(F'Доверительный интервал: ({locale.currency(lower, grouping=True, symbol=False)}; {locale.currency(upper, grouping=True, symbol=False)})')"
   ]
  },
  {
   "cell_type": "code",
   "execution_count": 13,
   "metadata": {},
   "outputs": [
    {
     "name": "stdout",
     "output_type": "stream",
     "text": [
      "Регион  0\n",
      "Риск убытков: 5.20%\n",
      "Средняя прибыль: 464,377,670.36\n",
      "Доверительный интервал: (-98,453,877.17; 1,007,469,099.05)\n",
      "\n",
      "Регион  1\n",
      "Риск убытков: 0.40%\n",
      "Средняя прибыль: 541,636,803.39\n",
      "Доверительный интервал: (125,207,614.25; 960,960,337.36)\n",
      "\n",
      "Регион  2\n",
      "Риск убытков: 6.70%\n",
      "Средняя прибыль: 420,170,371.35\n",
      "Доверительный интервал: (-109,597,815.00; 991,155,649.43)\n",
      "\n"
     ]
    }
   ],
   "source": [
    "for i in range(3):\n",
    "    print('Регион ', i)\n",
    "    calc_bootstrap(targets[i], predictions[i])\n",
    "    print('')"
   ]
  },
  {
   "cell_type": "markdown",
   "metadata": {},
   "source": [
    "### Вывод\n",
    "\n",
    "Регион 1 имеет самый низкий риск убытков, и при этом самое высокое значение прибыли. Более того, нижняя граница доверительного интервала все равно положительное значение - то есть прибыль.\n",
    "\n",
    "Регион 2 - самый рискованный регион с наименьшей средней прибылью.\n",
    "\n",
    "Регион 0 менее рискованный, чем 2, но относительное первого региона данный показатель слишком высок.\n",
    "\n",
    "**На основании всех исследуемых показателей рекомендованый регион для  разработки скважин - Регион 1**"
   ]
  },
  {
   "cell_type": "code",
   "execution_count": null,
   "metadata": {},
   "outputs": [],
   "source": []
  }
 ],
 "metadata": {
  "ExecuteTimeLog": [
   {
    "duration": 345,
    "start_time": "2023-01-26T11:20:43.665Z"
   },
   {
    "duration": 673,
    "start_time": "2023-01-26T11:21:23.888Z"
   },
   {
    "duration": 18,
    "start_time": "2023-01-26T11:21:27.880Z"
   },
   {
    "duration": 52,
    "start_time": "2023-01-26T11:22:52.742Z"
   },
   {
    "duration": 8,
    "start_time": "2023-01-26T11:23:13.348Z"
   },
   {
    "duration": 54,
    "start_time": "2023-01-26T11:23:18.412Z"
   },
   {
    "duration": 2,
    "start_time": "2023-01-26T11:24:33.152Z"
   },
   {
    "duration": 29,
    "start_time": "2023-01-26T11:24:54.457Z"
   },
   {
    "duration": 1011,
    "start_time": "2023-01-26T11:25:25.090Z"
   },
   {
    "duration": 41,
    "start_time": "2023-01-26T11:26:14.829Z"
   },
   {
    "duration": 90,
    "start_time": "2023-01-26T11:26:17.940Z"
   },
   {
    "duration": 39,
    "start_time": "2023-01-26T11:26:20.171Z"
   },
   {
    "duration": 133,
    "start_time": "2023-01-26T11:26:52.751Z"
   },
   {
    "duration": 134,
    "start_time": "2023-01-26T11:27:12.285Z"
   },
   {
    "duration": 129,
    "start_time": "2023-01-26T11:27:20.046Z"
   },
   {
    "duration": 133,
    "start_time": "2023-01-26T11:27:25.357Z"
   },
   {
    "duration": 129,
    "start_time": "2023-01-26T11:27:54.910Z"
   },
   {
    "duration": 202,
    "start_time": "2023-01-26T11:28:33.417Z"
   },
   {
    "duration": 30,
    "start_time": "2023-01-26T11:28:46.425Z"
   },
   {
    "duration": 214,
    "start_time": "2023-01-26T11:28:58.761Z"
   },
   {
    "duration": 221,
    "start_time": "2023-01-26T11:29:05.991Z"
   },
   {
    "duration": 1026,
    "start_time": "2023-01-26T11:34:30.550Z"
   },
   {
    "duration": 445,
    "start_time": "2023-01-26T11:34:54.774Z"
   },
   {
    "duration": 367,
    "start_time": "2023-01-26T11:35:06.527Z"
   },
   {
    "duration": 357,
    "start_time": "2023-01-26T11:35:16.328Z"
   },
   {
    "duration": 41,
    "start_time": "2023-01-26T12:03:56.439Z"
   },
   {
    "duration": 3,
    "start_time": "2023-01-26T12:03:59.327Z"
   },
   {
    "duration": 183,
    "start_time": "2023-01-26T12:05:48.005Z"
   },
   {
    "duration": 277,
    "start_time": "2023-01-26T12:10:09.824Z"
   },
   {
    "duration": 177,
    "start_time": "2023-01-26T12:10:13.268Z"
   },
   {
    "duration": 1401,
    "start_time": "2023-01-26T12:10:19.357Z"
   },
   {
    "duration": 42,
    "start_time": "2023-01-26T12:11:17.737Z"
   },
   {
    "duration": 1417,
    "start_time": "2023-01-26T12:11:35.239Z"
   },
   {
    "duration": 564,
    "start_time": "2023-01-26T12:11:49.089Z"
   },
   {
    "duration": 14,
    "start_time": "2023-01-26T12:12:17.732Z"
   },
   {
    "duration": 958,
    "start_time": "2023-01-26T12:12:27.830Z"
   },
   {
    "duration": 318,
    "start_time": "2023-01-26T12:12:39.437Z"
   },
   {
    "duration": 378,
    "start_time": "2023-01-26T12:12:46.017Z"
   },
   {
    "duration": 604,
    "start_time": "2023-01-26T12:12:59.194Z"
   },
   {
    "duration": 48,
    "start_time": "2023-01-26T12:13:06.779Z"
   },
   {
    "duration": 364,
    "start_time": "2023-01-26T12:13:10.746Z"
   },
   {
    "duration": 400,
    "start_time": "2023-01-26T12:13:16.939Z"
   },
   {
    "duration": 639,
    "start_time": "2023-01-26T12:13:28.836Z"
   },
   {
    "duration": 592,
    "start_time": "2023-01-26T12:13:42.667Z"
   },
   {
    "duration": 1129,
    "start_time": "2023-01-26T12:14:20.685Z"
   },
   {
    "duration": 3,
    "start_time": "2023-01-26T12:20:10.041Z"
   },
   {
    "duration": 9,
    "start_time": "2023-01-26T12:20:57.158Z"
   },
   {
    "duration": 3,
    "start_time": "2023-01-26T12:21:35.833Z"
   },
   {
    "duration": 3,
    "start_time": "2023-01-26T12:30:22.952Z"
   },
   {
    "duration": 32,
    "start_time": "2023-01-26T12:30:30.047Z"
   },
   {
    "duration": 24,
    "start_time": "2023-01-26T12:31:06.768Z"
   },
   {
    "duration": 5,
    "start_time": "2023-01-26T12:31:09.052Z"
   },
   {
    "duration": 5,
    "start_time": "2023-01-26T12:31:18.733Z"
   },
   {
    "duration": 4,
    "start_time": "2023-01-26T12:32:36.624Z"
   },
   {
    "duration": 3,
    "start_time": "2023-01-26T12:36:04.485Z"
   },
   {
    "duration": 2,
    "start_time": "2023-01-26T12:37:33.926Z"
   },
   {
    "duration": 12,
    "start_time": "2023-01-26T12:41:10.132Z"
   },
   {
    "duration": 62,
    "start_time": "2023-01-26T12:41:19.376Z"
   },
   {
    "duration": 293,
    "start_time": "2023-01-26T12:41:25.857Z"
   },
   {
    "duration": 4,
    "start_time": "2023-01-26T12:41:29.259Z"
   },
   {
    "duration": 274,
    "start_time": "2023-01-26T12:42:45.476Z"
   },
   {
    "duration": 319,
    "start_time": "2023-01-26T12:42:46.825Z"
   },
   {
    "duration": 13,
    "start_time": "2023-01-26T12:43:11.640Z"
   },
   {
    "duration": 282,
    "start_time": "2023-01-26T12:43:47.766Z"
   },
   {
    "duration": 232,
    "start_time": "2023-01-26T12:43:48.163Z"
   },
   {
    "duration": 453,
    "start_time": "2023-01-26T12:44:19.087Z"
   },
   {
    "duration": 228,
    "start_time": "2023-01-26T12:44:19.896Z"
   },
   {
    "duration": 590,
    "start_time": "2023-01-26T12:44:33.528Z"
   },
   {
    "duration": 3,
    "start_time": "2023-01-26T12:45:11.162Z"
   },
   {
    "duration": 2,
    "start_time": "2023-01-26T12:45:11.554Z"
   },
   {
    "duration": 279,
    "start_time": "2023-01-26T12:45:11.969Z"
   },
   {
    "duration": 4,
    "start_time": "2023-01-26T12:45:13.177Z"
   },
   {
    "duration": 12,
    "start_time": "2023-01-26T12:45:24.612Z"
   },
   {
    "duration": 2,
    "start_time": "2023-01-26T12:45:49.579Z"
   },
   {
    "duration": 302,
    "start_time": "2023-01-26T12:45:49.848Z"
   },
   {
    "duration": 8,
    "start_time": "2023-01-26T12:46:00.371Z"
   },
   {
    "duration": 8,
    "start_time": "2023-01-26T12:46:09.395Z"
   },
   {
    "duration": 10,
    "start_time": "2023-01-26T12:46:26.092Z"
   },
   {
    "duration": 7,
    "start_time": "2023-01-26T12:46:59.532Z"
   },
   {
    "duration": 7,
    "start_time": "2023-01-26T12:47:09.732Z"
   },
   {
    "duration": 7,
    "start_time": "2023-01-26T12:47:11.678Z"
   },
   {
    "duration": 4,
    "start_time": "2023-01-26T12:47:58.356Z"
   },
   {
    "duration": 10,
    "start_time": "2023-01-26T12:48:23.259Z"
   },
   {
    "duration": 9,
    "start_time": "2023-01-26T12:48:27.052Z"
   },
   {
    "duration": 326,
    "start_time": "2023-01-26T12:51:44.212Z"
   },
   {
    "duration": 4,
    "start_time": "2023-01-26T12:51:46.752Z"
   },
   {
    "duration": 8,
    "start_time": "2023-01-26T12:52:00.649Z"
   },
   {
    "duration": 8,
    "start_time": "2023-01-26T12:52:06.516Z"
   },
   {
    "duration": 8,
    "start_time": "2023-01-26T12:52:17.423Z"
   },
   {
    "duration": 3,
    "start_time": "2023-01-26T12:57:28.453Z"
   },
   {
    "duration": 24,
    "start_time": "2023-01-26T12:59:38.740Z"
   },
   {
    "duration": 4,
    "start_time": "2023-01-26T12:59:41.649Z"
   },
   {
    "duration": 3,
    "start_time": "2023-01-26T12:59:47.736Z"
   },
   {
    "duration": 3,
    "start_time": "2023-01-26T12:59:50.551Z"
   },
   {
    "duration": 5,
    "start_time": "2023-01-26T13:02:20.524Z"
   },
   {
    "duration": 4,
    "start_time": "2023-01-26T13:04:52.056Z"
   },
   {
    "duration": 3,
    "start_time": "2023-01-26T13:04:52.783Z"
   },
   {
    "duration": 412,
    "start_time": "2023-01-26T13:04:53.132Z"
   },
   {
    "duration": 15,
    "start_time": "2023-01-26T13:04:59.038Z"
   },
   {
    "duration": 4,
    "start_time": "2023-01-26T13:05:19.536Z"
   },
   {
    "duration": 4,
    "start_time": "2023-01-26T13:05:24.686Z"
   },
   {
    "duration": 2,
    "start_time": "2023-01-26T13:05:25.125Z"
   },
   {
    "duration": 368,
    "start_time": "2023-01-26T13:05:25.871Z"
   },
   {
    "duration": 8,
    "start_time": "2023-01-26T13:05:27.652Z"
   },
   {
    "duration": 4,
    "start_time": "2023-01-26T13:09:54.352Z"
   },
   {
    "duration": 35,
    "start_time": "2023-01-26T13:09:56.840Z"
   },
   {
    "duration": 1863,
    "start_time": "2023-01-26T13:10:04.274Z"
   },
   {
    "duration": 715,
    "start_time": "2023-01-26T13:10:47.734Z"
   },
   {
    "duration": 5,
    "start_time": "2023-01-26T13:10:51.932Z"
   },
   {
    "duration": 5,
    "start_time": "2023-01-26T13:11:04.752Z"
   },
   {
    "duration": 37,
    "start_time": "2023-01-26T13:22:20.980Z"
   },
   {
    "duration": 200,
    "start_time": "2023-01-26T13:22:26.732Z"
   },
   {
    "duration": 389,
    "start_time": "2023-01-26T13:22:58.063Z"
   },
   {
    "duration": 230,
    "start_time": "2023-01-26T13:25:13.408Z"
   },
   {
    "duration": 253,
    "start_time": "2023-01-26T13:25:18.292Z"
   },
   {
    "duration": 8,
    "start_time": "2023-01-26T13:25:19.877Z"
   },
   {
    "duration": 417,
    "start_time": "2023-01-26T13:27:10.631Z"
   },
   {
    "duration": 9,
    "start_time": "2023-01-26T13:27:11.566Z"
   },
   {
    "duration": 213,
    "start_time": "2023-01-26T13:31:19.392Z"
   },
   {
    "duration": 255,
    "start_time": "2023-01-26T13:31:30.967Z"
   },
   {
    "duration": 280,
    "start_time": "2023-01-26T13:31:42.578Z"
   },
   {
    "duration": 286,
    "start_time": "2023-01-26T13:31:54.032Z"
   },
   {
    "duration": 960,
    "start_time": "2023-01-26T13:33:02.270Z"
   },
   {
    "duration": 4,
    "start_time": "2023-01-26T13:33:53.832Z"
   },
   {
    "duration": 5,
    "start_time": "2023-01-26T13:34:04.835Z"
   },
   {
    "duration": 4,
    "start_time": "2023-01-26T13:34:11.976Z"
   },
   {
    "duration": 3,
    "start_time": "2023-01-26T13:35:03.762Z"
   },
   {
    "duration": 4,
    "start_time": "2023-01-26T13:35:12.058Z"
   },
   {
    "duration": 5,
    "start_time": "2023-01-26T13:35:41.167Z"
   },
   {
    "duration": 1472,
    "start_time": "2023-01-26T13:35:50.171Z"
   },
   {
    "duration": 44,
    "start_time": "2023-01-26T13:37:09.243Z"
   },
   {
    "duration": 3515,
    "start_time": "2023-01-26T13:37:12.901Z"
   },
   {
    "duration": 3558,
    "start_time": "2023-01-26T13:39:02.540Z"
   },
   {
    "duration": 4212,
    "start_time": "2023-01-26T13:39:22.243Z"
   },
   {
    "duration": 1039,
    "start_time": "2023-01-26T13:39:29.963Z"
   },
   {
    "duration": 1038,
    "start_time": "2023-01-26T13:41:05.947Z"
   },
   {
    "duration": 1556,
    "start_time": "2023-01-26T13:43:56.716Z"
   },
   {
    "duration": 1149,
    "start_time": "2023-01-26T13:44:03.243Z"
   },
   {
    "duration": 2139,
    "start_time": "2023-01-26T13:44:13.819Z"
   },
   {
    "duration": 1161,
    "start_time": "2023-01-26T13:44:23.774Z"
   },
   {
    "duration": 3,
    "start_time": "2023-01-26T13:58:43.046Z"
   },
   {
    "duration": 1655,
    "start_time": "2023-01-30T08:57:07.581Z"
   },
   {
    "duration": 1494,
    "start_time": "2023-01-30T08:57:09.239Z"
   },
   {
    "duration": 276,
    "start_time": "2023-01-30T08:57:10.735Z"
   },
   {
    "duration": 2182,
    "start_time": "2023-01-30T08:57:11.013Z"
   },
   {
    "duration": 6,
    "start_time": "2023-01-30T08:57:13.197Z"
   },
   {
    "duration": 545,
    "start_time": "2023-01-30T08:57:13.205Z"
   },
   {
    "duration": 93,
    "start_time": "2023-01-30T08:57:13.752Z"
   },
   {
    "duration": 1395,
    "start_time": "2023-01-30T08:57:13.847Z"
   },
   {
    "duration": 3,
    "start_time": "2023-01-30T08:57:15.243Z"
   },
   {
    "duration": 4,
    "start_time": "2023-01-30T08:58:58.524Z"
   },
   {
    "duration": 3,
    "start_time": "2023-01-30T08:59:00.868Z"
   },
   {
    "duration": 4,
    "start_time": "2023-01-30T08:59:04.164Z"
   },
   {
    "duration": 4,
    "start_time": "2023-01-30T09:01:01.760Z"
   },
   {
    "duration": 4,
    "start_time": "2023-01-30T09:06:10.452Z"
   },
   {
    "duration": 3,
    "start_time": "2023-01-30T09:06:59.647Z"
   },
   {
    "duration": 3,
    "start_time": "2023-01-30T09:08:40.098Z"
   },
   {
    "duration": 4,
    "start_time": "2023-01-30T09:08:40.737Z"
   },
   {
    "duration": 4,
    "start_time": "2023-01-30T09:10:33.182Z"
   },
   {
    "duration": 4,
    "start_time": "2023-01-30T09:10:33.446Z"
   },
   {
    "duration": 4,
    "start_time": "2023-01-30T09:11:07.599Z"
   },
   {
    "duration": 4,
    "start_time": "2023-01-30T09:11:10.871Z"
   },
   {
    "duration": 4,
    "start_time": "2023-01-30T09:11:15.743Z"
   },
   {
    "duration": 4,
    "start_time": "2023-01-30T09:11:30.255Z"
   },
   {
    "duration": 4,
    "start_time": "2023-01-30T09:11:37.576Z"
   },
   {
    "duration": 5,
    "start_time": "2023-01-30T09:11:42.673Z"
   },
   {
    "duration": 89,
    "start_time": "2023-01-30T09:12:11.393Z"
   },
   {
    "duration": 4,
    "start_time": "2023-01-30T09:13:19.572Z"
   },
   {
    "duration": 3,
    "start_time": "2023-01-30T09:13:23.637Z"
   },
   {
    "duration": 4,
    "start_time": "2023-01-30T09:13:32.348Z"
   },
   {
    "duration": 3,
    "start_time": "2023-01-30T09:13:35.517Z"
   },
   {
    "duration": 3,
    "start_time": "2023-01-30T09:13:37.541Z"
   },
   {
    "duration": 4,
    "start_time": "2023-01-30T09:13:44.429Z"
   },
   {
    "duration": 4,
    "start_time": "2023-01-30T09:14:04.686Z"
   },
   {
    "duration": 3,
    "start_time": "2023-01-30T09:14:24.511Z"
   },
   {
    "duration": 4,
    "start_time": "2023-01-30T09:15:55.403Z"
   },
   {
    "duration": 5,
    "start_time": "2023-01-30T09:16:40.571Z"
   },
   {
    "duration": 5,
    "start_time": "2023-01-30T09:17:35.701Z"
   },
   {
    "duration": 4,
    "start_time": "2023-01-30T09:20:48.693Z"
   },
   {
    "duration": 6,
    "start_time": "2023-01-30T09:34:31.036Z"
   },
   {
    "duration": 4,
    "start_time": "2023-01-30T09:34:33.468Z"
   },
   {
    "duration": 6,
    "start_time": "2023-01-30T09:37:50.811Z"
   },
   {
    "duration": 137,
    "start_time": "2023-01-30T09:37:58.020Z"
   },
   {
    "duration": 7,
    "start_time": "2023-01-30T09:38:01.195Z"
   },
   {
    "duration": 5,
    "start_time": "2023-01-30T09:38:05.700Z"
   },
   {
    "duration": 3,
    "start_time": "2023-01-30T09:39:41.311Z"
   },
   {
    "duration": 2,
    "start_time": "2023-01-30T09:39:43.616Z"
   },
   {
    "duration": 4,
    "start_time": "2023-01-30T09:39:48.040Z"
   },
   {
    "duration": 10,
    "start_time": "2023-01-30T09:40:21.849Z"
   },
   {
    "duration": 6,
    "start_time": "2023-01-30T09:40:24.944Z"
   },
   {
    "duration": 5,
    "start_time": "2023-01-30T09:40:36.481Z"
   },
   {
    "duration": 7,
    "start_time": "2023-01-30T09:42:14.853Z"
   },
   {
    "duration": 438,
    "start_time": "2023-01-30T09:42:15.517Z"
   },
   {
    "duration": 9,
    "start_time": "2023-01-30T09:42:17.306Z"
   },
   {
    "duration": 1462,
    "start_time": "2023-01-30T09:42:20.077Z"
   },
   {
    "duration": 4,
    "start_time": "2023-01-30T09:42:29.453Z"
   },
   {
    "duration": 5,
    "start_time": "2023-01-30T09:42:29.742Z"
   },
   {
    "duration": 7,
    "start_time": "2023-01-30T09:42:32.350Z"
   },
   {
    "duration": 6,
    "start_time": "2023-01-30T09:42:35.702Z"
   },
   {
    "duration": 6,
    "start_time": "2023-01-30T09:42:40.486Z"
   },
   {
    "duration": 4,
    "start_time": "2023-01-30T09:44:26.130Z"
   },
   {
    "duration": 441,
    "start_time": "2023-01-30T09:44:26.514Z"
   },
   {
    "duration": 9,
    "start_time": "2023-01-30T09:44:27.139Z"
   },
   {
    "duration": 6,
    "start_time": "2023-01-30T09:44:30.866Z"
   },
   {
    "duration": 6,
    "start_time": "2023-01-30T09:44:31.699Z"
   },
   {
    "duration": 4,
    "start_time": "2023-01-30T09:45:14.228Z"
   },
   {
    "duration": 5,
    "start_time": "2023-01-30T09:45:27.948Z"
   },
   {
    "duration": 6,
    "start_time": "2023-01-30T09:45:34.933Z"
   },
   {
    "duration": 6,
    "start_time": "2023-01-30T09:45:57.629Z"
   },
   {
    "duration": 6,
    "start_time": "2023-01-30T09:46:28.614Z"
   },
   {
    "duration": 10,
    "start_time": "2023-01-30T09:46:31.414Z"
   },
   {
    "duration": 9,
    "start_time": "2023-01-30T09:46:37.671Z"
   },
   {
    "duration": 7,
    "start_time": "2023-01-30T09:47:55.363Z"
   },
   {
    "duration": 6,
    "start_time": "2023-01-30T09:48:06.563Z"
   },
   {
    "duration": 496,
    "start_time": "2023-01-30T09:49:25.477Z"
   },
   {
    "duration": 13,
    "start_time": "2023-01-30T09:49:26.581Z"
   },
   {
    "duration": 1531,
    "start_time": "2023-01-30T09:49:34.326Z"
   },
   {
    "duration": 4,
    "start_time": "2023-01-30T09:49:40.374Z"
   },
   {
    "duration": 4,
    "start_time": "2023-01-30T09:49:40.630Z"
   },
   {
    "duration": 6,
    "start_time": "2023-01-30T09:49:45.278Z"
   },
   {
    "duration": 10,
    "start_time": "2023-01-30T09:49:46.277Z"
   },
   {
    "duration": 3,
    "start_time": "2023-01-30T09:49:54.856Z"
   },
   {
    "duration": 439,
    "start_time": "2023-01-30T09:50:08.415Z"
   },
   {
    "duration": 10,
    "start_time": "2023-01-30T09:50:09.422Z"
   },
   {
    "duration": 1302,
    "start_time": "2023-01-30T09:50:09.800Z"
   },
   {
    "duration": 3,
    "start_time": "2023-01-30T09:50:11.104Z"
   },
   {
    "duration": 4,
    "start_time": "2023-01-30T09:50:11.326Z"
   },
   {
    "duration": 8,
    "start_time": "2023-01-30T09:50:12.399Z"
   },
   {
    "duration": 3,
    "start_time": "2023-01-30T09:50:12.663Z"
   },
   {
    "duration": 7,
    "start_time": "2023-01-30T09:50:15.199Z"
   },
   {
    "duration": 10,
    "start_time": "2023-01-30T09:50:29.560Z"
   },
   {
    "duration": 5,
    "start_time": "2023-01-30T09:50:36.663Z"
   },
   {
    "duration": 6,
    "start_time": "2023-01-30T09:50:44.016Z"
   },
   {
    "duration": 4,
    "start_time": "2023-01-30T09:51:09.753Z"
   },
   {
    "duration": 4,
    "start_time": "2023-01-30T09:51:18.969Z"
   },
   {
    "duration": 5,
    "start_time": "2023-01-30T09:51:27.129Z"
   },
   {
    "duration": 4,
    "start_time": "2023-01-30T09:51:50.131Z"
   },
   {
    "duration": 4,
    "start_time": "2023-01-30T09:52:00.067Z"
   },
   {
    "duration": 3,
    "start_time": "2023-01-30T09:53:54.279Z"
   },
   {
    "duration": 10,
    "start_time": "2023-01-30T09:54:09.095Z"
   },
   {
    "duration": 5,
    "start_time": "2023-01-30T10:15:08.250Z"
   },
   {
    "duration": 14,
    "start_time": "2023-01-30T10:15:21.113Z"
   },
   {
    "duration": 4,
    "start_time": "2023-01-30T10:15:42.898Z"
   },
   {
    "duration": 1383,
    "start_time": "2023-01-30T10:15:43.866Z"
   },
   {
    "duration": 4,
    "start_time": "2023-01-30T10:18:01.816Z"
   },
   {
    "duration": 1446,
    "start_time": "2023-01-30T10:18:02.255Z"
   },
   {
    "duration": 5,
    "start_time": "2023-01-30T10:18:35.856Z"
   },
   {
    "duration": 1404,
    "start_time": "2023-01-30T10:18:36.192Z"
   },
   {
    "duration": 9,
    "start_time": "2023-01-30T10:20:01.644Z"
   },
   {
    "duration": 6,
    "start_time": "2023-01-30T10:20:50.565Z"
   },
   {
    "duration": 1487,
    "start_time": "2023-01-30T10:20:51.494Z"
   },
   {
    "duration": 6,
    "start_time": "2023-01-30T10:21:23.407Z"
   },
   {
    "duration": 1341,
    "start_time": "2023-01-30T10:21:32.519Z"
   },
   {
    "duration": 2,
    "start_time": "2023-01-30T10:23:27.212Z"
   },
   {
    "duration": 3,
    "start_time": "2023-01-30T10:23:33.980Z"
   },
   {
    "duration": 5,
    "start_time": "2023-01-30T10:24:23.005Z"
   },
   {
    "duration": 5,
    "start_time": "2023-01-30T10:24:26.398Z"
   },
   {
    "duration": 1325,
    "start_time": "2023-01-30T10:24:26.710Z"
   },
   {
    "duration": 5,
    "start_time": "2023-01-30T10:26:05.465Z"
   },
   {
    "duration": 1398,
    "start_time": "2023-01-30T10:26:05.794Z"
   },
   {
    "duration": 42,
    "start_time": "2023-01-30T10:26:17.770Z"
   },
   {
    "duration": 5,
    "start_time": "2023-01-30T10:27:34.293Z"
   },
   {
    "duration": 1329,
    "start_time": "2023-01-30T10:27:34.613Z"
   },
   {
    "duration": 5,
    "start_time": "2023-01-30T10:27:59.366Z"
   },
   {
    "duration": 1357,
    "start_time": "2023-01-30T10:27:59.701Z"
   },
   {
    "duration": 86,
    "start_time": "2023-01-30T10:28:20.424Z"
   },
   {
    "duration": 1405,
    "start_time": "2023-01-30T10:28:20.759Z"
   },
   {
    "duration": 5,
    "start_time": "2023-01-30T10:28:36.471Z"
   },
   {
    "duration": 1336,
    "start_time": "2023-01-30T10:28:36.816Z"
   },
   {
    "duration": 5,
    "start_time": "2023-01-30T10:29:28.682Z"
   },
   {
    "duration": 1386,
    "start_time": "2023-01-30T10:29:29.762Z"
   },
   {
    "duration": 4160,
    "start_time": "2023-01-30T10:30:28.876Z"
   },
   {
    "duration": 1333,
    "start_time": "2023-01-30T10:35:39.680Z"
   },
   {
    "duration": 872,
    "start_time": "2023-01-30T10:35:54.106Z"
   },
   {
    "duration": 1334,
    "start_time": "2023-01-30T10:36:33.258Z"
   },
   {
    "duration": 4,
    "start_time": "2023-01-30T10:38:58.736Z"
   },
   {
    "duration": 4,
    "start_time": "2023-01-30T10:38:59.088Z"
   },
   {
    "duration": 3,
    "start_time": "2023-01-30T10:39:01.911Z"
   },
   {
    "duration": 5,
    "start_time": "2023-01-30T10:39:02.416Z"
   },
   {
    "duration": 4753,
    "start_time": "2023-01-30T10:39:02.936Z"
   },
   {
    "duration": 6,
    "start_time": "2023-01-30T10:39:22.408Z"
   },
   {
    "duration": 3,
    "start_time": "2023-01-30T10:39:26.584Z"
   },
   {
    "duration": 4,
    "start_time": "2023-01-30T10:39:26.888Z"
   },
   {
    "duration": 3,
    "start_time": "2023-01-30T10:39:27.457Z"
   },
   {
    "duration": 6,
    "start_time": "2023-01-30T10:39:27.768Z"
   },
   {
    "duration": 4340,
    "start_time": "2023-01-30T10:39:28.192Z"
   },
   {
    "duration": 4,
    "start_time": "2023-01-30T10:40:37.819Z"
   },
   {
    "duration": 5,
    "start_time": "2023-01-30T10:40:38.107Z"
   },
   {
    "duration": 4,
    "start_time": "2023-01-30T10:40:38.939Z"
   },
   {
    "duration": 8,
    "start_time": "2023-01-30T10:40:42.003Z"
   },
   {
    "duration": 4817,
    "start_time": "2023-01-30T10:40:42.371Z"
   },
   {
    "duration": 5,
    "start_time": "2023-01-30T10:41:20.916Z"
   },
   {
    "duration": 4,
    "start_time": "2023-01-30T10:41:34.517Z"
   },
   {
    "duration": 1487,
    "start_time": "2023-01-30T10:48:20.463Z"
   },
   {
    "duration": 389,
    "start_time": "2023-01-30T10:48:21.952Z"
   },
   {
    "duration": 336,
    "start_time": "2023-01-30T10:48:22.343Z"
   },
   {
    "duration": 1995,
    "start_time": "2023-01-30T10:48:22.682Z"
   },
   {
    "duration": 5,
    "start_time": "2023-01-30T10:48:24.679Z"
   },
   {
    "duration": 475,
    "start_time": "2023-01-30T10:48:24.685Z"
   },
   {
    "duration": 101,
    "start_time": "2023-01-30T10:48:25.238Z"
   },
   {
    "duration": 1407,
    "start_time": "2023-01-30T10:48:25.341Z"
   },
   {
    "duration": 3,
    "start_time": "2023-01-30T10:48:26.750Z"
   },
   {
    "duration": 28,
    "start_time": "2023-01-30T10:48:26.755Z"
   },
   {
    "duration": 26,
    "start_time": "2023-01-30T10:48:26.785Z"
   },
   {
    "duration": 14,
    "start_time": "2023-01-30T10:48:26.813Z"
   },
   {
    "duration": 4185,
    "start_time": "2023-01-30T10:48:26.829Z"
   },
   {
    "duration": 4,
    "start_time": "2023-01-30T10:48:58.399Z"
   },
   {
    "duration": 1445,
    "start_time": "2023-01-30T10:49:14.858Z"
   },
   {
    "duration": 400,
    "start_time": "2023-01-30T10:49:16.306Z"
   },
   {
    "duration": 274,
    "start_time": "2023-01-30T10:49:16.708Z"
   },
   {
    "duration": 2004,
    "start_time": "2023-01-30T10:49:16.984Z"
   },
   {
    "duration": 6,
    "start_time": "2023-01-30T10:49:18.991Z"
   },
   {
    "duration": 459,
    "start_time": "2023-01-30T10:49:18.999Z"
   },
   {
    "duration": 102,
    "start_time": "2023-01-30T10:49:19.537Z"
   },
   {
    "duration": 1379,
    "start_time": "2023-01-30T10:49:19.641Z"
   },
   {
    "duration": 4,
    "start_time": "2023-01-30T10:49:21.022Z"
   },
   {
    "duration": 12,
    "start_time": "2023-01-30T10:49:21.028Z"
   },
   {
    "duration": 7,
    "start_time": "2023-01-30T10:49:21.041Z"
   },
   {
    "duration": 14,
    "start_time": "2023-01-30T10:49:21.050Z"
   },
   {
    "duration": 4124,
    "start_time": "2023-01-30T10:49:21.066Z"
   },
   {
    "duration": 6,
    "start_time": "2023-01-30T10:51:49.940Z"
   },
   {
    "duration": 4337,
    "start_time": "2023-01-30T10:51:50.292Z"
   },
   {
    "duration": 4,
    "start_time": "2023-01-30T10:52:19.197Z"
   },
   {
    "duration": 4,
    "start_time": "2023-01-30T10:52:22.581Z"
   },
   {
    "duration": 7,
    "start_time": "2023-01-30T10:52:22.824Z"
   },
   {
    "duration": 4354,
    "start_time": "2023-01-30T10:52:23.078Z"
   },
   {
    "duration": 4,
    "start_time": "2023-01-30T10:52:31.110Z"
   },
   {
    "duration": 5,
    "start_time": "2023-01-30T10:52:32.670Z"
   },
   {
    "duration": 6,
    "start_time": "2023-01-30T10:52:32.989Z"
   },
   {
    "duration": 4388,
    "start_time": "2023-01-30T10:52:34.318Z"
   },
   {
    "duration": 1520,
    "start_time": "2023-01-30T10:52:45.304Z"
   },
   {
    "duration": 404,
    "start_time": "2023-01-30T10:52:46.826Z"
   },
   {
    "duration": 308,
    "start_time": "2023-01-30T10:52:47.232Z"
   },
   {
    "duration": 2142,
    "start_time": "2023-01-30T10:52:47.542Z"
   },
   {
    "duration": 5,
    "start_time": "2023-01-30T10:52:49.687Z"
   },
   {
    "duration": 461,
    "start_time": "2023-01-30T10:52:49.694Z"
   },
   {
    "duration": 180,
    "start_time": "2023-01-30T10:52:50.158Z"
   },
   {
    "duration": 1423,
    "start_time": "2023-01-30T10:52:50.340Z"
   },
   {
    "duration": 4,
    "start_time": "2023-01-30T10:52:51.765Z"
   },
   {
    "duration": 13,
    "start_time": "2023-01-30T10:52:51.770Z"
   },
   {
    "duration": 25,
    "start_time": "2023-01-30T10:52:51.785Z"
   },
   {
    "duration": 17,
    "start_time": "2023-01-30T10:52:51.812Z"
   },
   {
    "duration": 4586,
    "start_time": "2023-01-30T10:52:51.831Z"
   },
   {
    "duration": 1502,
    "start_time": "2023-01-30T10:53:04.417Z"
   },
   {
    "duration": 422,
    "start_time": "2023-01-30T10:53:05.921Z"
   },
   {
    "duration": 335,
    "start_time": "2023-01-30T10:53:06.346Z"
   },
   {
    "duration": 2316,
    "start_time": "2023-01-30T10:53:06.683Z"
   },
   {
    "duration": 6,
    "start_time": "2023-01-30T10:53:09.002Z"
   },
   {
    "duration": 460,
    "start_time": "2023-01-30T10:53:09.010Z"
   },
   {
    "duration": 80,
    "start_time": "2023-01-30T10:53:09.472Z"
   },
   {
    "duration": 1626,
    "start_time": "2023-01-30T10:53:09.556Z"
   },
   {
    "duration": 5,
    "start_time": "2023-01-30T10:53:11.185Z"
   },
   {
    "duration": 11,
    "start_time": "2023-01-30T10:53:11.192Z"
   },
   {
    "duration": 13,
    "start_time": "2023-01-30T10:53:11.205Z"
   },
   {
    "duration": 12,
    "start_time": "2023-01-30T10:53:11.220Z"
   },
   {
    "duration": 4517,
    "start_time": "2023-01-30T10:53:11.237Z"
   },
   {
    "duration": 2369,
    "start_time": "2023-01-30T13:37:03.540Z"
   },
   {
    "duration": 422,
    "start_time": "2023-01-30T13:37:05.911Z"
   },
   {
    "duration": 337,
    "start_time": "2023-01-30T13:37:06.335Z"
   },
   {
    "duration": 2107,
    "start_time": "2023-01-30T13:37:06.675Z"
   },
   {
    "duration": 6,
    "start_time": "2023-01-30T13:37:08.784Z"
   },
   {
    "duration": 451,
    "start_time": "2023-01-30T13:37:08.792Z"
   },
   {
    "duration": 89,
    "start_time": "2023-01-30T13:37:09.245Z"
   },
   {
    "duration": 1575,
    "start_time": "2023-01-30T13:37:09.336Z"
   },
   {
    "duration": 9,
    "start_time": "2023-01-30T13:37:10.913Z"
   },
   {
    "duration": 41,
    "start_time": "2023-01-30T13:37:10.926Z"
   },
   {
    "duration": 26,
    "start_time": "2023-01-30T13:37:10.969Z"
   },
   {
    "duration": 28,
    "start_time": "2023-01-30T13:37:10.997Z"
   },
   {
    "duration": 4469,
    "start_time": "2023-01-30T13:37:11.027Z"
   },
   {
    "duration": 1548,
    "start_time": "2023-01-30T14:31:37.408Z"
   },
   {
    "duration": 843,
    "start_time": "2023-01-30T14:31:38.958Z"
   },
   {
    "duration": 255,
    "start_time": "2023-01-30T14:31:39.803Z"
   },
   {
    "duration": 1977,
    "start_time": "2023-01-30T14:31:40.060Z"
   },
   {
    "duration": 16,
    "start_time": "2023-01-30T14:33:36.775Z"
   },
   {
    "duration": 11,
    "start_time": "2023-01-30T14:34:10.424Z"
   },
   {
    "duration": 20,
    "start_time": "2023-01-30T14:34:20.296Z"
   },
   {
    "duration": 116,
    "start_time": "2023-01-30T14:34:27.706Z"
   },
   {
    "duration": 264,
    "start_time": "2023-01-30T14:34:31.704Z"
   },
   {
    "duration": 313,
    "start_time": "2023-01-30T14:34:40.985Z"
   },
   {
    "duration": 376,
    "start_time": "2023-01-30T14:35:06.650Z"
   },
   {
    "duration": 320,
    "start_time": "2023-01-30T14:35:14.778Z"
   },
   {
    "duration": 328,
    "start_time": "2023-01-30T14:35:22.858Z"
   },
   {
    "duration": 924,
    "start_time": "2023-01-30T14:35:42.980Z"
   },
   {
    "duration": 143,
    "start_time": "2023-01-30T14:36:03.004Z"
   },
   {
    "duration": 12,
    "start_time": "2023-01-30T14:36:06.512Z"
   },
   {
    "duration": 919,
    "start_time": "2023-01-30T14:36:16.693Z"
   },
   {
    "duration": 52,
    "start_time": "2023-01-30T14:37:36.240Z"
   },
   {
    "duration": 4,
    "start_time": "2023-01-30T14:38:39.954Z"
   },
   {
    "duration": 615,
    "start_time": "2023-01-30T14:39:19.195Z"
   },
   {
    "duration": 99,
    "start_time": "2023-01-30T14:39:19.812Z"
   },
   {
    "duration": 1133,
    "start_time": "2023-01-30T14:39:24.451Z"
   },
   {
    "duration": 3,
    "start_time": "2023-01-30T14:39:50.253Z"
   },
   {
    "duration": 275,
    "start_time": "2023-01-30T14:40:13.318Z"
   }
  ],
  "kernelspec": {
   "display_name": "Python 3 (ipykernel)",
   "language": "python",
   "name": "python3"
  },
  "language_info": {
   "codemirror_mode": {
    "name": "ipython",
    "version": 3
   },
   "file_extension": ".py",
   "mimetype": "text/x-python",
   "name": "python",
   "nbconvert_exporter": "python",
   "pygments_lexer": "ipython3",
   "version": "3.9.13"
  },
  "toc": {
   "base_numbering": 1,
   "nav_menu": {},
   "number_sections": true,
   "sideBar": true,
   "skip_h1_title": true,
   "title_cell": "Table of Contents",
   "title_sidebar": "Contents",
   "toc_cell": false,
   "toc_position": {},
   "toc_section_display": true,
   "toc_window_display": true
  }
 },
 "nbformat": 4,
 "nbformat_minor": 2
}
