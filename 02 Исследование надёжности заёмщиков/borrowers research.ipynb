{
 "cells": [
  {
   "cell_type": "markdown",
   "id": "a3245105",
   "metadata": {
    "id": "c81daeeb"
   },
   "source": [
    "# Исследование надёжности заёмщиков\n",
    "\n",
    "## Описание проекта\n",
    "\n",
    "Заказчик — кредитный отдел банка. Нужно разобраться, влияет ли семейное положение и количество детей клиента на факт погашения кредита в срок. Входные данные от банка — статистика о платёжеспособности клиентов.\n",
    "Результаты исследования будут учтены при построении модели кредитного скоринга — специальной системы, которая оценивает способность потенциального заёмщика вернуть кредит банку.\n",
    "\n",
    "\n",
    "\n",
    "Проверить, влияет ли семейное положение и количество детей клиента на факт погашения кредита в срок?\n",
    "Есть ли зависимость между количеством детей и возвратом кредита в срок?\n",
    "Есть ли зависимость между семейным положением и возвратом кредита в срок?\n",
    "Есть ли зависимость между уровнем дохода и возвратом кредита в срок?\n",
    "Как разные цели кредита влияют на его возврат в срок?\n",
    "\n",
    "## Ход исследования\n",
    "\n",
    "О качестве данных ничего не известно. Поэтому перед проверкой гипотез понадобится обзор данных.\n",
    "\n",
    "Нужно проверить данные на ошибки и оценить их влияние на исследование. \n",
    "\n",
    "Таким образом, исследование пройдёт в три этапа:\n",
    "\n",
    "Обзор данных.\n",
    "Предобработка данных.\n",
    "Проверка гипотез.\n",
    "\n",
    "## Описание данных\n",
    "\n",
    "- children — количество детей в семье\n",
    "- days_employed — общий трудовой стаж в днях\n",
    "- dob_years — возраст клиента в годах\n",
    "- education — уровень образования клиента\n",
    "- education_id — идентификатор уровня образования\n",
    "- family_status — семейное положение\n",
    "- family_status_id — идентификатор семейного положения\n",
    "- gender — пол клиента\n",
    "- income_type — тип занятости\n",
    "- debt — имел ли задолженность по возврату кредитов\n",
    "- total_income — ежемесячный доход\n",
    "- purpose — цель получения кредита\n"
   ]
  },
  {
   "cell_type": "code",
   "execution_count": 1,
   "id": "406ef521",
   "metadata": {
    "id": "7bcf75c9"
   },
   "outputs": [],
   "source": [
    "import pandas as pd\n",
    "\n",
    "try:\n",
    "    data = pd.read_csv('/datasets/data.csv')\n",
    "except:\n",
    "    data = pd.read_csv('https://code.s3.yandex.net/datasets/data.csv')"
   ]
  },
  {
   "cell_type": "code",
   "execution_count": 2,
   "id": "90c9520c",
   "metadata": {
    "id": "2a7cab99",
    "outputId": "1a8f3ef2-d323-4ec2-ddf7-89670b5944c4"
   },
   "outputs": [
    {
     "data": {
      "text/html": [
       "<div>\n",
       "<style scoped>\n",
       "    .dataframe tbody tr th:only-of-type {\n",
       "        vertical-align: middle;\n",
       "    }\n",
       "\n",
       "    .dataframe tbody tr th {\n",
       "        vertical-align: top;\n",
       "    }\n",
       "\n",
       "    .dataframe thead th {\n",
       "        text-align: right;\n",
       "    }\n",
       "</style>\n",
       "<table border=\"1\" class=\"dataframe\">\n",
       "  <thead>\n",
       "    <tr style=\"text-align: right;\">\n",
       "      <th></th>\n",
       "      <th>children</th>\n",
       "      <th>days_employed</th>\n",
       "      <th>dob_years</th>\n",
       "      <th>education</th>\n",
       "      <th>education_id</th>\n",
       "      <th>family_status</th>\n",
       "      <th>family_status_id</th>\n",
       "      <th>gender</th>\n",
       "      <th>income_type</th>\n",
       "      <th>debt</th>\n",
       "      <th>total_income</th>\n",
       "      <th>purpose</th>\n",
       "    </tr>\n",
       "  </thead>\n",
       "  <tbody>\n",
       "    <tr>\n",
       "      <th>0</th>\n",
       "      <td>1</td>\n",
       "      <td>-8437.673028</td>\n",
       "      <td>42</td>\n",
       "      <td>высшее</td>\n",
       "      <td>0</td>\n",
       "      <td>женат / замужем</td>\n",
       "      <td>0</td>\n",
       "      <td>F</td>\n",
       "      <td>сотрудник</td>\n",
       "      <td>0</td>\n",
       "      <td>253875.639453</td>\n",
       "      <td>покупка жилья</td>\n",
       "    </tr>\n",
       "    <tr>\n",
       "      <th>1</th>\n",
       "      <td>1</td>\n",
       "      <td>-4024.803754</td>\n",
       "      <td>36</td>\n",
       "      <td>среднее</td>\n",
       "      <td>1</td>\n",
       "      <td>женат / замужем</td>\n",
       "      <td>0</td>\n",
       "      <td>F</td>\n",
       "      <td>сотрудник</td>\n",
       "      <td>0</td>\n",
       "      <td>112080.014102</td>\n",
       "      <td>приобретение автомобиля</td>\n",
       "    </tr>\n",
       "    <tr>\n",
       "      <th>2</th>\n",
       "      <td>0</td>\n",
       "      <td>-5623.422610</td>\n",
       "      <td>33</td>\n",
       "      <td>Среднее</td>\n",
       "      <td>1</td>\n",
       "      <td>женат / замужем</td>\n",
       "      <td>0</td>\n",
       "      <td>M</td>\n",
       "      <td>сотрудник</td>\n",
       "      <td>0</td>\n",
       "      <td>145885.952297</td>\n",
       "      <td>покупка жилья</td>\n",
       "    </tr>\n",
       "    <tr>\n",
       "      <th>3</th>\n",
       "      <td>3</td>\n",
       "      <td>-4124.747207</td>\n",
       "      <td>32</td>\n",
       "      <td>среднее</td>\n",
       "      <td>1</td>\n",
       "      <td>женат / замужем</td>\n",
       "      <td>0</td>\n",
       "      <td>M</td>\n",
       "      <td>сотрудник</td>\n",
       "      <td>0</td>\n",
       "      <td>267628.550329</td>\n",
       "      <td>дополнительное образование</td>\n",
       "    </tr>\n",
       "    <tr>\n",
       "      <th>4</th>\n",
       "      <td>0</td>\n",
       "      <td>340266.072047</td>\n",
       "      <td>53</td>\n",
       "      <td>среднее</td>\n",
       "      <td>1</td>\n",
       "      <td>гражданский брак</td>\n",
       "      <td>1</td>\n",
       "      <td>F</td>\n",
       "      <td>пенсионер</td>\n",
       "      <td>0</td>\n",
       "      <td>158616.077870</td>\n",
       "      <td>сыграть свадьбу</td>\n",
       "    </tr>\n",
       "    <tr>\n",
       "      <th>5</th>\n",
       "      <td>0</td>\n",
       "      <td>-926.185831</td>\n",
       "      <td>27</td>\n",
       "      <td>высшее</td>\n",
       "      <td>0</td>\n",
       "      <td>гражданский брак</td>\n",
       "      <td>1</td>\n",
       "      <td>M</td>\n",
       "      <td>компаньон</td>\n",
       "      <td>0</td>\n",
       "      <td>255763.565419</td>\n",
       "      <td>покупка жилья</td>\n",
       "    </tr>\n",
       "    <tr>\n",
       "      <th>6</th>\n",
       "      <td>0</td>\n",
       "      <td>-2879.202052</td>\n",
       "      <td>43</td>\n",
       "      <td>высшее</td>\n",
       "      <td>0</td>\n",
       "      <td>женат / замужем</td>\n",
       "      <td>0</td>\n",
       "      <td>F</td>\n",
       "      <td>компаньон</td>\n",
       "      <td>0</td>\n",
       "      <td>240525.971920</td>\n",
       "      <td>операции с жильем</td>\n",
       "    </tr>\n",
       "    <tr>\n",
       "      <th>7</th>\n",
       "      <td>0</td>\n",
       "      <td>-152.779569</td>\n",
       "      <td>50</td>\n",
       "      <td>СРЕДНЕЕ</td>\n",
       "      <td>1</td>\n",
       "      <td>женат / замужем</td>\n",
       "      <td>0</td>\n",
       "      <td>M</td>\n",
       "      <td>сотрудник</td>\n",
       "      <td>0</td>\n",
       "      <td>135823.934197</td>\n",
       "      <td>образование</td>\n",
       "    </tr>\n",
       "    <tr>\n",
       "      <th>8</th>\n",
       "      <td>2</td>\n",
       "      <td>-6929.865299</td>\n",
       "      <td>35</td>\n",
       "      <td>ВЫСШЕЕ</td>\n",
       "      <td>0</td>\n",
       "      <td>гражданский брак</td>\n",
       "      <td>1</td>\n",
       "      <td>F</td>\n",
       "      <td>сотрудник</td>\n",
       "      <td>0</td>\n",
       "      <td>95856.832424</td>\n",
       "      <td>на проведение свадьбы</td>\n",
       "    </tr>\n",
       "    <tr>\n",
       "      <th>9</th>\n",
       "      <td>0</td>\n",
       "      <td>-2188.756445</td>\n",
       "      <td>41</td>\n",
       "      <td>среднее</td>\n",
       "      <td>1</td>\n",
       "      <td>женат / замужем</td>\n",
       "      <td>0</td>\n",
       "      <td>M</td>\n",
       "      <td>сотрудник</td>\n",
       "      <td>0</td>\n",
       "      <td>144425.938277</td>\n",
       "      <td>покупка жилья для семьи</td>\n",
       "    </tr>\n",
       "    <tr>\n",
       "      <th>10</th>\n",
       "      <td>2</td>\n",
       "      <td>-4171.483647</td>\n",
       "      <td>36</td>\n",
       "      <td>высшее</td>\n",
       "      <td>0</td>\n",
       "      <td>женат / замужем</td>\n",
       "      <td>0</td>\n",
       "      <td>M</td>\n",
       "      <td>компаньон</td>\n",
       "      <td>0</td>\n",
       "      <td>113943.491460</td>\n",
       "      <td>покупка недвижимости</td>\n",
       "    </tr>\n",
       "    <tr>\n",
       "      <th>11</th>\n",
       "      <td>0</td>\n",
       "      <td>-792.701887</td>\n",
       "      <td>40</td>\n",
       "      <td>среднее</td>\n",
       "      <td>1</td>\n",
       "      <td>женат / замужем</td>\n",
       "      <td>0</td>\n",
       "      <td>F</td>\n",
       "      <td>сотрудник</td>\n",
       "      <td>0</td>\n",
       "      <td>77069.234271</td>\n",
       "      <td>покупка коммерческой недвижимости</td>\n",
       "    </tr>\n",
       "    <tr>\n",
       "      <th>12</th>\n",
       "      <td>0</td>\n",
       "      <td>NaN</td>\n",
       "      <td>65</td>\n",
       "      <td>среднее</td>\n",
       "      <td>1</td>\n",
       "      <td>гражданский брак</td>\n",
       "      <td>1</td>\n",
       "      <td>M</td>\n",
       "      <td>пенсионер</td>\n",
       "      <td>0</td>\n",
       "      <td>NaN</td>\n",
       "      <td>сыграть свадьбу</td>\n",
       "    </tr>\n",
       "    <tr>\n",
       "      <th>13</th>\n",
       "      <td>0</td>\n",
       "      <td>-1846.641941</td>\n",
       "      <td>54</td>\n",
       "      <td>неоконченное высшее</td>\n",
       "      <td>2</td>\n",
       "      <td>женат / замужем</td>\n",
       "      <td>0</td>\n",
       "      <td>F</td>\n",
       "      <td>сотрудник</td>\n",
       "      <td>0</td>\n",
       "      <td>130458.228857</td>\n",
       "      <td>приобретение автомобиля</td>\n",
       "    </tr>\n",
       "    <tr>\n",
       "      <th>14</th>\n",
       "      <td>0</td>\n",
       "      <td>-1844.956182</td>\n",
       "      <td>56</td>\n",
       "      <td>высшее</td>\n",
       "      <td>0</td>\n",
       "      <td>гражданский брак</td>\n",
       "      <td>1</td>\n",
       "      <td>F</td>\n",
       "      <td>компаньон</td>\n",
       "      <td>1</td>\n",
       "      <td>165127.911772</td>\n",
       "      <td>покупка жилой недвижимости</td>\n",
       "    </tr>\n",
       "    <tr>\n",
       "      <th>15</th>\n",
       "      <td>1</td>\n",
       "      <td>-972.364419</td>\n",
       "      <td>26</td>\n",
       "      <td>среднее</td>\n",
       "      <td>1</td>\n",
       "      <td>женат / замужем</td>\n",
       "      <td>0</td>\n",
       "      <td>F</td>\n",
       "      <td>сотрудник</td>\n",
       "      <td>0</td>\n",
       "      <td>116820.904450</td>\n",
       "      <td>строительство собственной недвижимости</td>\n",
       "    </tr>\n",
       "    <tr>\n",
       "      <th>16</th>\n",
       "      <td>0</td>\n",
       "      <td>-1719.934226</td>\n",
       "      <td>35</td>\n",
       "      <td>среднее</td>\n",
       "      <td>1</td>\n",
       "      <td>женат / замужем</td>\n",
       "      <td>0</td>\n",
       "      <td>F</td>\n",
       "      <td>сотрудник</td>\n",
       "      <td>0</td>\n",
       "      <td>289202.704229</td>\n",
       "      <td>недвижимость</td>\n",
       "    </tr>\n",
       "    <tr>\n",
       "      <th>17</th>\n",
       "      <td>0</td>\n",
       "      <td>-2369.999720</td>\n",
       "      <td>33</td>\n",
       "      <td>высшее</td>\n",
       "      <td>0</td>\n",
       "      <td>гражданский брак</td>\n",
       "      <td>1</td>\n",
       "      <td>M</td>\n",
       "      <td>сотрудник</td>\n",
       "      <td>0</td>\n",
       "      <td>90410.586745</td>\n",
       "      <td>строительство недвижимости</td>\n",
       "    </tr>\n",
       "    <tr>\n",
       "      <th>18</th>\n",
       "      <td>0</td>\n",
       "      <td>400281.136913</td>\n",
       "      <td>53</td>\n",
       "      <td>среднее</td>\n",
       "      <td>1</td>\n",
       "      <td>вдовец / вдова</td>\n",
       "      <td>2</td>\n",
       "      <td>F</td>\n",
       "      <td>пенсионер</td>\n",
       "      <td>0</td>\n",
       "      <td>56823.777243</td>\n",
       "      <td>на покупку подержанного автомобиля</td>\n",
       "    </tr>\n",
       "    <tr>\n",
       "      <th>19</th>\n",
       "      <td>0</td>\n",
       "      <td>-10038.818549</td>\n",
       "      <td>48</td>\n",
       "      <td>СРЕДНЕЕ</td>\n",
       "      <td>1</td>\n",
       "      <td>в разводе</td>\n",
       "      <td>3</td>\n",
       "      <td>F</td>\n",
       "      <td>сотрудник</td>\n",
       "      <td>0</td>\n",
       "      <td>242831.107982</td>\n",
       "      <td>на покупку своего автомобиля</td>\n",
       "    </tr>\n",
       "  </tbody>\n",
       "</table>\n",
       "</div>"
      ],
      "text/plain": [
       "    children  days_employed  dob_years            education  education_id  \\\n",
       "0          1   -8437.673028         42               высшее             0   \n",
       "1          1   -4024.803754         36              среднее             1   \n",
       "2          0   -5623.422610         33              Среднее             1   \n",
       "3          3   -4124.747207         32              среднее             1   \n",
       "4          0  340266.072047         53              среднее             1   \n",
       "5          0    -926.185831         27               высшее             0   \n",
       "6          0   -2879.202052         43               высшее             0   \n",
       "7          0    -152.779569         50              СРЕДНЕЕ             1   \n",
       "8          2   -6929.865299         35               ВЫСШЕЕ             0   \n",
       "9          0   -2188.756445         41              среднее             1   \n",
       "10         2   -4171.483647         36               высшее             0   \n",
       "11         0    -792.701887         40              среднее             1   \n",
       "12         0            NaN         65              среднее             1   \n",
       "13         0   -1846.641941         54  неоконченное высшее             2   \n",
       "14         0   -1844.956182         56               высшее             0   \n",
       "15         1    -972.364419         26              среднее             1   \n",
       "16         0   -1719.934226         35              среднее             1   \n",
       "17         0   -2369.999720         33               высшее             0   \n",
       "18         0  400281.136913         53              среднее             1   \n",
       "19         0  -10038.818549         48              СРЕДНЕЕ             1   \n",
       "\n",
       "       family_status  family_status_id gender income_type  debt  \\\n",
       "0    женат / замужем                 0      F   сотрудник     0   \n",
       "1    женат / замужем                 0      F   сотрудник     0   \n",
       "2    женат / замужем                 0      M   сотрудник     0   \n",
       "3    женат / замужем                 0      M   сотрудник     0   \n",
       "4   гражданский брак                 1      F   пенсионер     0   \n",
       "5   гражданский брак                 1      M   компаньон     0   \n",
       "6    женат / замужем                 0      F   компаньон     0   \n",
       "7    женат / замужем                 0      M   сотрудник     0   \n",
       "8   гражданский брак                 1      F   сотрудник     0   \n",
       "9    женат / замужем                 0      M   сотрудник     0   \n",
       "10   женат / замужем                 0      M   компаньон     0   \n",
       "11   женат / замужем                 0      F   сотрудник     0   \n",
       "12  гражданский брак                 1      M   пенсионер     0   \n",
       "13   женат / замужем                 0      F   сотрудник     0   \n",
       "14  гражданский брак                 1      F   компаньон     1   \n",
       "15   женат / замужем                 0      F   сотрудник     0   \n",
       "16   женат / замужем                 0      F   сотрудник     0   \n",
       "17  гражданский брак                 1      M   сотрудник     0   \n",
       "18    вдовец / вдова                 2      F   пенсионер     0   \n",
       "19         в разводе                 3      F   сотрудник     0   \n",
       "\n",
       "     total_income                                 purpose  \n",
       "0   253875.639453                           покупка жилья  \n",
       "1   112080.014102                 приобретение автомобиля  \n",
       "2   145885.952297                           покупка жилья  \n",
       "3   267628.550329              дополнительное образование  \n",
       "4   158616.077870                         сыграть свадьбу  \n",
       "5   255763.565419                           покупка жилья  \n",
       "6   240525.971920                       операции с жильем  \n",
       "7   135823.934197                             образование  \n",
       "8    95856.832424                   на проведение свадьбы  \n",
       "9   144425.938277                 покупка жилья для семьи  \n",
       "10  113943.491460                    покупка недвижимости  \n",
       "11   77069.234271       покупка коммерческой недвижимости  \n",
       "12            NaN                         сыграть свадьбу  \n",
       "13  130458.228857                 приобретение автомобиля  \n",
       "14  165127.911772              покупка жилой недвижимости  \n",
       "15  116820.904450  строительство собственной недвижимости  \n",
       "16  289202.704229                            недвижимость  \n",
       "17   90410.586745              строительство недвижимости  \n",
       "18   56823.777243      на покупку подержанного автомобиля  \n",
       "19  242831.107982            на покупку своего автомобиля  "
      ]
     },
     "execution_count": 2,
     "metadata": {},
     "output_type": "execute_result"
    }
   ],
   "source": [
    "data.head(20)"
   ]
  },
  {
   "cell_type": "code",
   "execution_count": 3,
   "id": "66966c64",
   "metadata": {
    "id": "2b757bca",
    "outputId": "15376089-8dad-46c9-b520-c05248d43158"
   },
   "outputs": [
    {
     "name": "stdout",
     "output_type": "stream",
     "text": [
      "<class 'pandas.core.frame.DataFrame'>\n",
      "RangeIndex: 21525 entries, 0 to 21524\n",
      "Data columns (total 12 columns):\n",
      " #   Column            Non-Null Count  Dtype  \n",
      "---  ------            --------------  -----  \n",
      " 0   children          21525 non-null  int64  \n",
      " 1   days_employed     19351 non-null  float64\n",
      " 2   dob_years         21525 non-null  int64  \n",
      " 3   education         21525 non-null  object \n",
      " 4   education_id      21525 non-null  int64  \n",
      " 5   family_status     21525 non-null  object \n",
      " 6   family_status_id  21525 non-null  int64  \n",
      " 7   gender            21525 non-null  object \n",
      " 8   income_type       21525 non-null  object \n",
      " 9   debt              21525 non-null  int64  \n",
      " 10  total_income      19351 non-null  float64\n",
      " 11  purpose           21525 non-null  object \n",
      "dtypes: float64(2), int64(5), object(5)\n",
      "memory usage: 2.0+ MB\n"
     ]
    }
   ],
   "source": [
    "data.info()"
   ]
  },
  {
   "cell_type": "markdown",
   "id": "489a435b",
   "metadata": {
    "id": "333ec665"
   },
   "source": [
    "## Предобработка данных"
   ]
  },
  {
   "cell_type": "markdown",
   "id": "34cf981e",
   "metadata": {
    "id": "02d92d53"
   },
   "source": [
    "### Удаление пропусков"
   ]
  },
  {
   "cell_type": "code",
   "execution_count": 4,
   "id": "07cb0528",
   "metadata": {
    "id": "7f9b2309",
    "outputId": "81f4d817-781c-465c-ed15-91ce4446810d"
   },
   "outputs": [
    {
     "data": {
      "text/plain": [
       "children               0\n",
       "days_employed       2174\n",
       "dob_years              0\n",
       "education              0\n",
       "education_id           0\n",
       "family_status          0\n",
       "family_status_id       0\n",
       "gender                 0\n",
       "income_type            0\n",
       "debt                   0\n",
       "total_income        2174\n",
       "purpose                0\n",
       "dtype: int64"
      ]
     },
     "execution_count": 4,
     "metadata": {},
     "output_type": "execute_result"
    }
   ],
   "source": [
    "data.isna().sum()"
   ]
  },
  {
   "cell_type": "code",
   "execution_count": 5,
   "id": "7daed27b",
   "metadata": {
    "id": "42006a93"
   },
   "outputs": [],
   "source": [
    "for t in data['income_type'].unique():\n",
    "    data.loc[(data['income_type'] == t) & (data['total_income'].isna()), 'total_income'] = \\\n",
    "    data.loc[(data['income_type'] == t), 'total_income'].median()"
   ]
  },
  {
   "cell_type": "markdown",
   "id": "673da66d",
   "metadata": {
    "id": "89da5ece"
   },
   "source": [
    "### Обработка аномальных значений"
   ]
  },
  {
   "cell_type": "code",
   "execution_count": 6,
   "id": "10b164f7",
   "metadata": {
    "id": "f6f055bf"
   },
   "outputs": [],
   "source": [
    "data['days_employed'] = data['days_employed'].abs()"
   ]
  },
  {
   "cell_type": "code",
   "execution_count": 7,
   "id": "6936c828",
   "metadata": {
    "id": "85a5faf6",
    "outputId": "801ef80e-522b-4668-f34e-565af7432bcf"
   },
   "outputs": [
    {
     "data": {
      "text/plain": [
       "income_type\n",
       "безработный        366413.652744\n",
       "в декрете            3296.759962\n",
       "госслужащий          2689.368353\n",
       "компаньон            1547.382223\n",
       "пенсионер          365213.306266\n",
       "предприниматель       520.848083\n",
       "сотрудник            1574.202821\n",
       "студент               578.751554\n",
       "Name: days_employed, dtype: float64"
      ]
     },
     "execution_count": 7,
     "metadata": {},
     "output_type": "execute_result"
    }
   ],
   "source": [
    "data.groupby('income_type')['days_employed'].agg('median')"
   ]
  },
  {
   "cell_type": "code",
   "execution_count": 8,
   "id": "0e8dbec5",
   "metadata": {
    "id": "ef5056eb",
    "outputId": "6975b15c-7f95-4697-d16d-a0c79b657b03"
   },
   "outputs": [
    {
     "data": {
      "text/plain": [
       "array([ 1,  0,  3,  2, -1,  4, 20,  5])"
      ]
     },
     "execution_count": 8,
     "metadata": {},
     "output_type": "execute_result"
    }
   ],
   "source": [
    "data['children'].unique()"
   ]
  },
  {
   "cell_type": "code",
   "execution_count": 9,
   "id": "a1cabc77",
   "metadata": {
    "id": "3ff9801d"
   },
   "outputs": [],
   "source": [
    "data = data[(data['children'] != -1) & (data['children'] != 20)]"
   ]
  },
  {
   "cell_type": "code",
   "execution_count": 10,
   "id": "273291c3",
   "metadata": {
    "id": "ad4fa8b7",
    "outputId": "b2097101-d49d-44d9-901b-32a65c9463d1"
   },
   "outputs": [
    {
     "data": {
      "text/plain": [
       "array([1, 0, 3, 2, 4, 5])"
      ]
     },
     "execution_count": 10,
     "metadata": {},
     "output_type": "execute_result"
    }
   ],
   "source": [
    "data['children'].unique()"
   ]
  },
  {
   "cell_type": "markdown",
   "id": "3316608a",
   "metadata": {
    "id": "75440b63"
   },
   "source": [
    "### Удаление пропусков (продолжение)"
   ]
  },
  {
   "cell_type": "code",
   "execution_count": 11,
   "id": "116c49b9",
   "metadata": {
    "id": "af6b1a7e"
   },
   "outputs": [],
   "source": [
    "for t in data['income_type'].unique():\n",
    "    data.loc[(data['income_type'] == t) & (data['days_employed'].isna()), 'days_employed'] = \\\n",
    "    data.loc[(data['income_type'] == t), 'days_employed'].median()"
   ]
  },
  {
   "cell_type": "code",
   "execution_count": 12,
   "id": "b2e432af",
   "metadata": {
    "id": "55f78bc2",
    "outputId": "8da1e4e1-358e-4e87-98c9-f261bce0a7b2"
   },
   "outputs": [
    {
     "data": {
      "text/plain": [
       "children            0\n",
       "days_employed       0\n",
       "dob_years           0\n",
       "education           0\n",
       "education_id        0\n",
       "family_status       0\n",
       "family_status_id    0\n",
       "gender              0\n",
       "income_type         0\n",
       "debt                0\n",
       "total_income        0\n",
       "purpose             0\n",
       "dtype: int64"
      ]
     },
     "execution_count": 12,
     "metadata": {},
     "output_type": "execute_result"
    }
   ],
   "source": [
    "data.isna().sum()"
   ]
  },
  {
   "cell_type": "markdown",
   "id": "bf9fa0cd",
   "metadata": {
    "id": "ddc81e43"
   },
   "source": [
    "### Изменение типов данных"
   ]
  },
  {
   "cell_type": "code",
   "execution_count": 13,
   "id": "84adb63f",
   "metadata": {
    "id": "920b65ad"
   },
   "outputs": [],
   "source": [
    "data['total_income'] = data['total_income'].astype(int)"
   ]
  },
  {
   "cell_type": "markdown",
   "id": "b984dd89",
   "metadata": {
    "id": "80c420ba"
   },
   "source": [
    "### Обработка дубликатов"
   ]
  },
  {
   "cell_type": "code",
   "execution_count": 14,
   "id": "e8ad581d",
   "metadata": {},
   "outputs": [],
   "source": [
    "data['education'] = data['education'].str.lower()"
   ]
  },
  {
   "cell_type": "code",
   "execution_count": 15,
   "id": "e8c69564",
   "metadata": {
    "id": "3ee445e4",
    "outputId": "9684deba-1934-42d1-99e1-cda61740f822"
   },
   "outputs": [
    {
     "data": {
      "text/plain": [
       "71"
      ]
     },
     "execution_count": 15,
     "metadata": {},
     "output_type": "execute_result"
    }
   ],
   "source": [
    "data.duplicated().sum()"
   ]
  },
  {
   "cell_type": "code",
   "execution_count": 16,
   "id": "681cece7",
   "metadata": {
    "id": "8575fe05"
   },
   "outputs": [],
   "source": [
    "data = data.drop_duplicates()"
   ]
  },
  {
   "cell_type": "markdown",
   "id": "61cce403",
   "metadata": {
    "id": "9904cf55"
   },
   "source": [
    "### Категоризация данных"
   ]
  },
  {
   "cell_type": "code",
   "execution_count": 17,
   "id": "b8e8a5fb",
   "metadata": {
    "id": "e1771346"
   },
   "outputs": [],
   "source": [
    "def categorize_income(income):\n",
    "    try:\n",
    "        if 0 <= income <= 30000:\n",
    "            return 'E'\n",
    "        elif 30001 <= income <= 50000:\n",
    "            return 'D'\n",
    "        elif 50001 <= income <= 200000:\n",
    "            return 'C'\n",
    "        elif 200001 <= income <= 1000000:\n",
    "            return 'B'\n",
    "        elif income >= 1000001:\n",
    "            return 'A'\n",
    "    except:\n",
    "        pass"
   ]
  },
  {
   "cell_type": "code",
   "execution_count": 18,
   "id": "f2494b21",
   "metadata": {
    "id": "d5f3586d"
   },
   "outputs": [],
   "source": [
    "data['total_income_category'] = data['total_income'].apply(categorize_income)"
   ]
  },
  {
   "cell_type": "code",
   "execution_count": 19,
   "id": "1d942ed3",
   "metadata": {
    "id": "f67ce9b3",
    "outputId": "673c12d9-7d7e-4ae0-9812-c622c89dd244"
   },
   "outputs": [
    {
     "data": {
      "text/plain": [
       "array(['покупка жилья', 'приобретение автомобиля',\n",
       "       'дополнительное образование', 'сыграть свадьбу',\n",
       "       'операции с жильем', 'образование', 'на проведение свадьбы',\n",
       "       'покупка жилья для семьи', 'покупка недвижимости',\n",
       "       'покупка коммерческой недвижимости', 'покупка жилой недвижимости',\n",
       "       'строительство собственной недвижимости', 'недвижимость',\n",
       "       'строительство недвижимости', 'на покупку подержанного автомобиля',\n",
       "       'на покупку своего автомобиля',\n",
       "       'операции с коммерческой недвижимостью',\n",
       "       'строительство жилой недвижимости', 'жилье',\n",
       "       'операции со своей недвижимостью', 'автомобили',\n",
       "       'заняться образованием', 'сделка с подержанным автомобилем',\n",
       "       'получение образования', 'автомобиль', 'свадьба',\n",
       "       'получение дополнительного образования', 'покупка своего жилья',\n",
       "       'операции с недвижимостью', 'получение высшего образования',\n",
       "       'свой автомобиль', 'сделка с автомобилем',\n",
       "       'профильное образование', 'высшее образование',\n",
       "       'покупка жилья для сдачи', 'на покупку автомобиля', 'ремонт жилью',\n",
       "       'заняться высшим образованием'], dtype=object)"
      ]
     },
     "execution_count": 19,
     "metadata": {},
     "output_type": "execute_result"
    }
   ],
   "source": [
    "data['purpose'].unique()"
   ]
  },
  {
   "cell_type": "code",
   "execution_count": 20,
   "id": "7ea5ac9a",
   "metadata": {
    "id": "e149fab4"
   },
   "outputs": [],
   "source": [
    "def categorize_purpose(row):\n",
    "    try:\n",
    "        if 'автом' in row:\n",
    "            return 'операции с автомобилем'\n",
    "        elif 'жил' in row or 'недвиж' in row:\n",
    "            return 'операции с недвижимостью'\n",
    "        elif 'свад' in row:\n",
    "            return 'проведение свадьбы'\n",
    "        elif 'образов' in row:\n",
    "            return 'получение образования'\n",
    "    except:\n",
    "        return 'нет категории'"
   ]
  },
  {
   "cell_type": "code",
   "execution_count": 21,
   "id": "28d47857",
   "metadata": {
    "id": "bf36e69b"
   },
   "outputs": [],
   "source": [
    "data['purpose_category'] = data['purpose'].apply(categorize_purpose)"
   ]
  },
  {
   "cell_type": "code",
   "execution_count": 22,
   "id": "fe6bbaae",
   "metadata": {},
   "outputs": [
    {
     "data": {
      "text/html": [
       "<div>\n",
       "<style scoped>\n",
       "    .dataframe tbody tr th:only-of-type {\n",
       "        vertical-align: middle;\n",
       "    }\n",
       "\n",
       "    .dataframe tbody tr th {\n",
       "        vertical-align: top;\n",
       "    }\n",
       "\n",
       "    .dataframe thead th {\n",
       "        text-align: right;\n",
       "    }\n",
       "</style>\n",
       "<table border=\"1\" class=\"dataframe\">\n",
       "  <thead>\n",
       "    <tr style=\"text-align: right;\">\n",
       "      <th></th>\n",
       "      <th>children</th>\n",
       "      <th>days_employed</th>\n",
       "      <th>dob_years</th>\n",
       "      <th>education</th>\n",
       "      <th>education_id</th>\n",
       "      <th>family_status</th>\n",
       "      <th>family_status_id</th>\n",
       "      <th>gender</th>\n",
       "      <th>income_type</th>\n",
       "      <th>debt</th>\n",
       "      <th>total_income</th>\n",
       "      <th>purpose</th>\n",
       "      <th>total_income_category</th>\n",
       "      <th>purpose_category</th>\n",
       "    </tr>\n",
       "  </thead>\n",
       "  <tbody>\n",
       "    <tr>\n",
       "      <th>0</th>\n",
       "      <td>1</td>\n",
       "      <td>8437.673028</td>\n",
       "      <td>42</td>\n",
       "      <td>высшее</td>\n",
       "      <td>0</td>\n",
       "      <td>женат / замужем</td>\n",
       "      <td>0</td>\n",
       "      <td>F</td>\n",
       "      <td>сотрудник</td>\n",
       "      <td>0</td>\n",
       "      <td>253875</td>\n",
       "      <td>покупка жилья</td>\n",
       "      <td>B</td>\n",
       "      <td>операции с недвижимостью</td>\n",
       "    </tr>\n",
       "    <tr>\n",
       "      <th>1</th>\n",
       "      <td>1</td>\n",
       "      <td>4024.803754</td>\n",
       "      <td>36</td>\n",
       "      <td>среднее</td>\n",
       "      <td>1</td>\n",
       "      <td>женат / замужем</td>\n",
       "      <td>0</td>\n",
       "      <td>F</td>\n",
       "      <td>сотрудник</td>\n",
       "      <td>0</td>\n",
       "      <td>112080</td>\n",
       "      <td>приобретение автомобиля</td>\n",
       "      <td>C</td>\n",
       "      <td>операции с автомобилем</td>\n",
       "    </tr>\n",
       "    <tr>\n",
       "      <th>2</th>\n",
       "      <td>0</td>\n",
       "      <td>5623.422610</td>\n",
       "      <td>33</td>\n",
       "      <td>среднее</td>\n",
       "      <td>1</td>\n",
       "      <td>женат / замужем</td>\n",
       "      <td>0</td>\n",
       "      <td>M</td>\n",
       "      <td>сотрудник</td>\n",
       "      <td>0</td>\n",
       "      <td>145885</td>\n",
       "      <td>покупка жилья</td>\n",
       "      <td>C</td>\n",
       "      <td>операции с недвижимостью</td>\n",
       "    </tr>\n",
       "    <tr>\n",
       "      <th>3</th>\n",
       "      <td>3</td>\n",
       "      <td>4124.747207</td>\n",
       "      <td>32</td>\n",
       "      <td>среднее</td>\n",
       "      <td>1</td>\n",
       "      <td>женат / замужем</td>\n",
       "      <td>0</td>\n",
       "      <td>M</td>\n",
       "      <td>сотрудник</td>\n",
       "      <td>0</td>\n",
       "      <td>267628</td>\n",
       "      <td>дополнительное образование</td>\n",
       "      <td>B</td>\n",
       "      <td>получение образования</td>\n",
       "    </tr>\n",
       "    <tr>\n",
       "      <th>4</th>\n",
       "      <td>0</td>\n",
       "      <td>340266.072047</td>\n",
       "      <td>53</td>\n",
       "      <td>среднее</td>\n",
       "      <td>1</td>\n",
       "      <td>гражданский брак</td>\n",
       "      <td>1</td>\n",
       "      <td>F</td>\n",
       "      <td>пенсионер</td>\n",
       "      <td>0</td>\n",
       "      <td>158616</td>\n",
       "      <td>сыграть свадьбу</td>\n",
       "      <td>C</td>\n",
       "      <td>проведение свадьбы</td>\n",
       "    </tr>\n",
       "    <tr>\n",
       "      <th>...</th>\n",
       "      <td>...</td>\n",
       "      <td>...</td>\n",
       "      <td>...</td>\n",
       "      <td>...</td>\n",
       "      <td>...</td>\n",
       "      <td>...</td>\n",
       "      <td>...</td>\n",
       "      <td>...</td>\n",
       "      <td>...</td>\n",
       "      <td>...</td>\n",
       "      <td>...</td>\n",
       "      <td>...</td>\n",
       "      <td>...</td>\n",
       "      <td>...</td>\n",
       "    </tr>\n",
       "    <tr>\n",
       "      <th>21520</th>\n",
       "      <td>1</td>\n",
       "      <td>4529.316663</td>\n",
       "      <td>43</td>\n",
       "      <td>среднее</td>\n",
       "      <td>1</td>\n",
       "      <td>гражданский брак</td>\n",
       "      <td>1</td>\n",
       "      <td>F</td>\n",
       "      <td>компаньон</td>\n",
       "      <td>0</td>\n",
       "      <td>224791</td>\n",
       "      <td>операции с жильем</td>\n",
       "      <td>B</td>\n",
       "      <td>операции с недвижимостью</td>\n",
       "    </tr>\n",
       "    <tr>\n",
       "      <th>21521</th>\n",
       "      <td>0</td>\n",
       "      <td>343937.404131</td>\n",
       "      <td>67</td>\n",
       "      <td>среднее</td>\n",
       "      <td>1</td>\n",
       "      <td>женат / замужем</td>\n",
       "      <td>0</td>\n",
       "      <td>F</td>\n",
       "      <td>пенсионер</td>\n",
       "      <td>0</td>\n",
       "      <td>155999</td>\n",
       "      <td>сделка с автомобилем</td>\n",
       "      <td>C</td>\n",
       "      <td>операции с автомобилем</td>\n",
       "    </tr>\n",
       "    <tr>\n",
       "      <th>21522</th>\n",
       "      <td>1</td>\n",
       "      <td>2113.346888</td>\n",
       "      <td>38</td>\n",
       "      <td>среднее</td>\n",
       "      <td>1</td>\n",
       "      <td>гражданский брак</td>\n",
       "      <td>1</td>\n",
       "      <td>M</td>\n",
       "      <td>сотрудник</td>\n",
       "      <td>1</td>\n",
       "      <td>89672</td>\n",
       "      <td>недвижимость</td>\n",
       "      <td>C</td>\n",
       "      <td>операции с недвижимостью</td>\n",
       "    </tr>\n",
       "    <tr>\n",
       "      <th>21523</th>\n",
       "      <td>3</td>\n",
       "      <td>3112.481705</td>\n",
       "      <td>38</td>\n",
       "      <td>среднее</td>\n",
       "      <td>1</td>\n",
       "      <td>женат / замужем</td>\n",
       "      <td>0</td>\n",
       "      <td>M</td>\n",
       "      <td>сотрудник</td>\n",
       "      <td>1</td>\n",
       "      <td>244093</td>\n",
       "      <td>на покупку своего автомобиля</td>\n",
       "      <td>B</td>\n",
       "      <td>операции с автомобилем</td>\n",
       "    </tr>\n",
       "    <tr>\n",
       "      <th>21524</th>\n",
       "      <td>2</td>\n",
       "      <td>1984.507589</td>\n",
       "      <td>40</td>\n",
       "      <td>среднее</td>\n",
       "      <td>1</td>\n",
       "      <td>женат / замужем</td>\n",
       "      <td>0</td>\n",
       "      <td>F</td>\n",
       "      <td>сотрудник</td>\n",
       "      <td>0</td>\n",
       "      <td>82047</td>\n",
       "      <td>на покупку автомобиля</td>\n",
       "      <td>C</td>\n",
       "      <td>операции с автомобилем</td>\n",
       "    </tr>\n",
       "  </tbody>\n",
       "</table>\n",
       "<p>21331 rows × 14 columns</p>\n",
       "</div>"
      ],
      "text/plain": [
       "       children  days_employed  dob_years education  education_id  \\\n",
       "0             1    8437.673028         42    высшее             0   \n",
       "1             1    4024.803754         36   среднее             1   \n",
       "2             0    5623.422610         33   среднее             1   \n",
       "3             3    4124.747207         32   среднее             1   \n",
       "4             0  340266.072047         53   среднее             1   \n",
       "...         ...            ...        ...       ...           ...   \n",
       "21520         1    4529.316663         43   среднее             1   \n",
       "21521         0  343937.404131         67   среднее             1   \n",
       "21522         1    2113.346888         38   среднее             1   \n",
       "21523         3    3112.481705         38   среднее             1   \n",
       "21524         2    1984.507589         40   среднее             1   \n",
       "\n",
       "          family_status  family_status_id gender income_type  debt  \\\n",
       "0       женат / замужем                 0      F   сотрудник     0   \n",
       "1       женат / замужем                 0      F   сотрудник     0   \n",
       "2       женат / замужем                 0      M   сотрудник     0   \n",
       "3       женат / замужем                 0      M   сотрудник     0   \n",
       "4      гражданский брак                 1      F   пенсионер     0   \n",
       "...                 ...               ...    ...         ...   ...   \n",
       "21520  гражданский брак                 1      F   компаньон     0   \n",
       "21521   женат / замужем                 0      F   пенсионер     0   \n",
       "21522  гражданский брак                 1      M   сотрудник     1   \n",
       "21523   женат / замужем                 0      M   сотрудник     1   \n",
       "21524   женат / замужем                 0      F   сотрудник     0   \n",
       "\n",
       "       total_income                       purpose total_income_category  \\\n",
       "0            253875                 покупка жилья                     B   \n",
       "1            112080       приобретение автомобиля                     C   \n",
       "2            145885                 покупка жилья                     C   \n",
       "3            267628    дополнительное образование                     B   \n",
       "4            158616               сыграть свадьбу                     C   \n",
       "...             ...                           ...                   ...   \n",
       "21520        224791             операции с жильем                     B   \n",
       "21521        155999          сделка с автомобилем                     C   \n",
       "21522         89672                  недвижимость                     C   \n",
       "21523        244093  на покупку своего автомобиля                     B   \n",
       "21524         82047         на покупку автомобиля                     C   \n",
       "\n",
       "               purpose_category  \n",
       "0      операции с недвижимостью  \n",
       "1        операции с автомобилем  \n",
       "2      операции с недвижимостью  \n",
       "3         получение образования  \n",
       "4            проведение свадьбы  \n",
       "...                         ...  \n",
       "21520  операции с недвижимостью  \n",
       "21521    операции с автомобилем  \n",
       "21522  операции с недвижимостью  \n",
       "21523    операции с автомобилем  \n",
       "21524    операции с автомобилем  \n",
       "\n",
       "[21331 rows x 14 columns]"
      ]
     },
     "execution_count": 22,
     "metadata": {},
     "output_type": "execute_result"
    }
   ],
   "source": [
    "data"
   ]
  },
  {
   "cell_type": "code",
   "execution_count": 23,
   "id": "0c8aeaad",
   "metadata": {},
   "outputs": [],
   "source": [
    "def get_report(data, columns):\n",
    "    '''\n",
    "    на вход подается словарь и названия столбцов\n",
    "    на выходе отображается таблица для наглядности\n",
    "    '''\n",
    "    display(round(pd.DataFrame(data.items(), columns=columns), 2))\n",
    "    \n",
    "credit_count = data.shape[0] # общее количество взятых кредитов\n",
    "mean_debt_rate = round(data['debt'].mean() * 100, 2) # средняя доля просрочки кредита"
   ]
  },
  {
   "cell_type": "code",
   "execution_count": 24,
   "id": "ab1c873c",
   "metadata": {},
   "outputs": [
    {
     "data": {
      "text/html": [
       "<div>\n",
       "<style scoped>\n",
       "    .dataframe tbody tr th:only-of-type {\n",
       "        vertical-align: middle;\n",
       "    }\n",
       "\n",
       "    .dataframe tbody tr th {\n",
       "        vertical-align: top;\n",
       "    }\n",
       "\n",
       "    .dataframe thead th {\n",
       "        text-align: right;\n",
       "    }\n",
       "</style>\n",
       "<table border=\"1\" class=\"dataframe\">\n",
       "  <thead>\n",
       "    <tr style=\"text-align: right;\">\n",
       "      <th></th>\n",
       "      <th>Кол-во детей</th>\n",
       "      <th>Процент просрочки</th>\n",
       "    </tr>\n",
       "  </thead>\n",
       "  <tbody>\n",
       "    <tr>\n",
       "      <th>0</th>\n",
       "      <td>0</td>\n",
       "      <td>7.54</td>\n",
       "    </tr>\n",
       "    <tr>\n",
       "      <th>1</th>\n",
       "      <td>1</td>\n",
       "      <td>9.23</td>\n",
       "    </tr>\n",
       "    <tr>\n",
       "      <th>2</th>\n",
       "      <td>2</td>\n",
       "      <td>9.45</td>\n",
       "    </tr>\n",
       "    <tr>\n",
       "      <th>3</th>\n",
       "      <td>3</td>\n",
       "      <td>8.18</td>\n",
       "    </tr>\n",
       "    <tr>\n",
       "      <th>4</th>\n",
       "      <td>4</td>\n",
       "      <td>9.76</td>\n",
       "    </tr>\n",
       "    <tr>\n",
       "      <th>5</th>\n",
       "      <td>5</td>\n",
       "      <td>0.00</td>\n",
       "    </tr>\n",
       "  </tbody>\n",
       "</table>\n",
       "</div>"
      ],
      "text/plain": [
       "   Кол-во детей  Процент просрочки\n",
       "0             0               7.54\n",
       "1             1               9.23\n",
       "2             2               9.45\n",
       "3             3               8.18\n",
       "4             4               9.76\n",
       "5             5               0.00"
      ]
     },
     "metadata": {},
     "output_type": "display_data"
    }
   ],
   "source": [
    "result = data.groupby('children')['debt'].mean()*100\n",
    "\n",
    "get_report(result, ['Кол-во детей', 'Процент просрочки'])"
   ]
  },
  {
   "cell_type": "markdown",
   "id": "5064da6b",
   "metadata": {},
   "source": [
    "Категория людей без детей имеет самый низкий процент невозврата. Если посмотреть на строки 0, 1, 2 и 4 мы видим, что с ростом количества детей начинает снижаться возврат кредита. Но строка 5 имеет подозрительное значение 0%, посмотрим внимательнее"
   ]
  },
  {
   "cell_type": "code",
   "execution_count": 25,
   "id": "2eb4ed7d",
   "metadata": {
    "id": "2cacfc4a"
   },
   "outputs": [
    {
     "data": {
      "text/html": [
       "<div>\n",
       "<style scoped>\n",
       "    .dataframe tbody tr th:only-of-type {\n",
       "        vertical-align: middle;\n",
       "    }\n",
       "\n",
       "    .dataframe tbody tr th {\n",
       "        vertical-align: top;\n",
       "    }\n",
       "\n",
       "    .dataframe thead th {\n",
       "        text-align: right;\n",
       "    }\n",
       "</style>\n",
       "<table border=\"1\" class=\"dataframe\">\n",
       "  <thead>\n",
       "    <tr style=\"text-align: right;\">\n",
       "      <th></th>\n",
       "      <th>Кол-во детей</th>\n",
       "      <th>Процент от взятых кредитов</th>\n",
       "    </tr>\n",
       "  </thead>\n",
       "  <tbody>\n",
       "    <tr>\n",
       "      <th>0</th>\n",
       "      <td>0</td>\n",
       "      <td>66.06</td>\n",
       "    </tr>\n",
       "    <tr>\n",
       "      <th>1</th>\n",
       "      <td>1</td>\n",
       "      <td>22.54</td>\n",
       "    </tr>\n",
       "    <tr>\n",
       "      <th>2</th>\n",
       "      <td>2</td>\n",
       "      <td>9.62</td>\n",
       "    </tr>\n",
       "    <tr>\n",
       "      <th>3</th>\n",
       "      <td>3</td>\n",
       "      <td>1.55</td>\n",
       "    </tr>\n",
       "    <tr>\n",
       "      <th>4</th>\n",
       "      <td>4</td>\n",
       "      <td>0.19</td>\n",
       "    </tr>\n",
       "    <tr>\n",
       "      <th>5</th>\n",
       "      <td>5</td>\n",
       "      <td>0.04</td>\n",
       "    </tr>\n",
       "  </tbody>\n",
       "</table>\n",
       "</div>"
      ],
      "text/plain": [
       "   Кол-во детей  Процент от взятых кредитов\n",
       "0             0                       66.06\n",
       "1             1                       22.54\n",
       "2             2                        9.62\n",
       "3             3                        1.55\n",
       "4             4                        0.19\n",
       "5             5                        0.04"
      ]
     },
     "metadata": {},
     "output_type": "display_data"
    }
   ],
   "source": [
    "result = data['children'].value_counts() / credit_count * 100\n",
    "get_report(result, ['Кол-во детей', 'Процент от взятых кредитов'])"
   ]
  },
  {
   "cell_type": "markdown",
   "id": "a2c033dd",
   "metadata": {},
   "source": [
    "Заемщиков с 4 и 5 детьми крайне мало, чтобы можно было сделать какой-либо вывод."
   ]
  },
  {
   "cell_type": "code",
   "execution_count": 26,
   "id": "9fb8f653",
   "metadata": {},
   "outputs": [
    {
     "data": {
      "text/html": [
       "<div>\n",
       "<style scoped>\n",
       "    .dataframe tbody tr th:only-of-type {\n",
       "        vertical-align: middle;\n",
       "    }\n",
       "\n",
       "    .dataframe tbody tr th {\n",
       "        vertical-align: top;\n",
       "    }\n",
       "\n",
       "    .dataframe thead th {\n",
       "        text-align: right;\n",
       "    }\n",
       "</style>\n",
       "<table border=\"1\" class=\"dataframe\">\n",
       "  <thead>\n",
       "    <tr style=\"text-align: right;\">\n",
       "      <th></th>\n",
       "      <th>есть дети</th>\n",
       "      <th>Процент просрочки</th>\n",
       "    </tr>\n",
       "  </thead>\n",
       "  <tbody>\n",
       "    <tr>\n",
       "      <th>0</th>\n",
       "      <td>нет</td>\n",
       "      <td>7.54</td>\n",
       "    </tr>\n",
       "    <tr>\n",
       "      <th>1</th>\n",
       "      <td>есть</td>\n",
       "      <td>9.24</td>\n",
       "    </tr>\n",
       "  </tbody>\n",
       "</table>\n",
       "</div>"
      ],
      "text/plain": [
       "  есть дети  Процент просрочки\n",
       "0       нет               7.54\n",
       "1      есть               9.24"
      ]
     },
     "metadata": {},
     "output_type": "display_data"
    }
   ],
   "source": [
    "result = {'нет': data.loc[data['children']==0, 'debt'].mean()*100,\n",
    "          'есть': data.loc[data['children']!=0, 'debt'].mean()*100}\n",
    "\n",
    "get_report(result, ['есть дети', 'Процент просрочки'])"
   ]
  },
  {
   "cell_type": "markdown",
   "id": "032f0fb0",
   "metadata": {
    "id": "3a6b99ec"
   },
   "source": [
    "**Вывод:** <br>\n",
    "Не хватает данных, что установить прямую зависимость между количеством детей и возвратом кредита. Однако те, кто не имеет детей, возвращают кредиты лучше, чем заемщики с детьми."
   ]
  },
  {
   "cell_type": "code",
   "execution_count": 27,
   "id": "abe200a9",
   "metadata": {
    "id": "dc3f7ee8"
   },
   "outputs": [
    {
     "data": {
      "text/html": [
       "<div>\n",
       "<style scoped>\n",
       "    .dataframe tbody tr th:only-of-type {\n",
       "        vertical-align: middle;\n",
       "    }\n",
       "\n",
       "    .dataframe tbody tr th {\n",
       "        vertical-align: top;\n",
       "    }\n",
       "\n",
       "    .dataframe thead th {\n",
       "        text-align: right;\n",
       "    }\n",
       "</style>\n",
       "<table border=\"1\" class=\"dataframe\">\n",
       "  <thead>\n",
       "    <tr style=\"text-align: right;\">\n",
       "      <th></th>\n",
       "      <th>семейный статус</th>\n",
       "      <th>Процент просрочки</th>\n",
       "    </tr>\n",
       "  </thead>\n",
       "  <tbody>\n",
       "    <tr>\n",
       "      <th>0</th>\n",
       "      <td>Не женат / не замужем</td>\n",
       "      <td>9.76</td>\n",
       "    </tr>\n",
       "    <tr>\n",
       "      <th>1</th>\n",
       "      <td>в разводе</td>\n",
       "      <td>7.06</td>\n",
       "    </tr>\n",
       "    <tr>\n",
       "      <th>2</th>\n",
       "      <td>вдовец / вдова</td>\n",
       "      <td>6.62</td>\n",
       "    </tr>\n",
       "    <tr>\n",
       "      <th>3</th>\n",
       "      <td>гражданский брак</td>\n",
       "      <td>9.31</td>\n",
       "    </tr>\n",
       "    <tr>\n",
       "      <th>4</th>\n",
       "      <td>женат / замужем</td>\n",
       "      <td>7.56</td>\n",
       "    </tr>\n",
       "  </tbody>\n",
       "</table>\n",
       "</div>"
      ],
      "text/plain": [
       "         семейный статус  Процент просрочки\n",
       "0  Не женат / не замужем               9.76\n",
       "1              в разводе               7.06\n",
       "2         вдовец / вдова               6.62\n",
       "3       гражданский брак               9.31\n",
       "4        женат / замужем               7.56"
      ]
     },
     "metadata": {},
     "output_type": "display_data"
    }
   ],
   "source": [
    "result = data.groupby('family_status')['debt'].mean()*100\n",
    "\n",
    "get_report(result, ['семейный статус', 'Процент просрочки'])"
   ]
  },
  {
   "cell_type": "code",
   "execution_count": 28,
   "id": "886b1524",
   "metadata": {},
   "outputs": [
    {
     "data": {
      "text/html": [
       "<div>\n",
       "<style scoped>\n",
       "    .dataframe tbody tr th:only-of-type {\n",
       "        vertical-align: middle;\n",
       "    }\n",
       "\n",
       "    .dataframe tbody tr th {\n",
       "        vertical-align: top;\n",
       "    }\n",
       "\n",
       "    .dataframe thead th {\n",
       "        text-align: right;\n",
       "    }\n",
       "</style>\n",
       "<table border=\"1\" class=\"dataframe\">\n",
       "  <thead>\n",
       "    <tr style=\"text-align: right;\">\n",
       "      <th></th>\n",
       "      <th>семейный статус</th>\n",
       "      <th>Процент от взятых кредитов</th>\n",
       "    </tr>\n",
       "  </thead>\n",
       "  <tbody>\n",
       "    <tr>\n",
       "      <th>0</th>\n",
       "      <td>женат / замужем</td>\n",
       "      <td>57.48</td>\n",
       "    </tr>\n",
       "    <tr>\n",
       "      <th>1</th>\n",
       "      <td>гражданский брак</td>\n",
       "      <td>19.38</td>\n",
       "    </tr>\n",
       "    <tr>\n",
       "      <th>2</th>\n",
       "      <td>Не женат / не замужем</td>\n",
       "      <td>13.11</td>\n",
       "    </tr>\n",
       "    <tr>\n",
       "      <th>3</th>\n",
       "      <td>в разводе</td>\n",
       "      <td>5.57</td>\n",
       "    </tr>\n",
       "    <tr>\n",
       "      <th>4</th>\n",
       "      <td>вдовец / вдова</td>\n",
       "      <td>4.46</td>\n",
       "    </tr>\n",
       "  </tbody>\n",
       "</table>\n",
       "</div>"
      ],
      "text/plain": [
       "         семейный статус  Процент от взятых кредитов\n",
       "0        женат / замужем                       57.48\n",
       "1       гражданский брак                       19.38\n",
       "2  Не женат / не замужем                       13.11\n",
       "3              в разводе                        5.57\n",
       "4         вдовец / вдова                        4.46"
      ]
     },
     "metadata": {},
     "output_type": "display_data"
    }
   ],
   "source": [
    "result = data['family_status'].value_counts() / credit_count * 100\n",
    "get_report(result, ['семейный статус', 'Процент от взятых кредитов'])"
   ]
  },
  {
   "cell_type": "markdown",
   "id": "70a03a64",
   "metadata": {
    "id": "1cef7837"
   },
   "source": [
    "**Вывод:** <br>\n",
    "Граждане, никогда не находившиеся в официальных отношениях (**Не женат / не замужем** и  **гражданский брак**), хуже возвращают кредит. "
   ]
  },
  {
   "cell_type": "code",
   "execution_count": 29,
   "id": "6652d86b",
   "metadata": {
    "id": "cd7e3720"
   },
   "outputs": [
    {
     "data": {
      "text/html": [
       "<div>\n",
       "<style scoped>\n",
       "    .dataframe tbody tr th:only-of-type {\n",
       "        vertical-align: middle;\n",
       "    }\n",
       "\n",
       "    .dataframe tbody tr th {\n",
       "        vertical-align: top;\n",
       "    }\n",
       "\n",
       "    .dataframe thead th {\n",
       "        text-align: right;\n",
       "    }\n",
       "</style>\n",
       "<table border=\"1\" class=\"dataframe\">\n",
       "  <thead>\n",
       "    <tr style=\"text-align: right;\">\n",
       "      <th></th>\n",
       "      <th>Категория дохода</th>\n",
       "      <th>Взято кредитов</th>\n",
       "    </tr>\n",
       "  </thead>\n",
       "  <tbody>\n",
       "    <tr>\n",
       "      <th>0</th>\n",
       "      <td>A</td>\n",
       "      <td>8.00</td>\n",
       "    </tr>\n",
       "    <tr>\n",
       "      <th>1</th>\n",
       "      <td>B</td>\n",
       "      <td>7.06</td>\n",
       "    </tr>\n",
       "    <tr>\n",
       "      <th>2</th>\n",
       "      <td>C</td>\n",
       "      <td>8.50</td>\n",
       "    </tr>\n",
       "    <tr>\n",
       "      <th>3</th>\n",
       "      <td>D</td>\n",
       "      <td>6.02</td>\n",
       "    </tr>\n",
       "    <tr>\n",
       "      <th>4</th>\n",
       "      <td>E</td>\n",
       "      <td>9.09</td>\n",
       "    </tr>\n",
       "  </tbody>\n",
       "</table>\n",
       "</div>"
      ],
      "text/plain": [
       "  Категория дохода  Взято кредитов\n",
       "0                A            8.00\n",
       "1                B            7.06\n",
       "2                C            8.50\n",
       "3                D            6.02\n",
       "4                E            9.09"
      ]
     },
     "metadata": {},
     "output_type": "display_data"
    }
   ],
   "source": [
    "result = data.groupby('total_income_category')['debt'].mean()*100\n",
    "get_report(result, ['Категория дохода', 'Взято кредитов'])"
   ]
  },
  {
   "cell_type": "code",
   "execution_count": 30,
   "id": "250dcf13",
   "metadata": {},
   "outputs": [
    {
     "data": {
      "text/html": [
       "<div>\n",
       "<style scoped>\n",
       "    .dataframe tbody tr th:only-of-type {\n",
       "        vertical-align: middle;\n",
       "    }\n",
       "\n",
       "    .dataframe tbody tr th {\n",
       "        vertical-align: top;\n",
       "    }\n",
       "\n",
       "    .dataframe thead th {\n",
       "        text-align: right;\n",
       "    }\n",
       "</style>\n",
       "<table border=\"1\" class=\"dataframe\">\n",
       "  <thead>\n",
       "    <tr style=\"text-align: right;\">\n",
       "      <th></th>\n",
       "      <th>Категория дохода</th>\n",
       "      <th>Процент от взятых кредитов</th>\n",
       "    </tr>\n",
       "  </thead>\n",
       "  <tbody>\n",
       "    <tr>\n",
       "      <th>0</th>\n",
       "      <td>C</td>\n",
       "      <td>74.64</td>\n",
       "    </tr>\n",
       "    <tr>\n",
       "      <th>1</th>\n",
       "      <td>B</td>\n",
       "      <td>23.51</td>\n",
       "    </tr>\n",
       "    <tr>\n",
       "      <th>2</th>\n",
       "      <td>D</td>\n",
       "      <td>1.64</td>\n",
       "    </tr>\n",
       "    <tr>\n",
       "      <th>3</th>\n",
       "      <td>A</td>\n",
       "      <td>0.12</td>\n",
       "    </tr>\n",
       "    <tr>\n",
       "      <th>4</th>\n",
       "      <td>E</td>\n",
       "      <td>0.10</td>\n",
       "    </tr>\n",
       "  </tbody>\n",
       "</table>\n",
       "</div>"
      ],
      "text/plain": [
       "  Категория дохода  Процент от взятых кредитов\n",
       "0                C                       74.64\n",
       "1                B                       23.51\n",
       "2                D                        1.64\n",
       "3                A                        0.12\n",
       "4                E                        0.10"
      ]
     },
     "metadata": {},
     "output_type": "display_data"
    }
   ],
   "source": [
    "result = data['total_income_category'].value_counts() / credit_count * 100\n",
    "get_report(result, ['Категория дохода', 'Процент от взятых кредитов'])"
   ]
  },
  {
   "cell_type": "markdown",
   "id": "d3e0e794",
   "metadata": {
    "id": "e8593def"
   },
   "source": [
    "**Вывод:** <br>\n",
    "Согласно предложенной выше категоризацией доходов, зависимости между уровнем дохода и возвратом кредита нет."
   ]
  },
  {
   "cell_type": "code",
   "execution_count": 31,
   "id": "9c0a8539",
   "metadata": {
    "id": "2b687290"
   },
   "outputs": [
    {
     "data": {
      "text/html": [
       "<div>\n",
       "<style scoped>\n",
       "    .dataframe tbody tr th:only-of-type {\n",
       "        vertical-align: middle;\n",
       "    }\n",
       "\n",
       "    .dataframe tbody tr th {\n",
       "        vertical-align: top;\n",
       "    }\n",
       "\n",
       "    .dataframe thead th {\n",
       "        text-align: right;\n",
       "    }\n",
       "</style>\n",
       "<table border=\"1\" class=\"dataframe\">\n",
       "  <thead>\n",
       "    <tr style=\"text-align: right;\">\n",
       "      <th></th>\n",
       "      <th>Категория дохода</th>\n",
       "      <th>Взято кредитов</th>\n",
       "    </tr>\n",
       "  </thead>\n",
       "  <tbody>\n",
       "    <tr>\n",
       "      <th>0</th>\n",
       "      <td>операции с автомобилем</td>\n",
       "      <td>9.35</td>\n",
       "    </tr>\n",
       "    <tr>\n",
       "      <th>1</th>\n",
       "      <td>операции с недвижимостью</td>\n",
       "      <td>7.26</td>\n",
       "    </tr>\n",
       "    <tr>\n",
       "      <th>2</th>\n",
       "      <td>получение образования</td>\n",
       "      <td>9.25</td>\n",
       "    </tr>\n",
       "    <tr>\n",
       "      <th>3</th>\n",
       "      <td>проведение свадьбы</td>\n",
       "      <td>7.91</td>\n",
       "    </tr>\n",
       "  </tbody>\n",
       "</table>\n",
       "</div>"
      ],
      "text/plain": [
       "           Категория дохода  Взято кредитов\n",
       "0    операции с автомобилем            9.35\n",
       "1  операции с недвижимостью            7.26\n",
       "2     получение образования            9.25\n",
       "3        проведение свадьбы            7.91"
      ]
     },
     "metadata": {},
     "output_type": "display_data"
    }
   ],
   "source": [
    "result = data.groupby('purpose_category')['debt'].mean()*100\n",
    "get_report(result, ['Категория дохода', 'Взято кредитов'])"
   ]
  },
  {
   "cell_type": "code",
   "execution_count": 32,
   "id": "85a09cbc",
   "metadata": {},
   "outputs": [
    {
     "data": {
      "text/html": [
       "<div>\n",
       "<style scoped>\n",
       "    .dataframe tbody tr th:only-of-type {\n",
       "        vertical-align: middle;\n",
       "    }\n",
       "\n",
       "    .dataframe tbody tr th {\n",
       "        vertical-align: top;\n",
       "    }\n",
       "\n",
       "    .dataframe thead th {\n",
       "        text-align: right;\n",
       "    }\n",
       "</style>\n",
       "<table border=\"1\" class=\"dataframe\">\n",
       "  <thead>\n",
       "    <tr style=\"text-align: right;\">\n",
       "      <th></th>\n",
       "      <th>цель кредита</th>\n",
       "      <th>Процент от взятых кредитов</th>\n",
       "    </tr>\n",
       "  </thead>\n",
       "  <tbody>\n",
       "    <tr>\n",
       "      <th>0</th>\n",
       "      <td>операции с недвижимостью</td>\n",
       "      <td>50.40</td>\n",
       "    </tr>\n",
       "    <tr>\n",
       "      <th>1</th>\n",
       "      <td>операции с автомобилем</td>\n",
       "      <td>20.06</td>\n",
       "    </tr>\n",
       "    <tr>\n",
       "      <th>2</th>\n",
       "      <td>получение образования</td>\n",
       "      <td>18.70</td>\n",
       "    </tr>\n",
       "    <tr>\n",
       "      <th>3</th>\n",
       "      <td>проведение свадьбы</td>\n",
       "      <td>10.84</td>\n",
       "    </tr>\n",
       "  </tbody>\n",
       "</table>\n",
       "</div>"
      ],
      "text/plain": [
       "               цель кредита  Процент от взятых кредитов\n",
       "0  операции с недвижимостью                       50.40\n",
       "1    операции с автомобилем                       20.06\n",
       "2     получение образования                       18.70\n",
       "3        проведение свадьбы                       10.84"
      ]
     },
     "metadata": {},
     "output_type": "display_data"
    }
   ],
   "source": [
    "result = data['purpose_category'].value_counts() / credit_count * 100\n",
    "get_report(result, ['цель кредита', 'Процент от взятых кредитов'])"
   ]
  },
  {
   "cell_type": "markdown",
   "id": "4fd3055d",
   "metadata": {
    "id": "b4bb2ce6"
   },
   "source": [
    "**Вывод:** <br>\n",
    "Операции с недвижимостью и проведение свадьбы имеют лучший процент возврата, чем затраты на образование и автомобиль. Интересно, связано ли это с выводом из одного из прошлых заданий, что связанные узами брака более дисциплинированно исполняют кредитные обязательства."
   ]
  },
  {
   "cell_type": "markdown",
   "id": "c51bbb02",
   "metadata": {
    "id": "bad65432"
   },
   "source": [
    "## Общий вывод.\n",
    "\n",
    "Категоризация данных не везде сработала хорошо, поскольку появились категории с малым количеством наблюдений. <br>\n",
    "Пропущенные данные в столбце *total_income* в размере ~10% от общего объема данных не помешали исследованию <br> \n",
    "Женатые/замужние, а так же бездетные берут кредиты чаще, чем все остальные. <br>\n",
    "При этот чаще всего просрочка по кредиту возникает у холостых<br>\n"
   ]
  },
  {
   "cell_type": "code",
   "execution_count": null,
   "id": "72da4331",
   "metadata": {},
   "outputs": [],
   "source": []
  },
  {
   "cell_type": "code",
   "execution_count": null,
   "id": "458b6e93",
   "metadata": {},
   "outputs": [],
   "source": []
  }
 ],
 "metadata": {
  "ExecuteTimeLog": [
   {
    "duration": 51,
    "start_time": "2022-10-23T14:12:10.342Z"
   },
   {
    "duration": 2,
    "start_time": "2022-10-23T14:12:16.163Z"
   },
   {
    "duration": 582,
    "start_time": "2022-10-23T17:22:12.603Z"
   },
   {
    "duration": 41,
    "start_time": "2022-10-23T17:22:13.188Z"
   },
   {
    "duration": 17,
    "start_time": "2022-10-23T17:22:13.231Z"
   },
   {
    "duration": 15,
    "start_time": "2022-10-23T17:22:13.250Z"
   },
   {
    "duration": 68,
    "start_time": "2022-10-23T17:22:13.267Z"
   },
   {
    "duration": 4,
    "start_time": "2022-10-23T17:22:13.337Z"
   },
   {
    "duration": 10,
    "start_time": "2022-10-23T17:22:13.343Z"
   },
   {
    "duration": 6,
    "start_time": "2022-10-23T17:22:13.354Z"
   },
   {
    "duration": 11,
    "start_time": "2022-10-23T17:22:13.361Z"
   },
   {
    "duration": 40,
    "start_time": "2022-10-23T17:22:13.375Z"
   },
   {
    "duration": 58,
    "start_time": "2022-10-23T17:22:13.417Z"
   },
   {
    "duration": 14,
    "start_time": "2022-10-23T17:22:13.477Z"
   },
   {
    "duration": 4,
    "start_time": "2022-10-23T17:22:13.492Z"
   },
   {
    "duration": 48,
    "start_time": "2022-10-23T17:22:13.498Z"
   },
   {
    "duration": 34,
    "start_time": "2022-10-23T17:22:13.548Z"
   },
   {
    "duration": 35,
    "start_time": "2022-10-23T17:22:13.584Z"
   },
   {
    "duration": 5,
    "start_time": "2022-10-23T17:22:13.622Z"
   },
   {
    "duration": 14,
    "start_time": "2022-10-23T17:22:13.629Z"
   },
   {
    "duration": 13,
    "start_time": "2022-10-23T17:22:13.645Z"
   },
   {
    "duration": 7,
    "start_time": "2022-10-23T17:22:13.660Z"
   },
   {
    "duration": 16,
    "start_time": "2022-10-23T17:22:13.669Z"
   },
   {
    "duration": 2,
    "start_time": "2022-10-23T17:22:13.687Z"
   },
   {
    "duration": 5,
    "start_time": "2022-10-23T17:22:13.691Z"
   },
   {
    "duration": 17,
    "start_time": "2022-10-23T17:22:13.698Z"
   },
   {
    "duration": 18,
    "start_time": "2022-10-23T17:22:13.716Z"
   },
   {
    "duration": 13,
    "start_time": "2022-10-23T17:23:41.628Z"
   },
   {
    "duration": 8,
    "start_time": "2022-10-23T17:26:02.873Z"
   },
   {
    "duration": 8,
    "start_time": "2022-10-23T17:31:22.045Z"
   },
   {
    "duration": 6,
    "start_time": "2022-10-23T17:31:43.317Z"
   },
   {
    "duration": 7,
    "start_time": "2022-10-23T17:33:22.368Z"
   },
   {
    "duration": 7,
    "start_time": "2022-10-23T17:33:51.694Z"
   },
   {
    "duration": 7,
    "start_time": "2022-10-23T17:34:47.131Z"
   },
   {
    "duration": 627,
    "start_time": "2022-10-23T17:40:18.877Z"
   },
   {
    "duration": 486,
    "start_time": "2022-10-23T17:40:26.378Z"
   },
   {
    "duration": 5,
    "start_time": "2022-10-23T17:40:34.861Z"
   },
   {
    "duration": 4,
    "start_time": "2022-10-23T17:40:45.963Z"
   },
   {
    "duration": 6,
    "start_time": "2022-10-23T17:40:57.059Z"
   },
   {
    "duration": 5,
    "start_time": "2022-10-23T17:41:01.978Z"
   },
   {
    "duration": 6,
    "start_time": "2022-10-23T17:41:08.306Z"
   },
   {
    "duration": 6,
    "start_time": "2022-10-23T17:41:12.602Z"
   },
   {
    "duration": 7,
    "start_time": "2022-10-23T17:41:15.728Z"
   },
   {
    "duration": 7,
    "start_time": "2022-10-23T17:41:24.761Z"
   },
   {
    "duration": 5,
    "start_time": "2022-10-23T17:46:39.603Z"
   },
   {
    "duration": 2,
    "start_time": "2022-10-23T17:47:21.610Z"
   },
   {
    "duration": 41,
    "start_time": "2022-10-23T17:47:25.297Z"
   },
   {
    "duration": 3,
    "start_time": "2022-10-23T17:47:29.297Z"
   },
   {
    "duration": 4,
    "start_time": "2022-10-23T17:47:49.984Z"
   },
   {
    "duration": 5,
    "start_time": "2022-10-23T17:48:31.678Z"
   },
   {
    "duration": 5,
    "start_time": "2022-10-23T17:48:36.998Z"
   },
   {
    "duration": 6,
    "start_time": "2022-10-23T17:49:04.165Z"
   },
   {
    "duration": 4,
    "start_time": "2022-10-23T17:49:12.085Z"
   },
   {
    "duration": 6,
    "start_time": "2022-10-23T17:49:15.931Z"
   },
   {
    "duration": 6,
    "start_time": "2022-10-23T17:49:21.100Z"
   },
   {
    "duration": 6,
    "start_time": "2022-10-23T17:49:23.762Z"
   },
   {
    "duration": 6,
    "start_time": "2022-10-23T17:50:27.505Z"
   },
   {
    "duration": 6,
    "start_time": "2022-10-23T17:50:34.201Z"
   },
   {
    "duration": 55,
    "start_time": "2022-10-23T17:50:56.791Z"
   },
   {
    "duration": 9,
    "start_time": "2022-10-23T17:51:27.438Z"
   },
   {
    "duration": 8,
    "start_time": "2022-10-23T17:51:40.966Z"
   },
   {
    "duration": 6,
    "start_time": "2022-10-23T17:51:44.005Z"
   },
   {
    "duration": 9,
    "start_time": "2022-10-23T17:51:44.677Z"
   },
   {
    "duration": 4,
    "start_time": "2022-10-23T17:51:53.997Z"
   },
   {
    "duration": 5,
    "start_time": "2022-10-23T17:51:58.437Z"
   },
   {
    "duration": 6,
    "start_time": "2022-10-23T17:52:01.925Z"
   },
   {
    "duration": 10,
    "start_time": "2022-10-23T17:53:53.463Z"
   },
   {
    "duration": 8,
    "start_time": "2022-10-23T17:54:01.791Z"
   },
   {
    "duration": 10,
    "start_time": "2022-10-23T17:54:05.151Z"
   },
   {
    "duration": 7,
    "start_time": "2022-10-23T17:54:53.765Z"
   },
   {
    "duration": 8,
    "start_time": "2022-10-23T17:55:04.772Z"
   },
   {
    "duration": 4,
    "start_time": "2022-10-23T18:09:27.069Z"
   },
   {
    "duration": 16,
    "start_time": "2022-10-23T18:10:38.012Z"
   },
   {
    "duration": 11,
    "start_time": "2022-10-23T18:12:49.651Z"
   },
   {
    "duration": 11,
    "start_time": "2022-10-23T18:12:56.947Z"
   },
   {
    "duration": 13,
    "start_time": "2022-10-23T18:14:25.480Z"
   },
   {
    "duration": 71,
    "start_time": "2022-10-23T18:14:40.686Z"
   },
   {
    "duration": 18,
    "start_time": "2022-10-23T18:14:52.916Z"
   },
   {
    "duration": 11,
    "start_time": "2022-10-23T18:19:12.650Z"
   },
   {
    "duration": 8,
    "start_time": "2022-10-23T18:21:57.490Z"
   },
   {
    "duration": 9,
    "start_time": "2022-10-23T18:21:59.658Z"
   },
   {
    "duration": 10,
    "start_time": "2022-10-23T18:33:47.896Z"
   },
   {
    "duration": 10,
    "start_time": "2022-10-23T18:33:54.024Z"
   },
   {
    "duration": 923,
    "start_time": "2022-10-23T18:34:28.294Z"
   },
   {
    "duration": 1211,
    "start_time": "2022-10-23T18:34:42.594Z"
   },
   {
    "duration": 20,
    "start_time": "2022-10-23T18:34:43.807Z"
   },
   {
    "duration": 14,
    "start_time": "2022-10-23T18:34:43.829Z"
   },
   {
    "duration": 10,
    "start_time": "2022-10-23T18:34:43.845Z"
   },
   {
    "duration": 53,
    "start_time": "2022-10-23T18:34:43.857Z"
   },
   {
    "duration": 3,
    "start_time": "2022-10-23T18:34:43.912Z"
   },
   {
    "duration": 9,
    "start_time": "2022-10-23T18:34:43.917Z"
   },
   {
    "duration": 5,
    "start_time": "2022-10-23T18:34:43.928Z"
   },
   {
    "duration": 9,
    "start_time": "2022-10-23T18:34:43.935Z"
   },
   {
    "duration": 5,
    "start_time": "2022-10-23T18:34:43.946Z"
   },
   {
    "duration": 68,
    "start_time": "2022-10-23T18:34:43.952Z"
   },
   {
    "duration": 11,
    "start_time": "2022-10-23T18:34:44.022Z"
   },
   {
    "duration": 7,
    "start_time": "2022-10-23T18:34:44.034Z"
   },
   {
    "duration": 15,
    "start_time": "2022-10-23T18:34:44.042Z"
   },
   {
    "duration": 22,
    "start_time": "2022-10-23T18:34:44.058Z"
   },
   {
    "duration": 36,
    "start_time": "2022-10-23T18:34:44.082Z"
   },
   {
    "duration": 3,
    "start_time": "2022-10-23T18:34:44.120Z"
   },
   {
    "duration": 13,
    "start_time": "2022-10-23T18:34:44.124Z"
   },
   {
    "duration": 6,
    "start_time": "2022-10-23T18:34:44.138Z"
   },
   {
    "duration": 4,
    "start_time": "2022-10-23T18:34:44.146Z"
   },
   {
    "duration": 12,
    "start_time": "2022-10-23T18:34:44.151Z"
   },
   {
    "duration": 5,
    "start_time": "2022-10-23T18:34:44.165Z"
   },
   {
    "duration": 39,
    "start_time": "2022-10-23T18:34:44.171Z"
   },
   {
    "duration": 8,
    "start_time": "2022-10-23T18:34:44.211Z"
   },
   {
    "duration": 12,
    "start_time": "2022-10-23T18:34:44.220Z"
   },
   {
    "duration": 3,
    "start_time": "2022-10-23T18:34:44.234Z"
   },
   {
    "duration": 5,
    "start_time": "2022-10-23T18:34:44.238Z"
   },
   {
    "duration": 3,
    "start_time": "2022-10-23T18:34:44.246Z"
   },
   {
    "duration": 15,
    "start_time": "2022-10-23T18:44:45.748Z"
   },
   {
    "duration": 10,
    "start_time": "2022-10-23T18:47:15.165Z"
   },
   {
    "duration": 9,
    "start_time": "2022-10-23T19:02:49.457Z"
   },
   {
    "duration": 10,
    "start_time": "2022-10-23T19:03:15.815Z"
   },
   {
    "duration": 9,
    "start_time": "2022-10-23T19:15:39.494Z"
   },
   {
    "duration": 9,
    "start_time": "2022-10-23T19:15:45.085Z"
   },
   {
    "duration": 10,
    "start_time": "2022-10-23T19:15:55.003Z"
   },
   {
    "duration": 4,
    "start_time": "2022-10-23T20:01:29.269Z"
   },
   {
    "duration": 9,
    "start_time": "2022-10-23T20:01:31.940Z"
   },
   {
    "duration": 474,
    "start_time": "2022-10-23T20:41:02.098Z"
   },
   {
    "duration": 24,
    "start_time": "2022-10-23T20:41:02.574Z"
   },
   {
    "duration": 19,
    "start_time": "2022-10-23T20:41:02.600Z"
   },
   {
    "duration": 20,
    "start_time": "2022-10-23T20:41:02.621Z"
   },
   {
    "duration": 33,
    "start_time": "2022-10-23T20:41:02.642Z"
   },
   {
    "duration": 3,
    "start_time": "2022-10-23T20:41:02.677Z"
   },
   {
    "duration": 12,
    "start_time": "2022-10-23T20:41:02.681Z"
   },
   {
    "duration": 14,
    "start_time": "2022-10-23T20:41:02.711Z"
   },
   {
    "duration": 9,
    "start_time": "2022-10-23T20:41:02.726Z"
   },
   {
    "duration": 4,
    "start_time": "2022-10-23T20:41:02.738Z"
   },
   {
    "duration": 39,
    "start_time": "2022-10-23T20:41:02.744Z"
   },
   {
    "duration": 12,
    "start_time": "2022-10-23T20:41:02.784Z"
   },
   {
    "duration": 5,
    "start_time": "2022-10-23T20:41:02.821Z"
   },
   {
    "duration": 13,
    "start_time": "2022-10-23T20:41:02.827Z"
   },
   {
    "duration": 23,
    "start_time": "2022-10-23T20:41:02.842Z"
   },
   {
    "duration": 17,
    "start_time": "2022-10-23T20:41:02.866Z"
   },
   {
    "duration": 4,
    "start_time": "2022-10-23T20:41:02.884Z"
   },
   {
    "duration": 39,
    "start_time": "2022-10-23T20:41:02.889Z"
   },
   {
    "duration": 9,
    "start_time": "2022-10-23T20:41:02.930Z"
   },
   {
    "duration": 6,
    "start_time": "2022-10-23T20:41:02.941Z"
   },
   {
    "duration": 18,
    "start_time": "2022-10-23T20:41:02.948Z"
   },
   {
    "duration": 3,
    "start_time": "2022-10-23T20:41:02.968Z"
   },
   {
    "duration": 17,
    "start_time": "2022-10-23T20:41:02.972Z"
   },
   {
    "duration": 10,
    "start_time": "2022-10-23T20:41:02.991Z"
   },
   {
    "duration": 26,
    "start_time": "2022-10-23T20:41:03.002Z"
   },
   {
    "duration": 14,
    "start_time": "2022-10-23T20:41:03.029Z"
   },
   {
    "duration": 13,
    "start_time": "2022-10-23T20:41:03.045Z"
   },
   {
    "duration": 13,
    "start_time": "2022-10-23T20:41:03.061Z"
   },
   {
    "duration": 10,
    "start_time": "2022-10-23T20:41:03.076Z"
   },
   {
    "duration": 15,
    "start_time": "2022-10-23T20:41:03.120Z"
   },
   {
    "duration": 11,
    "start_time": "2022-10-23T20:41:03.137Z"
   },
   {
    "duration": 1112,
    "start_time": "2022-10-24T12:55:55.294Z"
   },
   {
    "duration": 31,
    "start_time": "2022-10-24T12:55:56.408Z"
   },
   {
    "duration": 21,
    "start_time": "2022-10-24T12:55:56.441Z"
   },
   {
    "duration": 13,
    "start_time": "2022-10-24T12:55:56.464Z"
   },
   {
    "duration": 67,
    "start_time": "2022-10-24T12:55:56.478Z"
   },
   {
    "duration": 4,
    "start_time": "2022-10-24T12:55:56.547Z"
   },
   {
    "duration": 10,
    "start_time": "2022-10-24T12:55:56.552Z"
   },
   {
    "duration": 4,
    "start_time": "2022-10-24T12:55:56.564Z"
   },
   {
    "duration": 14,
    "start_time": "2022-10-24T12:55:56.569Z"
   },
   {
    "duration": 8,
    "start_time": "2022-10-24T12:55:56.586Z"
   },
   {
    "duration": 53,
    "start_time": "2022-10-24T12:55:56.595Z"
   },
   {
    "duration": 14,
    "start_time": "2022-10-24T12:55:56.650Z"
   },
   {
    "duration": 4,
    "start_time": "2022-10-24T12:55:56.666Z"
   },
   {
    "duration": 18,
    "start_time": "2022-10-24T12:55:56.672Z"
   },
   {
    "duration": 42,
    "start_time": "2022-10-24T12:55:56.692Z"
   },
   {
    "duration": 20,
    "start_time": "2022-10-24T12:55:56.736Z"
   },
   {
    "duration": 4,
    "start_time": "2022-10-24T12:55:56.757Z"
   },
   {
    "duration": 17,
    "start_time": "2022-10-24T12:55:56.763Z"
   },
   {
    "duration": 6,
    "start_time": "2022-10-24T12:55:56.781Z"
   },
   {
    "duration": 3,
    "start_time": "2022-10-24T12:55:56.789Z"
   },
   {
    "duration": 39,
    "start_time": "2022-10-24T12:55:56.794Z"
   },
   {
    "duration": 3,
    "start_time": "2022-10-24T12:55:56.836Z"
   },
   {
    "duration": 18,
    "start_time": "2022-10-24T12:55:56.841Z"
   },
   {
    "duration": 8,
    "start_time": "2022-10-24T12:55:56.860Z"
   },
   {
    "duration": 14,
    "start_time": "2022-10-24T12:55:56.870Z"
   },
   {
    "duration": 11,
    "start_time": "2022-10-24T12:55:56.886Z"
   },
   {
    "duration": 36,
    "start_time": "2022-10-24T12:55:56.899Z"
   },
   {
    "duration": 12,
    "start_time": "2022-10-24T12:55:56.938Z"
   },
   {
    "duration": 8,
    "start_time": "2022-10-24T12:55:56.952Z"
   },
   {
    "duration": 15,
    "start_time": "2022-10-24T12:55:56.961Z"
   },
   {
    "duration": 8,
    "start_time": "2022-10-24T12:55:56.978Z"
   },
   {
    "duration": 796,
    "start_time": "2022-10-26T12:47:47.888Z"
   },
   {
    "duration": 19,
    "start_time": "2022-10-26T12:47:48.686Z"
   },
   {
    "duration": 38,
    "start_time": "2022-10-26T12:47:48.707Z"
   },
   {
    "duration": 13,
    "start_time": "2022-10-26T12:47:48.747Z"
   },
   {
    "duration": 38,
    "start_time": "2022-10-26T12:47:48.761Z"
   },
   {
    "duration": 3,
    "start_time": "2022-10-26T12:47:48.801Z"
   },
   {
    "duration": 23,
    "start_time": "2022-10-26T12:47:48.805Z"
   },
   {
    "duration": 25,
    "start_time": "2022-10-26T12:47:48.829Z"
   },
   {
    "duration": 51,
    "start_time": "2022-10-26T12:47:48.856Z"
   },
   {
    "duration": 23,
    "start_time": "2022-10-26T12:47:48.910Z"
   },
   {
    "duration": 56,
    "start_time": "2022-10-26T12:47:48.935Z"
   },
   {
    "duration": 13,
    "start_time": "2022-10-26T12:47:48.993Z"
   },
   {
    "duration": 39,
    "start_time": "2022-10-26T12:47:49.008Z"
   },
   {
    "duration": 30,
    "start_time": "2022-10-26T12:47:49.049Z"
   },
   {
    "duration": 63,
    "start_time": "2022-10-26T12:47:49.081Z"
   },
   {
    "duration": 43,
    "start_time": "2022-10-26T12:47:49.145Z"
   },
   {
    "duration": 30,
    "start_time": "2022-10-26T12:47:49.190Z"
   },
   {
    "duration": 40,
    "start_time": "2022-10-26T12:47:49.225Z"
   },
   {
    "duration": 34,
    "start_time": "2022-10-26T12:47:49.267Z"
   },
   {
    "duration": 34,
    "start_time": "2022-10-26T12:47:49.302Z"
   },
   {
    "duration": 42,
    "start_time": "2022-10-26T12:47:49.337Z"
   },
   {
    "duration": 20,
    "start_time": "2022-10-26T12:47:49.381Z"
   },
   {
    "duration": 39,
    "start_time": "2022-10-26T12:47:49.403Z"
   },
   {
    "duration": 11,
    "start_time": "2022-10-26T12:47:49.444Z"
   },
   {
    "duration": 17,
    "start_time": "2022-10-26T12:47:49.457Z"
   },
   {
    "duration": 32,
    "start_time": "2022-10-26T12:47:49.475Z"
   },
   {
    "duration": 31,
    "start_time": "2022-10-26T12:47:49.508Z"
   },
   {
    "duration": 24,
    "start_time": "2022-10-26T12:47:49.542Z"
   },
   {
    "duration": 14,
    "start_time": "2022-10-26T12:47:49.567Z"
   },
   {
    "duration": 24,
    "start_time": "2022-10-26T12:47:49.583Z"
   },
   {
    "duration": 35,
    "start_time": "2022-10-26T12:47:49.609Z"
   },
   {
    "duration": 11,
    "start_time": "2022-10-26T12:48:06.719Z"
   },
   {
    "duration": 10,
    "start_time": "2022-10-26T12:48:11.799Z"
   },
   {
    "duration": 9,
    "start_time": "2022-10-26T12:48:13.679Z"
   },
   {
    "duration": 9,
    "start_time": "2022-10-26T12:48:50.184Z"
   },
   {
    "duration": 3,
    "start_time": "2022-10-26T12:48:55.634Z"
   },
   {
    "duration": 9,
    "start_time": "2022-10-26T12:48:57.192Z"
   },
   {
    "duration": 9,
    "start_time": "2022-10-26T12:49:08.698Z"
   },
   {
    "duration": 9,
    "start_time": "2022-10-26T12:49:21.081Z"
   },
   {
    "duration": 2,
    "start_time": "2022-10-26T12:49:27.674Z"
   },
   {
    "duration": 12,
    "start_time": "2022-10-26T12:49:29.153Z"
   },
   {
    "duration": 3,
    "start_time": "2022-10-26T12:49:38.595Z"
   },
   {
    "duration": 9,
    "start_time": "2022-10-26T12:49:39.290Z"
   },
   {
    "duration": 10,
    "start_time": "2022-10-26T12:49:52.076Z"
   },
   {
    "duration": 11,
    "start_time": "2022-10-26T12:49:52.778Z"
   },
   {
    "duration": 12,
    "start_time": "2022-10-26T12:49:58.332Z"
   },
   {
    "duration": 10,
    "start_time": "2022-10-26T12:50:09.763Z"
   },
   {
    "duration": 12,
    "start_time": "2022-10-26T12:50:17.243Z"
   },
   {
    "duration": 11,
    "start_time": "2022-10-26T12:50:28.788Z"
   },
   {
    "duration": 21,
    "start_time": "2022-10-26T12:50:43.116Z"
   },
   {
    "duration": 12,
    "start_time": "2022-10-26T12:50:56.205Z"
   },
   {
    "duration": 110,
    "start_time": "2022-10-26T13:01:23.188Z"
   },
   {
    "duration": 6,
    "start_time": "2022-10-26T13:28:16.287Z"
   },
   {
    "duration": 7,
    "start_time": "2022-10-26T13:28:21.647Z"
   },
   {
    "duration": 7,
    "start_time": "2022-10-26T13:28:31.087Z"
   },
   {
    "duration": 7,
    "start_time": "2022-10-26T13:29:57.491Z"
   },
   {
    "duration": 16,
    "start_time": "2022-10-26T13:30:02.219Z"
   },
   {
    "duration": 308,
    "start_time": "2022-10-26T13:30:21.988Z"
   },
   {
    "duration": 5,
    "start_time": "2022-10-26T13:30:31.268Z"
   },
   {
    "duration": 8,
    "start_time": "2022-10-26T13:30:41.189Z"
   },
   {
    "duration": 15,
    "start_time": "2022-10-26T13:34:00.916Z"
   },
   {
    "duration": 9,
    "start_time": "2022-10-26T13:34:22.301Z"
   },
   {
    "duration": 20,
    "start_time": "2022-10-26T13:35:15.743Z"
   },
   {
    "duration": 4,
    "start_time": "2022-10-26T13:35:39.175Z"
   },
   {
    "duration": 3,
    "start_time": "2022-10-26T13:35:46.464Z"
   },
   {
    "duration": 3,
    "start_time": "2022-10-26T13:35:58.257Z"
   },
   {
    "duration": 22,
    "start_time": "2022-10-26T13:36:09.120Z"
   },
   {
    "duration": 13,
    "start_time": "2022-10-26T13:36:20.133Z"
   },
   {
    "duration": 12,
    "start_time": "2022-10-26T13:36:30.333Z"
   },
   {
    "duration": 22,
    "start_time": "2022-10-26T13:36:38.018Z"
   },
   {
    "duration": 10,
    "start_time": "2022-10-26T13:38:06.702Z"
   },
   {
    "duration": 11,
    "start_time": "2022-10-26T13:38:25.198Z"
   },
   {
    "duration": 10,
    "start_time": "2022-10-26T13:41:35.205Z"
   },
   {
    "duration": 12,
    "start_time": "2022-10-26T13:41:41.538Z"
   },
   {
    "duration": 6,
    "start_time": "2022-10-26T14:11:49.056Z"
   },
   {
    "duration": 5,
    "start_time": "2022-10-26T14:12:20.356Z"
   },
   {
    "duration": 4,
    "start_time": "2022-10-26T14:12:35.663Z"
   },
   {
    "duration": 4,
    "start_time": "2022-10-26T14:14:15.275Z"
   },
   {
    "duration": 548,
    "start_time": "2022-10-26T15:44:01.634Z"
   },
   {
    "duration": 22,
    "start_time": "2022-10-26T15:44:02.184Z"
   },
   {
    "duration": 15,
    "start_time": "2022-10-26T15:44:02.207Z"
   },
   {
    "duration": 9,
    "start_time": "2022-10-26T15:44:02.224Z"
   },
   {
    "duration": 37,
    "start_time": "2022-10-26T15:44:02.234Z"
   },
   {
    "duration": 3,
    "start_time": "2022-10-26T15:44:02.273Z"
   },
   {
    "duration": 10,
    "start_time": "2022-10-26T15:44:02.278Z"
   },
   {
    "duration": 4,
    "start_time": "2022-10-26T15:44:02.290Z"
   },
   {
    "duration": 8,
    "start_time": "2022-10-26T15:44:02.296Z"
   },
   {
    "duration": 25,
    "start_time": "2022-10-26T15:44:02.306Z"
   },
   {
    "duration": 34,
    "start_time": "2022-10-26T15:44:02.333Z"
   },
   {
    "duration": 11,
    "start_time": "2022-10-26T15:44:02.369Z"
   },
   {
    "duration": 4,
    "start_time": "2022-10-26T15:44:02.382Z"
   },
   {
    "duration": 13,
    "start_time": "2022-10-26T15:44:02.387Z"
   },
   {
    "duration": 45,
    "start_time": "2022-10-26T15:44:02.402Z"
   },
   {
    "duration": 17,
    "start_time": "2022-10-26T15:44:02.448Z"
   },
   {
    "duration": 3,
    "start_time": "2022-10-26T15:44:02.467Z"
   },
   {
    "duration": 10,
    "start_time": "2022-10-26T15:44:02.472Z"
   },
   {
    "duration": 5,
    "start_time": "2022-10-26T15:44:02.484Z"
   },
   {
    "duration": 5,
    "start_time": "2022-10-26T15:44:02.490Z"
   },
   {
    "duration": 40,
    "start_time": "2022-10-26T15:44:02.497Z"
   },
   {
    "duration": 22,
    "start_time": "2022-10-26T15:44:02.539Z"
   },
   {
    "duration": 4,
    "start_time": "2022-10-26T15:44:02.562Z"
   },
   {
    "duration": 11,
    "start_time": "2022-10-26T15:44:02.568Z"
   },
   {
    "duration": 10,
    "start_time": "2022-10-26T15:44:02.581Z"
   },
   {
    "duration": 40,
    "start_time": "2022-10-26T15:44:02.592Z"
   },
   {
    "duration": 12,
    "start_time": "2022-10-26T15:44:02.633Z"
   },
   {
    "duration": 11,
    "start_time": "2022-10-26T15:44:02.650Z"
   },
   {
    "duration": 12,
    "start_time": "2022-10-26T15:44:02.662Z"
   },
   {
    "duration": 11,
    "start_time": "2022-10-26T15:44:02.675Z"
   },
   {
    "duration": 46,
    "start_time": "2022-10-26T15:44:02.687Z"
   },
   {
    "duration": 11,
    "start_time": "2022-10-26T15:44:02.735Z"
   }
  ],
  "colab": {
   "name": "dpp_template_part2.ipynb",
   "provenance": []
  },
  "kernelspec": {
   "display_name": "Python 3 (ipykernel)",
   "language": "python",
   "name": "python3"
  },
  "language_info": {
   "codemirror_mode": {
    "name": "ipython",
    "version": 3
   },
   "file_extension": ".py",
   "mimetype": "text/x-python",
   "name": "python",
   "nbconvert_exporter": "python",
   "pygments_lexer": "ipython3",
   "version": "3.9.13"
  },
  "toc": {
   "base_numbering": 1,
   "nav_menu": {},
   "number_sections": true,
   "sideBar": true,
   "skip_h1_title": true,
   "title_cell": "Table of Contents",
   "title_sidebar": "Contents",
   "toc_cell": false,
   "toc_position": {
    "height": "calc(100% - 180px)",
    "left": "10px",
    "top": "150px",
    "width": "323.391px"
   },
   "toc_section_display": true,
   "toc_window_display": true
  }
 },
 "nbformat": 4,
 "nbformat_minor": 5
}
