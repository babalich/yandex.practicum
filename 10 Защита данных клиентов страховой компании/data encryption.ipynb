{
 "cells": [
  {
   "cell_type": "markdown",
   "metadata": {
    "toc": true
   },
   "source": [
    "<h1>Содержание<span class=\"tocSkip\"></span></h1>\n",
    "<div class=\"toc\"><ul class=\"toc-item\"><li><span><a href=\"#Загрузка-данных\" data-toc-modified-id=\"Загрузка-данных-1\"><span class=\"toc-item-num\">1&nbsp;&nbsp;</span>Загрузка данных</a></span></li><li><span><a href=\"#Умножение-матриц\" data-toc-modified-id=\"Умножение-матриц-2\"><span class=\"toc-item-num\">2&nbsp;&nbsp;</span>Умножение матриц</a></span></li><li><span><a href=\"#Алгоритм-преобразования\" data-toc-modified-id=\"Алгоритм-преобразования-3\"><span class=\"toc-item-num\">3&nbsp;&nbsp;</span>Алгоритм преобразования</a></span></li><li><span><a href=\"#Проверка-алгоритма\" data-toc-modified-id=\"Проверка-алгоритма-4\"><span class=\"toc-item-num\">4&nbsp;&nbsp;</span>Проверка алгоритма</a></span><ul class=\"toc-item\"><li><span><a href=\"#Сначала-обучим-модель-без-шифрования-и-зафиксируем-результаты\" data-toc-modified-id=\"Сначала-обучим-модель-без-шифрования-и-зафиксируем-результаты-4.1\"><span class=\"toc-item-num\">4.1&nbsp;&nbsp;</span>Сначала обучим модель без шифрования и зафиксируем результаты</a></span></li><li><span><a href=\"#Создадим-обратимую-матрицу-и-выполним-проверку-на-обратимость\" data-toc-modified-id=\"Создадим-обратимую-матрицу-и-выполним-проверку-на-обратимость-4.2\"><span class=\"toc-item-num\">4.2&nbsp;&nbsp;</span>Создадим обратимую матрицу и выполним проверку на обратимость</a></span></li><li><span><a href=\"#Шифруем-данные-и-выполняем-проверку-модели\" data-toc-modified-id=\"Шифруем-данные-и-выполняем-проверку-модели-4.3\"><span class=\"toc-item-num\">4.3&nbsp;&nbsp;</span>Шифруем данные и выполняем проверку модели</a></span></li></ul></li><li><span><a href=\"#Чек-лист-проверки\" data-toc-modified-id=\"Чек-лист-проверки-5\"><span class=\"toc-item-num\">5&nbsp;&nbsp;</span>Чек-лист проверки</a></span></li></ul></div>"
   ]
  },
  {
   "cell_type": "markdown",
   "metadata": {},
   "source": [
    "# Защита персональных данных клиентов"
   ]
  },
  {
   "cell_type": "markdown",
   "metadata": {},
   "source": [
    "Вам нужно защитить данные клиентов страховой компании «Хоть потоп». Разработайте такой метод преобразования данных, чтобы по ним было сложно восстановить персональную информацию. Обоснуйте корректность его работы.\n",
    "\n",
    "Нужно защитить данные, чтобы при преобразовании качество моделей машинного обучения не ухудшилось. Подбирать наилучшую модель не требуется."
   ]
  },
  {
   "cell_type": "markdown",
   "metadata": {},
   "source": [
    "## Загрузка данных"
   ]
  },
  {
   "cell_type": "code",
   "execution_count": 1,
   "metadata": {},
   "outputs": [],
   "source": [
    "import numpy as np\n",
    "import pandas as pd\n",
    "import matplotlib.pyplot as plt\n",
    "import seaborn as sns\n",
    "from sklearn.metrics import r2_score\n",
    "from sklearn.linear_model import LinearRegression\n",
    "from sklearn.model_selection import train_test_split"
   ]
  },
  {
   "cell_type": "code",
   "execution_count": 2,
   "metadata": {},
   "outputs": [],
   "source": [
    "data = pd.read_csv('/datasets/insurance.csv')"
   ]
  },
  {
   "cell_type": "code",
   "execution_count": 3,
   "metadata": {},
   "outputs": [
    {
     "data": {
      "text/html": [
       "<div>\n",
       "<style scoped>\n",
       "    .dataframe tbody tr th:only-of-type {\n",
       "        vertical-align: middle;\n",
       "    }\n",
       "\n",
       "    .dataframe tbody tr th {\n",
       "        vertical-align: top;\n",
       "    }\n",
       "\n",
       "    .dataframe thead th {\n",
       "        text-align: right;\n",
       "    }\n",
       "</style>\n",
       "<table border=\"1\" class=\"dataframe\">\n",
       "  <thead>\n",
       "    <tr style=\"text-align: right;\">\n",
       "      <th></th>\n",
       "      <th>Пол</th>\n",
       "      <th>Возраст</th>\n",
       "      <th>Зарплата</th>\n",
       "      <th>Члены семьи</th>\n",
       "      <th>Страховые выплаты</th>\n",
       "    </tr>\n",
       "  </thead>\n",
       "  <tbody>\n",
       "    <tr>\n",
       "      <th>0</th>\n",
       "      <td>1</td>\n",
       "      <td>41.0</td>\n",
       "      <td>49600.0</td>\n",
       "      <td>1</td>\n",
       "      <td>0</td>\n",
       "    </tr>\n",
       "    <tr>\n",
       "      <th>1</th>\n",
       "      <td>0</td>\n",
       "      <td>46.0</td>\n",
       "      <td>38000.0</td>\n",
       "      <td>1</td>\n",
       "      <td>1</td>\n",
       "    </tr>\n",
       "    <tr>\n",
       "      <th>2</th>\n",
       "      <td>0</td>\n",
       "      <td>29.0</td>\n",
       "      <td>21000.0</td>\n",
       "      <td>0</td>\n",
       "      <td>0</td>\n",
       "    </tr>\n",
       "    <tr>\n",
       "      <th>3</th>\n",
       "      <td>0</td>\n",
       "      <td>21.0</td>\n",
       "      <td>41700.0</td>\n",
       "      <td>2</td>\n",
       "      <td>0</td>\n",
       "    </tr>\n",
       "    <tr>\n",
       "      <th>4</th>\n",
       "      <td>1</td>\n",
       "      <td>28.0</td>\n",
       "      <td>26100.0</td>\n",
       "      <td>0</td>\n",
       "      <td>0</td>\n",
       "    </tr>\n",
       "  </tbody>\n",
       "</table>\n",
       "</div>"
      ],
      "text/plain": [
       "   Пол  Возраст  Зарплата  Члены семьи  Страховые выплаты\n",
       "0    1     41.0   49600.0            1                  0\n",
       "1    0     46.0   38000.0            1                  1\n",
       "2    0     29.0   21000.0            0                  0\n",
       "3    0     21.0   41700.0            2                  0\n",
       "4    1     28.0   26100.0            0                  0"
      ]
     },
     "execution_count": 3,
     "metadata": {},
     "output_type": "execute_result"
    }
   ],
   "source": [
    "data.head()"
   ]
  },
  {
   "cell_type": "code",
   "execution_count": 4,
   "metadata": {},
   "outputs": [
    {
     "name": "stdout",
     "output_type": "stream",
     "text": [
      "<class 'pandas.core.frame.DataFrame'>\n",
      "RangeIndex: 5000 entries, 0 to 4999\n",
      "Data columns (total 5 columns):\n",
      " #   Column             Non-Null Count  Dtype  \n",
      "---  ------             --------------  -----  \n",
      " 0   Пол                5000 non-null   int64  \n",
      " 1   Возраст            5000 non-null   float64\n",
      " 2   Зарплата           5000 non-null   float64\n",
      " 3   Члены семьи        5000 non-null   int64  \n",
      " 4   Страховые выплаты  5000 non-null   int64  \n",
      "dtypes: float64(2), int64(3)\n",
      "memory usage: 195.4 KB\n"
     ]
    }
   ],
   "source": [
    "data.info()"
   ]
  },
  {
   "cell_type": "code",
   "execution_count": 5,
   "metadata": {},
   "outputs": [],
   "source": [
    "data['Возраст'] = data['Возраст'].astype('int')"
   ]
  },
  {
   "cell_type": "markdown",
   "metadata": {},
   "source": [
    "Зарплату тоже можно перевести к целому типо, исходя из данных, но это не критичный момент"
   ]
  },
  {
   "cell_type": "code",
   "execution_count": 6,
   "metadata": {},
   "outputs": [
    {
     "data": {
      "text/html": [
       "<div>\n",
       "<style scoped>\n",
       "    .dataframe tbody tr th:only-of-type {\n",
       "        vertical-align: middle;\n",
       "    }\n",
       "\n",
       "    .dataframe tbody tr th {\n",
       "        vertical-align: top;\n",
       "    }\n",
       "\n",
       "    .dataframe thead th {\n",
       "        text-align: right;\n",
       "    }\n",
       "</style>\n",
       "<table border=\"1\" class=\"dataframe\">\n",
       "  <thead>\n",
       "    <tr style=\"text-align: right;\">\n",
       "      <th></th>\n",
       "      <th>Пол</th>\n",
       "      <th>Возраст</th>\n",
       "      <th>Зарплата</th>\n",
       "      <th>Члены семьи</th>\n",
       "      <th>Страховые выплаты</th>\n",
       "    </tr>\n",
       "  </thead>\n",
       "  <tbody>\n",
       "    <tr>\n",
       "      <th>count</th>\n",
       "      <td>5000.000000</td>\n",
       "      <td>5000.000000</td>\n",
       "      <td>5000.000000</td>\n",
       "      <td>5000.000000</td>\n",
       "      <td>5000.000000</td>\n",
       "    </tr>\n",
       "    <tr>\n",
       "      <th>mean</th>\n",
       "      <td>0.499000</td>\n",
       "      <td>30.952800</td>\n",
       "      <td>39916.360000</td>\n",
       "      <td>1.194200</td>\n",
       "      <td>0.148000</td>\n",
       "    </tr>\n",
       "    <tr>\n",
       "      <th>std</th>\n",
       "      <td>0.500049</td>\n",
       "      <td>8.440807</td>\n",
       "      <td>9900.083569</td>\n",
       "      <td>1.091387</td>\n",
       "      <td>0.463183</td>\n",
       "    </tr>\n",
       "    <tr>\n",
       "      <th>min</th>\n",
       "      <td>0.000000</td>\n",
       "      <td>18.000000</td>\n",
       "      <td>5300.000000</td>\n",
       "      <td>0.000000</td>\n",
       "      <td>0.000000</td>\n",
       "    </tr>\n",
       "    <tr>\n",
       "      <th>25%</th>\n",
       "      <td>0.000000</td>\n",
       "      <td>24.000000</td>\n",
       "      <td>33300.000000</td>\n",
       "      <td>0.000000</td>\n",
       "      <td>0.000000</td>\n",
       "    </tr>\n",
       "    <tr>\n",
       "      <th>50%</th>\n",
       "      <td>0.000000</td>\n",
       "      <td>30.000000</td>\n",
       "      <td>40200.000000</td>\n",
       "      <td>1.000000</td>\n",
       "      <td>0.000000</td>\n",
       "    </tr>\n",
       "    <tr>\n",
       "      <th>75%</th>\n",
       "      <td>1.000000</td>\n",
       "      <td>37.000000</td>\n",
       "      <td>46600.000000</td>\n",
       "      <td>2.000000</td>\n",
       "      <td>0.000000</td>\n",
       "    </tr>\n",
       "    <tr>\n",
       "      <th>max</th>\n",
       "      <td>1.000000</td>\n",
       "      <td>65.000000</td>\n",
       "      <td>79000.000000</td>\n",
       "      <td>6.000000</td>\n",
       "      <td>5.000000</td>\n",
       "    </tr>\n",
       "  </tbody>\n",
       "</table>\n",
       "</div>"
      ],
      "text/plain": [
       "               Пол      Возраст      Зарплата  Члены семьи  Страховые выплаты\n",
       "count  5000.000000  5000.000000   5000.000000  5000.000000        5000.000000\n",
       "mean      0.499000    30.952800  39916.360000     1.194200           0.148000\n",
       "std       0.500049     8.440807   9900.083569     1.091387           0.463183\n",
       "min       0.000000    18.000000   5300.000000     0.000000           0.000000\n",
       "25%       0.000000    24.000000  33300.000000     0.000000           0.000000\n",
       "50%       0.000000    30.000000  40200.000000     1.000000           0.000000\n",
       "75%       1.000000    37.000000  46600.000000     2.000000           0.000000\n",
       "max       1.000000    65.000000  79000.000000     6.000000           5.000000"
      ]
     },
     "execution_count": 6,
     "metadata": {},
     "output_type": "execute_result"
    }
   ],
   "source": [
    "data.describe()"
   ]
  },
  {
   "cell_type": "code",
   "execution_count": 7,
   "metadata": {},
   "outputs": [
    {
     "data": {
      "text/plain": [
       "153"
      ]
     },
     "execution_count": 7,
     "metadata": {},
     "output_type": "execute_result"
    }
   ],
   "source": [
    "data.duplicated().sum()"
   ]
  },
  {
   "cell_type": "code",
   "execution_count": 8,
   "metadata": {},
   "outputs": [
    {
     "data": {
      "image/png": "[encoded data removed]",
      "text/plain": [
       "<Figure size 1296x360 with 5 Axes>"
      ]
     },
     "metadata": {
      "needs_background": "light"
     },
     "output_type": "display_data"
    }
   ],
   "source": [
    "fig, axs = plt.subplots(ncols=len(data.columns), figsize=(18,5))\n",
    "fig.suptitle('Распределение данных по признакам признаков')\n",
    "for i, column in enumerate(data.columns):\n",
    "    sns.histplot(data[column], ax=axs[i], kde=True)\n",
    "    axs[i].set(ylabel='')"
   ]
  },
  {
   "cell_type": "code",
   "execution_count": 9,
   "metadata": {},
   "outputs": [
    {
     "data": {
      "text/plain": [
       "0    4436\n",
       "1     423\n",
       "2     115\n",
       "3      18\n",
       "4       7\n",
       "5       1\n",
       "Name: Страховые выплаты, dtype: int64"
      ]
     },
     "execution_count": 9,
     "metadata": {},
     "output_type": "execute_result"
    }
   ],
   "source": [
    "data['Страховые выплаты'].value_counts()"
   ]
  },
  {
   "cell_type": "markdown",
   "metadata": {},
   "source": [
    "**Вывод**\n",
    "\n",
    "Датасет содержит 5000 наблюдений, 4 признака, 1 целевую переменную.\n",
    "\n",
    "Пропуски в данных отсутствуют.\n",
    "\n",
    "В данных найдено 153 дубликата, однако, учитывая характер данных, это могут быть разные люди одинакового возраста, зарплаты и т.д.\n",
    "\n",
    "По страховым выплатам (целевой переменной) чуть сложнее. Исходя из условия проекта мы решаем задачу регрессии. Но в таком случае высокие значения можно считать выбросами в таргете.\n",
    "\n",
    "Но если взглянуть на таргет как на классы (0, 1, 2 и т.д), то получается дисбаланс классов."
   ]
  },
  {
   "cell_type": "markdown",
   "metadata": {},
   "source": [
    "## Умножение матриц"
   ]
  },
  {
   "cell_type": "markdown",
   "metadata": {},
   "source": [
    "В этом задании вы можете записывать формулы в *Jupyter Notebook.*\n",
    "\n",
    "Чтобы записать формулу внутри текста, окружите её символами доллара \\\\$; если снаружи —  двойными символами \\\\$\\\\$. Эти формулы записываются на языке вёрстки *LaTeX.* \n",
    "\n",
    "Для примера мы записали формулы линейной регрессии. Можете их скопировать и отредактировать, чтобы решить задачу.\n",
    "\n",
    "Работать в *LaTeX* необязательно."
   ]
  },
  {
   "cell_type": "markdown",
   "metadata": {},
   "source": [
    "Обозначения:\n",
    "\n",
    "- $X$ — матрица признаков (нулевой столбец состоит из единиц)\n",
    "\n",
    "- $y$ — вектор целевого признака\n",
    "\n",
    "- $P$ — матрица, на которую умножаются признаки\n",
    "\n",
    "- $w$ — вектор весов линейной регрессии (нулевой элемент равен сдвигу)"
   ]
  },
  {
   "cell_type": "markdown",
   "metadata": {},
   "source": [
    "Предсказания:\n",
    "\n",
    "$$\n",
    "a = Xw\n",
    "$$\n",
    "\n",
    "Задача обучения:\n",
    "\n",
    "$$\n",
    "w = \\arg\\min_w MSE(Xw, y)\n",
    "$$\n",
    "\n",
    "Формула обучения:\n",
    "\n",
    "$$\n",
    "w = (X^T X)^{-1} X^T y\n",
    "$$"
   ]
  },
  {
   "cell_type": "markdown",
   "metadata": {},
   "source": [
    "**Ответ:** \n",
    "Качество линейной регрессии не изменится, если умножить матрицу признаков на обратимую\n",
    "\n",
    "**Обоснование:**\n",
    "\n",
    "Пусть $$a_{p} = XPw_{p}$$ тогда $$w_{p} = ((XP)^T XP)^{-1}(XP)^Ty$$\n",
    "\n",
    "Распишем полную формулу предсказаний:\n",
    "$$a_{p} = XP ((XP)^T XP)^{-1}(XP)^Ty$$\n",
    "\n",
    "частично раскроем скобки, используя следующие свойства $$(AB)^{-1} = B^{-1}A^{-1};(AB)^{T} = B^{T}A^{T}$$ \n",
    "получаем\n"
   ]
  },
  {
   "cell_type": "markdown",
   "metadata": {},
   "source": [
    "$$\n",
    "a_{p} = XP (P^T X^T XP)^{-1} P^T X^T y = XP P^{-1} (P^T)^{-1} (X^T X)^{-1} P^T X^T y\n",
    "$$"
   ]
  },
  {
   "cell_type": "markdown",
   "metadata": {},
   "source": [
    "Воспользуемся сделующими свойствами матрица\n",
    "$$\n",
    "AA^{-1} = A^{-1}A = E;\n",
    "AE = EA = A\n",
    "$$\n",
    "чтобы \"сократить\" лишнее, тогда получим\n",
    "\n",
    "$$\n",
    "a_p = X \\color{red}P \\color{red}{P^{-1}} \\color{blue}{(P^T)^{-1}} (X^T X)^{-1} \\color{blue}{P^T} X^T y = X (X^T X)^{-1}X^Ty = \n",
    "Xw = a\n",
    "$$\n",
    "\n",
    "Таким образом мы доказали, что если умножить матрицу признаков на обратимую матрицу, качество линейной регрессии не измениться "
   ]
  },
  {
   "cell_type": "markdown",
   "metadata": {},
   "source": [
    "$$\n",
    "a = Xw = XEw = XPP^{-1}w = (XP)P^{-1}w = (XP)w'\n",
    "$$\n",
    "\n",
    "$$\n",
    "w' = ((XP)^T XP)^{-1} (XP)^T y\n",
    "$$\n",
    "$$\n",
    "w' = (P^T (X^T X) P)^{-1} (XP)^T y\n",
    "$$\n",
    "$$\n",
    "....\n",
    "$$"
   ]
  },
  {
   "cell_type": "markdown",
   "metadata": {},
   "source": [
    "$$\n",
    "w' = P^{-1} (X^T X)^{-1} (P^T)^{-1} P^T X^T y\n",
    "$$\n",
    "\n",
    "$$\n",
    "w' = P^{-1} (X^T X)^{-1} E X^T y\n",
    "$$\n",
    "\n",
    "$$\n",
    "w' = P^{-1} w\n",
    "$$"
   ]
  },
  {
   "cell_type": "markdown",
   "metadata": {},
   "source": [
    "$$\n",
    "a' = XP w' = XP P^{-1} w = X w = a\n",
    "$$"
   ]
  },
  {
   "cell_type": "markdown",
   "metadata": {},
   "source": [
    "## Алгоритм преобразования"
   ]
  },
  {
   "cell_type": "markdown",
   "metadata": {},
   "source": [
    "**Алгоритм и обоснование**\n",
    "\n",
    "1) Разделяем датасет на матрицу признаков и вектор целевой переменной, поскольку преобразование необходимо только для признаков.\n",
    "\n",
    "2) Создаем обратимую матрицу такого размера, чтобы у продукта умножения размерность не изменилась. В нашем случае мы имеем 4 признака, значит матрица должна быть 4х4\n",
    "\n",
    "3) Умножаем матрицу признаков на полученную обратимую матрицу. Не забываем, что процедуру шифрования необходимо проделывать на трейне и тесте раздельно\n",
    "\n",
    "4) Проводим обучение модели, проверяем на отложенной выборке\n"
   ]
  },
  {
   "cell_type": "markdown",
   "metadata": {},
   "source": [
    "## Проверка алгоритма"
   ]
  },
  {
   "cell_type": "markdown",
   "metadata": {},
   "source": [
    "### Сначала обучим модель без шифрования и зафиксируем результаты"
   ]
  },
  {
   "cell_type": "code",
   "execution_count": 10,
   "metadata": {},
   "outputs": [],
   "source": [
    "train = data.drop('Страховые выплаты', axis=1)\n",
    "test = data['Страховые выплаты']"
   ]
  },
  {
   "cell_type": "code",
   "execution_count": 11,
   "metadata": {},
   "outputs": [],
   "source": [
    "x_train, x_test, y_train, y_test = train_test_split(train, test, test_size=.25, random_state=1)"
   ]
  },
  {
   "cell_type": "code",
   "execution_count": 12,
   "metadata": {},
   "outputs": [
    {
     "name": "stdout",
     "output_type": "stream",
     "text": [
      "R2 модели для незашифрованныз данных: 0.3237732279242763\n"
     ]
    }
   ],
   "source": [
    "model = LinearRegression()\n",
    "model.fit(x_train, y_train)\n",
    "prediction = model.predict(x_test)\n",
    "score = r2_score(y_test, prediction)\n",
    "print('R2 модели для незашифрованныз данных:', score)"
   ]
  },
  {
   "cell_type": "markdown",
   "metadata": {},
   "source": [
    "### Создадим обратимую матрицу и выполним проверку на обратимость"
   ]
  },
  {
   "cell_type": "code",
   "execution_count": 13,
   "metadata": {},
   "outputs": [
    {
     "data": {
      "text/plain": [
       "array([[ 1.,  0.,  0., -0.],\n",
       "       [-0.,  1., -0.,  0.],\n",
       "       [-0., -0.,  1.,  0.],\n",
       "       [-0.,  0., -0.,  1.]])"
      ]
     },
     "execution_count": 13,
     "metadata": {},
     "output_type": "execute_result"
    }
   ],
   "source": [
    "matrix_size = x_train.shape[1]\n",
    "matrix = np.random.randn(matrix_size, matrix_size)\n",
    "\n",
    "# проверяем, что есть обратная матрица и их произведение - единичная матрица\n",
    "np.round(np.dot(matrix, np.linalg.inv(matrix)))"
   ]
  },
  {
   "cell_type": "markdown",
   "metadata": {},
   "source": [
    "### Шифруем данные и выполняем проверку модели"
   ]
  },
  {
   "cell_type": "code",
   "execution_count": 14,
   "metadata": {},
   "outputs": [],
   "source": [
    "x_train_enc = x_train.values @ matrix\n",
    "x_test_enc = x_test.values @ matrix"
   ]
  },
  {
   "cell_type": "code",
   "execution_count": 15,
   "metadata": {},
   "outputs": [],
   "source": [
    "x_train_enc = pd.DataFrame(x_train_enc, columns=x_train.columns)\n",
    "x_test_enc = pd.DataFrame(x_test_enc, columns=x_train.columns)"
   ]
  },
  {
   "cell_type": "code",
   "execution_count": 16,
   "metadata": {},
   "outputs": [
    {
     "name": "stdout",
     "output_type": "stream",
     "text": [
      "R2 модели для незашифрованныз данных: 0.32377322792387164\n"
     ]
    }
   ],
   "source": [
    "model_enc = LinearRegression()\n",
    "model_enc.fit(x_train_enc, y_train)\n",
    "prediction_enc = model_enc.predict(x_test_enc)\n",
    "score_enc = r2_score(y_test, prediction_enc)\n",
    "print('R2 модели для незашифрованныз данных:', score_enc)"
   ]
  },
  {
   "cell_type": "code",
   "execution_count": 17,
   "metadata": {},
   "outputs": [
    {
     "data": {
      "text/plain": [
       "False"
      ]
     },
     "execution_count": 17,
     "metadata": {},
     "output_type": "execute_result"
    }
   ],
   "source": [
    "score == score_enc"
   ]
  },
  {
   "cell_type": "code",
   "execution_count": 18,
   "metadata": {},
   "outputs": [
    {
     "data": {
      "text/plain": [
       "(array([ 1.02403987e-02,  3.76315569e-02, -2.66398463e-07, -1.50304886e-02]),\n",
       " array([-0.00070982,  0.01334963, -0.01504922,  0.01058722]))"
      ]
     },
     "execution_count": 18,
     "metadata": {},
     "output_type": "execute_result"
    }
   ],
   "source": [
    "model.coef_, model_enc.coef_"
   ]
  },
  {
   "cell_type": "markdown",
   "metadata": {},
   "source": [
    "**Вывод** \n",
    "\n",
    "мы убедились, что преобразование матрицы признаков, путем умножения на обратимую матрицу, не влияют на качество линейной регрессии."
   ]
  },
  {
   "cell_type": "code",
   "execution_count": null,
   "metadata": {},
   "outputs": [],
   "source": []
  }
 ],
 "metadata": {
  "ExecuteTimeLog": [
   {
    "duration": 412,
    "start_time": "2023-03-21T06:52:13.758Z"
   },
   {
    "duration": 103,
    "start_time": "2023-03-21T06:52:30.370Z"
   },
   {
    "duration": 26,
    "start_time": "2023-03-21T06:52:35.865Z"
   },
   {
    "duration": 13,
    "start_time": "2023-03-21T06:52:46.102Z"
   },
   {
    "duration": 23,
    "start_time": "2023-03-21T06:52:59.663Z"
   },
   {
    "duration": 26,
    "start_time": "2023-03-21T06:53:50.064Z"
   },
   {
    "duration": 8,
    "start_time": "2023-03-21T06:54:23.698Z"
   },
   {
    "duration": 11,
    "start_time": "2023-03-21T06:54:32.951Z"
   },
   {
    "duration": 15,
    "start_time": "2023-03-21T06:54:37.958Z"
   },
   {
    "duration": 10,
    "start_time": "2023-03-21T06:54:43.188Z"
   },
   {
    "duration": 63,
    "start_time": "2023-03-21T06:54:54.301Z"
   },
   {
    "duration": 10,
    "start_time": "2023-03-21T06:54:56.461Z"
   },
   {
    "duration": 8,
    "start_time": "2023-03-21T06:55:04.492Z"
   },
   {
    "duration": 7,
    "start_time": "2023-03-21T06:55:07.096Z"
   },
   {
    "duration": 515,
    "start_time": "2023-03-21T06:55:43.237Z"
   },
   {
    "duration": 1848,
    "start_time": "2023-03-21T06:56:28.181Z"
   },
   {
    "duration": 675,
    "start_time": "2023-03-21T06:56:42.754Z"
   },
   {
    "duration": 437,
    "start_time": "2023-03-21T06:58:37.381Z"
   },
   {
    "duration": 809,
    "start_time": "2023-03-21T06:58:58.028Z"
   },
   {
    "duration": 2358,
    "start_time": "2023-03-21T06:59:17.858Z"
   },
   {
    "duration": 1036,
    "start_time": "2023-03-21T07:00:33.624Z"
   },
   {
    "duration": 902,
    "start_time": "2023-03-21T07:06:06.893Z"
   },
   {
    "duration": 1231,
    "start_time": "2023-03-21T07:06:15.194Z"
   },
   {
    "duration": 937,
    "start_time": "2023-03-21T07:06:20.820Z"
   },
   {
    "duration": 1082,
    "start_time": "2023-03-21T07:06:48.429Z"
   },
   {
    "duration": 922,
    "start_time": "2023-03-21T07:07:26.039Z"
   },
   {
    "duration": 434,
    "start_time": "2023-03-21T07:08:11.920Z"
   },
   {
    "duration": 1456,
    "start_time": "2023-03-21T07:08:20.459Z"
   },
   {
    "duration": 1136,
    "start_time": "2023-03-21T07:08:29.862Z"
   },
   {
    "duration": 1154,
    "start_time": "2023-03-21T07:08:38.035Z"
   },
   {
    "duration": 1010,
    "start_time": "2023-03-21T07:10:55.351Z"
   },
   {
    "duration": 1027,
    "start_time": "2023-03-21T07:11:07.511Z"
   },
   {
    "duration": 1402,
    "start_time": "2023-03-21T07:11:14.727Z"
   },
   {
    "duration": 400,
    "start_time": "2023-03-21T07:14:13.822Z"
   },
   {
    "duration": 1011,
    "start_time": "2023-03-21T07:14:19.752Z"
   },
   {
    "duration": 394,
    "start_time": "2023-03-21T07:15:58.323Z"
   },
   {
    "duration": 783,
    "start_time": "2023-03-21T07:16:22.798Z"
   },
   {
    "duration": 2134,
    "start_time": "2023-03-21T07:16:29.513Z"
   },
   {
    "duration": 368,
    "start_time": "2023-03-21T07:18:03.498Z"
   },
   {
    "duration": 1154,
    "start_time": "2023-03-21T07:19:16.154Z"
   },
   {
    "duration": 461,
    "start_time": "2023-03-21T07:19:34.945Z"
   },
   {
    "duration": 746,
    "start_time": "2023-03-21T07:19:38.812Z"
   },
   {
    "duration": 794,
    "start_time": "2023-03-21T07:19:56.906Z"
   },
   {
    "duration": 838,
    "start_time": "2023-03-21T07:21:01.136Z"
   },
   {
    "duration": 395,
    "start_time": "2023-03-21T07:21:39.124Z"
   },
   {
    "duration": 429,
    "start_time": "2023-03-21T07:21:43.307Z"
   },
   {
    "duration": 384,
    "start_time": "2023-03-21T07:21:48.152Z"
   },
   {
    "duration": 1273,
    "start_time": "2023-03-21T07:22:18.953Z"
   },
   {
    "duration": 798,
    "start_time": "2023-03-21T07:22:33.337Z"
   },
   {
    "duration": 736,
    "start_time": "2023-03-21T07:23:35.254Z"
   },
   {
    "duration": 823,
    "start_time": "2023-03-21T07:23:52.812Z"
   },
   {
    "duration": 797,
    "start_time": "2023-03-21T07:24:03.749Z"
   },
   {
    "duration": 4,
    "start_time": "2023-03-21T07:26:17.427Z"
   },
   {
    "duration": 15,
    "start_time": "2023-03-21T07:26:19.107Z"
   },
   {
    "duration": 3,
    "start_time": "2023-03-21T07:33:58.627Z"
   },
   {
    "duration": 8,
    "start_time": "2023-03-21T07:34:47.230Z"
   },
   {
    "duration": 11,
    "start_time": "2023-03-21T07:34:51.095Z"
   },
   {
    "duration": 5,
    "start_time": "2023-03-21T07:35:22.264Z"
   },
   {
    "duration": 8,
    "start_time": "2023-03-21T07:35:43.978Z"
   },
   {
    "duration": 6,
    "start_time": "2023-03-21T07:40:02.077Z"
   },
   {
    "duration": 5,
    "start_time": "2023-03-21T07:40:06.619Z"
   },
   {
    "duration": 5,
    "start_time": "2023-03-21T07:40:09.490Z"
   },
   {
    "duration": 8,
    "start_time": "2023-03-21T07:40:12.630Z"
   },
   {
    "duration": 22,
    "start_time": "2023-03-21T07:41:42.627Z"
   },
   {
    "duration": 11,
    "start_time": "2023-03-21T07:41:47.104Z"
   },
   {
    "duration": 12,
    "start_time": "2023-03-21T07:41:50.647Z"
   },
   {
    "duration": 3,
    "start_time": "2023-03-21T12:27:20.710Z"
   },
   {
    "duration": 4,
    "start_time": "2023-03-21T12:27:58.360Z"
   },
   {
    "duration": 4,
    "start_time": "2023-03-21T12:28:04.212Z"
   },
   {
    "duration": 4,
    "start_time": "2023-03-21T12:28:34.809Z"
   },
   {
    "duration": 5,
    "start_time": "2023-03-21T12:28:41.811Z"
   },
   {
    "duration": 5,
    "start_time": "2023-03-21T12:30:50.021Z"
   },
   {
    "duration": 6,
    "start_time": "2023-03-21T12:31:40.003Z"
   },
   {
    "duration": 19,
    "start_time": "2023-03-21T12:31:43.112Z"
   },
   {
    "duration": 11,
    "start_time": "2023-03-21T12:31:45.769Z"
   },
   {
    "duration": 5,
    "start_time": "2023-03-21T12:31:48.603Z"
   },
   {
    "duration": 10,
    "start_time": "2023-03-21T12:33:47.349Z"
   },
   {
    "duration": 7,
    "start_time": "2023-03-21T12:35:57.129Z"
   },
   {
    "duration": 7,
    "start_time": "2023-03-21T12:36:24.410Z"
   },
   {
    "duration": 7,
    "start_time": "2023-03-21T12:36:55.723Z"
   },
   {
    "duration": 4,
    "start_time": "2023-03-21T12:38:12.639Z"
   },
   {
    "duration": 3,
    "start_time": "2023-03-21T12:38:46.040Z"
   },
   {
    "duration": 9,
    "start_time": "2023-03-21T12:39:16.737Z"
   },
   {
    "duration": 12,
    "start_time": "2023-03-21T12:40:07.487Z"
   },
   {
    "duration": 8,
    "start_time": "2023-03-21T12:44:06.093Z"
   },
   {
    "duration": 12,
    "start_time": "2023-03-21T12:44:32.924Z"
   },
   {
    "duration": 5,
    "start_time": "2023-03-21T12:44:35.829Z"
   },
   {
    "duration": 5,
    "start_time": "2023-03-21T12:45:20.426Z"
   },
   {
    "duration": 5,
    "start_time": "2023-03-21T12:45:29.496Z"
   },
   {
    "duration": 5,
    "start_time": "2023-03-21T12:45:41.992Z"
   },
   {
    "duration": 66,
    "start_time": "2023-03-21T12:46:37.614Z"
   },
   {
    "duration": 3,
    "start_time": "2023-03-21T12:46:45.283Z"
   },
   {
    "duration": 3,
    "start_time": "2023-03-21T12:46:46.322Z"
   },
   {
    "duration": 17,
    "start_time": "2023-03-21T12:46:46.835Z"
   },
   {
    "duration": 6,
    "start_time": "2023-03-21T12:47:00.842Z"
   },
   {
    "duration": 7,
    "start_time": "2023-03-21T12:47:19.082Z"
   },
   {
    "duration": 3,
    "start_time": "2023-03-21T12:47:20.051Z"
   },
   {
    "duration": 3,
    "start_time": "2023-03-21T12:47:20.523Z"
   },
   {
    "duration": 8,
    "start_time": "2023-03-21T12:47:21.188Z"
   },
   {
    "duration": 5,
    "start_time": "2023-03-21T12:47:22.187Z"
   },
   {
    "duration": 84,
    "start_time": "2023-03-21T12:47:53.061Z"
   },
   {
    "duration": 3,
    "start_time": "2023-03-21T12:47:56.357Z"
   },
   {
    "duration": 3,
    "start_time": "2023-03-21T12:47:58.411Z"
   },
   {
    "duration": 3,
    "start_time": "2023-03-21T12:47:59.525Z"
   },
   {
    "duration": 9,
    "start_time": "2023-03-21T12:48:00.549Z"
   },
   {
    "duration": 5,
    "start_time": "2023-03-21T12:48:01.892Z"
   },
   {
    "duration": 15,
    "start_time": "2023-03-21T12:48:28.862Z"
   },
   {
    "duration": 3,
    "start_time": "2023-03-21T12:48:47.055Z"
   },
   {
    "duration": 6,
    "start_time": "2023-03-21T12:48:48.386Z"
   },
   {
    "duration": 79,
    "start_time": "2023-03-21T12:49:12.993Z"
   },
   {
    "duration": 59,
    "start_time": "2023-03-21T12:49:21.752Z"
   },
   {
    "duration": 62,
    "start_time": "2023-03-21T12:49:40.091Z"
   },
   {
    "duration": 4,
    "start_time": "2023-03-21T12:49:47.761Z"
   },
   {
    "duration": 61,
    "start_time": "2023-03-21T12:49:57.417Z"
   },
   {
    "duration": 90,
    "start_time": "2023-03-21T12:50:06.410Z"
   },
   {
    "duration": 6,
    "start_time": "2023-03-21T12:50:23.011Z"
   },
   {
    "duration": 4,
    "start_time": "2023-03-21T12:50:24.612Z"
   },
   {
    "duration": 3,
    "start_time": "2023-03-21T12:50:24.993Z"
   },
   {
    "duration": 10,
    "start_time": "2023-03-21T12:50:25.354Z"
   },
   {
    "duration": 5,
    "start_time": "2023-03-21T12:50:26.114Z"
   },
   {
    "duration": 3,
    "start_time": "2023-03-21T12:55:37.998Z"
   },
   {
    "duration": 2135,
    "start_time": "2023-03-21T12:55:50.311Z"
   },
   {
    "duration": 29,
    "start_time": "2023-03-21T12:55:52.448Z"
   },
   {
    "duration": 14,
    "start_time": "2023-03-21T12:55:52.479Z"
   },
   {
    "duration": 19,
    "start_time": "2023-03-21T12:55:52.495Z"
   },
   {
    "duration": 22,
    "start_time": "2023-03-21T12:55:52.517Z"
   },
   {
    "duration": 31,
    "start_time": "2023-03-21T12:55:52.541Z"
   },
   {
    "duration": 8,
    "start_time": "2023-03-21T12:55:52.574Z"
   },
   {
    "duration": 891,
    "start_time": "2023-03-21T12:55:52.586Z"
   },
   {
    "duration": 5,
    "start_time": "2023-03-21T12:55:53.479Z"
   },
   {
    "duration": 8,
    "start_time": "2023-03-21T12:55:53.486Z"
   },
   {
    "duration": 14,
    "start_time": "2023-03-21T12:55:53.495Z"
   },
   {
    "duration": 12,
    "start_time": "2023-03-21T12:55:53.511Z"
   },
   {
    "duration": 9,
    "start_time": "2023-03-21T12:55:53.541Z"
   },
   {
    "duration": 9,
    "start_time": "2023-03-21T12:55:53.554Z"
   },
   {
    "duration": 79,
    "start_time": "2023-03-21T12:55:53.565Z"
   },
   {
    "duration": 95,
    "start_time": "2023-03-21T12:55:53.646Z"
   },
   {
    "duration": 11,
    "start_time": "2023-03-21T12:55:53.743Z"
   },
   {
    "duration": 20,
    "start_time": "2023-03-21T12:55:53.755Z"
   },
   {
    "duration": 10,
    "start_time": "2023-03-21T13:01:53.725Z"
   },
   {
    "duration": 1454,
    "start_time": "2023-03-21T13:02:50.169Z"
   },
   {
    "duration": 30,
    "start_time": "2023-03-21T13:02:51.625Z"
   },
   {
    "duration": 15,
    "start_time": "2023-03-21T13:02:51.657Z"
   },
   {
    "duration": 26,
    "start_time": "2023-03-21T13:02:51.674Z"
   },
   {
    "duration": 5,
    "start_time": "2023-03-21T13:02:51.704Z"
   },
   {
    "duration": 47,
    "start_time": "2023-03-21T13:02:51.710Z"
   },
   {
    "duration": 6,
    "start_time": "2023-03-21T13:02:51.760Z"
   },
   {
    "duration": 855,
    "start_time": "2023-03-21T13:02:51.768Z"
   },
   {
    "duration": 17,
    "start_time": "2023-03-21T13:02:52.625Z"
   },
   {
    "duration": 29,
    "start_time": "2023-03-21T13:02:52.643Z"
   },
   {
    "duration": 8,
    "start_time": "2023-03-21T13:02:52.674Z"
   },
   {
    "duration": 23,
    "start_time": "2023-03-21T13:02:52.683Z"
   },
   {
    "duration": 28,
    "start_time": "2023-03-21T13:02:52.708Z"
   },
   {
    "duration": 102,
    "start_time": "2023-03-21T13:02:52.740Z"
   },
   {
    "duration": 13,
    "start_time": "2023-03-21T13:02:52.845Z"
   },
   {
    "duration": 22,
    "start_time": "2023-03-21T13:02:52.860Z"
   },
   {
    "duration": 59,
    "start_time": "2023-03-21T13:02:52.883Z"
   },
   {
    "duration": 16,
    "start_time": "2023-03-21T13:02:52.944Z"
   },
   {
    "duration": 1281,
    "start_time": "2023-03-22T07:22:58.626Z"
   },
   {
    "duration": 101,
    "start_time": "2023-03-22T07:22:59.909Z"
   },
   {
    "duration": 15,
    "start_time": "2023-03-22T07:23:08.513Z"
   },
   {
    "duration": 13,
    "start_time": "2023-03-22T07:23:08.940Z"
   },
   {
    "duration": 5,
    "start_time": "2023-03-22T07:23:09.216Z"
   },
   {
    "duration": 32,
    "start_time": "2023-03-22T07:23:09.785Z"
   },
   {
    "duration": 8,
    "start_time": "2023-03-22T07:23:10.061Z"
   },
   {
    "duration": 927,
    "start_time": "2023-03-22T07:23:10.465Z"
   },
   {
    "duration": 7,
    "start_time": "2023-03-22T07:23:11.395Z"
   },
   {
    "duration": 4,
    "start_time": "2023-03-22T07:35:03.263Z"
   },
   {
    "duration": 7,
    "start_time": "2023-03-22T07:35:03.893Z"
   },
   {
    "duration": 14,
    "start_time": "2023-03-22T07:35:04.417Z"
   },
   {
    "duration": 7,
    "start_time": "2023-03-22T07:35:49.232Z"
   },
   {
    "duration": 3,
    "start_time": "2023-03-22T07:36:18.417Z"
   },
   {
    "duration": 3,
    "start_time": "2023-03-22T07:36:18.916Z"
   },
   {
    "duration": 12,
    "start_time": "2023-03-22T07:36:19.119Z"
   },
   {
    "duration": 4,
    "start_time": "2023-03-22T07:36:19.569Z"
   },
   {
    "duration": 4,
    "start_time": "2023-03-22T07:36:20.153Z"
   }
  ],
  "kernelspec": {
   "display_name": "Python 3 (ipykernel)",
   "language": "python",
   "name": "python3"
  },
  "language_info": {
   "codemirror_mode": {
    "name": "ipython",
    "version": 3
   },
   "file_extension": ".py",
   "mimetype": "text/x-python",
   "name": "python",
   "nbconvert_exporter": "python",
   "pygments_lexer": "ipython3",
   "version": "3.9.13"
  },
  "toc": {
   "base_numbering": 1,
   "nav_menu": {},
   "number_sections": true,
   "sideBar": true,
   "skip_h1_title": true,
   "title_cell": "Содержание",
   "title_sidebar": "Contents",
   "toc_cell": true,
   "toc_position": {},
   "toc_section_display": true,
   "toc_window_display": true
  }
 },
 "nbformat": 4,
 "nbformat_minor": 2
}
