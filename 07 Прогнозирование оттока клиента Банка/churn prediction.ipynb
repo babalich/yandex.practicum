{
 "cells": [
  {
   "cell_type": "markdown",
   "metadata": {
    "toc": true
   },
   "source": [
    "<h1>Содержание<span class=\"tocSkip\"></span></h1>\n",
    "<div class=\"toc\"><ul class=\"toc-item\"><li><span><a href=\"#Подготовка-данных\" data-toc-modified-id=\"Подготовка-данных-1\"><span class=\"toc-item-num\">1&nbsp;&nbsp;</span>Подготовка данных</a></span><ul class=\"toc-item\"><li><span><a href=\"#EDA\" data-toc-modified-id=\"EDA-1.1\"><span class=\"toc-item-num\">1.1&nbsp;&nbsp;</span>EDA</a></span></li><li><span><a href=\"#Кодирование-переменных,-разбиение-выборок,-масштабирование\" data-toc-modified-id=\"Кодирование-переменных,-разбиение-выборок,-масштабирование-1.2\"><span class=\"toc-item-num\">1.2&nbsp;&nbsp;</span>Кодирование переменных, разбиение выборок, масштабирование</a></span></li></ul></li><li><span><a href=\"#Исследование-задачи\" data-toc-modified-id=\"Исследование-задачи-2\"><span class=\"toc-item-num\">2&nbsp;&nbsp;</span>Исследование задачи</a></span></li><li><span><a href=\"#Борьба-с-дисбалансом\" data-toc-modified-id=\"Борьба-с-дисбалансом-3\"><span class=\"toc-item-num\">3&nbsp;&nbsp;</span>Борьба с дисбалансом</a></span></li><li><span><a href=\"#Тестирование-модели\" data-toc-modified-id=\"Тестирование-модели-4\"><span class=\"toc-item-num\">4&nbsp;&nbsp;</span>Тестирование модели</a></span></li><li><span><a href=\"#Чек-лист-готовности-проекта\" data-toc-modified-id=\"Чек-лист-готовности-проекта-5\"><span class=\"toc-item-num\">5&nbsp;&nbsp;</span>Чек-лист готовности проекта</a></span></li></ul></div>"
   ]
  },
  {
   "cell_type": "markdown",
   "metadata": {},
   "source": [
    "# Отток клиентов"
   ]
  },
  {
   "cell_type": "markdown",
   "metadata": {},
   "source": [
    "Из «Бета-Банка» стали уходить клиенты. Каждый месяц. Немного, но заметно. Банковские маркетологи посчитали: сохранять текущих клиентов дешевле, чем привлекать новых.\n",
    "\n",
    "Нужно спрогнозировать, уйдёт клиент из банка в ближайшее время или нет. Вам предоставлены исторические данные о поведении клиентов и расторжении договоров с банком. \n",
    "\n",
    "Постройте модель с предельно большим значением *F1*-меры. Чтобы сдать проект успешно, нужно довести метрику до 0.59. Проверьте *F1*-меру на тестовой выборке самостоятельно.\n",
    "\n",
    "Дополнительно измеряйте *AUC-ROC*, сравнивайте её значение с *F1*-мерой.\n",
    "\n",
    "Источник данных: [https://www.kaggle.com/barelydedicated/bank-customer-churn-modeling](https://www.kaggle.com/barelydedicated/bank-customer-churn-modeling)"
   ]
  },
  {
   "cell_type": "markdown",
   "metadata": {},
   "source": [
    "## Подготовка данных"
   ]
  },
  {
   "cell_type": "code",
   "execution_count": 1,
   "metadata": {},
   "outputs": [
    {
     "name": "stdout",
     "output_type": "stream",
     "text": [
      "Requirement already satisfied: scikit-learn==1.1.3 in /opt/conda/lib/python3.9/site-packages (1.1.3)\n",
      "Requirement already satisfied: scipy>=1.3.2 in /opt/conda/lib/python3.9/site-packages (from scikit-learn==1.1.3) (1.9.1)\n",
      "Requirement already satisfied: threadpoolctl>=2.0.0 in /opt/conda/lib/python3.9/site-packages (from scikit-learn==1.1.3) (3.1.0)\n",
      "Requirement already satisfied: joblib>=1.0.0 in /opt/conda/lib/python3.9/site-packages (from scikit-learn==1.1.3) (1.2.0)\n",
      "Requirement already satisfied: numpy>=1.17.3 in /opt/conda/lib/python3.9/site-packages (from scikit-learn==1.1.3) (1.21.1)\n",
      "Requirement already satisfied: imblearn in /opt/conda/lib/python3.9/site-packages (0.0)\n",
      "Requirement already satisfied: imbalanced-learn in /opt/conda/lib/python3.9/site-packages (from imblearn) (0.10.1)\n",
      "Requirement already satisfied: threadpoolctl>=2.0.0 in /opt/conda/lib/python3.9/site-packages (from imbalanced-learn->imblearn) (3.1.0)\n",
      "Requirement already satisfied: scipy>=1.3.2 in /opt/conda/lib/python3.9/site-packages (from imbalanced-learn->imblearn) (1.9.1)\n",
      "Requirement already satisfied: numpy>=1.17.3 in /opt/conda/lib/python3.9/site-packages (from imbalanced-learn->imblearn) (1.21.1)\n",
      "Requirement already satisfied: joblib>=1.1.1 in /opt/conda/lib/python3.9/site-packages (from imbalanced-learn->imblearn) (1.2.0)\n",
      "Requirement already satisfied: scikit-learn>=1.0.2 in /opt/conda/lib/python3.9/site-packages (from imbalanced-learn->imblearn) (1.1.3)\n"
     ]
    }
   ],
   "source": [
    "!pip install scikit-learn==1.1.3\n",
    "!pip install imblearn"
   ]
  },
  {
   "cell_type": "code",
   "execution_count": 2,
   "metadata": {},
   "outputs": [],
   "source": [
    "import numpy as np\n",
    "import pandas as pd\n",
    "import matplotlib.pyplot as plt\n",
    "import seaborn as sns\n",
    "from sklearn.model_selection import train_test_split\n",
    "from sklearn.preprocessing import StandardScaler, OneHotEncoder\n",
    "from sklearn.metrics import roc_auc_score, f1_score, precision_score, recall_score\n",
    "from sklearn.ensemble import RandomForestClassifier\n",
    "from sklearn.linear_model import SGDClassifier\n",
    "from sklearn.utils import shuffle\n",
    "from sklearn.dummy import DummyClassifier\n",
    "\n",
    "from imblearn.over_sampling import SMOTE\n",
    "\n",
    "import warnings\n",
    "warnings.filterwarnings('ignore')"
   ]
  },
  {
   "cell_type": "code",
   "execution_count": 3,
   "metadata": {},
   "outputs": [],
   "source": [
    "data = pd.read_csv('/datasets/Churn.csv')"
   ]
  },
  {
   "cell_type": "markdown",
   "metadata": {},
   "source": [
    "### EDA"
   ]
  },
  {
   "cell_type": "code",
   "execution_count": 4,
   "metadata": {},
   "outputs": [
    {
     "data": {
      "text/html": [
       "<div>\n",
       "<style scoped>\n",
       "    .dataframe tbody tr th:only-of-type {\n",
       "        vertical-align: middle;\n",
       "    }\n",
       "\n",
       "    .dataframe tbody tr th {\n",
       "        vertical-align: top;\n",
       "    }\n",
       "\n",
       "    .dataframe thead th {\n",
       "        text-align: right;\n",
       "    }\n",
       "</style>\n",
       "<table border=\"1\" class=\"dataframe\">\n",
       "  <thead>\n",
       "    <tr style=\"text-align: right;\">\n",
       "      <th></th>\n",
       "      <th>RowNumber</th>\n",
       "      <th>CustomerId</th>\n",
       "      <th>Surname</th>\n",
       "      <th>CreditScore</th>\n",
       "      <th>Geography</th>\n",
       "      <th>Gender</th>\n",
       "      <th>Age</th>\n",
       "      <th>Tenure</th>\n",
       "      <th>Balance</th>\n",
       "      <th>NumOfProducts</th>\n",
       "      <th>HasCrCard</th>\n",
       "      <th>IsActiveMember</th>\n",
       "      <th>EstimatedSalary</th>\n",
       "      <th>Exited</th>\n",
       "    </tr>\n",
       "  </thead>\n",
       "  <tbody>\n",
       "    <tr>\n",
       "      <th>0</th>\n",
       "      <td>1</td>\n",
       "      <td>15634602</td>\n",
       "      <td>Hargrave</td>\n",
       "      <td>619</td>\n",
       "      <td>France</td>\n",
       "      <td>Female</td>\n",
       "      <td>42</td>\n",
       "      <td>2.0</td>\n",
       "      <td>0.00</td>\n",
       "      <td>1</td>\n",
       "      <td>1</td>\n",
       "      <td>1</td>\n",
       "      <td>101348.88</td>\n",
       "      <td>1</td>\n",
       "    </tr>\n",
       "    <tr>\n",
       "      <th>1</th>\n",
       "      <td>2</td>\n",
       "      <td>15647311</td>\n",
       "      <td>Hill</td>\n",
       "      <td>608</td>\n",
       "      <td>Spain</td>\n",
       "      <td>Female</td>\n",
       "      <td>41</td>\n",
       "      <td>1.0</td>\n",
       "      <td>83807.86</td>\n",
       "      <td>1</td>\n",
       "      <td>0</td>\n",
       "      <td>1</td>\n",
       "      <td>112542.58</td>\n",
       "      <td>0</td>\n",
       "    </tr>\n",
       "    <tr>\n",
       "      <th>2</th>\n",
       "      <td>3</td>\n",
       "      <td>15619304</td>\n",
       "      <td>Onio</td>\n",
       "      <td>502</td>\n",
       "      <td>France</td>\n",
       "      <td>Female</td>\n",
       "      <td>42</td>\n",
       "      <td>8.0</td>\n",
       "      <td>159660.80</td>\n",
       "      <td>3</td>\n",
       "      <td>1</td>\n",
       "      <td>0</td>\n",
       "      <td>113931.57</td>\n",
       "      <td>1</td>\n",
       "    </tr>\n",
       "    <tr>\n",
       "      <th>3</th>\n",
       "      <td>4</td>\n",
       "      <td>15701354</td>\n",
       "      <td>Boni</td>\n",
       "      <td>699</td>\n",
       "      <td>France</td>\n",
       "      <td>Female</td>\n",
       "      <td>39</td>\n",
       "      <td>1.0</td>\n",
       "      <td>0.00</td>\n",
       "      <td>2</td>\n",
       "      <td>0</td>\n",
       "      <td>0</td>\n",
       "      <td>93826.63</td>\n",
       "      <td>0</td>\n",
       "    </tr>\n",
       "    <tr>\n",
       "      <th>4</th>\n",
       "      <td>5</td>\n",
       "      <td>15737888</td>\n",
       "      <td>Mitchell</td>\n",
       "      <td>850</td>\n",
       "      <td>Spain</td>\n",
       "      <td>Female</td>\n",
       "      <td>43</td>\n",
       "      <td>2.0</td>\n",
       "      <td>125510.82</td>\n",
       "      <td>1</td>\n",
       "      <td>1</td>\n",
       "      <td>1</td>\n",
       "      <td>79084.10</td>\n",
       "      <td>0</td>\n",
       "    </tr>\n",
       "  </tbody>\n",
       "</table>\n",
       "</div>"
      ],
      "text/plain": [
       "   RowNumber  CustomerId   Surname  CreditScore Geography  Gender  Age  \\\n",
       "0          1    15634602  Hargrave          619    France  Female   42   \n",
       "1          2    15647311      Hill          608     Spain  Female   41   \n",
       "2          3    15619304      Onio          502    France  Female   42   \n",
       "3          4    15701354      Boni          699    France  Female   39   \n",
       "4          5    15737888  Mitchell          850     Spain  Female   43   \n",
       "\n",
       "   Tenure    Balance  NumOfProducts  HasCrCard  IsActiveMember  \\\n",
       "0     2.0       0.00              1          1               1   \n",
       "1     1.0   83807.86              1          0               1   \n",
       "2     8.0  159660.80              3          1               0   \n",
       "3     1.0       0.00              2          0               0   \n",
       "4     2.0  125510.82              1          1               1   \n",
       "\n",
       "   EstimatedSalary  Exited  \n",
       "0        101348.88       1  \n",
       "1        112542.58       0  \n",
       "2        113931.57       1  \n",
       "3         93826.63       0  \n",
       "4         79084.10       0  "
      ]
     },
     "execution_count": 4,
     "metadata": {},
     "output_type": "execute_result"
    }
   ],
   "source": [
    "data.head()"
   ]
  },
  {
   "cell_type": "code",
   "execution_count": 5,
   "metadata": {},
   "outputs": [
    {
     "name": "stdout",
     "output_type": "stream",
     "text": [
      "<class 'pandas.core.frame.DataFrame'>\n",
      "RangeIndex: 10000 entries, 0 to 9999\n",
      "Data columns (total 14 columns):\n",
      " #   Column           Non-Null Count  Dtype  \n",
      "---  ------           --------------  -----  \n",
      " 0   RowNumber        10000 non-null  int64  \n",
      " 1   CustomerId       10000 non-null  int64  \n",
      " 2   Surname          10000 non-null  object \n",
      " 3   CreditScore      10000 non-null  int64  \n",
      " 4   Geography        10000 non-null  object \n",
      " 5   Gender           10000 non-null  object \n",
      " 6   Age              10000 non-null  int64  \n",
      " 7   Tenure           9091 non-null   float64\n",
      " 8   Balance          10000 non-null  float64\n",
      " 9   NumOfProducts    10000 non-null  int64  \n",
      " 10  HasCrCard        10000 non-null  int64  \n",
      " 11  IsActiveMember   10000 non-null  int64  \n",
      " 12  EstimatedSalary  10000 non-null  float64\n",
      " 13  Exited           10000 non-null  int64  \n",
      "dtypes: float64(3), int64(8), object(3)\n",
      "memory usage: 1.1+ MB\n"
     ]
    }
   ],
   "source": [
    "data.info()"
   ]
  },
  {
   "cell_type": "code",
   "execution_count": 6,
   "metadata": {},
   "outputs": [
    {
     "data": {
      "text/html": [
       "<div>\n",
       "<style scoped>\n",
       "    .dataframe tbody tr th:only-of-type {\n",
       "        vertical-align: middle;\n",
       "    }\n",
       "\n",
       "    .dataframe tbody tr th {\n",
       "        vertical-align: top;\n",
       "    }\n",
       "\n",
       "    .dataframe thead th {\n",
       "        text-align: right;\n",
       "    }\n",
       "</style>\n",
       "<table border=\"1\" class=\"dataframe\">\n",
       "  <thead>\n",
       "    <tr style=\"text-align: right;\">\n",
       "      <th></th>\n",
       "      <th>RowNumber</th>\n",
       "      <th>CustomerId</th>\n",
       "      <th>CreditScore</th>\n",
       "      <th>Age</th>\n",
       "      <th>Tenure</th>\n",
       "      <th>Balance</th>\n",
       "      <th>NumOfProducts</th>\n",
       "      <th>HasCrCard</th>\n",
       "      <th>IsActiveMember</th>\n",
       "      <th>EstimatedSalary</th>\n",
       "      <th>Exited</th>\n",
       "    </tr>\n",
       "  </thead>\n",
       "  <tbody>\n",
       "    <tr>\n",
       "      <th>count</th>\n",
       "      <td>10000.00000</td>\n",
       "      <td>1.000000e+04</td>\n",
       "      <td>10000.000000</td>\n",
       "      <td>10000.000000</td>\n",
       "      <td>9091.000000</td>\n",
       "      <td>10000.000000</td>\n",
       "      <td>10000.000000</td>\n",
       "      <td>10000.00000</td>\n",
       "      <td>10000.000000</td>\n",
       "      <td>10000.000000</td>\n",
       "      <td>10000.000000</td>\n",
       "    </tr>\n",
       "    <tr>\n",
       "      <th>mean</th>\n",
       "      <td>5000.50000</td>\n",
       "      <td>1.569094e+07</td>\n",
       "      <td>650.528800</td>\n",
       "      <td>38.921800</td>\n",
       "      <td>4.997690</td>\n",
       "      <td>76485.889288</td>\n",
       "      <td>1.530200</td>\n",
       "      <td>0.70550</td>\n",
       "      <td>0.515100</td>\n",
       "      <td>100090.239881</td>\n",
       "      <td>0.203700</td>\n",
       "    </tr>\n",
       "    <tr>\n",
       "      <th>std</th>\n",
       "      <td>2886.89568</td>\n",
       "      <td>7.193619e+04</td>\n",
       "      <td>96.653299</td>\n",
       "      <td>10.487806</td>\n",
       "      <td>2.894723</td>\n",
       "      <td>62397.405202</td>\n",
       "      <td>0.581654</td>\n",
       "      <td>0.45584</td>\n",
       "      <td>0.499797</td>\n",
       "      <td>57510.492818</td>\n",
       "      <td>0.402769</td>\n",
       "    </tr>\n",
       "    <tr>\n",
       "      <th>min</th>\n",
       "      <td>1.00000</td>\n",
       "      <td>1.556570e+07</td>\n",
       "      <td>350.000000</td>\n",
       "      <td>18.000000</td>\n",
       "      <td>0.000000</td>\n",
       "      <td>0.000000</td>\n",
       "      <td>1.000000</td>\n",
       "      <td>0.00000</td>\n",
       "      <td>0.000000</td>\n",
       "      <td>11.580000</td>\n",
       "      <td>0.000000</td>\n",
       "    </tr>\n",
       "    <tr>\n",
       "      <th>25%</th>\n",
       "      <td>2500.75000</td>\n",
       "      <td>1.562853e+07</td>\n",
       "      <td>584.000000</td>\n",
       "      <td>32.000000</td>\n",
       "      <td>2.000000</td>\n",
       "      <td>0.000000</td>\n",
       "      <td>1.000000</td>\n",
       "      <td>0.00000</td>\n",
       "      <td>0.000000</td>\n",
       "      <td>51002.110000</td>\n",
       "      <td>0.000000</td>\n",
       "    </tr>\n",
       "    <tr>\n",
       "      <th>50%</th>\n",
       "      <td>5000.50000</td>\n",
       "      <td>1.569074e+07</td>\n",
       "      <td>652.000000</td>\n",
       "      <td>37.000000</td>\n",
       "      <td>5.000000</td>\n",
       "      <td>97198.540000</td>\n",
       "      <td>1.000000</td>\n",
       "      <td>1.00000</td>\n",
       "      <td>1.000000</td>\n",
       "      <td>100193.915000</td>\n",
       "      <td>0.000000</td>\n",
       "    </tr>\n",
       "    <tr>\n",
       "      <th>75%</th>\n",
       "      <td>7500.25000</td>\n",
       "      <td>1.575323e+07</td>\n",
       "      <td>718.000000</td>\n",
       "      <td>44.000000</td>\n",
       "      <td>7.000000</td>\n",
       "      <td>127644.240000</td>\n",
       "      <td>2.000000</td>\n",
       "      <td>1.00000</td>\n",
       "      <td>1.000000</td>\n",
       "      <td>149388.247500</td>\n",
       "      <td>0.000000</td>\n",
       "    </tr>\n",
       "    <tr>\n",
       "      <th>max</th>\n",
       "      <td>10000.00000</td>\n",
       "      <td>1.581569e+07</td>\n",
       "      <td>850.000000</td>\n",
       "      <td>92.000000</td>\n",
       "      <td>10.000000</td>\n",
       "      <td>250898.090000</td>\n",
       "      <td>4.000000</td>\n",
       "      <td>1.00000</td>\n",
       "      <td>1.000000</td>\n",
       "      <td>199992.480000</td>\n",
       "      <td>1.000000</td>\n",
       "    </tr>\n",
       "  </tbody>\n",
       "</table>\n",
       "</div>"
      ],
      "text/plain": [
       "         RowNumber    CustomerId   CreditScore           Age       Tenure  \\\n",
       "count  10000.00000  1.000000e+04  10000.000000  10000.000000  9091.000000   \n",
       "mean    5000.50000  1.569094e+07    650.528800     38.921800     4.997690   \n",
       "std     2886.89568  7.193619e+04     96.653299     10.487806     2.894723   \n",
       "min        1.00000  1.556570e+07    350.000000     18.000000     0.000000   \n",
       "25%     2500.75000  1.562853e+07    584.000000     32.000000     2.000000   \n",
       "50%     5000.50000  1.569074e+07    652.000000     37.000000     5.000000   \n",
       "75%     7500.25000  1.575323e+07    718.000000     44.000000     7.000000   \n",
       "max    10000.00000  1.581569e+07    850.000000     92.000000    10.000000   \n",
       "\n",
       "             Balance  NumOfProducts    HasCrCard  IsActiveMember  \\\n",
       "count   10000.000000   10000.000000  10000.00000    10000.000000   \n",
       "mean    76485.889288       1.530200      0.70550        0.515100   \n",
       "std     62397.405202       0.581654      0.45584        0.499797   \n",
       "min         0.000000       1.000000      0.00000        0.000000   \n",
       "25%         0.000000       1.000000      0.00000        0.000000   \n",
       "50%     97198.540000       1.000000      1.00000        1.000000   \n",
       "75%    127644.240000       2.000000      1.00000        1.000000   \n",
       "max    250898.090000       4.000000      1.00000        1.000000   \n",
       "\n",
       "       EstimatedSalary        Exited  \n",
       "count     10000.000000  10000.000000  \n",
       "mean     100090.239881      0.203700  \n",
       "std       57510.492818      0.402769  \n",
       "min          11.580000      0.000000  \n",
       "25%       51002.110000      0.000000  \n",
       "50%      100193.915000      0.000000  \n",
       "75%      149388.247500      0.000000  \n",
       "max      199992.480000      1.000000  "
      ]
     },
     "execution_count": 6,
     "metadata": {},
     "output_type": "execute_result"
    }
   ],
   "source": [
    "data.describe()"
   ]
  },
  {
   "cell_type": "markdown",
   "metadata": {},
   "source": [
    "Признаки **RowNumber, CustomerId, Surname** кажутся не информативными. Делать предсказание по фамилии противоречит здравому смыслу, номер строки и id клиента будут просто путать модель. Удаляем их из дата сета"
   ]
  },
  {
   "cell_type": "code",
   "execution_count": 7,
   "metadata": {},
   "outputs": [],
   "source": [
    "data.drop(['RowNumber', 'CustomerId', 'Surname'], axis=1, inplace=True)"
   ]
  },
  {
   "cell_type": "markdown",
   "metadata": {},
   "source": [
    "В столбце **Tenure** присутствуют пропуски. Посмотрим подробнее"
   ]
  },
  {
   "cell_type": "code",
   "execution_count": 8,
   "metadata": {},
   "outputs": [
    {
     "data": {
      "image/png": "[encoded data removed]",
      "text/plain": [
       "<Figure size 432x288 with 1 Axes>"
      ]
     },
     "metadata": {
      "needs_background": "light"
     },
     "output_type": "display_data"
    }
   ],
   "source": [
    "data['Tenure'].hist(bins=10)\n",
    "plt.xticks(range(0,10))\n",
    "plt.title('Количество клиентов по продолжительности обслуживания в банке')\n",
    "plt.xlabel('Tenure')\n",
    "plt.show()"
   ]
  },
  {
   "cell_type": "code",
   "execution_count": 9,
   "metadata": {},
   "outputs": [
    {
     "data": {
      "text/plain": [
       "Tenure\n",
       "0.0     0.235602\n",
       "1.0     0.223739\n",
       "2.0     0.194737\n",
       "3.0     0.213362\n",
       "4.0     0.207910\n",
       "5.0     0.201726\n",
       "6.0     0.200908\n",
       "7.0     0.172973\n",
       "8.0     0.186495\n",
       "9.0     0.219955\n",
       "10.0    0.206278\n",
       "Name: Exited, dtype: float64"
      ]
     },
     "execution_count": 9,
     "metadata": {},
     "output_type": "execute_result"
    }
   ],
   "source": [
    "data.groupby('Tenure')['Exited'].mean()"
   ]
  },
  {
   "cell_type": "code",
   "execution_count": 10,
   "metadata": {},
   "outputs": [
    {
     "data": {
      "text/plain": [
       "0.20132013201320131"
      ]
     },
     "execution_count": 10,
     "metadata": {},
     "output_type": "execute_result"
    }
   ],
   "source": [
    "data.loc[data['Tenure'].isna(), 'Exited'].mean()"
   ]
  },
  {
   "cell_type": "markdown",
   "metadata": {},
   "source": [
    "Не похоже, что пропуск это реально отсутствующее значение. В среднем, клиенты с пропуском уходят приблизительно с той же вероятностью, что и клиенты 5 лет обслуживания. Заполним пропуск значением 5. Тип данных приведем к целым"
   ]
  },
  {
   "cell_type": "code",
   "execution_count": 11,
   "metadata": {},
   "outputs": [],
   "source": [
    "data['Tenure'].fillna(5, inplace=True)\n",
    "data['Tenure'] = data['Tenure'].astype('int')"
   ]
  },
  {
   "cell_type": "code",
   "execution_count": 12,
   "metadata": {},
   "outputs": [
    {
     "data": {
      "image/png": "[encoded data removed]",
      "text/plain": [
       "<Figure size 360x360 with 1 Axes>"
      ]
     },
     "metadata": {
      "needs_background": "light"
     },
     "output_type": "display_data"
    }
   ],
   "source": [
    "sns.displot(data['Balance'], kde=True)\n",
    "plt.title('Распределение клиентов по сумме на балансе')\n",
    "plt.show()"
   ]
  },
  {
   "cell_type": "markdown",
   "metadata": {},
   "source": [
    "Подозрительно большое количество людей с нулем на балансе, в остальном распределение нормальное."
   ]
  },
  {
   "cell_type": "code",
   "execution_count": 13,
   "metadata": {},
   "outputs": [
    {
     "data": {
      "image/png": "[encoded data removed]",
      "text/plain": [
       "<Figure size 360x360 with 1 Axes>"
      ]
     },
     "metadata": {
      "needs_background": "light"
     },
     "output_type": "display_data"
    }
   ],
   "source": [
    "sns.displot(data['EstimatedSalary'], kind='kde')\n",
    "plt.xticks(rotation=45)\n",
    "plt.title('Распределение клиентов предполагаемой зарплате')\n",
    "plt.show()"
   ]
  },
  {
   "cell_type": "markdown",
   "metadata": {},
   "source": [
    "Околонулевые значения зарплаты показались странными, однако мы видим, что данные распределены равномерно."
   ]
  },
  {
   "cell_type": "markdown",
   "metadata": {},
   "source": [
    "### Кодирование переменных, разбиение выборок, масштабирование"
   ]
  },
  {
   "cell_type": "code",
   "execution_count": 14,
   "metadata": {},
   "outputs": [],
   "source": [
    "features = data.drop('Exited', axis=1)\n",
    "targets = data['Exited']"
   ]
  },
  {
   "cell_type": "code",
   "execution_count": 15,
   "metadata": {},
   "outputs": [
    {
     "data": {
      "text/plain": [
       "array(['France', 'Spain', 'Germany'], dtype=object)"
      ]
     },
     "execution_count": 15,
     "metadata": {},
     "output_type": "execute_result"
    }
   ],
   "source": [
    "data['Geography'].unique()"
   ]
  },
  {
   "cell_type": "code",
   "execution_count": 16,
   "metadata": {},
   "outputs": [
    {
     "data": {
      "text/plain": [
       "array(['Female', 'Male'], dtype=object)"
      ]
     },
     "execution_count": 16,
     "metadata": {},
     "output_type": "execute_result"
    }
   ],
   "source": [
    "data['Gender'].unique()"
   ]
  },
  {
   "cell_type": "markdown",
   "metadata": {},
   "source": [
    "У наших категориальных признаков всего несколько уникальных значений. Значит, когда будем использовать OHE, наш датасет не слишком разрастется в ширину."
   ]
  },
  {
   "cell_type": "code",
   "execution_count": 17,
   "metadata": {},
   "outputs": [],
   "source": [
    "#features_ohe = pd.get_dummies(features, drop_first=True)"
   ]
  },
  {
   "cell_type": "code",
   "execution_count": 18,
   "metadata": {},
   "outputs": [
    {
     "name": "stdout",
     "output_type": "stream",
     "text": [
      "<class 'pandas.core.frame.DataFrame'>\n",
      "RangeIndex: 10000 entries, 0 to 9999\n",
      "Data columns (total 10 columns):\n",
      " #   Column           Non-Null Count  Dtype  \n",
      "---  ------           --------------  -----  \n",
      " 0   CreditScore      10000 non-null  int64  \n",
      " 1   Geography        10000 non-null  object \n",
      " 2   Gender           10000 non-null  object \n",
      " 3   Age              10000 non-null  int64  \n",
      " 4   Tenure           10000 non-null  int64  \n",
      " 5   Balance          10000 non-null  float64\n",
      " 6   NumOfProducts    10000 non-null  int64  \n",
      " 7   HasCrCard        10000 non-null  int64  \n",
      " 8   IsActiveMember   10000 non-null  int64  \n",
      " 9   EstimatedSalary  10000 non-null  float64\n",
      "dtypes: float64(2), int64(6), object(2)\n",
      "memory usage: 781.4+ KB\n"
     ]
    }
   ],
   "source": [
    "features.info()"
   ]
  },
  {
   "cell_type": "code",
   "execution_count": 19,
   "metadata": {},
   "outputs": [
    {
     "data": {
      "text/plain": [
       "0    7963\n",
       "1    2037\n",
       "Name: Exited, dtype: int64"
      ]
     },
     "execution_count": 19,
     "metadata": {},
     "output_type": "execute_result"
    }
   ],
   "source": [
    "targets.value_counts()"
   ]
  },
  {
   "cell_type": "code",
   "execution_count": 20,
   "metadata": {},
   "outputs": [
    {
     "data": {
      "text/html": [
       "<div>\n",
       "<style scoped>\n",
       "    .dataframe tbody tr th:only-of-type {\n",
       "        vertical-align: middle;\n",
       "    }\n",
       "\n",
       "    .dataframe tbody tr th {\n",
       "        vertical-align: top;\n",
       "    }\n",
       "\n",
       "    .dataframe thead th {\n",
       "        text-align: right;\n",
       "    }\n",
       "</style>\n",
       "<table border=\"1\" class=\"dataframe\">\n",
       "  <thead>\n",
       "    <tr style=\"text-align: right;\">\n",
       "      <th></th>\n",
       "      <th>CreditScore</th>\n",
       "      <th>Geography</th>\n",
       "      <th>Gender</th>\n",
       "      <th>Age</th>\n",
       "      <th>Tenure</th>\n",
       "      <th>Balance</th>\n",
       "      <th>NumOfProducts</th>\n",
       "      <th>HasCrCard</th>\n",
       "      <th>IsActiveMember</th>\n",
       "      <th>EstimatedSalary</th>\n",
       "    </tr>\n",
       "  </thead>\n",
       "  <tbody>\n",
       "    <tr>\n",
       "      <th>0</th>\n",
       "      <td>619</td>\n",
       "      <td>France</td>\n",
       "      <td>Female</td>\n",
       "      <td>42</td>\n",
       "      <td>2</td>\n",
       "      <td>0.00</td>\n",
       "      <td>1</td>\n",
       "      <td>1</td>\n",
       "      <td>1</td>\n",
       "      <td>101348.88</td>\n",
       "    </tr>\n",
       "    <tr>\n",
       "      <th>1</th>\n",
       "      <td>608</td>\n",
       "      <td>Spain</td>\n",
       "      <td>Female</td>\n",
       "      <td>41</td>\n",
       "      <td>1</td>\n",
       "      <td>83807.86</td>\n",
       "      <td>1</td>\n",
       "      <td>0</td>\n",
       "      <td>1</td>\n",
       "      <td>112542.58</td>\n",
       "    </tr>\n",
       "    <tr>\n",
       "      <th>2</th>\n",
       "      <td>502</td>\n",
       "      <td>France</td>\n",
       "      <td>Female</td>\n",
       "      <td>42</td>\n",
       "      <td>8</td>\n",
       "      <td>159660.80</td>\n",
       "      <td>3</td>\n",
       "      <td>1</td>\n",
       "      <td>0</td>\n",
       "      <td>113931.57</td>\n",
       "    </tr>\n",
       "    <tr>\n",
       "      <th>3</th>\n",
       "      <td>699</td>\n",
       "      <td>France</td>\n",
       "      <td>Female</td>\n",
       "      <td>39</td>\n",
       "      <td>1</td>\n",
       "      <td>0.00</td>\n",
       "      <td>2</td>\n",
       "      <td>0</td>\n",
       "      <td>0</td>\n",
       "      <td>93826.63</td>\n",
       "    </tr>\n",
       "    <tr>\n",
       "      <th>4</th>\n",
       "      <td>850</td>\n",
       "      <td>Spain</td>\n",
       "      <td>Female</td>\n",
       "      <td>43</td>\n",
       "      <td>2</td>\n",
       "      <td>125510.82</td>\n",
       "      <td>1</td>\n",
       "      <td>1</td>\n",
       "      <td>1</td>\n",
       "      <td>79084.10</td>\n",
       "    </tr>\n",
       "    <tr>\n",
       "      <th>...</th>\n",
       "      <td>...</td>\n",
       "      <td>...</td>\n",
       "      <td>...</td>\n",
       "      <td>...</td>\n",
       "      <td>...</td>\n",
       "      <td>...</td>\n",
       "      <td>...</td>\n",
       "      <td>...</td>\n",
       "      <td>...</td>\n",
       "      <td>...</td>\n",
       "    </tr>\n",
       "    <tr>\n",
       "      <th>9995</th>\n",
       "      <td>771</td>\n",
       "      <td>France</td>\n",
       "      <td>Male</td>\n",
       "      <td>39</td>\n",
       "      <td>5</td>\n",
       "      <td>0.00</td>\n",
       "      <td>2</td>\n",
       "      <td>1</td>\n",
       "      <td>0</td>\n",
       "      <td>96270.64</td>\n",
       "    </tr>\n",
       "    <tr>\n",
       "      <th>9996</th>\n",
       "      <td>516</td>\n",
       "      <td>France</td>\n",
       "      <td>Male</td>\n",
       "      <td>35</td>\n",
       "      <td>10</td>\n",
       "      <td>57369.61</td>\n",
       "      <td>1</td>\n",
       "      <td>1</td>\n",
       "      <td>1</td>\n",
       "      <td>101699.77</td>\n",
       "    </tr>\n",
       "    <tr>\n",
       "      <th>9997</th>\n",
       "      <td>709</td>\n",
       "      <td>France</td>\n",
       "      <td>Female</td>\n",
       "      <td>36</td>\n",
       "      <td>7</td>\n",
       "      <td>0.00</td>\n",
       "      <td>1</td>\n",
       "      <td>0</td>\n",
       "      <td>1</td>\n",
       "      <td>42085.58</td>\n",
       "    </tr>\n",
       "    <tr>\n",
       "      <th>9998</th>\n",
       "      <td>772</td>\n",
       "      <td>Germany</td>\n",
       "      <td>Male</td>\n",
       "      <td>42</td>\n",
       "      <td>3</td>\n",
       "      <td>75075.31</td>\n",
       "      <td>2</td>\n",
       "      <td>1</td>\n",
       "      <td>0</td>\n",
       "      <td>92888.52</td>\n",
       "    </tr>\n",
       "    <tr>\n",
       "      <th>9999</th>\n",
       "      <td>792</td>\n",
       "      <td>France</td>\n",
       "      <td>Female</td>\n",
       "      <td>28</td>\n",
       "      <td>5</td>\n",
       "      <td>130142.79</td>\n",
       "      <td>1</td>\n",
       "      <td>1</td>\n",
       "      <td>0</td>\n",
       "      <td>38190.78</td>\n",
       "    </tr>\n",
       "  </tbody>\n",
       "</table>\n",
       "<p>10000 rows × 10 columns</p>\n",
       "</div>"
      ],
      "text/plain": [
       "      CreditScore Geography  Gender  Age  Tenure    Balance  NumOfProducts  \\\n",
       "0             619    France  Female   42       2       0.00              1   \n",
       "1             608     Spain  Female   41       1   83807.86              1   \n",
       "2             502    France  Female   42       8  159660.80              3   \n",
       "3             699    France  Female   39       1       0.00              2   \n",
       "4             850     Spain  Female   43       2  125510.82              1   \n",
       "...           ...       ...     ...  ...     ...        ...            ...   \n",
       "9995          771    France    Male   39       5       0.00              2   \n",
       "9996          516    France    Male   35      10   57369.61              1   \n",
       "9997          709    France  Female   36       7       0.00              1   \n",
       "9998          772   Germany    Male   42       3   75075.31              2   \n",
       "9999          792    France  Female   28       5  130142.79              1   \n",
       "\n",
       "      HasCrCard  IsActiveMember  EstimatedSalary  \n",
       "0             1               1        101348.88  \n",
       "1             0               1        112542.58  \n",
       "2             1               0        113931.57  \n",
       "3             0               0         93826.63  \n",
       "4             1               1         79084.10  \n",
       "...         ...             ...              ...  \n",
       "9995          1               0         96270.64  \n",
       "9996          1               1        101699.77  \n",
       "9997          0               1         42085.58  \n",
       "9998          1               0         92888.52  \n",
       "9999          1               0         38190.78  \n",
       "\n",
       "[10000 rows x 10 columns]"
      ]
     },
     "execution_count": 20,
     "metadata": {},
     "output_type": "execute_result"
    }
   ],
   "source": [
    "features"
   ]
  },
  {
   "cell_type": "markdown",
   "metadata": {},
   "source": [
    "Мы практически подготовили наши данные. Осталось разбить их на выборки и отмасштабировать. <br>\n",
    "Мы будем использовать отложенную валидационную и тестовую выборки. Для чистоты эксперимента StandartScaler будет обучаться только на тренировочной. В выборке дисбаланс классов, поэтому будем использовать стратификацию"
   ]
  },
  {
   "cell_type": "code",
   "execution_count": 21,
   "metadata": {},
   "outputs": [],
   "source": [
    "features_train, features_valid, targets_train, targets_valid = train_test_split(features,\n",
    "                                                                                targets,\n",
    "                                                                                test_size=0.4,\n",
    "                                                                                stratify=targets,\n",
    "                                                                                random_state=1)"
   ]
  },
  {
   "cell_type": "code",
   "execution_count": 22,
   "metadata": {},
   "outputs": [],
   "source": [
    "features_valid, features_test, targets_valid, targets_test = train_test_split(features_valid,\n",
    "                                                                              targets_valid,\n",
    "                                                                              test_size=0.5,\n",
    "                                                                              stratify=targets_valid,\n",
    "                                                                              random_state=1)"
   ]
  },
  {
   "cell_type": "code",
   "execution_count": 23,
   "metadata": {},
   "outputs": [
    {
     "name": "stdout",
     "output_type": "stream",
     "text": [
      "features_train shape (6000, 10), targets_train shape (6000,)\n",
      "features_valid shape (2000, 10), targets_valid shape (2000,)\n",
      "features_test shape (2000, 10), targets_valid shape (2000,)\n",
      "\n",
      "0    0.796333\n",
      "1    0.203667\n",
      "Name: Exited, dtype: float64\n",
      "0    0.7965\n",
      "1    0.2035\n",
      "Name: Exited, dtype: float64\n",
      "0    0.796\n",
      "1    0.204\n",
      "Name: Exited, dtype: float64\n"
     ]
    }
   ],
   "source": [
    "# проверяем, что нигде не накосячили\n",
    "print(f'features_train shape {features_train.shape}, targets_train shape {targets_train.shape}')\n",
    "print(f'features_valid shape {features_valid.shape}, targets_valid shape {targets_valid.shape}')\n",
    "print(f'features_test shape {features_test.shape}, targets_valid shape {targets_test.shape}')\n",
    "print('')\n",
    "print(targets_train.value_counts(normalize=True))\n",
    "print(targets_valid.value_counts(normalize=True))\n",
    "print(targets_test.value_counts(normalize=True))"
   ]
  },
  {
   "cell_type": "code",
   "execution_count": 24,
   "metadata": {},
   "outputs": [
    {
     "data": {
      "text/plain": [
       "['Geography', 'Gender']"
      ]
     },
     "execution_count": 24,
     "metadata": {},
     "output_type": "execute_result"
    }
   ],
   "source": [
    "categorical_features = features_train.select_dtypes(include='object').columns.to_list()\n",
    "categorical_features"
   ]
  },
  {
   "cell_type": "code",
   "execution_count": 25,
   "metadata": {},
   "outputs": [
    {
     "data": {
      "text/html": [
       "<style>#sk-container-id-1 {color: black;background-color: white;}#sk-container-id-1 pre{padding: 0;}#sk-container-id-1 div.sk-toggleable {background-color: white;}#sk-container-id-1 label.sk-toggleable__label {cursor: pointer;display: block;width: 100%;margin-bottom: 0;padding: 0.3em;box-sizing: border-box;text-align: center;}#sk-container-id-1 label.sk-toggleable__label-arrow:before {content: \"▸\";float: left;margin-right: 0.25em;color: #696969;}#sk-container-id-1 label.sk-toggleable__label-arrow:hover:before {color: black;}#sk-container-id-1 div.sk-estimator:hover label.sk-toggleable__label-arrow:before {color: black;}#sk-container-id-1 div.sk-toggleable__content {max-height: 0;max-width: 0;overflow: hidden;text-align: left;background-color: #f0f8ff;}#sk-container-id-1 div.sk-toggleable__content pre {margin: 0.2em;color: black;border-radius: 0.25em;background-color: #f0f8ff;}#sk-container-id-1 input.sk-toggleable__control:checked~div.sk-toggleable__content {max-height: 200px;max-width: 100%;overflow: auto;}#sk-container-id-1 input.sk-toggleable__control:checked~label.sk-toggleable__label-arrow:before {content: \"▾\";}#sk-container-id-1 div.sk-estimator input.sk-toggleable__control:checked~label.sk-toggleable__label {background-color: #d4ebff;}#sk-container-id-1 div.sk-label input.sk-toggleable__control:checked~label.sk-toggleable__label {background-color: #d4ebff;}#sk-container-id-1 input.sk-hidden--visually {border: 0;clip: rect(1px 1px 1px 1px);clip: rect(1px, 1px, 1px, 1px);height: 1px;margin: -1px;overflow: hidden;padding: 0;position: absolute;width: 1px;}#sk-container-id-1 div.sk-estimator {font-family: monospace;background-color: #f0f8ff;border: 1px dotted black;border-radius: 0.25em;box-sizing: border-box;margin-bottom: 0.5em;}#sk-container-id-1 div.sk-estimator:hover {background-color: #d4ebff;}#sk-container-id-1 div.sk-parallel-item::after {content: \"\";width: 100%;border-bottom: 1px solid gray;flex-grow: 1;}#sk-container-id-1 div.sk-label:hover label.sk-toggleable__label {background-color: #d4ebff;}#sk-container-id-1 div.sk-serial::before {content: \"\";position: absolute;border-left: 1px solid gray;box-sizing: border-box;top: 0;bottom: 0;left: 50%;z-index: 0;}#sk-container-id-1 div.sk-serial {display: flex;flex-direction: column;align-items: center;background-color: white;padding-right: 0.2em;padding-left: 0.2em;position: relative;}#sk-container-id-1 div.sk-item {position: relative;z-index: 1;}#sk-container-id-1 div.sk-parallel {display: flex;align-items: stretch;justify-content: center;background-color: white;position: relative;}#sk-container-id-1 div.sk-item::before, #sk-container-id-1 div.sk-parallel-item::before {content: \"\";position: absolute;border-left: 1px solid gray;box-sizing: border-box;top: 0;bottom: 0;left: 50%;z-index: -1;}#sk-container-id-1 div.sk-parallel-item {display: flex;flex-direction: column;z-index: 1;position: relative;background-color: white;}#sk-container-id-1 div.sk-parallel-item:first-child::after {align-self: flex-end;width: 50%;}#sk-container-id-1 div.sk-parallel-item:last-child::after {align-self: flex-start;width: 50%;}#sk-container-id-1 div.sk-parallel-item:only-child::after {width: 0;}#sk-container-id-1 div.sk-dashed-wrapped {border: 1px dashed gray;margin: 0 0.4em 0.5em 0.4em;box-sizing: border-box;padding-bottom: 0.4em;background-color: white;}#sk-container-id-1 div.sk-label label {font-family: monospace;font-weight: bold;display: inline-block;line-height: 1.2em;}#sk-container-id-1 div.sk-label-container {text-align: center;}#sk-container-id-1 div.sk-container {/* jupyter's `normalize.less` sets `[hidden] { display: none; }` but bootstrap.min.css set `[hidden] { display: none !important; }` so we also need the `!important` here to be able to override the default hidden behavior on the sphinx rendered scikit-learn.org. See: https://github.com/scikit-learn/scikit-learn/issues/21755 */display: inline-block !important;position: relative;}#sk-container-id-1 div.sk-text-repr-fallback {display: none;}</style><div id=\"sk-container-id-1\" class=\"sk-top-container\"><div class=\"sk-text-repr-fallback\"><pre>OneHotEncoder(drop=&#x27;first&#x27;, handle_unknown=&#x27;ignore&#x27;, sparse=False)</pre><b>In a Jupyter environment, please rerun this cell to show the HTML representation or trust the notebook. <br />On GitHub, the HTML representation is unable to render, please try loading this page with nbviewer.org.</b></div><div class=\"sk-container\" hidden><div class=\"sk-item\"><div class=\"sk-estimator sk-toggleable\"><input class=\"sk-toggleable__control sk-hidden--visually\" id=\"sk-estimator-id-1\" type=\"checkbox\" checked><label for=\"sk-estimator-id-1\" class=\"sk-toggleable__label sk-toggleable__label-arrow\">OneHotEncoder</label><div class=\"sk-toggleable__content\"><pre>OneHotEncoder(drop=&#x27;first&#x27;, handle_unknown=&#x27;ignore&#x27;, sparse=False)</pre></div></div></div></div></div>"
      ],
      "text/plain": [
       "OneHotEncoder(drop='first', handle_unknown='ignore', sparse=False)"
      ]
     },
     "execution_count": 25,
     "metadata": {},
     "output_type": "execute_result"
    }
   ],
   "source": [
    "numeric_features = ['CreditScore', 'Age', 'Tenure', 'Balance', 'NumOfProducts', 'EstimatedSalary']\n",
    "\n",
    "scaler = StandardScaler()\n",
    "scaler.fit(features_train[numeric_features])\n",
    "\n",
    "ohe_encoder = OneHotEncoder(drop='first', handle_unknown='ignore', sparse=False)\n",
    "ohe_encoder.fit(features_train[categorical_features])"
   ]
  },
  {
   "cell_type": "code",
   "execution_count": 26,
   "metadata": {},
   "outputs": [],
   "source": [
    "features_train[numeric_features] = scaler.transform(features_train[numeric_features])\n",
    "features_valid[numeric_features] = scaler.transform(features_valid[numeric_features])\n",
    "features_test[numeric_features] = scaler.transform(features_test[numeric_features])"
   ]
  },
  {
   "cell_type": "code",
   "execution_count": 27,
   "metadata": {},
   "outputs": [],
   "source": [
    "# проверяем, что перечень классов между выборками одинаковый\n",
    "assert set(features_train['Geography'].unique()) ==\\\n",
    "        set(features_valid['Geography'].unique()) ==\\\n",
    "        set(features_test['Geography'].unique()) "
   ]
  },
  {
   "cell_type": "code",
   "execution_count": 28,
   "metadata": {},
   "outputs": [],
   "source": [
    "features_train[ohe_encoder.get_feature_names_out()] = ohe_encoder.transform(features_train[categorical_features])\n",
    "features_train.drop(categorical_features, axis=1, inplace=True)\n",
    "\n",
    "features_valid[ohe_encoder.get_feature_names_out()] = ohe_encoder.transform(features_valid[categorical_features])\n",
    "features_valid.drop(categorical_features, axis=1, inplace=True)\n",
    "\n",
    "features_test[ohe_encoder.get_feature_names_out()] = ohe_encoder.transform(features_test[categorical_features])\n",
    "features_test.drop(categorical_features, axis=1, inplace=True)"
   ]
  },
  {
   "cell_type": "code",
   "execution_count": 29,
   "metadata": {},
   "outputs": [
    {
     "data": {
      "text/html": [
       "<div>\n",
       "<style scoped>\n",
       "    .dataframe tbody tr th:only-of-type {\n",
       "        vertical-align: middle;\n",
       "    }\n",
       "\n",
       "    .dataframe tbody tr th {\n",
       "        vertical-align: top;\n",
       "    }\n",
       "\n",
       "    .dataframe thead th {\n",
       "        text-align: right;\n",
       "    }\n",
       "</style>\n",
       "<table border=\"1\" class=\"dataframe\">\n",
       "  <thead>\n",
       "    <tr style=\"text-align: right;\">\n",
       "      <th></th>\n",
       "      <th>CreditScore</th>\n",
       "      <th>Age</th>\n",
       "      <th>Tenure</th>\n",
       "      <th>Balance</th>\n",
       "      <th>NumOfProducts</th>\n",
       "      <th>HasCrCard</th>\n",
       "      <th>IsActiveMember</th>\n",
       "      <th>EstimatedSalary</th>\n",
       "      <th>Geography_Germany</th>\n",
       "      <th>Geography_Spain</th>\n",
       "      <th>Gender_Male</th>\n",
       "    </tr>\n",
       "  </thead>\n",
       "  <tbody>\n",
       "    <tr>\n",
       "      <th>6431</th>\n",
       "      <td>-1.134135</td>\n",
       "      <td>0.002903</td>\n",
       "      <td>-1.423489</td>\n",
       "      <td>-1.218552</td>\n",
       "      <td>-0.925086</td>\n",
       "      <td>0</td>\n",
       "      <td>1</td>\n",
       "      <td>0.154604</td>\n",
       "      <td>0.0</td>\n",
       "      <td>1.0</td>\n",
       "      <td>1.0</td>\n",
       "    </tr>\n",
       "    <tr>\n",
       "      <th>7524</th>\n",
       "      <td>0.105387</td>\n",
       "      <td>0.097044</td>\n",
       "      <td>1.112310</td>\n",
       "      <td>1.449089</td>\n",
       "      <td>-0.925086</td>\n",
       "      <td>1</td>\n",
       "      <td>1</td>\n",
       "      <td>1.492613</td>\n",
       "      <td>0.0</td>\n",
       "      <td>0.0</td>\n",
       "      <td>0.0</td>\n",
       "    </tr>\n",
       "    <tr>\n",
       "      <th>3430</th>\n",
       "      <td>-0.256140</td>\n",
       "      <td>-0.185380</td>\n",
       "      <td>-1.423489</td>\n",
       "      <td>1.606871</td>\n",
       "      <td>0.791215</td>\n",
       "      <td>1</td>\n",
       "      <td>1</td>\n",
       "      <td>-0.060400</td>\n",
       "      <td>0.0</td>\n",
       "      <td>0.0</td>\n",
       "      <td>1.0</td>\n",
       "    </tr>\n",
       "    <tr>\n",
       "      <th>9088</th>\n",
       "      <td>0.890417</td>\n",
       "      <td>-0.279522</td>\n",
       "      <td>1.112310</td>\n",
       "      <td>0.439565</td>\n",
       "      <td>-0.925086</td>\n",
       "      <td>1</td>\n",
       "      <td>1</td>\n",
       "      <td>0.182789</td>\n",
       "      <td>1.0</td>\n",
       "      <td>0.0</td>\n",
       "      <td>0.0</td>\n",
       "    </tr>\n",
       "    <tr>\n",
       "      <th>7606</th>\n",
       "      <td>0.311974</td>\n",
       "      <td>-0.750229</td>\n",
       "      <td>-0.698975</td>\n",
       "      <td>0.813226</td>\n",
       "      <td>2.507516</td>\n",
       "      <td>1</td>\n",
       "      <td>1</td>\n",
       "      <td>1.340512</td>\n",
       "      <td>1.0</td>\n",
       "      <td>0.0</td>\n",
       "      <td>0.0</td>\n",
       "    </tr>\n",
       "  </tbody>\n",
       "</table>\n",
       "</div>"
      ],
      "text/plain": [
       "      CreditScore       Age    Tenure   Balance  NumOfProducts  HasCrCard  \\\n",
       "6431    -1.134135  0.002903 -1.423489 -1.218552      -0.925086          0   \n",
       "7524     0.105387  0.097044  1.112310  1.449089      -0.925086          1   \n",
       "3430    -0.256140 -0.185380 -1.423489  1.606871       0.791215          1   \n",
       "9088     0.890417 -0.279522  1.112310  0.439565      -0.925086          1   \n",
       "7606     0.311974 -0.750229 -0.698975  0.813226       2.507516          1   \n",
       "\n",
       "      IsActiveMember  EstimatedSalary  Geography_Germany  Geography_Spain  \\\n",
       "6431               1         0.154604                0.0              1.0   \n",
       "7524               1         1.492613                0.0              0.0   \n",
       "3430               1        -0.060400                0.0              0.0   \n",
       "9088               1         0.182789                1.0              0.0   \n",
       "7606               1         1.340512                1.0              0.0   \n",
       "\n",
       "      Gender_Male  \n",
       "6431          1.0  \n",
       "7524          0.0  \n",
       "3430          1.0  \n",
       "9088          0.0  \n",
       "7606          0.0  "
      ]
     },
     "execution_count": 29,
     "metadata": {},
     "output_type": "execute_result"
    }
   ],
   "source": [
    "features_train.head()"
   ]
  },
  {
   "cell_type": "markdown",
   "metadata": {},
   "source": [
    "**Вывод** \n",
    "\n",
    "Мы изучили полученные данные, заполнили попуски, привели типы данных к правильным, убедились в отсутсвии выбросов и так же разбили датасет на тренировочную, валидационную и тестовую выборки.\n",
    "\n",
    "В итоге наш обучающий датасет содержит 11 признаков и 6000 наблюдений.\n",
    "\n",
    "Пришло время попробовать обучить первые модели"
   ]
  },
  {
   "cell_type": "markdown",
   "metadata": {},
   "source": [
    "## Исследование задачи"
   ]
  },
  {
   "cell_type": "markdown",
   "metadata": {},
   "source": [
    "Обучим две модели - логистическую регрессию и случайный лес. Гиперпараметры пока оставим по умолчанию. В дальнейшем мы выберем самую перспективную модель и оптимизируем её "
   ]
  },
  {
   "cell_type": "markdown",
   "metadata": {},
   "source": [
    "\n",
    "Помимо озвученных в задании метрик мы будем так же считать precision и recall.\n",
    "    \n",
    "Recall покажет нам долю от ушедших клиентов, которых модель смогла найти. Precision покажет точность, с которой модель классифицирует уходящих клиентов.\n",
    "    \n",
    "Обе метрики важны для бизнеса и между ними нужно найти баланс, который будет иметь смысл именно с точки зрения максимизации прибыли. Поясню на примере: можно считать всех клиентами потенциально потерянными (класс 1). Тогда наш Recall будет равен единице. На основании нашего прогноза соответствующие отделы должны провзаимодействовать с таким клиентом, чтобы удержать его, в случае нашего примера - со всеми клиентами банка. Взаимодействие стоит денег, поэтому затраты могут перевесить потенциальную прибыль. И наоборот, модель с очень высокой точностью будет находить единичные случаи отказников, и мы просто не охватим нужное количество клиентов.\n",
    "    \n",
    "Так что мы должны одновременно выявлять много уходящих клиентов, и быть уверенными что мы не ошиблись, чтобы не потратить деньги на их удержание впустую."
   ]
  },
  {
   "cell_type": "code",
   "execution_count": 30,
   "metadata": {},
   "outputs": [],
   "source": [
    "def get_report(estimator, model_name):\n",
    "    '''\n",
    "    функция для печатания отчета и добавления результатов в\n",
    "    сводную таблицу итогов по всем моделям, которые мы будем обучать\n",
    "    '''\n",
    "    prediction = estimator.predict(features_valid)\n",
    "    prediction_probs = estimator.predict_proba(features_valid)\n",
    "    roc_auc = roc_auc_score(targets_valid, prediction_probs[:,1])\n",
    "    f1 = f1_score(targets_valid, prediction)\n",
    "    precision = precision_score(targets_valid, prediction)\n",
    "    recall = recall_score(targets_valid, prediction)\n",
    "    print(f'f1_score: {f1}')\n",
    "    print(f'roc_auc: {roc_auc}')\n",
    "    print(f'precision: {precision}')\n",
    "    print(f'recall: {recall}')\n",
    "    \n",
    "    score_df.loc[-1] = [model_name, f1, roc_auc, precision, recall] \n",
    "    score_df.reset_index(inplace=True, drop=True)\n",
    "    score_df\n",
    "\n",
    "# таблица с результатами \n",
    "score_df = pd.DataFrame(columns=['model', 'f1', 'roc_auc', 'precision', 'recall'])"
   ]
  },
  {
   "cell_type": "code",
   "execution_count": 31,
   "metadata": {},
   "outputs": [
    {
     "name": "stdout",
     "output_type": "stream",
     "text": [
      "f1_score: 0.3381803074366431\n",
      "roc_auc: 0.5\n",
      "precision: 0.2035\n",
      "recall: 1.0\n"
     ]
    }
   ],
   "source": [
    "# в качестве бейзлайна возьмем константный классификатор\n",
    "dummy_classifier = DummyClassifier(strategy='constant', constant=1)\n",
    "dummy_classifier.fit(features_train, targets_train)\n",
    "\n",
    "get_report(dummy_classifier, 'Dummy baseline')"
   ]
  },
  {
   "cell_type": "code",
   "execution_count": 32,
   "metadata": {},
   "outputs": [
    {
     "name": "stdout",
     "output_type": "stream",
     "text": [
      "f1_score: 0.331588132635253\n",
      "roc_auc: 0.7718072463835174\n",
      "precision: 0.572289156626506\n",
      "recall: 0.2334152334152334\n"
     ]
    }
   ],
   "source": [
    "model_lr = SGDClassifier(random_state=1, loss='log_loss')\n",
    "model_lr.fit(features_train, targets_train)\n",
    "get_report(model_lr, 'Linear regression unbalanced')"
   ]
  },
  {
   "cell_type": "code",
   "execution_count": 33,
   "metadata": {},
   "outputs": [
    {
     "name": "stdout",
     "output_type": "stream",
     "text": [
      "max_depth: 4, n_estimators: 40, f1: 0.3916349809885931\n",
      "max_depth: 5, n_estimators: 40, f1: 0.5068493150684932\n",
      "max_depth: 6, n_estimators: 40, f1: 0.5176470588235295\n",
      "max_depth: 6, n_estimators: 70, f1: 0.5234899328859061\n",
      "max_depth: 6, n_estimators: 80, f1: 0.5252525252525252\n",
      "max_depth: 6, n_estimators: 110, f1: 0.527363184079602\n",
      "max_depth: 7, n_estimators: 40, f1: 0.546925566343042\n",
      "max_depth: 7, n_estimators: 70, f1: 0.5553772070626003\n",
      "max_depth: 7, n_estimators: 90, f1: 0.5568\n",
      "max_depth: 7, n_estimators: 100, f1: 0.5619047619047619\n",
      "max_depth: 8, n_estimators: 60, f1: 0.5641838351822503\n",
      "max_depth: 8, n_estimators: 70, f1: 0.5650793650793651\n",
      "max_depth: 8, n_estimators: 80, f1: 0.5705229793977813\n",
      "max_depth: 8, n_estimators: 90, f1: 0.5709779179810726\n",
      "max_depth: 9, n_estimators: 60, f1: 0.571875\n",
      "max_depth: 11, n_estimators: 70, f1: 0.5745007680491552\n",
      "max_depth: 11, n_estimators: 90, f1: 0.5797546012269938\n",
      "max_depth: 12, n_estimators: 40, f1: 0.582701062215478\n",
      "max_depth: 12, n_estimators: 50, f1: 0.5878787878787879\n",
      "CPU times: user 38.5 s, sys: 578 ms, total: 39.1 s\n",
      "Wall time: 39.2 s\n"
     ]
    }
   ],
   "source": [
    "%%time\n",
    "best_model_rf = None\n",
    "best_score = 0\n",
    "for depth in range(4, 16):\n",
    "    for n_estimators in range(40, 120, 10):\n",
    "        model_rf = RandomForestClassifier(random_state=1, max_depth=depth, n_estimators=n_estimators)\n",
    "        model_rf.fit(features_train, targets_train)\n",
    "        prediction = model_rf.predict(features_valid)   \n",
    "        f1 = f1_score(targets_valid, prediction)\n",
    "        if f1 > best_score:\n",
    "            best_model_rf = model_rf\n",
    "            best_score = f1\n",
    "            print(f'max_depth: {depth}, n_estimators: {n_estimators}, f1: {f1}')"
   ]
  },
  {
   "cell_type": "code",
   "execution_count": 34,
   "metadata": {},
   "outputs": [
    {
     "name": "stdout",
     "output_type": "stream",
     "text": [
      "f1_score: 0.5878787878787879\n",
      "roc_auc: 0.8393046359148054\n",
      "precision: 0.766798418972332\n",
      "recall: 0.47665847665847666\n"
     ]
    }
   ],
   "source": [
    "get_report(best_model_rf, 'Random forest unbalanced')"
   ]
  },
  {
   "cell_type": "code",
   "execution_count": 35,
   "metadata": {},
   "outputs": [
    {
     "data": {
      "text/html": [
       "<div>\n",
       "<style scoped>\n",
       "    .dataframe tbody tr th:only-of-type {\n",
       "        vertical-align: middle;\n",
       "    }\n",
       "\n",
       "    .dataframe tbody tr th {\n",
       "        vertical-align: top;\n",
       "    }\n",
       "\n",
       "    .dataframe thead th {\n",
       "        text-align: right;\n",
       "    }\n",
       "</style>\n",
       "<table border=\"1\" class=\"dataframe\">\n",
       "  <thead>\n",
       "    <tr style=\"text-align: right;\">\n",
       "      <th></th>\n",
       "      <th>model</th>\n",
       "      <th>f1</th>\n",
       "      <th>roc_auc</th>\n",
       "      <th>precision</th>\n",
       "      <th>recall</th>\n",
       "    </tr>\n",
       "  </thead>\n",
       "  <tbody>\n",
       "    <tr>\n",
       "      <th>0</th>\n",
       "      <td>Dummy baseline</td>\n",
       "      <td>0.338180</td>\n",
       "      <td>0.500000</td>\n",
       "      <td>0.203500</td>\n",
       "      <td>1.000000</td>\n",
       "    </tr>\n",
       "    <tr>\n",
       "      <th>1</th>\n",
       "      <td>Linear regression unbalanced</td>\n",
       "      <td>0.331588</td>\n",
       "      <td>0.771807</td>\n",
       "      <td>0.572289</td>\n",
       "      <td>0.233415</td>\n",
       "    </tr>\n",
       "    <tr>\n",
       "      <th>2</th>\n",
       "      <td>Random forest unbalanced</td>\n",
       "      <td>0.587879</td>\n",
       "      <td>0.839305</td>\n",
       "      <td>0.766798</td>\n",
       "      <td>0.476658</td>\n",
       "    </tr>\n",
       "  </tbody>\n",
       "</table>\n",
       "</div>"
      ],
      "text/plain": [
       "                          model        f1   roc_auc  precision    recall\n",
       "0                Dummy baseline  0.338180  0.500000   0.203500  1.000000\n",
       "1  Linear regression unbalanced  0.331588  0.771807   0.572289  0.233415\n",
       "2      Random forest unbalanced  0.587879  0.839305   0.766798  0.476658"
      ]
     },
     "execution_count": 35,
     "metadata": {},
     "output_type": "execute_result"
    }
   ],
   "source": [
    "score_df"
   ]
  },
  {
   "cell_type": "markdown",
   "metadata": {},
   "source": [
    "**Вывод** \n",
    "\n",
    "качестве промежуточных выводов можно отметить, что модель случайного леса проявила себя лучше. На валидационной выборке целевая метрика **f1 составила 0.5878**, что достаточно близко к поставленной цели\n",
    "\n",
    "Отдельно отменим, что **auc_score** имеет более высокое значение относительно **f1**. В дальнейшем понаблюдаем, как будет изменяться его значение с повышением целевой метрики"
   ]
  },
  {
   "cell_type": "markdown",
   "metadata": {},
   "source": [
    "## Борьба с дисбалансом"
   ]
  },
  {
   "cell_type": "markdown",
   "metadata": {},
   "source": [
    "Выше мы заметили, что соотношение классов примерно 4 к 1. 80% класс 0 и 20% класс 1. Данных не много, так что удалять ничего не будем.\n",
    "\n",
    "Попробуем сначала обучить модели с параметром **class_weight**, а потом применить технику **upsampling**"
   ]
  },
  {
   "cell_type": "code",
   "execution_count": 36,
   "metadata": {},
   "outputs": [
    {
     "name": "stdout",
     "output_type": "stream",
     "text": [
      "f1_score: 0.41874527588813304\n",
      "roc_auc: 0.6857011094299229\n",
      "precision: 0.30240174672489084\n",
      "recall: 0.6805896805896806\n"
     ]
    }
   ],
   "source": [
    "model_lr_weighted = SGDClassifier(random_state=1, class_weight='balanced', loss='log_loss')\n",
    "model_lr_weighted.fit(features_train, targets_train)\n",
    "\n",
    "get_report(model_lr_weighted, 'Linear regression weighted')"
   ]
  },
  {
   "cell_type": "code",
   "execution_count": 37,
   "metadata": {},
   "outputs": [
    {
     "name": "stdout",
     "output_type": "stream",
     "text": [
      "max_depth: 4, n_estimators: 40, f1: 0.5691699604743083\n",
      "max_depth: 4, n_estimators: 50, f1: 0.572844400396432\n",
      "max_depth: 4, n_estimators: 60, f1: 0.579256360078278\n",
      "max_depth: 4, n_estimators: 70, f1: 0.5824284304047385\n",
      "max_depth: 5, n_estimators: 40, f1: 0.5843621399176956\n",
      "max_depth: 5, n_estimators: 100, f1: 0.5863453815261044\n",
      "max_depth: 6, n_estimators: 50, f1: 0.5894308943089431\n",
      "max_depth: 6, n_estimators: 60, f1: 0.5896656534954406\n",
      "max_depth: 6, n_estimators: 100, f1: 0.5898989898989899\n",
      "max_depth: 6, n_estimators: 110, f1: 0.5915492957746479\n",
      "max_depth: 7, n_estimators: 40, f1: 0.5989304812834225\n",
      "max_depth: 7, n_estimators: 50, f1: 0.6045016077170419\n",
      "max_depth: 7, n_estimators: 70, f1: 0.6074866310160427\n",
      "max_depth: 7, n_estimators: 90, f1: 0.6076759061833689\n",
      "max_depth: 9, n_estimators: 70, f1: 0.6093928980526918\n",
      "max_depth: 9, n_estimators: 80, f1: 0.611683848797251\n",
      "CPU times: user 38.9 s, sys: 626 ms, total: 39.6 s\n",
      "Wall time: 39.9 s\n"
     ]
    }
   ],
   "source": [
    "%%time\n",
    "\n",
    "best_model_rf_weighted = None\n",
    "best_score = 0\n",
    "for depth in range(4, 16):\n",
    "    for n_estimators in range(40, 120, 10):\n",
    "        model_rf_weighted = RandomForestClassifier(random_state=1,\n",
    "                                                   max_depth=depth,\n",
    "                                                   n_estimators=n_estimators,\n",
    "                                                   class_weight='balanced')\n",
    "        model_rf_weighted.fit(features_train, targets_train)\n",
    "        prediction = model_rf_weighted.predict(features_valid)   \n",
    "        f1 = f1_score(targets_valid, prediction)\n",
    "        if f1 > best_score:\n",
    "            best_model_rf_weighted = model_rf_weighted\n",
    "            best_score = f1\n",
    "            print(f'max_depth: {depth}, n_estimators: {n_estimators}, f1: {f1}')"
   ]
  },
  {
   "cell_type": "code",
   "execution_count": 38,
   "metadata": {},
   "outputs": [
    {
     "name": "stdout",
     "output_type": "stream",
     "text": [
      "f1_score: 0.611683848797251\n",
      "roc_auc: 0.8450114212826076\n",
      "precision: 0.572961373390558\n",
      "recall: 0.6560196560196561\n"
     ]
    }
   ],
   "source": [
    "get_report(best_model_rf_weighted, 'Random forest weighted')"
   ]
  },
  {
   "cell_type": "code",
   "execution_count": 39,
   "metadata": {},
   "outputs": [
    {
     "data": {
      "text/html": [
       "<div>\n",
       "<style scoped>\n",
       "    .dataframe tbody tr th:only-of-type {\n",
       "        vertical-align: middle;\n",
       "    }\n",
       "\n",
       "    .dataframe tbody tr th {\n",
       "        vertical-align: top;\n",
       "    }\n",
       "\n",
       "    .dataframe thead th {\n",
       "        text-align: right;\n",
       "    }\n",
       "</style>\n",
       "<table border=\"1\" class=\"dataframe\">\n",
       "  <thead>\n",
       "    <tr style=\"text-align: right;\">\n",
       "      <th></th>\n",
       "      <th>model</th>\n",
       "      <th>f1</th>\n",
       "      <th>roc_auc</th>\n",
       "      <th>precision</th>\n",
       "      <th>recall</th>\n",
       "    </tr>\n",
       "  </thead>\n",
       "  <tbody>\n",
       "    <tr>\n",
       "      <th>0</th>\n",
       "      <td>Dummy baseline</td>\n",
       "      <td>0.338180</td>\n",
       "      <td>0.500000</td>\n",
       "      <td>0.203500</td>\n",
       "      <td>1.000000</td>\n",
       "    </tr>\n",
       "    <tr>\n",
       "      <th>1</th>\n",
       "      <td>Linear regression unbalanced</td>\n",
       "      <td>0.331588</td>\n",
       "      <td>0.771807</td>\n",
       "      <td>0.572289</td>\n",
       "      <td>0.233415</td>\n",
       "    </tr>\n",
       "    <tr>\n",
       "      <th>2</th>\n",
       "      <td>Random forest unbalanced</td>\n",
       "      <td>0.587879</td>\n",
       "      <td>0.839305</td>\n",
       "      <td>0.766798</td>\n",
       "      <td>0.476658</td>\n",
       "    </tr>\n",
       "    <tr>\n",
       "      <th>3</th>\n",
       "      <td>Linear regression weighted</td>\n",
       "      <td>0.418745</td>\n",
       "      <td>0.685701</td>\n",
       "      <td>0.302402</td>\n",
       "      <td>0.680590</td>\n",
       "    </tr>\n",
       "    <tr>\n",
       "      <th>4</th>\n",
       "      <td>Random forest weighted</td>\n",
       "      <td>0.611684</td>\n",
       "      <td>0.845011</td>\n",
       "      <td>0.572961</td>\n",
       "      <td>0.656020</td>\n",
       "    </tr>\n",
       "  </tbody>\n",
       "</table>\n",
       "</div>"
      ],
      "text/plain": [
       "                          model        f1   roc_auc  precision    recall\n",
       "0                Dummy baseline  0.338180  0.500000   0.203500  1.000000\n",
       "1  Linear regression unbalanced  0.331588  0.771807   0.572289  0.233415\n",
       "2      Random forest unbalanced  0.587879  0.839305   0.766798  0.476658\n",
       "3    Linear regression weighted  0.418745  0.685701   0.302402  0.680590\n",
       "4        Random forest weighted  0.611684  0.845011   0.572961  0.656020"
      ]
     },
     "execution_count": 39,
     "metadata": {},
     "output_type": "execute_result"
    }
   ],
   "source": [
    "score_df"
   ]
  },
  {
   "cell_type": "code",
   "execution_count": 40,
   "metadata": {},
   "outputs": [],
   "source": [
    "# def upsample(features, target, repeat):\n",
    "#     features_ones = features[target == 1]\n",
    "#     features_zeros = features[target == 0]\n",
    "#     target_ones = target[target == 1]\n",
    "#     target_zeros = target[target == 0]\n",
    "    \n",
    "#     features_upsampled = pd.concat([features_zeros] + [features_ones] * repeat)\n",
    "#     target_upsampled = pd.concat([target_zeros] + [target_ones] * repeat)\n",
    "    \n",
    "#     features_upsampled, target_upsampled = shuffle(\n",
    "#                     features_upsampled, target_upsampled, random_state=12345)\n",
    "    \n",
    "#     return features_upsampled, target_upsampled"
   ]
  },
  {
   "cell_type": "code",
   "execution_count": 41,
   "metadata": {},
   "outputs": [],
   "source": [
    "# features_train_upsampled, targets_train_upsampled = upsample(features_train, targets_train, 4)"
   ]
  },
  {
   "cell_type": "code",
   "execution_count": 42,
   "metadata": {},
   "outputs": [],
   "source": [
    "oversample = SMOTE(random_state=1)\n",
    "features_train_upsampled, targets_train_upsampled = oversample.fit_resample(features_train, targets_train)"
   ]
  },
  {
   "cell_type": "code",
   "execution_count": 43,
   "metadata": {},
   "outputs": [
    {
     "name": "stdout",
     "output_type": "stream",
     "text": [
      "f1_score: 0.46220302375809935\n",
      "roc_auc: 0.7471986624528997\n",
      "precision: 0.4123314065510597\n",
      "recall: 0.5257985257985258\n"
     ]
    }
   ],
   "source": [
    "model_lr_upsampled = SGDClassifier(random_state=1, class_weight='balanced', loss='log_loss')\n",
    "model_lr_upsampled.fit(features_train_upsampled, targets_train_upsampled)\n",
    "\n",
    "get_report(model_lr_upsampled, 'Linear regression upsampled')"
   ]
  },
  {
   "cell_type": "code",
   "execution_count": 44,
   "metadata": {},
   "outputs": [
    {
     "name": "stdout",
     "output_type": "stream",
     "text": [
      "max_depth: 4, n_estimators: 40, f1: 0.5776397515527951\n",
      "max_depth: 4, n_estimators: 50, f1: 0.5833333333333334\n",
      "max_depth: 4, n_estimators: 60, f1: 0.5964546402502606\n",
      "max_depth: 5, n_estimators: 40, f1: 0.5967567567567569\n",
      "max_depth: 5, n_estimators: 60, f1: 0.6006458557588805\n",
      "max_depth: 5, n_estimators: 90, f1: 0.6027987082884823\n",
      "max_depth: 5, n_estimators: 110, f1: 0.6059322033898306\n",
      "max_depth: 6, n_estimators: 60, f1: 0.6079484425349087\n",
      "max_depth: 8, n_estimators: 40, f1: 0.609673790776153\n",
      "max_depth: 8, n_estimators: 60, f1: 0.6141732283464567\n",
      "max_depth: 8, n_estimators: 90, f1: 0.6143344709897611\n",
      "CPU times: user 1min 2s, sys: 982 ms, total: 1min 3s\n",
      "Wall time: 1min 4s\n"
     ]
    }
   ],
   "source": [
    "%%time\n",
    "\n",
    "best_model_rf_upsampled = None\n",
    "best_score = 0\n",
    "for depth in range(4, 16):\n",
    "    for n_estimators in range(40, 120, 10):\n",
    "        model_rf_upsampled = RandomForestClassifier(random_state=1,\n",
    "                                                   max_depth=depth,\n",
    "                                                   n_estimators=n_estimators)\n",
    "        model_rf_upsampled.fit(features_train_upsampled, targets_train_upsampled)\n",
    "        prediction = model_rf_upsampled.predict(features_valid)   \n",
    "        f1 = f1_score(targets_valid, prediction)\n",
    "        if f1 > best_score:\n",
    "            best_model_rf_upsampled = model_rf_upsampled\n",
    "            best_score = f1\n",
    "            print(f'max_depth: {depth}, n_estimators: {n_estimators}, f1: {f1}')"
   ]
  },
  {
   "cell_type": "code",
   "execution_count": 45,
   "metadata": {},
   "outputs": [
    {
     "name": "stdout",
     "output_type": "stream",
     "text": [
      "f1_score: 0.6143344709897611\n",
      "roc_auc: 0.8457563881292696\n",
      "precision: 0.5720338983050848\n",
      "recall: 0.6633906633906634\n"
     ]
    }
   ],
   "source": [
    "get_report(best_model_rf_upsampled, 'Random forest upsampled')"
   ]
  },
  {
   "cell_type": "code",
   "execution_count": 46,
   "metadata": {},
   "outputs": [
    {
     "data": {
      "text/html": [
       "<div>\n",
       "<style scoped>\n",
       "    .dataframe tbody tr th:only-of-type {\n",
       "        vertical-align: middle;\n",
       "    }\n",
       "\n",
       "    .dataframe tbody tr th {\n",
       "        vertical-align: top;\n",
       "    }\n",
       "\n",
       "    .dataframe thead th {\n",
       "        text-align: right;\n",
       "    }\n",
       "</style>\n",
       "<table border=\"1\" class=\"dataframe\">\n",
       "  <thead>\n",
       "    <tr style=\"text-align: right;\">\n",
       "      <th></th>\n",
       "      <th>model</th>\n",
       "      <th>f1</th>\n",
       "      <th>roc_auc</th>\n",
       "      <th>precision</th>\n",
       "      <th>recall</th>\n",
       "    </tr>\n",
       "  </thead>\n",
       "  <tbody>\n",
       "    <tr>\n",
       "      <th>6</th>\n",
       "      <td>Random forest upsampled</td>\n",
       "      <td>0.614334</td>\n",
       "      <td>0.845756</td>\n",
       "      <td>0.572034</td>\n",
       "      <td>0.663391</td>\n",
       "    </tr>\n",
       "    <tr>\n",
       "      <th>4</th>\n",
       "      <td>Random forest weighted</td>\n",
       "      <td>0.611684</td>\n",
       "      <td>0.845011</td>\n",
       "      <td>0.572961</td>\n",
       "      <td>0.656020</td>\n",
       "    </tr>\n",
       "    <tr>\n",
       "      <th>2</th>\n",
       "      <td>Random forest unbalanced</td>\n",
       "      <td>0.587879</td>\n",
       "      <td>0.839305</td>\n",
       "      <td>0.766798</td>\n",
       "      <td>0.476658</td>\n",
       "    </tr>\n",
       "    <tr>\n",
       "      <th>5</th>\n",
       "      <td>Linear regression upsampled</td>\n",
       "      <td>0.462203</td>\n",
       "      <td>0.747199</td>\n",
       "      <td>0.412331</td>\n",
       "      <td>0.525799</td>\n",
       "    </tr>\n",
       "    <tr>\n",
       "      <th>3</th>\n",
       "      <td>Linear regression weighted</td>\n",
       "      <td>0.418745</td>\n",
       "      <td>0.685701</td>\n",
       "      <td>0.302402</td>\n",
       "      <td>0.680590</td>\n",
       "    </tr>\n",
       "    <tr>\n",
       "      <th>0</th>\n",
       "      <td>Dummy baseline</td>\n",
       "      <td>0.338180</td>\n",
       "      <td>0.500000</td>\n",
       "      <td>0.203500</td>\n",
       "      <td>1.000000</td>\n",
       "    </tr>\n",
       "    <tr>\n",
       "      <th>1</th>\n",
       "      <td>Linear regression unbalanced</td>\n",
       "      <td>0.331588</td>\n",
       "      <td>0.771807</td>\n",
       "      <td>0.572289</td>\n",
       "      <td>0.233415</td>\n",
       "    </tr>\n",
       "  </tbody>\n",
       "</table>\n",
       "</div>"
      ],
      "text/plain": [
       "                          model        f1   roc_auc  precision    recall\n",
       "6       Random forest upsampled  0.614334  0.845756   0.572034  0.663391\n",
       "4        Random forest weighted  0.611684  0.845011   0.572961  0.656020\n",
       "2      Random forest unbalanced  0.587879  0.839305   0.766798  0.476658\n",
       "5   Linear regression upsampled  0.462203  0.747199   0.412331  0.525799\n",
       "3    Linear regression weighted  0.418745  0.685701   0.302402  0.680590\n",
       "0                Dummy baseline  0.338180  0.500000   0.203500  1.000000\n",
       "1  Linear regression unbalanced  0.331588  0.771807   0.572289  0.233415"
      ]
     },
     "execution_count": 46,
     "metadata": {},
     "output_type": "execute_result"
    }
   ],
   "source": [
    "score_df.sort_values('f1', ascending=False)"
   ]
  },
  {
   "cell_type": "markdown",
   "metadata": {},
   "source": [
    "Для модели случайного леса апсемплинг сработал лучше, чем взвешивание. Для модели регрессии наоборот, апсемплинг дал лучший результат\n",
    "\n",
    "Возьмем сильнейшую модель и попробуем подобрать глубину дерева"
   ]
  },
  {
   "cell_type": "markdown",
   "metadata": {},
   "source": [
    "Лучший результат **f1 = 0.6143** на отложенной выборке мы получили при параметрах max_depth=8, n_estimators=90"
   ]
  },
  {
   "cell_type": "code",
   "execution_count": 47,
   "metadata": {},
   "outputs": [],
   "source": [
    "prediction_proba = best_model_rf_upsampled.predict_proba(features_valid)[:,1]"
   ]
  },
  {
   "cell_type": "code",
   "execution_count": 48,
   "metadata": {},
   "outputs": [
    {
     "name": "stdout",
     "output_type": "stream",
     "text": [
      "порог: 0.3, f1: 0.5323965651834505\n",
      "порог: 0.32, f1: 0.541157294213529\n",
      "порог: 0.34, f1: 0.5497872340425533\n",
      "порог: 0.36, f1: 0.5604203152364273\n",
      "порог: 0.38, f1: 0.5665158371040724\n",
      "порог: 0.4, f1: 0.575187969924812\n",
      "порог: 0.42, f1: 0.584795321637427\n",
      "порог: 0.44, f1: 0.5967413441955193\n",
      "порог: 0.46, f1: 0.608695652173913\n",
      "порог: 0.48, f1: 0.6094609460946094\n",
      "порог: 0.5, f1: 0.6143344709897611\n",
      "порог: 0.52, f1: 0.6004672897196262\n",
      "порог: 0.54, f1: 0.6030989272943981\n",
      "порог: 0.56, f1: 0.6036809815950919\n",
      "порог: 0.58, f1: 0.5992414664981036\n",
      "порог: 0.6, f1: 0.6000000000000001\n",
      "порог: 0.62, f1: 0.5871313672922253\n",
      "порог: 0.64, f1: 0.589041095890411\n",
      "порог: 0.66, f1: 0.5802816901408451\n",
      "порог: 0.68, f1: 0.5726744186046512\n"
     ]
    }
   ],
   "source": [
    "for threshold in np.arange(0.3, 0.7, 0.02):\n",
    "    prediction = (prediction_proba > threshold)\n",
    "    print(f'порог: {round(threshold, 4)}, f1: {f1_score(targets_valid, prediction)}')"
   ]
  },
  {
   "cell_type": "markdown",
   "metadata": {},
   "source": [
    "Нет смысла изменять порог, лучший результат с дефолтным значением"
   ]
  },
  {
   "cell_type": "code",
   "execution_count": 49,
   "metadata": {},
   "outputs": [
    {
     "data": {
      "text/html": [
       "<div>\n",
       "<style scoped>\n",
       "    .dataframe tbody tr th:only-of-type {\n",
       "        vertical-align: middle;\n",
       "    }\n",
       "\n",
       "    .dataframe tbody tr th {\n",
       "        vertical-align: top;\n",
       "    }\n",
       "\n",
       "    .dataframe thead th {\n",
       "        text-align: right;\n",
       "    }\n",
       "</style>\n",
       "<table border=\"1\" class=\"dataframe\">\n",
       "  <thead>\n",
       "    <tr style=\"text-align: right;\">\n",
       "      <th></th>\n",
       "      <th>model</th>\n",
       "      <th>f1</th>\n",
       "      <th>roc_auc</th>\n",
       "      <th>precision</th>\n",
       "      <th>recall</th>\n",
       "    </tr>\n",
       "  </thead>\n",
       "  <tbody>\n",
       "    <tr>\n",
       "      <th>6</th>\n",
       "      <td>Random forest upsampled</td>\n",
       "      <td>0.614334</td>\n",
       "      <td>0.845756</td>\n",
       "      <td>0.572034</td>\n",
       "      <td>0.663391</td>\n",
       "    </tr>\n",
       "    <tr>\n",
       "      <th>4</th>\n",
       "      <td>Random forest weighted</td>\n",
       "      <td>0.611684</td>\n",
       "      <td>0.845011</td>\n",
       "      <td>0.572961</td>\n",
       "      <td>0.656020</td>\n",
       "    </tr>\n",
       "    <tr>\n",
       "      <th>2</th>\n",
       "      <td>Random forest unbalanced</td>\n",
       "      <td>0.587879</td>\n",
       "      <td>0.839305</td>\n",
       "      <td>0.766798</td>\n",
       "      <td>0.476658</td>\n",
       "    </tr>\n",
       "    <tr>\n",
       "      <th>5</th>\n",
       "      <td>Linear regression upsampled</td>\n",
       "      <td>0.462203</td>\n",
       "      <td>0.747199</td>\n",
       "      <td>0.412331</td>\n",
       "      <td>0.525799</td>\n",
       "    </tr>\n",
       "    <tr>\n",
       "      <th>3</th>\n",
       "      <td>Linear regression weighted</td>\n",
       "      <td>0.418745</td>\n",
       "      <td>0.685701</td>\n",
       "      <td>0.302402</td>\n",
       "      <td>0.680590</td>\n",
       "    </tr>\n",
       "    <tr>\n",
       "      <th>0</th>\n",
       "      <td>Dummy baseline</td>\n",
       "      <td>0.338180</td>\n",
       "      <td>0.500000</td>\n",
       "      <td>0.203500</td>\n",
       "      <td>1.000000</td>\n",
       "    </tr>\n",
       "    <tr>\n",
       "      <th>1</th>\n",
       "      <td>Linear regression unbalanced</td>\n",
       "      <td>0.331588</td>\n",
       "      <td>0.771807</td>\n",
       "      <td>0.572289</td>\n",
       "      <td>0.233415</td>\n",
       "    </tr>\n",
       "  </tbody>\n",
       "</table>\n",
       "</div>"
      ],
      "text/plain": [
       "                          model        f1   roc_auc  precision    recall\n",
       "6       Random forest upsampled  0.614334  0.845756   0.572034  0.663391\n",
       "4        Random forest weighted  0.611684  0.845011   0.572961  0.656020\n",
       "2      Random forest unbalanced  0.587879  0.839305   0.766798  0.476658\n",
       "5   Linear regression upsampled  0.462203  0.747199   0.412331  0.525799\n",
       "3    Linear regression weighted  0.418745  0.685701   0.302402  0.680590\n",
       "0                Dummy baseline  0.338180  0.500000   0.203500  1.000000\n",
       "1  Linear regression unbalanced  0.331588  0.771807   0.572289  0.233415"
      ]
     },
     "execution_count": 49,
     "metadata": {},
     "output_type": "execute_result"
    }
   ],
   "source": [
    "score_df.sort_values('f1', ascending=False)"
   ]
  },
  {
   "cell_type": "code",
   "execution_count": 50,
   "metadata": {},
   "outputs": [
    {
     "data": {
      "image/png": "[encoded data removed]",
      "text/plain": [
       "<Figure size 432x288 with 2 Axes>"
      ]
     },
     "metadata": {
      "needs_background": "light"
     },
     "output_type": "display_data"
    }
   ],
   "source": [
    "corr = score_df.corr()\n",
    "sns.heatmap(corr, xticklabels=corr.columns, yticklabels=corr.columns, annot=True)\n",
    "plt.show()"
   ]
  },
  {
   "cell_type": "markdown",
   "metadata": {},
   "source": [
    "**Вывод**\n",
    "\n",
    "Борьба с дисбалансом классов помогла улучшить результать на валидационной выборке и превысить требуемое значение.\n",
    "\n",
    "При исследовании взаимосвязи **f1** и **roc_auc** была выявлена высокая корреляция\n",
    "\n"
   ]
  },
  {
   "cell_type": "markdown",
   "metadata": {},
   "source": [
    "## Тестирование модели"
   ]
  },
  {
   "cell_type": "markdown",
   "metadata": {},
   "source": [
    "В качестве итогой модели выбрана модель случайного леса с максимальной глубиной дерева 10 и количеством деревьев 90. Для финального обучения объединим обучающую и валидационную выборки, произведем апсемплинг редкого класса и проверим итоговый результат на тестовой выборке\n",
    "\n",
    "*как оказалось, объединение выборкок для повторного обучения ухудшило результат на тестовой выборке. Не совсем понятно, стоит ли вообще таким образом пытаться увеличить размер обучающей выборки, если это может ухудшить модель*"
   ]
  },
  {
   "cell_type": "code",
   "execution_count": 51,
   "metadata": {},
   "outputs": [
    {
     "name": "stdout",
     "output_type": "stream",
     "text": [
      "f1_score 0.5901262916188289\n",
      "roc_auc 0.8495495245837028\n",
      "precision 0.5550755939524838\n",
      "recall 0.6299019607843137\n"
     ]
    }
   ],
   "source": [
    "prediction = best_model_rf_upsampled.predict(features_test)\n",
    "prediction_proba = best_model_rf_upsampled.predict_proba(features_test)\n",
    "\n",
    "print(f'f1_score {f1_score(targets_test, prediction)}')\n",
    "print(f'roc_auc {roc_auc_score(targets_test, prediction_proba[:,1])}')\n",
    "print(f'precision {precision_score(targets_test, prediction)}')\n",
    "print(f'recall {recall_score(targets_test, prediction)}')"
   ]
  },
  {
   "cell_type": "markdown",
   "metadata": {},
   "source": [
    "Подведем итоги тестирования:\n",
    "\n",
    "на валиде f1: 0.61433\troc_auc: 0.84575\n",
    "\n",
    "на тесте  f1:  0.59012   roc_auc: 0.84954"
   ]
  },
  {
   "cell_type": "markdown",
   "metadata": {},
   "source": [
    "**Вывод**\n",
    "\n",
    "Поставленная задача по достижению **f1 > 0.59** достигнута\n",
    "\n",
    "Тестирование модели показало падение целевой метрики по сравнению с валидацией.\n",
    "\n",
    "Константная модель имеет точность в 20%, следовательно она верно определеят лишь 1 клиента из 5, который покидает банк. Наша модель, в свою очередь, повышает это значение до 55%, мы сможем более адресно проводить меры по удержанию клиента.\n",
    "\n",
    "\n",
    "\n"
   ]
  },
  {
   "cell_type": "code",
   "execution_count": null,
   "metadata": {},
   "outputs": [],
   "source": []
  }
 ],
 "metadata": {
  "ExecuteTimeLog": [
   {
    "duration": 617,
    "start_time": "2023-01-06T13:08:06.464Z"
   },
   {
    "duration": 200,
    "start_time": "2023-01-06T13:08:51.445Z"
   },
   {
    "duration": 30,
    "start_time": "2023-01-06T13:09:00.010Z"
   },
   {
    "duration": 18,
    "start_time": "2023-01-06T13:09:04.800Z"
   },
   {
    "duration": 66,
    "start_time": "2023-01-06T13:12:13.704Z"
   },
   {
    "duration": 121,
    "start_time": "2023-01-06T13:19:34.310Z"
   },
   {
    "duration": 5,
    "start_time": "2023-01-06T13:19:38.492Z"
   },
   {
    "duration": 18,
    "start_time": "2023-01-06T13:19:42.248Z"
   },
   {
    "duration": 22,
    "start_time": "2023-01-06T13:19:44.072Z"
   },
   {
    "duration": 153,
    "start_time": "2023-01-06T13:19:45.568Z"
   },
   {
    "duration": 12,
    "start_time": "2023-01-06T13:20:51.058Z"
   },
   {
    "duration": 200,
    "start_time": "2023-01-06T13:20:59.244Z"
   },
   {
    "duration": 202,
    "start_time": "2023-01-06T13:21:08.868Z"
   },
   {
    "duration": 9,
    "start_time": "2023-01-06T13:21:22.156Z"
   },
   {
    "duration": 160,
    "start_time": "2023-01-06T13:21:38.972Z"
   },
   {
    "duration": 74,
    "start_time": "2023-01-06T13:22:51.840Z"
   },
   {
    "duration": 11,
    "start_time": "2023-01-06T13:22:54.239Z"
   },
   {
    "duration": 8,
    "start_time": "2023-01-06T13:23:01.105Z"
   },
   {
    "duration": 9,
    "start_time": "2023-01-06T13:23:21.489Z"
   },
   {
    "duration": 8,
    "start_time": "2023-01-06T13:23:33.312Z"
   },
   {
    "duration": 11,
    "start_time": "2023-01-06T13:25:23.798Z"
   },
   {
    "duration": 14,
    "start_time": "2023-01-06T13:26:28.576Z"
   },
   {
    "duration": 26,
    "start_time": "2023-01-06T13:26:31.136Z"
   },
   {
    "duration": 7,
    "start_time": "2023-01-06T13:27:23.263Z"
   },
   {
    "duration": 7,
    "start_time": "2023-01-06T13:27:30.915Z"
   },
   {
    "duration": 266,
    "start_time": "2023-01-06T13:27:53.186Z"
   },
   {
    "duration": 163,
    "start_time": "2023-01-06T13:28:18.491Z"
   },
   {
    "duration": 207,
    "start_time": "2023-01-06T13:28:24.500Z"
   },
   {
    "duration": 187,
    "start_time": "2023-01-06T13:28:30.932Z"
   },
   {
    "duration": 166,
    "start_time": "2023-01-06T13:28:46.612Z"
   },
   {
    "duration": 226,
    "start_time": "2023-01-06T13:30:20.145Z"
   },
   {
    "duration": 6,
    "start_time": "2023-01-06T13:31:13.154Z"
   },
   {
    "duration": 8,
    "start_time": "2023-01-06T13:31:17.378Z"
   },
   {
    "duration": 32,
    "start_time": "2023-01-06T13:35:09.963Z"
   },
   {
    "duration": 12,
    "start_time": "2023-01-06T13:35:13.397Z"
   },
   {
    "duration": 9,
    "start_time": "2023-01-06T13:35:19.260Z"
   },
   {
    "duration": 245,
    "start_time": "2023-01-06T13:35:38.067Z"
   },
   {
    "duration": 11,
    "start_time": "2023-01-06T13:35:42.372Z"
   },
   {
    "duration": 6,
    "start_time": "2023-01-06T13:35:43.676Z"
   },
   {
    "duration": 10,
    "start_time": "2023-01-06T13:36:04.430Z"
   },
   {
    "duration": 4,
    "start_time": "2023-01-06T13:36:10.870Z"
   },
   {
    "duration": 7,
    "start_time": "2023-01-06T13:36:12.781Z"
   },
   {
    "duration": 19,
    "start_time": "2023-01-06T13:36:18.326Z"
   },
   {
    "duration": 28,
    "start_time": "2023-01-06T13:38:19.067Z"
   },
   {
    "duration": 28,
    "start_time": "2023-01-06T13:38:26.506Z"
   },
   {
    "duration": 26,
    "start_time": "2023-01-06T13:38:44.083Z"
   },
   {
    "duration": 687,
    "start_time": "2023-01-06T13:39:23.493Z"
   },
   {
    "duration": 401,
    "start_time": "2023-01-06T13:39:39.844Z"
   },
   {
    "duration": 386,
    "start_time": "2023-01-06T13:40:11.868Z"
   },
   {
    "duration": 393,
    "start_time": "2023-01-06T13:40:23.838Z"
   },
   {
    "duration": 377,
    "start_time": "2023-01-06T13:40:32.102Z"
   },
   {
    "duration": 447,
    "start_time": "2023-01-06T13:40:38.487Z"
   },
   {
    "duration": 54,
    "start_time": "2023-01-06T13:42:02.210Z"
   },
   {
    "duration": 8,
    "start_time": "2023-01-06T13:42:06.050Z"
   },
   {
    "duration": 13,
    "start_time": "2023-01-06T13:42:09.618Z"
   },
   {
    "duration": 8,
    "start_time": "2023-01-06T13:42:15.579Z"
   },
   {
    "duration": 4,
    "start_time": "2023-01-06T13:53:23.148Z"
   },
   {
    "duration": 18,
    "start_time": "2023-01-06T13:53:26.782Z"
   },
   {
    "duration": 17,
    "start_time": "2023-01-06T13:53:50.909Z"
   },
   {
    "duration": 335,
    "start_time": "2023-01-06T13:54:15.047Z"
   },
   {
    "duration": 383,
    "start_time": "2023-01-06T13:54:36.057Z"
   },
   {
    "duration": 471,
    "start_time": "2023-01-06T13:54:47.464Z"
   },
   {
    "duration": 72,
    "start_time": "2023-01-06T13:55:02.328Z"
   },
   {
    "duration": 21,
    "start_time": "2023-01-06T13:55:16.408Z"
   },
   {
    "duration": 8,
    "start_time": "2023-01-06T13:55:26.599Z"
   },
   {
    "duration": 10,
    "start_time": "2023-01-06T13:55:30.985Z"
   },
   {
    "duration": 14,
    "start_time": "2023-01-06T13:55:38.682Z"
   },
   {
    "duration": 341,
    "start_time": "2023-01-06T13:55:50.154Z"
   },
   {
    "duration": 14,
    "start_time": "2023-01-06T13:56:17.387Z"
   },
   {
    "duration": 251,
    "start_time": "2023-01-06T13:56:23.630Z"
   },
   {
    "duration": 395,
    "start_time": "2023-01-06T13:56:34.475Z"
   },
   {
    "duration": 6640,
    "start_time": "2023-01-06T13:56:50.277Z"
   },
   {
    "duration": 13,
    "start_time": "2023-01-06T13:57:14.222Z"
   },
   {
    "duration": 19,
    "start_time": "2023-01-06T13:57:18.541Z"
   },
   {
    "duration": 32,
    "start_time": "2023-01-06T13:57:27.902Z"
   },
   {
    "duration": 15,
    "start_time": "2023-01-06T13:57:42.424Z"
   },
   {
    "duration": 17,
    "start_time": "2023-01-06T13:59:49.220Z"
   },
   {
    "duration": 14,
    "start_time": "2023-01-06T14:00:02.428Z"
   },
   {
    "duration": 335,
    "start_time": "2023-01-06T14:01:16.807Z"
   },
   {
    "duration": 373,
    "start_time": "2023-01-06T14:01:21.015Z"
   },
   {
    "duration": 384,
    "start_time": "2023-01-06T14:01:34.791Z"
   },
   {
    "duration": 348,
    "start_time": "2023-01-06T14:01:48.680Z"
   },
   {
    "duration": 53,
    "start_time": "2023-01-06T14:02:07.840Z"
   },
   {
    "duration": 315,
    "start_time": "2023-01-06T14:05:32.456Z"
   },
   {
    "duration": 329,
    "start_time": "2023-01-06T14:05:40.437Z"
   },
   {
    "duration": 358,
    "start_time": "2023-01-06T14:07:01.327Z"
   },
   {
    "duration": 323,
    "start_time": "2023-01-06T14:08:23.023Z"
   },
   {
    "duration": 378,
    "start_time": "2023-01-06T14:09:03.400Z"
   },
   {
    "duration": 11,
    "start_time": "2023-01-06T14:11:57.455Z"
   },
   {
    "duration": 5,
    "start_time": "2023-01-06T14:12:02.839Z"
   },
   {
    "duration": 6,
    "start_time": "2023-01-06T14:12:13.943Z"
   },
   {
    "duration": 6,
    "start_time": "2023-01-06T14:12:16.583Z"
   },
   {
    "duration": 6,
    "start_time": "2023-01-06T14:12:24.168Z"
   },
   {
    "duration": 7,
    "start_time": "2023-01-06T14:12:25.800Z"
   },
   {
    "duration": 3,
    "start_time": "2023-01-06T14:13:19.714Z"
   },
   {
    "duration": 5,
    "start_time": "2023-01-06T14:14:32.469Z"
   },
   {
    "duration": 10,
    "start_time": "2023-01-06T14:16:38.962Z"
   },
   {
    "duration": 18,
    "start_time": "2023-01-06T14:16:44.153Z"
   },
   {
    "duration": 14,
    "start_time": "2023-01-06T14:18:16.330Z"
   },
   {
    "duration": 5,
    "start_time": "2023-01-06T14:22:19.415Z"
   },
   {
    "duration": 5,
    "start_time": "2023-01-06T14:22:19.714Z"
   },
   {
    "duration": 6,
    "start_time": "2023-01-06T14:22:19.959Z"
   },
   {
    "duration": 11,
    "start_time": "2023-01-06T14:22:23.359Z"
   },
   {
    "duration": 18,
    "start_time": "2023-01-06T14:22:23.694Z"
   },
   {
    "duration": 7,
    "start_time": "2023-01-06T14:22:29.216Z"
   },
   {
    "duration": 3,
    "start_time": "2023-01-06T14:24:11.250Z"
   },
   {
    "duration": 8,
    "start_time": "2023-01-06T14:25:28.877Z"
   },
   {
    "duration": 8,
    "start_time": "2023-01-06T14:26:16.950Z"
   },
   {
    "duration": 4,
    "start_time": "2023-01-06T14:27:08.096Z"
   },
   {
    "duration": 4,
    "start_time": "2023-01-06T14:27:34.851Z"
   },
   {
    "duration": 4,
    "start_time": "2023-01-06T14:28:04.643Z"
   },
   {
    "duration": 5,
    "start_time": "2023-01-06T14:28:08.275Z"
   },
   {
    "duration": 6,
    "start_time": "2023-01-06T14:28:19.571Z"
   },
   {
    "duration": 9,
    "start_time": "2023-01-06T14:28:31.275Z"
   },
   {
    "duration": 7,
    "start_time": "2023-01-06T14:28:40.176Z"
   },
   {
    "duration": 5,
    "start_time": "2023-01-06T14:29:00.796Z"
   },
   {
    "duration": 10,
    "start_time": "2023-01-06T14:29:03.700Z"
   },
   {
    "duration": 4,
    "start_time": "2023-01-06T14:29:35.884Z"
   },
   {
    "duration": 12,
    "start_time": "2023-01-06T14:30:07.374Z"
   },
   {
    "duration": 8,
    "start_time": "2023-01-06T14:30:33.992Z"
   },
   {
    "duration": 9,
    "start_time": "2023-01-06T14:31:15.321Z"
   },
   {
    "duration": 5,
    "start_time": "2023-01-06T14:31:18.760Z"
   },
   {
    "duration": 3,
    "start_time": "2023-01-06T14:33:10.485Z"
   },
   {
    "duration": 40,
    "start_time": "2023-01-06T14:33:10.660Z"
   },
   {
    "duration": 14,
    "start_time": "2023-01-06T14:33:11.012Z"
   },
   {
    "duration": 14,
    "start_time": "2023-01-06T14:33:11.220Z"
   },
   {
    "duration": 52,
    "start_time": "2023-01-06T14:33:12.396Z"
   },
   {
    "duration": 5,
    "start_time": "2023-01-06T14:33:14.292Z"
   },
   {
    "duration": 159,
    "start_time": "2023-01-06T14:33:15.989Z"
   },
   {
    "duration": 8,
    "start_time": "2023-01-06T14:33:16.452Z"
   },
   {
    "duration": 6,
    "start_time": "2023-01-06T14:33:16.684Z"
   },
   {
    "duration": 4,
    "start_time": "2023-01-06T14:33:17.053Z"
   },
   {
    "duration": 390,
    "start_time": "2023-01-06T14:33:17.277Z"
   },
   {
    "duration": 369,
    "start_time": "2023-01-06T14:33:18.581Z"
   },
   {
    "duration": 6,
    "start_time": "2023-01-06T14:33:21.516Z"
   },
   {
    "duration": 5,
    "start_time": "2023-01-06T14:33:23.701Z"
   },
   {
    "duration": 5,
    "start_time": "2023-01-06T14:33:24.645Z"
   },
   {
    "duration": 12,
    "start_time": "2023-01-06T14:33:25.924Z"
   },
   {
    "duration": 12,
    "start_time": "2023-01-06T14:33:28.205Z"
   },
   {
    "duration": 6,
    "start_time": "2023-01-06T14:33:41.390Z"
   },
   {
    "duration": 9,
    "start_time": "2023-01-06T14:33:42.550Z"
   },
   {
    "duration": 9,
    "start_time": "2023-01-06T14:33:43.477Z"
   },
   {
    "duration": 10,
    "start_time": "2023-01-06T14:33:43.694Z"
   },
   {
    "duration": 10,
    "start_time": "2023-01-06T14:33:44.150Z"
   },
   {
    "duration": 31,
    "start_time": "2023-01-06T14:33:51.214Z"
   },
   {
    "duration": 11,
    "start_time": "2023-01-06T14:33:59.734Z"
   },
   {
    "duration": 16,
    "start_time": "2023-01-06T14:34:04.535Z"
   },
   {
    "duration": 6,
    "start_time": "2023-01-06T14:35:43.898Z"
   },
   {
    "duration": 44,
    "start_time": "2023-01-06T14:35:44.066Z"
   },
   {
    "duration": 14,
    "start_time": "2023-01-06T14:35:44.370Z"
   },
   {
    "duration": 13,
    "start_time": "2023-01-06T14:35:44.514Z"
   },
   {
    "duration": 42,
    "start_time": "2023-01-06T14:35:44.674Z"
   },
   {
    "duration": 6,
    "start_time": "2023-01-06T14:35:44.978Z"
   },
   {
    "duration": 167,
    "start_time": "2023-01-06T14:35:45.299Z"
   },
   {
    "duration": 9,
    "start_time": "2023-01-06T14:35:45.467Z"
   },
   {
    "duration": 5,
    "start_time": "2023-01-06T14:35:45.651Z"
   },
   {
    "duration": 5,
    "start_time": "2023-01-06T14:35:46.714Z"
   },
   {
    "duration": 749,
    "start_time": "2023-01-06T14:35:46.858Z"
   },
   {
    "duration": 352,
    "start_time": "2023-01-06T14:35:47.739Z"
   },
   {
    "duration": 5,
    "start_time": "2023-01-06T14:35:48.234Z"
   },
   {
    "duration": 6,
    "start_time": "2023-01-06T14:35:48.401Z"
   },
   {
    "duration": 7,
    "start_time": "2023-01-06T14:35:48.569Z"
   },
   {
    "duration": 12,
    "start_time": "2023-01-06T14:35:49.537Z"
   },
   {
    "duration": 15,
    "start_time": "2023-01-06T14:35:49.698Z"
   },
   {
    "duration": 8,
    "start_time": "2023-01-06T14:35:49.978Z"
   },
   {
    "duration": 8,
    "start_time": "2023-01-06T14:35:51.250Z"
   },
   {
    "duration": 8,
    "start_time": "2023-01-06T14:35:51.489Z"
   },
   {
    "duration": 11,
    "start_time": "2023-01-06T14:35:52.394Z"
   },
   {
    "duration": 8,
    "start_time": "2023-01-06T14:35:54.628Z"
   },
   {
    "duration": 18,
    "start_time": "2023-01-06T14:36:00.394Z"
   },
   {
    "duration": 5,
    "start_time": "2023-01-06T14:36:08.715Z"
   },
   {
    "duration": 3,
    "start_time": "2023-01-06T14:36:44.756Z"
   },
   {
    "duration": 9,
    "start_time": "2023-01-06T14:36:58.796Z"
   },
   {
    "duration": 11,
    "start_time": "2023-01-06T14:37:03.532Z"
   },
   {
    "duration": 14,
    "start_time": "2023-01-06T14:37:23.581Z"
   },
   {
    "duration": 13,
    "start_time": "2023-01-06T14:37:28.070Z"
   },
   {
    "duration": 27,
    "start_time": "2023-01-06T14:39:05.235Z"
   },
   {
    "duration": 4,
    "start_time": "2023-01-06T14:39:35.787Z"
   },
   {
    "duration": 23,
    "start_time": "2023-01-06T14:39:40.883Z"
   },
   {
    "duration": 13,
    "start_time": "2023-01-06T14:39:42.666Z"
   },
   {
    "duration": 13,
    "start_time": "2023-01-06T14:39:44.570Z"
   },
   {
    "duration": 4,
    "start_time": "2023-01-06T14:39:49.002Z"
   },
   {
    "duration": 41,
    "start_time": "2023-01-06T14:39:49.146Z"
   },
   {
    "duration": 15,
    "start_time": "2023-01-06T14:39:49.450Z"
   },
   {
    "duration": 16,
    "start_time": "2023-01-06T14:39:49.594Z"
   },
   {
    "duration": 54,
    "start_time": "2023-01-06T14:39:49.761Z"
   },
   {
    "duration": 5,
    "start_time": "2023-01-06T14:39:50.066Z"
   },
   {
    "duration": 167,
    "start_time": "2023-01-06T14:39:50.378Z"
   },
   {
    "duration": 8,
    "start_time": "2023-01-06T14:39:51.435Z"
   },
   {
    "duration": 6,
    "start_time": "2023-01-06T14:39:51.666Z"
   },
   {
    "duration": 5,
    "start_time": "2023-01-06T14:39:52.042Z"
   },
   {
    "duration": 384,
    "start_time": "2023-01-06T14:39:52.986Z"
   },
   {
    "duration": 356,
    "start_time": "2023-01-06T14:39:53.372Z"
   },
   {
    "duration": 5,
    "start_time": "2023-01-06T14:39:53.938Z"
   },
   {
    "duration": 7,
    "start_time": "2023-01-06T14:39:54.690Z"
   },
   {
    "duration": 5,
    "start_time": "2023-01-06T14:39:55.178Z"
   },
   {
    "duration": 13,
    "start_time": "2023-01-06T14:39:55.515Z"
   },
   {
    "duration": 16,
    "start_time": "2023-01-06T14:39:55.754Z"
   },
   {
    "duration": 6,
    "start_time": "2023-01-06T14:39:56.171Z"
   },
   {
    "duration": 13,
    "start_time": "2023-01-06T14:39:57.539Z"
   },
   {
    "duration": 8,
    "start_time": "2023-01-06T14:39:57.779Z"
   },
   {
    "duration": 12,
    "start_time": "2023-01-06T14:39:58.051Z"
   },
   {
    "duration": 10,
    "start_time": "2023-01-06T14:39:59.412Z"
   },
   {
    "duration": 31,
    "start_time": "2023-01-06T14:40:00.795Z"
   },
   {
    "duration": 13,
    "start_time": "2023-01-06T14:40:01.803Z"
   },
   {
    "duration": 13,
    "start_time": "2023-01-06T14:40:05.531Z"
   },
   {
    "duration": 3,
    "start_time": "2023-01-06T14:43:02.810Z"
   },
   {
    "duration": 4,
    "start_time": "2023-01-06T14:44:50.733Z"
   },
   {
    "duration": 4,
    "start_time": "2023-01-06T14:47:23.995Z"
   },
   {
    "duration": 1338,
    "start_time": "2023-01-07T11:01:42.649Z"
   },
   {
    "duration": 80,
    "start_time": "2023-01-07T11:01:43.989Z"
   },
   {
    "duration": 15,
    "start_time": "2023-01-07T11:01:45.062Z"
   },
   {
    "duration": 12,
    "start_time": "2023-01-07T11:01:45.285Z"
   },
   {
    "duration": 38,
    "start_time": "2023-01-07T11:01:45.565Z"
   },
   {
    "duration": 4,
    "start_time": "2023-01-07T11:01:46.343Z"
   },
   {
    "duration": 139,
    "start_time": "2023-01-07T11:01:46.701Z"
   },
   {
    "duration": 6,
    "start_time": "2023-01-07T11:01:46.861Z"
   },
   {
    "duration": 4,
    "start_time": "2023-01-07T11:01:47.037Z"
   },
   {
    "duration": 5,
    "start_time": "2023-01-07T11:01:47.347Z"
   },
   {
    "duration": 375,
    "start_time": "2023-01-07T11:01:47.493Z"
   },
   {
    "duration": 312,
    "start_time": "2023-01-07T11:01:47.869Z"
   },
   {
    "duration": 4,
    "start_time": "2023-01-07T11:01:48.373Z"
   },
   {
    "duration": 5,
    "start_time": "2023-01-07T11:01:48.654Z"
   },
   {
    "duration": 5,
    "start_time": "2023-01-07T11:01:48.885Z"
   },
   {
    "duration": 11,
    "start_time": "2023-01-07T11:01:49.354Z"
   },
   {
    "duration": 10,
    "start_time": "2023-01-07T11:01:49.557Z"
   },
   {
    "duration": 6,
    "start_time": "2023-01-07T11:01:50.143Z"
   },
   {
    "duration": 9,
    "start_time": "2023-01-07T11:01:50.813Z"
   },
   {
    "duration": 7,
    "start_time": "2023-01-07T11:01:51.054Z"
   },
   {
    "duration": 10,
    "start_time": "2023-01-07T11:01:51.743Z"
   },
   {
    "duration": 8,
    "start_time": "2023-01-07T11:01:53.501Z"
   },
   {
    "duration": 83,
    "start_time": "2023-01-07T11:01:53.957Z"
   },
   {
    "duration": 10,
    "start_time": "2023-01-07T11:01:55.152Z"
   },
   {
    "duration": 2,
    "start_time": "2023-01-07T11:03:32.457Z"
   },
   {
    "duration": 103,
    "start_time": "2023-01-07T11:05:24.040Z"
   },
   {
    "duration": 202,
    "start_time": "2023-01-07T11:05:30.301Z"
   },
   {
    "duration": 192,
    "start_time": "2023-01-07T11:05:35.510Z"
   },
   {
    "duration": 4,
    "start_time": "2023-01-07T11:05:45.343Z"
   },
   {
    "duration": 4,
    "start_time": "2023-01-07T11:05:49.751Z"
   },
   {
    "duration": 8,
    "start_time": "2023-01-07T11:06:06.703Z"
   },
   {
    "duration": 10,
    "start_time": "2023-01-07T11:06:29.415Z"
   },
   {
    "duration": 7,
    "start_time": "2023-01-07T11:06:36.463Z"
   },
   {
    "duration": 4,
    "start_time": "2023-01-07T11:12:39.397Z"
   },
   {
    "duration": 153,
    "start_time": "2023-01-07T11:12:48.856Z"
   },
   {
    "duration": 3,
    "start_time": "2023-01-07T11:12:55.270Z"
   },
   {
    "duration": 70,
    "start_time": "2023-01-07T11:12:55.837Z"
   },
   {
    "duration": 3,
    "start_time": "2023-01-07T11:13:07.975Z"
   },
   {
    "duration": 425,
    "start_time": "2023-01-07T11:13:08.174Z"
   },
   {
    "duration": 4,
    "start_time": "2023-01-07T11:13:19.251Z"
   },
   {
    "duration": 265,
    "start_time": "2023-01-07T11:13:19.440Z"
   },
   {
    "duration": 4,
    "start_time": "2023-01-07T11:14:19.665Z"
   },
   {
    "duration": 207,
    "start_time": "2023-01-07T11:14:20.199Z"
   },
   {
    "duration": 6,
    "start_time": "2023-01-07T11:17:09.968Z"
   },
   {
    "duration": 8,
    "start_time": "2023-01-07T11:17:16.155Z"
   },
   {
    "duration": 4,
    "start_time": "2023-01-07T11:17:56.675Z"
   },
   {
    "duration": 8,
    "start_time": "2023-01-07T11:18:07.280Z"
   },
   {
    "duration": 6,
    "start_time": "2023-01-07T11:18:13.603Z"
   },
   {
    "duration": 375,
    "start_time": "2023-01-07T11:18:13.837Z"
   },
   {
    "duration": 6,
    "start_time": "2023-01-07T11:18:31.751Z"
   },
   {
    "duration": 8,
    "start_time": "2023-01-07T11:18:32.448Z"
   },
   {
    "duration": 47,
    "start_time": "2023-01-07T11:19:13.550Z"
   },
   {
    "duration": 7,
    "start_time": "2023-01-07T11:19:15.060Z"
   },
   {
    "duration": 5,
    "start_time": "2023-01-07T11:19:24.771Z"
   },
   {
    "duration": 8,
    "start_time": "2023-01-07T11:19:28.871Z"
   },
   {
    "duration": 5,
    "start_time": "2023-01-07T11:19:38.503Z"
   },
   {
    "duration": 8,
    "start_time": "2023-01-07T11:19:39.062Z"
   },
   {
    "duration": 6,
    "start_time": "2023-01-07T11:19:43.368Z"
   },
   {
    "duration": 9,
    "start_time": "2023-01-07T11:19:44.855Z"
   },
   {
    "duration": 57,
    "start_time": "2023-01-07T11:19:46.451Z"
   },
   {
    "duration": 3,
    "start_time": "2023-01-07T11:19:47.358Z"
   },
   {
    "duration": 15,
    "start_time": "2023-01-07T11:19:47.805Z"
   },
   {
    "duration": 4,
    "start_time": "2023-01-07T11:20:49.663Z"
   },
   {
    "duration": 6,
    "start_time": "2023-01-07T11:21:45.082Z"
   },
   {
    "duration": 9,
    "start_time": "2023-01-07T11:22:24.718Z"
   },
   {
    "duration": 6,
    "start_time": "2023-01-07T11:22:25.594Z"
   },
   {
    "duration": 20,
    "start_time": "2023-01-07T11:22:31.252Z"
   },
   {
    "duration": 272,
    "start_time": "2023-01-07T11:22:47.837Z"
   },
   {
    "duration": 8,
    "start_time": "2023-01-07T11:22:52.162Z"
   },
   {
    "duration": 462,
    "start_time": "2023-01-07T11:24:01.638Z"
   },
   {
    "duration": 689,
    "start_time": "2023-01-07T11:24:51.044Z"
   },
   {
    "duration": 8,
    "start_time": "2023-01-07T11:24:58.792Z"
   },
   {
    "duration": 8,
    "start_time": "2023-01-07T11:25:16.169Z"
   },
   {
    "duration": 92,
    "start_time": "2023-01-07T11:25:16.408Z"
   },
   {
    "duration": 680,
    "start_time": "2023-01-07T11:25:16.680Z"
   },
   {
    "duration": 8,
    "start_time": "2023-01-07T11:25:18.342Z"
   },
   {
    "duration": 8,
    "start_time": "2023-01-07T11:30:04.587Z"
   },
   {
    "duration": 554,
    "start_time": "2023-01-07T11:30:07.547Z"
   },
   {
    "duration": 707,
    "start_time": "2023-01-07T11:30:09.211Z"
   },
   {
    "duration": 8,
    "start_time": "2023-01-07T11:30:11.683Z"
   },
   {
    "duration": 5,
    "start_time": "2023-01-07T11:30:44.171Z"
   },
   {
    "duration": 9,
    "start_time": "2023-01-07T11:30:46.244Z"
   },
   {
    "duration": 8,
    "start_time": "2023-01-07T11:30:54.269Z"
   },
   {
    "duration": 95,
    "start_time": "2023-01-07T11:31:05.037Z"
   },
   {
    "duration": 35,
    "start_time": "2023-01-07T11:36:16.362Z"
   },
   {
    "duration": 5,
    "start_time": "2023-01-07T11:36:38.410Z"
   },
   {
    "duration": 5,
    "start_time": "2023-01-07T11:37:50.594Z"
   },
   {
    "duration": 6,
    "start_time": "2023-01-07T11:38:03.300Z"
   },
   {
    "duration": 3,
    "start_time": "2023-01-07T11:43:04.263Z"
   },
   {
    "duration": 4,
    "start_time": "2023-01-07T11:43:07.096Z"
   },
   {
    "duration": 8,
    "start_time": "2023-01-07T11:43:18.983Z"
   },
   {
    "duration": 4,
    "start_time": "2023-01-07T11:43:20.932Z"
   },
   {
    "duration": 412,
    "start_time": "2023-01-07T11:44:07.489Z"
   },
   {
    "duration": 245,
    "start_time": "2023-01-07T11:44:27.354Z"
   },
   {
    "duration": 640,
    "start_time": "2023-01-07T11:44:57.651Z"
   },
   {
    "duration": 726,
    "start_time": "2023-01-07T11:45:04.260Z"
   },
   {
    "duration": 1274,
    "start_time": "2023-01-07T11:45:12.462Z"
   },
   {
    "duration": 41,
    "start_time": "2023-01-07T11:45:13.738Z"
   },
   {
    "duration": 17,
    "start_time": "2023-01-07T11:45:13.780Z"
   },
   {
    "duration": 14,
    "start_time": "2023-01-07T11:45:13.798Z"
   },
   {
    "duration": 36,
    "start_time": "2023-01-07T11:45:13.814Z"
   },
   {
    "duration": 4,
    "start_time": "2023-01-07T11:45:13.851Z"
   },
   {
    "duration": 183,
    "start_time": "2023-01-07T11:45:13.856Z"
   },
   {
    "duration": 6,
    "start_time": "2023-01-07T11:45:14.041Z"
   },
   {
    "duration": 5,
    "start_time": "2023-01-07T11:45:14.048Z"
   },
   {
    "duration": 5,
    "start_time": "2023-01-07T11:45:14.055Z"
   },
   {
    "duration": 363,
    "start_time": "2023-01-07T11:45:14.062Z"
   },
   {
    "duration": 303,
    "start_time": "2023-01-07T11:45:14.427Z"
   },
   {
    "duration": 6,
    "start_time": "2023-01-07T11:45:14.733Z"
   },
   {
    "duration": 8,
    "start_time": "2023-01-07T11:45:14.742Z"
   },
   {
    "duration": 25,
    "start_time": "2023-01-07T11:45:14.751Z"
   },
   {
    "duration": 19,
    "start_time": "2023-01-07T11:45:14.778Z"
   },
   {
    "duration": 15,
    "start_time": "2023-01-07T11:45:14.799Z"
   },
   {
    "duration": 9,
    "start_time": "2023-01-07T11:45:14.816Z"
   },
   {
    "duration": 20,
    "start_time": "2023-01-07T11:45:14.826Z"
   },
   {
    "duration": 8,
    "start_time": "2023-01-07T11:45:14.847Z"
   },
   {
    "duration": 96,
    "start_time": "2023-01-07T11:45:14.857Z"
   },
   {
    "duration": 7,
    "start_time": "2023-01-07T11:45:14.955Z"
   },
   {
    "duration": 41,
    "start_time": "2023-01-07T11:45:14.963Z"
   },
   {
    "duration": 11,
    "start_time": "2023-01-07T11:45:15.006Z"
   },
   {
    "duration": 7,
    "start_time": "2023-01-07T11:45:15.019Z"
   },
   {
    "duration": 670,
    "start_time": "2023-01-07T11:45:15.028Z"
   },
   {
    "duration": 734,
    "start_time": "2023-01-07T11:45:15.700Z"
   },
   {
    "duration": 9,
    "start_time": "2023-01-07T11:45:16.436Z"
   },
   {
    "duration": 9,
    "start_time": "2023-01-07T11:45:16.446Z"
   },
   {
    "duration": 348,
    "start_time": "2023-01-07T11:45:16.456Z"
   },
   {
    "duration": 767,
    "start_time": "2023-01-07T11:45:16.806Z"
   },
   {
    "duration": 8,
    "start_time": "2023-01-07T11:45:26.236Z"
   },
   {
    "duration": 15,
    "start_time": "2023-01-07T11:46:05.830Z"
   },
   {
    "duration": 4,
    "start_time": "2023-01-07T11:52:54.614Z"
   },
   {
    "duration": 3,
    "start_time": "2023-01-07T11:58:39.431Z"
   },
   {
    "duration": 117,
    "start_time": "2023-01-07T11:59:27.630Z"
   },
   {
    "duration": 20,
    "start_time": "2023-01-07T11:59:37.740Z"
   },
   {
    "duration": 3,
    "start_time": "2023-01-07T12:00:06.623Z"
   },
   {
    "duration": 10,
    "start_time": "2023-01-07T12:00:07.111Z"
   },
   {
    "duration": 568,
    "start_time": "2023-01-07T12:00:48.736Z"
   },
   {
    "duration": 317,
    "start_time": "2023-01-07T12:01:19.480Z"
   },
   {
    "duration": 998,
    "start_time": "2023-01-07T12:01:22.213Z"
   },
   {
    "duration": 1282,
    "start_time": "2023-01-07T12:01:40.913Z"
   },
   {
    "duration": 40,
    "start_time": "2023-01-07T12:01:42.197Z"
   },
   {
    "duration": 14,
    "start_time": "2023-01-07T12:01:42.239Z"
   },
   {
    "duration": 12,
    "start_time": "2023-01-07T12:01:42.254Z"
   },
   {
    "duration": 34,
    "start_time": "2023-01-07T12:01:42.269Z"
   },
   {
    "duration": 4,
    "start_time": "2023-01-07T12:01:42.305Z"
   },
   {
    "duration": 153,
    "start_time": "2023-01-07T12:01:42.310Z"
   },
   {
    "duration": 7,
    "start_time": "2023-01-07T12:01:42.465Z"
   },
   {
    "duration": 11,
    "start_time": "2023-01-07T12:01:42.473Z"
   },
   {
    "duration": 15,
    "start_time": "2023-01-07T12:01:42.485Z"
   },
   {
    "duration": 350,
    "start_time": "2023-01-07T12:01:42.502Z"
   },
   {
    "duration": 307,
    "start_time": "2023-01-07T12:01:42.854Z"
   },
   {
    "duration": 4,
    "start_time": "2023-01-07T12:01:43.163Z"
   },
   {
    "duration": 13,
    "start_time": "2023-01-07T12:01:43.170Z"
   },
   {
    "duration": 16,
    "start_time": "2023-01-07T12:01:43.184Z"
   },
   {
    "duration": 20,
    "start_time": "2023-01-07T12:01:43.201Z"
   },
   {
    "duration": 10,
    "start_time": "2023-01-07T12:01:43.222Z"
   },
   {
    "duration": 66,
    "start_time": "2023-01-07T12:01:43.233Z"
   },
   {
    "duration": 18,
    "start_time": "2023-01-07T12:01:43.301Z"
   },
   {
    "duration": 5,
    "start_time": "2023-01-07T12:01:43.321Z"
   },
   {
    "duration": 12,
    "start_time": "2023-01-07T12:01:43.328Z"
   },
   {
    "duration": 10,
    "start_time": "2023-01-07T12:01:43.341Z"
   },
   {
    "duration": 23,
    "start_time": "2023-01-07T12:01:43.353Z"
   },
   {
    "duration": 10,
    "start_time": "2023-01-07T12:01:43.378Z"
   },
   {
    "duration": 6,
    "start_time": "2023-01-07T12:01:43.397Z"
   },
   {
    "duration": 595,
    "start_time": "2023-01-07T12:01:43.404Z"
   },
   {
    "duration": 704,
    "start_time": "2023-01-07T12:01:44.000Z"
   },
   {
    "duration": 10,
    "start_time": "2023-01-07T12:01:44.707Z"
   },
   {
    "duration": 19,
    "start_time": "2023-01-07T12:01:44.719Z"
   },
   {
    "duration": 358,
    "start_time": "2023-01-07T12:01:44.740Z"
   },
   {
    "duration": 715,
    "start_time": "2023-01-07T12:01:45.100Z"
   },
   {
    "duration": 8,
    "start_time": "2023-01-07T12:01:45.816Z"
   },
   {
    "duration": 10,
    "start_time": "2023-01-07T12:01:45.826Z"
   },
   {
    "duration": 19,
    "start_time": "2023-01-07T12:01:45.837Z"
   },
   {
    "duration": 540,
    "start_time": "2023-01-07T12:01:45.858Z"
   },
   {
    "duration": 915,
    "start_time": "2023-01-07T12:01:46.399Z"
   },
   {
    "duration": 10,
    "start_time": "2023-01-07T12:02:22.738Z"
   },
   {
    "duration": 10,
    "start_time": "2023-01-07T12:02:31.059Z"
   },
   {
    "duration": 9,
    "start_time": "2023-01-07T12:02:34.308Z"
   },
   {
    "duration": 4,
    "start_time": "2023-01-07T12:10:30.205Z"
   },
   {
    "duration": 3,
    "start_time": "2023-01-07T12:10:32.516Z"
   },
   {
    "duration": 61,
    "start_time": "2023-01-07T12:10:34.661Z"
   },
   {
    "duration": 6495,
    "start_time": "2023-01-07T12:14:01.029Z"
   },
   {
    "duration": 6,
    "start_time": "2023-01-07T12:14:14.507Z"
   },
   {
    "duration": 12133,
    "start_time": "2023-01-07T12:14:24.907Z"
   },
   {
    "duration": 100,
    "start_time": "2023-01-07T12:15:17.248Z"
   },
   {
    "duration": 99,
    "start_time": "2023-01-07T12:22:39.144Z"
   },
   {
    "duration": 5,
    "start_time": "2023-01-07T12:23:28.642Z"
   },
   {
    "duration": 4,
    "start_time": "2023-01-07T12:23:52.434Z"
   },
   {
    "duration": 23,
    "start_time": "2023-01-07T12:23:54.667Z"
   },
   {
    "duration": 788,
    "start_time": "2023-01-07T12:25:38.983Z"
   },
   {
    "duration": 129,
    "start_time": "2023-01-07T12:27:14.539Z"
   },
   {
    "duration": 107,
    "start_time": "2023-01-07T12:27:22.234Z"
   },
   {
    "duration": 906,
    "start_time": "2023-01-07T12:27:44.507Z"
   },
   {
    "duration": 96,
    "start_time": "2023-01-07T12:27:46.275Z"
   },
   {
    "duration": 652,
    "start_time": "2023-01-07T12:28:01.035Z"
   },
   {
    "duration": 78,
    "start_time": "2023-01-07T12:28:02.556Z"
   },
   {
    "duration": 1340,
    "start_time": "2023-01-07T12:28:17.414Z"
   },
   {
    "duration": 42,
    "start_time": "2023-01-07T12:28:18.756Z"
   },
   {
    "duration": 15,
    "start_time": "2023-01-07T12:28:18.799Z"
   },
   {
    "duration": 15,
    "start_time": "2023-01-07T12:28:18.815Z"
   },
   {
    "duration": 36,
    "start_time": "2023-01-07T12:28:18.831Z"
   },
   {
    "duration": 3,
    "start_time": "2023-01-07T12:28:18.869Z"
   },
   {
    "duration": 179,
    "start_time": "2023-01-07T12:28:18.874Z"
   },
   {
    "duration": 7,
    "start_time": "2023-01-07T12:28:19.055Z"
   },
   {
    "duration": 12,
    "start_time": "2023-01-07T12:28:19.064Z"
   },
   {
    "duration": 22,
    "start_time": "2023-01-07T12:28:19.078Z"
   },
   {
    "duration": 351,
    "start_time": "2023-01-07T12:28:19.102Z"
   },
   {
    "duration": 357,
    "start_time": "2023-01-07T12:28:19.454Z"
   },
   {
    "duration": 5,
    "start_time": "2023-01-07T12:28:19.812Z"
   },
   {
    "duration": 5,
    "start_time": "2023-01-07T12:28:19.819Z"
   },
   {
    "duration": 5,
    "start_time": "2023-01-07T12:28:19.825Z"
   },
   {
    "duration": 11,
    "start_time": "2023-01-07T12:28:19.832Z"
   },
   {
    "duration": 94,
    "start_time": "2023-01-07T12:28:19.844Z"
   },
   {
    "duration": 6,
    "start_time": "2023-01-07T12:28:19.940Z"
   },
   {
    "duration": 16,
    "start_time": "2023-01-07T12:28:19.947Z"
   },
   {
    "duration": 22,
    "start_time": "2023-01-07T12:28:19.965Z"
   },
   {
    "duration": 11,
    "start_time": "2023-01-07T12:28:19.988Z"
   },
   {
    "duration": 11,
    "start_time": "2023-01-07T12:28:20.001Z"
   },
   {
    "duration": 30,
    "start_time": "2023-01-07T12:28:20.014Z"
   },
   {
    "duration": 15,
    "start_time": "2023-01-07T12:28:20.046Z"
   },
   {
    "duration": 14,
    "start_time": "2023-01-07T12:28:20.063Z"
   },
   {
    "duration": 226,
    "start_time": "2023-01-07T12:28:20.079Z"
   },
   {
    "duration": 814,
    "start_time": "2023-01-07T12:28:20.306Z"
   },
   {
    "duration": 8,
    "start_time": "2023-01-07T12:28:21.121Z"
   },
   {
    "duration": 7,
    "start_time": "2023-01-07T12:28:21.131Z"
   },
   {
    "duration": 271,
    "start_time": "2023-01-07T12:28:21.139Z"
   },
   {
    "duration": 700,
    "start_time": "2023-01-07T12:28:21.498Z"
   },
   {
    "duration": 8,
    "start_time": "2023-01-07T12:28:22.199Z"
   },
   {
    "duration": 5,
    "start_time": "2023-01-07T12:28:22.208Z"
   },
   {
    "duration": 14,
    "start_time": "2023-01-07T12:28:22.214Z"
   },
   {
    "duration": 276,
    "start_time": "2023-01-07T12:28:22.230Z"
   },
   {
    "duration": 1095,
    "start_time": "2023-01-07T12:28:22.598Z"
   },
   {
    "duration": 14,
    "start_time": "2023-01-07T12:28:23.697Z"
   },
   {
    "duration": 12655,
    "start_time": "2023-01-07T12:28:23.713Z"
   },
   {
    "duration": 13,
    "start_time": "2023-01-07T12:28:36.369Z"
   },
   {
    "duration": 891,
    "start_time": "2023-01-07T12:28:36.383Z"
   },
   {
    "duration": 99,
    "start_time": "2023-01-07T12:28:37.278Z"
   },
   {
    "duration": 5,
    "start_time": "2023-01-07T12:40:36.769Z"
   },
   {
    "duration": 3,
    "start_time": "2023-01-07T12:40:56.272Z"
   },
   {
    "duration": 4,
    "start_time": "2023-01-07T12:41:05.654Z"
   },
   {
    "duration": 8,
    "start_time": "2023-01-07T12:41:24.682Z"
   },
   {
    "duration": 6,
    "start_time": "2023-01-07T12:41:27.594Z"
   },
   {
    "duration": 6,
    "start_time": "2023-01-07T12:41:29.588Z"
   },
   {
    "duration": 3,
    "start_time": "2023-01-07T12:42:27.189Z"
   },
   {
    "duration": 113,
    "start_time": "2023-01-07T12:42:37.945Z"
   },
   {
    "duration": 9,
    "start_time": "2023-01-07T12:42:45.488Z"
   },
   {
    "duration": 8,
    "start_time": "2023-01-07T12:42:48.459Z"
   },
   {
    "duration": 4,
    "start_time": "2023-01-07T12:42:58.805Z"
   },
   {
    "duration": 9,
    "start_time": "2023-01-07T12:43:08.013Z"
   },
   {
    "duration": 9,
    "start_time": "2023-01-07T12:44:13.263Z"
   },
   {
    "duration": 9,
    "start_time": "2023-01-07T12:44:18.449Z"
   },
   {
    "duration": 5,
    "start_time": "2023-01-07T12:44:26.632Z"
   },
   {
    "duration": 18,
    "start_time": "2023-01-07T12:45:19.779Z"
   },
   {
    "duration": 47,
    "start_time": "2023-01-07T12:45:47.012Z"
   },
   {
    "duration": 4,
    "start_time": "2023-01-07T12:46:24.998Z"
   },
   {
    "duration": 9,
    "start_time": "2023-01-07T12:46:52.414Z"
   },
   {
    "duration": 25,
    "start_time": "2023-01-07T12:47:07.783Z"
   },
   {
    "duration": 28,
    "start_time": "2023-01-07T12:47:48.104Z"
   },
   {
    "duration": 29,
    "start_time": "2023-01-07T12:48:00.261Z"
   },
   {
    "duration": 26,
    "start_time": "2023-01-07T12:48:03.437Z"
   },
   {
    "duration": 5,
    "start_time": "2023-01-07T12:48:15.113Z"
   },
   {
    "duration": 8,
    "start_time": "2023-01-07T12:48:18.865Z"
   },
   {
    "duration": 47,
    "start_time": "2023-01-07T12:48:21.952Z"
   },
   {
    "duration": 30,
    "start_time": "2023-01-07T12:48:24.744Z"
   },
   {
    "duration": 3,
    "start_time": "2023-01-07T12:49:27.852Z"
   },
   {
    "duration": 3,
    "start_time": "2023-01-07T12:49:53.053Z"
   },
   {
    "duration": 4,
    "start_time": "2023-01-07T12:49:55.258Z"
   },
   {
    "duration": 4,
    "start_time": "2023-01-07T12:50:12.710Z"
   },
   {
    "duration": 37,
    "start_time": "2023-01-07T12:50:14.901Z"
   },
   {
    "duration": 9,
    "start_time": "2023-01-07T12:50:28.982Z"
   },
   {
    "duration": 9,
    "start_time": "2023-01-07T12:52:46.973Z"
   },
   {
    "duration": 26,
    "start_time": "2023-01-07T12:52:50.107Z"
   },
   {
    "duration": 18,
    "start_time": "2023-01-07T12:53:15.309Z"
   },
   {
    "duration": 21,
    "start_time": "2023-01-07T12:53:18.397Z"
   },
   {
    "duration": 24,
    "start_time": "2023-01-07T12:53:31.366Z"
   },
   {
    "duration": 26,
    "start_time": "2023-01-07T12:53:45.553Z"
   },
   {
    "duration": 7,
    "start_time": "2023-01-07T12:53:54.558Z"
   },
   {
    "duration": 9,
    "start_time": "2023-01-07T12:53:57.151Z"
   },
   {
    "duration": 9,
    "start_time": "2023-01-07T12:54:01.574Z"
   },
   {
    "duration": 8,
    "start_time": "2023-01-07T12:54:47.570Z"
   },
   {
    "duration": 16,
    "start_time": "2023-01-07T12:54:52.976Z"
   },
   {
    "duration": 33,
    "start_time": "2023-01-07T12:55:01.404Z"
   },
   {
    "duration": 58,
    "start_time": "2023-01-07T12:55:09.289Z"
   },
   {
    "duration": 60,
    "start_time": "2023-01-07T12:55:26.974Z"
   },
   {
    "duration": 4,
    "start_time": "2023-01-07T12:58:43.575Z"
   },
   {
    "duration": 42,
    "start_time": "2023-01-07T12:58:43.581Z"
   },
   {
    "duration": 12,
    "start_time": "2023-01-07T12:58:43.624Z"
   },
   {
    "duration": 13,
    "start_time": "2023-01-07T12:58:43.638Z"
   },
   {
    "duration": 34,
    "start_time": "2023-01-07T12:58:43.653Z"
   },
   {
    "duration": 3,
    "start_time": "2023-01-07T12:58:43.688Z"
   },
   {
    "duration": 138,
    "start_time": "2023-01-07T12:58:43.697Z"
   },
   {
    "duration": 7,
    "start_time": "2023-01-07T12:58:43.837Z"
   },
   {
    "duration": 6,
    "start_time": "2023-01-07T12:58:43.845Z"
   },
   {
    "duration": 3,
    "start_time": "2023-01-07T12:58:43.852Z"
   },
   {
    "duration": 368,
    "start_time": "2023-01-07T12:58:43.857Z"
   },
   {
    "duration": 276,
    "start_time": "2023-01-07T12:58:44.226Z"
   },
   {
    "duration": 5,
    "start_time": "2023-01-07T12:58:44.504Z"
   },
   {
    "duration": 6,
    "start_time": "2023-01-07T12:58:44.511Z"
   },
   {
    "duration": 6,
    "start_time": "2023-01-07T12:58:44.519Z"
   },
   {
    "duration": 11,
    "start_time": "2023-01-07T12:58:44.527Z"
   },
   {
    "duration": 12,
    "start_time": "2023-01-07T12:58:44.540Z"
   },
   {
    "duration": 14,
    "start_time": "2023-01-07T12:58:44.554Z"
   },
   {
    "duration": 34,
    "start_time": "2023-01-07T12:58:44.570Z"
   },
   {
    "duration": 7,
    "start_time": "2023-01-07T12:58:44.606Z"
   },
   {
    "duration": 22,
    "start_time": "2023-01-07T12:58:44.614Z"
   },
   {
    "duration": 12,
    "start_time": "2023-01-07T12:58:44.638Z"
   },
   {
    "duration": 27,
    "start_time": "2023-01-07T12:58:44.652Z"
   },
   {
    "duration": 28,
    "start_time": "2023-01-07T12:58:44.681Z"
   },
   {
    "duration": 13,
    "start_time": "2023-01-07T12:58:44.711Z"
   },
   {
    "duration": 272,
    "start_time": "2023-01-07T12:58:44.726Z"
   },
   {
    "duration": 757,
    "start_time": "2023-01-07T12:58:45.000Z"
   },
   {
    "duration": 7,
    "start_time": "2023-01-07T12:58:45.758Z"
   },
   {
    "duration": 9,
    "start_time": "2023-01-07T12:58:45.766Z"
   },
   {
    "duration": 322,
    "start_time": "2023-01-07T12:58:45.776Z"
   },
   {
    "duration": 761,
    "start_time": "2023-01-07T12:58:46.100Z"
   },
   {
    "duration": 8,
    "start_time": "2023-01-07T12:58:46.862Z"
   },
   {
    "duration": 6,
    "start_time": "2023-01-07T12:58:46.871Z"
   },
   {
    "duration": 22,
    "start_time": "2023-01-07T12:58:46.879Z"
   },
   {
    "duration": 203,
    "start_time": "2023-01-07T12:58:46.902Z"
   },
   {
    "duration": 990,
    "start_time": "2023-01-07T12:58:47.107Z"
   },
   {
    "duration": 9,
    "start_time": "2023-01-07T12:58:48.099Z"
   },
   {
    "duration": 12329,
    "start_time": "2023-01-07T12:59:21.490Z"
   },
   {
    "duration": 12790,
    "start_time": "2023-01-07T13:00:34.145Z"
   },
   {
    "duration": 59,
    "start_time": "2023-01-07T13:00:49.554Z"
   },
   {
    "duration": 1260,
    "start_time": "2023-01-07T13:01:23.252Z"
   },
   {
    "duration": 67,
    "start_time": "2023-01-07T13:01:24.514Z"
   },
   {
    "duration": 26,
    "start_time": "2023-01-07T13:01:24.582Z"
   },
   {
    "duration": 17,
    "start_time": "2023-01-07T13:01:24.611Z"
   },
   {
    "duration": 48,
    "start_time": "2023-01-07T13:01:24.631Z"
   },
   {
    "duration": 19,
    "start_time": "2023-01-07T13:01:24.680Z"
   },
   {
    "duration": 204,
    "start_time": "2023-01-07T13:01:24.701Z"
   },
   {
    "duration": 7,
    "start_time": "2023-01-07T13:01:24.906Z"
   },
   {
    "duration": 5,
    "start_time": "2023-01-07T13:01:24.914Z"
   },
   {
    "duration": 4,
    "start_time": "2023-01-07T13:01:24.921Z"
   },
   {
    "duration": 313,
    "start_time": "2023-01-07T13:01:24.926Z"
   },
   {
    "duration": 292,
    "start_time": "2023-01-07T13:01:25.241Z"
   },
   {
    "duration": 4,
    "start_time": "2023-01-07T13:01:25.535Z"
   },
   {
    "duration": 9,
    "start_time": "2023-01-07T13:01:25.540Z"
   },
   {
    "duration": 7,
    "start_time": "2023-01-07T13:01:25.550Z"
   },
   {
    "duration": 12,
    "start_time": "2023-01-07T13:01:25.558Z"
   },
   {
    "duration": 10,
    "start_time": "2023-01-07T13:01:25.571Z"
   },
   {
    "duration": 5,
    "start_time": "2023-01-07T13:01:25.598Z"
   },
   {
    "duration": 15,
    "start_time": "2023-01-07T13:01:25.605Z"
   },
   {
    "duration": 6,
    "start_time": "2023-01-07T13:01:25.622Z"
   },
   {
    "duration": 98,
    "start_time": "2023-01-07T13:01:25.630Z"
   },
   {
    "duration": 14,
    "start_time": "2023-01-07T13:01:25.730Z"
   },
   {
    "duration": 21,
    "start_time": "2023-01-07T13:01:25.746Z"
   },
   {
    "duration": 9,
    "start_time": "2023-01-07T13:01:25.769Z"
   },
   {
    "duration": 23,
    "start_time": "2023-01-07T13:01:25.779Z"
   },
   {
    "duration": 195,
    "start_time": "2023-01-07T13:01:25.805Z"
   },
   {
    "duration": 778,
    "start_time": "2023-01-07T13:01:26.002Z"
   },
   {
    "duration": 7,
    "start_time": "2023-01-07T13:01:26.783Z"
   },
   {
    "duration": 5,
    "start_time": "2023-01-07T13:01:26.796Z"
   },
   {
    "duration": 301,
    "start_time": "2023-01-07T13:01:26.803Z"
   },
   {
    "duration": 753,
    "start_time": "2023-01-07T13:01:27.106Z"
   },
   {
    "duration": 8,
    "start_time": "2023-01-07T13:01:27.861Z"
   },
   {
    "duration": 6,
    "start_time": "2023-01-07T13:01:27.870Z"
   },
   {
    "duration": 20,
    "start_time": "2023-01-07T13:01:27.878Z"
   },
   {
    "duration": 400,
    "start_time": "2023-01-07T13:01:27.899Z"
   },
   {
    "duration": 1008,
    "start_time": "2023-01-07T13:01:28.301Z"
   },
   {
    "duration": 10,
    "start_time": "2023-01-07T13:01:29.311Z"
   },
   {
    "duration": 11956,
    "start_time": "2023-01-07T13:01:29.322Z"
   },
   {
    "duration": 17,
    "start_time": "2023-01-07T13:01:41.280Z"
   },
   {
    "duration": 884,
    "start_time": "2023-01-07T13:01:41.299Z"
   },
   {
    "duration": 86,
    "start_time": "2023-01-07T13:01:42.184Z"
   },
   {
    "duration": 1711,
    "start_time": "2023-01-09T08:26:05.507Z"
   },
   {
    "duration": 69,
    "start_time": "2023-01-09T08:26:07.222Z"
   },
   {
    "duration": 30,
    "start_time": "2023-01-09T08:26:07.294Z"
   },
   {
    "duration": 31,
    "start_time": "2023-01-09T08:26:07.327Z"
   },
   {
    "duration": 45,
    "start_time": "2023-01-09T08:26:07.361Z"
   },
   {
    "duration": 4,
    "start_time": "2023-01-09T08:26:07.408Z"
   },
   {
    "duration": 203,
    "start_time": "2023-01-09T08:26:07.414Z"
   },
   {
    "duration": 9,
    "start_time": "2023-01-09T08:26:07.619Z"
   },
   {
    "duration": 7,
    "start_time": "2023-01-09T08:26:07.706Z"
   },
   {
    "duration": 5,
    "start_time": "2023-01-09T08:26:08.403Z"
   },
   {
    "duration": 428,
    "start_time": "2023-01-09T08:26:08.567Z"
   },
   {
    "duration": 326,
    "start_time": "2023-01-09T08:26:09.832Z"
   },
   {
    "duration": 5,
    "start_time": "2023-01-09T08:26:12.759Z"
   },
   {
    "duration": 5,
    "start_time": "2023-01-09T08:26:12.928Z"
   },
   {
    "duration": 6,
    "start_time": "2023-01-09T08:26:13.112Z"
   },
   {
    "duration": 15,
    "start_time": "2023-01-09T08:26:13.558Z"
   },
   {
    "duration": 16,
    "start_time": "2023-01-09T08:26:15.125Z"
   },
   {
    "duration": 7,
    "start_time": "2023-01-09T08:26:15.316Z"
   },
   {
    "duration": 14,
    "start_time": "2023-01-09T08:26:16.263Z"
   },
   {
    "duration": 9,
    "start_time": "2023-01-09T08:26:16.439Z"
   },
   {
    "duration": 12,
    "start_time": "2023-01-09T08:26:16.727Z"
   },
   {
    "duration": 10,
    "start_time": "2023-01-09T08:26:17.506Z"
   },
   {
    "duration": 103,
    "start_time": "2023-01-09T08:26:19.309Z"
   },
   {
    "duration": 13,
    "start_time": "2023-01-09T08:26:19.943Z"
   },
   {
    "duration": 4,
    "start_time": "2023-01-09T08:26:29.831Z"
   },
   {
    "duration": 7,
    "start_time": "2023-01-09T08:27:45.902Z"
   },
   {
    "duration": 119,
    "start_time": "2023-01-09T08:27:49.738Z"
   },
   {
    "duration": 740,
    "start_time": "2023-01-09T08:27:51.621Z"
   },
   {
    "duration": 8,
    "start_time": "2023-01-09T08:27:55.068Z"
   },
   {
    "duration": 5,
    "start_time": "2023-01-09T08:29:47.018Z"
   },
   {
    "duration": 423,
    "start_time": "2023-01-09T08:29:48.534Z"
   },
   {
    "duration": 765,
    "start_time": "2023-01-09T08:29:50.070Z"
   },
   {
    "duration": 9,
    "start_time": "2023-01-09T08:29:52.719Z"
   },
   {
    "duration": 4,
    "start_time": "2023-01-09T08:32:58.367Z"
   },
   {
    "duration": 12,
    "start_time": "2023-01-09T08:32:59.367Z"
   },
   {
    "duration": 404,
    "start_time": "2023-01-09T08:33:00.052Z"
   },
   {
    "duration": 1085,
    "start_time": "2023-01-09T08:33:01.309Z"
   },
   {
    "duration": 11,
    "start_time": "2023-01-09T08:33:02.877Z"
   },
   {
    "duration": 17874,
    "start_time": "2023-01-09T08:34:50.514Z"
   },
   {
    "duration": 33171,
    "start_time": "2023-01-09T08:35:19.792Z"
   },
   {
    "duration": 56155,
    "start_time": "2023-01-09T08:36:18.816Z"
   },
   {
    "duration": 4,
    "start_time": "2023-01-09T08:37:25.855Z"
   },
   {
    "duration": 5,
    "start_time": "2023-01-09T08:39:39.845Z"
   },
   {
    "duration": 45,
    "start_time": "2023-01-09T08:41:21.168Z"
   },
   {
    "duration": 5,
    "start_time": "2023-01-09T08:41:25.412Z"
   },
   {
    "duration": 95,
    "start_time": "2023-01-09T08:42:02.472Z"
   },
   {
    "duration": 46,
    "start_time": "2023-01-09T08:42:10.953Z"
   },
   {
    "duration": 19,
    "start_time": "2023-01-09T08:43:47.677Z"
   },
   {
    "duration": 5,
    "start_time": "2023-01-09T08:44:09.854Z"
   },
   {
    "duration": 5,
    "start_time": "2023-01-09T08:44:14.813Z"
   },
   {
    "duration": 4,
    "start_time": "2023-01-09T08:44:28.671Z"
   },
   {
    "duration": 18,
    "start_time": "2023-01-09T08:44:37.406Z"
   },
   {
    "duration": 39,
    "start_time": "2023-01-09T08:44:54.280Z"
   },
   {
    "duration": 39,
    "start_time": "2023-01-09T08:45:03.200Z"
   },
   {
    "duration": 10,
    "start_time": "2023-01-09T08:45:32.309Z"
   },
   {
    "duration": 10,
    "start_time": "2023-01-09T08:45:45.310Z"
   },
   {
    "duration": 10,
    "start_time": "2023-01-09T08:45:50.713Z"
   },
   {
    "duration": 40,
    "start_time": "2023-01-09T08:46:41.235Z"
   },
   {
    "duration": 37,
    "start_time": "2023-01-09T08:46:43.835Z"
   },
   {
    "duration": 11,
    "start_time": "2023-01-09T08:47:16.621Z"
   },
   {
    "duration": 10,
    "start_time": "2023-01-09T08:49:41.547Z"
   },
   {
    "duration": 4,
    "start_time": "2023-01-09T08:49:58.234Z"
   },
   {
    "duration": 126,
    "start_time": "2023-01-09T08:50:08.808Z"
   },
   {
    "duration": 179,
    "start_time": "2023-01-09T08:50:28.020Z"
   },
   {
    "duration": 41,
    "start_time": "2023-01-09T08:50:46.140Z"
   },
   {
    "duration": 214,
    "start_time": "2023-01-09T08:51:52.070Z"
   },
   {
    "duration": 18,
    "start_time": "2023-01-09T08:54:27.082Z"
   },
   {
    "duration": 856,
    "start_time": "2023-01-09T08:54:27.669Z"
   },
   {
    "duration": 82,
    "start_time": "2023-01-09T08:54:30.781Z"
   },
   {
    "duration": 82,
    "start_time": "2023-01-09T08:54:33.029Z"
   },
   {
    "duration": 82,
    "start_time": "2023-01-09T08:56:04.729Z"
   },
   {
    "duration": 53,
    "start_time": "2023-01-09T08:56:28.119Z"
   },
   {
    "duration": 90,
    "start_time": "2023-01-09T08:56:36.812Z"
   },
   {
    "duration": 1408,
    "start_time": "2023-01-09T08:58:57.516Z"
   },
   {
    "duration": 28,
    "start_time": "2023-01-09T08:58:58.926Z"
   },
   {
    "duration": 15,
    "start_time": "2023-01-09T08:58:58.959Z"
   },
   {
    "duration": 14,
    "start_time": "2023-01-09T08:58:58.975Z"
   },
   {
    "duration": 37,
    "start_time": "2023-01-09T08:58:58.990Z"
   },
   {
    "duration": 5,
    "start_time": "2023-01-09T08:58:59.054Z"
   },
   {
    "duration": 158,
    "start_time": "2023-01-09T08:58:59.060Z"
   },
   {
    "duration": 8,
    "start_time": "2023-01-09T08:58:59.220Z"
   },
   {
    "duration": 5,
    "start_time": "2023-01-09T08:58:59.231Z"
   },
   {
    "duration": 5,
    "start_time": "2023-01-09T08:58:59.255Z"
   },
   {
    "duration": 337,
    "start_time": "2023-01-09T08:58:59.262Z"
   },
   {
    "duration": 345,
    "start_time": "2023-01-09T08:58:59.601Z"
   },
   {
    "duration": 11,
    "start_time": "2023-01-09T08:58:59.948Z"
   },
   {
    "duration": 7,
    "start_time": "2023-01-09T08:58:59.960Z"
   },
   {
    "duration": 9,
    "start_time": "2023-01-09T08:58:59.968Z"
   },
   {
    "duration": 14,
    "start_time": "2023-01-09T08:58:59.979Z"
   },
   {
    "duration": 11,
    "start_time": "2023-01-09T08:58:59.994Z"
   },
   {
    "duration": 5,
    "start_time": "2023-01-09T08:59:00.006Z"
   },
   {
    "duration": 14,
    "start_time": "2023-01-09T08:59:00.012Z"
   },
   {
    "duration": 35,
    "start_time": "2023-01-09T08:59:00.027Z"
   },
   {
    "duration": 93,
    "start_time": "2023-01-09T08:59:00.064Z"
   },
   {
    "duration": 9,
    "start_time": "2023-01-09T08:59:00.158Z"
   },
   {
    "duration": 33,
    "start_time": "2023-01-09T08:59:00.169Z"
   },
   {
    "duration": 12,
    "start_time": "2023-01-09T08:59:00.203Z"
   },
   {
    "duration": 15,
    "start_time": "2023-01-09T08:59:00.217Z"
   },
   {
    "duration": 421,
    "start_time": "2023-01-09T08:59:00.234Z"
   },
   {
    "duration": 756,
    "start_time": "2023-01-09T08:59:00.658Z"
   },
   {
    "duration": 8,
    "start_time": "2023-01-09T08:59:01.416Z"
   },
   {
    "duration": 14,
    "start_time": "2023-01-09T08:59:01.425Z"
   },
   {
    "duration": 323,
    "start_time": "2023-01-09T08:59:01.441Z"
   },
   {
    "duration": 699,
    "start_time": "2023-01-09T08:59:01.856Z"
   },
   {
    "duration": 8,
    "start_time": "2023-01-09T08:59:02.557Z"
   },
   {
    "duration": 12,
    "start_time": "2023-01-09T08:59:02.566Z"
   },
   {
    "duration": 36,
    "start_time": "2023-01-09T08:59:02.580Z"
   },
   {
    "duration": 437,
    "start_time": "2023-01-09T08:59:02.618Z"
   },
   {
    "duration": 974,
    "start_time": "2023-01-09T08:59:03.056Z"
   },
   {
    "duration": 10,
    "start_time": "2023-01-09T08:59:04.032Z"
   },
   {
    "duration": 52578,
    "start_time": "2023-01-09T08:59:04.043Z"
   },
   {
    "duration": 4,
    "start_time": "2023-01-09T08:59:56.622Z"
   },
   {
    "duration": 100,
    "start_time": "2023-01-09T08:59:56.628Z"
   },
   {
    "duration": 60,
    "start_time": "2023-01-09T08:59:56.731Z"
   },
   {
    "duration": 39,
    "start_time": "2023-01-09T08:59:56.793Z"
   },
   {
    "duration": 11,
    "start_time": "2023-01-09T08:59:56.854Z"
   },
   {
    "duration": 232,
    "start_time": "2023-01-09T08:59:56.867Z"
   },
   {
    "duration": 3,
    "start_time": "2023-01-09T08:59:57.100Z"
   },
   {
    "duration": 686,
    "start_time": "2023-01-09T08:59:57.104Z"
   },
   {
    "duration": 86,
    "start_time": "2023-01-09T08:59:57.791Z"
   },
   {
    "duration": 85,
    "start_time": "2023-01-09T08:59:57.878Z"
   },
   {
    "duration": 15,
    "start_time": "2023-01-09T09:05:14.850Z"
   },
   {
    "duration": 936,
    "start_time": "2023-01-09T09:05:16.258Z"
   },
   {
    "duration": 15,
    "start_time": "2023-01-09T09:07:09.815Z"
   },
   {
    "duration": 1081,
    "start_time": "2023-01-09T09:07:12.479Z"
   },
   {
    "duration": 105,
    "start_time": "2023-01-09T09:07:14.615Z"
   },
   {
    "duration": 17,
    "start_time": "2023-01-09T09:07:18.822Z"
   },
   {
    "duration": 1274,
    "start_time": "2023-01-09T09:07:19.663Z"
   },
   {
    "duration": 102,
    "start_time": "2023-01-09T09:07:20.939Z"
   },
   {
    "duration": 1487,
    "start_time": "2023-01-09T09:07:27.272Z"
   },
   {
    "duration": 31,
    "start_time": "2023-01-09T09:07:28.761Z"
   },
   {
    "duration": 18,
    "start_time": "2023-01-09T09:07:28.793Z"
   },
   {
    "duration": 14,
    "start_time": "2023-01-09T09:07:28.814Z"
   },
   {
    "duration": 50,
    "start_time": "2023-01-09T09:07:28.830Z"
   },
   {
    "duration": 4,
    "start_time": "2023-01-09T09:07:28.882Z"
   },
   {
    "duration": 194,
    "start_time": "2023-01-09T09:07:28.888Z"
   },
   {
    "duration": 7,
    "start_time": "2023-01-09T09:07:29.084Z"
   },
   {
    "duration": 11,
    "start_time": "2023-01-09T09:07:29.093Z"
   },
   {
    "duration": 6,
    "start_time": "2023-01-09T09:07:29.107Z"
   },
   {
    "duration": 386,
    "start_time": "2023-01-09T09:07:29.115Z"
   },
   {
    "duration": 355,
    "start_time": "2023-01-09T09:07:29.503Z"
   },
   {
    "duration": 5,
    "start_time": "2023-01-09T09:07:29.859Z"
   },
   {
    "duration": 8,
    "start_time": "2023-01-09T09:07:29.866Z"
   },
   {
    "duration": 8,
    "start_time": "2023-01-09T09:07:29.875Z"
   },
   {
    "duration": 16,
    "start_time": "2023-01-09T09:07:29.884Z"
   },
   {
    "duration": 12,
    "start_time": "2023-01-09T09:07:29.902Z"
   },
   {
    "duration": 5,
    "start_time": "2023-01-09T09:07:29.915Z"
   },
   {
    "duration": 35,
    "start_time": "2023-01-09T09:07:29.922Z"
   },
   {
    "duration": 7,
    "start_time": "2023-01-09T09:07:29.959Z"
   },
   {
    "duration": 99,
    "start_time": "2023-01-09T09:07:29.969Z"
   },
   {
    "duration": 18,
    "start_time": "2023-01-09T09:07:30.070Z"
   },
   {
    "duration": 35,
    "start_time": "2023-01-09T09:07:30.090Z"
   },
   {
    "duration": 12,
    "start_time": "2023-01-09T09:07:30.127Z"
   },
   {
    "duration": 15,
    "start_time": "2023-01-09T09:07:30.140Z"
   },
   {
    "duration": 399,
    "start_time": "2023-01-09T09:07:30.157Z"
   },
   {
    "duration": 819,
    "start_time": "2023-01-09T09:07:30.558Z"
   },
   {
    "duration": 9,
    "start_time": "2023-01-09T09:07:31.381Z"
   },
   {
    "duration": 43,
    "start_time": "2023-01-09T09:07:31.392Z"
   },
   {
    "duration": 323,
    "start_time": "2023-01-09T09:07:31.437Z"
   },
   {
    "duration": 884,
    "start_time": "2023-01-09T09:07:31.762Z"
   },
   {
    "duration": 10,
    "start_time": "2023-01-09T09:07:32.648Z"
   },
   {
    "duration": 13,
    "start_time": "2023-01-09T09:07:32.660Z"
   },
   {
    "duration": 27,
    "start_time": "2023-01-09T09:07:32.675Z"
   },
   {
    "duration": 359,
    "start_time": "2023-01-09T09:07:32.703Z"
   },
   {
    "duration": 1224,
    "start_time": "2023-01-09T09:07:33.065Z"
   },
   {
    "duration": 10,
    "start_time": "2023-01-09T09:07:34.291Z"
   },
   {
    "duration": 56268,
    "start_time": "2023-01-09T09:07:34.302Z"
   },
   {
    "duration": 4,
    "start_time": "2023-01-09T09:08:30.572Z"
   },
   {
    "duration": 105,
    "start_time": "2023-01-09T09:08:30.578Z"
   },
   {
    "duration": 42,
    "start_time": "2023-01-09T09:08:30.685Z"
   },
   {
    "duration": 57,
    "start_time": "2023-01-09T09:08:30.729Z"
   },
   {
    "duration": 11,
    "start_time": "2023-01-09T09:08:30.788Z"
   },
   {
    "duration": 247,
    "start_time": "2023-01-09T09:08:30.801Z"
   },
   {
    "duration": 14,
    "start_time": "2023-01-09T09:08:31.054Z"
   },
   {
    "duration": 929,
    "start_time": "2023-01-09T09:08:31.070Z"
   },
   {
    "duration": 97,
    "start_time": "2023-01-09T09:08:32.001Z"
   },
   {
    "duration": 89,
    "start_time": "2023-01-09T09:08:32.099Z"
   },
   {
    "duration": 52,
    "start_time": "2023-01-09T09:20:58.830Z"
   },
   {
    "duration": 5,
    "start_time": "2023-01-09T09:21:09.519Z"
   },
   {
    "duration": 3,
    "start_time": "2023-01-09T09:24:07.454Z"
   },
   {
    "duration": 8,
    "start_time": "2023-01-09T09:24:23.486Z"
   },
   {
    "duration": 8,
    "start_time": "2023-01-09T09:24:47.213Z"
   },
   {
    "duration": 9,
    "start_time": "2023-01-09T09:25:56.026Z"
   },
   {
    "duration": 2,
    "start_time": "2023-01-09T09:26:31.683Z"
   },
   {
    "duration": 119,
    "start_time": "2023-01-09T09:26:31.915Z"
   },
   {
    "duration": 4,
    "start_time": "2023-01-09T09:26:43.613Z"
   },
   {
    "duration": 10,
    "start_time": "2023-01-09T09:26:44.227Z"
   },
   {
    "duration": 63,
    "start_time": "2023-01-09T09:27:49.717Z"
   },
   {
    "duration": 107,
    "start_time": "2023-01-09T09:27:54.551Z"
   },
   {
    "duration": 111,
    "start_time": "2023-01-09T09:33:53.268Z"
   },
   {
    "duration": 98,
    "start_time": "2023-01-09T09:34:11.171Z"
   },
   {
    "duration": 63,
    "start_time": "2023-01-09T09:37:50.140Z"
   },
   {
    "duration": 988,
    "start_time": "2023-01-09T09:40:24.707Z"
   },
   {
    "duration": 87,
    "start_time": "2023-01-09T09:40:33.819Z"
   },
   {
    "duration": 1140,
    "start_time": "2023-01-09T09:40:37.830Z"
   },
   {
    "duration": 108,
    "start_time": "2023-01-09T09:40:40.127Z"
   },
   {
    "duration": 532,
    "start_time": "2023-01-09T09:40:43.250Z"
   },
   {
    "duration": 70,
    "start_time": "2023-01-09T09:40:44.650Z"
   },
   {
    "duration": 110,
    "start_time": "2023-01-09T09:40:53.031Z"
   },
   {
    "duration": 22,
    "start_time": "2023-01-09T09:40:53.646Z"
   },
   {
    "duration": 1953,
    "start_time": "2023-01-09T09:40:58.398Z"
   },
   {
    "duration": 189,
    "start_time": "2023-01-09T09:41:00.354Z"
   },
   {
    "duration": 2987,
    "start_time": "2023-01-09T09:41:06.617Z"
   },
   {
    "duration": 253,
    "start_time": "2023-01-09T09:41:10.510Z"
   },
   {
    "duration": 901,
    "start_time": "2023-01-09T09:41:15.911Z"
   },
   {
    "duration": 90,
    "start_time": "2023-01-09T09:41:17.942Z"
   },
   {
    "duration": 1478,
    "start_time": "2023-01-09T09:41:22.717Z"
   },
   {
    "duration": 131,
    "start_time": "2023-01-09T09:41:25.381Z"
   },
   {
    "duration": 1048,
    "start_time": "2023-01-09T09:41:30.628Z"
   },
   {
    "duration": 98,
    "start_time": "2023-01-09T09:41:33.022Z"
   },
   {
    "duration": 863,
    "start_time": "2023-01-09T09:41:35.980Z"
   },
   {
    "duration": 215,
    "start_time": "2023-01-09T09:43:35.513Z"
   },
   {
    "duration": 1374,
    "start_time": "2023-01-09T09:44:19.013Z"
   },
   {
    "duration": 134,
    "start_time": "2023-01-09T09:44:20.389Z"
   },
   {
    "duration": 864,
    "start_time": "2023-01-09T09:46:32.255Z"
   },
   {
    "duration": 86,
    "start_time": "2023-01-09T09:46:33.120Z"
   },
   {
    "duration": 102,
    "start_time": "2023-01-09T09:54:34.033Z"
   },
   {
    "duration": 101,
    "start_time": "2023-01-09T09:54:42.833Z"
   },
   {
    "duration": 1456,
    "start_time": "2023-01-09T09:58:04.814Z"
   },
   {
    "duration": 30,
    "start_time": "2023-01-09T09:58:06.272Z"
   },
   {
    "duration": 17,
    "start_time": "2023-01-09T09:58:06.303Z"
   },
   {
    "duration": 14,
    "start_time": "2023-01-09T09:58:06.321Z"
   },
   {
    "duration": 61,
    "start_time": "2023-01-09T09:58:06.336Z"
   },
   {
    "duration": 5,
    "start_time": "2023-01-09T09:58:06.399Z"
   },
   {
    "duration": 170,
    "start_time": "2023-01-09T09:58:06.406Z"
   },
   {
    "duration": 7,
    "start_time": "2023-01-09T09:58:06.578Z"
   },
   {
    "duration": 8,
    "start_time": "2023-01-09T09:58:06.587Z"
   },
   {
    "duration": 6,
    "start_time": "2023-01-09T09:58:06.596Z"
   },
   {
    "duration": 396,
    "start_time": "2023-01-09T09:58:06.604Z"
   },
   {
    "duration": 328,
    "start_time": "2023-01-09T09:58:07.002Z"
   },
   {
    "duration": 6,
    "start_time": "2023-01-09T09:58:07.331Z"
   },
   {
    "duration": 18,
    "start_time": "2023-01-09T09:58:07.340Z"
   },
   {
    "duration": 11,
    "start_time": "2023-01-09T09:58:07.359Z"
   },
   {
    "duration": 19,
    "start_time": "2023-01-09T09:58:07.372Z"
   },
   {
    "duration": 92,
    "start_time": "2023-01-09T09:58:07.392Z"
   },
   {
    "duration": 5,
    "start_time": "2023-01-09T09:58:07.485Z"
   },
   {
    "duration": 15,
    "start_time": "2023-01-09T09:58:07.491Z"
   },
   {
    "duration": 7,
    "start_time": "2023-01-09T09:58:07.508Z"
   },
   {
    "duration": 12,
    "start_time": "2023-01-09T09:58:07.517Z"
   },
   {
    "duration": 33,
    "start_time": "2023-01-09T09:58:07.530Z"
   },
   {
    "duration": 26,
    "start_time": "2023-01-09T09:58:07.564Z"
   },
   {
    "duration": 12,
    "start_time": "2023-01-09T09:58:07.592Z"
   },
   {
    "duration": 11,
    "start_time": "2023-01-09T09:58:07.607Z"
   },
   {
    "duration": 341,
    "start_time": "2023-01-09T09:58:07.620Z"
   },
   {
    "duration": 850,
    "start_time": "2023-01-09T09:58:07.963Z"
   },
   {
    "duration": 10,
    "start_time": "2023-01-09T09:58:08.815Z"
   },
   {
    "duration": 12,
    "start_time": "2023-01-09T09:58:08.826Z"
   },
   {
    "duration": 416,
    "start_time": "2023-01-09T09:58:08.840Z"
   },
   {
    "duration": 715,
    "start_time": "2023-01-09T09:58:09.258Z"
   },
   {
    "duration": 9,
    "start_time": "2023-01-09T09:58:09.975Z"
   },
   {
    "duration": 11,
    "start_time": "2023-01-09T09:58:09.985Z"
   },
   {
    "duration": 20,
    "start_time": "2023-01-09T09:58:09.997Z"
   },
   {
    "duration": 946,
    "start_time": "2023-01-09T09:58:10.018Z"
   },
   {
    "duration": 985,
    "start_time": "2023-01-09T09:58:10.967Z"
   },
   {
    "duration": 10,
    "start_time": "2023-01-09T09:58:11.954Z"
   },
   {
    "duration": 53071,
    "start_time": "2023-01-09T09:58:11.966Z"
   },
   {
    "duration": 5,
    "start_time": "2023-01-09T09:59:05.039Z"
   },
   {
    "duration": 103,
    "start_time": "2023-01-09T09:59:05.054Z"
   },
   {
    "duration": 45,
    "start_time": "2023-01-09T09:59:05.161Z"
   },
   {
    "duration": 52,
    "start_time": "2023-01-09T09:59:05.208Z"
   },
   {
    "duration": 10,
    "start_time": "2023-01-09T09:59:05.262Z"
   },
   {
    "duration": 228,
    "start_time": "2023-01-09T09:59:05.273Z"
   },
   {
    "duration": 13,
    "start_time": "2023-01-09T09:59:05.502Z"
   },
   {
    "duration": 853,
    "start_time": "2023-01-09T09:59:05.517Z"
   },
   {
    "duration": 95,
    "start_time": "2023-01-09T09:59:06.372Z"
   },
   {
    "duration": 103,
    "start_time": "2023-01-09T09:59:06.468Z"
   },
   {
    "duration": 80,
    "start_time": "2023-01-11T11:41:44.894Z"
   },
   {
    "duration": 733,
    "start_time": "2023-01-11T11:55:44.212Z"
   },
   {
    "duration": 178,
    "start_time": "2023-01-11T11:55:46.070Z"
   },
   {
    "duration": 18,
    "start_time": "2023-01-11T11:55:46.503Z"
   },
   {
    "duration": 14,
    "start_time": "2023-01-11T11:55:46.714Z"
   },
   {
    "duration": 46,
    "start_time": "2023-01-11T11:55:46.934Z"
   },
   {
    "duration": 5,
    "start_time": "2023-01-11T11:55:47.538Z"
   },
   {
    "duration": 320,
    "start_time": "2023-01-11T11:55:48.137Z"
   },
   {
    "duration": 20,
    "start_time": "2023-01-11T11:55:48.458Z"
   },
   {
    "duration": 6,
    "start_time": "2023-01-11T11:55:48.480Z"
   },
   {
    "duration": 5,
    "start_time": "2023-01-11T11:55:50.406Z"
   },
   {
    "duration": 506,
    "start_time": "2023-01-11T11:55:50.967Z"
   },
   {
    "duration": 359,
    "start_time": "2023-01-11T11:55:51.836Z"
   },
   {
    "duration": 5,
    "start_time": "2023-01-11T11:55:58.542Z"
   },
   {
    "duration": 6,
    "start_time": "2023-01-11T11:55:58.876Z"
   },
   {
    "duration": 6,
    "start_time": "2023-01-11T11:55:59.437Z"
   },
   {
    "duration": 4,
    "start_time": "2023-01-11T11:56:12.703Z"
   },
   {
    "duration": 45,
    "start_time": "2023-01-11T11:56:14.208Z"
   },
   {
    "duration": 15,
    "start_time": "2023-01-11T11:56:14.579Z"
   },
   {
    "duration": 13,
    "start_time": "2023-01-11T11:56:14.743Z"
   },
   {
    "duration": 51,
    "start_time": "2023-01-11T11:56:14.935Z"
   },
   {
    "duration": 5,
    "start_time": "2023-01-11T11:56:15.951Z"
   },
   {
    "duration": 153,
    "start_time": "2023-01-11T11:56:17.969Z"
   },
   {
    "duration": 8,
    "start_time": "2023-01-11T11:56:18.176Z"
   },
   {
    "duration": 7,
    "start_time": "2023-01-11T11:56:20.271Z"
   },
   {
    "duration": 5,
    "start_time": "2023-01-11T11:56:21.569Z"
   },
   {
    "duration": 423,
    "start_time": "2023-01-11T11:56:22.739Z"
   },
   {
    "duration": 384,
    "start_time": "2023-01-11T11:56:24.431Z"
   },
   {
    "duration": 6,
    "start_time": "2023-01-11T11:56:27.304Z"
   },
   {
    "duration": 6,
    "start_time": "2023-01-11T11:56:27.855Z"
   },
   {
    "duration": 104,
    "start_time": "2023-01-11T11:56:28.247Z"
   },
   {
    "duration": 2,
    "start_time": "2023-01-11T11:56:57.437Z"
   },
   {
    "duration": 14,
    "start_time": "2023-01-11T11:57:28.170Z"
   },
   {
    "duration": 7,
    "start_time": "2023-01-11T11:57:30.619Z"
   },
   {
    "duration": 10,
    "start_time": "2023-01-11T11:57:31.902Z"
   },
   {
    "duration": 7,
    "start_time": "2023-01-11T11:57:32.451Z"
   },
   {
    "duration": 12,
    "start_time": "2023-01-11T11:57:33.707Z"
   },
   {
    "duration": 12,
    "start_time": "2023-01-11T11:58:05.939Z"
   },
   {
    "duration": 3,
    "start_time": "2023-01-11T11:58:36.075Z"
   },
   {
    "duration": 5,
    "start_time": "2023-01-11T11:58:58.434Z"
   },
   {
    "duration": 46,
    "start_time": "2023-01-11T11:58:58.640Z"
   },
   {
    "duration": 22,
    "start_time": "2023-01-11T11:58:58.989Z"
   },
   {
    "duration": 14,
    "start_time": "2023-01-11T11:58:59.170Z"
   },
   {
    "duration": 57,
    "start_time": "2023-01-11T11:58:59.359Z"
   },
   {
    "duration": 5,
    "start_time": "2023-01-11T11:59:00.656Z"
   },
   {
    "duration": 180,
    "start_time": "2023-01-11T11:59:01.150Z"
   },
   {
    "duration": 10,
    "start_time": "2023-01-11T11:59:01.349Z"
   },
   {
    "duration": 7,
    "start_time": "2023-01-11T11:59:01.798Z"
   },
   {
    "duration": 6,
    "start_time": "2023-01-11T11:59:02.597Z"
   },
   {
    "duration": 366,
    "start_time": "2023-01-11T11:59:03.173Z"
   },
   {
    "duration": 387,
    "start_time": "2023-01-11T11:59:05.014Z"
   },
   {
    "duration": 6,
    "start_time": "2023-01-11T11:59:09.406Z"
   },
   {
    "duration": 7,
    "start_time": "2023-01-11T11:59:09.669Z"
   },
   {
    "duration": 5,
    "start_time": "2023-01-11T11:59:10.157Z"
   },
   {
    "duration": 3,
    "start_time": "2023-01-11T11:59:11.009Z"
   },
   {
    "duration": 17,
    "start_time": "2023-01-11T11:59:14.134Z"
   },
   {
    "duration": 6,
    "start_time": "2023-01-11T11:59:14.737Z"
   },
   {
    "duration": 13,
    "start_time": "2023-01-11T11:59:25.132Z"
   },
   {
    "duration": 7,
    "start_time": "2023-01-11T11:59:25.464Z"
   },
   {
    "duration": 13,
    "start_time": "2023-01-11T11:59:27.462Z"
   },
   {
    "duration": 10,
    "start_time": "2023-01-11T11:59:28.782Z"
   },
   {
    "duration": 118,
    "start_time": "2023-01-11T12:00:51.297Z"
   },
   {
    "duration": 5,
    "start_time": "2023-01-11T12:01:02.908Z"
   },
   {
    "duration": 11,
    "start_time": "2023-01-11T12:01:05.882Z"
   },
   {
    "duration": 7,
    "start_time": "2023-01-11T12:01:42.838Z"
   },
   {
    "duration": 5,
    "start_time": "2023-01-11T12:01:45.804Z"
   },
   {
    "duration": 15,
    "start_time": "2023-01-11T12:02:15.173Z"
   },
   {
    "duration": 15,
    "start_time": "2023-01-11T12:02:40.931Z"
   },
   {
    "duration": 25,
    "start_time": "2023-01-11T12:05:51.140Z"
   },
   {
    "duration": 17,
    "start_time": "2023-01-11T12:05:57.540Z"
   },
   {
    "duration": 6,
    "start_time": "2023-01-11T12:07:14.912Z"
   },
   {
    "duration": 5,
    "start_time": "2023-01-11T12:07:20.705Z"
   },
   {
    "duration": 5,
    "start_time": "2023-01-11T12:07:32.357Z"
   },
   {
    "duration": 8,
    "start_time": "2023-01-11T12:08:03.793Z"
   },
   {
    "duration": 4,
    "start_time": "2023-01-11T12:08:29.254Z"
   },
   {
    "duration": 22,
    "start_time": "2023-01-11T12:08:57.940Z"
   },
   {
    "duration": 3,
    "start_time": "2023-01-11T12:09:14.644Z"
   },
   {
    "duration": 13,
    "start_time": "2023-01-11T12:09:18.732Z"
   },
   {
    "duration": 13,
    "start_time": "2023-01-11T12:09:33.832Z"
   },
   {
    "duration": 6,
    "start_time": "2023-01-11T12:09:37.253Z"
   },
   {
    "duration": 12,
    "start_time": "2023-01-11T12:09:38.174Z"
   },
   {
    "duration": 22,
    "start_time": "2023-01-11T12:10:16.627Z"
   },
   {
    "duration": 9170,
    "start_time": "2023-01-11T12:10:48.679Z"
   },
   {
    "duration": 2259,
    "start_time": "2023-01-11T12:11:08.544Z"
   },
   {
    "duration": 1252,
    "start_time": "2023-01-11T12:11:10.857Z"
   },
   {
    "duration": 41,
    "start_time": "2023-01-11T12:11:13.497Z"
   },
   {
    "duration": 23,
    "start_time": "2023-01-11T12:11:13.892Z"
   },
   {
    "duration": 19,
    "start_time": "2023-01-11T12:11:14.066Z"
   },
   {
    "duration": 54,
    "start_time": "2023-01-11T12:11:14.217Z"
   },
   {
    "duration": 5,
    "start_time": "2023-01-11T12:11:15.857Z"
   },
   {
    "duration": 165,
    "start_time": "2023-01-11T12:11:16.512Z"
   },
   {
    "duration": 12,
    "start_time": "2023-01-11T12:11:17.831Z"
   },
   {
    "duration": 7,
    "start_time": "2023-01-11T12:11:18.017Z"
   },
   {
    "duration": 5,
    "start_time": "2023-01-11T12:11:20.113Z"
   },
   {
    "duration": 414,
    "start_time": "2023-01-11T12:11:25.337Z"
   },
   {
    "duration": 307,
    "start_time": "2023-01-11T12:11:27.514Z"
   },
   {
    "duration": 5,
    "start_time": "2023-01-11T12:11:29.724Z"
   },
   {
    "duration": 5,
    "start_time": "2023-01-11T12:11:30.057Z"
   },
   {
    "duration": 6,
    "start_time": "2023-01-11T12:11:30.491Z"
   },
   {
    "duration": 3,
    "start_time": "2023-01-11T12:11:32.210Z"
   },
   {
    "duration": 15,
    "start_time": "2023-01-11T12:11:34.314Z"
   },
   {
    "duration": 7,
    "start_time": "2023-01-11T12:11:35.377Z"
   },
   {
    "duration": 12,
    "start_time": "2023-01-11T12:11:35.873Z"
   },
   {
    "duration": 9,
    "start_time": "2023-01-11T12:11:36.209Z"
   },
   {
    "duration": 13,
    "start_time": "2023-01-11T12:11:36.658Z"
   },
   {
    "duration": 8,
    "start_time": "2023-01-11T12:11:38.732Z"
   },
   {
    "duration": 16,
    "start_time": "2023-01-11T12:11:43.736Z"
   },
   {
    "duration": 36,
    "start_time": "2023-01-11T12:11:49.107Z"
   },
   {
    "duration": 5,
    "start_time": "2023-01-11T12:11:50.539Z"
   },
   {
    "duration": 10,
    "start_time": "2023-01-11T12:11:54.443Z"
   },
   {
    "duration": 3,
    "start_time": "2023-01-11T12:12:45.645Z"
   },
   {
    "duration": 4,
    "start_time": "2023-01-11T12:12:48.044Z"
   },
   {
    "duration": 4,
    "start_time": "2023-01-11T12:12:52.037Z"
   },
   {
    "duration": 22,
    "start_time": "2023-01-11T12:15:39.556Z"
   },
   {
    "duration": 15,
    "start_time": "2023-01-11T12:15:47.619Z"
   },
   {
    "duration": 22,
    "start_time": "2023-01-11T12:16:17.220Z"
   },
   {
    "duration": 14,
    "start_time": "2023-01-11T12:16:29.625Z"
   },
   {
    "duration": 1246,
    "start_time": "2023-01-11T12:21:27.271Z"
   },
   {
    "duration": 5,
    "start_time": "2023-01-11T12:21:41.376Z"
   },
   {
    "duration": 40,
    "start_time": "2023-01-11T12:21:41.696Z"
   },
   {
    "duration": 14,
    "start_time": "2023-01-11T12:21:42.046Z"
   },
   {
    "duration": 15,
    "start_time": "2023-01-11T12:21:42.192Z"
   },
   {
    "duration": 45,
    "start_time": "2023-01-11T12:21:42.343Z"
   },
   {
    "duration": 4,
    "start_time": "2023-01-11T12:21:42.776Z"
   },
   {
    "duration": 138,
    "start_time": "2023-01-11T12:21:43.199Z"
   },
   {
    "duration": 8,
    "start_time": "2023-01-11T12:21:43.343Z"
   },
   {
    "duration": 5,
    "start_time": "2023-01-11T12:21:43.488Z"
   },
   {
    "duration": 6,
    "start_time": "2023-01-11T12:21:43.816Z"
   },
   {
    "duration": 411,
    "start_time": "2023-01-11T12:21:44.136Z"
   },
   {
    "duration": 336,
    "start_time": "2023-01-11T12:21:44.549Z"
   },
   {
    "duration": 6,
    "start_time": "2023-01-11T12:21:44.928Z"
   },
   {
    "duration": 4,
    "start_time": "2023-01-11T12:21:45.104Z"
   },
   {
    "duration": 5,
    "start_time": "2023-01-11T12:21:45.288Z"
   },
   {
    "duration": 3,
    "start_time": "2023-01-11T12:21:46.575Z"
   },
   {
    "duration": 13,
    "start_time": "2023-01-11T12:21:47.280Z"
   },
   {
    "duration": 8,
    "start_time": "2023-01-11T12:21:48.543Z"
   },
   {
    "duration": 9,
    "start_time": "2023-01-11T12:21:49.393Z"
   },
   {
    "duration": 7,
    "start_time": "2023-01-11T12:21:49.744Z"
   },
   {
    "duration": 11,
    "start_time": "2023-01-11T12:21:50.760Z"
   },
   {
    "duration": 5,
    "start_time": "2023-01-11T12:21:51.433Z"
   },
   {
    "duration": 11,
    "start_time": "2023-01-11T12:21:51.737Z"
   },
   {
    "duration": 22,
    "start_time": "2023-01-11T12:21:52.376Z"
   },
   {
    "duration": 4,
    "start_time": "2023-01-11T12:21:53.280Z"
   },
   {
    "duration": 28,
    "start_time": "2023-01-11T12:21:54.377Z"
   },
   {
    "duration": 14,
    "start_time": "2023-01-11T12:21:55.305Z"
   },
   {
    "duration": 14,
    "start_time": "2023-01-11T12:22:01.832Z"
   },
   {
    "duration": 3,
    "start_time": "2023-01-11T12:23:08.835Z"
   },
   {
    "duration": 3,
    "start_time": "2023-01-11T12:24:06.862Z"
   },
   {
    "duration": 5,
    "start_time": "2023-01-11T12:24:21.294Z"
   },
   {
    "duration": 10,
    "start_time": "2023-01-11T12:24:59.823Z"
   },
   {
    "duration": 7,
    "start_time": "2023-01-11T12:25:03.087Z"
   },
   {
    "duration": 13,
    "start_time": "2023-01-11T12:25:04.823Z"
   },
   {
    "duration": 17,
    "start_time": "2023-01-11T12:25:10.439Z"
   },
   {
    "duration": 14,
    "start_time": "2023-01-11T12:25:32.552Z"
   },
   {
    "duration": 128,
    "start_time": "2023-01-11T12:25:34.152Z"
   },
   {
    "duration": 4,
    "start_time": "2023-01-11T12:26:11.914Z"
   },
   {
    "duration": 12,
    "start_time": "2023-01-11T12:27:47.781Z"
   },
   {
    "duration": 11,
    "start_time": "2023-01-11T12:27:53.429Z"
   },
   {
    "duration": 11,
    "start_time": "2023-01-11T12:28:12.271Z"
   },
   {
    "duration": 10,
    "start_time": "2023-01-11T12:28:21.783Z"
   },
   {
    "duration": 15,
    "start_time": "2023-01-11T12:29:23.689Z"
   },
   {
    "duration": 18,
    "start_time": "2023-01-11T12:55:43.459Z"
   },
   {
    "duration": 204,
    "start_time": "2023-01-11T12:55:44.675Z"
   },
   {
    "duration": 817,
    "start_time": "2023-01-11T12:55:46.317Z"
   },
   {
    "duration": 4,
    "start_time": "2023-01-11T13:01:02.055Z"
   },
   {
    "duration": 41,
    "start_time": "2023-01-11T13:01:03.311Z"
   },
   {
    "duration": 13,
    "start_time": "2023-01-11T13:01:03.613Z"
   },
   {
    "duration": 15,
    "start_time": "2023-01-11T13:01:03.759Z"
   },
   {
    "duration": 47,
    "start_time": "2023-01-11T13:01:03.895Z"
   },
   {
    "duration": 5,
    "start_time": "2023-01-11T13:01:04.327Z"
   },
   {
    "duration": 160,
    "start_time": "2023-01-11T13:01:04.767Z"
   },
   {
    "duration": 10,
    "start_time": "2023-01-11T13:01:04.930Z"
   },
   {
    "duration": 5,
    "start_time": "2023-01-11T13:01:05.063Z"
   },
   {
    "duration": 4,
    "start_time": "2023-01-11T13:01:05.344Z"
   },
   {
    "duration": 368,
    "start_time": "2023-01-11T13:01:05.647Z"
   },
   {
    "duration": 304,
    "start_time": "2023-01-11T13:01:06.017Z"
   },
   {
    "duration": 5,
    "start_time": "2023-01-11T13:01:07.639Z"
   },
   {
    "duration": 6,
    "start_time": "2023-01-11T13:01:07.864Z"
   },
   {
    "duration": 4,
    "start_time": "2023-01-11T13:01:08.055Z"
   },
   {
    "duration": 2,
    "start_time": "2023-01-11T13:01:09.375Z"
   },
   {
    "duration": 12,
    "start_time": "2023-01-11T13:01:11.167Z"
   },
   {
    "duration": 6,
    "start_time": "2023-01-11T13:01:11.518Z"
   },
   {
    "duration": 8,
    "start_time": "2023-01-11T13:01:13.271Z"
   },
   {
    "duration": 6,
    "start_time": "2023-01-11T13:01:13.608Z"
   },
   {
    "duration": 12,
    "start_time": "2023-01-11T13:01:13.952Z"
   },
   {
    "duration": 6,
    "start_time": "2023-01-11T13:01:15.479Z"
   },
   {
    "duration": 11,
    "start_time": "2023-01-11T13:01:18.248Z"
   },
   {
    "duration": 27,
    "start_time": "2023-01-11T13:01:19.135Z"
   },
   {
    "duration": 6,
    "start_time": "2023-01-11T13:01:19.311Z"
   },
   {
    "duration": 31,
    "start_time": "2023-01-11T13:01:19.496Z"
   },
   {
    "duration": 13,
    "start_time": "2023-01-11T13:01:20.888Z"
   },
   {
    "duration": 9,
    "start_time": "2023-01-11T13:01:22.952Z"
   },
   {
    "duration": 16,
    "start_time": "2023-01-11T13:01:25.536Z"
   },
   {
    "duration": 113,
    "start_time": "2023-01-11T13:01:35.169Z"
   },
   {
    "duration": 95,
    "start_time": "2023-01-11T13:02:00.491Z"
   },
   {
    "duration": 3,
    "start_time": "2023-01-11T13:07:50.166Z"
   },
   {
    "duration": 4,
    "start_time": "2023-01-11T13:07:54.320Z"
   },
   {
    "duration": 11,
    "start_time": "2023-01-11T13:08:54.897Z"
   },
   {
    "duration": 3173,
    "start_time": "2023-01-11T13:09:00.208Z"
   },
   {
    "duration": 2370,
    "start_time": "2023-01-11T13:09:14.513Z"
   },
   {
    "duration": 18,
    "start_time": "2023-01-11T13:10:17.467Z"
   },
   {
    "duration": 13,
    "start_time": "2023-01-11T13:13:31.411Z"
   },
   {
    "duration": 20,
    "start_time": "2023-01-11T13:13:50.236Z"
   },
   {
    "duration": 12,
    "start_time": "2023-01-11T13:14:01.933Z"
   },
   {
    "duration": 5,
    "start_time": "2023-01-11T13:14:05.532Z"
   },
   {
    "duration": 5,
    "start_time": "2023-01-11T13:14:09.796Z"
   },
   {
    "duration": 824,
    "start_time": "2023-01-11T13:14:13.516Z"
   },
   {
    "duration": 7,
    "start_time": "2023-01-11T13:14:18.685Z"
   },
   {
    "duration": 164,
    "start_time": "2023-01-11T13:14:22.782Z"
   },
   {
    "duration": 3,
    "start_time": "2023-01-11T13:17:36.748Z"
   },
   {
    "duration": 7,
    "start_time": "2023-01-11T13:18:16.958Z"
   },
   {
    "duration": 25,
    "start_time": "2023-01-11T13:18:22.933Z"
   },
   {
    "duration": 4,
    "start_time": "2023-01-11T13:18:59.166Z"
   },
   {
    "duration": 40,
    "start_time": "2023-01-11T13:18:59.397Z"
   },
   {
    "duration": 13,
    "start_time": "2023-01-11T13:18:59.779Z"
   },
   {
    "duration": 14,
    "start_time": "2023-01-11T13:18:59.950Z"
   },
   {
    "duration": 41,
    "start_time": "2023-01-11T13:19:00.134Z"
   },
   {
    "duration": 4,
    "start_time": "2023-01-11T13:19:00.607Z"
   },
   {
    "duration": 172,
    "start_time": "2023-01-11T13:19:01.071Z"
   },
   {
    "duration": 8,
    "start_time": "2023-01-11T13:19:01.245Z"
   },
   {
    "duration": 7,
    "start_time": "2023-01-11T13:19:01.388Z"
   },
   {
    "duration": 6,
    "start_time": "2023-01-11T13:19:01.686Z"
   },
   {
    "duration": 388,
    "start_time": "2023-01-11T13:19:02.031Z"
   },
   {
    "duration": 339,
    "start_time": "2023-01-11T13:19:02.421Z"
   },
   {
    "duration": 6,
    "start_time": "2023-01-11T13:19:02.762Z"
   },
   {
    "duration": 5,
    "start_time": "2023-01-11T13:19:04.615Z"
   },
   {
    "duration": 5,
    "start_time": "2023-01-11T13:19:04.838Z"
   },
   {
    "duration": 5,
    "start_time": "2023-01-11T13:19:05.118Z"
   },
   {
    "duration": 3,
    "start_time": "2023-01-11T13:19:07.399Z"
   },
   {
    "duration": 14,
    "start_time": "2023-01-11T13:19:12.519Z"
   },
   {
    "duration": 6,
    "start_time": "2023-01-11T13:19:15.751Z"
   },
   {
    "duration": 17,
    "start_time": "2023-01-11T13:19:15.959Z"
   },
   {
    "duration": 115,
    "start_time": "2023-01-11T13:19:17.999Z"
   },
   {
    "duration": 8,
    "start_time": "2023-01-11T13:19:30.739Z"
   },
   {
    "duration": 7,
    "start_time": "2023-01-11T13:19:31.001Z"
   },
   {
    "duration": 10,
    "start_time": "2023-01-11T13:19:31.315Z"
   },
   {
    "duration": 12,
    "start_time": "2023-01-11T13:19:40.200Z"
   },
   {
    "duration": 7,
    "start_time": "2023-01-11T13:19:43.752Z"
   },
   {
    "duration": 21,
    "start_time": "2023-01-11T13:19:47.225Z"
   },
   {
    "duration": 4,
    "start_time": "2023-01-11T13:19:48.217Z"
   },
   {
    "duration": 17,
    "start_time": "2023-01-11T13:19:49.473Z"
   },
   {
    "duration": 5,
    "start_time": "2023-01-11T13:20:01.493Z"
   },
   {
    "duration": 84,
    "start_time": "2023-01-11T13:20:01.513Z"
   },
   {
    "duration": 14,
    "start_time": "2023-01-11T13:20:01.801Z"
   },
   {
    "duration": 13,
    "start_time": "2023-01-11T13:20:01.945Z"
   },
   {
    "duration": 47,
    "start_time": "2023-01-11T13:20:02.065Z"
   },
   {
    "duration": 6,
    "start_time": "2023-01-11T13:20:02.576Z"
   },
   {
    "duration": 151,
    "start_time": "2023-01-11T13:20:02.978Z"
   },
   {
    "duration": 7,
    "start_time": "2023-01-11T13:20:03.131Z"
   },
   {
    "duration": 5,
    "start_time": "2023-01-11T13:20:03.249Z"
   },
   {
    "duration": 5,
    "start_time": "2023-01-11T13:20:03.529Z"
   },
   {
    "duration": 434,
    "start_time": "2023-01-11T13:20:03.833Z"
   },
   {
    "duration": 314,
    "start_time": "2023-01-11T13:20:04.270Z"
   },
   {
    "duration": 9,
    "start_time": "2023-01-11T13:20:04.586Z"
   },
   {
    "duration": 5,
    "start_time": "2023-01-11T13:20:05.841Z"
   },
   {
    "duration": 4,
    "start_time": "2023-01-11T13:20:06.041Z"
   },
   {
    "duration": 4,
    "start_time": "2023-01-11T13:20:06.233Z"
   },
   {
    "duration": 3,
    "start_time": "2023-01-11T13:20:07.026Z"
   },
   {
    "duration": 12,
    "start_time": "2023-01-11T13:20:07.996Z"
   },
   {
    "duration": 7,
    "start_time": "2023-01-11T13:20:08.529Z"
   },
   {
    "duration": 16,
    "start_time": "2023-01-11T13:20:09.009Z"
   },
   {
    "duration": 133,
    "start_time": "2023-01-11T13:20:09.569Z"
   },
   {
    "duration": 10,
    "start_time": "2023-01-11T13:20:11.137Z"
   },
   {
    "duration": 7,
    "start_time": "2023-01-11T13:20:11.442Z"
   },
   {
    "duration": 9,
    "start_time": "2023-01-11T13:20:11.705Z"
   },
   {
    "duration": 7,
    "start_time": "2023-01-11T13:20:12.529Z"
   },
   {
    "duration": 10,
    "start_time": "2023-01-11T13:20:13.243Z"
   },
   {
    "duration": 26,
    "start_time": "2023-01-11T13:20:14.026Z"
   },
   {
    "duration": 10,
    "start_time": "2023-01-11T13:20:14.681Z"
   },
   {
    "duration": 32,
    "start_time": "2023-01-11T13:20:15.506Z"
   },
   {
    "duration": 14,
    "start_time": "2023-01-11T13:20:16.738Z"
   },
   {
    "duration": 16,
    "start_time": "2023-01-11T13:20:32.514Z"
   },
   {
    "duration": 7,
    "start_time": "2023-01-11T13:20:38.169Z"
   },
   {
    "duration": 13,
    "start_time": "2023-01-11T13:20:39.730Z"
   },
   {
    "duration": 122,
    "start_time": "2023-01-11T13:20:42.258Z"
   },
   {
    "duration": 1774,
    "start_time": "2023-01-11T13:20:46.410Z"
   },
   {
    "duration": 1391,
    "start_time": "2023-01-11T13:21:01.004Z"
   },
   {
    "duration": 781,
    "start_time": "2023-01-11T13:21:06.297Z"
   },
   {
    "duration": 14,
    "start_time": "2023-01-11T13:21:09.731Z"
   },
   {
    "duration": 2539,
    "start_time": "2023-01-11T13:21:14.740Z"
   },
   {
    "duration": 2216,
    "start_time": "2023-01-11T13:21:20.765Z"
   },
   {
    "duration": 671,
    "start_time": "2023-01-11T13:21:38.933Z"
   },
   {
    "duration": 14,
    "start_time": "2023-01-11T13:21:51.374Z"
   },
   {
    "duration": 8,
    "start_time": "2023-01-11T13:21:54.149Z"
   },
   {
    "duration": 540,
    "start_time": "2023-01-11T13:21:55.141Z"
   },
   {
    "duration": 678,
    "start_time": "2023-01-11T13:21:59.549Z"
   },
   {
    "duration": 9,
    "start_time": "2023-01-11T13:22:03.310Z"
   },
   {
    "duration": 4,
    "start_time": "2023-01-11T13:22:04.350Z"
   },
   {
    "duration": 11,
    "start_time": "2023-01-11T13:22:06.070Z"
   },
   {
    "duration": 317,
    "start_time": "2023-01-11T13:22:06.470Z"
   },
   {
    "duration": 885,
    "start_time": "2023-01-11T13:22:07.438Z"
   },
   {
    "duration": 10,
    "start_time": "2023-01-11T13:22:09.958Z"
   },
   {
    "duration": 46669,
    "start_time": "2023-01-11T13:22:21.262Z"
   },
   {
    "duration": 1359,
    "start_time": "2023-01-11T13:24:23.684Z"
   },
   {
    "duration": 42,
    "start_time": "2023-01-11T13:24:25.045Z"
   },
   {
    "duration": 17,
    "start_time": "2023-01-11T13:24:25.252Z"
   },
   {
    "duration": 13,
    "start_time": "2023-01-11T13:24:25.504Z"
   },
   {
    "duration": 50,
    "start_time": "2023-01-11T13:24:25.836Z"
   },
   {
    "duration": 4,
    "start_time": "2023-01-11T13:24:26.661Z"
   },
   {
    "duration": 161,
    "start_time": "2023-01-11T13:24:27.619Z"
   },
   {
    "duration": 8,
    "start_time": "2023-01-11T13:24:28.587Z"
   },
   {
    "duration": 6,
    "start_time": "2023-01-11T13:24:28.796Z"
   },
   {
    "duration": 5,
    "start_time": "2023-01-11T13:24:29.275Z"
   },
   {
    "duration": 366,
    "start_time": "2023-01-11T13:24:30.059Z"
   },
   {
    "duration": 328,
    "start_time": "2023-01-11T13:24:31.156Z"
   },
   {
    "duration": 6,
    "start_time": "2023-01-11T13:24:32.163Z"
   },
   {
    "duration": 5,
    "start_time": "2023-01-11T13:24:33.308Z"
   },
   {
    "duration": 5,
    "start_time": "2023-01-11T13:24:33.539Z"
   },
   {
    "duration": 6,
    "start_time": "2023-01-11T13:24:33.748Z"
   },
   {
    "duration": 3,
    "start_time": "2023-01-11T13:24:34.139Z"
   },
   {
    "duration": 11,
    "start_time": "2023-01-11T13:24:34.643Z"
   },
   {
    "duration": 5,
    "start_time": "2023-01-11T13:24:34.915Z"
   },
   {
    "duration": 17,
    "start_time": "2023-01-11T13:24:35.104Z"
   },
   {
    "duration": 121,
    "start_time": "2023-01-11T13:24:35.277Z"
   },
   {
    "duration": 8,
    "start_time": "2023-01-11T13:24:35.620Z"
   },
   {
    "duration": 7,
    "start_time": "2023-01-11T13:24:36.267Z"
   },
   {
    "duration": 9,
    "start_time": "2023-01-11T13:24:36.496Z"
   },
   {
    "duration": 6,
    "start_time": "2023-01-11T13:24:37.099Z"
   },
   {
    "duration": 10,
    "start_time": "2023-01-11T13:24:37.460Z"
   },
   {
    "duration": 22,
    "start_time": "2023-01-11T13:24:37.908Z"
   },
   {
    "duration": 4,
    "start_time": "2023-01-11T13:24:38.268Z"
   },
   {
    "duration": 35,
    "start_time": "2023-01-11T13:24:38.571Z"
   },
   {
    "duration": 19,
    "start_time": "2023-01-11T13:24:43.101Z"
   },
   {
    "duration": 8,
    "start_time": "2023-01-11T13:24:45.253Z"
   },
   {
    "duration": 17,
    "start_time": "2023-01-11T13:24:46.140Z"
   },
   {
    "duration": 84,
    "start_time": "2023-01-11T13:24:46.500Z"
   },
   {
    "duration": 266,
    "start_time": "2023-01-11T13:24:53.912Z"
   },
   {
    "duration": 2595,
    "start_time": "2023-01-11T13:25:01.284Z"
   },
   {
    "duration": 5,
    "start_time": "2023-01-11T13:26:06.232Z"
   },
   {
    "duration": 38,
    "start_time": "2023-01-11T13:26:06.399Z"
   },
   {
    "duration": 16,
    "start_time": "2023-01-11T13:26:06.711Z"
   },
   {
    "duration": 14,
    "start_time": "2023-01-11T13:26:06.887Z"
   },
   {
    "duration": 46,
    "start_time": "2023-01-11T13:26:07.039Z"
   },
   {
    "duration": 5,
    "start_time": "2023-01-11T13:26:07.463Z"
   },
   {
    "duration": 168,
    "start_time": "2023-01-11T13:26:07.919Z"
   },
   {
    "duration": 8,
    "start_time": "2023-01-11T13:26:08.089Z"
   },
   {
    "duration": 5,
    "start_time": "2023-01-11T13:26:08.215Z"
   },
   {
    "duration": 4,
    "start_time": "2023-01-11T13:26:08.503Z"
   },
   {
    "duration": 432,
    "start_time": "2023-01-11T13:26:08.793Z"
   },
   {
    "duration": 320,
    "start_time": "2023-01-11T13:26:09.227Z"
   },
   {
    "duration": 71,
    "start_time": "2023-01-11T13:26:09.549Z"
   },
   {
    "duration": 5,
    "start_time": "2023-01-11T13:26:09.775Z"
   },
   {
    "duration": 4,
    "start_time": "2023-01-11T13:26:09.943Z"
   },
   {
    "duration": 5,
    "start_time": "2023-01-11T13:26:10.111Z"
   },
   {
    "duration": 3,
    "start_time": "2023-01-11T13:26:10.503Z"
   },
   {
    "duration": 12,
    "start_time": "2023-01-11T13:26:11.099Z"
   },
   {
    "duration": 5,
    "start_time": "2023-01-11T13:26:11.498Z"
   },
   {
    "duration": 17,
    "start_time": "2023-01-11T13:26:11.775Z"
   },
   {
    "duration": 128,
    "start_time": "2023-01-11T13:26:12.167Z"
   },
   {
    "duration": 11,
    "start_time": "2023-01-11T13:26:14.055Z"
   },
   {
    "duration": 6,
    "start_time": "2023-01-11T13:26:15.263Z"
   },
   {
    "duration": 11,
    "start_time": "2023-01-11T13:26:15.752Z"
   },
   {
    "duration": 5,
    "start_time": "2023-01-11T13:26:16.527Z"
   },
   {
    "duration": 11,
    "start_time": "2023-01-11T13:26:16.896Z"
   },
   {
    "duration": 21,
    "start_time": "2023-01-11T13:26:17.215Z"
   },
   {
    "duration": 4,
    "start_time": "2023-01-11T13:26:17.712Z"
   },
   {
    "duration": 24,
    "start_time": "2023-01-11T13:26:18.303Z"
   },
   {
    "duration": 13,
    "start_time": "2023-01-11T13:26:18.839Z"
   },
   {
    "duration": 7,
    "start_time": "2023-01-11T13:26:21.008Z"
   },
   {
    "duration": 15,
    "start_time": "2023-01-11T13:26:22.536Z"
   },
   {
    "duration": 202,
    "start_time": "2023-01-11T13:26:23.384Z"
   },
   {
    "duration": 3370,
    "start_time": "2023-01-11T13:26:25.816Z"
   },
   {
    "duration": 699,
    "start_time": "2023-01-11T13:26:32.208Z"
   },
   {
    "duration": 12,
    "start_time": "2023-01-11T13:26:55.713Z"
   },
   {
    "duration": 5,
    "start_time": "2023-01-11T13:27:00.977Z"
   },
   {
    "duration": 119,
    "start_time": "2023-01-11T13:27:01.337Z"
   },
   {
    "duration": 714,
    "start_time": "2023-01-11T13:27:06.977Z"
   },
   {
    "duration": 8,
    "start_time": "2023-01-11T13:27:11.714Z"
   },
   {
    "duration": 4,
    "start_time": "2023-01-11T13:27:13.282Z"
   },
   {
    "duration": 16,
    "start_time": "2023-01-11T13:27:13.929Z"
   },
   {
    "duration": 10,
    "start_time": "2023-01-11T13:27:14.338Z"
   },
   {
    "duration": 963,
    "start_time": "2023-01-11T13:27:15.507Z"
   },
   {
    "duration": 10,
    "start_time": "2023-01-11T13:27:30.835Z"
   },
   {
    "duration": 51912,
    "start_time": "2023-01-11T13:27:32.755Z"
   },
   {
    "duration": 4,
    "start_time": "2023-01-11T13:28:26.580Z"
   },
   {
    "duration": 83,
    "start_time": "2023-01-11T13:28:30.419Z"
   },
   {
    "duration": 39,
    "start_time": "2023-01-11T13:28:30.757Z"
   },
   {
    "duration": 36,
    "start_time": "2023-01-11T13:28:32.204Z"
   },
   {
    "duration": 13,
    "start_time": "2023-01-11T13:28:43.973Z"
   },
   {
    "duration": 227,
    "start_time": "2023-01-11T13:28:51.877Z"
   },
   {
    "duration": 17,
    "start_time": "2023-01-11T13:29:02.208Z"
   },
   {
    "duration": 808,
    "start_time": "2023-01-11T13:29:02.607Z"
   },
   {
    "duration": 80,
    "start_time": "2023-01-11T13:29:05.886Z"
   },
   {
    "duration": 90,
    "start_time": "2023-01-11T13:29:08.507Z"
   },
   {
    "duration": 4,
    "start_time": "2023-01-11T13:29:54.464Z"
   },
   {
    "duration": 40,
    "start_time": "2023-01-11T13:29:54.815Z"
   },
   {
    "duration": 16,
    "start_time": "2023-01-11T13:29:55.224Z"
   },
   {
    "duration": 13,
    "start_time": "2023-01-11T13:29:55.479Z"
   },
   {
    "duration": 48,
    "start_time": "2023-01-11T13:29:55.719Z"
   },
   {
    "duration": 6,
    "start_time": "2023-01-11T13:29:56.455Z"
   },
   {
    "duration": 151,
    "start_time": "2023-01-11T13:29:57.072Z"
   },
   {
    "duration": 7,
    "start_time": "2023-01-11T13:29:57.248Z"
   },
   {
    "duration": 5,
    "start_time": "2023-01-11T13:29:57.447Z"
   },
   {
    "duration": 4,
    "start_time": "2023-01-11T13:29:57.847Z"
   },
   {
    "duration": 350,
    "start_time": "2023-01-11T13:29:58.159Z"
   },
   {
    "duration": 318,
    "start_time": "2023-01-11T13:29:58.544Z"
   },
   {
    "duration": 3,
    "start_time": "2023-01-11T13:29:59.935Z"
   },
   {
    "duration": 5,
    "start_time": "2023-01-11T13:30:00.871Z"
   },
   {
    "duration": 5,
    "start_time": "2023-01-11T13:30:01.569Z"
   },
   {
    "duration": 5,
    "start_time": "2023-01-11T13:30:02.048Z"
   },
   {
    "duration": 2,
    "start_time": "2023-01-11T13:30:03.005Z"
   },
   {
    "duration": 20,
    "start_time": "2023-01-11T13:30:03.879Z"
   },
   {
    "duration": 5,
    "start_time": "2023-01-11T13:30:04.448Z"
   },
   {
    "duration": 25,
    "start_time": "2023-01-11T13:30:04.916Z"
   },
   {
    "duration": 124,
    "start_time": "2023-01-11T13:30:05.336Z"
   },
   {
    "duration": 9,
    "start_time": "2023-01-11T13:30:06.410Z"
   },
   {
    "duration": 7,
    "start_time": "2023-01-11T13:30:07.623Z"
   },
   {
    "duration": 12,
    "start_time": "2023-01-11T13:30:08.312Z"
   },
   {
    "duration": 6,
    "start_time": "2023-01-11T13:30:09.119Z"
   },
   {
    "duration": 10,
    "start_time": "2023-01-11T13:30:09.568Z"
   },
   {
    "duration": 22,
    "start_time": "2023-01-11T13:30:10.272Z"
   },
   {
    "duration": 4,
    "start_time": "2023-01-11T13:30:11.224Z"
   },
   {
    "duration": 25,
    "start_time": "2023-01-11T13:30:11.512Z"
   },
   {
    "duration": 12,
    "start_time": "2023-01-11T13:30:12.649Z"
   },
   {
    "duration": 7,
    "start_time": "2023-01-11T13:30:17.812Z"
   },
   {
    "duration": 16,
    "start_time": "2023-01-11T13:30:19.010Z"
   },
   {
    "duration": 178,
    "start_time": "2023-01-11T13:30:21.607Z"
   },
   {
    "duration": 3413,
    "start_time": "2023-01-11T13:30:28.672Z"
   },
   {
    "duration": 702,
    "start_time": "2023-01-11T13:30:34.760Z"
   },
   {
    "duration": 11,
    "start_time": "2023-01-11T13:30:41.953Z"
   },
   {
    "duration": 6,
    "start_time": "2023-01-11T13:30:48.304Z"
   },
   {
    "duration": 11,
    "start_time": "2023-01-11T13:30:49.881Z"
   },
   {
    "duration": 733,
    "start_time": "2023-01-11T13:30:51.170Z"
   },
   {
    "duration": 9,
    "start_time": "2023-01-11T13:30:54.978Z"
   },
   {
    "duration": 4,
    "start_time": "2023-01-11T13:30:59.146Z"
   },
   {
    "duration": 13,
    "start_time": "2023-01-11T13:31:00.586Z"
   },
   {
    "duration": 10,
    "start_time": "2023-01-11T13:31:00.923Z"
   },
   {
    "duration": 1020,
    "start_time": "2023-01-11T13:31:01.618Z"
   },
   {
    "duration": 10,
    "start_time": "2023-01-11T13:31:02.800Z"
   },
   {
    "duration": 51824,
    "start_time": "2023-01-11T13:31:10.411Z"
   },
   {
    "duration": 4,
    "start_time": "2023-01-11T13:32:06.420Z"
   },
   {
    "duration": 4,
    "start_time": "2023-01-11T13:32:13.644Z"
   },
   {
    "duration": 82,
    "start_time": "2023-01-11T13:32:31.757Z"
   },
   {
    "duration": 37,
    "start_time": "2023-01-11T13:32:32.461Z"
   },
   {
    "duration": 44,
    "start_time": "2023-01-11T13:32:32.813Z"
   },
   {
    "duration": 11,
    "start_time": "2023-01-11T13:32:35.822Z"
   },
   {
    "duration": 202,
    "start_time": "2023-01-11T13:32:36.526Z"
   },
   {
    "duration": 17,
    "start_time": "2023-01-11T13:32:47.707Z"
   },
   {
    "duration": 904,
    "start_time": "2023-01-11T13:32:48.203Z"
   },
   {
    "duration": 191,
    "start_time": "2023-01-11T13:32:50.462Z"
   },
   {
    "duration": 89,
    "start_time": "2023-01-11T13:33:00.951Z"
   },
   {
    "duration": 73,
    "start_time": "2023-01-11T13:34:58.083Z"
   },
   {
    "duration": 128,
    "start_time": "2023-01-11T13:35:14.804Z"
   },
   {
    "duration": 124,
    "start_time": "2023-01-11T13:35:30.810Z"
   },
   {
    "duration": 6,
    "start_time": "2023-01-11T13:35:41.112Z"
   },
   {
    "duration": 5,
    "start_time": "2023-01-11T13:35:42.084Z"
   },
   {
    "duration": 5,
    "start_time": "2023-01-11T13:35:42.236Z"
   },
   {
    "duration": 5,
    "start_time": "2023-01-11T13:35:42.380Z"
   },
   {
    "duration": 2,
    "start_time": "2023-01-11T13:35:42.651Z"
   },
   {
    "duration": 12,
    "start_time": "2023-01-11T13:35:43.148Z"
   },
   {
    "duration": 5,
    "start_time": "2023-01-11T13:35:43.340Z"
   },
   {
    "duration": 18,
    "start_time": "2023-01-11T13:35:43.512Z"
   },
   {
    "duration": 118,
    "start_time": "2023-01-11T13:35:44.018Z"
   },
   {
    "duration": 11,
    "start_time": "2023-01-11T13:35:53.061Z"
   },
   {
    "duration": 6,
    "start_time": "2023-01-11T13:35:53.324Z"
   },
   {
    "duration": 12,
    "start_time": "2023-01-11T13:35:53.920Z"
   },
   {
    "duration": 5,
    "start_time": "2023-01-11T13:35:55.622Z"
   },
   {
    "duration": 10,
    "start_time": "2023-01-11T13:35:56.312Z"
   },
   {
    "duration": 20,
    "start_time": "2023-01-11T13:35:57.165Z"
   },
   {
    "duration": 5,
    "start_time": "2023-01-11T13:35:57.572Z"
   },
   {
    "duration": 41,
    "start_time": "2023-01-11T13:35:58.629Z"
   },
   {
    "duration": 15,
    "start_time": "2023-01-11T13:35:59.453Z"
   },
   {
    "duration": 9,
    "start_time": "2023-01-11T13:36:02.317Z"
   },
   {
    "duration": 13,
    "start_time": "2023-01-11T13:36:04.220Z"
   },
   {
    "duration": 48,
    "start_time": "2023-01-11T13:36:06.037Z"
   },
   {
    "duration": 2319,
    "start_time": "2023-01-11T13:36:08.860Z"
   },
   {
    "duration": 771,
    "start_time": "2023-01-11T13:36:22.781Z"
   },
   {
    "duration": 18,
    "start_time": "2023-01-11T13:36:31.836Z"
   },
   {
    "duration": 24,
    "start_time": "2023-01-11T13:36:39.950Z"
   },
   {
    "duration": 3,
    "start_time": "2023-01-11T13:37:36.241Z"
   },
   {
    "duration": 38,
    "start_time": "2023-01-11T13:37:36.432Z"
   },
   {
    "duration": 14,
    "start_time": "2023-01-11T13:37:36.721Z"
   },
   {
    "duration": 13,
    "start_time": "2023-01-11T13:37:36.900Z"
   },
   {
    "duration": 39,
    "start_time": "2023-01-11T13:37:37.065Z"
   },
   {
    "duration": 5,
    "start_time": "2023-01-11T13:37:37.536Z"
   },
   {
    "duration": 154,
    "start_time": "2023-01-11T13:37:38.024Z"
   },
   {
    "duration": 9,
    "start_time": "2023-01-11T13:37:38.183Z"
   },
   {
    "duration": 6,
    "start_time": "2023-01-11T13:37:38.336Z"
   },
   {
    "duration": 5,
    "start_time": "2023-01-11T13:37:38.632Z"
   },
   {
    "duration": 358,
    "start_time": "2023-01-11T13:37:38.947Z"
   },
   {
    "duration": 280,
    "start_time": "2023-01-11T13:37:39.307Z"
   },
   {
    "duration": 5,
    "start_time": "2023-01-11T13:37:40.122Z"
   },
   {
    "duration": 5,
    "start_time": "2023-01-11T13:37:40.305Z"
   },
   {
    "duration": 5,
    "start_time": "2023-01-11T13:37:40.480Z"
   },
   {
    "duration": 3,
    "start_time": "2023-01-11T13:37:40.936Z"
   },
   {
    "duration": 12,
    "start_time": "2023-01-11T13:37:42.911Z"
   },
   {
    "duration": 6,
    "start_time": "2023-01-11T13:37:43.408Z"
   },
   {
    "duration": 19,
    "start_time": "2023-01-11T13:37:43.709Z"
   },
   {
    "duration": 9,
    "start_time": "2023-01-11T13:37:44.507Z"
   },
   {
    "duration": 7,
    "start_time": "2023-01-11T13:37:45.122Z"
   },
   {
    "duration": 9,
    "start_time": "2023-01-11T13:37:45.369Z"
   },
   {
    "duration": 6,
    "start_time": "2023-01-11T13:37:45.906Z"
   },
   {
    "duration": 11,
    "start_time": "2023-01-11T13:37:46.209Z"
   },
   {
    "duration": 23,
    "start_time": "2023-01-11T13:37:47.124Z"
   },
   {
    "duration": 5,
    "start_time": "2023-01-11T13:37:47.614Z"
   },
   {
    "duration": 28,
    "start_time": "2023-01-11T13:37:49.673Z"
   },
   {
    "duration": 14,
    "start_time": "2023-01-11T13:37:50.265Z"
   },
   {
    "duration": 7,
    "start_time": "2023-01-11T13:37:54.473Z"
   },
   {
    "duration": 15,
    "start_time": "2023-01-11T13:38:01.577Z"
   },
   {
    "duration": 41,
    "start_time": "2023-01-11T13:38:03.546Z"
   },
   {
    "duration": 2199,
    "start_time": "2023-01-11T13:38:05.482Z"
   },
   {
    "duration": 3357,
    "start_time": "2023-01-11T13:38:29.523Z"
   },
   {
    "duration": 12872,
    "start_time": "2023-01-11T13:39:27.413Z"
   },
   {
    "duration": 13197,
    "start_time": "2023-01-11T13:39:52.982Z"
   },
   {
    "duration": 95,
    "start_time": "2023-01-11T13:44:41.552Z"
   },
   {
    "duration": 847,
    "start_time": "2023-01-11T13:44:51.833Z"
   },
   {
    "duration": 76,
    "start_time": "2023-01-11T13:45:25.006Z"
   },
   {
    "duration": 5,
    "start_time": "2023-01-11T13:45:41.651Z"
   },
   {
    "duration": 1665,
    "start_time": "2023-01-11T13:46:02.324Z"
   },
   {
    "duration": 2376,
    "start_time": "2023-01-11T13:46:15.407Z"
   },
   {
    "duration": 3033,
    "start_time": "2023-01-11T13:46:31.045Z"
   },
   {
    "duration": 219,
    "start_time": "2023-01-11T13:49:31.859Z"
   },
   {
    "duration": 4,
    "start_time": "2023-01-11T13:54:21.174Z"
   },
   {
    "duration": 10,
    "start_time": "2023-01-11T13:54:29.485Z"
   },
   {
    "duration": 5,
    "start_time": "2023-01-11T13:54:40.670Z"
   },
   {
    "duration": 5,
    "start_time": "2023-01-11T13:54:46.079Z"
   },
   {
    "duration": 71,
    "start_time": "2023-01-11T13:56:19.930Z"
   },
   {
    "duration": 12,
    "start_time": "2023-01-11T13:56:24.187Z"
   },
   {
    "duration": 24,
    "start_time": "2023-01-11T13:56:28.554Z"
   },
   {
    "duration": 6657,
    "start_time": "2023-01-11T13:56:41.955Z"
   },
   {
    "duration": 230946,
    "start_time": "2023-01-11T13:56:52.460Z"
   },
   {
    "duration": 64536,
    "start_time": "2023-01-11T14:01:11.382Z"
   },
   {
    "duration": 98,
    "start_time": "2023-01-11T14:02:30.728Z"
   },
   {
    "duration": 64977,
    "start_time": "2023-01-11T14:02:37.448Z"
   },
   {
    "duration": 6,
    "start_time": "2023-01-11T14:03:42.426Z"
   },
   {
    "duration": 4,
    "start_time": "2023-01-11T14:04:09.052Z"
   },
   {
    "duration": 69969,
    "start_time": "2023-01-11T14:04:29.868Z"
   },
   {
    "duration": 4,
    "start_time": "2023-01-11T14:05:39.839Z"
   },
   {
    "duration": 11,
    "start_time": "2023-01-11T14:05:52.863Z"
   },
   {
    "duration": 5,
    "start_time": "2023-01-11T14:06:56.665Z"
   },
   {
    "duration": 10,
    "start_time": "2023-01-11T14:07:11.530Z"
   },
   {
    "duration": 46,
    "start_time": "2023-01-11T14:07:20.346Z"
   },
   {
    "duration": 64,
    "start_time": "2023-01-11T14:07:54.716Z"
   },
   {
    "duration": 70762,
    "start_time": "2023-01-11T14:09:32.248Z"
   },
   {
    "duration": 70678,
    "start_time": "2023-01-11T14:11:05.412Z"
   },
   {
    "duration": 11,
    "start_time": "2023-01-11T14:12:30.822Z"
   },
   {
    "duration": 4,
    "start_time": "2023-01-11T14:12:40.622Z"
   },
   {
    "duration": 13,
    "start_time": "2023-01-11T14:12:47.766Z"
   },
   {
    "duration": 185,
    "start_time": "2023-01-11T14:13:09.696Z"
   },
   {
    "duration": 82,
    "start_time": "2023-01-11T14:13:42.441Z"
   },
   {
    "duration": 70757,
    "start_time": "2023-01-11T14:13:49.633Z"
   },
   {
    "duration": 12,
    "start_time": "2023-01-11T14:15:10.796Z"
   },
   {
    "duration": 111243,
    "start_time": "2023-01-11T14:15:25.228Z"
   },
   {
    "duration": 6,
    "start_time": "2023-01-11T14:18:47.516Z"
   },
   {
    "duration": 111891,
    "start_time": "2023-01-11T14:18:54.468Z"
   },
   {
    "duration": 39,
    "start_time": "2023-01-11T14:20:46.455Z"
   },
   {
    "duration": 73912,
    "start_time": "2023-01-11T14:21:37.923Z"
   },
   {
    "duration": 39359,
    "start_time": "2023-01-11T14:22:56.799Z"
   },
   {
    "duration": 103,
    "start_time": "2023-01-11T14:23:55.496Z"
   },
   {
    "duration": 73005,
    "start_time": "2023-01-11T14:24:03.907Z"
   },
   {
    "duration": 52708,
    "start_time": "2023-01-11T14:28:26.714Z"
   },
   {
    "duration": 125,
    "start_time": "2023-01-11T14:29:25.052Z"
   },
   {
    "duration": 1220,
    "start_time": "2023-01-11T14:29:56.013Z"
   },
   {
    "duration": 1965,
    "start_time": "2023-01-11T14:29:58.765Z"
   },
   {
    "duration": 45,
    "start_time": "2023-01-11T14:30:01.893Z"
   },
   {
    "duration": 19,
    "start_time": "2023-01-11T14:30:02.453Z"
   },
   {
    "duration": 14,
    "start_time": "2023-01-11T14:30:02.692Z"
   },
   {
    "duration": 44,
    "start_time": "2023-01-11T14:30:02.933Z"
   },
   {
    "duration": 5,
    "start_time": "2023-01-11T14:30:03.476Z"
   },
   {
    "duration": 239,
    "start_time": "2023-01-11T14:30:04.924Z"
   },
   {
    "duration": 15,
    "start_time": "2023-01-11T14:30:05.165Z"
   },
   {
    "duration": 8,
    "start_time": "2023-01-11T14:30:05.277Z"
   },
   {
    "duration": 6,
    "start_time": "2023-01-11T14:30:05.716Z"
   },
   {
    "duration": 439,
    "start_time": "2023-01-11T14:30:06.308Z"
   },
   {
    "duration": 345,
    "start_time": "2023-01-11T14:30:07.741Z"
   },
   {
    "duration": 5,
    "start_time": "2023-01-11T14:30:09.125Z"
   },
   {
    "duration": 6,
    "start_time": "2023-01-11T14:30:09.428Z"
   },
   {
    "duration": 6,
    "start_time": "2023-01-11T14:30:09.701Z"
   },
   {
    "duration": 2,
    "start_time": "2023-01-11T14:30:10.125Z"
   },
   {
    "duration": 13,
    "start_time": "2023-01-11T14:30:20.285Z"
   },
   {
    "duration": 6,
    "start_time": "2023-01-11T14:30:20.629Z"
   },
   {
    "duration": 19,
    "start_time": "2023-01-11T14:30:20.894Z"
   },
   {
    "duration": 10,
    "start_time": "2023-01-11T14:30:22.429Z"
   },
   {
    "duration": 8,
    "start_time": "2023-01-11T14:30:22.653Z"
   },
   {
    "duration": 11,
    "start_time": "2023-01-11T14:30:23.342Z"
   },
   {
    "duration": 8,
    "start_time": "2023-01-11T14:30:24.806Z"
   },
   {
    "duration": 18,
    "start_time": "2023-01-11T14:30:25.749Z"
   },
   {
    "duration": 24,
    "start_time": "2023-01-11T14:30:28.395Z"
   },
   {
    "duration": 4,
    "start_time": "2023-01-11T14:30:28.703Z"
   },
   {
    "duration": 25,
    "start_time": "2023-01-11T14:30:29.070Z"
   },
   {
    "duration": 14,
    "start_time": "2023-01-11T14:30:29.990Z"
   },
   {
    "duration": 7,
    "start_time": "2023-01-11T14:30:37.468Z"
   },
   {
    "duration": 14,
    "start_time": "2023-01-11T14:30:39.758Z"
   },
   {
    "duration": 137,
    "start_time": "2023-01-11T14:30:41.143Z"
   },
   {
    "duration": 191,
    "start_time": "2023-01-11T14:31:50.625Z"
   },
   {
    "duration": 34434,
    "start_time": "2023-01-11T14:32:12.613Z"
   },
   {
    "duration": 38486,
    "start_time": "2023-01-11T14:32:59.668Z"
   },
   {
    "duration": 39193,
    "start_time": "2023-01-11T14:35:48.106Z"
   },
   {
    "duration": 145,
    "start_time": "2023-01-11T14:36:27.301Z"
   },
   {
    "duration": 56,
    "start_time": "2023-01-11T14:36:29.171Z"
   },
   {
    "duration": 12,
    "start_time": "2023-01-11T14:36:39.343Z"
   },
   {
    "duration": 40742,
    "start_time": "2023-01-11T14:37:56.759Z"
   },
   {
    "duration": 89,
    "start_time": "2023-01-11T14:38:49.736Z"
   },
   {
    "duration": 5,
    "start_time": "2023-01-11T14:39:21.691Z"
   },
   {
    "duration": 16,
    "start_time": "2023-01-11T14:39:25.273Z"
   },
   {
    "duration": 12,
    "start_time": "2023-01-11T14:39:32.241Z"
   },
   {
    "duration": 232,
    "start_time": "2023-01-11T14:39:35.162Z"
   },
   {
    "duration": 40857,
    "start_time": "2023-01-11T14:40:47.213Z"
   },
   {
    "duration": 72,
    "start_time": "2023-01-11T14:41:28.073Z"
   },
   {
    "duration": 60,
    "start_time": "2023-01-11T14:41:40.838Z"
   },
   {
    "duration": 11,
    "start_time": "2023-01-11T14:41:44.503Z"
   },
   {
    "duration": 2245,
    "start_time": "2023-01-11T14:43:21.159Z"
   },
   {
    "duration": 1417,
    "start_time": "2023-01-11T14:43:23.408Z"
   },
   {
    "duration": 44,
    "start_time": "2023-01-11T14:43:24.828Z"
   },
   {
    "duration": 26,
    "start_time": "2023-01-11T14:43:24.874Z"
   },
   {
    "duration": 16,
    "start_time": "2023-01-11T14:43:24.902Z"
   },
   {
    "duration": 68,
    "start_time": "2023-01-11T14:43:24.920Z"
   },
   {
    "duration": 5,
    "start_time": "2023-01-11T14:43:24.992Z"
   },
   {
    "duration": 264,
    "start_time": "2023-01-11T14:43:24.999Z"
   },
   {
    "duration": 8,
    "start_time": "2023-01-11T14:43:25.265Z"
   },
   {
    "duration": 16,
    "start_time": "2023-01-11T14:43:25.279Z"
   },
   {
    "duration": 17,
    "start_time": "2023-01-11T14:43:25.297Z"
   },
   {
    "duration": 437,
    "start_time": "2023-01-11T14:43:25.316Z"
   },
   {
    "duration": 372,
    "start_time": "2023-01-11T14:43:25.755Z"
   },
   {
    "duration": 6,
    "start_time": "2023-01-11T14:43:26.129Z"
   },
   {
    "duration": 38,
    "start_time": "2023-01-11T14:43:26.137Z"
   },
   {
    "duration": 51,
    "start_time": "2023-01-11T14:43:26.177Z"
   },
   {
    "duration": 41,
    "start_time": "2023-01-11T14:43:26.230Z"
   },
   {
    "duration": 47,
    "start_time": "2023-01-11T14:43:26.273Z"
   },
   {
    "duration": 36,
    "start_time": "2023-01-11T14:43:26.322Z"
   },
   {
    "duration": 52,
    "start_time": "2023-01-11T14:43:26.360Z"
   },
   {
    "duration": 42,
    "start_time": "2023-01-11T14:43:26.414Z"
   },
   {
    "duration": 55,
    "start_time": "2023-01-11T14:43:26.458Z"
   },
   {
    "duration": 45,
    "start_time": "2023-01-11T14:43:26.515Z"
   },
   {
    "duration": 28,
    "start_time": "2023-01-11T14:43:26.563Z"
   },
   {
    "duration": 62,
    "start_time": "2023-01-11T14:43:26.593Z"
   },
   {
    "duration": 68,
    "start_time": "2023-01-11T14:43:26.657Z"
   },
   {
    "duration": 46,
    "start_time": "2023-01-11T14:43:26.727Z"
   },
   {
    "duration": 75,
    "start_time": "2023-01-11T14:43:26.777Z"
   },
   {
    "duration": 74,
    "start_time": "2023-01-11T14:43:26.854Z"
   },
   {
    "duration": 65,
    "start_time": "2023-01-11T14:43:26.930Z"
   },
   {
    "duration": 71,
    "start_time": "2023-01-11T14:43:26.997Z"
   },
   {
    "duration": 117,
    "start_time": "2023-01-11T14:43:27.069Z"
   },
   {
    "duration": 40070,
    "start_time": "2023-01-11T14:43:27.188Z"
   },
   {
    "duration": 64,
    "start_time": "2023-01-11T14:44:07.259Z"
   },
   {
    "duration": 9,
    "start_time": "2023-01-11T14:44:07.324Z"
   },
   {
    "duration": 29,
    "start_time": "2023-01-11T14:44:07.334Z"
   },
   {
    "duration": 129,
    "start_time": "2023-01-11T14:44:07.365Z"
   },
   {
    "duration": 39791,
    "start_time": "2023-01-11T14:44:07.497Z"
   },
   {
    "duration": 74,
    "start_time": "2023-01-11T14:44:47.290Z"
   },
   {
    "duration": 25,
    "start_time": "2023-01-11T14:44:47.366Z"
   },
   {
    "duration": 6,
    "start_time": "2023-01-11T14:44:47.394Z"
   },
   {
    "duration": 20,
    "start_time": "2023-01-11T14:44:47.402Z"
   },
   {
    "duration": 155,
    "start_time": "2023-01-11T14:44:47.425Z"
   },
   {
    "duration": 248,
    "start_time": "2023-01-11T14:44:47.582Z"
   },
   {
    "duration": 17,
    "start_time": "2023-01-11T14:44:47.832Z"
   },
   {
    "duration": 0,
    "start_time": "2023-01-11T14:44:47.851Z"
   },
   {
    "duration": 0,
    "start_time": "2023-01-11T14:44:47.852Z"
   },
   {
    "duration": 0,
    "start_time": "2023-01-11T14:44:47.854Z"
   },
   {
    "duration": 0,
    "start_time": "2023-01-11T14:44:47.856Z"
   },
   {
    "duration": 0,
    "start_time": "2023-01-11T14:44:47.857Z"
   },
   {
    "duration": 0,
    "start_time": "2023-01-11T14:44:47.859Z"
   },
   {
    "duration": 0,
    "start_time": "2023-01-11T14:44:47.860Z"
   },
   {
    "duration": 0,
    "start_time": "2023-01-11T14:44:47.861Z"
   },
   {
    "duration": 0,
    "start_time": "2023-01-11T14:44:47.862Z"
   },
   {
    "duration": 0,
    "start_time": "2023-01-11T14:44:47.863Z"
   },
   {
    "duration": 103,
    "start_time": "2023-01-11T14:45:22.863Z"
   },
   {
    "duration": 54691,
    "start_time": "2023-01-11T14:45:28.099Z"
   },
   {
    "duration": 55137,
    "start_time": "2023-01-11T14:50:20.274Z"
   },
   {
    "duration": 95,
    "start_time": "2023-01-11T14:51:15.413Z"
   },
   {
    "duration": 10,
    "start_time": "2023-01-11T14:51:15.509Z"
   },
   {
    "duration": 111,
    "start_time": "2023-01-11T14:51:32.925Z"
   },
   {
    "duration": 10,
    "start_time": "2023-01-11T14:51:34.201Z"
   },
   {
    "duration": 2199,
    "start_time": "2023-01-11T14:52:03.556Z"
   },
   {
    "duration": 1378,
    "start_time": "2023-01-11T14:52:05.758Z"
   },
   {
    "duration": 49,
    "start_time": "2023-01-11T14:52:07.139Z"
   },
   {
    "duration": 19,
    "start_time": "2023-01-11T14:52:07.194Z"
   },
   {
    "duration": 29,
    "start_time": "2023-01-11T14:52:07.215Z"
   },
   {
    "duration": 49,
    "start_time": "2023-01-11T14:52:07.245Z"
   },
   {
    "duration": 5,
    "start_time": "2023-01-11T14:52:07.296Z"
   },
   {
    "duration": 178,
    "start_time": "2023-01-11T14:52:07.303Z"
   },
   {
    "duration": 10,
    "start_time": "2023-01-11T14:52:07.487Z"
   },
   {
    "duration": 12,
    "start_time": "2023-01-11T14:52:07.500Z"
   },
   {
    "duration": 12,
    "start_time": "2023-01-11T14:52:07.514Z"
   },
   {
    "duration": 382,
    "start_time": "2023-01-11T14:52:07.527Z"
   },
   {
    "duration": 307,
    "start_time": "2023-01-11T14:52:07.911Z"
   },
   {
    "duration": 5,
    "start_time": "2023-01-11T14:52:08.220Z"
   },
   {
    "duration": 21,
    "start_time": "2023-01-11T14:52:08.226Z"
   },
   {
    "duration": 14,
    "start_time": "2023-01-11T14:52:08.249Z"
   },
   {
    "duration": 8,
    "start_time": "2023-01-11T14:52:08.265Z"
   },
   {
    "duration": 28,
    "start_time": "2023-01-11T14:52:08.275Z"
   },
   {
    "duration": 5,
    "start_time": "2023-01-11T14:52:08.305Z"
   },
   {
    "duration": 21,
    "start_time": "2023-01-11T14:52:08.312Z"
   },
   {
    "duration": 10,
    "start_time": "2023-01-11T14:52:08.335Z"
   },
   {
    "duration": 7,
    "start_time": "2023-01-11T14:52:08.346Z"
   },
   {
    "duration": 24,
    "start_time": "2023-01-11T14:52:08.355Z"
   },
   {
    "duration": 12,
    "start_time": "2023-01-11T14:52:08.381Z"
   },
   {
    "duration": 22,
    "start_time": "2023-01-11T14:52:08.397Z"
   },
   {
    "duration": 24,
    "start_time": "2023-01-11T14:52:08.421Z"
   },
   {
    "duration": 5,
    "start_time": "2023-01-11T14:52:08.446Z"
   },
   {
    "duration": 39,
    "start_time": "2023-01-11T14:52:08.454Z"
   },
   {
    "duration": 15,
    "start_time": "2023-01-11T14:52:08.496Z"
   },
   {
    "duration": 13,
    "start_time": "2023-01-11T14:52:08.512Z"
   },
   {
    "duration": 18,
    "start_time": "2023-01-11T14:52:08.527Z"
   },
   {
    "duration": 132,
    "start_time": "2023-01-11T14:52:08.546Z"
   },
   {
    "duration": 40203,
    "start_time": "2023-01-11T14:52:08.681Z"
   },
   {
    "duration": 66,
    "start_time": "2023-01-11T14:52:48.885Z"
   },
   {
    "duration": 32,
    "start_time": "2023-01-11T14:52:48.953Z"
   },
   {
    "duration": 28,
    "start_time": "2023-01-11T14:52:48.987Z"
   },
   {
    "duration": 85,
    "start_time": "2023-01-11T14:52:49.016Z"
   },
   {
    "duration": 40827,
    "start_time": "2023-01-11T14:52:49.108Z"
   },
   {
    "duration": 87,
    "start_time": "2023-01-11T14:53:29.937Z"
   },
   {
    "duration": 10,
    "start_time": "2023-01-11T14:53:30.025Z"
   },
   {
    "duration": 10,
    "start_time": "2023-01-11T14:53:30.037Z"
   },
   {
    "duration": 27,
    "start_time": "2023-01-11T14:53:30.048Z"
   },
   {
    "duration": 115,
    "start_time": "2023-01-11T14:53:30.077Z"
   },
   {
    "duration": 56070,
    "start_time": "2023-01-11T14:53:30.197Z"
   },
   {
    "duration": 102,
    "start_time": "2023-01-11T14:54:26.269Z"
   },
   {
    "duration": 14,
    "start_time": "2023-01-11T14:54:26.378Z"
   },
   {
    "duration": 134,
    "start_time": "2023-01-11T14:54:26.394Z"
   },
   {
    "duration": 0,
    "start_time": "2023-01-11T14:54:26.530Z"
   },
   {
    "duration": 0,
    "start_time": "2023-01-11T14:54:26.532Z"
   },
   {
    "duration": 0,
    "start_time": "2023-01-11T14:54:26.533Z"
   },
   {
    "duration": 0,
    "start_time": "2023-01-11T14:54:26.535Z"
   },
   {
    "duration": 0,
    "start_time": "2023-01-11T14:54:26.536Z"
   },
   {
    "duration": 0,
    "start_time": "2023-01-11T14:54:26.537Z"
   },
   {
    "duration": 0,
    "start_time": "2023-01-11T14:54:26.538Z"
   },
   {
    "duration": 0,
    "start_time": "2023-01-11T14:54:26.539Z"
   },
   {
    "duration": 40,
    "start_time": "2023-01-11T15:01:07.934Z"
   },
   {
    "duration": 37,
    "start_time": "2023-01-11T15:01:08.503Z"
   },
   {
    "duration": 10,
    "start_time": "2023-01-11T15:01:32.422Z"
   },
   {
    "duration": 226,
    "start_time": "2023-01-11T15:01:35.439Z"
   },
   {
    "duration": 16,
    "start_time": "2023-01-11T15:03:00.346Z"
   },
   {
    "duration": 851,
    "start_time": "2023-01-11T15:03:08.945Z"
   },
   {
    "duration": 84,
    "start_time": "2023-01-11T15:03:17.635Z"
   },
   {
    "duration": 2027,
    "start_time": "2023-01-11T15:04:11.846Z"
   },
   {
    "duration": 1358,
    "start_time": "2023-01-11T15:04:13.875Z"
   },
   {
    "duration": 45,
    "start_time": "2023-01-11T15:04:15.235Z"
   },
   {
    "duration": 19,
    "start_time": "2023-01-11T15:04:15.292Z"
   },
   {
    "duration": 13,
    "start_time": "2023-01-11T15:04:15.312Z"
   },
   {
    "duration": 42,
    "start_time": "2023-01-11T15:04:15.326Z"
   },
   {
    "duration": 9,
    "start_time": "2023-01-11T15:04:15.382Z"
   },
   {
    "duration": 176,
    "start_time": "2023-01-11T15:04:15.393Z"
   },
   {
    "duration": 17,
    "start_time": "2023-01-11T15:04:15.571Z"
   },
   {
    "duration": 21,
    "start_time": "2023-01-11T15:04:15.591Z"
   },
   {
    "duration": 9,
    "start_time": "2023-01-11T15:04:15.614Z"
   },
   {
    "duration": 411,
    "start_time": "2023-01-11T15:04:15.625Z"
   },
   {
    "duration": 348,
    "start_time": "2023-01-11T15:04:16.038Z"
   },
   {
    "duration": 6,
    "start_time": "2023-01-11T15:04:16.387Z"
   },
   {
    "duration": 12,
    "start_time": "2023-01-11T15:04:16.394Z"
   },
   {
    "duration": 15,
    "start_time": "2023-01-11T15:04:16.407Z"
   },
   {
    "duration": 10,
    "start_time": "2023-01-11T15:04:16.424Z"
   },
   {
    "duration": 18,
    "start_time": "2023-01-11T15:04:16.436Z"
   },
   {
    "duration": 5,
    "start_time": "2023-01-11T15:04:16.456Z"
   },
   {
    "duration": 29,
    "start_time": "2023-01-11T15:04:16.463Z"
   },
   {
    "duration": 17,
    "start_time": "2023-01-11T15:04:16.493Z"
   },
   {
    "duration": 9,
    "start_time": "2023-01-11T15:04:16.512Z"
   },
   {
    "duration": 18,
    "start_time": "2023-01-11T15:04:16.523Z"
   },
   {
    "duration": 24,
    "start_time": "2023-01-11T15:04:16.543Z"
   },
   {
    "duration": 39,
    "start_time": "2023-01-11T15:04:16.569Z"
   },
   {
    "duration": 28,
    "start_time": "2023-01-11T15:04:16.609Z"
   },
   {
    "duration": 4,
    "start_time": "2023-01-11T15:04:16.639Z"
   },
   {
    "duration": 32,
    "start_time": "2023-01-11T15:04:16.647Z"
   },
   {
    "duration": 20,
    "start_time": "2023-01-11T15:04:16.685Z"
   },
   {
    "duration": 24,
    "start_time": "2023-01-11T15:04:16.707Z"
   },
   {
    "duration": 20,
    "start_time": "2023-01-11T15:04:16.732Z"
   },
   {
    "duration": 132,
    "start_time": "2023-01-11T15:04:16.753Z"
   },
   {
    "duration": 40357,
    "start_time": "2023-01-11T15:04:16.889Z"
   },
   {
    "duration": 64,
    "start_time": "2023-01-11T15:04:57.248Z"
   },
   {
    "duration": 10,
    "start_time": "2023-01-11T15:04:57.313Z"
   },
   {
    "duration": 12,
    "start_time": "2023-01-11T15:04:57.324Z"
   },
   {
    "duration": 144,
    "start_time": "2023-01-11T15:04:57.338Z"
   },
   {
    "duration": 40228,
    "start_time": "2023-01-11T15:04:57.484Z"
   },
   {
    "duration": 83,
    "start_time": "2023-01-11T15:05:37.714Z"
   },
   {
    "duration": 9,
    "start_time": "2023-01-11T15:05:37.799Z"
   },
   {
    "duration": 7,
    "start_time": "2023-01-11T15:05:37.810Z"
   },
   {
    "duration": 17,
    "start_time": "2023-01-11T15:05:37.819Z"
   },
   {
    "duration": 142,
    "start_time": "2023-01-11T15:05:37.839Z"
   },
   {
    "duration": 55614,
    "start_time": "2023-01-11T15:05:37.983Z"
   },
   {
    "duration": 96,
    "start_time": "2023-01-11T15:06:33.599Z"
   },
   {
    "duration": 11,
    "start_time": "2023-01-11T15:06:33.697Z"
   },
   {
    "duration": 38,
    "start_time": "2023-01-11T15:06:33.710Z"
   },
   {
    "duration": 44,
    "start_time": "2023-01-11T15:06:33.750Z"
   },
   {
    "duration": 14,
    "start_time": "2023-01-11T15:06:33.796Z"
   },
   {
    "duration": 348,
    "start_time": "2023-01-11T15:06:33.811Z"
   },
   {
    "duration": 31,
    "start_time": "2023-01-11T15:06:34.161Z"
   },
   {
    "duration": 142,
    "start_time": "2023-01-11T15:06:34.194Z"
   },
   {
    "duration": 112,
    "start_time": "2023-01-11T15:06:34.338Z"
   },
   {
    "duration": 4,
    "start_time": "2023-01-11T15:10:19.840Z"
   },
   {
    "duration": 39,
    "start_time": "2023-01-11T15:10:19.993Z"
   },
   {
    "duration": 13,
    "start_time": "2023-01-11T15:10:20.254Z"
   },
   {
    "duration": 12,
    "start_time": "2023-01-11T15:10:20.358Z"
   },
   {
    "duration": 41,
    "start_time": "2023-01-11T15:10:20.498Z"
   },
   {
    "duration": 5,
    "start_time": "2023-01-11T15:10:21.056Z"
   },
   {
    "duration": 167,
    "start_time": "2023-01-11T15:10:21.164Z"
   },
   {
    "duration": 8,
    "start_time": "2023-01-11T15:10:21.332Z"
   },
   {
    "duration": 12,
    "start_time": "2023-01-11T15:10:21.342Z"
   },
   {
    "duration": 7,
    "start_time": "2023-01-11T15:10:21.356Z"
   },
   {
    "duration": 371,
    "start_time": "2023-01-11T15:10:21.377Z"
   },
   {
    "duration": 404,
    "start_time": "2023-01-11T15:10:21.749Z"
   },
   {
    "duration": 7,
    "start_time": "2023-01-11T15:10:22.155Z"
   },
   {
    "duration": 29,
    "start_time": "2023-01-11T15:10:22.178Z"
   },
   {
    "duration": 9,
    "start_time": "2023-01-11T15:10:22.209Z"
   },
   {
    "duration": 29,
    "start_time": "2023-01-11T15:10:22.221Z"
   },
   {
    "duration": 17,
    "start_time": "2023-01-11T15:10:22.252Z"
   },
   {
    "duration": 6,
    "start_time": "2023-01-11T15:10:22.271Z"
   },
   {
    "duration": 40,
    "start_time": "2023-01-11T15:10:22.284Z"
   },
   {
    "duration": 12,
    "start_time": "2023-01-11T15:10:22.325Z"
   },
   {
    "duration": 13,
    "start_time": "2023-01-11T15:10:22.339Z"
   },
   {
    "duration": 11,
    "start_time": "2023-01-11T15:10:22.354Z"
   },
   {
    "duration": 16,
    "start_time": "2023-01-11T15:10:22.367Z"
   },
   {
    "duration": 21,
    "start_time": "2023-01-11T15:10:22.388Z"
   },
   {
    "duration": 26,
    "start_time": "2023-01-11T15:10:22.411Z"
   },
   {
    "duration": 4,
    "start_time": "2023-01-11T15:10:22.439Z"
   },
   {
    "duration": 45,
    "start_time": "2023-01-11T15:10:22.445Z"
   },
   {
    "duration": 17,
    "start_time": "2023-01-11T15:10:22.493Z"
   },
   {
    "duration": 29,
    "start_time": "2023-01-11T15:10:22.512Z"
   },
   {
    "duration": 17,
    "start_time": "2023-01-11T15:10:22.544Z"
   },
   {
    "duration": 122,
    "start_time": "2023-01-11T15:10:22.563Z"
   },
   {
    "duration": 40561,
    "start_time": "2023-01-11T15:10:22.687Z"
   },
   {
    "duration": 71,
    "start_time": "2023-01-11T15:11:03.249Z"
   },
   {
    "duration": 9,
    "start_time": "2023-01-11T15:11:03.323Z"
   },
   {
    "duration": 144,
    "start_time": "2023-01-11T15:11:03.334Z"
   },
   {
    "duration": 40792,
    "start_time": "2023-01-11T15:11:03.480Z"
   },
   {
    "duration": 82,
    "start_time": "2023-01-11T15:11:44.274Z"
   },
   {
    "duration": 21,
    "start_time": "2023-01-11T15:11:44.358Z"
   },
   {
    "duration": 36,
    "start_time": "2023-01-11T15:11:44.382Z"
   },
   {
    "duration": 46,
    "start_time": "2023-01-11T15:11:44.420Z"
   },
   {
    "duration": 120,
    "start_time": "2023-01-11T15:11:44.469Z"
   },
   {
    "duration": 55614,
    "start_time": "2023-01-11T15:11:44.596Z"
   },
   {
    "duration": 97,
    "start_time": "2023-01-11T15:12:40.211Z"
   },
   {
    "duration": 11,
    "start_time": "2023-01-11T15:12:40.310Z"
   },
   {
    "duration": 40,
    "start_time": "2023-01-11T15:12:40.323Z"
   },
   {
    "duration": 50,
    "start_time": "2023-01-11T15:12:40.365Z"
   },
   {
    "duration": 12,
    "start_time": "2023-01-11T15:12:40.417Z"
   },
   {
    "duration": 264,
    "start_time": "2023-01-11T15:12:40.431Z"
   },
   {
    "duration": 43,
    "start_time": "2023-01-11T15:15:49.419Z"
   },
   {
    "duration": 107,
    "start_time": "2023-01-11T15:16:31.805Z"
   },
   {
    "duration": 5,
    "start_time": "2023-01-11T15:17:08.299Z"
   },
   {
    "duration": 2108,
    "start_time": "2023-01-11T15:17:46.751Z"
   },
   {
    "duration": 6,
    "start_time": "2023-01-11T15:17:48.862Z"
   },
   {
    "duration": 72,
    "start_time": "2023-01-11T15:17:48.870Z"
   },
   {
    "duration": 17,
    "start_time": "2023-01-11T15:17:48.945Z"
   },
   {
    "duration": 30,
    "start_time": "2023-01-11T15:17:48.964Z"
   },
   {
    "duration": 60,
    "start_time": "2023-01-11T15:17:48.996Z"
   },
   {
    "duration": 7,
    "start_time": "2023-01-11T15:17:49.058Z"
   },
   {
    "duration": 230,
    "start_time": "2023-01-11T15:17:49.072Z"
   },
   {
    "duration": 10,
    "start_time": "2023-01-11T15:17:49.304Z"
   },
   {
    "duration": 17,
    "start_time": "2023-01-11T15:17:49.317Z"
   },
   {
    "duration": 8,
    "start_time": "2023-01-11T15:17:49.336Z"
   },
   {
    "duration": 450,
    "start_time": "2023-01-11T15:17:49.349Z"
   },
   {
    "duration": 334,
    "start_time": "2023-01-11T15:17:49.802Z"
   },
   {
    "duration": 6,
    "start_time": "2023-01-11T15:17:50.138Z"
   },
   {
    "duration": 5,
    "start_time": "2023-01-11T15:17:50.303Z"
   },
   {
    "duration": 7,
    "start_time": "2023-01-11T15:17:50.489Z"
   },
   {
    "duration": 2,
    "start_time": "2023-01-11T15:17:50.871Z"
   },
   {
    "duration": 18,
    "start_time": "2023-01-11T15:17:51.671Z"
   },
   {
    "duration": 6,
    "start_time": "2023-01-11T15:17:51.847Z"
   },
   {
    "duration": 22,
    "start_time": "2023-01-11T15:17:52.038Z"
   },
   {
    "duration": 10,
    "start_time": "2023-01-11T15:17:53.500Z"
   },
   {
    "duration": 7,
    "start_time": "2023-01-11T15:17:53.647Z"
   },
   {
    "duration": 10,
    "start_time": "2023-01-11T15:17:53.815Z"
   },
   {
    "duration": 9,
    "start_time": "2023-01-11T15:17:55.256Z"
   },
   {
    "duration": 15,
    "start_time": "2023-01-11T15:17:55.496Z"
   },
   {
    "duration": 28,
    "start_time": "2023-01-11T15:17:55.700Z"
   },
   {
    "duration": 5,
    "start_time": "2023-01-11T15:17:55.905Z"
   },
   {
    "duration": 29,
    "start_time": "2023-01-11T15:17:56.096Z"
   },
   {
    "duration": 14,
    "start_time": "2023-01-11T15:17:56.293Z"
   },
   {
    "duration": 161,
    "start_time": "2023-01-11T15:17:58.360Z"
   },
   {
    "duration": 17,
    "start_time": "2023-01-11T15:17:58.796Z"
   },
   {
    "duration": 54,
    "start_time": "2023-01-11T15:17:58.935Z"
   },
   {
    "duration": 41203,
    "start_time": "2023-01-11T15:17:59.102Z"
   },
   {
    "duration": 70,
    "start_time": "2023-01-11T15:18:40.307Z"
   },
   {
    "duration": 14,
    "start_time": "2023-01-11T15:18:40.387Z"
   },
   {
    "duration": 85,
    "start_time": "2023-01-11T15:18:40.404Z"
   },
   {
    "duration": 40965,
    "start_time": "2023-01-11T15:18:40.491Z"
   },
   {
    "duration": 82,
    "start_time": "2023-01-11T15:19:21.458Z"
   },
   {
    "duration": 8,
    "start_time": "2023-01-11T15:19:21.542Z"
   },
   {
    "duration": 7,
    "start_time": "2023-01-11T15:19:21.552Z"
   },
   {
    "duration": 45,
    "start_time": "2023-01-11T15:19:21.560Z"
   },
   {
    "duration": 86,
    "start_time": "2023-01-11T15:19:21.608Z"
   },
   {
    "duration": 56038,
    "start_time": "2023-01-11T15:19:21.696Z"
   },
   {
    "duration": 90,
    "start_time": "2023-01-11T15:20:17.736Z"
   },
   {
    "duration": 10,
    "start_time": "2023-01-11T15:20:17.828Z"
   },
   {
    "duration": 101,
    "start_time": "2023-01-11T15:20:21.697Z"
   },
   {
    "duration": 76,
    "start_time": "2023-01-11T15:20:47.221Z"
   },
   {
    "duration": 12,
    "start_time": "2023-01-11T15:21:49.632Z"
   },
   {
    "duration": 206,
    "start_time": "2023-01-11T15:21:52.135Z"
   },
   {
    "duration": 4,
    "start_time": "2023-01-11T15:23:09.500Z"
   },
   {
    "duration": 16,
    "start_time": "2023-01-11T15:23:41.293Z"
   },
   {
    "duration": 8,
    "start_time": "2023-01-11T15:23:47.125Z"
   },
   {
    "duration": 22,
    "start_time": "2023-01-11T15:24:09.996Z"
   },
   {
    "duration": 8,
    "start_time": "2023-01-11T15:25:55.209Z"
   },
   {
    "duration": 26,
    "start_time": "2023-01-11T15:25:59.671Z"
   },
   {
    "duration": 31,
    "start_time": "2023-01-11T15:27:11.497Z"
   },
   {
    "duration": 6,
    "start_time": "2023-01-11T15:27:40.172Z"
   },
   {
    "duration": 499,
    "start_time": "2023-01-11T15:27:52.193Z"
   },
   {
    "duration": 63,
    "start_time": "2023-01-11T15:28:20.350Z"
   },
   {
    "duration": 36,
    "start_time": "2023-01-11T15:29:03.560Z"
   },
   {
    "duration": 2139,
    "start_time": "2023-01-11T15:29:12.799Z"
   },
   {
    "duration": 1258,
    "start_time": "2023-01-11T15:29:14.941Z"
   },
   {
    "duration": 42,
    "start_time": "2023-01-11T15:29:16.200Z"
   },
   {
    "duration": 17,
    "start_time": "2023-01-11T15:29:16.244Z"
   },
   {
    "duration": 38,
    "start_time": "2023-01-11T15:29:16.264Z"
   },
   {
    "duration": 56,
    "start_time": "2023-01-11T15:29:16.304Z"
   },
   {
    "duration": 5,
    "start_time": "2023-01-11T15:29:16.362Z"
   },
   {
    "duration": 221,
    "start_time": "2023-01-11T15:29:16.368Z"
   },
   {
    "duration": 9,
    "start_time": "2023-01-11T15:29:16.592Z"
   },
   {
    "duration": 30,
    "start_time": "2023-01-11T15:29:16.603Z"
   },
   {
    "duration": 26,
    "start_time": "2023-01-11T15:29:16.635Z"
   },
   {
    "duration": 407,
    "start_time": "2023-01-11T15:29:16.662Z"
   },
   {
    "duration": 313,
    "start_time": "2023-01-11T15:29:17.071Z"
   },
   {
    "duration": 8,
    "start_time": "2023-01-11T15:29:17.391Z"
   },
   {
    "duration": 24,
    "start_time": "2023-01-11T15:29:17.401Z"
   },
   {
    "duration": 29,
    "start_time": "2023-01-11T15:29:17.428Z"
   },
   {
    "duration": 44,
    "start_time": "2023-01-11T15:29:17.459Z"
   },
   {
    "duration": 47,
    "start_time": "2023-01-11T15:29:17.504Z"
   },
   {
    "duration": 23,
    "start_time": "2023-01-11T15:29:17.552Z"
   },
   {
    "duration": 53,
    "start_time": "2023-01-11T15:29:17.582Z"
   },
   {
    "duration": 29,
    "start_time": "2023-01-11T15:29:17.637Z"
   },
   {
    "duration": 60,
    "start_time": "2023-01-11T15:29:17.668Z"
   },
   {
    "duration": 42,
    "start_time": "2023-01-11T15:29:17.730Z"
   },
   {
    "duration": 31,
    "start_time": "2023-01-11T15:29:17.773Z"
   },
   {
    "duration": 33,
    "start_time": "2023-01-11T15:29:17.806Z"
   },
   {
    "duration": 72,
    "start_time": "2023-01-11T15:29:17.841Z"
   },
   {
    "duration": 25,
    "start_time": "2023-01-11T15:29:17.915Z"
   },
   {
    "duration": 58,
    "start_time": "2023-01-11T15:29:17.941Z"
   },
   {
    "duration": 23,
    "start_time": "2023-01-11T15:29:18.001Z"
   },
   {
    "duration": 34,
    "start_time": "2023-01-11T15:29:18.026Z"
   },
   {
    "duration": 66,
    "start_time": "2023-01-11T15:29:18.062Z"
   },
   {
    "duration": 66,
    "start_time": "2023-01-11T15:29:18.129Z"
   },
   {
    "duration": 40447,
    "start_time": "2023-01-11T15:29:18.196Z"
   },
   {
    "duration": 64,
    "start_time": "2023-01-11T15:29:58.644Z"
   },
   {
    "duration": 9,
    "start_time": "2023-01-11T15:29:58.710Z"
   },
   {
    "duration": 82,
    "start_time": "2023-01-11T15:29:58.720Z"
   },
   {
    "duration": 40235,
    "start_time": "2023-01-11T15:29:58.879Z"
   },
   {
    "duration": 79,
    "start_time": "2023-01-11T15:30:39.116Z"
   },
   {
    "duration": 8,
    "start_time": "2023-01-11T15:30:39.197Z"
   },
   {
    "duration": 6,
    "start_time": "2023-01-11T15:30:39.207Z"
   },
   {
    "duration": 21,
    "start_time": "2023-01-11T15:30:39.216Z"
   },
   {
    "duration": 140,
    "start_time": "2023-01-11T15:30:39.239Z"
   },
   {
    "duration": 54019,
    "start_time": "2023-01-11T15:30:39.380Z"
   },
   {
    "duration": 94,
    "start_time": "2023-01-11T15:31:33.400Z"
   },
   {
    "duration": 14,
    "start_time": "2023-01-11T15:31:33.496Z"
   },
   {
    "duration": 56,
    "start_time": "2023-01-11T15:31:33.512Z"
   },
   {
    "duration": 40,
    "start_time": "2023-01-11T15:31:33.570Z"
   },
   {
    "duration": 17,
    "start_time": "2023-01-11T15:31:33.612Z"
   },
   {
    "duration": 224,
    "start_time": "2023-01-11T15:31:33.631Z"
   },
   {
    "duration": 145,
    "start_time": "2023-01-11T15:31:33.856Z"
   },
   {
    "duration": 0,
    "start_time": "2023-01-11T15:31:34.003Z"
   },
   {
    "duration": 0,
    "start_time": "2023-01-11T15:31:34.005Z"
   },
   {
    "duration": 73,
    "start_time": "2023-01-11T15:31:52.851Z"
   },
   {
    "duration": 79,
    "start_time": "2023-01-11T15:36:21.500Z"
   },
   {
    "duration": 15,
    "start_time": "2023-01-11T15:38:08.612Z"
   },
   {
    "duration": 6202,
    "start_time": "2023-01-11T15:38:33.307Z"
   },
   {
    "duration": 15,
    "start_time": "2023-01-11T15:39:41.758Z"
   },
   {
    "duration": 44,
    "start_time": "2023-01-11T15:39:51.463Z"
   },
   {
    "duration": 15,
    "start_time": "2023-01-11T15:39:58.815Z"
   },
   {
    "duration": 22,
    "start_time": "2023-01-11T15:40:08.287Z"
   },
   {
    "duration": 5,
    "start_time": "2023-01-11T15:40:23.930Z"
   },
   {
    "duration": 44,
    "start_time": "2023-01-11T15:40:24.112Z"
   },
   {
    "duration": 16,
    "start_time": "2023-01-11T15:40:24.407Z"
   },
   {
    "duration": 15,
    "start_time": "2023-01-11T15:40:24.544Z"
   },
   {
    "duration": 44,
    "start_time": "2023-01-11T15:40:24.679Z"
   },
   {
    "duration": 5,
    "start_time": "2023-01-11T15:40:25.064Z"
   },
   {
    "duration": 195,
    "start_time": "2023-01-11T15:40:25.544Z"
   },
   {
    "duration": 10,
    "start_time": "2023-01-11T15:40:25.741Z"
   },
   {
    "duration": 6,
    "start_time": "2023-01-11T15:40:25.855Z"
   },
   {
    "duration": 5,
    "start_time": "2023-01-11T15:40:26.146Z"
   },
   {
    "duration": 392,
    "start_time": "2023-01-11T15:40:26.456Z"
   },
   {
    "duration": 330,
    "start_time": "2023-01-11T15:40:26.850Z"
   },
   {
    "duration": 6,
    "start_time": "2023-01-11T15:40:27.182Z"
   },
   {
    "duration": 5,
    "start_time": "2023-01-11T15:40:27.312Z"
   },
   {
    "duration": 5,
    "start_time": "2023-01-11T15:40:27.480Z"
   },
   {
    "duration": 3,
    "start_time": "2023-01-11T15:40:27.800Z"
   },
   {
    "duration": 12,
    "start_time": "2023-01-11T15:40:28.455Z"
   },
   {
    "duration": 9,
    "start_time": "2023-01-11T15:40:28.633Z"
   },
   {
    "duration": 18,
    "start_time": "2023-01-11T15:40:28.784Z"
   },
   {
    "duration": 9,
    "start_time": "2023-01-11T15:40:29.104Z"
   },
   {
    "duration": 6,
    "start_time": "2023-01-11T15:40:29.256Z"
   },
   {
    "duration": 9,
    "start_time": "2023-01-11T15:40:29.416Z"
   },
   {
    "duration": 7,
    "start_time": "2023-01-11T15:40:29.704Z"
   },
   {
    "duration": 12,
    "start_time": "2023-01-11T15:40:29.848Z"
   },
   {
    "duration": 23,
    "start_time": "2023-01-11T15:40:30.000Z"
   },
   {
    "duration": 4,
    "start_time": "2023-01-11T15:40:30.152Z"
   },
   {
    "duration": 26,
    "start_time": "2023-01-11T15:40:30.312Z"
   },
   {
    "duration": 13,
    "start_time": "2023-01-11T15:40:30.464Z"
   },
   {
    "duration": 7,
    "start_time": "2023-01-11T15:40:31.636Z"
   },
   {
    "duration": 16,
    "start_time": "2023-01-11T15:40:33.130Z"
   },
   {
    "duration": 38,
    "start_time": "2023-01-11T15:40:33.344Z"
   },
   {
    "duration": 38418,
    "start_time": "2023-01-11T15:40:33.848Z"
   },
   {
    "duration": 69,
    "start_time": "2023-01-11T15:41:12.268Z"
   },
   {
    "duration": 10,
    "start_time": "2023-01-11T15:41:12.339Z"
   },
   {
    "duration": 128,
    "start_time": "2023-01-11T15:41:12.351Z"
   },
   {
    "duration": 37781,
    "start_time": "2023-01-11T15:41:12.480Z"
   },
   {
    "duration": 89,
    "start_time": "2023-01-11T15:41:50.263Z"
   },
   {
    "duration": 13,
    "start_time": "2023-01-11T15:41:50.354Z"
   },
   {
    "duration": 3,
    "start_time": "2023-01-11T15:41:50.379Z"
   },
   {
    "duration": 8,
    "start_time": "2023-01-11T15:41:50.384Z"
   },
   {
    "duration": 37,
    "start_time": "2023-01-11T15:41:50.395Z"
   },
   {
    "duration": 4,
    "start_time": "2023-01-11T15:41:50.434Z"
   },
   {
    "duration": 129,
    "start_time": "2023-01-11T15:42:57.750Z"
   },
   {
    "duration": 61393,
    "start_time": "2023-01-11T15:43:04.278Z"
   },
   {
    "duration": 78,
    "start_time": "2023-01-11T15:44:09.040Z"
   },
   {
    "duration": 11,
    "start_time": "2023-01-11T15:44:11.121Z"
   },
   {
    "duration": 41,
    "start_time": "2023-01-11T15:45:07.958Z"
   },
   {
    "duration": 38,
    "start_time": "2023-01-11T15:45:08.315Z"
   },
   {
    "duration": 10,
    "start_time": "2023-01-11T15:45:15.571Z"
   },
   {
    "duration": 213,
    "start_time": "2023-01-11T15:45:17.084Z"
   },
   {
    "duration": 76,
    "start_time": "2023-01-11T15:45:28.140Z"
   },
   {
    "duration": 5,
    "start_time": "2023-01-11T15:47:17.047Z"
   },
   {
    "duration": 5,
    "start_time": "2023-01-11T15:47:19.344Z"
   },
   {
    "duration": 73,
    "start_time": "2023-01-11T15:51:15.729Z"
   },
   {
    "duration": 4123,
    "start_time": "2023-01-11T16:00:25.917Z"
   },
   {
    "duration": 1220,
    "start_time": "2023-01-11T16:00:30.042Z"
   },
   {
    "duration": 43,
    "start_time": "2023-01-11T16:00:31.264Z"
   },
   {
    "duration": 17,
    "start_time": "2023-01-11T16:00:31.308Z"
   },
   {
    "duration": 40,
    "start_time": "2023-01-11T16:00:31.327Z"
   },
   {
    "duration": 77,
    "start_time": "2023-01-11T16:00:31.369Z"
   },
   {
    "duration": 9,
    "start_time": "2023-01-11T16:00:31.448Z"
   },
   {
    "duration": 193,
    "start_time": "2023-01-11T16:00:31.459Z"
   },
   {
    "duration": 7,
    "start_time": "2023-01-11T16:00:31.654Z"
   },
   {
    "duration": 65,
    "start_time": "2023-01-11T16:00:31.662Z"
   },
   {
    "duration": 27,
    "start_time": "2023-01-11T16:00:31.728Z"
   },
   {
    "duration": 393,
    "start_time": "2023-01-11T16:00:31.756Z"
   },
   {
    "duration": 312,
    "start_time": "2023-01-11T16:00:32.151Z"
   },
   {
    "duration": 18,
    "start_time": "2023-01-11T16:00:32.466Z"
   },
   {
    "duration": 14,
    "start_time": "2023-01-11T16:00:32.489Z"
   },
   {
    "duration": 19,
    "start_time": "2023-01-11T16:00:32.505Z"
   },
   {
    "duration": 7,
    "start_time": "2023-01-11T16:00:32.526Z"
   },
   {
    "duration": 17,
    "start_time": "2023-01-11T16:00:32.535Z"
   },
   {
    "duration": 12,
    "start_time": "2023-01-11T16:00:32.554Z"
   },
   {
    "duration": 26,
    "start_time": "2023-01-11T16:00:32.568Z"
   },
   {
    "duration": 13,
    "start_time": "2023-01-11T16:00:32.596Z"
   },
   {
    "duration": 6,
    "start_time": "2023-01-11T16:00:32.611Z"
   },
   {
    "duration": 11,
    "start_time": "2023-01-11T16:00:32.618Z"
   },
   {
    "duration": 20,
    "start_time": "2023-01-11T16:00:32.631Z"
   },
   {
    "duration": 18,
    "start_time": "2023-01-11T16:00:32.652Z"
   },
   {
    "duration": 31,
    "start_time": "2023-01-11T16:00:32.671Z"
   },
   {
    "duration": 7,
    "start_time": "2023-01-11T16:00:32.704Z"
   },
   {
    "duration": 29,
    "start_time": "2023-01-11T16:00:32.712Z"
   },
   {
    "duration": 13,
    "start_time": "2023-01-11T16:00:32.742Z"
   },
   {
    "duration": 29,
    "start_time": "2023-01-11T16:00:32.756Z"
   },
   {
    "duration": 24,
    "start_time": "2023-01-11T16:00:32.787Z"
   },
   {
    "duration": 178,
    "start_time": "2023-01-11T16:00:32.812Z"
   },
   {
    "duration": 39193,
    "start_time": "2023-01-11T16:00:32.993Z"
   },
   {
    "duration": 57,
    "start_time": "2023-01-11T16:01:12.188Z"
   },
   {
    "duration": 8,
    "start_time": "2023-01-11T16:01:12.246Z"
   },
   {
    "duration": 129,
    "start_time": "2023-01-11T16:01:12.256Z"
   },
   {
    "duration": 39865,
    "start_time": "2023-01-11T16:01:12.387Z"
   },
   {
    "duration": 83,
    "start_time": "2023-01-11T16:01:52.253Z"
   },
   {
    "duration": 10,
    "start_time": "2023-01-11T16:01:52.338Z"
   },
   {
    "duration": 5,
    "start_time": "2023-01-11T16:01:52.350Z"
   },
   {
    "duration": 20,
    "start_time": "2023-01-11T16:01:52.359Z"
   },
   {
    "duration": 50,
    "start_time": "2023-01-11T16:01:52.381Z"
   },
   {
    "duration": 146,
    "start_time": "2023-01-11T16:01:52.437Z"
   },
   {
    "duration": 64062,
    "start_time": "2023-01-11T16:01:52.585Z"
   },
   {
    "duration": 82,
    "start_time": "2023-01-11T16:02:56.649Z"
   },
   {
    "duration": 9,
    "start_time": "2023-01-11T16:02:56.733Z"
   },
   {
    "duration": 50,
    "start_time": "2023-01-11T16:02:56.744Z"
   },
   {
    "duration": 37,
    "start_time": "2023-01-11T16:02:56.796Z"
   },
   {
    "duration": 10,
    "start_time": "2023-01-11T16:02:56.834Z"
   },
   {
    "duration": 227,
    "start_time": "2023-01-11T16:02:56.846Z"
   },
   {
    "duration": 85,
    "start_time": "2023-01-11T16:02:57.078Z"
   }
  ],
  "kernelspec": {
   "display_name": "Python 3 (ipykernel)",
   "language": "python",
   "name": "python3"
  },
  "language_info": {
   "codemirror_mode": {
    "name": "ipython",
    "version": 3
   },
   "file_extension": ".py",
   "mimetype": "text/x-python",
   "name": "python",
   "nbconvert_exporter": "python",
   "pygments_lexer": "ipython3",
   "version": "3.9.13"
  },
  "toc": {
   "base_numbering": 1,
   "nav_menu": {},
   "number_sections": true,
   "sideBar": true,
   "skip_h1_title": true,
   "title_cell": "Содержание",
   "title_sidebar": "Contents",
   "toc_cell": true,
   "toc_position": {
    "height": "calc(100% - 180px)",
    "left": "10px",
    "top": "150px",
    "width": "366.188px"
   },
   "toc_section_display": true,
   "toc_window_display": false
  }
 },
 "nbformat": 4,
 "nbformat_minor": 2
}
