{
 "cells": [
  {
   "cell_type": "markdown",
   "metadata": {},
   "source": [
    "# Определение стоимости автомобилей"
   ]
  },
  {
   "cell_type": "markdown",
   "metadata": {},
   "source": [
    "Сервис по продаже автомобилей с пробегом «Не бит, не крашен» разрабатывает приложение для привлечения новых клиентов. В нём можно быстро узнать рыночную стоимость своего автомобиля. В вашем распоряжении исторические данные: технические характеристики, комплектации и цены автомобилей. Вам нужно построить модель для определения стоимости. \n",
    "\n",
    "Заказчику важны:\n",
    "\n",
    "- качество предсказания;\n",
    "- скорость предсказания;\n",
    "- время обучения."
   ]
  },
  {
   "cell_type": "markdown",
   "metadata": {},
   "source": [
    "- [Подготовка данных](#section_1)\n",
    "- [Обучение моделей](#section_2)\n",
    "-- [Линейная регрессия](#section_2.1)\n",
    "-- [Random Forest](#section_2.2)\n",
    "-- [LightGBM](#section_2.3)\n",
    "-- [CatBoost](#section_2.4)\n",
    "- [Анализ моделей](#section_3)\n",
    "- [Общий вывод](#section_summary)"
   ]
  },
  {
   "cell_type": "markdown",
   "metadata": {},
   "source": [
    "<a id='section_1'></a>\n",
    "## Подготовка данных"
   ]
  },
  {
   "cell_type": "code",
   "execution_count": 1,
   "metadata": {},
   "outputs": [],
   "source": [
    "import pandas as pd\n",
    "import numpy as np\n",
    "import matplotlib.pyplot as plt\n",
    "import seaborn as sns\n",
    "import time\n",
    "\n",
    "from sklearn.metrics import mean_squared_error\n",
    "from sklearn.model_selection import train_test_split\n",
    "from sklearn.ensemble import RandomForestRegressor\n",
    "from sklearn.linear_model import LinearRegression\n",
    "from sklearn.preprocessing import OneHotEncoder, OrdinalEncoder, MinMaxScaler\n",
    "from sklearn.compose import make_column_transformer\n",
    "\n",
    "from lightgbm import LGBMRegressor\n",
    "from catboost import CatBoostRegressor\n",
    "\n",
    "import warnings\n",
    "warnings.filterwarnings('ignore')"
   ]
  },
  {
   "cell_type": "code",
   "execution_count": 2,
   "metadata": {},
   "outputs": [],
   "source": [
    "data = pd.read_csv('/datasets/autos.csv')"
   ]
  },
  {
   "cell_type": "code",
   "execution_count": 3,
   "metadata": {},
   "outputs": [
    {
     "data": {
      "text/html": [
       "<div>\n",
       "<style scoped>\n",
       "    .dataframe tbody tr th:only-of-type {\n",
       "        vertical-align: middle;\n",
       "    }\n",
       "\n",
       "    .dataframe tbody tr th {\n",
       "        vertical-align: top;\n",
       "    }\n",
       "\n",
       "    .dataframe thead th {\n",
       "        text-align: right;\n",
       "    }\n",
       "</style>\n",
       "<table border=\"1\" class=\"dataframe\">\n",
       "  <thead>\n",
       "    <tr style=\"text-align: right;\">\n",
       "      <th></th>\n",
       "      <th>DateCrawled</th>\n",
       "      <th>Price</th>\n",
       "      <th>VehicleType</th>\n",
       "      <th>RegistrationYear</th>\n",
       "      <th>Gearbox</th>\n",
       "      <th>Power</th>\n",
       "      <th>Model</th>\n",
       "      <th>Kilometer</th>\n",
       "      <th>RegistrationMonth</th>\n",
       "      <th>FuelType</th>\n",
       "      <th>Brand</th>\n",
       "      <th>Repaired</th>\n",
       "      <th>DateCreated</th>\n",
       "      <th>NumberOfPictures</th>\n",
       "      <th>PostalCode</th>\n",
       "      <th>LastSeen</th>\n",
       "    </tr>\n",
       "  </thead>\n",
       "  <tbody>\n",
       "    <tr>\n",
       "      <th>0</th>\n",
       "      <td>2016-03-24 11:52:17</td>\n",
       "      <td>480</td>\n",
       "      <td>NaN</td>\n",
       "      <td>1993</td>\n",
       "      <td>manual</td>\n",
       "      <td>0</td>\n",
       "      <td>golf</td>\n",
       "      <td>150000</td>\n",
       "      <td>0</td>\n",
       "      <td>petrol</td>\n",
       "      <td>volkswagen</td>\n",
       "      <td>NaN</td>\n",
       "      <td>2016-03-24 00:00:00</td>\n",
       "      <td>0</td>\n",
       "      <td>70435</td>\n",
       "      <td>2016-04-07 03:16:57</td>\n",
       "    </tr>\n",
       "    <tr>\n",
       "      <th>1</th>\n",
       "      <td>2016-03-24 10:58:45</td>\n",
       "      <td>18300</td>\n",
       "      <td>coupe</td>\n",
       "      <td>2011</td>\n",
       "      <td>manual</td>\n",
       "      <td>190</td>\n",
       "      <td>NaN</td>\n",
       "      <td>125000</td>\n",
       "      <td>5</td>\n",
       "      <td>gasoline</td>\n",
       "      <td>audi</td>\n",
       "      <td>yes</td>\n",
       "      <td>2016-03-24 00:00:00</td>\n",
       "      <td>0</td>\n",
       "      <td>66954</td>\n",
       "      <td>2016-04-07 01:46:50</td>\n",
       "    </tr>\n",
       "    <tr>\n",
       "      <th>2</th>\n",
       "      <td>2016-03-14 12:52:21</td>\n",
       "      <td>9800</td>\n",
       "      <td>suv</td>\n",
       "      <td>2004</td>\n",
       "      <td>auto</td>\n",
       "      <td>163</td>\n",
       "      <td>grand</td>\n",
       "      <td>125000</td>\n",
       "      <td>8</td>\n",
       "      <td>gasoline</td>\n",
       "      <td>jeep</td>\n",
       "      <td>NaN</td>\n",
       "      <td>2016-03-14 00:00:00</td>\n",
       "      <td>0</td>\n",
       "      <td>90480</td>\n",
       "      <td>2016-04-05 12:47:46</td>\n",
       "    </tr>\n",
       "    <tr>\n",
       "      <th>3</th>\n",
       "      <td>2016-03-17 16:54:04</td>\n",
       "      <td>1500</td>\n",
       "      <td>small</td>\n",
       "      <td>2001</td>\n",
       "      <td>manual</td>\n",
       "      <td>75</td>\n",
       "      <td>golf</td>\n",
       "      <td>150000</td>\n",
       "      <td>6</td>\n",
       "      <td>petrol</td>\n",
       "      <td>volkswagen</td>\n",
       "      <td>no</td>\n",
       "      <td>2016-03-17 00:00:00</td>\n",
       "      <td>0</td>\n",
       "      <td>91074</td>\n",
       "      <td>2016-03-17 17:40:17</td>\n",
       "    </tr>\n",
       "    <tr>\n",
       "      <th>4</th>\n",
       "      <td>2016-03-31 17:25:20</td>\n",
       "      <td>3600</td>\n",
       "      <td>small</td>\n",
       "      <td>2008</td>\n",
       "      <td>manual</td>\n",
       "      <td>69</td>\n",
       "      <td>fabia</td>\n",
       "      <td>90000</td>\n",
       "      <td>7</td>\n",
       "      <td>gasoline</td>\n",
       "      <td>skoda</td>\n",
       "      <td>no</td>\n",
       "      <td>2016-03-31 00:00:00</td>\n",
       "      <td>0</td>\n",
       "      <td>60437</td>\n",
       "      <td>2016-04-06 10:17:21</td>\n",
       "    </tr>\n",
       "  </tbody>\n",
       "</table>\n",
       "</div>"
      ],
      "text/plain": [
       "           DateCrawled  Price VehicleType  RegistrationYear Gearbox  Power  \\\n",
       "0  2016-03-24 11:52:17    480         NaN              1993  manual      0   \n",
       "1  2016-03-24 10:58:45  18300       coupe              2011  manual    190   \n",
       "2  2016-03-14 12:52:21   9800         suv              2004    auto    163   \n",
       "3  2016-03-17 16:54:04   1500       small              2001  manual     75   \n",
       "4  2016-03-31 17:25:20   3600       small              2008  manual     69   \n",
       "\n",
       "   Model  Kilometer  RegistrationMonth  FuelType       Brand Repaired  \\\n",
       "0   golf     150000                  0    petrol  volkswagen      NaN   \n",
       "1    NaN     125000                  5  gasoline        audi      yes   \n",
       "2  grand     125000                  8  gasoline        jeep      NaN   \n",
       "3   golf     150000                  6    petrol  volkswagen       no   \n",
       "4  fabia      90000                  7  gasoline       skoda       no   \n",
       "\n",
       "           DateCreated  NumberOfPictures  PostalCode             LastSeen  \n",
       "0  2016-03-24 00:00:00                 0       70435  2016-04-07 03:16:57  \n",
       "1  2016-03-24 00:00:00                 0       66954  2016-04-07 01:46:50  \n",
       "2  2016-03-14 00:00:00                 0       90480  2016-04-05 12:47:46  \n",
       "3  2016-03-17 00:00:00                 0       91074  2016-03-17 17:40:17  \n",
       "4  2016-03-31 00:00:00                 0       60437  2016-04-06 10:17:21  "
      ]
     },
     "execution_count": 3,
     "metadata": {},
     "output_type": "execute_result"
    }
   ],
   "source": [
    "data.head()"
   ]
  },
  {
   "cell_type": "code",
   "execution_count": 4,
   "metadata": {},
   "outputs": [
    {
     "data": {
      "text/plain": [
       "'2016-04-07 14:36:58'"
      ]
     },
     "execution_count": 4,
     "metadata": {},
     "output_type": "execute_result"
    }
   ],
   "source": [
    "# последняя дата выгрузки из базы. Необходима для понимания периода, в котором мы работаем\n",
    "data['DateCrawled'].max()"
   ]
  },
  {
   "cell_type": "code",
   "execution_count": 5,
   "metadata": {},
   "outputs": [],
   "source": [
    "data = data.drop(columns=['DateCrawled', 'NumberOfPictures', 'LastSeen', 'PostalCode'])"
   ]
  },
  {
   "cell_type": "code",
   "execution_count": 6,
   "metadata": {},
   "outputs": [],
   "source": [
    "data.duplicated().sum()\n",
    "data = data.drop_duplicates()"
   ]
  },
  {
   "cell_type": "code",
   "execution_count": 7,
   "metadata": {},
   "outputs": [],
   "source": [
    "data_len = data.shape[0]"
   ]
  },
  {
   "cell_type": "markdown",
   "metadata": {},
   "source": [
    "Первым делом уберем неинформативные признаки, которые не описывают характеристика автомобиля, а именно:\n",
    "\n",
    "**DateCrawled** - дата скачивания анкеты из базы\n",
    "\n",
    "**NumberOfPictures** - количество фотографий автомобиля\n",
    "\n",
    "**LastSeen** - дата последней активности пользователя\n",
    "\n",
    "**PostalCode** — почтовый индекс владельца анкеты (пользователя)\n"
   ]
  },
  {
   "cell_type": "code",
   "execution_count": 8,
   "metadata": {},
   "outputs": [
    {
     "name": "stdout",
     "output_type": "stream",
     "text": [
      "<class 'pandas.core.frame.DataFrame'>\n",
      "Int64Index: 342535 entries, 0 to 354368\n",
      "Data columns (total 12 columns):\n",
      " #   Column             Non-Null Count   Dtype \n",
      "---  ------             --------------   ----- \n",
      " 0   Price              342535 non-null  int64 \n",
      " 1   VehicleType        305693 non-null  object\n",
      " 2   RegistrationYear   342535 non-null  int64 \n",
      " 3   Gearbox            323526 non-null  object\n",
      " 4   Power              342535 non-null  int64 \n",
      " 5   Model              323191 non-null  object\n",
      " 6   Kilometer          342535 non-null  int64 \n",
      " 7   RegistrationMonth  342535 non-null  int64 \n",
      " 8   FuelType           310182 non-null  object\n",
      " 9   Brand              342535 non-null  object\n",
      " 10  Repaired           272904 non-null  object\n",
      " 11  DateCreated        342535 non-null  object\n",
      "dtypes: int64(5), object(7)\n",
      "memory usage: 34.0+ MB\n"
     ]
    }
   ],
   "source": [
    "data.info()"
   ]
  },
  {
   "cell_type": "code",
   "execution_count": 9,
   "metadata": {},
   "outputs": [
    {
     "data": {
      "text/plain": [
       "Price                    0\n",
       "VehicleType          36842\n",
       "RegistrationYear         0\n",
       "Gearbox              19009\n",
       "Power                    0\n",
       "Model                19344\n",
       "Kilometer                0\n",
       "RegistrationMonth        0\n",
       "FuelType             32353\n",
       "Brand                    0\n",
       "Repaired             69631\n",
       "DateCreated              0\n",
       "dtype: int64"
      ]
     },
     "execution_count": 9,
     "metadata": {},
     "output_type": "execute_result"
    }
   ],
   "source": [
    "data.isna().sum()"
   ]
  },
  {
   "cell_type": "code",
   "execution_count": 10,
   "metadata": {},
   "outputs": [
    {
     "data": {
      "text/html": [
       "<div>\n",
       "<style scoped>\n",
       "    .dataframe tbody tr th:only-of-type {\n",
       "        vertical-align: middle;\n",
       "    }\n",
       "\n",
       "    .dataframe tbody tr th {\n",
       "        vertical-align: top;\n",
       "    }\n",
       "\n",
       "    .dataframe thead th {\n",
       "        text-align: right;\n",
       "    }\n",
       "</style>\n",
       "<table border=\"1\" class=\"dataframe\">\n",
       "  <thead>\n",
       "    <tr style=\"text-align: right;\">\n",
       "      <th></th>\n",
       "      <th>Price</th>\n",
       "      <th>RegistrationYear</th>\n",
       "      <th>Power</th>\n",
       "      <th>Kilometer</th>\n",
       "      <th>RegistrationMonth</th>\n",
       "    </tr>\n",
       "  </thead>\n",
       "  <tbody>\n",
       "    <tr>\n",
       "      <th>count</th>\n",
       "      <td>342535.000000</td>\n",
       "      <td>342535.000000</td>\n",
       "      <td>342535.000000</td>\n",
       "      <td>342535.000000</td>\n",
       "      <td>342535.000000</td>\n",
       "    </tr>\n",
       "    <tr>\n",
       "      <th>mean</th>\n",
       "      <td>4397.944549</td>\n",
       "      <td>2004.224704</td>\n",
       "      <td>109.971717</td>\n",
       "      <td>128226.239654</td>\n",
       "      <td>5.699803</td>\n",
       "    </tr>\n",
       "    <tr>\n",
       "      <th>std</th>\n",
       "      <td>4511.488765</td>\n",
       "      <td>91.122800</td>\n",
       "      <td>191.863810</td>\n",
       "      <td>37926.776381</td>\n",
       "      <td>3.729032</td>\n",
       "    </tr>\n",
       "    <tr>\n",
       "      <th>min</th>\n",
       "      <td>0.000000</td>\n",
       "      <td>1000.000000</td>\n",
       "      <td>0.000000</td>\n",
       "      <td>5000.000000</td>\n",
       "      <td>0.000000</td>\n",
       "    </tr>\n",
       "    <tr>\n",
       "      <th>25%</th>\n",
       "      <td>1000.000000</td>\n",
       "      <td>1999.000000</td>\n",
       "      <td>68.000000</td>\n",
       "      <td>125000.000000</td>\n",
       "      <td>3.000000</td>\n",
       "    </tr>\n",
       "    <tr>\n",
       "      <th>50%</th>\n",
       "      <td>2700.000000</td>\n",
       "      <td>2003.000000</td>\n",
       "      <td>104.000000</td>\n",
       "      <td>150000.000000</td>\n",
       "      <td>6.000000</td>\n",
       "    </tr>\n",
       "    <tr>\n",
       "      <th>75%</th>\n",
       "      <td>6350.000000</td>\n",
       "      <td>2008.000000</td>\n",
       "      <td>141.000000</td>\n",
       "      <td>150000.000000</td>\n",
       "      <td>9.000000</td>\n",
       "    </tr>\n",
       "    <tr>\n",
       "      <th>max</th>\n",
       "      <td>20000.000000</td>\n",
       "      <td>9999.000000</td>\n",
       "      <td>20000.000000</td>\n",
       "      <td>150000.000000</td>\n",
       "      <td>12.000000</td>\n",
       "    </tr>\n",
       "  </tbody>\n",
       "</table>\n",
       "</div>"
      ],
      "text/plain": [
       "               Price  RegistrationYear          Power      Kilometer  \\\n",
       "count  342535.000000     342535.000000  342535.000000  342535.000000   \n",
       "mean     4397.944549       2004.224704     109.971717  128226.239654   \n",
       "std      4511.488765         91.122800     191.863810   37926.776381   \n",
       "min         0.000000       1000.000000       0.000000    5000.000000   \n",
       "25%      1000.000000       1999.000000      68.000000  125000.000000   \n",
       "50%      2700.000000       2003.000000     104.000000  150000.000000   \n",
       "75%      6350.000000       2008.000000     141.000000  150000.000000   \n",
       "max     20000.000000       9999.000000   20000.000000  150000.000000   \n",
       "\n",
       "       RegistrationMonth  \n",
       "count      342535.000000  \n",
       "mean            5.699803  \n",
       "std             3.729032  \n",
       "min             0.000000  \n",
       "25%             3.000000  \n",
       "50%             6.000000  \n",
       "75%             9.000000  \n",
       "max            12.000000  "
      ]
     },
     "execution_count": 10,
     "metadata": {},
     "output_type": "execute_result"
    }
   ],
   "source": [
    "data.describe()"
   ]
  },
  {
   "cell_type": "markdown",
   "metadata": {},
   "source": [
    "Далее поработаем с признаками, относящимся в времени. **RegistrationYear** и **RegistrationMonth**, по сути, это один признак. Однако сами по себе эти признаки не кажется информативными. Но есть вычесть из признака **DateCreated** дату регистрации объявления, то мы получим возраст автомобиля, после чего перечисленные выше признаки нам уже не нужны."
   ]
  },
  {
   "cell_type": "code",
   "execution_count": 11,
   "metadata": {},
   "outputs": [
    {
     "data": {
      "text/plain": [
       "count    342535.000000\n",
       "mean       2004.224704\n",
       "std          91.122800\n",
       "min        1000.000000\n",
       "25%        1999.000000\n",
       "50%        2003.000000\n",
       "75%        2008.000000\n",
       "max        9999.000000\n",
       "Name: RegistrationYear, dtype: float64"
      ]
     },
     "execution_count": 11,
     "metadata": {},
     "output_type": "execute_result"
    }
   ],
   "source": [
    "data['RegistrationYear'].describe()"
   ]
  },
  {
   "cell_type": "code",
   "execution_count": 12,
   "metadata": {},
   "outputs": [
    {
     "data": {
      "text/plain": [
       "<AxesSubplot:>"
      ]
     },
     "execution_count": 12,
     "metadata": {},
     "output_type": "execute_result"
    },
    {
     "data": {
      "image/png": "[encoded data removed]",
      "text/plain": [
       "<Figure size 1152x576 with 1 Axes>"
      ]
     },
     "metadata": {
      "needs_background": "light"
     },
     "output_type": "display_data"
    }
   ],
   "source": [
    "plt.figure(figsize=(16, 8))\n",
    "data['RegistrationYear'].hist(bins=100, range=(1900, 2100))"
   ]
  },
  {
   "cell_type": "code",
   "execution_count": 13,
   "metadata": {},
   "outputs": [
    {
     "data": {
      "text/plain": [
       "0.9485220488417242"
      ]
     },
     "execution_count": 13,
     "metadata": {},
     "output_type": "execute_result"
    }
   ],
   "source": [
    "data.loc[(data['RegistrationYear'] >= 1980) & (data['RegistrationYear'] <= 2016)].shape[0] / data_len"
   ]
  },
  {
   "cell_type": "markdown",
   "metadata": {},
   "source": [
    "Машина не может быть зарегестрирована позже, чем текущая выгрузка из базы, берем верхнуюю границу по 2016 год включительно. В качестве нижней границы выбран 1980 год, чтобы оставить ~95% от датасета. Остальные наблюдения считаем выбросами и удаляем.\n",
    "\n",
    "P.S. Конечно, мы рискуем удалить какой-нибудь реальный раритетный автомобиль более старого года выпуска, но это приложение работает на широкую аудиторию с более обычными вариантами авто. "
   ]
  },
  {
   "cell_type": "code",
   "execution_count": 14,
   "metadata": {},
   "outputs": [],
   "source": [
    "data = data.loc[(data['RegistrationYear'] >= 1980) & (data['RegistrationYear'] <= 2016)]"
   ]
  },
  {
   "cell_type": "code",
   "execution_count": 15,
   "metadata": {},
   "outputs": [
    {
     "data": {
      "text/plain": [
       "0     32256\n",
       "3     31777\n",
       "6     29053\n",
       "4     27063\n",
       "5     26890\n",
       "7     24965\n",
       "10    24140\n",
       "12    22490\n",
       "11    22330\n",
       "9     22049\n",
       "1     21356\n",
       "8     20871\n",
       "2     19662\n",
       "Name: RegistrationMonth, dtype: int64"
      ]
     },
     "execution_count": 15,
     "metadata": {},
     "output_type": "execute_result"
    }
   ],
   "source": [
    "data['RegistrationMonth'].value_counts()"
   ]
  },
  {
   "cell_type": "code",
   "execution_count": 16,
   "metadata": {},
   "outputs": [
    {
     "data": {
      "text/plain": [
       "<seaborn.axisgrid.FacetGrid at 0x7f75381dcca0>"
      ]
     },
     "execution_count": 16,
     "metadata": {},
     "output_type": "execute_result"
    },
    {
     "data": {
      "image/png": "[encoded data removed]",
      "text/plain": [
       "<Figure size 360x360 with 1 Axes>"
      ]
     },
     "metadata": {
      "needs_background": "light"
     },
     "output_type": "display_data"
    }
   ],
   "source": [
    "sns.displot(data['RegistrationMonth'], kind='hist')"
   ]
  },
  {
   "cell_type": "markdown",
   "metadata": {},
   "source": [
    "У нас получилось 13 месяцев. Будум считать, что значение 0 - это если в базе месяц попросту не указан, заполним каким-нибудь"
   ]
  },
  {
   "cell_type": "code",
   "execution_count": 17,
   "metadata": {},
   "outputs": [],
   "source": [
    "#data.loc[data['RegistrationMonth'] == 0, 'RegistrationMonth'] = 7\n"
   ]
  },
  {
   "cell_type": "code",
   "execution_count": 18,
   "metadata": {},
   "outputs": [
    {
     "data": {
      "text/plain": [
       "(1     0.072976\n",
       " 2     0.067187\n",
       " 3     0.108585\n",
       " 4     0.092477\n",
       " 5     0.091886\n",
       " 6     0.099277\n",
       " 7     0.085308\n",
       " 8     0.071318\n",
       " 9     0.075344\n",
       " 10    0.082489\n",
       " 11    0.076304\n",
       " 12    0.076851\n",
       " Name: RegistrationMonth, dtype: float64,\n",
       " 1.0)"
      ]
     },
     "execution_count": 18,
     "metadata": {},
     "output_type": "execute_result"
    }
   ],
   "source": [
    "probs = data.loc[data['RegistrationMonth']!=0, 'RegistrationMonth'].value_counts().sort_index() \\\n",
    "                                    / data.loc[data['RegistrationMonth']!=0].shape[0]\n",
    "probs, probs.sum()"
   ]
  },
  {
   "cell_type": "code",
   "execution_count": 19,
   "metadata": {},
   "outputs": [],
   "source": [
    "M = data.loc[data['RegistrationMonth']==0].shape[0]\n",
    "res = np.random.choice(range(1, 13), size=M, p=probs)"
   ]
  },
  {
   "cell_type": "code",
   "execution_count": 20,
   "metadata": {},
   "outputs": [],
   "source": [
    "data.loc[data['RegistrationMonth']==0, 'RegistrationMonth'] = res"
   ]
  },
  {
   "cell_type": "code",
   "execution_count": 21,
   "metadata": {},
   "outputs": [
    {
     "data": {
      "text/plain": [
       "<seaborn.axisgrid.FacetGrid at 0x7f74a6589df0>"
      ]
     },
     "execution_count": 21,
     "metadata": {},
     "output_type": "execute_result"
    },
    {
     "data": {
      "image/png": "[encoded data removed]",
      "text/plain": [
       "<Figure size 360x360 with 1 Axes>"
      ]
     },
     "metadata": {
      "needs_background": "light"
     },
     "output_type": "display_data"
    }
   ],
   "source": [
    "sns.displot(data['RegistrationMonth'], kind='hist')"
   ]
  },
  {
   "cell_type": "code",
   "execution_count": 22,
   "metadata": {},
   "outputs": [],
   "source": [
    "data['CarAge'] = (pd.to_datetime(data['DateCreated']) - pd.to_datetime(data['RegistrationYear'].astype('str') + ' ' + \n",
    "                                                                       data['RegistrationMonth'].astype('str'),\n",
    "                                                                       format='%Y %m')) / np.timedelta64 ( 1 , 'M') \n",
    "\n"
   ]
  },
  {
   "cell_type": "code",
   "execution_count": 23,
   "metadata": {},
   "outputs": [
    {
     "data": {
      "text/plain": [
       "<AxesSubplot:>"
      ]
     },
     "execution_count": 23,
     "metadata": {},
     "output_type": "execute_result"
    },
    {
     "data": {
      "image/png": "[encoded data removed]",
      "text/plain": [
       "<Figure size 432x288 with 1 Axes>"
      ]
     },
     "metadata": {
      "needs_background": "light"
     },
     "output_type": "display_data"
    }
   ],
   "source": [
    "data['CarAge'].hist(bins=50)"
   ]
  },
  {
   "cell_type": "code",
   "execution_count": 24,
   "metadata": {},
   "outputs": [],
   "source": [
    "data = data.drop(columns=['RegistrationMonth', 'RegistrationYear', 'DateCreated'])"
   ]
  },
  {
   "cell_type": "markdown",
   "metadata": {},
   "source": [
    "Далее нам нужно посмотреть пропуски в **VehicleType**, **Gearbox**, **Model**, **FuelType**, **Repaired**"
   ]
  },
  {
   "cell_type": "code",
   "execution_count": 25,
   "metadata": {},
   "outputs": [
    {
     "data": {
      "text/plain": [
       "sedan          86866\n",
       "small          76916\n",
       "wagon          62584\n",
       "bus            27740\n",
       "convertible    19093\n",
       "coupe          15109\n",
       "suv            11347\n",
       "other           3068\n",
       "Name: VehicleType, dtype: int64"
      ]
     },
     "execution_count": 25,
     "metadata": {},
     "output_type": "execute_result"
    }
   ],
   "source": [
    "data['VehicleType'].value_counts()"
   ]
  },
  {
   "cell_type": "code",
   "execution_count": 26,
   "metadata": {},
   "outputs": [
    {
     "data": {
      "text/plain": [
       "289309"
      ]
     },
     "execution_count": 26,
     "metadata": {},
     "output_type": "execute_result"
    }
   ],
   "source": [
    "data.loc[(~data['Model'].isna()) & (~data['VehicleType'].isna()), ['VehicleType', 'Model', 'Brand']].duplicated().sum()"
   ]
  },
  {
   "cell_type": "code",
   "execution_count": 27,
   "metadata": {},
   "outputs": [
    {
     "data": {
      "text/plain": [
       "872106"
      ]
     },
     "execution_count": 27,
     "metadata": {},
     "output_type": "execute_result"
    }
   ],
   "source": [
    "data.loc[(~data['Model'].isna()) & (~data['VehicleType'].isna()), ['VehicleType', 'Model', 'Brand']].size"
   ]
  },
  {
   "cell_type": "markdown",
   "metadata": {},
   "source": [
    "Восстановить VehicleType по модели и бренду не получится, придется заполнять другим способом. Предлагаю выделить в отдельную категорию unknown"
   ]
  },
  {
   "cell_type": "code",
   "execution_count": 28,
   "metadata": {},
   "outputs": [],
   "source": [
    "data['VehicleType'].fillna('unknown', inplace=True)"
   ]
  },
  {
   "cell_type": "code",
   "execution_count": 29,
   "metadata": {},
   "outputs": [
    {
     "data": {
      "text/plain": [
       "manual    247088\n",
       "auto       61380\n",
       "Name: Gearbox, dtype: int64"
      ]
     },
     "execution_count": 29,
     "metadata": {},
     "output_type": "execute_result"
    }
   ],
   "source": [
    "data['Gearbox'].value_counts()"
   ]
  },
  {
   "cell_type": "markdown",
   "metadata": {},
   "source": [
    "Ручная коробка встречается намного чаще, заполним ей"
   ]
  },
  {
   "cell_type": "code",
   "execution_count": 30,
   "metadata": {},
   "outputs": [],
   "source": [
    "data['Gearbox'].fillna('manual', inplace=True)"
   ]
  },
  {
   "cell_type": "code",
   "execution_count": 31,
   "metadata": {},
   "outputs": [],
   "source": [
    "data['Model'].fillna('unknown', inplace=True)"
   ]
  },
  {
   "cell_type": "code",
   "execution_count": 32,
   "metadata": {},
   "outputs": [
    {
     "data": {
      "text/plain": [
       "petrol      200877\n",
       "gasoline     91960\n",
       "lpg           4942\n",
       "cng            529\n",
       "hybrid         218\n",
       "other          164\n",
       "electric        87\n",
       "Name: FuelType, dtype: int64"
      ]
     },
     "execution_count": 32,
     "metadata": {},
     "output_type": "execute_result"
    }
   ],
   "source": [
    "data['FuelType'].value_counts()"
   ]
  },
  {
   "cell_type": "code",
   "execution_count": 33,
   "metadata": {},
   "outputs": [],
   "source": [
    "data['FuelType'].fillna('petrol', inplace=True)"
   ]
  },
  {
   "cell_type": "code",
   "execution_count": 34,
   "metadata": {},
   "outputs": [],
   "source": [
    "data['Repaired'].fillna('unknown', inplace=True)"
   ]
  },
  {
   "cell_type": "markdown",
   "metadata": {},
   "source": [
    "Заполнили пропуски модой или новой категорией"
   ]
  },
  {
   "cell_type": "code",
   "execution_count": 35,
   "metadata": {},
   "outputs": [
    {
     "data": {
      "image/png": "[encoded data removed]",
      "text/plain": [
       "<Figure size 1152x432 with 1 Axes>"
      ]
     },
     "metadata": {
      "needs_background": "light"
     },
     "output_type": "display_data"
    }
   ],
   "source": [
    "plt.figure(figsize=(16,6))\n",
    "data['Power'].hist(bins=150, range=(0, 1500))\n",
    "plt.show()"
   ]
  },
  {
   "cell_type": "markdown",
   "metadata": {},
   "source": [
    "Нас, очевидно. смущают нулевые значения. Кроме того, есть выбросы справа, которые не объясняются опечаткой (например, лишний ноль в конце), это именно ошибки которые не исправить. Оставляем наблюдения в диапазоне от 20 до 450 (диапазон выбран, исходя беглого поиска реальных машин и их мощности. При этом нулевые значения заполняем медианой по бренду."
   ]
  },
  {
   "cell_type": "code",
   "execution_count": 36,
   "metadata": {},
   "outputs": [],
   "source": [
    "#data = data.loc[(data['Power']<=450) & (data['Power']>=20)]\n",
    "data = data.loc[(data['Power']<=450)]"
   ]
  },
  {
   "cell_type": "code",
   "execution_count": 37,
   "metadata": {},
   "outputs": [],
   "source": [
    "data.loc[data['Power']==0, 'Power'] = np.nan\n",
    "data['Power'] = data['Power'].fillna(data.groupby('Brand')['Power'].median())"
   ]
  },
  {
   "cell_type": "code",
   "execution_count": 38,
   "metadata": {},
   "outputs": [
    {
     "data": {
      "image/png": "[encoded data removed]",
      "text/plain": [
       "<Figure size 1152x432 with 1 Axes>"
      ]
     },
     "metadata": {
      "needs_background": "light"
     },
     "output_type": "display_data"
    }
   ],
   "source": [
    "plt.figure(figsize=(16,6))\n",
    "data['Power'].hist(bins=150, range=(0, 1500))\n",
    "plt.show()"
   ]
  },
  {
   "cell_type": "code",
   "execution_count": 39,
   "metadata": {},
   "outputs": [],
   "source": [
    "data = data.loc[data['Power']>20]"
   ]
  },
  {
   "cell_type": "code",
   "execution_count": 40,
   "metadata": {},
   "outputs": [
    {
     "data": {
      "text/plain": [
       "<seaborn.axisgrid.FacetGrid at 0x7f74a61acf70>"
      ]
     },
     "execution_count": 40,
     "metadata": {},
     "output_type": "execute_result"
    },
    {
     "data": {
      "image/png": "[encoded data removed]",
      "text/plain": [
       "<Figure size 864x432 with 1 Axes>"
      ]
     },
     "metadata": {
      "needs_background": "light"
     },
     "output_type": "display_data"
    }
   ],
   "source": [
    "sns.displot(data['Price'], height=6, aspect=2)"
   ]
  },
  {
   "cell_type": "markdown",
   "metadata": {},
   "source": [
    "**Price** - это наша целевая переменная, менять её по своему усмотрению мы не можем. Удалим наблюдения ниже 50$. То что будет чуть выше данной отметки будем считать металлоломом или продажей на запчасти."
   ]
  },
  {
   "cell_type": "code",
   "execution_count": 41,
   "metadata": {},
   "outputs": [],
   "source": [
    "data = data.loc[data['Price']>50]"
   ]
  },
  {
   "cell_type": "code",
   "execution_count": 42,
   "metadata": {},
   "outputs": [
    {
     "data": {
      "text/plain": [
       "0.8256149006670851"
      ]
     },
     "execution_count": 42,
     "metadata": {},
     "output_type": "execute_result"
    }
   ],
   "source": [
    "data.shape[0] / data_len"
   ]
  },
  {
   "cell_type": "markdown",
   "metadata": {},
   "source": [
    "**Вывод**\n",
    "\n",
    "Мы ознакомились с датасетом, избавились от пропусков, дубликатов и выбросов, добавили новый признак **Age**.\n",
    "\n",
    "В результате манипуляций у нас осталось 82% от изходного количества наблюдений."
   ]
  },
  {
   "cell_type": "markdown",
   "metadata": {},
   "source": [
    "<a id='section_2'></a>\n",
    "## Обучение моделей"
   ]
  },
  {
   "cell_type": "markdown",
   "metadata": {},
   "source": [
    "Мы будем обучать разные модели, в том числе те, которые не умеют работать с категориальными переменными \"из коробки\", поэтому нужно обработать данные"
   ]
  },
  {
   "cell_type": "code",
   "execution_count": 43,
   "metadata": {},
   "outputs": [],
   "source": [
    "categorical = data.select_dtypes('object').columns"
   ]
  },
  {
   "cell_type": "code",
   "execution_count": 44,
   "metadata": {},
   "outputs": [
    {
     "name": "stdout",
     "output_type": "stream",
     "text": [
      "VehicleType  9\n",
      "Gearbox  2\n",
      "Model  249\n",
      "FuelType  7\n",
      "Brand  40\n",
      "Repaired  3\n"
     ]
    }
   ],
   "source": [
    "for column in categorical:\n",
    "    print(column + ' ', data[column].unique().size)"
   ]
  },
  {
   "cell_type": "markdown",
   "metadata": {},
   "source": [
    "Для признаков Model и Brand слишком много уникальных значений, чтобы использовать OHE."
   ]
  },
  {
   "cell_type": "code",
   "execution_count": 45,
   "metadata": {},
   "outputs": [],
   "source": [
    "X = data.drop('Price', axis=1)\n",
    "y= data['Price']"
   ]
  },
  {
   "cell_type": "code",
   "execution_count": 46,
   "metadata": {},
   "outputs": [
    {
     "data": {
      "text/plain": [
       "((169681, 9), (56560, 9), (56561, 9))"
      ]
     },
     "execution_count": 46,
     "metadata": {},
     "output_type": "execute_result"
    }
   ],
   "source": [
    "X_train, X_valid, y_train, y_valid = train_test_split(X, y, test_size=0.4, random_state=1)\n",
    "X_valid, X_test, y_valid, y_test = train_test_split(X_valid, y_valid, test_size=0.5, random_state=1)\n",
    "\n",
    "X_train.shape, X_valid.shape, X_test.shape"
   ]
  },
  {
   "cell_type": "code",
   "execution_count": 47,
   "metadata": {},
   "outputs": [],
   "source": [
    "cols_to_scale = ['Power', 'Model', 'Kilometer', 'Brand', 'CarAge']\n",
    "cols_to_ohe = ['VehicleType', 'Gearbox', 'FuelType', 'Repaired']\n",
    "cols_to_ord = ['Model', 'Brand']"
   ]
  },
  {
   "cell_type": "code",
   "execution_count": 48,
   "metadata": {},
   "outputs": [],
   "source": [
    "transformer = make_column_transformer((OneHotEncoder(handle_unknown='ignore'), cols_to_ohe),\n",
    "                                      remainder='passthrough')"
   ]
  },
  {
   "cell_type": "code",
   "execution_count": 49,
   "metadata": {},
   "outputs": [],
   "source": [
    "transformer.fit(X_train)\n",
    "\n",
    "X_train = pd.DataFrame(transformer.transform(X_train), columns=transformer.get_feature_names())\n",
    "X_valid = pd.DataFrame(transformer.transform(X_valid), columns=transformer.get_feature_names())\n",
    "X_test = pd.DataFrame(transformer.transform(X_test), columns=transformer.get_feature_names())"
   ]
  },
  {
   "cell_type": "code",
   "execution_count": 50,
   "metadata": {},
   "outputs": [],
   "source": [
    "ordinal_encoder = OrdinalEncoder(handle_unknown='ignore')\n",
    "\n",
    "X_train[cols_to_ord] = ordinal_encoder.fit_transform(X_train[cols_to_ord])\n",
    "X_valid[cols_to_ord] = ordinal_encoder.transform(X_valid[cols_to_ord])\n",
    "X_test[cols_to_ord] = ordinal_encoder.transform(X_test[cols_to_ord])"
   ]
  },
  {
   "cell_type": "code",
   "execution_count": 51,
   "metadata": {},
   "outputs": [],
   "source": [
    "scaler = MinMaxScaler()\n",
    "\n",
    "X_train[cols_to_scale] = scaler.fit_transform(X_train[cols_to_scale])\n",
    "X_valid[cols_to_scale] = scaler.transform(X_valid[cols_to_scale])\n",
    "X_test[cols_to_scale] = scaler.transform(X_test[cols_to_scale])"
   ]
  },
  {
   "cell_type": "code",
   "execution_count": 52,
   "metadata": {},
   "outputs": [],
   "source": [
    "X_train = X_train.astype('float')\n",
    "X_valid = X_valid.astype('float')\n",
    "X_test = X_test.astype('float')"
   ]
  },
  {
   "cell_type": "markdown",
   "metadata": {},
   "source": [
    "**Промежуточный вывод**\n",
    "\n",
    "Мы подготовили данные для работы с различными алгоритмами: провели кодирование категориальных переменных, отмасштабировали данные.\n",
    "\n",
    "Данные разбиты на три выборки: обучающая, валидационная и тестовая. Тестовую будем использовать для проверки наиболее перспективной модели"
   ]
  },
  {
   "cell_type": "markdown",
   "metadata": {},
   "source": [
    "<a id='section_2.1'></a>\n",
    "### Линейная регрессия"
   ]
  },
  {
   "cell_type": "code",
   "execution_count": 53,
   "metadata": {},
   "outputs": [],
   "source": [
    "linear_model = LinearRegression()"
   ]
  },
  {
   "cell_type": "code",
   "execution_count": 54,
   "metadata": {},
   "outputs": [],
   "source": [
    "time_fit = time.time()\n",
    "linear_model.fit(X_train, y_train)\n",
    "time_fit = time.time() - time_fit"
   ]
  },
  {
   "cell_type": "code",
   "execution_count": 55,
   "metadata": {},
   "outputs": [],
   "source": [
    "time_pred = time.time()\n",
    "linear_model_pred = linear_model.predict(X_valid)\n",
    "time_pred = time.time() - time_pred"
   ]
  },
  {
   "cell_type": "code",
   "execution_count": 56,
   "metadata": {},
   "outputs": [],
   "source": [
    "report = {}\n",
    "report['Линейная регрессия'] = [time_fit, time_pred, mean_squared_error(y_valid, linear_model_pred, squared=False)]"
   ]
  },
  {
   "cell_type": "markdown",
   "metadata": {},
   "source": [
    "<a id='section_2.2'></a>\n",
    "### Random Forest"
   ]
  },
  {
   "cell_type": "code",
   "execution_count": 57,
   "metadata": {},
   "outputs": [],
   "source": [
    "def fit_model(estimator, params, model_name, verbose=0):\n",
    "    for depth in params['max_depth']:\n",
    "        for n_estimators in params['n_estimators']:\n",
    "            model = estimator(max_depth=depth,\n",
    "                              n_estimators=n_estimators,\n",
    "                              random_state=1,\n",
    "                              verbose=verbose)\n",
    "            \n",
    "            time_fit = time.time()\n",
    "            model.fit(X_train, y_train)\n",
    "            time_fit = time.time() - time_fit\n",
    "            \n",
    "            time_pred = time.time()\n",
    "            pred = model.predict(X_valid)\n",
    "            time_pred = time.time() - time_pred\n",
    "            \n",
    "            rmse_score = mean_squared_error(y_valid, pred, squared=False)\n",
    "            \n",
    "            text = f'{model_name} max_depth: {depth}, n_estimators: {n_estimators}'\n",
    "            report[text] = [time_fit, time_pred, rmse_score]\n",
    "            print(text + ': Score: ' + str(rmse_score))"
   ]
  },
  {
   "cell_type": "code",
   "execution_count": 58,
   "metadata": {},
   "outputs": [],
   "source": [
    "params = {'max_depth': [4, 8, 12],\n",
    "          'n_estimators': [50, 100, 150]}"
   ]
  },
  {
   "cell_type": "code",
   "execution_count": 59,
   "metadata": {},
   "outputs": [
    {
     "name": "stdout",
     "output_type": "stream",
     "text": [
      "RandomForest max_depth: 4, n_estimators: 50: Score: 2481.852920581253\n",
      "RandomForest max_depth: 4, n_estimators: 100: Score: 2485.691350935989\n",
      "RandomForest max_depth: 4, n_estimators: 150: Score: 2485.415342420286\n",
      "RandomForest max_depth: 8, n_estimators: 50: Score: 1968.4472959414104\n",
      "RandomForest max_depth: 8, n_estimators: 100: Score: 1967.816618405089\n",
      "RandomForest max_depth: 8, n_estimators: 150: Score: 1968.3224376238054\n",
      "RandomForest max_depth: 12, n_estimators: 50: Score: 1697.3675753299544\n",
      "RandomForest max_depth: 12, n_estimators: 100: Score: 1695.1100997275232\n",
      "RandomForest max_depth: 12, n_estimators: 150: Score: 1694.498906151959\n"
     ]
    }
   ],
   "source": [
    "fit_model(RandomForestRegressor, params, 'RandomForest')"
   ]
  },
  {
   "cell_type": "markdown",
   "metadata": {},
   "source": [
    "<a id='section_2.3'></a>\n",
    "### LightGBM"
   ]
  },
  {
   "cell_type": "code",
   "execution_count": 60,
   "metadata": {},
   "outputs": [
    {
     "name": "stdout",
     "output_type": "stream",
     "text": [
      "LGBMRegressor max_depth: 4, n_estimators: 50: Score: 1853.88901531749\n",
      "LGBMRegressor max_depth: 4, n_estimators: 100: Score: 1739.288820606051\n",
      "LGBMRegressor max_depth: 4, n_estimators: 150: Score: 1687.2491212131124\n",
      "LGBMRegressor max_depth: 8, n_estimators: 50: Score: 1713.2324341879746\n",
      "LGBMRegressor max_depth: 8, n_estimators: 100: Score: 1626.5455812180815\n",
      "LGBMRegressor max_depth: 8, n_estimators: 150: Score: 1596.3965619719397\n",
      "LGBMRegressor max_depth: 12, n_estimators: 50: Score: 1708.0172626899948\n",
      "LGBMRegressor max_depth: 12, n_estimators: 100: Score: 1625.0464816814174\n",
      "LGBMRegressor max_depth: 12, n_estimators: 150: Score: 1590.7085334164337\n"
     ]
    }
   ],
   "source": [
    "fit_model(LGBMRegressor, params, 'LGBMRegressor', verbose=-1)"
   ]
  },
  {
   "cell_type": "markdown",
   "metadata": {},
   "source": [
    "<a id='section_2.4'></a>\n",
    "### CatBoost"
   ]
  },
  {
   "cell_type": "code",
   "execution_count": 61,
   "metadata": {},
   "outputs": [
    {
     "name": "stdout",
     "output_type": "stream",
     "text": [
      "CatBoostRegressor max_depth: 4, n_estimators: 50: Score: 1739.2815640222989\n",
      "CatBoostRegressor max_depth: 4, n_estimators: 100: Score: 1663.226036201329\n",
      "CatBoostRegressor max_depth: 4, n_estimators: 150: Score: 1638.035062666773\n",
      "CatBoostRegressor max_depth: 8, n_estimators: 50: Score: 1619.3403730316447\n",
      "CatBoostRegressor max_depth: 8, n_estimators: 100: Score: 1562.1193123861547\n",
      "CatBoostRegressor max_depth: 8, n_estimators: 150: Score: 1544.4461843954293\n",
      "CatBoostRegressor max_depth: 12, n_estimators: 50: Score: 1562.0955398174474\n",
      "CatBoostRegressor max_depth: 12, n_estimators: 100: Score: 1534.3798551935613\n",
      "CatBoostRegressor max_depth: 12, n_estimators: 150: Score: 1518.1876130289525\n"
     ]
    }
   ],
   "source": [
    "fit_model(CatBoostRegressor, params, 'CatBoostRegressor')"
   ]
  },
  {
   "cell_type": "markdown",
   "metadata": {},
   "source": [
    "**Вывод**\n",
    "\n",
    "Мы обучили одну линейную модель, одну модель случайного леса и две модели градиентного бустинга. Для моделей, основанных на деревьях, попробованы несколько наборов гиперпараметров."
   ]
  },
  {
   "cell_type": "markdown",
   "metadata": {},
   "source": [
    "<a id='section_3'></a>\n",
    "## Анализ моделей"
   ]
  },
  {
   "cell_type": "code",
   "execution_count": 62,
   "metadata": {},
   "outputs": [],
   "source": [
    "result = pd.DataFrame(data=report.values(), \n",
    "                      index=report.keys(),\n",
    "                      columns=['Время обучения', 'Время предсказания', 'RMSE']).sort_values(['RMSE'])"
   ]
  },
  {
   "cell_type": "code",
   "execution_count": 63,
   "metadata": {},
   "outputs": [
    {
     "data": {
      "text/html": [
       "<div>\n",
       "<style scoped>\n",
       "    .dataframe tbody tr th:only-of-type {\n",
       "        vertical-align: middle;\n",
       "    }\n",
       "\n",
       "    .dataframe tbody tr th {\n",
       "        vertical-align: top;\n",
       "    }\n",
       "\n",
       "    .dataframe thead th {\n",
       "        text-align: right;\n",
       "    }\n",
       "</style>\n",
       "<table border=\"1\" class=\"dataframe\">\n",
       "  <thead>\n",
       "    <tr style=\"text-align: right;\">\n",
       "      <th></th>\n",
       "      <th>Время обучения</th>\n",
       "      <th>Время предсказания</th>\n",
       "      <th>RMSE</th>\n",
       "    </tr>\n",
       "  </thead>\n",
       "  <tbody>\n",
       "    <tr>\n",
       "      <th>CatBoostRegressor max_depth: 12, n_estimators: 150</th>\n",
       "      <td>13.161823</td>\n",
       "      <td>0.040478</td>\n",
       "      <td>1518.187613</td>\n",
       "    </tr>\n",
       "    <tr>\n",
       "      <th>CatBoostRegressor max_depth: 12, n_estimators: 100</th>\n",
       "      <td>9.559294</td>\n",
       "      <td>0.029609</td>\n",
       "      <td>1534.379855</td>\n",
       "    </tr>\n",
       "    <tr>\n",
       "      <th>CatBoostRegressor max_depth: 8, n_estimators: 150</th>\n",
       "      <td>4.922008</td>\n",
       "      <td>0.015703</td>\n",
       "      <td>1544.446184</td>\n",
       "    </tr>\n",
       "    <tr>\n",
       "      <th>CatBoostRegressor max_depth: 12, n_estimators: 50</th>\n",
       "      <td>4.819582</td>\n",
       "      <td>0.020334</td>\n",
       "      <td>1562.095540</td>\n",
       "    </tr>\n",
       "    <tr>\n",
       "      <th>CatBoostRegressor max_depth: 8, n_estimators: 100</th>\n",
       "      <td>3.893630</td>\n",
       "      <td>0.013186</td>\n",
       "      <td>1562.119312</td>\n",
       "    </tr>\n",
       "    <tr>\n",
       "      <th>LGBMRegressor max_depth: 12, n_estimators: 150</th>\n",
       "      <td>5.687304</td>\n",
       "      <td>0.602529</td>\n",
       "      <td>1590.708533</td>\n",
       "    </tr>\n",
       "    <tr>\n",
       "      <th>LGBMRegressor max_depth: 8, n_estimators: 150</th>\n",
       "      <td>5.397251</td>\n",
       "      <td>0.603175</td>\n",
       "      <td>1596.396562</td>\n",
       "    </tr>\n",
       "    <tr>\n",
       "      <th>CatBoostRegressor max_depth: 8, n_estimators: 50</th>\n",
       "      <td>2.174603</td>\n",
       "      <td>0.009272</td>\n",
       "      <td>1619.340373</td>\n",
       "    </tr>\n",
       "    <tr>\n",
       "      <th>LGBMRegressor max_depth: 12, n_estimators: 100</th>\n",
       "      <td>4.897708</td>\n",
       "      <td>0.411826</td>\n",
       "      <td>1625.046482</td>\n",
       "    </tr>\n",
       "    <tr>\n",
       "      <th>LGBMRegressor max_depth: 8, n_estimators: 100</th>\n",
       "      <td>5.392518</td>\n",
       "      <td>0.404508</td>\n",
       "      <td>1626.545581</td>\n",
       "    </tr>\n",
       "    <tr>\n",
       "      <th>CatBoostRegressor max_depth: 4, n_estimators: 150</th>\n",
       "      <td>3.585896</td>\n",
       "      <td>0.013850</td>\n",
       "      <td>1638.035063</td>\n",
       "    </tr>\n",
       "    <tr>\n",
       "      <th>CatBoostRegressor max_depth: 4, n_estimators: 100</th>\n",
       "      <td>2.412382</td>\n",
       "      <td>0.011519</td>\n",
       "      <td>1663.226036</td>\n",
       "    </tr>\n",
       "    <tr>\n",
       "      <th>LGBMRegressor max_depth: 4, n_estimators: 150</th>\n",
       "      <td>4.912639</td>\n",
       "      <td>0.492384</td>\n",
       "      <td>1687.249121</td>\n",
       "    </tr>\n",
       "    <tr>\n",
       "      <th>RandomForest max_depth: 12, n_estimators: 150</th>\n",
       "      <td>69.071501</td>\n",
       "      <td>0.941729</td>\n",
       "      <td>1694.498906</td>\n",
       "    </tr>\n",
       "    <tr>\n",
       "      <th>RandomForest max_depth: 12, n_estimators: 100</th>\n",
       "      <td>45.780022</td>\n",
       "      <td>0.659882</td>\n",
       "      <td>1695.110100</td>\n",
       "    </tr>\n",
       "    <tr>\n",
       "      <th>RandomForest max_depth: 12, n_estimators: 50</th>\n",
       "      <td>24.641343</td>\n",
       "      <td>0.361248</td>\n",
       "      <td>1697.367575</td>\n",
       "    </tr>\n",
       "    <tr>\n",
       "      <th>LGBMRegressor max_depth: 12, n_estimators: 50</th>\n",
       "      <td>2.391680</td>\n",
       "      <td>0.206454</td>\n",
       "      <td>1708.017263</td>\n",
       "    </tr>\n",
       "    <tr>\n",
       "      <th>LGBMRegressor max_depth: 8, n_estimators: 50</th>\n",
       "      <td>2.387716</td>\n",
       "      <td>0.204957</td>\n",
       "      <td>1713.232434</td>\n",
       "    </tr>\n",
       "    <tr>\n",
       "      <th>CatBoostRegressor max_depth: 4, n_estimators: 50</th>\n",
       "      <td>1.658062</td>\n",
       "      <td>0.009419</td>\n",
       "      <td>1739.281564</td>\n",
       "    </tr>\n",
       "    <tr>\n",
       "      <th>LGBMRegressor max_depth: 4, n_estimators: 100</th>\n",
       "      <td>2.884887</td>\n",
       "      <td>0.302616</td>\n",
       "      <td>1739.288821</td>\n",
       "    </tr>\n",
       "    <tr>\n",
       "      <th>LGBMRegressor max_depth: 4, n_estimators: 50</th>\n",
       "      <td>1.598795</td>\n",
       "      <td>0.207454</td>\n",
       "      <td>1853.889015</td>\n",
       "    </tr>\n",
       "    <tr>\n",
       "      <th>RandomForest max_depth: 8, n_estimators: 100</th>\n",
       "      <td>31.850789</td>\n",
       "      <td>0.343064</td>\n",
       "      <td>1967.816618</td>\n",
       "    </tr>\n",
       "    <tr>\n",
       "      <th>RandomForest max_depth: 8, n_estimators: 150</th>\n",
       "      <td>48.704466</td>\n",
       "      <td>0.571207</td>\n",
       "      <td>1968.322438</td>\n",
       "    </tr>\n",
       "    <tr>\n",
       "      <th>RandomForest max_depth: 8, n_estimators: 50</th>\n",
       "      <td>15.721009</td>\n",
       "      <td>0.171089</td>\n",
       "      <td>1968.447296</td>\n",
       "    </tr>\n",
       "    <tr>\n",
       "      <th>RandomForest max_depth: 4, n_estimators: 50</th>\n",
       "      <td>7.935210</td>\n",
       "      <td>0.096088</td>\n",
       "      <td>2481.852921</td>\n",
       "    </tr>\n",
       "    <tr>\n",
       "      <th>RandomForest max_depth: 4, n_estimators: 150</th>\n",
       "      <td>24.890205</td>\n",
       "      <td>0.262435</td>\n",
       "      <td>2485.415342</td>\n",
       "    </tr>\n",
       "    <tr>\n",
       "      <th>RandomForest max_depth: 4, n_estimators: 100</th>\n",
       "      <td>16.011557</td>\n",
       "      <td>0.185614</td>\n",
       "      <td>2485.691351</td>\n",
       "    </tr>\n",
       "    <tr>\n",
       "      <th>Линейная регрессия</th>\n",
       "      <td>0.346982</td>\n",
       "      <td>0.004210</td>\n",
       "      <td>2659.400660</td>\n",
       "    </tr>\n",
       "  </tbody>\n",
       "</table>\n",
       "</div>"
      ],
      "text/plain": [
       "                                                    Время обучения  \\\n",
       "CatBoostRegressor max_depth: 12, n_estimators: 150       13.161823   \n",
       "CatBoostRegressor max_depth: 12, n_estimators: 100        9.559294   \n",
       "CatBoostRegressor max_depth: 8, n_estimators: 150         4.922008   \n",
       "CatBoostRegressor max_depth: 12, n_estimators: 50         4.819582   \n",
       "CatBoostRegressor max_depth: 8, n_estimators: 100         3.893630   \n",
       "LGBMRegressor max_depth: 12, n_estimators: 150            5.687304   \n",
       "LGBMRegressor max_depth: 8, n_estimators: 150             5.397251   \n",
       "CatBoostRegressor max_depth: 8, n_estimators: 50          2.174603   \n",
       "LGBMRegressor max_depth: 12, n_estimators: 100            4.897708   \n",
       "LGBMRegressor max_depth: 8, n_estimators: 100             5.392518   \n",
       "CatBoostRegressor max_depth: 4, n_estimators: 150         3.585896   \n",
       "CatBoostRegressor max_depth: 4, n_estimators: 100         2.412382   \n",
       "LGBMRegressor max_depth: 4, n_estimators: 150             4.912639   \n",
       "RandomForest max_depth: 12, n_estimators: 150            69.071501   \n",
       "RandomForest max_depth: 12, n_estimators: 100            45.780022   \n",
       "RandomForest max_depth: 12, n_estimators: 50             24.641343   \n",
       "LGBMRegressor max_depth: 12, n_estimators: 50             2.391680   \n",
       "LGBMRegressor max_depth: 8, n_estimators: 50              2.387716   \n",
       "CatBoostRegressor max_depth: 4, n_estimators: 50          1.658062   \n",
       "LGBMRegressor max_depth: 4, n_estimators: 100             2.884887   \n",
       "LGBMRegressor max_depth: 4, n_estimators: 50              1.598795   \n",
       "RandomForest max_depth: 8, n_estimators: 100             31.850789   \n",
       "RandomForest max_depth: 8, n_estimators: 150             48.704466   \n",
       "RandomForest max_depth: 8, n_estimators: 50              15.721009   \n",
       "RandomForest max_depth: 4, n_estimators: 50               7.935210   \n",
       "RandomForest max_depth: 4, n_estimators: 150             24.890205   \n",
       "RandomForest max_depth: 4, n_estimators: 100             16.011557   \n",
       "Линейная регрессия                                        0.346982   \n",
       "\n",
       "                                                    Время предсказания  \\\n",
       "CatBoostRegressor max_depth: 12, n_estimators: 150            0.040478   \n",
       "CatBoostRegressor max_depth: 12, n_estimators: 100            0.029609   \n",
       "CatBoostRegressor max_depth: 8, n_estimators: 150             0.015703   \n",
       "CatBoostRegressor max_depth: 12, n_estimators: 50             0.020334   \n",
       "CatBoostRegressor max_depth: 8, n_estimators: 100             0.013186   \n",
       "LGBMRegressor max_depth: 12, n_estimators: 150                0.602529   \n",
       "LGBMRegressor max_depth: 8, n_estimators: 150                 0.603175   \n",
       "CatBoostRegressor max_depth: 8, n_estimators: 50              0.009272   \n",
       "LGBMRegressor max_depth: 12, n_estimators: 100                0.411826   \n",
       "LGBMRegressor max_depth: 8, n_estimators: 100                 0.404508   \n",
       "CatBoostRegressor max_depth: 4, n_estimators: 150             0.013850   \n",
       "CatBoostRegressor max_depth: 4, n_estimators: 100             0.011519   \n",
       "LGBMRegressor max_depth: 4, n_estimators: 150                 0.492384   \n",
       "RandomForest max_depth: 12, n_estimators: 150                 0.941729   \n",
       "RandomForest max_depth: 12, n_estimators: 100                 0.659882   \n",
       "RandomForest max_depth: 12, n_estimators: 50                  0.361248   \n",
       "LGBMRegressor max_depth: 12, n_estimators: 50                 0.206454   \n",
       "LGBMRegressor max_depth: 8, n_estimators: 50                  0.204957   \n",
       "CatBoostRegressor max_depth: 4, n_estimators: 50              0.009419   \n",
       "LGBMRegressor max_depth: 4, n_estimators: 100                 0.302616   \n",
       "LGBMRegressor max_depth: 4, n_estimators: 50                  0.207454   \n",
       "RandomForest max_depth: 8, n_estimators: 100                  0.343064   \n",
       "RandomForest max_depth: 8, n_estimators: 150                  0.571207   \n",
       "RandomForest max_depth: 8, n_estimators: 50                   0.171089   \n",
       "RandomForest max_depth: 4, n_estimators: 50                   0.096088   \n",
       "RandomForest max_depth: 4, n_estimators: 150                  0.262435   \n",
       "RandomForest max_depth: 4, n_estimators: 100                  0.185614   \n",
       "Линейная регрессия                                            0.004210   \n",
       "\n",
       "                                                           RMSE  \n",
       "CatBoostRegressor max_depth: 12, n_estimators: 150  1518.187613  \n",
       "CatBoostRegressor max_depth: 12, n_estimators: 100  1534.379855  \n",
       "CatBoostRegressor max_depth: 8, n_estimators: 150   1544.446184  \n",
       "CatBoostRegressor max_depth: 12, n_estimators: 50   1562.095540  \n",
       "CatBoostRegressor max_depth: 8, n_estimators: 100   1562.119312  \n",
       "LGBMRegressor max_depth: 12, n_estimators: 150      1590.708533  \n",
       "LGBMRegressor max_depth: 8, n_estimators: 150       1596.396562  \n",
       "CatBoostRegressor max_depth: 8, n_estimators: 50    1619.340373  \n",
       "LGBMRegressor max_depth: 12, n_estimators: 100      1625.046482  \n",
       "LGBMRegressor max_depth: 8, n_estimators: 100       1626.545581  \n",
       "CatBoostRegressor max_depth: 4, n_estimators: 150   1638.035063  \n",
       "CatBoostRegressor max_depth: 4, n_estimators: 100   1663.226036  \n",
       "LGBMRegressor max_depth: 4, n_estimators: 150       1687.249121  \n",
       "RandomForest max_depth: 12, n_estimators: 150       1694.498906  \n",
       "RandomForest max_depth: 12, n_estimators: 100       1695.110100  \n",
       "RandomForest max_depth: 12, n_estimators: 50        1697.367575  \n",
       "LGBMRegressor max_depth: 12, n_estimators: 50       1708.017263  \n",
       "LGBMRegressor max_depth: 8, n_estimators: 50        1713.232434  \n",
       "CatBoostRegressor max_depth: 4, n_estimators: 50    1739.281564  \n",
       "LGBMRegressor max_depth: 4, n_estimators: 100       1739.288821  \n",
       "LGBMRegressor max_depth: 4, n_estimators: 50        1853.889015  \n",
       "RandomForest max_depth: 8, n_estimators: 100        1967.816618  \n",
       "RandomForest max_depth: 8, n_estimators: 150        1968.322438  \n",
       "RandomForest max_depth: 8, n_estimators: 50         1968.447296  \n",
       "RandomForest max_depth: 4, n_estimators: 50         2481.852921  \n",
       "RandomForest max_depth: 4, n_estimators: 150        2485.415342  \n",
       "RandomForest max_depth: 4, n_estimators: 100        2485.691351  \n",
       "Линейная регрессия                                  2659.400660  "
      ]
     },
     "execution_count": 63,
     "metadata": {},
     "output_type": "execute_result"
    }
   ],
   "source": [
    "result"
   ]
  },
  {
   "cell_type": "code",
   "execution_count": 64,
   "metadata": {},
   "outputs": [
    {
     "data": {
      "text/plain": [
       "Время обучения          31.622900\n",
       "Время предсказания       0.399151\n",
       "RMSE                  2049.391394\n",
       "dtype: float64"
      ]
     },
     "execution_count": 64,
     "metadata": {},
     "output_type": "execute_result"
    }
   ],
   "source": [
    "result.loc[result.index.str.contains('Random')].mean()"
   ]
  },
  {
   "cell_type": "code",
   "execution_count": 65,
   "metadata": {},
   "outputs": [
    {
     "data": {
      "text/plain": [
       "Время обучения           5.131920\n",
       "Время предсказания       0.018152\n",
       "RMSE                  1597.901282\n",
       "dtype: float64"
      ]
     },
     "execution_count": 65,
     "metadata": {},
     "output_type": "execute_result"
    }
   ],
   "source": [
    "result.loc[result.index.str.contains('Cat')].mean()"
   ]
  },
  {
   "cell_type": "code",
   "execution_count": 66,
   "metadata": {},
   "outputs": [
    {
     "data": {
      "text/plain": [
       "Время обучения           3.950055\n",
       "Время предсказания       0.381767\n",
       "RMSE                  1682.263757\n",
       "dtype: float64"
      ]
     },
     "execution_count": 66,
     "metadata": {},
     "output_type": "execute_result"
    }
   ],
   "source": [
    "result.loc[result.index.str.contains('LGBM')].mean()"
   ]
  },
  {
   "cell_type": "markdown",
   "metadata": {},
   "source": [
    "**Вывод**\n",
    "\n",
    "Быстрее всех обучается и предсказывает модель линейной регрессии, однако её результат ниже порога, который озвучен в условиях проекта.\n",
    "\n",
    "Самую лучшую метрику RMSE продемонстрировала модель Catboost. Более того, в данной задаче эта же модель показала наилучший результат в скорости предсказания и обучения."
   ]
  },
  {
   "cell_type": "markdown",
   "metadata": {},
   "source": [
    "Обучим модель с подобранными параметрами на объедененном датасете из тренировочных и валидационных данных, испытаем на тестовом"
   ]
  },
  {
   "cell_type": "code",
   "execution_count": 67,
   "metadata": {},
   "outputs": [],
   "source": [
    "X_train = pd.concat([X_train, X_valid], axis=0)"
   ]
  },
  {
   "cell_type": "code",
   "execution_count": 68,
   "metadata": {},
   "outputs": [],
   "source": [
    "y_train = pd.concat([y_train, y_valid])"
   ]
  },
  {
   "cell_type": "code",
   "execution_count": 69,
   "metadata": {},
   "outputs": [
    {
     "data": {
      "text/plain": [
       "1488.9654927045842"
      ]
     },
     "execution_count": 69,
     "metadata": {},
     "output_type": "execute_result"
    }
   ],
   "source": [
    "best_model = CatBoostRegressor(max_depth=12, n_estimators=150, random_state=1, verbose=0)\n",
    "best_model.fit(X_train, y_train)\n",
    "\n",
    "best_model_pred = best_model.predict(X_test)\n",
    "\n",
    "mean_squared_error(y_test,\n",
    "                   best_model_pred,\n",
    "                   squared=False)"
   ]
  },
  {
   "cell_type": "markdown",
   "metadata": {},
   "source": [
    "Метрика качества практически не отличается от результата на валиде, значит наша модель не переобучилась и дает стабильный результат."
   ]
  },
  {
   "cell_type": "markdown",
   "metadata": {},
   "source": [
    "<a id='section_summary'></a>\n",
    "**Общий вывод**\n",
    "\n",
    "Мы получили данные сервиса по продаже автомобилей. Изучив их, нашли и избавились от признаков, которые не несут смысловой нагрузки и не влияют на стоимость автомобиля.\n",
    "\n",
    "Исходя их временных признаков, мы очистили датасет от сомнительных наблюдений. Данные, которые невозможно достоверно восстановить, были заполнены новой категорией unknown, либо были удалены, исходя из масштабов пропусков.\n",
    "\n",
    "Данные были подготовлены к работе разными алгоритмамы машинного обучения.\n",
    "\n",
    "Из четырех выбранных моделей три смогли преодолеть требуемую заказчиком метрику качества.\n",
    "\n",
    "Из них в качестве \"боевой\" я рекомендую Catboost, как наиболее точную и быструю"
   ]
  },
  {
   "cell_type": "code",
   "execution_count": null,
   "metadata": {},
   "outputs": [],
   "source": []
  }
 ],
 "metadata": {
  "ExecuteTimeLog": [
   {
    "duration": 378,
    "start_time": "2023-03-28T11:36:38.092Z"
   },
   {
    "duration": 2,
    "start_time": "2023-03-28T11:37:15.700Z"
   },
   {
    "duration": 1114,
    "start_time": "2023-03-28T11:37:15.988Z"
   },
   {
    "duration": 21,
    "start_time": "2023-03-28T11:50:34.858Z"
   },
   {
    "duration": 52,
    "start_time": "2023-04-28T10:58:55.584Z"
   },
   {
    "duration": 395,
    "start_time": "2023-04-28T10:58:58.284Z"
   },
   {
    "duration": 961,
    "start_time": "2023-04-28T10:58:58.681Z"
   },
   {
    "duration": 19,
    "start_time": "2023-04-28T10:58:59.644Z"
   },
   {
    "duration": 142,
    "start_time": "2023-04-28T10:58:59.665Z"
   },
   {
    "duration": 30,
    "start_time": "2023-04-28T11:04:31.193Z"
   },
   {
    "duration": 39,
    "start_time": "2023-04-28T11:04:42.262Z"
   },
   {
    "duration": 2,
    "start_time": "2023-04-28T11:04:44.139Z"
   },
   {
    "duration": 828,
    "start_time": "2023-04-28T11:04:44.313Z"
   },
   {
    "duration": 23,
    "start_time": "2023-04-28T11:04:45.143Z"
   },
   {
    "duration": 27,
    "start_time": "2023-04-28T11:04:45.313Z"
   },
   {
    "duration": 97,
    "start_time": "2023-04-28T11:04:49.376Z"
   },
   {
    "duration": 89,
    "start_time": "2023-04-28T11:05:07.498Z"
   },
   {
    "duration": 3,
    "start_time": "2023-04-28T11:07:05.079Z"
   },
   {
    "duration": 758,
    "start_time": "2023-04-28T11:07:05.276Z"
   },
   {
    "duration": 20,
    "start_time": "2023-04-28T11:07:06.036Z"
   },
   {
    "duration": 24,
    "start_time": "2023-04-28T11:07:06.373Z"
   },
   {
    "duration": 93,
    "start_time": "2023-04-28T11:07:07.363Z"
   },
   {
    "duration": 104,
    "start_time": "2023-04-28T11:07:09.175Z"
   },
   {
    "duration": 729,
    "start_time": "2023-04-28T11:07:21.360Z"
   },
   {
    "duration": 13,
    "start_time": "2023-04-28T11:07:22.091Z"
   },
   {
    "duration": 32,
    "start_time": "2023-04-28T11:07:22.105Z"
   },
   {
    "duration": 93,
    "start_time": "2023-04-28T11:07:22.139Z"
   },
   {
    "duration": 70,
    "start_time": "2023-04-28T11:07:22.351Z"
   },
   {
    "duration": 85,
    "start_time": "2023-04-28T11:08:52.378Z"
   },
   {
    "duration": 80,
    "start_time": "2023-04-28T11:08:54.949Z"
   },
   {
    "duration": 993,
    "start_time": "2023-04-28T11:19:01.594Z"
   },
   {
    "duration": 23,
    "start_time": "2023-04-28T11:19:33.790Z"
   },
   {
    "duration": 49427,
    "start_time": "2023-04-28T11:19:49.973Z"
   },
   {
    "duration": 129,
    "start_time": "2023-04-28T11:20:59.342Z"
   },
   {
    "duration": 407,
    "start_time": "2023-04-28T11:24:30.752Z"
   },
   {
    "duration": 1531,
    "start_time": "2023-04-28T11:24:44.086Z"
   },
   {
    "duration": 47,
    "start_time": "2023-04-28T11:28:02.429Z"
   },
   {
    "duration": 109,
    "start_time": "2023-04-28T11:28:18.398Z"
   },
   {
    "duration": 50768,
    "start_time": "2023-04-28T11:28:44.881Z"
   },
   {
    "duration": 254,
    "start_time": "2023-04-28T11:41:21.971Z"
   },
   {
    "duration": 112,
    "start_time": "2023-04-28T11:41:36.748Z"
   },
   {
    "duration": 101,
    "start_time": "2023-04-28T11:42:33.098Z"
   },
   {
    "duration": 109,
    "start_time": "2023-04-28T11:42:37.990Z"
   },
   {
    "duration": 121,
    "start_time": "2023-04-28T11:42:41.462Z"
   },
   {
    "duration": 123,
    "start_time": "2023-04-28T11:42:55.687Z"
   },
   {
    "duration": 3,
    "start_time": "2023-04-28T11:44:48.678Z"
   },
   {
    "duration": 702,
    "start_time": "2023-04-28T11:44:48.850Z"
   },
   {
    "duration": 13,
    "start_time": "2023-04-28T11:44:49.553Z"
   },
   {
    "duration": 85,
    "start_time": "2023-04-28T11:45:02.805Z"
   },
   {
    "duration": 22,
    "start_time": "2023-04-28T11:45:33.717Z"
   },
   {
    "duration": 24,
    "start_time": "2023-04-28T11:47:27.729Z"
   },
   {
    "duration": 46,
    "start_time": "2023-04-28T11:47:43.218Z"
   },
   {
    "duration": 22,
    "start_time": "2023-04-28T11:47:47.442Z"
   },
   {
    "duration": 330,
    "start_time": "2023-04-28T11:49:27.166Z"
   },
   {
    "duration": 73,
    "start_time": "2023-04-28T11:49:47.878Z"
   },
   {
    "duration": 338,
    "start_time": "2023-04-28T11:49:50.144Z"
   },
   {
    "duration": 368,
    "start_time": "2023-04-28T11:50:19.145Z"
   },
   {
    "duration": 256,
    "start_time": "2023-04-28T11:50:37.504Z"
   },
   {
    "duration": 11,
    "start_time": "2023-04-28T11:51:35.283Z"
   },
   {
    "duration": 32,
    "start_time": "2023-04-28T11:51:54.627Z"
   },
   {
    "duration": 33,
    "start_time": "2023-04-28T11:52:02.683Z"
   },
   {
    "duration": 257,
    "start_time": "2023-04-28T11:56:37.203Z"
   },
   {
    "duration": 25,
    "start_time": "2023-04-28T11:56:55.711Z"
   },
   {
    "duration": 12,
    "start_time": "2023-04-28T11:57:39.825Z"
   },
   {
    "duration": 13,
    "start_time": "2023-04-28T11:57:44.457Z"
   },
   {
    "duration": 15,
    "start_time": "2023-04-28T11:57:54.144Z"
   },
   {
    "duration": 7,
    "start_time": "2023-04-28T11:58:03.337Z"
   },
   {
    "duration": 8,
    "start_time": "2023-04-28T11:58:19.265Z"
   },
   {
    "duration": 8,
    "start_time": "2023-04-28T11:58:37.322Z"
   },
   {
    "duration": 13,
    "start_time": "2023-04-28T11:58:56.122Z"
   },
   {
    "duration": 9,
    "start_time": "2023-04-28T11:59:07.612Z"
   },
   {
    "duration": 7,
    "start_time": "2023-04-28T11:59:13.532Z"
   },
   {
    "duration": 6,
    "start_time": "2023-04-28T11:59:28.285Z"
   },
   {
    "duration": 12,
    "start_time": "2023-04-28T11:59:51.365Z"
   },
   {
    "duration": 12,
    "start_time": "2023-04-28T12:00:01.157Z"
   },
   {
    "duration": 12,
    "start_time": "2023-04-28T12:00:06.646Z"
   },
   {
    "duration": 11,
    "start_time": "2023-04-28T12:00:16.846Z"
   },
   {
    "duration": 12,
    "start_time": "2023-04-28T12:04:49.611Z"
   },
   {
    "duration": 50,
    "start_time": "2023-04-28T12:05:57.953Z"
   },
   {
    "duration": 58,
    "start_time": "2023-04-28T12:06:04.882Z"
   },
   {
    "duration": 49,
    "start_time": "2023-04-28T12:06:08.554Z"
   },
   {
    "duration": 9,
    "start_time": "2023-04-28T12:06:19.513Z"
   },
   {
    "duration": 4,
    "start_time": "2023-04-28T12:06:21.262Z"
   },
   {
    "duration": 51,
    "start_time": "2023-04-28T12:06:26.468Z"
   },
   {
    "duration": 41,
    "start_time": "2023-04-28T12:08:39.448Z"
   },
   {
    "duration": 42,
    "start_time": "2023-04-28T12:08:42.841Z"
   },
   {
    "duration": 45,
    "start_time": "2023-04-28T12:08:51.241Z"
   },
   {
    "duration": 55,
    "start_time": "2023-04-28T12:08:54.929Z"
   },
   {
    "duration": 48,
    "start_time": "2023-04-28T12:08:58.002Z"
   },
   {
    "duration": 43,
    "start_time": "2023-04-28T12:09:01.202Z"
   },
   {
    "duration": 50,
    "start_time": "2023-04-28T12:09:05.275Z"
   },
   {
    "duration": 42,
    "start_time": "2023-04-28T12:09:13.913Z"
   },
   {
    "duration": 35,
    "start_time": "2023-04-28T12:10:26.389Z"
   },
   {
    "duration": 30,
    "start_time": "2023-04-28T12:10:30.866Z"
   },
   {
    "duration": 7,
    "start_time": "2023-04-28T12:12:59.082Z"
   },
   {
    "duration": 6,
    "start_time": "2023-04-28T12:16:49.172Z"
   },
   {
    "duration": 17,
    "start_time": "2023-04-28T12:16:58.071Z"
   },
   {
    "duration": 10,
    "start_time": "2023-04-28T12:17:00.620Z"
   },
   {
    "duration": 11,
    "start_time": "2023-04-28T12:17:04.787Z"
   },
   {
    "duration": 10,
    "start_time": "2023-04-28T12:17:07.468Z"
   },
   {
    "duration": 6,
    "start_time": "2023-04-28T12:17:10.509Z"
   },
   {
    "duration": 7,
    "start_time": "2023-04-28T12:17:26.661Z"
   },
   {
    "duration": 7,
    "start_time": "2023-04-28T12:19:38.497Z"
   },
   {
    "duration": 9,
    "start_time": "2023-04-28T12:19:41.785Z"
   },
   {
    "duration": 7,
    "start_time": "2023-04-28T12:19:51.314Z"
   },
   {
    "duration": 7,
    "start_time": "2023-04-28T12:20:06.307Z"
   },
   {
    "duration": 3,
    "start_time": "2023-04-28T12:20:32.716Z"
   },
   {
    "duration": 739,
    "start_time": "2023-04-28T12:20:32.884Z"
   },
   {
    "duration": 11,
    "start_time": "2023-04-28T12:20:33.625Z"
   },
   {
    "duration": 31,
    "start_time": "2023-04-28T12:20:33.638Z"
   },
   {
    "duration": 32,
    "start_time": "2023-04-28T12:20:33.671Z"
   },
   {
    "duration": 91,
    "start_time": "2023-04-28T12:20:33.704Z"
   },
   {
    "duration": 85,
    "start_time": "2023-04-28T12:20:33.797Z"
   },
   {
    "duration": 81,
    "start_time": "2023-04-28T12:20:33.884Z"
   },
   {
    "duration": 9,
    "start_time": "2023-04-28T12:20:34.196Z"
   },
   {
    "duration": 299,
    "start_time": "2023-04-28T12:20:34.442Z"
   },
   {
    "duration": 34,
    "start_time": "2023-04-28T12:20:34.763Z"
   },
   {
    "duration": 28,
    "start_time": "2023-04-28T12:20:36.259Z"
   },
   {
    "duration": 8,
    "start_time": "2023-04-28T12:20:36.428Z"
   },
   {
    "duration": 6,
    "start_time": "2023-04-28T12:20:37.228Z"
   },
   {
    "duration": 8,
    "start_time": "2023-04-28T12:20:41.923Z"
   },
   {
    "duration": 6,
    "start_time": "2023-04-28T12:21:24.630Z"
   },
   {
    "duration": 709,
    "start_time": "2023-04-28T12:21:24.801Z"
   },
   {
    "duration": 13,
    "start_time": "2023-04-28T12:21:25.512Z"
   },
   {
    "duration": 38,
    "start_time": "2023-04-28T12:21:25.526Z"
   },
   {
    "duration": 20,
    "start_time": "2023-04-28T12:21:25.566Z"
   },
   {
    "duration": 94,
    "start_time": "2023-04-28T12:21:25.588Z"
   },
   {
    "duration": 85,
    "start_time": "2023-04-28T12:21:25.733Z"
   },
   {
    "duration": 66,
    "start_time": "2023-04-28T12:21:25.901Z"
   },
   {
    "duration": 8,
    "start_time": "2023-04-28T12:21:26.276Z"
   },
   {
    "duration": 256,
    "start_time": "2023-04-28T12:21:26.525Z"
   },
   {
    "duration": 28,
    "start_time": "2023-04-28T12:21:26.797Z"
   },
   {
    "duration": 27,
    "start_time": "2023-04-28T12:21:28.678Z"
   },
   {
    "duration": 8,
    "start_time": "2023-04-28T12:21:29.149Z"
   },
   {
    "duration": 6,
    "start_time": "2023-04-28T12:21:31.341Z"
   },
   {
    "duration": 7,
    "start_time": "2023-04-28T12:21:42.719Z"
   },
   {
    "duration": 11,
    "start_time": "2023-04-28T12:22:15.920Z"
   },
   {
    "duration": 339,
    "start_time": "2023-04-28T12:22:50.657Z"
   },
   {
    "duration": 5,
    "start_time": "2023-04-28T12:22:53.775Z"
   },
   {
    "duration": 4,
    "start_time": "2023-04-28T12:22:58.697Z"
   },
   {
    "duration": 12,
    "start_time": "2023-04-28T12:23:08.802Z"
   },
   {
    "duration": 11,
    "start_time": "2023-04-28T12:23:15.914Z"
   },
   {
    "duration": 12,
    "start_time": "2023-04-28T12:23:27.170Z"
   },
   {
    "duration": 27,
    "start_time": "2023-04-28T12:23:39.026Z"
   },
   {
    "duration": 23,
    "start_time": "2023-04-28T12:23:48.900Z"
   },
   {
    "duration": 202,
    "start_time": "2023-04-28T12:25:22.351Z"
   },
   {
    "duration": 446,
    "start_time": "2023-04-28T12:25:33.231Z"
   },
   {
    "duration": 511,
    "start_time": "2023-04-28T12:26:00.024Z"
   },
   {
    "duration": 593,
    "start_time": "2023-04-28T12:26:28.043Z"
   },
   {
    "duration": 15,
    "start_time": "2023-04-28T12:29:13.000Z"
   },
   {
    "duration": 1390,
    "start_time": "2023-04-28T12:29:28.991Z"
   },
   {
    "duration": 579,
    "start_time": "2023-04-28T12:29:41.752Z"
   },
   {
    "duration": 572,
    "start_time": "2023-04-28T12:30:26.682Z"
   },
   {
    "duration": 577,
    "start_time": "2023-04-28T12:31:45.813Z"
   },
   {
    "duration": 9,
    "start_time": "2023-04-28T12:31:54.517Z"
   },
   {
    "duration": 127,
    "start_time": "2023-04-28T12:32:02.326Z"
   },
   {
    "duration": 167,
    "start_time": "2023-04-28T12:32:19.038Z"
   },
   {
    "duration": 20,
    "start_time": "2023-04-28T12:33:01.231Z"
   },
   {
    "duration": 16,
    "start_time": "2023-04-28T12:33:06.376Z"
   },
   {
    "duration": 58,
    "start_time": "2023-04-28T12:34:28.451Z"
   },
   {
    "duration": 71,
    "start_time": "2023-04-28T12:34:32.459Z"
   },
   {
    "duration": 67,
    "start_time": "2023-04-28T12:34:45.940Z"
   },
   {
    "duration": 16,
    "start_time": "2023-04-28T12:35:54.003Z"
   },
   {
    "duration": 31,
    "start_time": "2023-04-28T12:36:14.673Z"
   },
   {
    "duration": 73,
    "start_time": "2023-04-28T12:36:39.808Z"
   },
   {
    "duration": 15,
    "start_time": "2023-04-28T12:38:43.180Z"
   },
   {
    "duration": 29,
    "start_time": "2023-04-28T12:40:24.056Z"
   },
   {
    "duration": 47,
    "start_time": "2023-04-28T12:40:26.249Z"
   },
   {
    "duration": 60,
    "start_time": "2023-04-28T12:40:48.050Z"
   },
   {
    "duration": 59,
    "start_time": "2023-04-28T12:41:24.804Z"
   },
   {
    "duration": 59,
    "start_time": "2023-04-28T12:41:49.757Z"
   },
   {
    "duration": 112,
    "start_time": "2023-04-28T12:42:25.757Z"
   },
   {
    "duration": 109,
    "start_time": "2023-04-28T12:42:37.493Z"
   },
   {
    "duration": 4,
    "start_time": "2023-04-28T12:43:05.101Z"
   },
   {
    "duration": 48,
    "start_time": "2023-04-28T12:43:43.922Z"
   },
   {
    "duration": 14,
    "start_time": "2023-04-28T12:46:35.983Z"
   },
   {
    "duration": 66,
    "start_time": "2023-04-28T12:46:37.284Z"
   },
   {
    "duration": 31,
    "start_time": "2023-04-28T12:46:58.016Z"
   },
   {
    "duration": 11,
    "start_time": "2023-04-28T12:48:45.236Z"
   },
   {
    "duration": 9,
    "start_time": "2023-04-28T12:48:52.958Z"
   },
   {
    "duration": 157,
    "start_time": "2023-04-28T12:48:58.244Z"
   },
   {
    "duration": 4,
    "start_time": "2023-04-28T12:49:04.179Z"
   },
   {
    "duration": 99,
    "start_time": "2023-04-28T12:49:28.976Z"
   },
   {
    "duration": 133,
    "start_time": "2023-04-28T12:49:46.708Z"
   },
   {
    "duration": 134,
    "start_time": "2023-04-28T12:50:00.726Z"
   },
   {
    "duration": 3,
    "start_time": "2023-04-28T12:51:34.610Z"
   },
   {
    "duration": 724,
    "start_time": "2023-04-28T12:51:34.777Z"
   },
   {
    "duration": 13,
    "start_time": "2023-04-28T12:51:35.503Z"
   },
   {
    "duration": 49,
    "start_time": "2023-04-28T12:51:35.518Z"
   },
   {
    "duration": 30,
    "start_time": "2023-04-28T12:51:35.568Z"
   },
   {
    "duration": 106,
    "start_time": "2023-04-28T12:51:35.600Z"
   },
   {
    "duration": 92,
    "start_time": "2023-04-28T12:51:35.708Z"
   },
   {
    "duration": 70,
    "start_time": "2023-04-28T12:51:35.881Z"
   },
   {
    "duration": 18,
    "start_time": "2023-04-28T12:51:36.309Z"
   },
   {
    "duration": 248,
    "start_time": "2023-04-28T12:51:36.493Z"
   },
   {
    "duration": 36,
    "start_time": "2023-04-28T12:51:36.743Z"
   },
   {
    "duration": 26,
    "start_time": "2023-04-28T12:51:38.312Z"
   },
   {
    "duration": 8,
    "start_time": "2023-04-28T12:51:38.501Z"
   },
   {
    "duration": 6,
    "start_time": "2023-04-28T12:51:38.857Z"
   },
   {
    "duration": 579,
    "start_time": "2023-04-28T12:51:39.138Z"
   },
   {
    "duration": 172,
    "start_time": "2023-04-28T12:51:40.058Z"
   },
   {
    "duration": 19,
    "start_time": "2023-04-28T12:51:40.386Z"
   },
   {
    "duration": 29,
    "start_time": "2023-04-28T12:51:42.265Z"
   },
   {
    "duration": 105,
    "start_time": "2023-04-28T12:51:42.692Z"
   },
   {
    "duration": 50,
    "start_time": "2023-04-28T12:51:43.138Z"
   },
   {
    "duration": 40,
    "start_time": "2023-04-28T12:52:20.674Z"
   },
   {
    "duration": 15,
    "start_time": "2023-04-28T12:52:28.157Z"
   },
   {
    "duration": 29,
    "start_time": "2023-04-28T12:52:28.444Z"
   },
   {
    "duration": 17,
    "start_time": "2023-04-28T12:52:29.496Z"
   },
   {
    "duration": 74,
    "start_time": "2023-04-28T12:52:30.660Z"
   },
   {
    "duration": 28,
    "start_time": "2023-04-28T12:52:51.829Z"
   },
   {
    "duration": 33,
    "start_time": "2023-04-28T12:53:19.078Z"
   },
   {
    "duration": 15,
    "start_time": "2023-04-28T12:53:52.247Z"
   },
   {
    "duration": 70,
    "start_time": "2023-04-28T12:53:55.060Z"
   },
   {
    "duration": 28,
    "start_time": "2023-04-28T12:54:14.180Z"
   },
   {
    "duration": 15,
    "start_time": "2023-04-28T12:54:42.513Z"
   },
   {
    "duration": 65,
    "start_time": "2023-04-28T12:54:43.281Z"
   },
   {
    "duration": 27,
    "start_time": "2023-04-28T12:54:59.296Z"
   },
   {
    "duration": 17,
    "start_time": "2023-04-28T12:55:24.369Z"
   },
   {
    "duration": 72,
    "start_time": "2023-04-28T12:55:26.363Z"
   },
   {
    "duration": 17,
    "start_time": "2023-04-28T12:57:07.286Z"
   },
   {
    "duration": 1371,
    "start_time": "2023-04-28T12:57:27.977Z"
   },
   {
    "duration": 602,
    "start_time": "2023-04-28T12:57:33.897Z"
   },
   {
    "duration": 5,
    "start_time": "2023-04-28T12:57:53.369Z"
   },
   {
    "duration": 14647,
    "start_time": "2023-04-28T12:58:06.047Z"
   },
   {
    "duration": 142,
    "start_time": "2023-04-28T12:58:38.432Z"
   },
   {
    "duration": 9,
    "start_time": "2023-04-28T12:58:43.986Z"
   },
   {
    "duration": 184,
    "start_time": "2023-04-28T12:58:46.765Z"
   },
   {
    "duration": 5,
    "start_time": "2023-04-28T12:58:54.387Z"
   },
   {
    "duration": 17,
    "start_time": "2023-04-28T12:59:03.115Z"
   },
   {
    "duration": 9,
    "start_time": "2023-04-28T12:59:16.179Z"
   },
   {
    "duration": 117,
    "start_time": "2023-04-28T12:59:27.578Z"
   },
   {
    "duration": 215,
    "start_time": "2023-04-28T13:00:04.582Z"
   },
   {
    "duration": 172,
    "start_time": "2023-04-28T13:00:12.622Z"
   },
   {
    "duration": 164,
    "start_time": "2023-04-28T13:01:06.316Z"
   },
   {
    "duration": 261,
    "start_time": "2023-04-28T13:01:10.248Z"
   },
   {
    "duration": 16,
    "start_time": "2023-04-28T13:01:27.017Z"
   },
   {
    "duration": 59,
    "start_time": "2023-04-28T13:01:43.725Z"
   },
   {
    "duration": 68,
    "start_time": "2023-04-28T13:01:53.086Z"
   },
   {
    "duration": 280,
    "start_time": "2023-04-28T13:02:37.915Z"
   },
   {
    "duration": 17,
    "start_time": "2023-04-28T13:03:05.484Z"
   },
   {
    "duration": 33,
    "start_time": "2023-04-28T13:03:21.698Z"
   },
   {
    "duration": 18,
    "start_time": "2023-04-28T13:03:29.150Z"
   },
   {
    "duration": 15,
    "start_time": "2023-04-28T13:03:36.437Z"
   },
   {
    "duration": 21,
    "start_time": "2023-04-28T13:04:22.160Z"
   },
   {
    "duration": 8,
    "start_time": "2023-04-28T13:05:53.578Z"
   },
   {
    "duration": 15,
    "start_time": "2023-04-28T13:07:40.746Z"
   },
   {
    "duration": 16,
    "start_time": "2023-04-28T13:07:47.228Z"
   },
   {
    "duration": 16,
    "start_time": "2023-04-28T13:07:52.714Z"
   },
   {
    "duration": 15,
    "start_time": "2023-04-28T13:07:57.230Z"
   },
   {
    "duration": 17,
    "start_time": "2023-04-28T13:08:10.041Z"
   },
   {
    "duration": 17,
    "start_time": "2023-04-28T13:08:15.384Z"
   },
   {
    "duration": 16,
    "start_time": "2023-04-28T13:08:18.325Z"
   },
   {
    "duration": 22,
    "start_time": "2023-04-28T13:09:53.565Z"
   },
   {
    "duration": 3,
    "start_time": "2023-04-28T13:10:00.418Z"
   },
   {
    "duration": 11,
    "start_time": "2023-04-28T13:14:01.617Z"
   },
   {
    "duration": 138,
    "start_time": "2023-04-28T13:14:04.629Z"
   },
   {
    "duration": 133,
    "start_time": "2023-04-28T13:14:09.323Z"
   },
   {
    "duration": 3,
    "start_time": "2023-04-28T13:14:16.574Z"
   },
   {
    "duration": 730,
    "start_time": "2023-04-28T13:14:16.772Z"
   },
   {
    "duration": 12,
    "start_time": "2023-04-28T13:14:17.504Z"
   },
   {
    "duration": 23,
    "start_time": "2023-04-28T13:14:18.415Z"
   },
   {
    "duration": 18,
    "start_time": "2023-04-28T13:14:19.725Z"
   },
   {
    "duration": 211,
    "start_time": "2023-04-28T13:14:33.462Z"
   },
   {
    "duration": 734,
    "start_time": "2023-04-28T13:14:54.591Z"
   },
   {
    "duration": 12,
    "start_time": "2023-04-28T13:14:55.327Z"
   },
   {
    "duration": 23,
    "start_time": "2023-04-28T13:14:57.361Z"
   },
   {
    "duration": 339,
    "start_time": "2023-04-28T13:15:05.751Z"
   },
   {
    "duration": 796,
    "start_time": "2023-04-28T13:15:30.682Z"
   },
   {
    "duration": 2,
    "start_time": "2023-04-28T13:15:35.249Z"
   },
   {
    "duration": 726,
    "start_time": "2023-04-28T13:15:35.417Z"
   },
   {
    "duration": 14,
    "start_time": "2023-04-28T13:15:36.144Z"
   },
   {
    "duration": 31,
    "start_time": "2023-04-28T13:15:36.159Z"
   },
   {
    "duration": 748,
    "start_time": "2023-04-28T13:15:36.192Z"
   },
   {
    "duration": 27,
    "start_time": "2023-04-28T13:15:36.942Z"
   },
   {
    "duration": 105,
    "start_time": "2023-04-28T13:15:36.971Z"
   },
   {
    "duration": 91,
    "start_time": "2023-04-28T13:15:37.078Z"
   },
   {
    "duration": 80,
    "start_time": "2023-04-28T13:15:37.170Z"
   },
   {
    "duration": 17,
    "start_time": "2023-04-28T13:15:37.251Z"
   },
   {
    "duration": 261,
    "start_time": "2023-04-28T13:15:37.269Z"
   },
   {
    "duration": 39,
    "start_time": "2023-04-28T13:15:37.532Z"
   },
   {
    "duration": 27,
    "start_time": "2023-04-28T13:15:37.573Z"
   },
   {
    "duration": 7,
    "start_time": "2023-04-28T13:15:37.728Z"
   },
   {
    "duration": 5,
    "start_time": "2023-04-28T13:15:38.185Z"
   },
   {
    "duration": 572,
    "start_time": "2023-04-28T13:15:38.368Z"
   },
   {
    "duration": 181,
    "start_time": "2023-04-28T13:15:38.942Z"
   },
   {
    "duration": 29,
    "start_time": "2023-04-28T13:15:39.124Z"
   },
   {
    "duration": 29,
    "start_time": "2023-04-28T13:15:39.336Z"
   },
   {
    "duration": 116,
    "start_time": "2023-04-28T13:15:39.624Z"
   },
   {
    "duration": 47,
    "start_time": "2023-04-28T13:15:41.136Z"
   },
   {
    "duration": 14,
    "start_time": "2023-04-28T13:15:41.487Z"
   },
   {
    "duration": 27,
    "start_time": "2023-04-28T13:15:41.688Z"
   },
   {
    "duration": 15,
    "start_time": "2023-04-28T13:15:43.144Z"
   },
   {
    "duration": 14,
    "start_time": "2023-04-28T13:15:43.414Z"
   },
   {
    "duration": 29,
    "start_time": "2023-04-28T13:15:43.577Z"
   },
   {
    "duration": 15,
    "start_time": "2023-04-28T13:15:43.755Z"
   },
   {
    "duration": 18,
    "start_time": "2023-04-28T13:15:43.968Z"
   },
   {
    "duration": 293,
    "start_time": "2023-04-28T13:15:44.433Z"
   },
   {
    "duration": 25,
    "start_time": "2023-04-28T13:15:46.256Z"
   },
   {
    "duration": 135,
    "start_time": "2023-04-28T13:15:51.317Z"
   },
   {
    "duration": 590,
    "start_time": "2023-04-28T13:16:04.213Z"
   },
   {
    "duration": 596,
    "start_time": "2023-04-28T13:16:27.523Z"
   },
   {
    "duration": 533,
    "start_time": "2023-04-28T13:16:35.163Z"
   },
   {
    "duration": 548,
    "start_time": "2023-04-28T13:17:12.249Z"
   },
   {
    "duration": 537,
    "start_time": "2023-04-28T13:17:16.779Z"
   },
   {
    "duration": 561,
    "start_time": "2023-04-28T13:17:20.844Z"
   },
   {
    "duration": 1329,
    "start_time": "2023-04-28T13:17:28.660Z"
   },
   {
    "duration": 1331,
    "start_time": "2023-04-28T13:17:36.133Z"
   },
   {
    "duration": 528,
    "start_time": "2023-04-28T13:17:45.181Z"
   },
   {
    "duration": 625,
    "start_time": "2023-04-28T13:18:31.817Z"
   },
   {
    "duration": 599,
    "start_time": "2023-04-28T13:18:38.717Z"
   },
   {
    "duration": 618,
    "start_time": "2023-04-28T13:18:43.820Z"
   },
   {
    "duration": 590,
    "start_time": "2023-04-28T13:18:46.675Z"
   },
   {
    "duration": 585,
    "start_time": "2023-04-28T13:18:53.751Z"
   },
   {
    "duration": 610,
    "start_time": "2023-04-28T13:20:52.117Z"
   },
   {
    "duration": 602,
    "start_time": "2023-04-28T13:20:55.786Z"
   },
   {
    "duration": 849,
    "start_time": "2023-04-28T13:21:04.343Z"
   },
   {
    "duration": 715,
    "start_time": "2023-04-28T13:21:08.873Z"
   },
   {
    "duration": 728,
    "start_time": "2023-04-28T13:21:12.106Z"
   },
   {
    "duration": 630,
    "start_time": "2023-04-28T13:21:21.270Z"
   },
   {
    "duration": 20,
    "start_time": "2023-04-28T13:23:20.317Z"
   },
   {
    "duration": 18,
    "start_time": "2023-04-28T13:23:27.313Z"
   },
   {
    "duration": 18,
    "start_time": "2023-04-28T13:23:35.827Z"
   },
   {
    "duration": 22,
    "start_time": "2023-04-28T13:23:49.568Z"
   },
   {
    "duration": 12,
    "start_time": "2023-04-28T13:23:53.420Z"
   },
   {
    "duration": 13,
    "start_time": "2023-04-28T13:24:13.501Z"
   },
   {
    "duration": 12,
    "start_time": "2023-04-28T13:24:15.653Z"
   },
   {
    "duration": 17,
    "start_time": "2023-04-28T13:24:20.721Z"
   },
   {
    "duration": 8,
    "start_time": "2023-04-28T13:24:29.325Z"
   },
   {
    "duration": 18,
    "start_time": "2023-04-28T13:25:36.523Z"
   },
   {
    "duration": 27,
    "start_time": "2023-04-28T13:26:42.217Z"
   },
   {
    "duration": 4,
    "start_time": "2023-04-28T13:26:49.517Z"
   },
   {
    "duration": 3,
    "start_time": "2023-04-28T13:26:54.946Z"
   },
   {
    "duration": 785,
    "start_time": "2023-04-28T13:26:55.150Z"
   },
   {
    "duration": 15,
    "start_time": "2023-04-28T13:26:55.936Z"
   },
   {
    "duration": 38,
    "start_time": "2023-04-28T13:26:55.952Z"
   },
   {
    "duration": 797,
    "start_time": "2023-04-28T13:26:59.445Z"
   },
   {
    "duration": 2,
    "start_time": "2023-04-28T13:27:07.130Z"
   },
   {
    "duration": 3,
    "start_time": "2023-04-28T13:27:15.634Z"
   },
   {
    "duration": 3,
    "start_time": "2023-04-28T13:27:21.444Z"
   },
   {
    "duration": 738,
    "start_time": "2023-04-28T13:27:21.628Z"
   },
   {
    "duration": 12,
    "start_time": "2023-04-28T13:27:22.368Z"
   },
   {
    "duration": 36,
    "start_time": "2023-04-28T13:27:22.382Z"
   },
   {
    "duration": 784,
    "start_time": "2023-04-28T13:27:22.421Z"
   },
   {
    "duration": 2,
    "start_time": "2023-04-28T13:27:23.207Z"
   },
   {
    "duration": 44,
    "start_time": "2023-04-28T13:27:23.211Z"
   },
   {
    "duration": 119,
    "start_time": "2023-04-28T13:27:23.256Z"
   },
   {
    "duration": 120,
    "start_time": "2023-04-28T13:27:23.377Z"
   },
   {
    "duration": 79,
    "start_time": "2023-04-28T13:27:23.499Z"
   },
   {
    "duration": 17,
    "start_time": "2023-04-28T13:27:23.579Z"
   },
   {
    "duration": 305,
    "start_time": "2023-04-28T13:27:23.598Z"
   },
   {
    "duration": 29,
    "start_time": "2023-04-28T13:27:23.904Z"
   },
   {
    "duration": 39,
    "start_time": "2023-04-28T13:27:23.935Z"
   },
   {
    "duration": 7,
    "start_time": "2023-04-28T13:27:23.976Z"
   },
   {
    "duration": 6,
    "start_time": "2023-04-28T13:27:24.079Z"
   },
   {
    "duration": 636,
    "start_time": "2023-04-28T13:27:24.229Z"
   },
   {
    "duration": 340,
    "start_time": "2023-04-28T13:27:24.867Z"
   },
   {
    "duration": 20,
    "start_time": "2023-04-28T13:27:25.208Z"
   },
   {
    "duration": 38,
    "start_time": "2023-04-28T13:27:25.230Z"
   },
   {
    "duration": 139,
    "start_time": "2023-04-28T13:27:25.270Z"
   },
   {
    "duration": 51,
    "start_time": "2023-04-28T13:27:25.411Z"
   },
   {
    "duration": 14,
    "start_time": "2023-04-28T13:27:25.472Z"
   },
   {
    "duration": 27,
    "start_time": "2023-04-28T13:27:25.643Z"
   },
   {
    "duration": 16,
    "start_time": "2023-04-28T13:27:26.022Z"
   },
   {
    "duration": 1094,
    "start_time": "2023-04-28T13:27:48.864Z"
   },
   {
    "duration": 761,
    "start_time": "2023-04-28T13:27:49.960Z"
   },
   {
    "duration": 15,
    "start_time": "2023-04-28T13:27:50.722Z"
   },
   {
    "duration": 28,
    "start_time": "2023-04-28T13:27:50.739Z"
   },
   {
    "duration": 862,
    "start_time": "2023-04-28T13:27:50.769Z"
   },
   {
    "duration": 2,
    "start_time": "2023-04-28T13:27:51.633Z"
   },
   {
    "duration": 38,
    "start_time": "2023-04-28T13:27:51.847Z"
   },
   {
    "duration": 88,
    "start_time": "2023-04-28T13:27:52.887Z"
   },
   {
    "duration": 82,
    "start_time": "2023-04-28T13:27:53.056Z"
   },
   {
    "duration": 69,
    "start_time": "2023-04-28T13:27:53.212Z"
   },
   {
    "duration": 17,
    "start_time": "2023-04-28T13:27:53.713Z"
   },
   {
    "duration": 256,
    "start_time": "2023-04-28T13:27:53.975Z"
   },
   {
    "duration": 35,
    "start_time": "2023-04-28T13:27:55.543Z"
   },
   {
    "duration": 28,
    "start_time": "2023-04-28T13:27:56.112Z"
   },
   {
    "duration": 8,
    "start_time": "2023-04-28T13:27:56.374Z"
   },
   {
    "duration": 6,
    "start_time": "2023-04-28T13:27:56.817Z"
   },
   {
    "duration": 593,
    "start_time": "2023-04-28T13:27:57.152Z"
   },
   {
    "duration": 170,
    "start_time": "2023-04-28T13:27:57.748Z"
   },
   {
    "duration": 27,
    "start_time": "2023-04-28T13:27:59.622Z"
   },
   {
    "duration": 30,
    "start_time": "2023-04-28T13:28:00.009Z"
   },
   {
    "duration": 112,
    "start_time": "2023-04-28T13:28:00.213Z"
   },
   {
    "duration": 50,
    "start_time": "2023-04-28T13:28:00.364Z"
   },
   {
    "duration": 23,
    "start_time": "2023-04-28T13:28:00.761Z"
   },
   {
    "duration": 28,
    "start_time": "2023-04-28T13:28:01.655Z"
   },
   {
    "duration": 15,
    "start_time": "2023-04-28T13:28:02.017Z"
   },
   {
    "duration": 14,
    "start_time": "2023-04-28T13:28:02.143Z"
   },
   {
    "duration": 30,
    "start_time": "2023-04-28T13:28:02.320Z"
   },
   {
    "duration": 16,
    "start_time": "2023-04-28T13:28:02.446Z"
   },
   {
    "duration": 16,
    "start_time": "2023-04-28T13:28:02.622Z"
   },
   {
    "duration": 274,
    "start_time": "2023-04-28T13:28:02.919Z"
   },
   {
    "duration": 24,
    "start_time": "2023-04-28T13:28:04.343Z"
   },
   {
    "duration": 663,
    "start_time": "2023-04-28T13:28:04.639Z"
   },
   {
    "duration": 21,
    "start_time": "2023-04-28T13:28:07.912Z"
   },
   {
    "duration": 4,
    "start_time": "2023-04-28T13:28:08.752Z"
   },
   {
    "duration": 4,
    "start_time": "2023-04-28T13:28:26.432Z"
   },
   {
    "duration": 3,
    "start_time": "2023-04-28T13:29:19.522Z"
   },
   {
    "duration": 763,
    "start_time": "2023-04-28T13:29:19.746Z"
   },
   {
    "duration": 13,
    "start_time": "2023-04-28T13:29:20.511Z"
   },
   {
    "duration": 33,
    "start_time": "2023-04-28T13:29:20.526Z"
   },
   {
    "duration": 774,
    "start_time": "2023-04-28T13:29:20.561Z"
   },
   {
    "duration": 2,
    "start_time": "2023-04-28T13:29:21.337Z"
   },
   {
    "duration": 39,
    "start_time": "2023-04-28T13:29:21.349Z"
   },
   {
    "duration": 85,
    "start_time": "2023-04-28T13:29:21.687Z"
   },
   {
    "duration": 84,
    "start_time": "2023-04-28T13:29:23.475Z"
   },
   {
    "duration": 68,
    "start_time": "2023-04-28T13:29:23.684Z"
   },
   {
    "duration": 17,
    "start_time": "2023-04-28T13:29:25.136Z"
   },
   {
    "duration": 246,
    "start_time": "2023-04-28T13:29:25.503Z"
   },
   {
    "duration": 28,
    "start_time": "2023-04-28T13:29:25.836Z"
   },
   {
    "duration": 32,
    "start_time": "2023-04-28T13:29:35.725Z"
   },
   {
    "duration": 3,
    "start_time": "2023-04-28T13:29:49.484Z"
   },
   {
    "duration": 705,
    "start_time": "2023-04-28T13:29:49.747Z"
   },
   {
    "duration": 12,
    "start_time": "2023-04-28T13:29:50.454Z"
   },
   {
    "duration": 44,
    "start_time": "2023-04-28T13:29:50.467Z"
   },
   {
    "duration": 755,
    "start_time": "2023-04-28T13:29:50.512Z"
   },
   {
    "duration": 3,
    "start_time": "2023-04-28T13:29:51.269Z"
   },
   {
    "duration": 43,
    "start_time": "2023-04-28T13:29:51.273Z"
   },
   {
    "duration": 84,
    "start_time": "2023-04-28T13:29:53.262Z"
   },
   {
    "duration": 81,
    "start_time": "2023-04-28T13:29:53.547Z"
   },
   {
    "duration": 69,
    "start_time": "2023-04-28T13:29:54.172Z"
   },
   {
    "duration": 16,
    "start_time": "2023-04-28T13:29:55.517Z"
   },
   {
    "duration": 260,
    "start_time": "2023-04-28T13:29:56.169Z"
   },
   {
    "duration": 27,
    "start_time": "2023-04-28T13:30:00.553Z"
   },
   {
    "duration": 27,
    "start_time": "2023-04-28T13:30:07.310Z"
   },
   {
    "duration": 28,
    "start_time": "2023-04-28T13:30:19.253Z"
   },
   {
    "duration": 3,
    "start_time": "2023-04-28T13:30:40.002Z"
   },
   {
    "duration": 4,
    "start_time": "2023-04-28T13:30:44.485Z"
   },
   {
    "duration": 3,
    "start_time": "2023-04-28T13:30:58.686Z"
   },
   {
    "duration": 690,
    "start_time": "2023-04-28T13:30:58.880Z"
   },
   {
    "duration": 12,
    "start_time": "2023-04-28T13:30:59.572Z"
   },
   {
    "duration": 24,
    "start_time": "2023-04-28T13:30:59.586Z"
   },
   {
    "duration": 759,
    "start_time": "2023-04-28T13:30:59.670Z"
   },
   {
    "duration": 3,
    "start_time": "2023-04-28T13:31:00.430Z"
   },
   {
    "duration": 2,
    "start_time": "2023-04-28T13:31:03.380Z"
   },
   {
    "duration": 27,
    "start_time": "2023-04-28T13:31:03.743Z"
   },
   {
    "duration": 93,
    "start_time": "2023-04-28T13:31:04.378Z"
   },
   {
    "duration": 105,
    "start_time": "2023-04-28T13:31:04.473Z"
   },
   {
    "duration": 73,
    "start_time": "2023-04-28T13:31:04.727Z"
   },
   {
    "duration": 17,
    "start_time": "2023-04-28T13:31:06.177Z"
   },
   {
    "duration": 373,
    "start_time": "2023-04-28T13:31:06.813Z"
   },
   {
    "duration": 28,
    "start_time": "2023-04-28T13:31:12.855Z"
   },
   {
    "duration": 29,
    "start_time": "2023-04-28T13:31:17.992Z"
   },
   {
    "duration": 29,
    "start_time": "2023-04-28T13:31:23.020Z"
   },
   {
    "duration": 7,
    "start_time": "2023-04-28T13:31:23.534Z"
   },
   {
    "duration": 7,
    "start_time": "2023-04-28T13:31:24.425Z"
   },
   {
    "duration": 572,
    "start_time": "2023-04-28T13:31:25.568Z"
   },
   {
    "duration": 173,
    "start_time": "2023-04-28T13:31:26.141Z"
   },
   {
    "duration": 19,
    "start_time": "2023-04-28T13:31:26.316Z"
   },
   {
    "duration": 30,
    "start_time": "2023-04-28T13:31:26.920Z"
   },
   {
    "duration": 108,
    "start_time": "2023-04-28T13:31:27.086Z"
   },
   {
    "duration": 50,
    "start_time": "2023-04-28T13:31:27.230Z"
   },
   {
    "duration": 14,
    "start_time": "2023-04-28T13:31:27.559Z"
   },
   {
    "duration": 27,
    "start_time": "2023-04-28T13:31:27.735Z"
   },
   {
    "duration": 16,
    "start_time": "2023-04-28T13:31:28.057Z"
   },
   {
    "duration": 15,
    "start_time": "2023-04-28T13:31:28.201Z"
   },
   {
    "duration": 30,
    "start_time": "2023-04-28T13:31:28.343Z"
   },
   {
    "duration": 19,
    "start_time": "2023-04-28T13:31:28.522Z"
   },
   {
    "duration": 17,
    "start_time": "2023-04-28T13:31:28.684Z"
   },
   {
    "duration": 269,
    "start_time": "2023-04-28T13:31:29.031Z"
   },
   {
    "duration": 24,
    "start_time": "2023-04-28T13:31:29.376Z"
   },
   {
    "duration": 549,
    "start_time": "2023-04-28T13:31:29.581Z"
   },
   {
    "duration": 21,
    "start_time": "2023-04-28T13:31:31.818Z"
   },
   {
    "duration": 4,
    "start_time": "2023-04-28T13:31:35.751Z"
   },
   {
    "duration": 3,
    "start_time": "2023-04-28T13:46:33.956Z"
   },
   {
    "duration": 47,
    "start_time": "2023-05-01T09:19:18.955Z"
   },
   {
    "duration": 1674,
    "start_time": "2023-05-01T09:19:23.647Z"
   },
   {
    "duration": 2983,
    "start_time": "2023-05-01T09:19:25.324Z"
   },
   {
    "duration": 17,
    "start_time": "2023-05-01T09:19:28.309Z"
   },
   {
    "duration": 21,
    "start_time": "2023-05-01T09:19:28.328Z"
   },
   {
    "duration": 949,
    "start_time": "2023-05-01T09:19:28.351Z"
   },
   {
    "duration": 3,
    "start_time": "2023-05-01T09:19:29.302Z"
   },
   {
    "duration": 44,
    "start_time": "2023-05-01T09:19:29.306Z"
   },
   {
    "duration": 99,
    "start_time": "2023-05-01T09:19:29.352Z"
   },
   {
    "duration": 87,
    "start_time": "2023-05-01T09:19:29.452Z"
   },
   {
    "duration": 89,
    "start_time": "2023-05-01T09:19:29.542Z"
   },
   {
    "duration": 16,
    "start_time": "2023-05-01T09:19:29.632Z"
   },
   {
    "duration": 295,
    "start_time": "2023-05-01T09:19:29.650Z"
   },
   {
    "duration": 46,
    "start_time": "2023-05-01T09:19:29.947Z"
   },
   {
    "duration": 28,
    "start_time": "2023-05-01T09:19:29.994Z"
   },
   {
    "duration": 8,
    "start_time": "2023-05-01T09:19:30.024Z"
   },
   {
    "duration": 24,
    "start_time": "2023-05-01T09:19:30.033Z"
   },
   {
    "duration": 576,
    "start_time": "2023-05-01T09:19:30.058Z"
   },
   {
    "duration": 211,
    "start_time": "2023-05-01T09:19:30.636Z"
   },
   {
    "duration": 25,
    "start_time": "2023-05-01T09:19:30.849Z"
   },
   {
    "duration": 27,
    "start_time": "2023-05-01T09:19:30.891Z"
   },
   {
    "duration": 118,
    "start_time": "2023-05-01T09:19:30.920Z"
   },
   {
    "duration": 57,
    "start_time": "2023-05-01T09:19:31.040Z"
   },
   {
    "duration": 32,
    "start_time": "2023-05-01T09:19:31.099Z"
   },
   {
    "duration": 63,
    "start_time": "2023-05-01T09:19:31.133Z"
   },
   {
    "duration": 65,
    "start_time": "2023-05-01T09:19:31.198Z"
   },
   {
    "duration": 40,
    "start_time": "2023-05-01T09:19:31.265Z"
   },
   {
    "duration": 47,
    "start_time": "2023-05-01T09:19:31.308Z"
   },
   {
    "duration": 40,
    "start_time": "2023-05-01T09:19:31.357Z"
   },
   {
    "duration": 35,
    "start_time": "2023-05-01T09:19:31.399Z"
   },
   {
    "duration": 462,
    "start_time": "2023-05-01T09:19:31.437Z"
   },
   {
    "duration": 22,
    "start_time": "2023-05-01T09:19:31.902Z"
   },
   {
    "duration": 671,
    "start_time": "2023-05-01T09:19:32.188Z"
   },
   {
    "duration": 30,
    "start_time": "2023-05-01T09:19:36.128Z"
   },
   {
    "duration": 5,
    "start_time": "2023-05-01T09:19:36.408Z"
   },
   {
    "duration": 12,
    "start_time": "2023-05-01T09:19:40.750Z"
   },
   {
    "duration": 65,
    "start_time": "2023-05-01T09:19:42.704Z"
   },
   {
    "duration": 32,
    "start_time": "2023-05-01T09:22:08.508Z"
   },
   {
    "duration": 20,
    "start_time": "2023-05-01T09:22:13.526Z"
   },
   {
    "duration": 14,
    "start_time": "2023-05-01T09:22:19.558Z"
   },
   {
    "duration": 5,
    "start_time": "2023-05-01T09:33:43.823Z"
   },
   {
    "duration": 18,
    "start_time": "2023-05-01T09:33:46.594Z"
   },
   {
    "duration": 89,
    "start_time": "2023-05-01T09:34:14.640Z"
   },
   {
    "duration": 20,
    "start_time": "2023-05-01T09:34:16.497Z"
   },
   {
    "duration": 56,
    "start_time": "2023-05-01T09:34:25.665Z"
   },
   {
    "duration": 88,
    "start_time": "2023-05-01T09:34:35.241Z"
   },
   {
    "duration": 4,
    "start_time": "2023-05-01T09:44:40.888Z"
   },
   {
    "duration": 3,
    "start_time": "2023-05-01T09:45:08.304Z"
   },
   {
    "duration": 5,
    "start_time": "2023-05-01T09:45:24.354Z"
   },
   {
    "duration": 537,
    "start_time": "2023-05-01T09:46:05.323Z"
   },
   {
    "duration": 230,
    "start_time": "2023-05-01T09:47:32.603Z"
   },
   {
    "duration": 22,
    "start_time": "2023-05-01T09:47:35.558Z"
   },
   {
    "duration": 6,
    "start_time": "2023-05-01T09:51:50.736Z"
   },
   {
    "duration": 10,
    "start_time": "2023-05-01T09:52:40.538Z"
   },
   {
    "duration": 12,
    "start_time": "2023-05-01T09:53:19.810Z"
   },
   {
    "duration": 4,
    "start_time": "2023-05-01T09:54:04.509Z"
   },
   {
    "duration": 2,
    "start_time": "2023-05-01T09:54:28.286Z"
   },
   {
    "duration": 11,
    "start_time": "2023-05-01T09:55:08.386Z"
   },
   {
    "duration": 3,
    "start_time": "2023-05-01T09:56:02.728Z"
   },
   {
    "duration": 40,
    "start_time": "2023-05-01T09:56:08.187Z"
   },
   {
    "duration": 373,
    "start_time": "2023-05-01T09:57:45.895Z"
   },
   {
    "duration": 384,
    "start_time": "2023-05-01T09:57:57.320Z"
   },
   {
    "duration": 342,
    "start_time": "2023-05-01T09:58:20.558Z"
   },
   {
    "duration": 330,
    "start_time": "2023-05-01T09:58:25.943Z"
   },
   {
    "duration": 202,
    "start_time": "2023-05-01T09:58:30.119Z"
   },
   {
    "duration": 183,
    "start_time": "2023-05-01T09:58:46.216Z"
   },
   {
    "duration": 30,
    "start_time": "2023-05-01T09:59:24.222Z"
   },
   {
    "duration": 3,
    "start_time": "2023-05-01T09:59:40.604Z"
   },
   {
    "duration": 56,
    "start_time": "2023-05-01T10:03:44.684Z"
   },
   {
    "duration": 3,
    "start_time": "2023-05-01T10:05:46.343Z"
   },
   {
    "duration": 87,
    "start_time": "2023-05-01T10:06:00.012Z"
   },
   {
    "duration": 78,
    "start_time": "2023-05-01T10:06:49.917Z"
   },
   {
    "duration": 8,
    "start_time": "2023-05-01T10:06:50.773Z"
   },
   {
    "duration": 5,
    "start_time": "2023-05-01T10:06:51.337Z"
   },
   {
    "duration": 5,
    "start_time": "2023-05-01T10:06:59.001Z"
   },
   {
    "duration": 4,
    "start_time": "2023-05-01T10:08:46.305Z"
   },
   {
    "duration": 96,
    "start_time": "2023-05-01T10:10:05.705Z"
   },
   {
    "duration": 5,
    "start_time": "2023-05-01T10:10:09.049Z"
   },
   {
    "duration": 7,
    "start_time": "2023-05-01T10:10:35.422Z"
   },
   {
    "duration": 4,
    "start_time": "2023-05-01T10:10:40.102Z"
   },
   {
    "duration": 5,
    "start_time": "2023-05-01T10:11:53.904Z"
   },
   {
    "duration": 7,
    "start_time": "2023-05-01T10:11:56.947Z"
   },
   {
    "duration": 5,
    "start_time": "2023-05-01T10:12:09.932Z"
   },
   {
    "duration": 11,
    "start_time": "2023-05-01T10:12:14.611Z"
   },
   {
    "duration": 5,
    "start_time": "2023-05-01T10:12:20.030Z"
   },
   {
    "duration": 5,
    "start_time": "2023-05-01T10:12:26.912Z"
   },
   {
    "duration": 12,
    "start_time": "2023-05-01T10:12:27.467Z"
   },
   {
    "duration": 3,
    "start_time": "2023-05-01T10:13:13.024Z"
   },
   {
    "duration": 3,
    "start_time": "2023-05-01T10:14:18.063Z"
   },
   {
    "duration": 100,
    "start_time": "2023-05-01T10:14:18.294Z"
   },
   {
    "duration": 8,
    "start_time": "2023-05-01T10:14:18.600Z"
   },
   {
    "duration": 4,
    "start_time": "2023-05-01T10:14:19.026Z"
   },
   {
    "duration": 2,
    "start_time": "2023-05-01T10:15:08.716Z"
   },
   {
    "duration": 77,
    "start_time": "2023-05-01T10:15:09.116Z"
   },
   {
    "duration": 7,
    "start_time": "2023-05-01T10:15:09.413Z"
   },
   {
    "duration": 5,
    "start_time": "2023-05-01T10:15:10.007Z"
   },
   {
    "duration": 3,
    "start_time": "2023-05-01T10:15:19.765Z"
   },
   {
    "duration": 64873,
    "start_time": "2023-05-01T10:16:03.105Z"
   },
   {
    "duration": 696,
    "start_time": "2023-05-01T10:17:07.980Z"
   },
   {
    "duration": 4,
    "start_time": "2023-05-01T10:17:08.678Z"
   },
   {
    "duration": 4,
    "start_time": "2023-05-01T10:17:16.181Z"
   },
   {
    "duration": 3,
    "start_time": "2023-05-01T10:17:37.804Z"
   },
   {
    "duration": 3,
    "start_time": "2023-05-01T10:18:18.611Z"
   },
   {
    "duration": 3,
    "start_time": "2023-05-01T10:18:25.420Z"
   },
   {
    "duration": 44589,
    "start_time": "2023-05-01T10:18:25.581Z"
   },
   {
    "duration": 356,
    "start_time": "2023-05-01T10:19:10.172Z"
   },
   {
    "duration": 4,
    "start_time": "2023-05-01T10:19:10.529Z"
   },
   {
    "duration": 4,
    "start_time": "2023-05-01T10:19:29.134Z"
   },
   {
    "duration": 3,
    "start_time": "2023-05-01T10:19:35.606Z"
   },
   {
    "duration": 55553,
    "start_time": "2023-05-01T10:19:35.830Z"
   },
   {
    "duration": 508,
    "start_time": "2023-05-01T10:20:31.385Z"
   },
   {
    "duration": 5,
    "start_time": "2023-05-01T10:20:31.894Z"
   },
   {
    "duration": 90,
    "start_time": "2023-05-01T10:20:31.902Z"
   },
   {
    "duration": 5007,
    "start_time": "2023-05-01T10:20:31.994Z"
   },
   {
    "duration": 599,
    "start_time": "2023-05-01T10:20:37.003Z"
   },
   {
    "duration": 4,
    "start_time": "2023-05-01T10:20:37.605Z"
   },
   {
    "duration": 10,
    "start_time": "2023-05-01T10:20:37.610Z"
   },
   {
    "duration": 4,
    "start_time": "2023-05-01T10:22:32.180Z"
   },
   {
    "duration": 24105,
    "start_time": "2023-05-01T10:22:32.420Z"
   },
   {
    "duration": 0,
    "start_time": "2023-05-01T10:22:56.527Z"
   },
   {
    "duration": 0,
    "start_time": "2023-05-01T10:22:56.528Z"
   },
   {
    "duration": 0,
    "start_time": "2023-05-01T10:22:56.529Z"
   },
   {
    "duration": 0,
    "start_time": "2023-05-01T10:22:56.530Z"
   },
   {
    "duration": 0,
    "start_time": "2023-05-01T10:22:56.531Z"
   },
   {
    "duration": 0,
    "start_time": "2023-05-01T10:22:56.532Z"
   },
   {
    "duration": 0,
    "start_time": "2023-05-01T10:22:56.533Z"
   },
   {
    "duration": 4,
    "start_time": "2023-05-01T10:23:02.701Z"
   },
   {
    "duration": 3,
    "start_time": "2023-05-01T10:23:20.204Z"
   },
   {
    "duration": 3,
    "start_time": "2023-05-01T10:23:51.937Z"
   },
   {
    "duration": 3,
    "start_time": "2023-05-01T10:24:24.873Z"
   },
   {
    "duration": 74,
    "start_time": "2023-05-01T10:24:25.018Z"
   },
   {
    "duration": 100,
    "start_time": "2023-05-01T10:24:25.192Z"
   },
   {
    "duration": 3,
    "start_time": "2023-05-01T10:24:25.392Z"
   },
   {
    "duration": 4,
    "start_time": "2023-05-01T10:24:25.562Z"
   },
   {
    "duration": 59997,
    "start_time": "2023-05-01T10:24:25.705Z"
   },
   {
    "duration": 486,
    "start_time": "2023-05-01T10:25:25.704Z"
   },
   {
    "duration": 4,
    "start_time": "2023-05-01T10:25:26.192Z"
   },
   {
    "duration": 3,
    "start_time": "2023-05-01T10:25:26.197Z"
   },
   {
    "duration": 5208,
    "start_time": "2023-05-01T10:25:26.202Z"
   },
   {
    "duration": 613,
    "start_time": "2023-05-01T10:25:31.493Z"
   },
   {
    "duration": 4,
    "start_time": "2023-05-01T10:25:32.108Z"
   },
   {
    "duration": 28,
    "start_time": "2023-05-01T10:25:32.114Z"
   },
   {
    "duration": 30762,
    "start_time": "2023-05-01T10:25:32.144Z"
   },
   {
    "duration": 110,
    "start_time": "2023-05-01T10:26:02.909Z"
   },
   {
    "duration": 4,
    "start_time": "2023-05-01T10:26:03.021Z"
   },
   {
    "duration": 33,
    "start_time": "2023-05-01T10:26:03.027Z"
   },
   {
    "duration": 71,
    "start_time": "2023-05-01T10:26:32.365Z"
   },
   {
    "duration": 8,
    "start_time": "2023-05-01T10:26:32.613Z"
   },
   {
    "duration": 3,
    "start_time": "2023-05-01T10:26:32.846Z"
   },
   {
    "duration": 2,
    "start_time": "2023-05-01T10:26:34.398Z"
   },
   {
    "duration": 59972,
    "start_time": "2023-05-01T10:26:34.541Z"
   },
   {
    "duration": 490,
    "start_time": "2023-05-01T10:27:34.515Z"
   },
   {
    "duration": 4,
    "start_time": "2023-05-01T10:27:35.007Z"
   },
   {
    "duration": 8,
    "start_time": "2023-05-01T10:27:35.012Z"
   },
   {
    "duration": 5374,
    "start_time": "2023-05-01T10:27:35.021Z"
   },
   {
    "duration": 602,
    "start_time": "2023-05-01T10:27:40.397Z"
   },
   {
    "duration": 4,
    "start_time": "2023-05-01T10:27:41.001Z"
   },
   {
    "duration": 3,
    "start_time": "2023-05-01T10:28:02.515Z"
   },
   {
    "duration": 30628,
    "start_time": "2023-05-01T10:28:02.936Z"
   },
   {
    "duration": 92,
    "start_time": "2023-05-01T10:28:33.566Z"
   },
   {
    "duration": 4,
    "start_time": "2023-05-01T10:28:33.660Z"
   },
   {
    "duration": 13,
    "start_time": "2023-05-01T10:28:33.666Z"
   },
   {
    "duration": 3,
    "start_time": "2023-05-01T10:30:01.262Z"
   },
   {
    "duration": 68,
    "start_time": "2023-05-01T10:30:01.534Z"
   },
   {
    "duration": 8,
    "start_time": "2023-05-01T10:30:02.018Z"
   },
   {
    "duration": 16,
    "start_time": "2023-05-01T10:30:03.091Z"
   },
   {
    "duration": 2,
    "start_time": "2023-05-01T10:30:03.411Z"
   },
   {
    "duration": 3,
    "start_time": "2023-05-01T10:31:02.861Z"
   },
   {
    "duration": 127,
    "start_time": "2023-05-01T10:31:02.866Z"
   },
   {
    "duration": 97,
    "start_time": "2023-05-01T10:31:02.997Z"
   },
   {
    "duration": 96,
    "start_time": "2023-05-01T10:31:03.096Z"
   },
   {
    "duration": 3,
    "start_time": "2023-05-01T10:31:03.194Z"
   },
   {
    "duration": 55047,
    "start_time": "2023-05-01T10:31:03.199Z"
   },
   {
    "duration": 473,
    "start_time": "2023-05-01T10:31:58.248Z"
   },
   {
    "duration": 4,
    "start_time": "2023-05-01T10:31:58.724Z"
   },
   {
    "duration": 10,
    "start_time": "2023-05-01T10:31:58.729Z"
   },
   {
    "duration": 79361,
    "start_time": "2023-05-01T10:31:58.741Z"
   },
   {
    "duration": 687,
    "start_time": "2023-05-01T10:33:18.105Z"
   },
   {
    "duration": 4,
    "start_time": "2023-05-01T10:33:18.794Z"
   },
   {
    "duration": 15,
    "start_time": "2023-05-01T10:33:18.800Z"
   },
   {
    "duration": 30780,
    "start_time": "2023-05-01T10:33:18.817Z"
   },
   {
    "duration": 97,
    "start_time": "2023-05-01T10:33:49.599Z"
   },
   {
    "duration": 4,
    "start_time": "2023-05-01T10:33:49.698Z"
   },
   {
    "duration": 8,
    "start_time": "2023-05-01T10:33:49.704Z"
   },
   {
    "duration": 4,
    "start_time": "2023-05-01T10:34:48.017Z"
   },
   {
    "duration": 11,
    "start_time": "2023-05-01T10:35:24.931Z"
   },
   {
    "duration": 3,
    "start_time": "2023-05-01T10:35:30.258Z"
   },
   {
    "duration": 584,
    "start_time": "2023-05-01T10:35:39.013Z"
   },
   {
    "duration": 94,
    "start_time": "2023-05-01T10:35:39.599Z"
   },
   {
    "duration": 3,
    "start_time": "2023-05-01T10:35:51.220Z"
   },
   {
    "duration": 5,
    "start_time": "2023-05-01T10:36:22.384Z"
   },
   {
    "duration": 4,
    "start_time": "2023-05-01T10:37:27.725Z"
   },
   {
    "duration": 23,
    "start_time": "2023-05-01T10:37:36.177Z"
   },
   {
    "duration": 69,
    "start_time": "2023-05-01T10:38:37.560Z"
   },
   {
    "duration": 421,
    "start_time": "2023-05-01T10:38:38.504Z"
   },
   {
    "duration": 3,
    "start_time": "2023-05-01T10:38:46.348Z"
   },
   {
    "duration": 567,
    "start_time": "2023-05-01T10:38:46.825Z"
   },
   {
    "duration": 8,
    "start_time": "2023-05-01T10:38:48.017Z"
   },
   {
    "duration": 5,
    "start_time": "2023-05-01T10:38:49.003Z"
   },
   {
    "duration": 4,
    "start_time": "2023-05-01T10:38:53.321Z"
   },
   {
    "duration": 129,
    "start_time": "2023-05-01T10:38:59.137Z"
   },
   {
    "duration": 430,
    "start_time": "2023-05-01T10:39:08.088Z"
   },
   {
    "duration": 5,
    "start_time": "2023-05-01T10:39:39.783Z"
   },
   {
    "duration": 5,
    "start_time": "2023-05-01T10:39:46.908Z"
   },
   {
    "duration": 68,
    "start_time": "2023-05-01T10:40:07.141Z"
   },
   {
    "duration": 459,
    "start_time": "2023-05-01T10:40:07.620Z"
   },
   {
    "duration": 65,
    "start_time": "2023-05-01T10:40:35.629Z"
   },
   {
    "duration": 209,
    "start_time": "2023-05-01T10:40:41.549Z"
   },
   {
    "duration": 4,
    "start_time": "2023-05-01T10:42:13.703Z"
   },
   {
    "duration": 55,
    "start_time": "2023-05-01T10:42:31.137Z"
   },
   {
    "duration": 67,
    "start_time": "2023-05-01T10:42:33.058Z"
   },
   {
    "duration": 205,
    "start_time": "2023-05-01T10:42:37.138Z"
   },
   {
    "duration": 159,
    "start_time": "2023-05-01T10:42:45.501Z"
   },
   {
    "duration": 4,
    "start_time": "2023-05-01T10:43:18.875Z"
   },
   {
    "duration": 55,
    "start_time": "2023-05-01T10:43:26.939Z"
   },
   {
    "duration": 68,
    "start_time": "2023-05-01T10:43:27.420Z"
   },
   {
    "duration": 3,
    "start_time": "2023-05-01T10:43:34.709Z"
   },
   {
    "duration": 549,
    "start_time": "2023-05-01T10:43:34.859Z"
   },
   {
    "duration": 82,
    "start_time": "2023-05-01T10:43:35.411Z"
   },
   {
    "duration": 118,
    "start_time": "2023-05-01T10:43:35.495Z"
   },
   {
    "duration": 22,
    "start_time": "2023-05-01T10:43:35.615Z"
   },
   {
    "duration": 59235,
    "start_time": "2023-05-01T10:43:35.639Z"
   },
   {
    "duration": 501,
    "start_time": "2023-05-01T10:44:34.876Z"
   },
   {
    "duration": 5,
    "start_time": "2023-05-01T10:44:35.379Z"
   },
   {
    "duration": 47,
    "start_time": "2023-05-01T10:44:35.392Z"
   },
   {
    "duration": 28852,
    "start_time": "2023-05-01T10:44:35.441Z"
   },
   {
    "duration": 518,
    "start_time": "2023-05-01T10:45:04.295Z"
   },
   {
    "duration": 4,
    "start_time": "2023-05-01T10:45:04.893Z"
   },
   {
    "duration": 4,
    "start_time": "2023-05-01T10:45:04.899Z"
   },
   {
    "duration": 30558,
    "start_time": "2023-05-01T10:45:04.905Z"
   },
   {
    "duration": 97,
    "start_time": "2023-05-01T10:45:35.465Z"
   },
   {
    "duration": 4,
    "start_time": "2023-05-01T10:45:35.564Z"
   },
   {
    "duration": 13,
    "start_time": "2023-05-01T10:45:35.569Z"
   },
   {
    "duration": 14,
    "start_time": "2023-05-01T10:46:07.346Z"
   },
   {
    "duration": 4,
    "start_time": "2023-05-01T10:46:47.509Z"
   },
   {
    "duration": 4,
    "start_time": "2023-05-01T10:46:49.420Z"
   },
   {
    "duration": 12,
    "start_time": "2023-05-01T10:47:15.299Z"
   },
   {
    "duration": 16,
    "start_time": "2023-05-01T10:47:24.220Z"
   },
   {
    "duration": 9,
    "start_time": "2023-05-01T10:47:33.006Z"
   },
   {
    "duration": 10,
    "start_time": "2023-05-01T10:48:06.814Z"
   },
   {
    "duration": 3,
    "start_time": "2023-05-01T10:59:49.536Z"
   },
   {
    "duration": 551,
    "start_time": "2023-05-01T10:59:49.751Z"
   },
   {
    "duration": 107,
    "start_time": "2023-05-01T10:59:50.305Z"
   },
   {
    "duration": 5,
    "start_time": "2023-05-01T10:59:50.492Z"
   },
   {
    "duration": 3,
    "start_time": "2023-05-01T10:59:50.500Z"
   },
   {
    "duration": 110580,
    "start_time": "2023-05-01T10:59:50.509Z"
   },
   {
    "duration": 3969,
    "start_time": "2023-05-01T11:01:41.091Z"
   },
   {
    "duration": 4,
    "start_time": "2023-05-01T11:01:45.062Z"
   },
   {
    "duration": 4,
    "start_time": "2023-05-01T11:01:45.068Z"
   },
   {
    "duration": 129241,
    "start_time": "2023-05-01T11:01:45.073Z"
   },
   {
    "duration": 0,
    "start_time": "2023-05-01T11:03:54.393Z"
   },
   {
    "duration": 0,
    "start_time": "2023-05-01T11:03:54.395Z"
   },
   {
    "duration": 0,
    "start_time": "2023-05-01T11:03:54.396Z"
   },
   {
    "duration": 0,
    "start_time": "2023-05-01T11:03:54.398Z"
   },
   {
    "duration": 0,
    "start_time": "2023-05-01T11:03:54.400Z"
   },
   {
    "duration": 0,
    "start_time": "2023-05-01T11:03:54.401Z"
   },
   {
    "duration": 0,
    "start_time": "2023-05-01T11:03:54.403Z"
   },
   {
    "duration": 103,
    "start_time": "2023-05-01T11:04:37.815Z"
   },
   {
    "duration": 58,
    "start_time": "2023-05-01T11:04:40.162Z"
   },
   {
    "duration": 3,
    "start_time": "2023-05-01T11:04:43.346Z"
   },
   {
    "duration": 385,
    "start_time": "2023-05-01T11:04:43.813Z"
   },
   {
    "duration": 7,
    "start_time": "2023-05-01T11:04:48.038Z"
   },
   {
    "duration": 4,
    "start_time": "2023-05-01T11:04:48.416Z"
   },
   {
    "duration": 3,
    "start_time": "2023-05-01T11:04:49.330Z"
   },
   {
    "duration": 90649,
    "start_time": "2023-05-01T11:04:50.171Z"
   },
   {
    "duration": 3565,
    "start_time": "2023-05-01T11:06:20.823Z"
   },
   {
    "duration": 5,
    "start_time": "2023-05-01T11:06:24.391Z"
   },
   {
    "duration": 48,
    "start_time": "2023-05-01T11:06:24.398Z"
   },
   {
    "duration": 94050,
    "start_time": "2023-05-01T11:06:24.448Z"
   },
   {
    "duration": 596,
    "start_time": "2023-05-01T11:07:58.500Z"
   },
   {
    "duration": 4,
    "start_time": "2023-05-01T11:07:59.098Z"
   },
   {
    "duration": 6,
    "start_time": "2023-05-01T11:07:59.103Z"
   },
   {
    "duration": 23353,
    "start_time": "2023-05-01T11:07:59.111Z"
   },
   {
    "duration": 82,
    "start_time": "2023-05-01T11:08:22.466Z"
   },
   {
    "duration": 4,
    "start_time": "2023-05-01T11:08:22.549Z"
   },
   {
    "duration": 10,
    "start_time": "2023-05-01T11:08:39.605Z"
   },
   {
    "duration": 6,
    "start_time": "2023-05-01T11:09:26.854Z"
   },
   {
    "duration": 3,
    "start_time": "2023-05-01T11:09:48.312Z"
   },
   {
    "duration": 3,
    "start_time": "2023-05-01T11:10:01.812Z"
   },
   {
    "duration": 3,
    "start_time": "2023-05-01T11:10:06.519Z"
   },
   {
    "duration": 3,
    "start_time": "2023-05-01T11:10:08.958Z"
   },
   {
    "duration": 354,
    "start_time": "2023-05-01T11:10:09.143Z"
   },
   {
    "duration": 94,
    "start_time": "2023-05-01T11:10:09.499Z"
   },
   {
    "duration": 5,
    "start_time": "2023-05-01T11:10:09.595Z"
   },
   {
    "duration": 3,
    "start_time": "2023-05-01T11:10:09.746Z"
   },
   {
    "duration": 101112,
    "start_time": "2023-05-01T11:10:09.909Z"
   },
   {
    "duration": 1596,
    "start_time": "2023-05-01T11:11:51.023Z"
   },
   {
    "duration": 4,
    "start_time": "2023-05-01T11:11:52.621Z"
   },
   {
    "duration": 18,
    "start_time": "2023-05-01T11:11:52.626Z"
   },
   {
    "duration": 6755,
    "start_time": "2023-05-01T11:11:52.646Z"
   },
   {
    "duration": 922,
    "start_time": "2023-05-01T11:11:59.403Z"
   },
   {
    "duration": 4,
    "start_time": "2023-05-01T11:12:00.327Z"
   },
   {
    "duration": 3,
    "start_time": "2023-05-01T11:12:00.392Z"
   },
   {
    "duration": 18844,
    "start_time": "2023-05-01T11:12:00.397Z"
   },
   {
    "duration": 89,
    "start_time": "2023-05-01T11:12:19.244Z"
   },
   {
    "duration": 4,
    "start_time": "2023-05-01T11:12:19.334Z"
   },
   {
    "duration": 10,
    "start_time": "2023-05-01T11:12:19.340Z"
   },
   {
    "duration": 12,
    "start_time": "2023-05-01T11:12:19.351Z"
   },
   {
    "duration": 77,
    "start_time": "2023-05-01T11:12:42.911Z"
   },
   {
    "duration": 64,
    "start_time": "2023-05-01T11:12:54.962Z"
   },
   {
    "duration": 68,
    "start_time": "2023-05-01T11:13:19.415Z"
   },
   {
    "duration": 50,
    "start_time": "2023-05-01T11:13:19.752Z"
   },
   {
    "duration": 3,
    "start_time": "2023-05-01T11:13:20.110Z"
   },
   {
    "duration": 367,
    "start_time": "2023-05-01T11:13:20.238Z"
   },
   {
    "duration": 6,
    "start_time": "2023-05-01T11:13:20.692Z"
   },
   {
    "duration": 4,
    "start_time": "2023-05-01T11:13:20.700Z"
   },
   {
    "duration": 4,
    "start_time": "2023-05-01T11:13:20.892Z"
   },
   {
    "duration": 113099,
    "start_time": "2023-05-01T11:13:21.010Z"
   },
   {
    "duration": 1330,
    "start_time": "2023-05-01T11:15:14.111Z"
   },
   {
    "duration": 4,
    "start_time": "2023-05-01T11:15:15.442Z"
   },
   {
    "duration": 7,
    "start_time": "2023-05-01T11:15:15.448Z"
   },
   {
    "duration": 6852,
    "start_time": "2023-05-01T11:15:15.457Z"
   },
   {
    "duration": 882,
    "start_time": "2023-05-01T11:15:22.310Z"
   },
   {
    "duration": 5,
    "start_time": "2023-05-01T11:15:23.194Z"
   },
   {
    "duration": 12,
    "start_time": "2023-05-01T11:15:23.201Z"
   },
   {
    "duration": 18852,
    "start_time": "2023-05-01T11:15:23.215Z"
   },
   {
    "duration": 81,
    "start_time": "2023-05-01T11:15:42.069Z"
   },
   {
    "duration": 4,
    "start_time": "2023-05-01T11:15:42.152Z"
   },
   {
    "duration": 19,
    "start_time": "2023-05-01T11:15:42.158Z"
   },
   {
    "duration": 21,
    "start_time": "2023-05-01T11:15:42.179Z"
   },
   {
    "duration": 89,
    "start_time": "2023-05-01T11:15:42.202Z"
   },
   {
    "duration": 75,
    "start_time": "2023-05-01T11:16:15.718Z"
   },
   {
    "duration": 1461,
    "start_time": "2023-05-01T11:16:24.552Z"
   },
   {
    "duration": 819,
    "start_time": "2023-05-01T11:16:26.015Z"
   },
   {
    "duration": 17,
    "start_time": "2023-05-01T11:16:26.836Z"
   },
   {
    "duration": 39,
    "start_time": "2023-05-01T11:16:26.855Z"
   },
   {
    "duration": 990,
    "start_time": "2023-05-01T11:16:26.896Z"
   },
   {
    "duration": 4,
    "start_time": "2023-05-01T11:16:27.888Z"
   },
   {
    "duration": 40,
    "start_time": "2023-05-01T11:16:27.894Z"
   },
   {
    "duration": 128,
    "start_time": "2023-05-01T11:16:27.936Z"
   },
   {
    "duration": 109,
    "start_time": "2023-05-01T11:16:28.066Z"
   },
   {
    "duration": 87,
    "start_time": "2023-05-01T11:16:28.177Z"
   },
   {
    "duration": 28,
    "start_time": "2023-05-01T11:16:28.266Z"
   },
   {
    "duration": 285,
    "start_time": "2023-05-01T11:16:28.296Z"
   },
   {
    "duration": 41,
    "start_time": "2023-05-01T11:16:28.583Z"
   },
   {
    "duration": 27,
    "start_time": "2023-05-01T11:16:28.627Z"
   },
   {
    "duration": 8,
    "start_time": "2023-05-01T11:16:28.656Z"
   },
   {
    "duration": 27,
    "start_time": "2023-05-01T11:16:28.665Z"
   },
   {
    "duration": 632,
    "start_time": "2023-05-01T11:16:28.694Z"
   },
   {
    "duration": 192,
    "start_time": "2023-05-01T11:16:29.328Z"
   },
   {
    "duration": 24,
    "start_time": "2023-05-01T11:16:29.522Z"
   },
   {
    "duration": 27,
    "start_time": "2023-05-01T11:16:29.548Z"
   },
   {
    "duration": 117,
    "start_time": "2023-05-01T11:16:29.592Z"
   },
   {
    "duration": 48,
    "start_time": "2023-05-01T11:16:29.711Z"
   },
   {
    "duration": 14,
    "start_time": "2023-05-01T11:16:29.760Z"
   },
   {
    "duration": 28,
    "start_time": "2023-05-01T11:16:29.791Z"
   },
   {
    "duration": 16,
    "start_time": "2023-05-01T11:16:29.820Z"
   },
   {
    "duration": 33,
    "start_time": "2023-05-01T11:16:29.837Z"
   },
   {
    "duration": 33,
    "start_time": "2023-05-01T11:16:29.871Z"
   },
   {
    "duration": 27,
    "start_time": "2023-05-01T11:16:29.906Z"
   },
   {
    "duration": 25,
    "start_time": "2023-05-01T11:16:29.934Z"
   },
   {
    "duration": 306,
    "start_time": "2023-05-01T11:16:29.960Z"
   },
   {
    "duration": 31,
    "start_time": "2023-05-01T11:16:30.268Z"
   },
   {
    "duration": 622,
    "start_time": "2023-05-01T11:16:30.301Z"
   },
   {
    "duration": 24,
    "start_time": "2023-05-01T11:16:30.924Z"
   },
   {
    "duration": 18,
    "start_time": "2023-05-01T11:16:30.949Z"
   },
   {
    "duration": 39,
    "start_time": "2023-05-01T11:16:30.968Z"
   },
   {
    "duration": 112,
    "start_time": "2023-05-01T11:16:31.009Z"
   },
   {
    "duration": 3,
    "start_time": "2023-05-01T11:16:31.123Z"
   },
   {
    "duration": 272,
    "start_time": "2023-05-01T11:16:31.128Z"
   },
   {
    "duration": 3,
    "start_time": "2023-05-01T11:16:31.402Z"
   },
   {
    "duration": 415,
    "start_time": "2023-05-01T11:16:31.407Z"
   },
   {
    "duration": 4,
    "start_time": "2023-05-01T11:16:31.826Z"
   },
   {
    "duration": 39,
    "start_time": "2023-05-01T11:16:31.832Z"
   },
   {
    "duration": 108,
    "start_time": "2023-05-01T11:16:31.873Z"
   },
   {
    "duration": 54,
    "start_time": "2023-05-01T11:16:31.983Z"
   },
   {
    "duration": 3,
    "start_time": "2023-05-01T11:16:32.039Z"
   },
   {
    "duration": 448,
    "start_time": "2023-05-01T11:16:32.044Z"
   },
   {
    "duration": 8,
    "start_time": "2023-05-01T11:16:32.494Z"
   },
   {
    "duration": 9,
    "start_time": "2023-05-01T11:16:32.505Z"
   },
   {
    "duration": 3,
    "start_time": "2023-05-01T11:16:32.594Z"
   },
   {
    "duration": 104694,
    "start_time": "2023-05-01T11:16:32.598Z"
   },
   {
    "duration": 1337,
    "start_time": "2023-05-01T11:18:17.293Z"
   },
   {
    "duration": 4,
    "start_time": "2023-05-01T11:18:18.632Z"
   },
   {
    "duration": 3,
    "start_time": "2023-05-01T11:18:18.638Z"
   },
   {
    "duration": 7150,
    "start_time": "2023-05-01T11:18:18.643Z"
   },
   {
    "duration": 796,
    "start_time": "2023-05-01T11:18:25.795Z"
   },
   {
    "duration": 4,
    "start_time": "2023-05-01T11:18:26.593Z"
   },
   {
    "duration": 8,
    "start_time": "2023-05-01T11:18:26.599Z"
   },
   {
    "duration": 18105,
    "start_time": "2023-05-01T11:18:26.609Z"
   },
   {
    "duration": 86,
    "start_time": "2023-05-01T11:18:44.716Z"
   },
   {
    "duration": 4,
    "start_time": "2023-05-01T11:18:44.803Z"
   },
   {
    "duration": 14,
    "start_time": "2023-05-01T11:18:44.809Z"
   },
   {
    "duration": 14,
    "start_time": "2023-05-01T11:18:44.825Z"
   },
   {
    "duration": 93,
    "start_time": "2023-05-01T11:18:44.841Z"
   },
   {
    "duration": 37,
    "start_time": "2023-05-01T11:27:56.328Z"
   },
   {
    "duration": 46,
    "start_time": "2023-05-01T11:31:51.006Z"
   },
   {
    "duration": 3,
    "start_time": "2023-05-01T11:32:09.003Z"
   },
   {
    "duration": 117,
    "start_time": "2023-05-01T11:32:15.908Z"
   },
   {
    "duration": 4,
    "start_time": "2023-05-01T11:32:31.937Z"
   },
   {
    "duration": 10,
    "start_time": "2023-05-01T11:33:23.356Z"
   },
   {
    "duration": 10,
    "start_time": "2023-05-01T11:33:25.459Z"
   },
   {
    "duration": 4,
    "start_time": "2023-05-01T11:33:33.764Z"
   },
   {
    "duration": 4,
    "start_time": "2023-05-01T11:33:45.942Z"
   },
   {
    "duration": 4,
    "start_time": "2023-05-01T11:34:57.607Z"
   },
   {
    "duration": 5,
    "start_time": "2023-05-01T11:41:18.549Z"
   },
   {
    "duration": 15,
    "start_time": "2023-05-01T11:41:49.950Z"
   },
   {
    "duration": 4,
    "start_time": "2023-05-01T11:42:03.518Z"
   },
   {
    "duration": 12,
    "start_time": "2023-05-01T11:42:03.839Z"
   },
   {
    "duration": 13,
    "start_time": "2023-05-01T11:42:17.795Z"
   },
   {
    "duration": 5,
    "start_time": "2023-05-01T11:43:25.546Z"
   },
   {
    "duration": 84842,
    "start_time": "2023-05-01T11:43:25.900Z"
   },
   {
    "duration": 7,
    "start_time": "2023-05-01T11:45:12.690Z"
   },
   {
    "duration": 5,
    "start_time": "2023-05-01T11:45:33.118Z"
   },
   {
    "duration": 23524,
    "start_time": "2023-05-01T11:45:33.614Z"
   },
   {
    "duration": 4,
    "start_time": "2023-05-01T11:46:08.505Z"
   },
   {
    "duration": 39349,
    "start_time": "2023-05-01T11:46:09.689Z"
   },
   {
    "duration": 0,
    "start_time": "2023-05-01T11:46:49.040Z"
   },
   {
    "duration": 6,
    "start_time": "2023-05-01T11:46:57.450Z"
   },
   {
    "duration": 165893,
    "start_time": "2023-05-01T11:46:57.930Z"
   },
   {
    "duration": 5,
    "start_time": "2023-05-01T11:49:50.424Z"
   },
   {
    "duration": 4,
    "start_time": "2023-05-01T11:50:04.401Z"
   },
   {
    "duration": 342330,
    "start_time": "2023-05-01T11:50:04.841Z"
   },
   {
    "duration": 5,
    "start_time": "2023-05-01T11:55:47.173Z"
   },
   {
    "duration": 4,
    "start_time": "2023-05-01T11:56:19.920Z"
   },
   {
    "duration": 350712,
    "start_time": "2023-05-01T11:56:20.695Z"
   },
   {
    "duration": 13602,
    "start_time": "2023-05-01T12:02:11.409Z"
   },
   {
    "duration": 0,
    "start_time": "2023-05-01T12:02:25.012Z"
   },
   {
    "duration": 6,
    "start_time": "2023-05-01T12:03:22.814Z"
   },
   {
    "duration": 6,
    "start_time": "2023-05-01T12:03:30.734Z"
   },
   {
    "duration": 13,
    "start_time": "2023-05-01T12:03:31.280Z"
   },
   {
    "duration": 5,
    "start_time": "2023-05-01T12:03:50.719Z"
   },
   {
    "duration": 15,
    "start_time": "2023-05-01T12:03:51.105Z"
   },
   {
    "duration": 5,
    "start_time": "2023-05-01T12:04:01.022Z"
   },
   {
    "duration": 6248,
    "start_time": "2023-05-01T12:04:01.383Z"
   },
   {
    "duration": 5,
    "start_time": "2023-05-01T12:04:11.984Z"
   },
   {
    "duration": 12557,
    "start_time": "2023-05-01T12:04:12.390Z"
   },
   {
    "duration": 6,
    "start_time": "2023-05-01T12:05:32.026Z"
   },
   {
    "duration": 23650,
    "start_time": "2023-05-01T12:05:32.379Z"
   },
   {
    "duration": 4914,
    "start_time": "2023-05-01T12:05:59.379Z"
   },
   {
    "duration": 3,
    "start_time": "2023-05-01T12:06:38.101Z"
   },
   {
    "duration": 9068,
    "start_time": "2023-05-01T12:06:40.328Z"
   },
   {
    "duration": 5,
    "start_time": "2023-05-01T12:07:12.302Z"
   },
   {
    "duration": 7899,
    "start_time": "2023-05-01T12:07:14.200Z"
   },
   {
    "duration": 4,
    "start_time": "2023-05-01T12:07:29.265Z"
   },
   {
    "duration": 6548,
    "start_time": "2023-05-01T12:07:30.951Z"
   },
   {
    "duration": 8557,
    "start_time": "2023-05-01T12:07:57.392Z"
   },
   {
    "duration": 12,
    "start_time": "2023-05-01T12:08:12.607Z"
   },
   {
    "duration": 13,
    "start_time": "2023-05-01T12:08:37.818Z"
   },
   {
    "duration": 1417,
    "start_time": "2023-05-01T12:09:21.811Z"
   },
   {
    "duration": 862,
    "start_time": "2023-05-01T12:09:23.230Z"
   },
   {
    "duration": 18,
    "start_time": "2023-05-01T12:09:24.094Z"
   },
   {
    "duration": 26,
    "start_time": "2023-05-01T12:09:24.114Z"
   },
   {
    "duration": 1075,
    "start_time": "2023-05-01T12:09:24.141Z"
   },
   {
    "duration": 2,
    "start_time": "2023-05-01T12:09:25.218Z"
   },
   {
    "duration": 44,
    "start_time": "2023-05-01T12:09:25.222Z"
   },
   {
    "duration": 98,
    "start_time": "2023-05-01T12:09:25.268Z"
   },
   {
    "duration": 88,
    "start_time": "2023-05-01T12:09:25.368Z"
   },
   {
    "duration": 85,
    "start_time": "2023-05-01T12:09:25.459Z"
   },
   {
    "duration": 16,
    "start_time": "2023-05-01T12:09:25.546Z"
   },
   {
    "duration": 304,
    "start_time": "2023-05-01T12:09:25.564Z"
   },
   {
    "duration": 46,
    "start_time": "2023-05-01T12:09:25.870Z"
   },
   {
    "duration": 29,
    "start_time": "2023-05-01T12:09:25.917Z"
   },
   {
    "duration": 9,
    "start_time": "2023-05-01T12:09:25.948Z"
   },
   {
    "duration": 7,
    "start_time": "2023-05-01T12:09:25.959Z"
   },
   {
    "duration": 544,
    "start_time": "2023-05-01T12:09:25.968Z"
   },
   {
    "duration": 284,
    "start_time": "2023-05-01T12:09:26.513Z"
   },
   {
    "duration": 27,
    "start_time": "2023-05-01T12:09:26.799Z"
   },
   {
    "duration": 30,
    "start_time": "2023-05-01T12:09:26.827Z"
   },
   {
    "duration": 134,
    "start_time": "2023-05-01T12:09:26.859Z"
   },
   {
    "duration": 51,
    "start_time": "2023-05-01T12:09:26.995Z"
   },
   {
    "duration": 16,
    "start_time": "2023-05-01T12:09:27.048Z"
   },
   {
    "duration": 52,
    "start_time": "2023-05-01T12:09:27.066Z"
   },
   {
    "duration": 15,
    "start_time": "2023-05-01T12:09:27.120Z"
   },
   {
    "duration": 20,
    "start_time": "2023-05-01T12:09:27.136Z"
   },
   {
    "duration": 38,
    "start_time": "2023-05-01T12:09:27.157Z"
   },
   {
    "duration": 22,
    "start_time": "2023-05-01T12:09:27.198Z"
   },
   {
    "duration": 47,
    "start_time": "2023-05-01T12:09:27.221Z"
   },
   {
    "duration": 389,
    "start_time": "2023-05-01T12:09:27.269Z"
   },
   {
    "duration": 32,
    "start_time": "2023-05-01T12:09:27.660Z"
   },
   {
    "duration": 606,
    "start_time": "2023-05-01T12:09:27.694Z"
   },
   {
    "duration": 22,
    "start_time": "2023-05-01T12:09:28.302Z"
   },
   {
    "duration": 5,
    "start_time": "2023-05-01T12:09:28.326Z"
   },
   {
    "duration": 16,
    "start_time": "2023-05-01T12:09:28.332Z"
   },
   {
    "duration": 115,
    "start_time": "2023-05-01T12:09:28.350Z"
   },
   {
    "duration": 3,
    "start_time": "2023-05-01T12:09:28.466Z"
   },
   {
    "duration": 245,
    "start_time": "2023-05-01T12:09:28.471Z"
   },
   {
    "duration": 3,
    "start_time": "2023-05-01T12:09:28.717Z"
   },
   {
    "duration": 373,
    "start_time": "2023-05-01T12:09:28.722Z"
   },
   {
    "duration": 5,
    "start_time": "2023-05-01T12:09:29.097Z"
   },
   {
    "duration": 32,
    "start_time": "2023-05-01T12:09:29.104Z"
   },
   {
    "duration": 101,
    "start_time": "2023-05-01T12:09:29.138Z"
   },
   {
    "duration": 60,
    "start_time": "2023-05-01T12:09:29.241Z"
   },
   {
    "duration": 2,
    "start_time": "2023-05-01T12:09:29.303Z"
   },
   {
    "duration": 401,
    "start_time": "2023-05-01T12:09:29.306Z"
   },
   {
    "duration": 92,
    "start_time": "2023-05-01T12:09:29.709Z"
   },
   {
    "duration": 89,
    "start_time": "2023-05-01T12:09:29.803Z"
   },
   {
    "duration": 10,
    "start_time": "2023-05-01T12:09:29.896Z"
   },
   {
    "duration": 4,
    "start_time": "2023-05-01T12:09:29.992Z"
   },
   {
    "duration": 47634,
    "start_time": "2023-05-01T12:09:29.998Z"
   },
   {
    "duration": 5765,
    "start_time": "2023-05-01T12:10:17.633Z"
   },
   {
    "duration": 7214,
    "start_time": "2023-05-01T12:10:23.400Z"
   },
   {
    "duration": 11,
    "start_time": "2023-05-01T12:10:30.616Z"
   },
   {
    "duration": 28,
    "start_time": "2023-05-01T12:10:30.630Z"
   },
   {
    "duration": 123,
    "start_time": "2023-05-01T12:10:30.660Z"
   },
   {
    "duration": 42,
    "start_time": "2023-05-01T12:11:34.394Z"
   },
   {
    "duration": 6,
    "start_time": "2023-05-01T12:12:13.139Z"
   },
   {
    "duration": 10,
    "start_time": "2023-05-01T12:13:22.488Z"
   },
   {
    "duration": 13,
    "start_time": "2023-05-01T12:13:46.765Z"
   },
   {
    "duration": 13,
    "start_time": "2023-05-01T12:13:58.791Z"
   },
   {
    "duration": 11,
    "start_time": "2023-05-01T12:14:11.320Z"
   },
   {
    "duration": 11,
    "start_time": "2023-05-01T12:14:18.589Z"
   },
   {
    "duration": 9,
    "start_time": "2023-05-01T12:17:03.533Z"
   },
   {
    "duration": 26,
    "start_time": "2023-05-01T12:17:19.335Z"
   },
   {
    "duration": 7,
    "start_time": "2023-05-01T12:17:27.751Z"
   },
   {
    "duration": 6,
    "start_time": "2023-05-01T12:17:42.735Z"
   },
   {
    "duration": 4,
    "start_time": "2023-05-01T12:17:51.705Z"
   },
   {
    "duration": 4,
    "start_time": "2023-05-01T12:18:03.097Z"
   },
   {
    "duration": 16146,
    "start_time": "2023-05-01T12:18:50.105Z"
   },
   {
    "duration": 3,
    "start_time": "2023-05-01T12:20:02.820Z"
   },
   {
    "duration": 44954,
    "start_time": "2023-05-01T12:20:05.452Z"
   },
   {
    "duration": 5,
    "start_time": "2023-05-01T12:21:50.295Z"
   },
   {
    "duration": 8159,
    "start_time": "2023-05-01T12:21:52.352Z"
   },
   {
    "duration": 8,
    "start_time": "2023-05-01T12:22:05.200Z"
   },
   {
    "duration": 7,
    "start_time": "2023-05-01T12:23:49.054Z"
   },
   {
    "duration": 3,
    "start_time": "2023-05-01T12:23:53.044Z"
   },
   {
    "duration": 19098,
    "start_time": "2023-05-01T12:23:54.311Z"
   },
   {
    "duration": 1410,
    "start_time": "2023-05-01T12:24:19.327Z"
   },
   {
    "duration": 835,
    "start_time": "2023-05-01T12:24:20.739Z"
   },
   {
    "duration": 25,
    "start_time": "2023-05-01T12:24:21.576Z"
   },
   {
    "duration": 28,
    "start_time": "2023-05-01T12:24:21.602Z"
   },
   {
    "duration": 960,
    "start_time": "2023-05-01T12:24:21.632Z"
   },
   {
    "duration": 3,
    "start_time": "2023-05-01T12:24:22.593Z"
   },
   {
    "duration": 63,
    "start_time": "2023-05-01T12:24:22.598Z"
   },
   {
    "duration": 83,
    "start_time": "2023-05-01T12:24:22.662Z"
   },
   {
    "duration": 96,
    "start_time": "2023-05-01T12:24:22.747Z"
   },
   {
    "duration": 87,
    "start_time": "2023-05-01T12:24:22.845Z"
   },
   {
    "duration": 19,
    "start_time": "2023-05-01T12:24:22.934Z"
   },
   {
    "duration": 343,
    "start_time": "2023-05-01T12:24:22.955Z"
   },
   {
    "duration": 37,
    "start_time": "2023-05-01T12:24:23.299Z"
   },
   {
    "duration": 29,
    "start_time": "2023-05-01T12:24:23.339Z"
   },
   {
    "duration": 24,
    "start_time": "2023-05-01T12:24:23.370Z"
   },
   {
    "duration": 21,
    "start_time": "2023-05-01T12:24:23.395Z"
   },
   {
    "duration": 658,
    "start_time": "2023-05-01T12:24:23.418Z"
   },
   {
    "duration": 229,
    "start_time": "2023-05-01T12:24:24.077Z"
   },
   {
    "duration": 28,
    "start_time": "2023-05-01T12:24:24.308Z"
   },
   {
    "duration": 38,
    "start_time": "2023-05-01T12:24:24.338Z"
   },
   {
    "duration": 140,
    "start_time": "2023-05-01T12:24:24.391Z"
   },
   {
    "duration": 66,
    "start_time": "2023-05-01T12:24:24.533Z"
   },
   {
    "duration": 16,
    "start_time": "2023-05-01T12:24:24.601Z"
   },
   {
    "duration": 32,
    "start_time": "2023-05-01T12:24:24.619Z"
   },
   {
    "duration": 17,
    "start_time": "2023-05-01T12:24:24.652Z"
   },
   {
    "duration": 39,
    "start_time": "2023-05-01T12:24:24.670Z"
   },
   {
    "duration": 33,
    "start_time": "2023-05-01T12:24:24.710Z"
   },
   {
    "duration": 22,
    "start_time": "2023-05-01T12:24:24.745Z"
   },
   {
    "duration": 34,
    "start_time": "2023-05-01T12:24:24.769Z"
   },
   {
    "duration": 347,
    "start_time": "2023-05-01T12:24:24.804Z"
   },
   {
    "duration": 24,
    "start_time": "2023-05-01T12:24:25.152Z"
   },
   {
    "duration": 634,
    "start_time": "2023-05-01T12:24:25.178Z"
   },
   {
    "duration": 21,
    "start_time": "2023-05-01T12:24:25.813Z"
   },
   {
    "duration": 4,
    "start_time": "2023-05-01T12:24:25.836Z"
   },
   {
    "duration": 30,
    "start_time": "2023-05-01T12:24:25.842Z"
   },
   {
    "duration": 99,
    "start_time": "2023-05-01T12:24:25.874Z"
   },
   {
    "duration": 3,
    "start_time": "2023-05-01T12:24:25.974Z"
   },
   {
    "duration": 257,
    "start_time": "2023-05-01T12:24:25.978Z"
   },
   {
    "duration": 3,
    "start_time": "2023-05-01T12:24:26.237Z"
   },
   {
    "duration": 401,
    "start_time": "2023-05-01T12:24:26.241Z"
   },
   {
    "duration": 4,
    "start_time": "2023-05-01T12:24:26.646Z"
   },
   {
    "duration": 47,
    "start_time": "2023-05-01T12:24:26.652Z"
   },
   {
    "duration": 92,
    "start_time": "2023-05-01T12:24:26.700Z"
   },
   {
    "duration": 52,
    "start_time": "2023-05-01T12:24:26.794Z"
   },
   {
    "duration": 3,
    "start_time": "2023-05-01T12:24:26.848Z"
   },
   {
    "duration": 441,
    "start_time": "2023-05-01T12:24:26.853Z"
   },
   {
    "duration": 8,
    "start_time": "2023-05-01T12:24:27.296Z"
   },
   {
    "duration": 94,
    "start_time": "2023-05-01T12:24:27.307Z"
   },
   {
    "duration": 89,
    "start_time": "2023-05-01T12:24:27.407Z"
   },
   {
    "duration": 16,
    "start_time": "2023-05-01T12:24:27.499Z"
   },
   {
    "duration": 56456,
    "start_time": "2023-05-01T12:24:27.517Z"
   },
   {
    "duration": 0,
    "start_time": "2023-05-01T12:25:23.975Z"
   },
   {
    "duration": 0,
    "start_time": "2023-05-01T12:25:23.977Z"
   },
   {
    "duration": 0,
    "start_time": "2023-05-01T12:25:23.979Z"
   },
   {
    "duration": 0,
    "start_time": "2023-05-01T12:25:23.992Z"
   },
   {
    "duration": 0,
    "start_time": "2023-05-01T12:25:23.993Z"
   },
   {
    "duration": 0,
    "start_time": "2023-05-01T12:25:23.995Z"
   },
   {
    "duration": 1,
    "start_time": "2023-05-01T12:25:23.996Z"
   },
   {
    "duration": 0,
    "start_time": "2023-05-01T12:25:23.998Z"
   },
   {
    "duration": 0,
    "start_time": "2023-05-01T12:25:23.999Z"
   },
   {
    "duration": 4,
    "start_time": "2023-05-01T12:25:29.831Z"
   },
   {
    "duration": 34369,
    "start_time": "2023-05-01T12:25:30.284Z"
   },
   {
    "duration": 0,
    "start_time": "2023-05-01T12:26:04.656Z"
   },
   {
    "duration": 0,
    "start_time": "2023-05-01T12:26:04.657Z"
   },
   {
    "duration": 0,
    "start_time": "2023-05-01T12:26:04.659Z"
   },
   {
    "duration": 0,
    "start_time": "2023-05-01T12:26:04.661Z"
   },
   {
    "duration": 0,
    "start_time": "2023-05-01T12:26:04.662Z"
   },
   {
    "duration": 6,
    "start_time": "2023-05-01T12:27:45.301Z"
   },
   {
    "duration": 2,
    "start_time": "2023-05-01T12:27:45.613Z"
   },
   {
    "duration": 12296,
    "start_time": "2023-05-01T12:27:45.992Z"
   },
   {
    "duration": 5,
    "start_time": "2023-05-01T12:28:04.274Z"
   },
   {
    "duration": 3,
    "start_time": "2023-05-01T12:28:04.535Z"
   },
   {
    "duration": 12385,
    "start_time": "2023-05-01T12:28:04.781Z"
   },
   {
    "duration": 92520,
    "start_time": "2023-05-01T12:28:18.996Z"
   },
   {
    "duration": 88,
    "start_time": "2023-05-01T12:29:51.518Z"
   },
   {
    "duration": 0,
    "start_time": "2023-05-01T12:29:51.609Z"
   },
   {
    "duration": 0,
    "start_time": "2023-05-01T12:29:51.610Z"
   },
   {
    "duration": 19,
    "start_time": "2023-05-01T12:30:04.489Z"
   },
   {
    "duration": 7,
    "start_time": "2023-05-01T12:30:25.592Z"
   },
   {
    "duration": 4711,
    "start_time": "2023-05-01T12:30:27.491Z"
   },
   {
    "duration": 3,
    "start_time": "2023-05-01T12:30:39.155Z"
   },
   {
    "duration": 260,
    "start_time": "2023-05-01T12:30:40.019Z"
   },
   {
    "duration": 6,
    "start_time": "2023-05-01T12:30:55.421Z"
   },
   {
    "duration": 3,
    "start_time": "2023-05-01T12:31:01.261Z"
   },
   {
    "duration": 294,
    "start_time": "2023-05-01T12:31:01.702Z"
   },
   {
    "duration": 76246,
    "start_time": "2023-05-01T12:31:17.565Z"
   },
   {
    "duration": 456,
    "start_time": "2023-05-01T12:32:38.328Z"
   },
   {
    "duration": 5,
    "start_time": "2023-05-01T12:33:21.776Z"
   },
   {
    "duration": 3,
    "start_time": "2023-05-01T12:33:24.382Z"
   },
   {
    "duration": 12476,
    "start_time": "2023-05-01T12:33:24.594Z"
   },
   {
    "duration": 76215,
    "start_time": "2023-05-01T12:33:38.587Z"
   },
   {
    "duration": 1698,
    "start_time": "2023-05-01T12:34:54.804Z"
   },
   {
    "duration": 1613,
    "start_time": "2023-05-01T12:35:36.328Z"
   },
   {
    "duration": 871,
    "start_time": "2023-05-01T12:35:37.944Z"
   },
   {
    "duration": 17,
    "start_time": "2023-05-01T12:35:38.817Z"
   },
   {
    "duration": 22,
    "start_time": "2023-05-01T12:35:38.836Z"
   },
   {
    "duration": 1010,
    "start_time": "2023-05-01T12:35:38.860Z"
   },
   {
    "duration": 2,
    "start_time": "2023-05-01T12:35:39.872Z"
   },
   {
    "duration": 68,
    "start_time": "2023-05-01T12:35:39.876Z"
   },
   {
    "duration": 87,
    "start_time": "2023-05-01T12:35:39.945Z"
   },
   {
    "duration": 99,
    "start_time": "2023-05-01T12:35:40.034Z"
   },
   {
    "duration": 95,
    "start_time": "2023-05-01T12:35:40.135Z"
   },
   {
    "duration": 18,
    "start_time": "2023-05-01T12:35:40.232Z"
   },
   {
    "duration": 352,
    "start_time": "2023-05-01T12:35:40.252Z"
   },
   {
    "duration": 46,
    "start_time": "2023-05-01T12:35:40.606Z"
   },
   {
    "duration": 48,
    "start_time": "2023-05-01T12:35:40.657Z"
   },
   {
    "duration": 11,
    "start_time": "2023-05-01T12:35:40.707Z"
   },
   {
    "duration": 13,
    "start_time": "2023-05-01T12:35:40.721Z"
   },
   {
    "duration": 577,
    "start_time": "2023-05-01T12:35:40.737Z"
   },
   {
    "duration": 295,
    "start_time": "2023-05-01T12:35:41.316Z"
   },
   {
    "duration": 27,
    "start_time": "2023-05-01T12:35:41.613Z"
   },
   {
    "duration": 106,
    "start_time": "2023-05-01T12:35:41.641Z"
   },
   {
    "duration": 122,
    "start_time": "2023-05-01T12:35:41.749Z"
   },
   {
    "duration": 79,
    "start_time": "2023-05-01T12:35:41.873Z"
   },
   {
    "duration": 13,
    "start_time": "2023-05-01T12:35:41.954Z"
   },
   {
    "duration": 45,
    "start_time": "2023-05-01T12:35:41.969Z"
   },
   {
    "duration": 38,
    "start_time": "2023-05-01T12:35:42.016Z"
   },
   {
    "duration": 26,
    "start_time": "2023-05-01T12:35:42.056Z"
   },
   {
    "duration": 38,
    "start_time": "2023-05-01T12:35:42.084Z"
   },
   {
    "duration": 31,
    "start_time": "2023-05-01T12:35:42.125Z"
   },
   {
    "duration": 22,
    "start_time": "2023-05-01T12:35:42.157Z"
   },
   {
    "duration": 361,
    "start_time": "2023-05-01T12:35:42.181Z"
   },
   {
    "duration": 24,
    "start_time": "2023-05-01T12:35:42.544Z"
   },
   {
    "duration": 749,
    "start_time": "2023-05-01T12:35:42.570Z"
   },
   {
    "duration": 24,
    "start_time": "2023-05-01T12:35:43.321Z"
   },
   {
    "duration": 5,
    "start_time": "2023-05-01T12:35:43.347Z"
   },
   {
    "duration": 41,
    "start_time": "2023-05-01T12:35:43.354Z"
   },
   {
    "duration": 103,
    "start_time": "2023-05-01T12:35:43.397Z"
   },
   {
    "duration": 3,
    "start_time": "2023-05-01T12:35:43.502Z"
   },
   {
    "duration": 324,
    "start_time": "2023-05-01T12:35:43.507Z"
   },
   {
    "duration": 5,
    "start_time": "2023-05-01T12:35:43.834Z"
   },
   {
    "duration": 433,
    "start_time": "2023-05-01T12:35:43.842Z"
   },
   {
    "duration": 5,
    "start_time": "2023-05-01T12:35:44.277Z"
   },
   {
    "duration": 38,
    "start_time": "2023-05-01T12:35:44.284Z"
   },
   {
    "duration": 106,
    "start_time": "2023-05-01T12:35:44.324Z"
   },
   {
    "duration": 72,
    "start_time": "2023-05-01T12:35:44.432Z"
   },
   {
    "duration": 3,
    "start_time": "2023-05-01T12:35:44.507Z"
   },
   {
    "duration": 589,
    "start_time": "2023-05-01T12:35:44.512Z"
   },
   {
    "duration": 188,
    "start_time": "2023-05-01T12:35:45.104Z"
   },
   {
    "duration": 9,
    "start_time": "2023-05-01T12:35:45.295Z"
   },
   {
    "duration": 90,
    "start_time": "2023-05-01T12:35:45.307Z"
   },
   {
    "duration": 11,
    "start_time": "2023-05-01T12:35:45.400Z"
   },
   {
    "duration": 363479,
    "start_time": "2023-05-01T12:35:45.413Z"
   },
   {
    "duration": 504533,
    "start_time": "2023-05-01T12:41:48.893Z"
   },
   {
    "duration": 48827,
    "start_time": "2023-05-01T12:50:13.493Z"
   },
   {
    "duration": 15,
    "start_time": "2023-05-01T12:51:02.322Z"
   },
   {
    "duration": 15,
    "start_time": "2023-05-01T12:51:02.339Z"
   },
   {
    "duration": 55,
    "start_time": "2023-05-01T12:51:02.356Z"
   },
   {
    "duration": 5,
    "start_time": "2023-05-01T12:51:02.412Z"
   },
   {
    "duration": 17000,
    "start_time": "2023-05-01T12:51:02.419Z"
   },
   {
    "duration": 4,
    "start_time": "2023-05-01T12:52:01.244Z"
   },
   {
    "duration": 8,
    "start_time": "2023-05-01T12:52:09.620Z"
   },
   {
    "duration": 4,
    "start_time": "2023-05-01T12:52:56.582Z"
   },
   {
    "duration": 130,
    "start_time": "2023-05-01T12:53:06.805Z"
   },
   {
    "duration": 5,
    "start_time": "2023-05-01T12:53:10.430Z"
   },
   {
    "duration": 5,
    "start_time": "2023-05-01T12:53:25.207Z"
   },
   {
    "duration": 5,
    "start_time": "2023-05-01T12:53:27.767Z"
   },
   {
    "duration": 4,
    "start_time": "2023-05-01T12:53:34.256Z"
   },
   {
    "duration": 10,
    "start_time": "2023-05-01T12:54:17.225Z"
   },
   {
    "duration": 8,
    "start_time": "2023-05-01T12:54:22.441Z"
   },
   {
    "duration": 12,
    "start_time": "2023-05-01T12:54:37.314Z"
   },
   {
    "duration": 7,
    "start_time": "2023-05-01T12:54:44.041Z"
   },
   {
    "duration": 7,
    "start_time": "2023-05-01T12:54:55.846Z"
   },
   {
    "duration": 2256,
    "start_time": "2023-05-02T06:16:48.706Z"
   },
   {
    "duration": 3336,
    "start_time": "2023-05-02T06:16:50.965Z"
   },
   {
    "duration": 25,
    "start_time": "2023-05-02T06:16:54.304Z"
   },
   {
    "duration": 39,
    "start_time": "2023-05-02T06:16:54.333Z"
   },
   {
    "duration": 1163,
    "start_time": "2023-05-02T06:16:55.145Z"
   },
   {
    "duration": 3,
    "start_time": "2023-05-02T06:17:13.022Z"
   },
   {
    "duration": 45,
    "start_time": "2023-05-02T06:17:19.104Z"
   },
   {
    "duration": 114,
    "start_time": "2023-05-02T06:17:50.843Z"
   },
   {
    "duration": 106,
    "start_time": "2023-05-02T06:17:51.206Z"
   },
   {
    "duration": 87,
    "start_time": "2023-05-02T06:17:54.943Z"
   },
   {
    "duration": 18,
    "start_time": "2023-05-02T06:18:15.112Z"
   },
   {
    "duration": 370,
    "start_time": "2023-05-02T06:18:16.907Z"
   },
   {
    "duration": 37,
    "start_time": "2023-05-02T06:18:23.986Z"
   },
   {
    "duration": 29,
    "start_time": "2023-05-02T06:18:39.743Z"
   },
   {
    "duration": 9,
    "start_time": "2023-05-02T06:19:24.442Z"
   },
   {
    "duration": 8,
    "start_time": "2023-05-02T06:19:28.222Z"
   },
   {
    "duration": 590,
    "start_time": "2023-05-02T06:20:29.383Z"
   },
   {
    "duration": 282,
    "start_time": "2023-05-02T06:20:30.306Z"
   },
   {
    "duration": 27,
    "start_time": "2023-05-02T06:20:37.522Z"
   },
   {
    "duration": 38,
    "start_time": "2023-05-02T06:20:58.307Z"
   },
   {
    "duration": 113,
    "start_time": "2023-05-02T06:21:02.706Z"
   },
   {
    "duration": 57,
    "start_time": "2023-05-02T06:21:02.943Z"
   },
   {
    "duration": 18,
    "start_time": "2023-05-02T06:21:08.542Z"
   },
   {
    "duration": 36,
    "start_time": "2023-05-02T06:21:42.016Z"
   },
   {
    "duration": 18,
    "start_time": "2023-05-02T06:21:51.406Z"
   },
   {
    "duration": 34,
    "start_time": "2023-05-02T06:21:51.883Z"
   },
   {
    "duration": 30,
    "start_time": "2023-05-02T06:22:14.386Z"
   },
   {
    "duration": 19,
    "start_time": "2023-05-02T06:22:14.723Z"
   },
   {
    "duration": 36,
    "start_time": "2023-05-02T06:22:18.783Z"
   },
   {
    "duration": 25,
    "start_time": "2023-05-02T06:22:18.822Z"
   },
   {
    "duration": 20,
    "start_time": "2023-05-02T06:22:20.642Z"
   },
   {
    "duration": 352,
    "start_time": "2023-05-02T06:22:26.942Z"
   },
   {
    "duration": 26,
    "start_time": "2023-05-02T06:22:41.343Z"
   },
   {
    "duration": 775,
    "start_time": "2023-05-02T06:22:56.708Z"
   },
   {
    "duration": 25,
    "start_time": "2023-05-02T06:23:04.405Z"
   },
   {
    "duration": 5,
    "start_time": "2023-05-02T06:23:19.505Z"
   },
   {
    "duration": 70,
    "start_time": "2023-05-02T06:23:31.868Z"
   },
   {
    "duration": 85,
    "start_time": "2023-05-02T06:24:16.416Z"
   },
   {
    "duration": 47,
    "start_time": "2023-05-02T06:26:21.822Z"
   },
   {
    "duration": 4,
    "start_time": "2023-05-02T06:26:33.987Z"
   },
   {
    "duration": 4,
    "start_time": "2023-05-02T06:27:54.378Z"
   },
   {
    "duration": 4,
    "start_time": "2023-05-02T06:28:22.485Z"
   },
   {
    "duration": 15,
    "start_time": "2023-05-02T06:29:27.343Z"
   },
   {
    "duration": 99,
    "start_time": "2023-05-02T06:29:28.469Z"
   },
   {
    "duration": 2,
    "start_time": "2023-05-02T06:29:32.073Z"
   },
   {
    "duration": 233,
    "start_time": "2023-05-02T06:29:41.984Z"
   },
   {
    "duration": 4,
    "start_time": "2023-05-02T06:30:26.624Z"
   },
   {
    "duration": 446,
    "start_time": "2023-05-02T06:30:27.287Z"
   },
   {
    "duration": 4,
    "start_time": "2023-05-02T06:30:27.735Z"
   },
   {
    "duration": 31,
    "start_time": "2023-05-02T06:30:55.743Z"
   },
   {
    "duration": 205,
    "start_time": "2023-05-02T06:30:59.310Z"
   },
   {
    "duration": 82,
    "start_time": "2023-05-02T06:31:41.521Z"
   },
   {
    "duration": 57,
    "start_time": "2023-05-02T06:32:24.086Z"
   },
   {
    "duration": 46,
    "start_time": "2023-05-02T06:33:37.437Z"
   },
   {
    "duration": 60,
    "start_time": "2023-05-02T06:33:51.344Z"
   },
   {
    "duration": 163,
    "start_time": "2023-05-02T12:19:12.612Z"
   },
   {
    "duration": 1811,
    "start_time": "2023-05-02T12:19:34.509Z"
   },
   {
    "duration": 2992,
    "start_time": "2023-05-02T12:19:36.322Z"
   },
   {
    "duration": 16,
    "start_time": "2023-05-02T12:19:39.316Z"
   },
   {
    "duration": 35,
    "start_time": "2023-05-02T12:19:39.334Z"
   },
   {
    "duration": 966,
    "start_time": "2023-05-02T12:19:39.371Z"
   },
   {
    "duration": 3,
    "start_time": "2023-05-02T12:19:54.217Z"
   },
   {
    "duration": 45,
    "start_time": "2023-05-02T12:19:54.812Z"
   },
   {
    "duration": 99,
    "start_time": "2023-05-02T12:19:55.818Z"
   },
   {
    "duration": 86,
    "start_time": "2023-05-02T12:19:56.130Z"
   },
   {
    "duration": 66,
    "start_time": "2023-05-02T12:19:57.882Z"
   },
   {
    "duration": 15,
    "start_time": "2023-05-02T12:19:58.312Z"
   },
   {
    "duration": 290,
    "start_time": "2023-05-02T12:19:58.634Z"
   },
   {
    "duration": 38,
    "start_time": "2023-05-02T12:19:58.978Z"
   },
   {
    "duration": 31,
    "start_time": "2023-05-02T12:20:00.681Z"
   },
   {
    "duration": 7,
    "start_time": "2023-05-02T12:20:01.204Z"
   },
   {
    "duration": 7,
    "start_time": "2023-05-02T12:20:02.238Z"
   },
   {
    "duration": 5,
    "start_time": "2023-05-02T12:25:49.409Z"
   },
   {
    "duration": 815,
    "start_time": "2023-05-02T12:25:49.655Z"
   },
   {
    "duration": 14,
    "start_time": "2023-05-02T12:25:50.472Z"
   },
   {
    "duration": 40,
    "start_time": "2023-05-02T12:25:50.488Z"
   },
   {
    "duration": 17,
    "start_time": "2023-05-02T12:25:50.774Z"
   },
   {
    "duration": 417,
    "start_time": "2023-05-02T12:25:52.375Z"
   },
   {
    "duration": 915,
    "start_time": "2023-05-02T12:26:06.011Z"
   },
   {
    "duration": 2,
    "start_time": "2023-05-02T12:26:27.536Z"
   },
   {
    "duration": 89,
    "start_time": "2023-05-02T12:26:28.335Z"
   },
   {
    "duration": 94,
    "start_time": "2023-05-02T12:26:29.920Z"
   },
   {
    "duration": 142,
    "start_time": "2023-05-02T12:26:30.528Z"
   },
   {
    "duration": 16,
    "start_time": "2023-05-02T12:26:33.080Z"
   },
   {
    "duration": 242,
    "start_time": "2023-05-02T12:26:34.873Z"
   },
   {
    "duration": 25,
    "start_time": "2023-05-02T12:26:38.217Z"
   },
   {
    "duration": 23,
    "start_time": "2023-05-02T12:26:41.108Z"
   },
   {
    "duration": 7,
    "start_time": "2023-05-02T12:26:41.840Z"
   },
   {
    "duration": 31,
    "start_time": "2023-05-02T12:28:22.853Z"
   },
   {
    "duration": 7,
    "start_time": "2023-05-02T12:28:41.054Z"
   },
   {
    "duration": 8,
    "start_time": "2023-05-02T12:28:48.877Z"
   },
   {
    "duration": 9,
    "start_time": "2023-05-02T12:28:52.419Z"
   },
   {
    "duration": 9,
    "start_time": "2023-05-02T12:28:57.207Z"
   },
   {
    "duration": 11,
    "start_time": "2023-05-02T12:29:00.604Z"
   },
   {
    "duration": 11,
    "start_time": "2023-05-02T12:29:07.769Z"
   },
   {
    "duration": 215,
    "start_time": "2023-05-02T12:29:35.566Z"
   },
   {
    "duration": 29,
    "start_time": "2023-05-02T12:29:45.104Z"
   },
   {
    "duration": 25,
    "start_time": "2023-05-02T12:30:07.811Z"
   },
   {
    "duration": 4,
    "start_time": "2023-05-02T12:30:12.463Z"
   },
   {
    "duration": 4,
    "start_time": "2023-05-02T12:30:15.720Z"
   },
   {
    "duration": 5,
    "start_time": "2023-05-02T12:30:30.370Z"
   },
   {
    "duration": 6,
    "start_time": "2023-05-02T12:30:34.611Z"
   },
   {
    "duration": 29,
    "start_time": "2023-05-02T12:30:42.229Z"
   },
   {
    "duration": 30,
    "start_time": "2023-05-02T12:32:40.006Z"
   },
   {
    "duration": 38,
    "start_time": "2023-05-02T12:33:03.034Z"
   },
   {
    "duration": 4,
    "start_time": "2023-05-02T12:33:49.033Z"
   },
   {
    "duration": 4,
    "start_time": "2023-05-02T12:33:55.369Z"
   },
   {
    "duration": 199,
    "start_time": "2023-05-02T12:34:05.122Z"
   },
   {
    "duration": 4,
    "start_time": "2023-05-02T12:34:09.321Z"
   },
   {
    "duration": 15,
    "start_time": "2023-05-02T12:35:16.843Z"
   },
   {
    "duration": 3,
    "start_time": "2023-05-02T12:35:19.114Z"
   },
   {
    "duration": 5,
    "start_time": "2023-05-02T12:35:35.247Z"
   },
   {
    "duration": 6,
    "start_time": "2023-05-02T12:35:56.437Z"
   },
   {
    "duration": 124,
    "start_time": "2023-05-02T12:36:20.401Z"
   },
   {
    "duration": 126,
    "start_time": "2023-05-02T12:36:28.279Z"
   },
   {
    "duration": 353,
    "start_time": "2023-05-02T12:36:45.718Z"
   },
   {
    "duration": 224,
    "start_time": "2023-05-02T12:36:58.727Z"
   },
   {
    "duration": 136,
    "start_time": "2023-05-02T12:37:18.624Z"
   },
   {
    "duration": 4,
    "start_time": "2023-05-02T12:37:28.981Z"
   },
   {
    "duration": 709,
    "start_time": "2023-05-02T12:37:29.181Z"
   },
   {
    "duration": 12,
    "start_time": "2023-05-02T12:37:29.892Z"
   },
   {
    "duration": 35,
    "start_time": "2023-05-02T12:37:29.905Z"
   },
   {
    "duration": 20,
    "start_time": "2023-05-02T12:37:29.942Z"
   },
   {
    "duration": 463,
    "start_time": "2023-05-02T12:37:30.018Z"
   },
   {
    "duration": 3,
    "start_time": "2023-05-02T12:37:30.552Z"
   },
   {
    "duration": 90,
    "start_time": "2023-05-02T12:37:31.705Z"
   },
   {
    "duration": 87,
    "start_time": "2023-05-02T12:37:31.928Z"
   },
   {
    "duration": 65,
    "start_time": "2023-05-02T12:37:32.152Z"
   },
   {
    "duration": 16,
    "start_time": "2023-05-02T12:37:32.841Z"
   },
   {
    "duration": 237,
    "start_time": "2023-05-02T12:37:33.914Z"
   },
   {
    "duration": 32,
    "start_time": "2023-05-02T12:37:34.753Z"
   },
   {
    "duration": 25,
    "start_time": "2023-05-02T12:37:35.729Z"
   },
   {
    "duration": 7,
    "start_time": "2023-05-02T12:37:37.323Z"
   },
   {
    "duration": 127,
    "start_time": "2023-05-02T12:37:40.813Z"
   },
   {
    "duration": 145,
    "start_time": "2023-05-02T12:37:46.627Z"
   },
   {
    "duration": 470,
    "start_time": "2023-05-02T12:38:03.634Z"
   },
   {
    "duration": 126,
    "start_time": "2023-05-02T12:38:21.043Z"
   },
   {
    "duration": 123,
    "start_time": "2023-05-02T12:38:34.623Z"
   },
   {
    "duration": 1378,
    "start_time": "2023-05-02T12:38:40.816Z"
   },
   {
    "duration": 538,
    "start_time": "2023-05-02T12:38:48.906Z"
   },
   {
    "duration": 8,
    "start_time": "2023-05-02T12:39:18.519Z"
   },
   {
    "duration": 447,
    "start_time": "2023-05-02T12:39:27.853Z"
   },
   {
    "duration": 8,
    "start_time": "2023-05-02T12:40:04.430Z"
   },
   {
    "duration": 454,
    "start_time": "2023-05-02T12:40:07.446Z"
   },
   {
    "duration": 4,
    "start_time": "2023-05-02T12:43:13.622Z"
   },
   {
    "duration": 703,
    "start_time": "2023-05-02T12:43:13.780Z"
   },
   {
    "duration": 12,
    "start_time": "2023-05-02T12:43:14.485Z"
   },
   {
    "duration": 31,
    "start_time": "2023-05-02T12:43:14.498Z"
   },
   {
    "duration": 23,
    "start_time": "2023-05-02T12:43:14.535Z"
   },
   {
    "duration": 478,
    "start_time": "2023-05-02T12:43:14.561Z"
   },
   {
    "duration": 3,
    "start_time": "2023-05-02T12:43:15.041Z"
   },
   {
    "duration": 107,
    "start_time": "2023-05-02T12:43:15.371Z"
   },
   {
    "duration": 88,
    "start_time": "2023-05-02T12:43:15.524Z"
   },
   {
    "duration": 67,
    "start_time": "2023-05-02T12:43:15.719Z"
   },
   {
    "duration": 16,
    "start_time": "2023-05-02T12:43:17.222Z"
   },
   {
    "duration": 259,
    "start_time": "2023-05-02T12:43:17.383Z"
   },
   {
    "duration": 25,
    "start_time": "2023-05-02T12:43:17.644Z"
   },
   {
    "duration": 24,
    "start_time": "2023-05-02T12:43:19.572Z"
   },
   {
    "duration": 8,
    "start_time": "2023-05-02T12:43:19.949Z"
   },
   {
    "duration": 519,
    "start_time": "2023-05-02T12:43:20.134Z"
   },
   {
    "duration": 30,
    "start_time": "2023-05-02T12:44:00.872Z"
   },
   {
    "duration": 89,
    "start_time": "2023-05-02T12:44:08.440Z"
   },
   {
    "duration": 11,
    "start_time": "2023-05-02T12:44:11.468Z"
   },
   {
    "duration": 13,
    "start_time": "2023-05-02T12:44:13.744Z"
   },
   {
    "duration": 131,
    "start_time": "2023-05-02T12:44:21.411Z"
   },
   {
    "duration": 7,
    "start_time": "2023-05-02T12:44:25.343Z"
   },
   {
    "duration": 630,
    "start_time": "2023-05-02T12:44:32.319Z"
   },
   {
    "duration": 460,
    "start_time": "2023-05-02T12:45:43.381Z"
   },
   {
    "duration": 476,
    "start_time": "2023-05-02T12:46:58.878Z"
   },
   {
    "duration": 181,
    "start_time": "2023-05-02T12:47:02.210Z"
   },
   {
    "duration": 14,
    "start_time": "2023-05-02T12:47:06.115Z"
   },
   {
    "duration": 43,
    "start_time": "2023-05-02T12:47:08.023Z"
   },
   {
    "duration": 103,
    "start_time": "2023-05-02T12:47:08.950Z"
   },
   {
    "duration": 46,
    "start_time": "2023-05-02T12:47:10.079Z"
   },
   {
    "duration": 17,
    "start_time": "2023-05-02T12:47:21.167Z"
   },
   {
    "duration": 42,
    "start_time": "2023-05-02T12:47:30.057Z"
   },
   {
    "duration": 15,
    "start_time": "2023-05-02T12:47:35.327Z"
   },
   {
    "duration": 16,
    "start_time": "2023-05-02T12:47:35.715Z"
   },
   {
    "duration": 34,
    "start_time": "2023-05-02T12:47:49.125Z"
   },
   {
    "duration": 20,
    "start_time": "2023-05-02T12:53:15.406Z"
   },
   {
    "duration": 20,
    "start_time": "2023-05-02T12:53:15.828Z"
   },
   {
    "duration": 334,
    "start_time": "2023-05-02T12:53:17.740Z"
   },
   {
    "duration": 659,
    "start_time": "2023-05-02T12:54:49.100Z"
   },
   {
    "duration": 294,
    "start_time": "2023-05-02T12:54:56.402Z"
   },
   {
    "duration": 17,
    "start_time": "2023-05-02T12:59:05.690Z"
   },
   {
    "duration": 23,
    "start_time": "2023-05-02T12:59:58.060Z"
   },
   {
    "duration": 70,
    "start_time": "2023-05-02T13:00:19.341Z"
   },
   {
    "duration": 6,
    "start_time": "2023-05-02T13:00:34.270Z"
   },
   {
    "duration": 5,
    "start_time": "2023-05-02T13:00:37.206Z"
   },
   {
    "duration": 15,
    "start_time": "2023-05-02T13:01:49.200Z"
   },
   {
    "duration": 8,
    "start_time": "2023-05-02T13:01:53.224Z"
   },
   {
    "duration": 330,
    "start_time": "2023-05-02T13:02:11.937Z"
   },
   {
    "duration": 6,
    "start_time": "2023-05-02T13:02:30.257Z"
   },
   {
    "duration": 300,
    "start_time": "2023-05-02T13:02:36.650Z"
   },
   {
    "duration": 11,
    "start_time": "2023-05-02T13:03:02.107Z"
   },
   {
    "duration": 67,
    "start_time": "2023-05-02T13:03:08.002Z"
   },
   {
    "duration": 67,
    "start_time": "2023-05-02T13:03:15.164Z"
   },
   {
    "duration": 348,
    "start_time": "2023-05-02T13:03:17.205Z"
   },
   {
    "duration": 69,
    "start_time": "2023-05-02T13:03:41.229Z"
   },
   {
    "duration": 4,
    "start_time": "2023-05-02T13:04:10.697Z"
   },
   {
    "duration": 722,
    "start_time": "2023-05-02T13:04:10.853Z"
   },
   {
    "duration": 13,
    "start_time": "2023-05-02T13:04:11.576Z"
   },
   {
    "duration": 33,
    "start_time": "2023-05-02T13:04:11.590Z"
   },
   {
    "duration": 36,
    "start_time": "2023-05-02T13:04:11.625Z"
   },
   {
    "duration": 421,
    "start_time": "2023-05-02T13:04:11.663Z"
   },
   {
    "duration": 2,
    "start_time": "2023-05-02T13:04:12.100Z"
   },
   {
    "duration": 97,
    "start_time": "2023-05-02T13:04:12.445Z"
   },
   {
    "duration": 90,
    "start_time": "2023-05-02T13:04:12.621Z"
   },
   {
    "duration": 66,
    "start_time": "2023-05-02T13:04:12.869Z"
   },
   {
    "duration": 16,
    "start_time": "2023-05-02T13:04:14.229Z"
   },
   {
    "duration": 309,
    "start_time": "2023-05-02T13:04:14.400Z"
   },
   {
    "duration": 35,
    "start_time": "2023-05-02T13:04:14.711Z"
   },
   {
    "duration": 24,
    "start_time": "2023-05-02T13:04:16.157Z"
   },
   {
    "duration": 7,
    "start_time": "2023-05-02T13:04:16.454Z"
   },
   {
    "duration": 484,
    "start_time": "2023-05-02T13:04:16.613Z"
   },
   {
    "duration": 3,
    "start_time": "2023-05-02T13:04:17.098Z"
   },
   {
    "duration": 29,
    "start_time": "2023-05-02T13:04:17.134Z"
   },
   {
    "duration": 12,
    "start_time": "2023-05-02T13:04:17.393Z"
   },
   {
    "duration": 6,
    "start_time": "2023-05-02T13:04:18.229Z"
   },
   {
    "duration": 534,
    "start_time": "2023-05-02T13:04:18.400Z"
   },
   {
    "duration": 507,
    "start_time": "2023-05-02T13:04:19.200Z"
   },
   {
    "duration": 160,
    "start_time": "2023-05-02T13:04:20.342Z"
   },
   {
    "duration": 16,
    "start_time": "2023-05-02T13:04:20.765Z"
   },
   {
    "duration": 30,
    "start_time": "2023-05-02T13:04:21.711Z"
   },
   {
    "duration": 98,
    "start_time": "2023-05-02T13:04:22.613Z"
   },
   {
    "duration": 46,
    "start_time": "2023-05-02T13:04:22.805Z"
   },
   {
    "duration": 16,
    "start_time": "2023-05-02T13:04:23.195Z"
   },
   {
    "duration": 29,
    "start_time": "2023-05-02T13:04:23.733Z"
   },
   {
    "duration": 15,
    "start_time": "2023-05-02T13:04:24.429Z"
   },
   {
    "duration": 20,
    "start_time": "2023-05-02T13:04:25.262Z"
   },
   {
    "duration": 29,
    "start_time": "2023-05-02T13:04:25.757Z"
   },
   {
    "duration": 15,
    "start_time": "2023-05-02T13:04:26.022Z"
   },
   {
    "duration": 16,
    "start_time": "2023-05-02T13:04:26.325Z"
   },
   {
    "duration": 294,
    "start_time": "2023-05-02T13:04:27.832Z"
   },
   {
    "duration": 22,
    "start_time": "2023-05-02T13:04:30.586Z"
   },
   {
    "duration": 67,
    "start_time": "2023-05-02T13:04:32.062Z"
   },
   {
    "duration": 291,
    "start_time": "2023-05-02T13:04:36.098Z"
   },
   {
    "duration": 4,
    "start_time": "2023-05-02T13:05:26.536Z"
   },
   {
    "duration": 31,
    "start_time": "2023-05-02T13:05:33.552Z"
   },
   {
    "duration": 18,
    "start_time": "2023-05-02T13:05:39.449Z"
   },
   {
    "duration": 21,
    "start_time": "2023-05-02T13:07:09.102Z"
   },
   {
    "duration": 989,
    "start_time": "2023-05-02T13:08:09.823Z"
   },
   {
    "duration": 18,
    "start_time": "2023-05-02T13:08:11.446Z"
   },
   {
    "duration": 4,
    "start_time": "2023-05-02T13:08:19.135Z"
   },
   {
    "duration": 13,
    "start_time": "2023-05-02T13:08:22.814Z"
   },
   {
    "duration": 85,
    "start_time": "2023-05-02T13:08:24.482Z"
   },
   {
    "duration": 3,
    "start_time": "2023-05-02T13:08:27.630Z"
   },
   {
    "duration": 3,
    "start_time": "2023-05-02T13:27:16.805Z"
   },
   {
    "duration": 4,
    "start_time": "2023-05-02T13:27:27.701Z"
   },
   {
    "duration": 4,
    "start_time": "2023-05-02T13:27:49.773Z"
   },
   {
    "duration": 10,
    "start_time": "2023-05-02T13:28:23.036Z"
   },
   {
    "duration": 4,
    "start_time": "2023-05-02T13:28:31.229Z"
   },
   {
    "duration": 704,
    "start_time": "2023-05-02T13:28:31.356Z"
   },
   {
    "duration": 14,
    "start_time": "2023-05-02T13:28:32.062Z"
   },
   {
    "duration": 42,
    "start_time": "2023-05-02T13:28:32.077Z"
   },
   {
    "duration": 31,
    "start_time": "2023-05-02T13:28:32.121Z"
   },
   {
    "duration": 436,
    "start_time": "2023-05-02T13:28:32.154Z"
   },
   {
    "duration": 3,
    "start_time": "2023-05-02T13:28:32.592Z"
   },
   {
    "duration": 91,
    "start_time": "2023-05-02T13:28:32.756Z"
   },
   {
    "duration": 88,
    "start_time": "2023-05-02T13:28:32.907Z"
   },
   {
    "duration": 60,
    "start_time": "2023-05-02T13:28:33.044Z"
   },
   {
    "duration": 17,
    "start_time": "2023-05-02T13:28:33.348Z"
   },
   {
    "duration": 256,
    "start_time": "2023-05-02T13:28:33.514Z"
   },
   {
    "duration": 24,
    "start_time": "2023-05-02T13:28:33.771Z"
   },
   {
    "duration": 24,
    "start_time": "2023-05-02T13:28:34.004Z"
   },
   {
    "duration": 7,
    "start_time": "2023-05-02T13:28:34.356Z"
   },
   {
    "duration": 471,
    "start_time": "2023-05-02T13:28:34.572Z"
   },
   {
    "duration": 2,
    "start_time": "2023-05-02T13:28:35.045Z"
   },
   {
    "duration": 30,
    "start_time": "2023-05-02T13:28:35.261Z"
   },
   {
    "duration": 10,
    "start_time": "2023-05-02T13:28:35.521Z"
   },
   {
    "duration": 6,
    "start_time": "2023-05-02T13:28:35.741Z"
   },
   {
    "duration": 482,
    "start_time": "2023-05-02T13:28:36.149Z"
   },
   {
    "duration": 482,
    "start_time": "2023-05-02T13:28:36.909Z"
   },
   {
    "duration": 171,
    "start_time": "2023-05-02T13:28:37.393Z"
   },
   {
    "duration": 17,
    "start_time": "2023-05-02T13:28:37.565Z"
   },
   {
    "duration": 34,
    "start_time": "2023-05-02T13:28:37.964Z"
   },
   {
    "duration": 99,
    "start_time": "2023-05-02T13:28:38.261Z"
   },
   {
    "duration": 45,
    "start_time": "2023-05-02T13:28:42.149Z"
   },
   {
    "duration": 15,
    "start_time": "2023-05-02T13:28:42.548Z"
   },
   {
    "duration": 29,
    "start_time": "2023-05-02T13:28:42.948Z"
   },
   {
    "duration": 15,
    "start_time": "2023-05-02T13:28:43.325Z"
   },
   {
    "duration": 16,
    "start_time": "2023-05-02T13:28:43.532Z"
   },
   {
    "duration": 28,
    "start_time": "2023-05-02T13:28:44.011Z"
   },
   {
    "duration": 16,
    "start_time": "2023-05-02T13:28:44.236Z"
   },
   {
    "duration": 26,
    "start_time": "2023-05-02T13:28:45.422Z"
   },
   {
    "duration": 354,
    "start_time": "2023-05-02T13:28:48.422Z"
   },
   {
    "duration": 20,
    "start_time": "2023-05-02T13:28:48.778Z"
   },
   {
    "duration": 78,
    "start_time": "2023-05-02T13:28:48.799Z"
   },
   {
    "duration": 913,
    "start_time": "2023-05-02T13:28:48.879Z"
   },
   {
    "duration": 22,
    "start_time": "2023-05-02T13:28:49.795Z"
   },
   {
    "duration": 627,
    "start_time": "2023-05-02T13:28:49.819Z"
   },
   {
    "duration": 19,
    "start_time": "2023-05-02T13:28:50.448Z"
   },
   {
    "duration": 3,
    "start_time": "2023-05-02T13:28:52.541Z"
   },
   {
    "duration": 14,
    "start_time": "2023-05-02T13:28:54.908Z"
   },
   {
    "duration": 87,
    "start_time": "2023-05-02T13:28:55.318Z"
   },
   {
    "duration": 3,
    "start_time": "2023-05-02T13:28:55.933Z"
   },
   {
    "duration": 2,
    "start_time": "2023-05-02T13:28:56.245Z"
   },
   {
    "duration": 3,
    "start_time": "2023-05-02T13:28:57.276Z"
   },
   {
    "duration": 3,
    "start_time": "2023-05-02T13:28:58.453Z"
   },
   {
    "duration": 2,
    "start_time": "2023-05-02T13:28:58.725Z"
   },
   {
    "duration": 12,
    "start_time": "2023-05-02T13:28:59.408Z"
   },
   {
    "duration": 80,
    "start_time": "2023-05-02T13:29:00.407Z"
   },
   {
    "duration": 2,
    "start_time": "2023-05-02T13:29:03.525Z"
   },
   {
    "duration": 3,
    "start_time": "2023-05-02T13:29:04.208Z"
   },
   {
    "duration": 3,
    "start_time": "2023-05-02T13:29:05.404Z"
   },
   {
    "duration": 66,
    "start_time": "2023-05-02T13:29:05.877Z"
   },
   {
    "duration": 3,
    "start_time": "2023-05-02T13:30:14.321Z"
   },
   {
    "duration": 66,
    "start_time": "2023-05-02T13:30:14.822Z"
   },
   {
    "duration": 4,
    "start_time": "2023-05-02T13:30:51.199Z"
   },
   {
    "duration": 339,
    "start_time": "2023-05-02T13:30:51.554Z"
   },
   {
    "duration": 2,
    "start_time": "2023-05-02T13:31:02.308Z"
   },
   {
    "duration": 303,
    "start_time": "2023-05-02T13:31:02.605Z"
   },
   {
    "duration": 10,
    "start_time": "2023-05-02T13:32:06.909Z"
   },
   {
    "duration": 6,
    "start_time": "2023-05-02T13:32:18.606Z"
   },
   {
    "duration": 9,
    "start_time": "2023-05-02T13:32:24.837Z"
   },
   {
    "duration": 10,
    "start_time": "2023-05-02T13:32:47.142Z"
   },
   {
    "duration": 3,
    "start_time": "2023-05-02T13:34:04.701Z"
   },
   {
    "duration": 473,
    "start_time": "2023-05-02T13:34:05.040Z"
   },
   {
    "duration": 5,
    "start_time": "2023-05-02T13:34:07.057Z"
   },
   {
    "duration": 3,
    "start_time": "2023-05-02T13:35:38.309Z"
   },
   {
    "duration": 1830,
    "start_time": "2023-05-02T13:35:38.621Z"
   },
   {
    "duration": 3,
    "start_time": "2023-05-02T13:36:24.308Z"
   },
   {
    "duration": 117,
    "start_time": "2023-05-02T13:37:39.209Z"
   },
   {
    "duration": 3,
    "start_time": "2023-05-02T13:38:14.379Z"
   },
   {
    "duration": 204,
    "start_time": "2023-05-02T13:38:58.835Z"
   },
   {
    "duration": 102,
    "start_time": "2023-05-02T13:39:00.507Z"
   },
   {
    "duration": 2,
    "start_time": "2023-05-02T13:39:03.364Z"
   },
   {
    "duration": 698,
    "start_time": "2023-05-02T13:39:03.547Z"
   },
   {
    "duration": 188,
    "start_time": "2023-05-02T13:39:04.248Z"
   },
   {
    "duration": 99,
    "start_time": "2023-05-02T13:39:04.438Z"
   },
   {
    "duration": 4,
    "start_time": "2023-05-02T13:39:28.208Z"
   },
   {
    "duration": 3,
    "start_time": "2023-05-02T13:39:28.521Z"
   },
   {
    "duration": 277703,
    "start_time": "2023-05-02T13:39:28.636Z"
   },
   {
    "duration": 80,
    "start_time": "2023-05-02T13:44:06.341Z"
   },
   {
    "duration": 0,
    "start_time": "2023-05-02T13:44:06.423Z"
   },
   {
    "duration": 0,
    "start_time": "2023-05-02T13:44:06.434Z"
   },
   {
    "duration": 0,
    "start_time": "2023-05-02T13:44:06.435Z"
   },
   {
    "duration": 0,
    "start_time": "2023-05-02T13:44:06.436Z"
   },
   {
    "duration": 0,
    "start_time": "2023-05-02T13:44:06.437Z"
   },
   {
    "duration": 0,
    "start_time": "2023-05-02T13:44:06.438Z"
   },
   {
    "duration": 0,
    "start_time": "2023-05-02T13:44:06.439Z"
   },
   {
    "duration": 0,
    "start_time": "2023-05-02T13:44:06.440Z"
   },
   {
    "duration": 0,
    "start_time": "2023-05-02T13:44:06.441Z"
   },
   {
    "duration": 4,
    "start_time": "2023-05-02T13:45:58.356Z"
   },
   {
    "duration": 4,
    "start_time": "2023-05-02T13:46:04.348Z"
   },
   {
    "duration": 5,
    "start_time": "2023-05-02T13:46:15.452Z"
   },
   {
    "duration": 4,
    "start_time": "2023-05-02T13:46:25.285Z"
   },
   {
    "duration": 4,
    "start_time": "2023-05-02T13:46:35.905Z"
   },
   {
    "duration": 4,
    "start_time": "2023-05-02T13:46:50.402Z"
   },
   {
    "duration": 5,
    "start_time": "2023-05-02T13:46:57.975Z"
   },
   {
    "duration": 17,
    "start_time": "2023-05-02T13:47:04.769Z"
   },
   {
    "duration": 4,
    "start_time": "2023-05-02T13:47:13.679Z"
   },
   {
    "duration": 107,
    "start_time": "2023-05-02T13:47:35.775Z"
   },
   {
    "duration": 353,
    "start_time": "2023-05-02T13:47:38.120Z"
   },
   {
    "duration": 231,
    "start_time": "2023-05-02T13:47:53.056Z"
   },
   {
    "duration": 71,
    "start_time": "2023-05-02T13:48:08.410Z"
   },
   {
    "duration": 3,
    "start_time": "2023-05-02T13:48:09.265Z"
   },
   {
    "duration": 3,
    "start_time": "2023-05-02T13:48:10.760Z"
   },
   {
    "duration": 1833,
    "start_time": "2023-05-02T13:48:11.320Z"
   },
   {
    "duration": 377,
    "start_time": "2023-05-02T13:48:18.119Z"
   },
   {
    "duration": 172,
    "start_time": "2023-05-02T13:48:31.257Z"
   },
   {
    "duration": 103,
    "start_time": "2023-05-02T13:48:32.210Z"
   },
   {
    "duration": 7582,
    "start_time": "2023-05-02T13:48:54.712Z"
   },
   {
    "duration": 358,
    "start_time": "2023-05-02T13:49:36.277Z"
   },
   {
    "duration": 18,
    "start_time": "2023-05-02T13:49:41.844Z"
   },
   {
    "duration": 50,
    "start_time": "2023-05-02T13:49:53.053Z"
   },
   {
    "duration": 2,
    "start_time": "2023-05-02T13:50:00.278Z"
   },
   {
    "duration": 381,
    "start_time": "2023-05-02T13:50:00.556Z"
   },
   {
    "duration": 98,
    "start_time": "2023-05-02T13:50:00.940Z"
   },
   {
    "duration": 35,
    "start_time": "2023-05-02T13:50:01.136Z"
   },
   {
    "duration": 75,
    "start_time": "2023-05-02T13:50:14.358Z"
   },
   {
    "duration": 2,
    "start_time": "2023-05-02T13:50:14.678Z"
   },
   {
    "duration": 3,
    "start_time": "2023-05-02T13:50:14.822Z"
   },
   {
    "duration": 1967,
    "start_time": "2023-05-02T13:50:14.974Z"
   },
   {
    "duration": 174,
    "start_time": "2023-05-02T13:50:16.943Z"
   },
   {
    "duration": 106,
    "start_time": "2023-05-02T13:50:17.119Z"
   },
   {
    "duration": 858,
    "start_time": "2023-05-02T13:50:17.227Z"
   },
   {
    "duration": 2,
    "start_time": "2023-05-02T13:50:18.087Z"
   },
   {
    "duration": 353,
    "start_time": "2023-05-02T13:50:18.091Z"
   },
   {
    "duration": 89,
    "start_time": "2023-05-02T13:50:18.446Z"
   },
   {
    "duration": 124,
    "start_time": "2023-05-02T13:50:18.538Z"
   },
   {
    "duration": 4,
    "start_time": "2023-05-02T13:50:20.382Z"
   },
   {
    "duration": 3,
    "start_time": "2023-05-02T13:50:22.077Z"
   },
   {
    "duration": 275489,
    "start_time": "2023-05-02T13:50:22.509Z"
   },
   {
    "duration": 40952,
    "start_time": "2023-05-02T13:54:58.000Z"
   },
   {
    "duration": 47195,
    "start_time": "2023-05-02T13:55:38.953Z"
   },
   {
    "duration": 5,
    "start_time": "2023-05-02T14:05:59.787Z"
   },
   {
    "duration": 11,
    "start_time": "2023-05-02T14:06:00.145Z"
   },
   {
    "duration": 6,
    "start_time": "2023-05-02T14:06:05.631Z"
   },
   {
    "duration": 7,
    "start_time": "2023-05-02T14:06:05.968Z"
   },
   {
    "duration": 6,
    "start_time": "2023-05-02T14:06:06.307Z"
   },
   {
    "duration": 23,
    "start_time": "2023-05-02T14:06:09.597Z"
   },
   {
    "duration": 5,
    "start_time": "2023-05-02T14:06:10.120Z"
   },
   {
    "duration": 15787,
    "start_time": "2023-05-02T14:06:10.609Z"
   },
   {
    "duration": 97,
    "start_time": "2023-05-02T14:07:18.651Z"
   },
   {
    "duration": 125,
    "start_time": "2023-05-02T14:13:43.003Z"
   },
   {
    "duration": 1398,
    "start_time": "2023-05-02T14:28:42.524Z"
   },
   {
    "duration": 796,
    "start_time": "2023-05-02T14:28:43.924Z"
   },
   {
    "duration": 19,
    "start_time": "2023-05-02T14:28:44.721Z"
   },
   {
    "duration": 32,
    "start_time": "2023-05-02T14:28:44.741Z"
   },
   {
    "duration": 28,
    "start_time": "2023-05-02T14:28:44.775Z"
   },
   {
    "duration": 584,
    "start_time": "2023-05-02T14:28:44.804Z"
   },
   {
    "duration": 2,
    "start_time": "2023-05-02T14:28:45.390Z"
   },
   {
    "duration": 119,
    "start_time": "2023-05-02T14:28:45.394Z"
   },
   {
    "duration": 105,
    "start_time": "2023-05-02T14:28:45.515Z"
   },
   {
    "duration": 77,
    "start_time": "2023-05-02T14:28:45.622Z"
   },
   {
    "duration": 17,
    "start_time": "2023-05-02T14:28:45.700Z"
   },
   {
    "duration": 321,
    "start_time": "2023-05-02T14:28:45.719Z"
   },
   {
    "duration": 37,
    "start_time": "2023-05-02T14:28:46.043Z"
   },
   {
    "duration": 52,
    "start_time": "2023-05-02T14:28:46.083Z"
   },
   {
    "duration": 9,
    "start_time": "2023-05-02T14:28:46.136Z"
   },
   {
    "duration": 588,
    "start_time": "2023-05-02T14:28:46.146Z"
   },
   {
    "duration": 3,
    "start_time": "2023-05-02T14:28:46.736Z"
   },
   {
    "duration": 56,
    "start_time": "2023-05-02T14:28:46.740Z"
   },
   {
    "duration": 11,
    "start_time": "2023-05-02T14:28:46.797Z"
   },
   {
    "duration": 5,
    "start_time": "2023-05-02T14:28:46.810Z"
   },
   {
    "duration": 598,
    "start_time": "2023-05-02T14:28:46.817Z"
   },
   {
    "duration": 526,
    "start_time": "2023-05-02T14:28:47.417Z"
   },
   {
    "duration": 191,
    "start_time": "2023-05-02T14:28:47.945Z"
   },
   {
    "duration": 21,
    "start_time": "2023-05-02T14:28:48.138Z"
   },
   {
    "duration": 39,
    "start_time": "2023-05-02T14:28:48.161Z"
   },
   {
    "duration": 149,
    "start_time": "2023-05-02T14:28:48.202Z"
   },
   {
    "duration": 53,
    "start_time": "2023-05-02T14:28:48.353Z"
   },
   {
    "duration": 31,
    "start_time": "2023-05-02T14:28:48.408Z"
   },
   {
    "duration": 64,
    "start_time": "2023-05-02T14:28:48.441Z"
   },
   {
    "duration": 92,
    "start_time": "2023-05-02T14:28:48.507Z"
   },
   {
    "duration": 117,
    "start_time": "2023-05-02T14:28:48.601Z"
   },
   {
    "duration": 103,
    "start_time": "2023-05-02T14:28:48.720Z"
   },
   {
    "duration": 60,
    "start_time": "2023-05-02T14:28:48.825Z"
   },
   {
    "duration": 59,
    "start_time": "2023-05-02T14:28:48.886Z"
   },
   {
    "duration": 387,
    "start_time": "2023-05-02T14:28:48.947Z"
   },
   {
    "duration": 23,
    "start_time": "2023-05-02T14:28:49.336Z"
   },
   {
    "duration": 89,
    "start_time": "2023-05-02T14:28:49.361Z"
   },
   {
    "duration": 357,
    "start_time": "2023-05-02T14:28:49.452Z"
   },
   {
    "duration": 32,
    "start_time": "2023-05-02T14:28:49.811Z"
   },
   {
    "duration": 734,
    "start_time": "2023-05-02T14:28:49.845Z"
   },
   {
    "duration": 22,
    "start_time": "2023-05-02T14:28:50.583Z"
   },
   {
    "duration": 4,
    "start_time": "2023-05-02T14:28:50.607Z"
   },
   {
    "duration": 32,
    "start_time": "2023-05-02T14:28:50.613Z"
   },
   {
    "duration": 118,
    "start_time": "2023-05-02T14:28:50.646Z"
   },
   {
    "duration": 13,
    "start_time": "2023-05-02T14:28:50.765Z"
   },
   {
    "duration": 97,
    "start_time": "2023-05-02T14:28:50.780Z"
   },
   {
    "duration": 3,
    "start_time": "2023-05-02T14:28:50.878Z"
   },
   {
    "duration": 26,
    "start_time": "2023-05-02T14:28:50.882Z"
   },
   {
    "duration": 1951,
    "start_time": "2023-05-02T14:28:50.910Z"
   },
   {
    "duration": 178,
    "start_time": "2023-05-02T14:28:52.862Z"
   },
   {
    "duration": 109,
    "start_time": "2023-05-02T14:28:53.042Z"
   },
   {
    "duration": 815,
    "start_time": "2023-05-02T14:28:53.153Z"
   },
   {
    "duration": 2,
    "start_time": "2023-05-02T14:28:53.970Z"
   },
   {
    "duration": 361,
    "start_time": "2023-05-02T14:28:53.974Z"
   },
   {
    "duration": 9,
    "start_time": "2023-05-02T14:28:54.337Z"
   },
   {
    "duration": 101,
    "start_time": "2023-05-02T14:28:54.435Z"
   },
   {
    "duration": 39,
    "start_time": "2023-05-02T14:28:54.538Z"
   },
   {
    "duration": 32,
    "start_time": "2023-05-02T14:28:54.579Z"
   },
   {
    "duration": 288228,
    "start_time": "2023-05-02T14:28:54.613Z"
   },
   {
    "duration": 39004,
    "start_time": "2023-05-02T14:33:42.843Z"
   },
   {
    "duration": 46364,
    "start_time": "2023-05-02T14:34:21.849Z"
   },
   {
    "duration": 4,
    "start_time": "2023-05-02T14:35:08.214Z"
   },
   {
    "duration": 17,
    "start_time": "2023-05-02T14:35:08.220Z"
   },
   {
    "duration": 12,
    "start_time": "2023-05-02T14:35:08.239Z"
   },
   {
    "duration": 23,
    "start_time": "2023-05-02T14:35:08.253Z"
   },
   {
    "duration": 13,
    "start_time": "2023-05-02T14:35:08.277Z"
   },
   {
    "duration": 24,
    "start_time": "2023-05-02T14:35:08.292Z"
   },
   {
    "duration": 4,
    "start_time": "2023-05-02T14:35:08.318Z"
   },
   {
    "duration": 15680,
    "start_time": "2023-05-02T14:35:08.323Z"
   }
  ],
  "kernelspec": {
   "display_name": "Python 3 (ipykernel)",
   "language": "python",
   "name": "python3"
  },
  "language_info": {
   "codemirror_mode": {
    "name": "ipython",
    "version": 3
   },
   "file_extension": ".py",
   "mimetype": "text/x-python",
   "name": "python",
   "nbconvert_exporter": "python",
   "pygments_lexer": "ipython3",
   "version": "3.9.13"
  },
  "toc": {
   "base_numbering": 1,
   "nav_menu": {
    "height": "449px",
    "width": "332px"
   },
   "number_sections": true,
   "sideBar": true,
   "skip_h1_title": true,
   "title_cell": "Table of Contents",
   "title_sidebar": "Contents",
   "toc_cell": false,
   "toc_position": {
    "height": "calc(100% - 180px)",
    "left": "10px",
    "top": "150px",
    "width": "384px"
   },
   "toc_section_display": true,
   "toc_window_display": true
  }
 },
 "nbformat": 4,
 "nbformat_minor": 2
}
